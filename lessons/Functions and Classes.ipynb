{
 "cells": [
  {
   "cell_type": "markdown",
   "metadata": {},
   "source": [
    "# Functions & Classes In Python\n",
    "\n",
    "## In This Lesson\n",
    "* Functions Basics\n",
    "* Scope in functions\n",
    "* Arguments\n",
    "* Classes"
   ]
  },
  {
   "cell_type": "markdown",
   "metadata": {},
   "source": [
    "# Function Basics\n",
    "\n",
    "A function is a block of code which you can attach to a name for convenience.\n",
    "\n",
    "A function takes arguments, in the example below, a & b.\n",
    "\n",
    "A function returns a value using the return keyword"
   ]
  },
  {
   "cell_type": "code",
   "execution_count": null,
   "metadata": {},
   "outputs": [],
   "source": [
    "\n",
    "def multiply(a, b):\n",
    "    answer = a * b\n",
    "    return answer\n",
    "\n",
    "returned_calculation = multiply(2, 3)\n",
    "\n",
    "print(returned_calculation)\n"
   ]
  },
  {
   "cell_type": "markdown",
   "metadata": {},
   "source": [
    "## Exercise\n",
    "Anywhere you repeat the same code, ask yourself, 'can I use a function instead?'"
   ]
  },
  {
   "cell_type": "code",
   "execution_count": null,
   "metadata": {},
   "outputs": [],
   "source": [
    "\n",
    "my_string = \"Python is the best programming language!\"\n",
    "\n",
    "number_of_a = 0\n",
    "for character in my_string:\n",
    "    if character == \"a\":\n",
    "        number_of_a += 1\n",
    "        \n",
    "number_of_b = 0\n",
    "for character in my_string:\n",
    "    if character == \"b\":\n",
    "        number_of_b += 1\n",
    "\n",
    "print(f\"My string has {number_of_a} as and {number_of_b} bs.\")\n"
   ]
  },
  {
   "cell_type": "markdown",
   "metadata": {},
   "source": [
    "Can you improve the above code by using a function?"
   ]
  },
  {
   "cell_type": "code",
   "execution_count": null,
   "metadata": {},
   "outputs": [],
   "source": [
    "\n",
    "my_string = \"Python is the best programming language!\"\n",
    "\n",
    "number_of_a = 0\n",
    "number_of_b = 0\n",
    "\n",
    "print(f\"My string has {number_of_a} as and {number_of_b} bs.\")\n"
   ]
  },
  {
   "cell_type": "markdown",
   "metadata": {},
   "source": [
    "## Solution:"
   ]
  },
  {
   "cell_type": "code",
   "execution_count": null,
   "metadata": {},
   "outputs": [],
   "source": [
    "\n",
    "my_string = \"Python is the best programming language!\"\n",
    "\n",
    "\n",
    "def count_letters(string, letter):\n",
    "    count = 0\n",
    "    for character in string:\n",
    "        if character == letter:\n",
    "            count += 1\n",
    "    return count\n",
    "\n",
    "\n",
    "number_of_a = count_letters(my_string, \"a\")\n",
    "number_of_b = count_letters(my_string, \"b\")\n",
    "\n",
    "print(f\"My string has {number_of_a} as and {number_of_b} bs.\")\n"
   ]
  },
  {
   "cell_type": "markdown",
   "metadata": {},
   "source": [
    "# Scope in Functions\n",
    "## Question\n",
    "What does the following code produce?"
   ]
  },
  {
   "cell_type": "code",
   "execution_count": null,
   "metadata": {},
   "outputs": [],
   "source": [
    "\n",
    "string = \"This is a string.\"\n",
    "count = 5\n",
    "\n",
    "\n",
    "def count_letters(string, letter):\n",
    "    count = 0\n",
    "    for character in string:\n",
    "        if character == letter:\n",
    "            count += 1\n",
    "    return count\n",
    "\n",
    "\n",
    "n_letters = count_letters(\"hello world\", \"l\")\n",
    "\n",
    "print(n_letters)\n",
    "print(count)\n"
   ]
  },
  {
   "cell_type": "markdown",
   "metadata": {},
   "source": [
    "* Is this what you expected?\n",
    "* Why?"
   ]
  },
  {
   "cell_type": "markdown",
   "metadata": {},
   "source": [
    "# Arguments\n",
    "Functions have two kinds of arguments, positional and named arguments. All the arguments we have seen so far are positional arguments, so called because the position or order of the arguments matters.\n",
    "\n",
    "Below is an example using both named and positional arguments."
   ]
  },
  {
   "cell_type": "code",
   "execution_count": null,
   "metadata": {},
   "outputs": [],
   "source": [
    "\n",
    "def fizzbuzz(number, fizz_at=3, buzz_at=5, fizz=\"fizz\", buzz=\"buzz\"):\n",
    "    output = \"\"\n",
    "    \n",
    "    if number % fizz_at == 0:\n",
    "        output += fizz\n",
    "    if number % buzz_at == 0:\n",
    "        output += buzz\n",
    "    \n",
    "    if output == \"\":\n",
    "        print(number)\n",
    "    else:\n",
    "        print(output)\n",
    "\n",
    "    \n",
    "for i in range(1, 16):\n",
    "    fizzbuzz(i)\n",
    "    "
   ]
  },
  {
   "cell_type": "markdown",
   "metadata": {},
   "source": [
    "Try providing named arguments to the function call above and see how you can change the outputs."
   ]
  },
  {
   "cell_type": "markdown",
   "metadata": {},
   "source": [
    "# Classes\n",
    "Classes are structures which combine functions and variables, they can be incredibly powerful and as such are very popular to use in libraries. Most key python libraries use classes, so even if you don't need to create your own, understanding classes is very important."
   ]
  },
  {
   "cell_type": "code",
   "execution_count": null,
   "metadata": {},
   "outputs": [],
   "source": [
    "\n",
    "class AppleTree:\n",
    "    def __init__(self, age):\n",
    "        self.age = age\n",
    "        self.season = 0\n",
    "        self.apples = 0\n",
    "        \n",
    "    def __grow_apples(self):\n",
    "        if self.age > 15:\n",
    "            self.apples += 30\n",
    "        elif self.age > 10:\n",
    "            self.apples += 10\n",
    "        \n",
    "    def next_season(self):\n",
    "        self.season += 1\n",
    "        # Check if a new year\n",
    "        if self.season == 4:\n",
    "            self.season = 0\n",
    "            self.apples = 0\n",
    "            self.age += 1\n",
    "        # in autum grow apples\n",
    "        if self.season == 3:\n",
    "            self.__grow_apples()\n",
    "    \n",
    "    def pick_apples(self, max_pick=None):\n",
    "        if (max_pick is None) or (max_pick >= self.apples):\n",
    "            picked = self.apples\n",
    "            self.apples = 0\n",
    "        else:\n",
    "            picked = max_pick\n",
    "            self.apples -= max_pick\n",
    "        return picked\n"
   ]
  },
  {
   "cell_type": "markdown",
   "metadata": {},
   "source": [
    "The above class defines a simple apple tree, which can grow apples and have them picked. A few key things to note:\n",
    "* Functions in classes are called 'methods'.\n",
    "* Variables in classes are called 'attributes'.\n",
    "* The first positional argument of all methods is 'self' this variable is used for the apple tree to refer to itself.\n",
    "* some methods feature '__', on both sides of a method this is used to denote special functions for classes, such as the initialisation method. It can also be used to specify 'private' methods.\n",
    "\n",
    "See a quick example below of how we might use an apple tree class."
   ]
  },
  {
   "cell_type": "code",
   "execution_count": null,
   "metadata": {},
   "outputs": [],
   "source": [
    "\n",
    "apple_tree = AppleTree(20)\n",
    "\n",
    "apples_picked = 0\n",
    "\n",
    "# Run 10 seasons\n",
    "for i in range(10):\n",
    "    apple_tree.next_season()\n",
    "    if apple_tree.season == 3:\n",
    "        apples_picked += apple_tree.pick_apples()\n",
    "\n",
    "print(\"Overall, we picked {} apples.\".format(apples_picked))\n"
   ]
  },
  {
   "cell_type": "markdown",
   "metadata": {},
   "source": [
    "You can define multiple instances of a class, each with independent attributes."
   ]
  },
  {
   "cell_type": "code",
   "execution_count": null,
   "metadata": {},
   "outputs": [],
   "source": [
    "\n",
    "tree1 = AppleTree(20)\n",
    "tree2 = AppleTree(30)\n",
    "\n",
    "print(\"Tree 1 is {} years old and tree 2 is {} years old.\".format(tree1.age, tree2.age))\n"
   ]
  },
  {
   "cell_type": "markdown",
   "metadata": {},
   "source": [
    "## Exercise\n",
    "\n",
    "Use the AppleTree class to write some code for an orchard of apple trees, which picks apples and plants new trees every year."
   ]
  },
  {
   "cell_type": "code",
   "execution_count": null,
   "metadata": {},
   "outputs": [],
   "source": [
    "\n",
    "\n",
    "\n",
    "\n",
    "\n",
    "\n",
    "\n",
    "\n",
    "\n",
    "\n",
    "\n",
    "\n",
    "\n",
    "\n",
    "\n",
    "\n",
    "\n",
    "\n",
    "\n",
    "\n",
    "\n",
    "\n",
    "\n"
   ]
  },
  {
   "cell_type": "markdown",
   "metadata": {},
   "source": [
    "## Solution:"
   ]
  },
  {
   "cell_type": "code",
   "execution_count": null,
   "metadata": {},
   "outputs": [],
   "source": [
    "\n",
    "trees = []\n",
    "\n",
    "years_to_run = 25\n",
    "\n",
    "apple_log = []\n",
    "\n",
    "for year in range(years_to_run):\n",
    "    # Plant a new tree every year\n",
    "    trees.append(AppleTree(0))\n",
    "    # Run to autum\n",
    "    for tree in trees:\n",
    "        tree.next_season() # Spring\n",
    "        tree.next_season() # Summer\n",
    "        tree.next_season() # Autum\n",
    "    \n",
    "    # Pick apples and move to winter\n",
    "    annual_apples = 0\n",
    "    for tree in trees:\n",
    "        annual_apples += tree.pick_apples()\n",
    "        tree.next_season() # Winter\n",
    "    apple_log.append(annual_apples)\n",
    "\n",
    "# Plot how many apples we have year on year\n",
    "import matplotlib.pyplot as plt\n",
    "\n",
    "plt.plot(range(years_to_run), apple_log)\n",
    "plt.xlabel(\"Year\")\n",
    "plt.ylabel(\"Apples\")\n",
    "plt.show()\n",
    "    "
   ]
  },
  {
   "cell_type": "markdown",
   "metadata": {},
   "source": [
    "# Recap\n",
    "Today we have covered:\n",
    "* How to define functions\n",
    "* The scope of variables within functions is limited to them\n",
    "* Functions can have positional and named arguments\n",
    "* What is a class and how to use them"
   ]
  },
  {
   "cell_type": "markdown",
   "metadata": {},
   "source": [
    "# Homework\n",
    "\n",
    "Create a class for regular polygons of any number of sides. The class should contain functions to calculate  the area and perimeter of the shape.\n"
   ]
  },
  {
   "cell_type": "code",
   "execution_count": null,
   "metadata": {},
   "outputs": [],
   "source": []
  }
 ],
 "metadata": {
  "kernelspec": {
   "display_name": "Python 3",
   "language": "python",
   "name": "python3"
  },
  "language_info": {
   "codemirror_mode": {
    "name": "ipython",
    "version": 3
   },
   "file_extension": ".py",
   "mimetype": "text/x-python",
   "name": "python",
   "nbconvert_exporter": "python",
   "pygments_lexer": "ipython3",
   "version": "3.8.5"
  }
 },
 "nbformat": 4,
 "nbformat_minor": 4
}
