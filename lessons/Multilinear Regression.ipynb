{
 "cells": [
  {
   "cell_type": "markdown",
   "metadata": {},
   "source": [
    "# Multilinear Regression\n",
    "\n",
    "## In this Lesson\n",
    "* Data Exploration\n",
    "* Simple Linear Regression\n",
    "* Coefficients\n",
    "* Multilinear Regression\n",
    "* One-Hot Encoding\n",
    "\n",
    "_N.B. Multilinear Regression is covered in my [main regression lession](https://github.com/Jack-Lawton/python-resources/blob/main/lessons/Regression.ipynb), but this represents a deeper dive on multilinear regression specifically._\n"
   ]
  },
  {
   "cell_type": "markdown",
   "metadata": {},
   "source": [
    "# Data\n",
    "\n",
    "For this lesson, we will be using London bike hire data [sourced from Kaggle](https://www.kaggle.com/datasets/hmavrodiev/london-bike-sharing-dataset). For convenience, I have included the data in this Git repository.\n",
    "\n",
    "First let's load in the data with Python."
   ]
  },
  {
   "cell_type": "code",
   "execution_count": 1,
   "metadata": {},
   "outputs": [
    {
     "data": {
      "text/html": [
       "<div>\n",
       "<style scoped>\n",
       "    .dataframe tbody tr th:only-of-type {\n",
       "        vertical-align: middle;\n",
       "    }\n",
       "\n",
       "    .dataframe tbody tr th {\n",
       "        vertical-align: top;\n",
       "    }\n",
       "\n",
       "    .dataframe thead th {\n",
       "        text-align: right;\n",
       "    }\n",
       "</style>\n",
       "<table border=\"1\" class=\"dataframe\">\n",
       "  <thead>\n",
       "    <tr style=\"text-align: right;\">\n",
       "      <th></th>\n",
       "      <th>timestamp</th>\n",
       "      <th>cnt</th>\n",
       "      <th>t1</th>\n",
       "      <th>t2</th>\n",
       "      <th>hum</th>\n",
       "      <th>wind_speed</th>\n",
       "      <th>weather_code</th>\n",
       "      <th>is_holiday</th>\n",
       "      <th>is_weekend</th>\n",
       "      <th>season</th>\n",
       "    </tr>\n",
       "  </thead>\n",
       "  <tbody>\n",
       "    <tr>\n",
       "      <th>0</th>\n",
       "      <td>2015-01-04 00:00:00</td>\n",
       "      <td>182</td>\n",
       "      <td>3.0</td>\n",
       "      <td>2.0</td>\n",
       "      <td>93.0</td>\n",
       "      <td>6.0</td>\n",
       "      <td>3.0</td>\n",
       "      <td>0.0</td>\n",
       "      <td>1.0</td>\n",
       "      <td>3.0</td>\n",
       "    </tr>\n",
       "    <tr>\n",
       "      <th>1</th>\n",
       "      <td>2015-01-04 01:00:00</td>\n",
       "      <td>138</td>\n",
       "      <td>3.0</td>\n",
       "      <td>2.5</td>\n",
       "      <td>93.0</td>\n",
       "      <td>5.0</td>\n",
       "      <td>1.0</td>\n",
       "      <td>0.0</td>\n",
       "      <td>1.0</td>\n",
       "      <td>3.0</td>\n",
       "    </tr>\n",
       "    <tr>\n",
       "      <th>2</th>\n",
       "      <td>2015-01-04 02:00:00</td>\n",
       "      <td>134</td>\n",
       "      <td>2.5</td>\n",
       "      <td>2.5</td>\n",
       "      <td>96.5</td>\n",
       "      <td>0.0</td>\n",
       "      <td>1.0</td>\n",
       "      <td>0.0</td>\n",
       "      <td>1.0</td>\n",
       "      <td>3.0</td>\n",
       "    </tr>\n",
       "    <tr>\n",
       "      <th>3</th>\n",
       "      <td>2015-01-04 03:00:00</td>\n",
       "      <td>72</td>\n",
       "      <td>2.0</td>\n",
       "      <td>2.0</td>\n",
       "      <td>100.0</td>\n",
       "      <td>0.0</td>\n",
       "      <td>1.0</td>\n",
       "      <td>0.0</td>\n",
       "      <td>1.0</td>\n",
       "      <td>3.0</td>\n",
       "    </tr>\n",
       "    <tr>\n",
       "      <th>4</th>\n",
       "      <td>2015-01-04 04:00:00</td>\n",
       "      <td>47</td>\n",
       "      <td>2.0</td>\n",
       "      <td>0.0</td>\n",
       "      <td>93.0</td>\n",
       "      <td>6.5</td>\n",
       "      <td>1.0</td>\n",
       "      <td>0.0</td>\n",
       "      <td>1.0</td>\n",
       "      <td>3.0</td>\n",
       "    </tr>\n",
       "    <tr>\n",
       "      <th>...</th>\n",
       "      <td>...</td>\n",
       "      <td>...</td>\n",
       "      <td>...</td>\n",
       "      <td>...</td>\n",
       "      <td>...</td>\n",
       "      <td>...</td>\n",
       "      <td>...</td>\n",
       "      <td>...</td>\n",
       "      <td>...</td>\n",
       "      <td>...</td>\n",
       "    </tr>\n",
       "    <tr>\n",
       "      <th>17409</th>\n",
       "      <td>2017-01-03 19:00:00</td>\n",
       "      <td>1042</td>\n",
       "      <td>5.0</td>\n",
       "      <td>1.0</td>\n",
       "      <td>81.0</td>\n",
       "      <td>19.0</td>\n",
       "      <td>3.0</td>\n",
       "      <td>0.0</td>\n",
       "      <td>0.0</td>\n",
       "      <td>3.0</td>\n",
       "    </tr>\n",
       "    <tr>\n",
       "      <th>17410</th>\n",
       "      <td>2017-01-03 20:00:00</td>\n",
       "      <td>541</td>\n",
       "      <td>5.0</td>\n",
       "      <td>1.0</td>\n",
       "      <td>81.0</td>\n",
       "      <td>21.0</td>\n",
       "      <td>4.0</td>\n",
       "      <td>0.0</td>\n",
       "      <td>0.0</td>\n",
       "      <td>3.0</td>\n",
       "    </tr>\n",
       "    <tr>\n",
       "      <th>17411</th>\n",
       "      <td>2017-01-03 21:00:00</td>\n",
       "      <td>337</td>\n",
       "      <td>5.5</td>\n",
       "      <td>1.5</td>\n",
       "      <td>78.5</td>\n",
       "      <td>24.0</td>\n",
       "      <td>4.0</td>\n",
       "      <td>0.0</td>\n",
       "      <td>0.0</td>\n",
       "      <td>3.0</td>\n",
       "    </tr>\n",
       "    <tr>\n",
       "      <th>17412</th>\n",
       "      <td>2017-01-03 22:00:00</td>\n",
       "      <td>224</td>\n",
       "      <td>5.5</td>\n",
       "      <td>1.5</td>\n",
       "      <td>76.0</td>\n",
       "      <td>23.0</td>\n",
       "      <td>4.0</td>\n",
       "      <td>0.0</td>\n",
       "      <td>0.0</td>\n",
       "      <td>3.0</td>\n",
       "    </tr>\n",
       "    <tr>\n",
       "      <th>17413</th>\n",
       "      <td>2017-01-03 23:00:00</td>\n",
       "      <td>139</td>\n",
       "      <td>5.0</td>\n",
       "      <td>1.0</td>\n",
       "      <td>76.0</td>\n",
       "      <td>22.0</td>\n",
       "      <td>2.0</td>\n",
       "      <td>0.0</td>\n",
       "      <td>0.0</td>\n",
       "      <td>3.0</td>\n",
       "    </tr>\n",
       "  </tbody>\n",
       "</table>\n",
       "<p>17414 rows × 10 columns</p>\n",
       "</div>"
      ],
      "text/plain": [
       "                 timestamp   cnt   t1   t2    hum  wind_speed  weather_code  \\\n",
       "0      2015-01-04 00:00:00   182  3.0  2.0   93.0         6.0           3.0   \n",
       "1      2015-01-04 01:00:00   138  3.0  2.5   93.0         5.0           1.0   \n",
       "2      2015-01-04 02:00:00   134  2.5  2.5   96.5         0.0           1.0   \n",
       "3      2015-01-04 03:00:00    72  2.0  2.0  100.0         0.0           1.0   \n",
       "4      2015-01-04 04:00:00    47  2.0  0.0   93.0         6.5           1.0   \n",
       "...                    ...   ...  ...  ...    ...         ...           ...   \n",
       "17409  2017-01-03 19:00:00  1042  5.0  1.0   81.0        19.0           3.0   \n",
       "17410  2017-01-03 20:00:00   541  5.0  1.0   81.0        21.0           4.0   \n",
       "17411  2017-01-03 21:00:00   337  5.5  1.5   78.5        24.0           4.0   \n",
       "17412  2017-01-03 22:00:00   224  5.5  1.5   76.0        23.0           4.0   \n",
       "17413  2017-01-03 23:00:00   139  5.0  1.0   76.0        22.0           2.0   \n",
       "\n",
       "       is_holiday  is_weekend  season  \n",
       "0             0.0         1.0     3.0  \n",
       "1             0.0         1.0     3.0  \n",
       "2             0.0         1.0     3.0  \n",
       "3             0.0         1.0     3.0  \n",
       "4             0.0         1.0     3.0  \n",
       "...           ...         ...     ...  \n",
       "17409         0.0         0.0     3.0  \n",
       "17410         0.0         0.0     3.0  \n",
       "17411         0.0         0.0     3.0  \n",
       "17412         0.0         0.0     3.0  \n",
       "17413         0.0         0.0     3.0  \n",
       "\n",
       "[17414 rows x 10 columns]"
      ]
     },
     "metadata": {},
     "output_type": "display_data"
    }
   ],
   "source": [
    "\n",
    "# Pandas to read the data\n",
    "import pandas as pd\n",
    "# Display function to view data\n",
    "from IPython.display import display\n",
    "\n",
    "# Read excel\n",
    "df = pd.read_csv(\"../data/london_cycle_hire.csv\")\n",
    "\n",
    "# Display\n",
    "display(df)\n"
   ]
  },
  {
   "cell_type": "markdown",
   "metadata": {},
   "source": [
    "As you can see, the data contains the count of total cycles hired for a range of days between 2015 and 2017, combined with weather and other contextual information, such as holidays and weekends.\n",
    "\n",
    "For simplicity, let's say we only want to model behaviour over the weekend and reduce our data accordingly.\n"
   ]
  },
  {
   "cell_type": "code",
   "execution_count": null,
   "metadata": {},
   "outputs": [],
   "source": [
    "\n",
    "\n",
    "\n",
    "\n",
    "\n",
    "\n",
    "\n",
    "\n",
    "\n",
    "\n",
    "\n",
    "\n",
    "\n"
   ]
  },
  {
   "cell_type": "markdown",
   "metadata": {},
   "source": [
    "## Solution"
   ]
  },
  {
   "cell_type": "code",
   "execution_count": 35,
   "metadata": {},
   "outputs": [
    {
     "data": {
      "text/html": [
       "<div>\n",
       "<style scoped>\n",
       "    .dataframe tbody tr th:only-of-type {\n",
       "        vertical-align: middle;\n",
       "    }\n",
       "\n",
       "    .dataframe tbody tr th {\n",
       "        vertical-align: top;\n",
       "    }\n",
       "\n",
       "    .dataframe thead th {\n",
       "        text-align: right;\n",
       "    }\n",
       "</style>\n",
       "<table border=\"1\" class=\"dataframe\">\n",
       "  <thead>\n",
       "    <tr style=\"text-align: right;\">\n",
       "      <th></th>\n",
       "      <th>timestamp</th>\n",
       "      <th>cnt</th>\n",
       "      <th>t1</th>\n",
       "      <th>t2</th>\n",
       "      <th>hum</th>\n",
       "      <th>wind_speed</th>\n",
       "      <th>weather_code</th>\n",
       "      <th>is_holiday</th>\n",
       "      <th>is_weekend</th>\n",
       "      <th>season</th>\n",
       "    </tr>\n",
       "  </thead>\n",
       "  <tbody>\n",
       "    <tr>\n",
       "      <th>0</th>\n",
       "      <td>2015-01-04 00:00:00</td>\n",
       "      <td>182</td>\n",
       "      <td>3.0</td>\n",
       "      <td>2.0</td>\n",
       "      <td>93.0</td>\n",
       "      <td>6.0</td>\n",
       "      <td>3.0</td>\n",
       "      <td>0.0</td>\n",
       "      <td>1.0</td>\n",
       "      <td>3.0</td>\n",
       "    </tr>\n",
       "    <tr>\n",
       "      <th>1</th>\n",
       "      <td>2015-01-04 01:00:00</td>\n",
       "      <td>138</td>\n",
       "      <td>3.0</td>\n",
       "      <td>2.5</td>\n",
       "      <td>93.0</td>\n",
       "      <td>5.0</td>\n",
       "      <td>1.0</td>\n",
       "      <td>0.0</td>\n",
       "      <td>1.0</td>\n",
       "      <td>3.0</td>\n",
       "    </tr>\n",
       "    <tr>\n",
       "      <th>2</th>\n",
       "      <td>2015-01-04 02:00:00</td>\n",
       "      <td>134</td>\n",
       "      <td>2.5</td>\n",
       "      <td>2.5</td>\n",
       "      <td>96.5</td>\n",
       "      <td>0.0</td>\n",
       "      <td>1.0</td>\n",
       "      <td>0.0</td>\n",
       "      <td>1.0</td>\n",
       "      <td>3.0</td>\n",
       "    </tr>\n",
       "    <tr>\n",
       "      <th>3</th>\n",
       "      <td>2015-01-04 03:00:00</td>\n",
       "      <td>72</td>\n",
       "      <td>2.0</td>\n",
       "      <td>2.0</td>\n",
       "      <td>100.0</td>\n",
       "      <td>0.0</td>\n",
       "      <td>1.0</td>\n",
       "      <td>0.0</td>\n",
       "      <td>1.0</td>\n",
       "      <td>3.0</td>\n",
       "    </tr>\n",
       "    <tr>\n",
       "      <th>4</th>\n",
       "      <td>2015-01-04 04:00:00</td>\n",
       "      <td>47</td>\n",
       "      <td>2.0</td>\n",
       "      <td>0.0</td>\n",
       "      <td>93.0</td>\n",
       "      <td>6.5</td>\n",
       "      <td>1.0</td>\n",
       "      <td>0.0</td>\n",
       "      <td>1.0</td>\n",
       "      <td>3.0</td>\n",
       "    </tr>\n",
       "    <tr>\n",
       "      <th>...</th>\n",
       "      <td>...</td>\n",
       "      <td>...</td>\n",
       "      <td>...</td>\n",
       "      <td>...</td>\n",
       "      <td>...</td>\n",
       "      <td>...</td>\n",
       "      <td>...</td>\n",
       "      <td>...</td>\n",
       "      <td>...</td>\n",
       "      <td>...</td>\n",
       "    </tr>\n",
       "    <tr>\n",
       "      <th>17361</th>\n",
       "      <td>2017-01-01 19:00:00</td>\n",
       "      <td>136</td>\n",
       "      <td>5.0</td>\n",
       "      <td>2.0</td>\n",
       "      <td>93.0</td>\n",
       "      <td>15.0</td>\n",
       "      <td>7.0</td>\n",
       "      <td>0.0</td>\n",
       "      <td>1.0</td>\n",
       "      <td>3.0</td>\n",
       "    </tr>\n",
       "    <tr>\n",
       "      <th>17362</th>\n",
       "      <td>2017-01-01 20:00:00</td>\n",
       "      <td>116</td>\n",
       "      <td>5.0</td>\n",
       "      <td>2.0</td>\n",
       "      <td>93.0</td>\n",
       "      <td>14.0</td>\n",
       "      <td>7.0</td>\n",
       "      <td>0.0</td>\n",
       "      <td>1.0</td>\n",
       "      <td>3.0</td>\n",
       "    </tr>\n",
       "    <tr>\n",
       "      <th>17363</th>\n",
       "      <td>2017-01-01 21:00:00</td>\n",
       "      <td>110</td>\n",
       "      <td>5.0</td>\n",
       "      <td>2.0</td>\n",
       "      <td>93.0</td>\n",
       "      <td>14.0</td>\n",
       "      <td>26.0</td>\n",
       "      <td>0.0</td>\n",
       "      <td>1.0</td>\n",
       "      <td>3.0</td>\n",
       "    </tr>\n",
       "    <tr>\n",
       "      <th>17364</th>\n",
       "      <td>2017-01-01 22:00:00</td>\n",
       "      <td>119</td>\n",
       "      <td>5.0</td>\n",
       "      <td>2.0</td>\n",
       "      <td>93.0</td>\n",
       "      <td>12.0</td>\n",
       "      <td>3.0</td>\n",
       "      <td>0.0</td>\n",
       "      <td>1.0</td>\n",
       "      <td>3.0</td>\n",
       "    </tr>\n",
       "    <tr>\n",
       "      <th>17365</th>\n",
       "      <td>2017-01-01 23:00:00</td>\n",
       "      <td>89</td>\n",
       "      <td>5.0</td>\n",
       "      <td>2.5</td>\n",
       "      <td>90.0</td>\n",
       "      <td>10.0</td>\n",
       "      <td>1.0</td>\n",
       "      <td>0.0</td>\n",
       "      <td>1.0</td>\n",
       "      <td>3.0</td>\n",
       "    </tr>\n",
       "  </tbody>\n",
       "</table>\n",
       "<p>4970 rows × 10 columns</p>\n",
       "</div>"
      ],
      "text/plain": [
       "                 timestamp  cnt   t1   t2    hum  wind_speed  weather_code  \\\n",
       "0      2015-01-04 00:00:00  182  3.0  2.0   93.0         6.0           3.0   \n",
       "1      2015-01-04 01:00:00  138  3.0  2.5   93.0         5.0           1.0   \n",
       "2      2015-01-04 02:00:00  134  2.5  2.5   96.5         0.0           1.0   \n",
       "3      2015-01-04 03:00:00   72  2.0  2.0  100.0         0.0           1.0   \n",
       "4      2015-01-04 04:00:00   47  2.0  0.0   93.0         6.5           1.0   \n",
       "...                    ...  ...  ...  ...    ...         ...           ...   \n",
       "17361  2017-01-01 19:00:00  136  5.0  2.0   93.0        15.0           7.0   \n",
       "17362  2017-01-01 20:00:00  116  5.0  2.0   93.0        14.0           7.0   \n",
       "17363  2017-01-01 21:00:00  110  5.0  2.0   93.0        14.0          26.0   \n",
       "17364  2017-01-01 22:00:00  119  5.0  2.0   93.0        12.0           3.0   \n",
       "17365  2017-01-01 23:00:00   89  5.0  2.5   90.0        10.0           1.0   \n",
       "\n",
       "       is_holiday  is_weekend  season  \n",
       "0             0.0         1.0     3.0  \n",
       "1             0.0         1.0     3.0  \n",
       "2             0.0         1.0     3.0  \n",
       "3             0.0         1.0     3.0  \n",
       "4             0.0         1.0     3.0  \n",
       "...           ...         ...     ...  \n",
       "17361         0.0         1.0     3.0  \n",
       "17362         0.0         1.0     3.0  \n",
       "17363         0.0         1.0     3.0  \n",
       "17364         0.0         1.0     3.0  \n",
       "17365         0.0         1.0     3.0  \n",
       "\n",
       "[4970 rows x 10 columns]"
      ]
     },
     "metadata": {},
     "output_type": "display_data"
    }
   ],
   "source": [
    "\n",
    "weekend_data = df[df[\"is_weekend\"] == 1]\n",
    "\n",
    "display(weekend_data)\n"
   ]
  },
  {
   "cell_type": "markdown",
   "metadata": {},
   "source": [
    "It is also good practice for machine learning problems to make a test/train split in the data, say train on the first 70% and test on the remaining 30%."
   ]
  },
  {
   "cell_type": "code",
   "execution_count": null,
   "metadata": {},
   "outputs": [],
   "source": [
    "\n",
    "\n",
    "\n",
    "\n",
    "\n",
    "\n",
    "\n",
    "\n",
    "\n",
    "\n"
   ]
  },
  {
   "cell_type": "markdown",
   "metadata": {},
   "source": [
    "## Solution"
   ]
  },
  {
   "cell_type": "code",
   "execution_count": 3,
   "metadata": {},
   "outputs": [],
   "source": [
    "\n",
    "split_point = int(len(weekend_data)*0.7)\n",
    "train = weekend_data[:split_point]\n",
    "test = weekend_data[split_point:]\n"
   ]
  },
  {
   "cell_type": "markdown",
   "metadata": {},
   "source": [
    "Note, while there are multiple ways to complete a train/test split, for time series data, it makes the most sense to validate that we can predict the future from the past, so splitting the data in-order like this is a good idea."
   ]
  },
  {
   "cell_type": "markdown",
   "metadata": {},
   "source": [
    "\n",
    "# Exploration\n",
    "\n",
    "When producing a Machine Learning model, it makes sense to first visualise our data and validate assumptions around which features will be useful.\n",
    "\n",
    "My first hypothesis, is that temperature (t1) is a good indicator for hire count (cnt), and we should observe a correlation. Let's plot temperature against count to check this.\n"
   ]
  },
  {
   "cell_type": "code",
   "execution_count": null,
   "metadata": {},
   "outputs": [],
   "source": [
    "\n",
    "\n",
    "\n",
    "\n",
    "\n",
    "\n",
    "\n",
    "\n",
    "\n",
    "\n",
    "\n",
    "\n",
    "\n"
   ]
  },
  {
   "cell_type": "markdown",
   "metadata": {},
   "source": [
    "## Solution"
   ]
  },
  {
   "cell_type": "code",
   "execution_count": 5,
   "metadata": {},
   "outputs": [
    {
     "data": {
      "image/png": "[encoded data removed]",
      "text/plain": [
       "<Figure size 1296x432 with 1 Axes>"
      ]
     },
     "metadata": {
      "needs_background": "light"
     },
     "output_type": "display_data"
    }
   ],
   "source": [
    "\n",
    "# Import matplotlib\n",
    "from matplotlib import pyplot as plt\n",
    "\n",
    "# Set up Axis (only required for notebooks envronments to make the plot larger)\n",
    "fig, ax = plt.subplots(figsize=(18, 6))\n",
    "\n",
    "# Plot our training data\n",
    "plt.plot(train[\"t1\"], train[\"cnt\"], \"bx\")\n",
    "\n",
    "# Add axis labels\n",
    "plt.xlabel(\"Tempurature\")\n",
    "plt.ylabel(\"Daily Hires\")\n",
    "\n",
    "plt.show()\n"
   ]
  },
  {
   "cell_type": "markdown",
   "metadata": {},
   "source": [
    "While the correlation could be stronger, there is a clear link between higher temperatures and more cycle hires, this should be a good feature to model."
   ]
  },
  {
   "cell_type": "markdown",
   "metadata": {},
   "source": [
    "# Simple Linear Model\n",
    "\n",
    "At this point, we should be able to produce and assess the accuracy of a linear regression model using temperature only to predict daily hires."
   ]
  },
  {
   "cell_type": "code",
   "execution_count": null,
   "metadata": {},
   "outputs": [],
   "source": [
    "\n",
    "\n",
    "\n",
    "\n",
    "\n",
    "\n",
    "\n",
    "\n",
    "\n",
    "\n",
    "\n",
    "\n",
    "\n"
   ]
  },
  {
   "cell_type": "markdown",
   "metadata": {},
   "source": [
    "## Solution"
   ]
  },
  {
   "cell_type": "code",
   "execution_count": 6,
   "metadata": {},
   "outputs": [
    {
     "name": "stdout",
     "output_type": "stream",
     "text": [
      "r2 score:\n",
      "0.3230448863186972\n"
     ]
    }
   ],
   "source": [
    "\n",
    "# Import linear rgression model\n",
    "from sklearn.linear_model import LinearRegression\n",
    "# Import r2 score to assess accuracy\n",
    "from sklearn.metrics import r2_score\n",
    "\n",
    "# Define model object\n",
    "temp_model = LinearRegression()\n",
    "\n",
    "# Fit model\n",
    "temp_model.fit(train[[\"t1\"]], train[\"cnt\"])\n",
    "\n",
    "# Predict hire counts\n",
    "temp_predictions = temp_model.predict(test[[\"t1\"]])\n",
    "\n",
    "# Test model using r2\n",
    "print(\"r2 score:\")\n",
    "print(r2_score(test[\"cnt\"], temp_predictions))\n"
   ]
  },
  {
   "cell_type": "markdown",
   "metadata": {},
   "source": [
    "An r2 score of 0.3 isn't fantastic, but does demonstrate some predictive value in the model.\n",
    "\n",
    "We can also demonstrate the model accuracy through visualisation, such as a line of fit:"
   ]
  },
  {
   "cell_type": "code",
   "execution_count": 7,
   "metadata": {},
   "outputs": [
    {
     "data": {
      "image/png": "[encoded data removed]",
      "text/plain": [
       "<Figure size 1296x432 with 1 Axes>"
      ]
     },
     "metadata": {
      "needs_background": "light"
     },
     "output_type": "display_data"
    }
   ],
   "source": [
    "\n",
    "# Set up Axis (only required for notebooks envronments to make the plot larger)\n",
    "fig, ax = plt.subplots(figsize=(18, 6))\n",
    "\n",
    "# Plot our test data\n",
    "plt.plot(test[\"t1\"], test[\"cnt\"], \"bx\")\n",
    "# Plot our predicted values\n",
    "plt.plot(test[\"t1\"], temp_predictions, \"r-\")\n",
    "\n",
    "# Add axis labels\n",
    "plt.xlabel(\"Tempurature\")\n",
    "plt.ylabel(\"Daily Hires\")\n",
    "\n",
    "plt.show()\n"
   ]
  },
  {
   "cell_type": "markdown",
   "metadata": {},
   "source": [
    "\n",
    "Or, plot predicted against actual, which will be more useful when we get to multilinear regression.\n"
   ]
  },
  {
   "cell_type": "code",
   "execution_count": 8,
   "metadata": {},
   "outputs": [
    {
     "data": {
      "image/png": "[encoded data removed]",
      "text/plain": [
       "<Figure size 432x432 with 1 Axes>"
      ]
     },
     "metadata": {
      "needs_background": "light"
     },
     "output_type": "display_data"
    }
   ],
   "source": [
    "\n",
    "# Set up Axis (only required for notebooks envronments to make the plot larger)\n",
    "fig, ax = plt.subplots(figsize=(6, 6))\n",
    "\n",
    "# Plot our data\n",
    "plt.plot(test[\"cnt\"], temp_predictions, \"bx\")\n",
    "\n",
    "# Add axis labels\n",
    "plt.xlabel(\"Actual Hires\")\n",
    "plt.ylabel(\"Predicted Hires\")\n",
    "\n",
    "plt.show()"
   ]
  },
  {
   "cell_type": "markdown",
   "metadata": {},
   "source": [
    "Ideally, this should be as close to a straight line as possible, with actuals corresponding directly to predicted."
   ]
  },
  {
   "cell_type": "markdown",
   "metadata": {},
   "source": [
    "## Other Variables\n",
    "\n",
    "Of course, temperature is not the only data point available to us, we also have (for example) humidity, `hum`."
   ]
  },
  {
   "cell_type": "code",
   "execution_count": 9,
   "metadata": {},
   "outputs": [
    {
     "data": {
      "image/png": "[encoded data removed]",
      "text/plain": [
       "<Figure size 1296x432 with 1 Axes>"
      ]
     },
     "metadata": {
      "needs_background": "light"
     },
     "output_type": "display_data"
    }
   ],
   "source": [
    "\n",
    "# Set up Axis (only required for notebooks envronments to make the plot larger)\n",
    "fig, ax = plt.subplots(figsize=(18, 6))\n",
    "\n",
    "# Plot Humidity\n",
    "plt.plot(train[\"hum\"], train[\"cnt\"], \"bx\")\n",
    "\n",
    "# Add axis labels\n",
    "plt.xlabel(\"Humidity\")\n",
    "plt.ylabel(\"Daily Hires\")\n",
    "\n",
    "plt.show()\n"
   ]
  },
  {
   "cell_type": "markdown",
   "metadata": {},
   "source": [
    "As you can see, humidity correlates negatively with cycle hires, and we can use this to build a predictive model also:"
   ]
  },
  {
   "cell_type": "code",
   "execution_count": 10,
   "metadata": {},
   "outputs": [
    {
     "name": "stdout",
     "output_type": "stream",
     "text": [
      "r2 score:\n",
      "0.40191454400550797\n"
     ]
    }
   ],
   "source": [
    "\n",
    "# Define model object\n",
    "humidity_model = LinearRegression()\n",
    "\n",
    "# Fit model\n",
    "humidity_model.fit(train[[\"hum\"]], train[\"cnt\"])\n",
    "\n",
    "# Predict hire counts\n",
    "humidity_predictions = humidity_model.predict(test[[\"hum\"]])\n",
    "\n",
    "# Test model using r2\n",
    "print(\"r2 score:\")\n",
    "print(r2_score(test[\"cnt\"], humidity_predictions))\n"
   ]
  },
  {
   "cell_type": "markdown",
   "metadata": {},
   "source": [
    "As you can see, an r2 score of 0.4 means humidity is a better predictor than temperature. But can we do even better?"
   ]
  },
  {
   "cell_type": "markdown",
   "metadata": {},
   "source": [
    "# Multilinear Models"
   ]
  },
  {
   "cell_type": "markdown",
   "metadata": {},
   "source": [
    "Better than just using temperature or humidity on their own, we can leverage the predictive power of both by building a model which uses both."
   ]
  },
  {
   "cell_type": "code",
   "execution_count": null,
   "metadata": {},
   "outputs": [],
   "source": [
    "\n",
    "\n",
    "\n",
    "\n",
    "\n",
    "\n",
    "\n",
    "\n",
    "\n",
    "\n"
   ]
  },
  {
   "cell_type": "markdown",
   "metadata": {},
   "source": [
    "## Solution"
   ]
  },
  {
   "cell_type": "code",
   "execution_count": 11,
   "metadata": {},
   "outputs": [
    {
     "name": "stdout",
     "output_type": "stream",
     "text": [
      "r2 score:\n",
      "0.5158638858001245\n"
     ]
    }
   ],
   "source": [
    "\n",
    "# Define model object\n",
    "dual_model = LinearRegression()\n",
    "\n",
    "# Fit model\n",
    "dual_model.fit(train[[\"t1\", \"hum\"]], train[\"cnt\"])\n",
    "\n",
    "# Predict hire counts\n",
    "dual_predictions = dual_model.predict(test[[\"t1\", \"hum\"]])\n",
    "\n",
    "# Test model using r2\n",
    "print(\"r2 score:\")\n",
    "print(r2_score(test[\"cnt\"], dual_predictions))"
   ]
  },
  {
   "cell_type": "markdown",
   "metadata": {},
   "source": [
    "An r2 score 0f 0.5 demonstrates that using both temperature and humidity produces a model more accurate than using either alone.\n",
    "\n",
    "We can also plot predicted against actuals to demonstrate this visually."
   ]
  },
  {
   "cell_type": "code",
   "execution_count": 12,
   "metadata": {},
   "outputs": [
    {
     "data": {
      "image/png": "[encoded data removed]",
      "text/plain": [
       "<Figure size 432x432 with 1 Axes>"
      ]
     },
     "metadata": {
      "needs_background": "light"
     },
     "output_type": "display_data"
    }
   ],
   "source": [
    "\n",
    "# Set up Axis (only required for notebooks envronments to make the plot larger)\n",
    "fig, ax = plt.subplots(figsize=(6, 6))\n",
    "\n",
    "# Plot our data\n",
    "plt.plot(test[\"cnt\"], dual_predictions, \"bx\")\n",
    "\n",
    "# Add axis labels\n",
    "plt.xlabel(\"Actual Hires\")\n",
    "plt.ylabel(\"Predicted Hires\")\n",
    "\n",
    "plt.show()"
   ]
  },
  {
   "cell_type": "markdown",
   "metadata": {},
   "source": [
    "## How Does it Work?\n",
    "\n",
    "Recall from fundamentals of [linear regression](https://github.com/Jack-Lawton/python-resources/blob/main/lessons/Regression.ipynb), to produce a linear fit, we must optimise the variables `m` (the gradient) and `c` (the intercept) in the equation for a straight line, in order to minimise the residuals and hence have the most predictive power. Where a straight line has the equation,\n",
    "\n",
    "$y = mx + c$\n",
    "\n",
    "When we do multilinear regression, the equation is similar, but we have multiple independent variables, while above we only have `x`. We would write this:\n",
    "\n",
    "$y = c_0 + c_1x_1 + c_2x_2 + ... + c_nx_n$\n",
    "\n",
    "Here $c_0$ is the intercept, but we have multiple independent variables, $x_1$ to $x_n$, each with its own coefficient, $c_1$ to $c_n$, which must all be optimised.\n",
    "\n",
    "In the above solution, all of that optimisation is happening behind the scenes in the Sci-Kit Learn model, and consulting [the documentation](https://scikit-learn.org/stable/modules/generated/sklearn.linear_model.LinearRegression.html), we can actually pull out the values of those coefficients:\n"
   ]
  },
  {
   "cell_type": "code",
   "execution_count": 14,
   "metadata": {},
   "outputs": [
    {
     "name": "stdout",
     "output_type": "stream",
     "text": [
      "[ 52.7534044  -34.94323501]\n"
     ]
    }
   ],
   "source": [
    "\n",
    "print(dual_model.coef_)\n"
   ]
  },
  {
   "cell_type": "markdown",
   "metadata": {},
   "source": [
    "And the intercept,"
   ]
  },
  {
   "cell_type": "code",
   "execution_count": 15,
   "metadata": {
    "scrolled": true
   },
   "outputs": [
    {
     "name": "stdout",
     "output_type": "stream",
     "text": [
      "2826.1915097957353\n"
     ]
    }
   ],
   "source": [
    "\n",
    "print(dual_model.intercept_)\n"
   ]
  },
  {
   "cell_type": "markdown",
   "metadata": {},
   "source": [
    "Meaning, we now know the equation this model uses to predict cycle hires:\n",
    "\n",
    "$\\text{predicted hires} = 2826 + 53\\times \\text{t1} - 35\\times \\text{hum}$\n",
    "\n",
    "Feel free to manually check this.\n"
   ]
  },
  {
   "cell_type": "markdown",
   "metadata": {},
   "source": [
    "# One-Hot Encoding\n",
    "\n",
    "Temperature and humidity can only get us so far, also available in the data set is a code for weather. Consulting [Kaggle](https://www.kaggle.com/datasets/hmavrodiev/london-bike-sharing-dataset), we can see it is a lookup for weather type:"
   ]
  },
  {
   "cell_type": "code",
   "execution_count": 16,
   "metadata": {},
   "outputs": [],
   "source": [
    "\n",
    "weather_lookup = {\n",
    "    1: \"Clear\",\n",
    "    2: \"Scattered Clouds\",\n",
    "    3: \"Broken Clouds\",\n",
    "    4: \"Cloudy\",\n",
    "    7: \"Rain\",\n",
    "    10: \"Thunderstorm\",\n",
    "    26: \"Snow\",\n",
    "    94: \"Freezing Fog\"\n",
    "}\n"
   ]
  },
  {
   "cell_type": "markdown",
   "metadata": {},
   "source": [
    "\n",
    "Let's try adding this weather feature to our model.\n"
   ]
  },
  {
   "cell_type": "code",
   "execution_count": 17,
   "metadata": {},
   "outputs": [
    {
     "name": "stdout",
     "output_type": "stream",
     "text": [
      "r2 score:\n",
      "0.5181653003025152\n"
     ]
    }
   ],
   "source": [
    "\n",
    "# Define model object\n",
    "weather_model = LinearRegression()\n",
    "\n",
    "# Fit model\n",
    "weather_model.fit(train[[\"t1\", \"hum\", \"weather_code\"]], train[\"cnt\"])\n",
    "\n",
    "# Predict hire counts\n",
    "weather_predictions = weather_model.predict(test[[\"t1\", \"hum\", \"weather_code\"]])\n",
    "\n",
    "# Test model using r2\n",
    "print(\"r2 score:\")\n",
    "print(r2_score(test[\"cnt\"], weather_predictions))"
   ]
  },
  {
   "cell_type": "markdown",
   "metadata": {},
   "source": [
    "\n",
    "Curiously, the model is only marginally (0.003) better than the model without weather code. We might have thought that weather would significantly impact on cycle hire numbers, especially rainy weather.\n",
    "\n",
    "## Discussion\n",
    "\n",
    "Why might the model have not improved?\n"
   ]
  },
  {
   "cell_type": "code",
   "execution_count": null,
   "metadata": {},
   "outputs": [],
   "source": [
    "\n",
    "\n",
    "\n",
    "\n",
    "\n",
    "\n",
    "\n",
    "\n"
   ]
  },
  {
   "cell_type": "markdown",
   "metadata": {},
   "source": [
    "## Answer\n",
    "\n",
    "The model is using the weather lookup as a linear component, multiplying a coefficient by the value. Like this, \"Scattered Clouds\" will have twice the impact of \"Clear\" weather, \"Broken Clouds\" would have three times the impact and \"Cloudy\" four, etc.\n",
    "\n",
    "These fixed ratios may not accurately represent cycle hire behaviour in different weather types.\n",
    "\n",
    "To fix this, we need to construct a model where each individual weather type has its own individual coefficient, i.e.\n",
    "\n",
    "$\\text{prediction} = \\text{clear component} + \\text{broken clouds component} + \\text{cloudy component} + \\text{...}$\n",
    "\n",
    "To achieve this, we need to use a technique called One-Hot Encoding. We need to engineer features in our data which represent each individual weather type.\n"
   ]
  },
  {
   "cell_type": "code",
   "execution_count": null,
   "metadata": {},
   "outputs": [],
   "source": [
    "\n",
    "\n",
    "\n",
    "\n",
    "\n",
    "\n",
    "\n",
    "\n",
    "\n",
    "\n",
    "\n",
    "\n",
    "\n",
    "\n",
    "\n",
    "\n",
    "\n",
    "\n",
    "\n",
    "\n",
    "\n",
    "\n",
    "\n"
   ]
  },
  {
   "cell_type": "markdown",
   "metadata": {},
   "source": [
    "## Solution"
   ]
  },
  {
   "cell_type": "code",
   "execution_count": 30,
   "metadata": {},
   "outputs": [
    {
     "data": {
      "text/html": [
       "<div>\n",
       "<style scoped>\n",
       "    .dataframe tbody tr th:only-of-type {\n",
       "        vertical-align: middle;\n",
       "    }\n",
       "\n",
       "    .dataframe tbody tr th {\n",
       "        vertical-align: top;\n",
       "    }\n",
       "\n",
       "    .dataframe thead th {\n",
       "        text-align: right;\n",
       "    }\n",
       "</style>\n",
       "<table border=\"1\" class=\"dataframe\">\n",
       "  <thead>\n",
       "    <tr style=\"text-align: right;\">\n",
       "      <th></th>\n",
       "      <th>timestamp</th>\n",
       "      <th>cnt</th>\n",
       "      <th>t1</th>\n",
       "      <th>t2</th>\n",
       "      <th>hum</th>\n",
       "      <th>wind_speed</th>\n",
       "      <th>weather_code</th>\n",
       "      <th>is_holiday</th>\n",
       "      <th>is_weekend</th>\n",
       "      <th>season</th>\n",
       "      <th>Clear</th>\n",
       "      <th>Scattered Clouds</th>\n",
       "      <th>Broken Clouds</th>\n",
       "      <th>Cloudy</th>\n",
       "      <th>Rain</th>\n",
       "      <th>Thunderstorm</th>\n",
       "      <th>Snow</th>\n",
       "      <th>Freezing Fog</th>\n",
       "    </tr>\n",
       "  </thead>\n",
       "  <tbody>\n",
       "    <tr>\n",
       "      <th>12201</th>\n",
       "      <td>2016-05-29 06:00:00</td>\n",
       "      <td>119</td>\n",
       "      <td>10.5</td>\n",
       "      <td>9.5</td>\n",
       "      <td>85.0</td>\n",
       "      <td>12.0</td>\n",
       "      <td>2.0</td>\n",
       "      <td>0.0</td>\n",
       "      <td>1.0</td>\n",
       "      <td>0.0</td>\n",
       "      <td>False</td>\n",
       "      <td>True</td>\n",
       "      <td>False</td>\n",
       "      <td>False</td>\n",
       "      <td>False</td>\n",
       "      <td>False</td>\n",
       "      <td>False</td>\n",
       "      <td>False</td>\n",
       "    </tr>\n",
       "    <tr>\n",
       "      <th>12202</th>\n",
       "      <td>2016-05-29 07:00:00</td>\n",
       "      <td>197</td>\n",
       "      <td>11.0</td>\n",
       "      <td>11.0</td>\n",
       "      <td>82.0</td>\n",
       "      <td>13.0</td>\n",
       "      <td>3.0</td>\n",
       "      <td>0.0</td>\n",
       "      <td>1.0</td>\n",
       "      <td>0.0</td>\n",
       "      <td>False</td>\n",
       "      <td>False</td>\n",
       "      <td>True</td>\n",
       "      <td>False</td>\n",
       "      <td>False</td>\n",
       "      <td>False</td>\n",
       "      <td>False</td>\n",
       "      <td>False</td>\n",
       "    </tr>\n",
       "    <tr>\n",
       "      <th>12203</th>\n",
       "      <td>2016-05-29 08:00:00</td>\n",
       "      <td>400</td>\n",
       "      <td>11.0</td>\n",
       "      <td>11.0</td>\n",
       "      <td>88.0</td>\n",
       "      <td>13.0</td>\n",
       "      <td>3.0</td>\n",
       "      <td>0.0</td>\n",
       "      <td>1.0</td>\n",
       "      <td>0.0</td>\n",
       "      <td>False</td>\n",
       "      <td>False</td>\n",
       "      <td>True</td>\n",
       "      <td>False</td>\n",
       "      <td>False</td>\n",
       "      <td>False</td>\n",
       "      <td>False</td>\n",
       "      <td>False</td>\n",
       "    </tr>\n",
       "    <tr>\n",
       "      <th>12204</th>\n",
       "      <td>2016-05-29 09:00:00</td>\n",
       "      <td>759</td>\n",
       "      <td>12.0</td>\n",
       "      <td>12.0</td>\n",
       "      <td>82.0</td>\n",
       "      <td>16.0</td>\n",
       "      <td>4.0</td>\n",
       "      <td>0.0</td>\n",
       "      <td>1.0</td>\n",
       "      <td>0.0</td>\n",
       "      <td>False</td>\n",
       "      <td>False</td>\n",
       "      <td>False</td>\n",
       "      <td>True</td>\n",
       "      <td>False</td>\n",
       "      <td>False</td>\n",
       "      <td>False</td>\n",
       "      <td>False</td>\n",
       "    </tr>\n",
       "    <tr>\n",
       "      <th>12205</th>\n",
       "      <td>2016-05-29 10:00:00</td>\n",
       "      <td>1301</td>\n",
       "      <td>13.0</td>\n",
       "      <td>13.0</td>\n",
       "      <td>79.5</td>\n",
       "      <td>18.0</td>\n",
       "      <td>4.0</td>\n",
       "      <td>0.0</td>\n",
       "      <td>1.0</td>\n",
       "      <td>0.0</td>\n",
       "      <td>False</td>\n",
       "      <td>False</td>\n",
       "      <td>False</td>\n",
       "      <td>True</td>\n",
       "      <td>False</td>\n",
       "      <td>False</td>\n",
       "      <td>False</td>\n",
       "      <td>False</td>\n",
       "    </tr>\n",
       "  </tbody>\n",
       "</table>\n",
       "</div>"
      ],
      "text/plain": [
       "                 timestamp   cnt    t1    t2   hum  wind_speed  weather_code  \\\n",
       "12201  2016-05-29 06:00:00   119  10.5   9.5  85.0        12.0           2.0   \n",
       "12202  2016-05-29 07:00:00   197  11.0  11.0  82.0        13.0           3.0   \n",
       "12203  2016-05-29 08:00:00   400  11.0  11.0  88.0        13.0           3.0   \n",
       "12204  2016-05-29 09:00:00   759  12.0  12.0  82.0        16.0           4.0   \n",
       "12205  2016-05-29 10:00:00  1301  13.0  13.0  79.5        18.0           4.0   \n",
       "\n",
       "       is_holiday  is_weekend  season  Clear  Scattered Clouds  Broken Clouds  \\\n",
       "12201         0.0         1.0     0.0  False              True          False   \n",
       "12202         0.0         1.0     0.0  False             False           True   \n",
       "12203         0.0         1.0     0.0  False             False           True   \n",
       "12204         0.0         1.0     0.0  False             False          False   \n",
       "12205         0.0         1.0     0.0  False             False          False   \n",
       "\n",
       "       Cloudy   Rain  Thunderstorm   Snow  Freezing Fog  \n",
       "12201   False  False         False  False         False  \n",
       "12202   False  False         False  False         False  \n",
       "12203   False  False         False  False         False  \n",
       "12204    True  False         False  False         False  \n",
       "12205    True  False         False  False         False  "
      ]
     },
     "metadata": {},
     "output_type": "display_data"
    }
   ],
   "source": [
    "\n",
    "# Copy train and test set for weather\n",
    "train_weather = train.copy()\n",
    "test_weather = test.copy()\n",
    "\n",
    "# Initialise a list of features for conveinience\n",
    "features = [\"t1\", \"hum\"]\n",
    "\n",
    "# Look weather types lookup\n",
    "for code, weather_type in weather_lookup.items():\n",
    "    # Produce columns for each weather type\n",
    "    train_weather[weather_type] = (train[\"weather_code\"] == code)\n",
    "    test_weather[weather_type] = (test[\"weather_code\"] == code)\n",
    "    # Add weather type to features\n",
    "    features.append(weather_type)\n",
    "\n",
    "# Display data to demonstrate new columns\n",
    "display(test_weather[:5])\n"
   ]
  },
  {
   "cell_type": "markdown",
   "metadata": {},
   "source": [
    "\n",
    "Now we can build a predictive model with these new features\n"
   ]
  },
  {
   "cell_type": "code",
   "execution_count": 31,
   "metadata": {},
   "outputs": [
    {
     "name": "stdout",
     "output_type": "stream",
     "text": [
      "r2 score:\n",
      "0.5362540742872166\n"
     ]
    }
   ],
   "source": [
    "\n",
    "# Define model object\n",
    "weather_oh_model = LinearRegression()\n",
    "\n",
    "# Fit model\n",
    "weather_oh_model.fit(train_weather[features], train_weather[\"cnt\"])\n",
    "\n",
    "# Predict hire counts\n",
    "weather_oh_predictions = weather_oh_model.predict(test_weather[features])\n",
    "\n",
    "# Test model using r2\n",
    "print(\"r2 score:\")\n",
    "print(r2_score(test_weather[\"cnt\"], weather_oh_predictions))\n"
   ]
  },
  {
   "cell_type": "markdown",
   "metadata": {},
   "source": [
    "Not a huge improvement on just temperature and humidity, but significantly more noticeable than without the one-hot encoding!\n",
    "\n",
    "We can also pull out the coefficients and compare to our features to see which weather types have the greatest impact on cycle hire:"
   ]
  },
  {
   "cell_type": "code",
   "execution_count": 32,
   "metadata": {},
   "outputs": [
    {
     "data": {
      "text/html": [
       "<div>\n",
       "<style scoped>\n",
       "    .dataframe tbody tr th:only-of-type {\n",
       "        vertical-align: middle;\n",
       "    }\n",
       "\n",
       "    .dataframe tbody tr th {\n",
       "        vertical-align: top;\n",
       "    }\n",
       "\n",
       "    .dataframe thead th {\n",
       "        text-align: right;\n",
       "    }\n",
       "</style>\n",
       "<table border=\"1\" class=\"dataframe\">\n",
       "  <thead>\n",
       "    <tr style=\"text-align: right;\">\n",
       "      <th></th>\n",
       "      <th>Feature</th>\n",
       "      <th>Coefficient</th>\n",
       "    </tr>\n",
       "  </thead>\n",
       "  <tbody>\n",
       "    <tr>\n",
       "      <th>0</th>\n",
       "      <td>t1</td>\n",
       "      <td>51.783115</td>\n",
       "    </tr>\n",
       "    <tr>\n",
       "      <th>1</th>\n",
       "      <td>hum</td>\n",
       "      <td>-36.245056</td>\n",
       "    </tr>\n",
       "    <tr>\n",
       "      <th>2</th>\n",
       "      <td>Clear</td>\n",
       "      <td>-157.199829</td>\n",
       "    </tr>\n",
       "    <tr>\n",
       "      <th>3</th>\n",
       "      <td>Scattered Clouds</td>\n",
       "      <td>69.811438</td>\n",
       "    </tr>\n",
       "    <tr>\n",
       "      <th>4</th>\n",
       "      <td>Broken Clouds</td>\n",
       "      <td>87.970811</td>\n",
       "    </tr>\n",
       "    <tr>\n",
       "      <th>5</th>\n",
       "      <td>Cloudy</td>\n",
       "      <td>-14.171707</td>\n",
       "    </tr>\n",
       "    <tr>\n",
       "      <th>6</th>\n",
       "      <td>Rain</td>\n",
       "      <td>-33.692764</td>\n",
       "    </tr>\n",
       "    <tr>\n",
       "      <th>7</th>\n",
       "      <td>Thunderstorm</td>\n",
       "      <td>-81.478172</td>\n",
       "    </tr>\n",
       "    <tr>\n",
       "      <th>8</th>\n",
       "      <td>Snow</td>\n",
       "      <td>128.760222</td>\n",
       "    </tr>\n",
       "    <tr>\n",
       "      <th>9</th>\n",
       "      <td>Freezing Fog</td>\n",
       "      <td>0.000000</td>\n",
       "    </tr>\n",
       "  </tbody>\n",
       "</table>\n",
       "</div>"
      ],
      "text/plain": [
       "            Feature  Coefficient\n",
       "0                t1    51.783115\n",
       "1               hum   -36.245056\n",
       "2             Clear  -157.199829\n",
       "3  Scattered Clouds    69.811438\n",
       "4     Broken Clouds    87.970811\n",
       "5            Cloudy   -14.171707\n",
       "6              Rain   -33.692764\n",
       "7      Thunderstorm   -81.478172\n",
       "8              Snow   128.760222\n",
       "9      Freezing Fog     0.000000"
      ]
     },
     "metadata": {},
     "output_type": "display_data"
    }
   ],
   "source": [
    "\n",
    "coefficients_frame = pd.DataFrame()\n",
    "\n",
    "coefficients_frame[\"Feature\"] = features\n",
    "coefficients_frame[\"Coefficient\"] = weather_oh_model.coef_\n",
    "\n",
    "display(coefficients_frame)\n"
   ]
  },
  {
   "cell_type": "markdown",
   "metadata": {},
   "source": [
    "\n",
    "## Activity\n",
    "\n",
    "Discuss the possible reasons for these coefficients.\n"
   ]
  },
  {
   "cell_type": "code",
   "execution_count": null,
   "metadata": {},
   "outputs": [],
   "source": [
    "\n",
    "\n",
    "\n",
    "\n",
    "\n",
    "\n",
    "\n",
    "\n",
    "\n",
    "\n"
   ]
  },
  {
   "cell_type": "markdown",
   "metadata": {},
   "source": [
    "# Recap\n",
    "\n",
    "Today we have learnt:\n",
    "* Approaches to exploring data\n",
    "* How to build simple regression models with Sci-Kit Learn\n",
    "* How to understand coefficients in regression models\n",
    "* What is Multilinear regression\n",
    "* One-Hot Encoding"
   ]
  },
  {
   "cell_type": "code",
   "execution_count": null,
   "metadata": {},
   "outputs": [],
   "source": []
  },
  {
   "cell_type": "code",
   "execution_count": null,
   "metadata": {},
   "outputs": [],
   "source": []
  }
 ],
 "metadata": {
  "kernelspec": {
   "display_name": "Python 3",
   "language": "python",
   "name": "python3"
  },
  "language_info": {
   "codemirror_mode": {
    "name": "ipython",
    "version": 3
   },
   "file_extension": ".py",
   "mimetype": "text/x-python",
   "name": "python",
   "nbconvert_exporter": "python",
   "pygments_lexer": "ipython3",
   "version": "3.8.5"
  }
 },
 "nbformat": 4,
 "nbformat_minor": 4
}
