{
 "cells": [
  {
   "cell_type": "markdown",
   "metadata": {},
   "source": [
    "# Version Crontrol & Libraries\n",
    "## In this lesson\n",
    "* Git\n",
    "* Python Libraries"
   ]
  },
  {
   "cell_type": "markdown",
   "metadata": {},
   "source": [
    "# What is Version Control?\n",
    "\n",
    "Version control is a technique used by developers to manage code by tracking changes. The key benefits of version control are:\n",
    "* To enable collaboration\n",
    "* As a backup\n",
    "* So code can be rolled back to previous versions\n",
    "* To define published versions of code\n"
   ]
  },
  {
   "cell_type": "markdown",
   "metadata": {},
   "source": [
    "# Git\n",
    "Whilst other version control solutions are available, Git is by far the most popular and the standard used by most large organisations. In this course I shall only be covering Git, but best practices should translate to other solutions.\n",
    "It should be noted that Git does not equal GitHub. [GitHub](https://github.com/) is a code repository hosting service and completely separate from Git as a technology. The content in this lesson is applicable across any Git repository service your organisation might use, such as:\n",
    "* [SourceForge](https://sourceforge.net/)\n",
    "* [Bitbucket](https://bitbucket.org/)\n",
    "* [Azure DevOps](https://azure.microsoft.com/en-gb/services/devops/)\n"
   ]
  },
  {
   "cell_type": "markdown",
   "metadata": {},
   "source": [
    "# Using Git\n",
    "\n",
    "Git as a technology can be installed and used as a command line utility. However, for convenience I recommend also installing a Git GUI such as GitHub Desktop. Although GitHub branded, the GitHub Desktop GUI will work for any repository. I recommend GitHub Desktop and use it for all of my repositories across multiple clients and hosting services.\n",
    "\n",
    "## Activity\n",
    "\n",
    "Install [Git](https://git-scm.com/) and [GitHub Desktop](https://desktop.github.com/) on your machine.\n"
   ]
  },
  {
   "cell_type": "markdown",
   "metadata": {},
   "source": [
    "# Git Clone\n",
    "\n",
    "Clone is the most simple Git command, it is used to make an initial copy of a Git repository on your computer. The command line operation to clone a repository is, very simple and only requires the repository Git URL (and credentials if required), for example to download the repository containing this notebook:\n",
    "\n",
    "`git clone https://github.com/Jack-Lawton/python-resources.git`\n",
    "\n",
    "Obviously cloning a repository using a Git GUI is also very simple.\n",
    "\n",
    "## Activity\n",
    "\n",
    "Use GitHub Desktop to clone a repository.\n"
   ]
  },
  {
   "cell_type": "markdown",
   "metadata": {},
   "source": [
    "# Fetch, Pull, Commit & Push\n",
    "\n",
    "Once you have cloned a repository, the fetch, pull, commit and push commands are the key Git commands you will need to work with your repository. Descriptions of each are as follows:\n",
    "\n",
    "### Fetch\n",
    "\n",
    "Check the remote repository for any code updates (commits) not present on your local machine.\n",
    "\n",
    "### Pull\n",
    "\n",
    "Pull any new updates (commits) from the remote repository onto your local machine. (Note, if there are conflicts you may have to _merge_.)\n",
    "\n",
    "### Commit\n",
    "\n",
    "Updates to your code should be logged as commits. A commit is a log of any changes since the last commit, along with a short description of what your changes do. Different teams have different practices as to when is best to commit. As a general rule, remember, a commit is a point you may want to go back to if you make a mistake in the future, so it makes sense to commit at significant milestones and only work relating to a specific code feature at a time.\n",
    "\n",
    "### Push\n",
    "\n",
    "When you make commits they are initially only stored on your local machine, in order to save them to the remote repository, use the push command. Push is similar to Pull in that there may be conflicts you are required to _merge_ - your Git GUI will help with this.\n",
    "\n",
    "## Activity\n",
    "\n",
    "Create your own new repository, and practice using fetch, pull, commit and push.\n",
    "\n",
    "* I recommend creating the repository first in your remote hosting (e.g. GitHub) and then cloning to your local machine.\n",
    "\n",
    "* N.B. Most remote hosting services will allow you to make some commits using the web GUI, you can use this to help practice the fetch command and merges.\n",
    "\n"
   ]
  },
  {
   "cell_type": "markdown",
   "metadata": {},
   "source": [
    "# Branches\n",
    "\n",
    "An important feature of Git is the ability to create code branches. Think of a repository of a chain of commits, a branch is a split in that chain where two features can be developed concurrently before being merged later.\n",
    "Often branches are used for feature development, all features would be developed in their own individual feature branches and only merged back into the main branch once complete. It is good practice to name such branches in a pattern e.g. `feature/name`.\n",
    "If you are working on your own or in a small team, it may not be necessary to use branches, but it is still good to be aware of them.\n",
    "\n",
    "## Activity\n",
    "\n",
    "Create a new branch in your repository, make some commits and practice merging them back to the main branch. All of this is relatively intuitive using the GitHub Desktop GUI.\n"
   ]
  },
  {
   "cell_type": "markdown",
   "metadata": {},
   "source": [
    "# Libraries \n",
    "\n",
    "Python libraries (or packages) are collections of code (classes & functions) designed to solve specific problems which can be imported into any project.\n",
    "You have likely encountered libraries before, they can be loaded in any python script using `import`. For example, the `os` library can be used to list files in the local working directory.\n"
   ]
  },
  {
   "cell_type": "code",
   "execution_count": 1,
   "metadata": {},
   "outputs": [
    {
     "name": "stdout",
     "output_type": "stream",
     "text": [
      "['.ipynb_checkpoints', 'Functions and Classes.ipynb', 'Version Control and Libraries.ipynb']\n"
     ]
    }
   ],
   "source": [
    "\n",
    "import os\n",
    "\n",
    "print(os.listdir())\n"
   ]
  },
  {
   "cell_type": "markdown",
   "metadata": {},
   "source": [
    "You may install 3rd party libraries hosted on The Python Package Index (PyPI) using the _pip_ command line utility. For example, you can install the popular mathematical package, numpy using:\n",
    "\n",
    "`pip install numpy`\n",
    "\n",
    "N.B. Some IDEs will allow you to install packages using a GUI, eliminating the need to use command line.\n"
   ]
  },
  {
   "cell_type": "markdown",
   "metadata": {},
   "source": [
    "## Activity\n",
    "\n",
    "Install numpy on your machine.\n"
   ]
  },
  {
   "cell_type": "markdown",
   "metadata": {},
   "source": [
    "Once numpy is installed, your machine you should be able to import and use it, for example to calculate the logarithm of a number. (You may need to restart your IDE/Kernel first)"
   ]
  },
  {
   "cell_type": "code",
   "execution_count": 2,
   "metadata": {},
   "outputs": [
    {
     "name": "stdout",
     "output_type": "stream",
     "text": [
      "3.4011973816621555\n"
     ]
    }
   ],
   "source": [
    "\n",
    "import numpy as np\n",
    "\n",
    "print(np.log(30))\n"
   ]
  },
  {
   "cell_type": "markdown",
   "metadata": {},
   "source": [
    "Note, it is convention to import certain popular packages, such as numpy using snappy shorter aliases such as _np_."
   ]
  },
  {
   "cell_type": "markdown",
   "metadata": {},
   "source": [
    "# Creating Your Own Libraries\n",
    "\n",
    "It is of course possible to create your own python libraries and the simplest way to import your own code is easier than you might think!\n",
    "\n",
    "You can import python (`.py`) files in your working directory by simply using the file name, i.e `example.py` can be loaded using `import example`.\n",
    "\n",
    "## Activity 1\n",
    "Create your own `example.py` file containing a simple function (such as below) and try to import it in another script.\n"
   ]
  },
  {
   "cell_type": "code",
   "execution_count": 3,
   "metadata": {},
   "outputs": [],
   "source": [
    "\n",
    "def test_function():\n",
    "    return \"Hello World\"\n"
   ]
  },
  {
   "cell_type": "markdown",
   "metadata": {},
   "source": [
    "In this case, you should be able to call this function using `example.test_function()`, which will return \"Hello World\".\n",
    "\n",
    "All code made available by your library must be contained within functions and/or classes to be used elsewhere."
   ]
  },
  {
   "cell_type": "markdown",
   "metadata": {},
   "source": [
    "## Activity 2\n",
    "\n",
    "Files in folders can also be imported using dots to denote directories, for example `myFolder/example.py` can be imported using `import myFolder.example`.\n",
    "\n",
    "Try this on your computer.\n",
    "\n",
    "These are the foundations to creating your own libraries.\n"
   ]
  },
  {
   "cell_type": "markdown",
   "metadata": {},
   "source": [
    "## Activity 3\n",
    "\n",
    "`__init__.py` is a special file name which can be imported only using its directory name. i.e. `myLibrary/__init__.py` can be imported using `import myLibrary`.\n",
    "\n",
    "Try this on your computer.\n"
   ]
  },
  {
   "cell_type": "markdown",
   "metadata": {},
   "source": [
    "## So What is a Library\n",
    "\n",
    "A python library is a collection of python files in a directory structure all under one root folder.\n",
    "\n",
    "It is good practice to use `__init__.py` to import key classes and functions from any other files so that importing just the root directory makes all the code you might typically need available.\n",
    " \n"
   ]
  },
  {
   "cell_type": "markdown",
   "metadata": {},
   "source": [
    "# Eggs and Wheels\n",
    "\n",
    "It is common practice to build python packages into a single file for distribution. There are two formats for this, `egg` and `wheel`. Wheels are more modern and the standard used by The Python Package Index, however you may still encounter eggs from time to time.\n",
    "\n",
    "## Setup.py\n",
    "\n",
    "In order to build a python package you must create a `setup.py` file in the directory above your library directory. You can configure dependencies etc. using `setup.py`, however for most cases you should be fine to keep it simple, defining only a library name and version. For example:\n",
    "\n"
   ]
  },
  {
   "cell_type": "code",
   "execution_count": null,
   "metadata": {},
   "outputs": [],
   "source": [
    "\n",
    "from setuptools import setup, find_packages\n",
    "\n",
    "setup(\n",
    "    name = \"myLibrary\",\n",
    "    version = \"0.1\",\n",
    "    packages = find_packages()\n",
    "    )\n"
   ]
  },
  {
   "cell_type": "markdown",
   "metadata": {},
   "source": [
    "Once you have created your `setup.py` file, you can build eggs and wheels using the command line:\n",
    "\n",
    "`python setup.py bdist_egg`\n",
    "\n",
    "or\n",
    "\n",
    "`python setup.py bdist_wheel`\n",
    "\n",
    "Your built egg or wheel file will appear in a new directory, `dist`.\n",
    "\n",
    "Note, eggs will always be specific to the version of python you build them on, whilst wheels can be generic. This will be apparent from the suffix of your built file, for example `myLibrary-0.1-py3.6.egg` is specific to python 3.6, while `myLibrary-0.1-py3-none-any.whl` is generic to any python 3.x installation."
   ]
  },
  {
   "cell_type": "markdown",
   "metadata": {},
   "source": [
    "\n",
    "## Activity\n",
    "\n",
    "Create `setup.py` and build an egg or wheel for your library.\n"
   ]
  },
  {
   "cell_type": "markdown",
   "metadata": {},
   "source": [
    "# Homework\n",
    "\n",
    "Create your own library to calculate if a number is odd or even (or another problem you might find useful to solve) and store it in a Git repository."
   ]
  },
  {
   "cell_type": "code",
   "execution_count": null,
   "metadata": {},
   "outputs": [],
   "source": []
  }
 ],
 "metadata": {
  "kernelspec": {
   "display_name": "Python 3",
   "language": "python",
   "name": "python3"
  },
  "language_info": {
   "codemirror_mode": {
    "name": "ipython",
    "version": 3
   },
   "file_extension": ".py",
   "mimetype": "text/x-python",
   "name": "python",
   "nbconvert_exporter": "python",
   "pygments_lexer": "ipython3",
   "version": "3.8.5"
  }
 },
 "nbformat": 4,
 "nbformat_minor": 4
}
