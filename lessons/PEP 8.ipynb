{
 "cells": [
  {
   "cell_type": "markdown",
   "id": "df514558",
   "metadata": {},
   "source": [
    "# PEP 8\n",
    "\n",
    "## In This Lesson\n",
    "\n",
    "* Introduction to coding standards\n",
    "* Why do we need coding standards\n",
    "* PEP 8 Standard"
   ]
  },
  {
   "cell_type": "markdown",
   "id": "acb20ecb",
   "metadata": {},
   "source": [
    "## Example\n",
    "\n",
    "See the below code, a valid solution to Project [Euler Problem 4](https://projecteuler.net/problem=4).\n"
   ]
  },
  {
   "cell_type": "code",
   "execution_count": 2,
   "id": "bce51e1a",
   "metadata": {},
   "outputs": [
    {
     "name": "stdout",
     "output_type": "stream",
     "text": [
      "906609\n"
     ]
    }
   ],
   "source": [
    "\n",
    "def Func(x):\n",
    "    return str(x) == str(x)[::-1]\n",
    "\n",
    "\n",
    "MyOutput = 0\n",
    "\n",
    "for x in range(100, 1000):\n",
    "    for z in range(100,1000):\n",
    "        p = x * z\n",
    "        if Func(p) and p > MyOutput:\n",
    "            MyOutput = p\n",
    "\n",
    "print( MyOutput )\n"
   ]
  },
  {
   "cell_type": "markdown",
   "id": "d6b4cd89",
   "metadata": {},
   "source": [
    "* What could be improved about this code?\n",
    "* Why are these changes good ideas?"
   ]
  },
  {
   "cell_type": "markdown",
   "id": "8305072a",
   "metadata": {},
   "source": [
    "## Example 2\n",
    "Consider this modified code."
   ]
  },
  {
   "cell_type": "code",
   "execution_count": 1,
   "id": "82f841a3",
   "metadata": {},
   "outputs": [
    {
     "name": "stdout",
     "output_type": "stream",
     "text": [
      "906609\n"
     ]
    }
   ],
   "source": [
    "\n",
    "def IsPalindrome(x):\n",
    "    return str(x) == str(x)[::-1]\n",
    "\n",
    "\n",
    "Largest = 0\n",
    "\n",
    "for i in range(100, 1000):\n",
    "    for j in range(100, 1000):\n",
    "        Product = i * j\n",
    "        if IsPalindrome(Product) and Product > Largest:\n",
    "            Largest = Product\n",
    "\n",
    "print(Largest)\n"
   ]
  },
  {
   "cell_type": "markdown",
   "id": "f56a900a",
   "metadata": {},
   "source": [
    "\n",
    "* Is this better?\n",
    "* Why?\n",
    "* Can anything else be improved?\n"
   ]
  },
  {
   "cell_type": "markdown",
   "id": "60f6fd0e",
   "metadata": {},
   "source": [
    "# Example 3\n",
    "\n",
    "What is special about this?"
   ]
  },
  {
   "cell_type": "code",
   "execution_count": 3,
   "id": "508c86fa",
   "metadata": {},
   "outputs": [
    {
     "name": "stdout",
     "output_type": "stream",
     "text": [
      "906609\n"
     ]
    }
   ],
   "source": [
    "\n",
    "def is_palindrome(n):\n",
    "    return str(n) == str(n)[::-1]\n",
    "\n",
    "\n",
    "largest = 0\n",
    "\n",
    "for i in range(100, 1000):\n",
    "    for j in range(100, 1000):\n",
    "        product = i * j\n",
    "        if is_palindrome(product) and product > largest:\n",
    "            largest = product\n",
    "\n",
    "print(largest)\n"
   ]
  },
  {
   "cell_type": "markdown",
   "id": "7f592aaa",
   "metadata": {},
   "source": [
    "* Is PEP 8 always a good idea?\n",
    "* If not, why not?\n",
    "* How can you easily adhere to PEP 8?"
   ]
  },
  {
   "cell_type": "markdown",
   "id": "75768ec5",
   "metadata": {},
   "source": [
    "# PEP 8, High Level"
   ]
  },
  {
   "cell_type": "code",
   "execution_count": 4,
   "id": "433757ca",
   "metadata": {},
   "outputs": [],
   "source": [
    "\n",
    "# variables are in snake case\n",
    "my_variable = 0\n",
    "\n",
    "# Global\n",
    "\n",
    "# functions are in snake case\n",
    "def my_function(x, y):\n",
    "    return x * y\n",
    "\n",
    "# Clases are in CamelCase\n",
    "class MyClass:\n",
    "    def __init__(self):\n",
    "        pass\n",
    "\n",
    "# Limit all lines to a maximum of 79 characters.\n",
    "a_very_long_variable_name_for_a_very_good_reason = [[my_function(a, b) + 256 for a in range(54_000)]\n",
    "                                                    for b in range(300_000)]\n",
    "\n",
    "# Consistency and readability are always king, break convention to ensure these\n",
    "\n",
    "# Always add a new line at the end of a file\n",
    "the_very_last_thing = 1\n"
   ]
  },
  {
   "cell_type": "markdown",
   "id": "f32b6af6",
   "metadata": {},
   "source": [
    "More details on PEP 8 can be found [here](https://peps.python.org/pep-0008/)."
   ]
  },
  {
   "cell_type": "markdown",
   "id": "a405c838",
   "metadata": {},
   "source": [
    "# Some Tips / Non - PEP 8 Things I Like"
   ]
  },
  {
   "cell_type": "code",
   "execution_count": 5,
   "id": "57d0821d",
   "metadata": {},
   "outputs": [
    {
     "name": "stdout",
     "output_type": "stream",
     "text": [
      "Hello World\n"
     ]
    }
   ],
   "source": [
    "\n",
    "# Import numpy and pandas as np and pd\n",
    "import numpy as np\n",
    "import pandas as pd\n",
    "\n",
    "# Place \"from\" imports below others\n",
    "from sklearn.ensemble import RandomForestClassifier\n",
    "\n",
    "# Numbers can have underscores\n",
    "# I like to use them every 3 for large numbers to easilly read\n",
    "a_very_large_number = 989_587_230\n",
    "\n",
    "# Sometimes capitals are used for global variables\n",
    "MY_GLOBAL_VARIABLE = False\n",
    "\n",
    "# Wrap executing code in a if __name__ == \"__main__\" check\n",
    "if __name__ == \"__main__\":\n",
    "    print(\"Hello World\")\n",
    "\n"
   ]
  },
  {
   "cell_type": "markdown",
   "id": "f9d655b8",
   "metadata": {},
   "source": [
    "# Recap\n",
    "\n",
    "Today we have covered:\n",
    "* What is PEP 8\n",
    "* Why are coding standards important\n",
    "* When should we ignore coding standards\n",
    "* Tips and tricks"
   ]
  },
  {
   "cell_type": "code",
   "execution_count": null,
   "id": "b7a8a4c2",
   "metadata": {},
   "outputs": [],
   "source": []
  }
 ],
 "metadata": {
  "kernelspec": {
   "display_name": "Python 3 (ipykernel)",
   "language": "python",
   "name": "python3"
  },
  "language_info": {
   "codemirror_mode": {
    "name": "ipython",
    "version": 3
   },
   "file_extension": ".py",
   "mimetype": "text/x-python",
   "name": "python",
   "nbconvert_exporter": "python",
   "pygments_lexer": "ipython3",
   "version": "3.11.5"
  }
 },
 "nbformat": 4,
 "nbformat_minor": 5
}
