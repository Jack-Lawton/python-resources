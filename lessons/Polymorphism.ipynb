{
 "cells": [
  {
   "cell_type": "markdown",
   "id": "70359295",
   "metadata": {},
   "source": [
    "# Polymorphism in Python\n",
    "\n",
    "In this lesson:\n",
    "* Classes Recap\n",
    "* Inheritance\n",
    "* Examples"
   ]
  },
  {
   "cell_type": "markdown",
   "id": "bae85cb1",
   "metadata": {},
   "source": [
    "## Classes Recap\n",
    "\n",
    "Recall, what is a class in python?\n",
    "\n",
    "Why might we use a class?\n",
    "\n",
    "How do we define classes?\n"
   ]
  },
  {
   "cell_type": "code",
   "execution_count": null,
   "id": "a7bf7c77",
   "metadata": {},
   "outputs": [],
   "source": [
    "\n",
    "\n",
    "\n",
    "\n",
    "\n",
    "\n",
    "\n",
    "\n",
    "\n",
    "\n",
    "\n",
    "\n",
    "\n",
    "\n",
    "\n",
    "\n",
    "\n",
    "\n"
   ]
  },
  {
   "cell_type": "markdown",
   "id": "f5346b59",
   "metadata": {},
   "source": [
    "## Example"
   ]
  },
  {
   "cell_type": "code",
   "execution_count": 5,
   "id": "d6faaf39",
   "metadata": {},
   "outputs": [
    {
     "name": "stdout",
     "output_type": "stream",
     "text": [
      "20.0\n",
      "14.333333333333334\n",
      "2.0\n",
      "\n",
      "{'name': 'Fiat Punto', 'max_speed': 100}\n",
      "{'name': 'Lamborghini', 'max_speed': 120}\n",
      "{'name': 'USS Enterprise', 'max_speed': 5000}\n"
     ]
    }
   ],
   "source": [
    "\n",
    "class Vehicle:\n",
    "    def __init__(self, name, acceleration, max_speed):\n",
    "        self.name = name\n",
    "        self.acceleration = acceleration\n",
    "        self.max_speed = max_speed\n",
    "    \n",
    "    def time_to_travel(self, distance):\n",
    "        # Calculate the time to reach max speed\n",
    "        time_to_max_speed = self.max_speed / self.acceleration\n",
    "        \n",
    "        # Calculate the distance covered during acceleration to max speed\n",
    "        distance_to_max_speed = 0.5 * self.acceleration * (time_to_max_speed ** 2)\n",
    "        \n",
    "        if distance_to_max_speed >= distance:\n",
    "            # If the distance can be covered before reaching max speed\n",
    "            time_to_reach_distance = (2 * distance / self.acceleration) ** 0.5\n",
    "            return time_to_reach_distance\n",
    "        else:\n",
    "            # If the distance requires traveling at max speed after acceleration\n",
    "            remaining_distance = distance - distance_to_max_speed\n",
    "            time_at_max_speed = remaining_distance / self.max_speed\n",
    "            total_time = time_to_max_speed + time_at_max_speed\n",
    "            return total_time\n",
    "    \n",
    "    def to_dict(self):\n",
    "        return {\n",
    "            \"name\": self.name,\n",
    "            \"max_speed\": self.max_speed\n",
    "        }\n",
    "        \n",
    "\n",
    "my_car = Vehicle(\"Fiat Punto\", 5, 100)\n",
    "pauls_car = Vehicle(\"Lamborghini\", 10, 120)\n",
    "space_ship = Vehicle(\"USS Enterprise\", 500, 5_000)\n",
    "\n",
    "print(my_car.time_to_travel(1_000))\n",
    "print(pauls_car.time_to_travel(1_000))\n",
    "print(space_ship.time_to_travel(1_000))\n",
    "\n",
    "print(\"\")\n",
    "\n",
    "print(my_car.to_dict())\n",
    "print(pauls_car.to_dict())\n",
    "print(space_ship.to_dict())\n",
    "\n"
   ]
  },
  {
   "cell_type": "markdown",
   "id": "55729815",
   "metadata": {},
   "source": [
    "## Question\n",
    "\n",
    "So, this is useful, but I want to compare other properties, my Fiat may be slower, but I think it has more doors and boot space than the Lamborghini. I want to extend the class to account for that.\n",
    "\n",
    "* How might we extend the class?\n",
    "* What issues might we face?"
   ]
  },
  {
   "cell_type": "code",
   "execution_count": null,
   "id": "93cd2091",
   "metadata": {},
   "outputs": [],
   "source": [
    "\n",
    "\n",
    "\n",
    "\n",
    "\n",
    "\n",
    "\n",
    "\n",
    "\n",
    "\n",
    "\n",
    "\n",
    "\n",
    "\n",
    "\n",
    "\n",
    "\n",
    "\n",
    "\n",
    "\n",
    "\n",
    "\n",
    "\n",
    "\n"
   ]
  },
  {
   "cell_type": "markdown",
   "id": "b8224622",
   "metadata": {},
   "source": [
    "\n",
    "## Solution\n",
    "\n",
    "Let's inherit the class\n"
   ]
  },
  {
   "cell_type": "code",
   "execution_count": 7,
   "id": "32a69af8",
   "metadata": {},
   "outputs": [
    {
     "name": "stdout",
     "output_type": "stream",
     "text": [
      "20.0\n",
      "14.333333333333334\n",
      "2.0\n",
      "\n",
      "{'name': 'Fiat Punto', 'max_speed': 100, 'number_of_doors': 5}\n",
      "{'name': 'Lamborghini', 'max_speed': 120, 'number_of_doors': 3}\n",
      "{'name': 'USS Enterprise', 'max_speed': 5000, 'captain': 'James Kirk'}\n"
     ]
    }
   ],
   "source": [
    "\n",
    "\n",
    "class Car(Vehicle):\n",
    "    def __init__(self, name, acceleration, max_speed, number_of_doors):\n",
    "        super().__init__(name, acceleration, max_speed)\n",
    "        self.number_of_doors = number_of_doors\n",
    "        \n",
    "    def to_dict(self):\n",
    "        data = super().to_dict()\n",
    "        data['number_of_doors'] = self.number_of_doors\n",
    "        return data\n",
    "        \n",
    "\n",
    "class SpaceShip(Vehicle):\n",
    "    def __init__(self, name, acceleration, captain):\n",
    "        super().__init__(name, acceleration, 5_000)\n",
    "        self.captain = captain\n",
    "        \n",
    "    def to_dict(self):\n",
    "        data = super().to_dict()\n",
    "        data['captain'] = self.captain\n",
    "        return data\n",
    "\n",
    "    \n",
    "my_car = Car(\"Fiat Punto\", 5, 100, 5)\n",
    "pauls_car = Car(\"Lamborghini\", 10, 120, 3)\n",
    "space_ship = SpaceShip(\"USS Enterprise\", 500, \"James Kirk\")\n",
    "\n",
    "print(my_car.time_to_travel(1_000))\n",
    "print(pauls_car.time_to_travel(1_000))\n",
    "print(space_ship.time_to_travel(1_000))\n",
    "\n",
    "print(\"\")\n",
    "\n",
    "print(my_car.to_dict())\n",
    "print(pauls_car.to_dict())\n",
    "print(space_ship.to_dict())\n",
    "\n",
    "\n"
   ]
  },
  {
   "cell_type": "markdown",
   "id": "59106664",
   "metadata": {},
   "source": [
    "\n",
    "\n",
    "## Exercise\n",
    "\n",
    "Let's say I also want a train vehicle type, but for trains they can haul wagons (also vehicles).\n",
    "\n",
    "The maximum speed and acceleration of a train should be limited by the maximum speed and acceleration of its wagons.\n"
   ]
  },
  {
   "cell_type": "code",
   "execution_count": null,
   "id": "cf00f02e",
   "metadata": {},
   "outputs": [],
   "source": [
    "\n",
    "\n",
    "\n",
    "\n",
    "\n",
    "\n",
    "\n",
    "\n",
    "\n",
    "\n",
    "\n",
    "\n",
    "\n",
    "\n",
    "\n",
    "\n",
    "\n",
    "\n",
    "\n",
    "\n",
    "\n",
    "\n",
    "\n",
    "\n",
    "\n",
    "\n"
   ]
  },
  {
   "cell_type": "markdown",
   "id": "57725274",
   "metadata": {},
   "source": [
    "## Solution"
   ]
  },
  {
   "cell_type": "code",
   "execution_count": 19,
   "id": "e893c9d5",
   "metadata": {},
   "outputs": [
    {
     "name": "stdout",
     "output_type": "stream",
     "text": [
      "17.5\n",
      "\n",
      "{'name': 'Thomas', 'max_speed': 120, 'length': 3, 'wagons': [{'name': 'Annie', 'max_speed': 150}, {'name': 'Clarabelle', 'max_speed': 80}]}\n"
     ]
    }
   ],
   "source": [
    "\n",
    "class Train(Vehicle):\n",
    "    def __init__(self, name, acceleration, max_speed, wagons):\n",
    "        super().__init__(name, acceleration, max_speed)\n",
    "        self.wagons = wagons\n",
    "\n",
    "    def time_to_travel(self, distance):\n",
    "        acceleration = min([x.acceleration for x in self.wagons + [self]])\n",
    "        max_speed = min([x.max_speed for x in self.wagons + [self]])\n",
    "        return Vehicle(\"\", acceleration, max_speed).time_to_travel(distance)\n",
    "    \n",
    "    def to_dict(self):\n",
    "        data = super().to_dict()\n",
    "        data['length'] = 1 + len(self.wagons)\n",
    "        data['wagons'] = [x.to_dict() for x in self.wagons]\n",
    "        return data\n",
    "    \n",
    "class Wagon(Vehicle):\n",
    "    def __init__(self, name, acceleration, max_speed):\n",
    "        super().__init__(name, acceleration, max_speed)\n",
    "        \n",
    "    def time_to_travel(self, distance):\n",
    "        # A Wagon can't move under its own power\n",
    "        return None\n",
    "    \n",
    "\n",
    "my_wagons = [Wagon(\"Annie\", 8, 150), Wagon(\"Clarabelle\", 10, 80)]\n",
    "my_train = Train(\"Thomas\", 10, 120, my_wagons)\n",
    "\n",
    "print(my_train.time_to_travel(1_000))\n",
    "\n",
    "print(\"\")\n",
    "\n",
    "print(my_train.to_dict())\n"
   ]
  },
  {
   "cell_type": "markdown",
   "id": "31aa52d1",
   "metadata": {},
   "source": [
    "## Recap\n",
    "\n",
    "Today we have covered:\n",
    "\n",
    "* Reviewed what a class is and why we use them\n",
    "* How to inherit classes in python\n",
    "* Why inheritance is useful"
   ]
  }
 ],
 "metadata": {
  "kernelspec": {
   "display_name": "Python 3 (ipykernel)",
   "language": "python",
   "name": "python3"
  },
  "language_info": {
   "codemirror_mode": {
    "name": "ipython",
    "version": 3
   },
   "file_extension": ".py",
   "mimetype": "text/x-python",
   "name": "python",
   "nbconvert_exporter": "python",
   "pygments_lexer": "ipython3",
   "version": "3.11.5"
  }
 },
 "nbformat": 4,
 "nbformat_minor": 5
}
