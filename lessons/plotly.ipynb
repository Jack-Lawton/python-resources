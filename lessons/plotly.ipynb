{
 "cells": [
  {
   "attachments": {},
   "cell_type": "markdown",
   "metadata": {},
   "source": [
    "# Plotly\n",
    "\n",
    "## A labour of love\n",
    "\n",
    "I probably use plotly nearly everyday. Next to pandas it's my most used python library. It's the reason for my hatred of matplotlib and it's beautiful interactive graphs continues to impress stakeholders everytime."
   ]
  },
  {
   "attachments": {},
   "cell_type": "markdown",
   "metadata": {},
   "source": [
    "## Philisophy of graphing\n",
    "\n",
    "The key thing that most people forget when creating graphs in programming lanaguges is that, generaly, it should be easy. Most of the time you're not doing anything novel that someone hasn't done before so if you're spending too much time messing with trying to get a graph to plot it's time to look at the underlying data.\n",
    "\n",
    "Rather than spending time faffing with graphing packages look to fix your data first."
   ]
  },
  {
   "cell_type": "code",
   "execution_count": 1,
   "metadata": {},
   "outputs": [],
   "source": [
    "import pandas as pd\n",
    "import plotly.express as px"
   ]
  },
  {
   "cell_type": "code",
   "execution_count": 2,
   "metadata": {},
   "outputs": [
    {
     "data": {
      "text/html": [
       "<div>\n",
       "<style scoped>\n",
       "    .dataframe tbody tr th:only-of-type {\n",
       "        vertical-align: middle;\n",
       "    }\n",
       "\n",
       "    .dataframe tbody tr th {\n",
       "        vertical-align: top;\n",
       "    }\n",
       "\n",
       "    .dataframe thead th {\n",
       "        text-align: right;\n",
       "    }\n",
       "</style>\n",
       "<table border=\"1\" class=\"dataframe\">\n",
       "  <thead>\n",
       "    <tr style=\"text-align: right;\">\n",
       "      <th></th>\n",
       "      <th>URL</th>\n",
       "      <th>Name/Alias</th>\n",
       "      <th>Appearances</th>\n",
       "      <th>Current?</th>\n",
       "      <th>Gender</th>\n",
       "      <th>Probationary Introl</th>\n",
       "      <th>Full/Reserve Avengers Intro</th>\n",
       "      <th>Year</th>\n",
       "      <th>Years since joining</th>\n",
       "      <th>Honorary</th>\n",
       "      <th>...</th>\n",
       "      <th>Return1</th>\n",
       "      <th>Death2</th>\n",
       "      <th>Return2</th>\n",
       "      <th>Death3</th>\n",
       "      <th>Return3</th>\n",
       "      <th>Death4</th>\n",
       "      <th>Return4</th>\n",
       "      <th>Death5</th>\n",
       "      <th>Return5</th>\n",
       "      <th>Notes</th>\n",
       "    </tr>\n",
       "  </thead>\n",
       "  <tbody>\n",
       "    <tr>\n",
       "      <th>0</th>\n",
       "      <td>http://marvel.wikia.com/Henry_Pym_(Earth-616)</td>\n",
       "      <td>Henry Jonathan \"Hank\" Pym</td>\n",
       "      <td>1269</td>\n",
       "      <td>YES</td>\n",
       "      <td>MALE</td>\n",
       "      <td>NaN</td>\n",
       "      <td>Sep-63</td>\n",
       "      <td>1963</td>\n",
       "      <td>52</td>\n",
       "      <td>Full</td>\n",
       "      <td>...</td>\n",
       "      <td>NO</td>\n",
       "      <td>NaN</td>\n",
       "      <td>NaN</td>\n",
       "      <td>NaN</td>\n",
       "      <td>NaN</td>\n",
       "      <td>NaN</td>\n",
       "      <td>NaN</td>\n",
       "      <td>NaN</td>\n",
       "      <td>NaN</td>\n",
       "      <td>Merged with Ultron in Rage of Ultron Vol. 1. A...</td>\n",
       "    </tr>\n",
       "    <tr>\n",
       "      <th>1</th>\n",
       "      <td>http://marvel.wikia.com/Janet_van_Dyne_(Earth-...</td>\n",
       "      <td>Janet van Dyne</td>\n",
       "      <td>1165</td>\n",
       "      <td>YES</td>\n",
       "      <td>FEMALE</td>\n",
       "      <td>NaN</td>\n",
       "      <td>Sep-63</td>\n",
       "      <td>1963</td>\n",
       "      <td>52</td>\n",
       "      <td>Full</td>\n",
       "      <td>...</td>\n",
       "      <td>YES</td>\n",
       "      <td>NaN</td>\n",
       "      <td>NaN</td>\n",
       "      <td>NaN</td>\n",
       "      <td>NaN</td>\n",
       "      <td>NaN</td>\n",
       "      <td>NaN</td>\n",
       "      <td>NaN</td>\n",
       "      <td>NaN</td>\n",
       "      <td>Dies in Secret Invasion V1:I8. Actually was se...</td>\n",
       "    </tr>\n",
       "    <tr>\n",
       "      <th>2</th>\n",
       "      <td>http://marvel.wikia.com/Anthony_Stark_(Earth-616)</td>\n",
       "      <td>Anthony Edward \"Tony\" Stark</td>\n",
       "      <td>3068</td>\n",
       "      <td>YES</td>\n",
       "      <td>MALE</td>\n",
       "      <td>NaN</td>\n",
       "      <td>Sep-63</td>\n",
       "      <td>1963</td>\n",
       "      <td>52</td>\n",
       "      <td>Full</td>\n",
       "      <td>...</td>\n",
       "      <td>YES</td>\n",
       "      <td>NaN</td>\n",
       "      <td>NaN</td>\n",
       "      <td>NaN</td>\n",
       "      <td>NaN</td>\n",
       "      <td>NaN</td>\n",
       "      <td>NaN</td>\n",
       "      <td>NaN</td>\n",
       "      <td>NaN</td>\n",
       "      <td>Death: \"Later while under the influence of Imm...</td>\n",
       "    </tr>\n",
       "    <tr>\n",
       "      <th>3</th>\n",
       "      <td>http://marvel.wikia.com/Robert_Bruce_Banner_(E...</td>\n",
       "      <td>Robert Bruce Banner</td>\n",
       "      <td>2089</td>\n",
       "      <td>YES</td>\n",
       "      <td>MALE</td>\n",
       "      <td>NaN</td>\n",
       "      <td>Sep-63</td>\n",
       "      <td>1963</td>\n",
       "      <td>52</td>\n",
       "      <td>Full</td>\n",
       "      <td>...</td>\n",
       "      <td>YES</td>\n",
       "      <td>NaN</td>\n",
       "      <td>NaN</td>\n",
       "      <td>NaN</td>\n",
       "      <td>NaN</td>\n",
       "      <td>NaN</td>\n",
       "      <td>NaN</td>\n",
       "      <td>NaN</td>\n",
       "      <td>NaN</td>\n",
       "      <td>Dies in Ghosts of the Future arc. However \"he ...</td>\n",
       "    </tr>\n",
       "    <tr>\n",
       "      <th>4</th>\n",
       "      <td>http://marvel.wikia.com/Thor_Odinson_(Earth-616)</td>\n",
       "      <td>Thor Odinson</td>\n",
       "      <td>2402</td>\n",
       "      <td>YES</td>\n",
       "      <td>MALE</td>\n",
       "      <td>NaN</td>\n",
       "      <td>Sep-63</td>\n",
       "      <td>1963</td>\n",
       "      <td>52</td>\n",
       "      <td>Full</td>\n",
       "      <td>...</td>\n",
       "      <td>YES</td>\n",
       "      <td>YES</td>\n",
       "      <td>NO</td>\n",
       "      <td>NaN</td>\n",
       "      <td>NaN</td>\n",
       "      <td>NaN</td>\n",
       "      <td>NaN</td>\n",
       "      <td>NaN</td>\n",
       "      <td>NaN</td>\n",
       "      <td>Dies in Fear Itself brought back because that'...</td>\n",
       "    </tr>\n",
       "  </tbody>\n",
       "</table>\n",
       "<p>5 rows × 21 columns</p>\n",
       "</div>"
      ],
      "text/plain": [
       "                                                 URL  \\\n",
       "0      http://marvel.wikia.com/Henry_Pym_(Earth-616)   \n",
       "1  http://marvel.wikia.com/Janet_van_Dyne_(Earth-...   \n",
       "2  http://marvel.wikia.com/Anthony_Stark_(Earth-616)   \n",
       "3  http://marvel.wikia.com/Robert_Bruce_Banner_(E...   \n",
       "4   http://marvel.wikia.com/Thor_Odinson_(Earth-616)   \n",
       "\n",
       "                    Name/Alias  Appearances Current?  Gender  \\\n",
       "0    Henry Jonathan \"Hank\" Pym         1269      YES    MALE   \n",
       "1               Janet van Dyne         1165      YES  FEMALE   \n",
       "2  Anthony Edward \"Tony\" Stark         3068      YES    MALE   \n",
       "3          Robert Bruce Banner         2089      YES    MALE   \n",
       "4                 Thor Odinson         2402      YES    MALE   \n",
       "\n",
       "  Probationary Introl Full/Reserve Avengers Intro  Year  Years since joining  \\\n",
       "0                 NaN                      Sep-63  1963                   52   \n",
       "1                 NaN                      Sep-63  1963                   52   \n",
       "2                 NaN                      Sep-63  1963                   52   \n",
       "3                 NaN                      Sep-63  1963                   52   \n",
       "4                 NaN                      Sep-63  1963                   52   \n",
       "\n",
       "  Honorary  ... Return1 Death2 Return2 Death3 Return3 Death4 Return4 Death5  \\\n",
       "0     Full  ...      NO    NaN     NaN    NaN     NaN    NaN     NaN    NaN   \n",
       "1     Full  ...     YES    NaN     NaN    NaN     NaN    NaN     NaN    NaN   \n",
       "2     Full  ...     YES    NaN     NaN    NaN     NaN    NaN     NaN    NaN   \n",
       "3     Full  ...     YES    NaN     NaN    NaN     NaN    NaN     NaN    NaN   \n",
       "4     Full  ...     YES    YES      NO    NaN     NaN    NaN     NaN    NaN   \n",
       "\n",
       "  Return5                                              Notes  \n",
       "0     NaN  Merged with Ultron in Rage of Ultron Vol. 1. A...  \n",
       "1     NaN  Dies in Secret Invasion V1:I8. Actually was se...  \n",
       "2     NaN  Death: \"Later while under the influence of Imm...  \n",
       "3     NaN  Dies in Ghosts of the Future arc. However \"he ...  \n",
       "4     NaN  Dies in Fear Itself brought back because that'...  \n",
       "\n",
       "[5 rows x 21 columns]"
      ]
     },
     "execution_count": 2,
     "metadata": {},
     "output_type": "execute_result"
    }
   ],
   "source": [
    "url = 'https://raw.githubusercontent.com/fivethirtyeight/data/master/avengers/avengers.csv'\n",
    "raw_data = pd.read_csv(url, encoding='latin1')\n",
    "raw_data.head()"
   ]
  },
  {
   "attachments": {},
   "cell_type": "markdown",
   "metadata": {},
   "source": [
    "At this point we've already brought our data in and it's a great time to lean into graphing to try and interrogate it more.\n",
    "\n",
    "We're going to work top down from plotly intially ignoreing how it works so that we can experience the use cases. Before diving deeper into the underlying knowledge so that we can understand how it works under the hood.\n",
    "\n",
    "Plotly provides a high level wrapper called plotly express that abstracts a whole lot of the compexity away and makes it very easy to plot normal things."
   ]
  },
  {
   "cell_type": "code",
   "execution_count": 3,
   "metadata": {},
   "outputs": [
    {
     "data": {
      "application/vnd.plotly.v1+json": {
       "config": {
        "plotlyServerURL": "https://plot.ly"
       },
       "data": [
        {
         "alignmentgroup": "True",
         "bingroup": "x",
         "hovertemplate": "Year=%{x}<br>count=%{y}<extra></extra>",
         "legendgroup": "",
         "marker": {
          "color": "#636efa",
          "pattern": {
           "shape": ""
          }
         },
         "name": "",
         "offsetgroup": "",
         "orientation": "v",
         "showlegend": false,
         "type": "histogram",
         "x": [
          1963,
          1963,
          1963,
          1963,
          1963,
          1963,
          1964,
          1965,
          1965,
          1965,
          1965,
          1967,
          1968,
          1968,
          1969,
          1973,
          1973,
          1976,
          1976,
          1976,
          1975,
          1978,
          1979,
          1978,
          1978,
          1978,
          1978,
          1978,
          1978,
          1978,
          1979,
          1979,
          1988,
          1981,
          1982,
          1983,
          1984,
          1984,
          1984,
          1993,
          1986,
          1987,
          1988,
          1989,
          1989,
          1991,
          1992,
          1992,
          1993,
          1985,
          2003,
          1987,
          1987,
          1988,
          1988,
          1988,
          1989,
          1989,
          1989,
          1989,
          1989,
          1989,
          1989,
          1989,
          1989,
          2005,
          2005,
          2005,
          2005,
          2005,
          2007,
          2009,
          1990,
          1990,
          1990,
          1900,
          1900,
          1992,
          1992,
          1992,
          1993,
          1993,
          1996,
          1996,
          1998,
          1998,
          2000,
          2000,
          2001,
          2004,
          2005,
          2005,
          2005,
          2005,
          2005,
          2005,
          2005,
          2005,
          2005,
          2005,
          2005,
          2006,
          2006,
          2007,
          2007,
          2007,
          2008,
          2008,
          2010,
          2009,
          2010,
          2010,
          2010,
          2010,
          2010,
          2010,
          2010,
          2010,
          2010,
          2011,
          2010,
          2011,
          1900,
          1900,
          2010,
          1900,
          2010,
          1900,
          1900,
          1900,
          2010,
          2010,
          1900,
          1900,
          1900,
          2010,
          1900,
          1900,
          1900,
          2012,
          2012,
          2011,
          2012,
          2013,
          2012,
          2013,
          2013,
          2013,
          2013,
          2013,
          2013,
          2013,
          2013,
          2013,
          2013,
          2013,
          2013,
          2015,
          2013,
          2013,
          2013,
          2013,
          2013,
          2013,
          2013,
          2013,
          2013,
          2013,
          2013,
          2014,
          2014,
          2014,
          2015
         ],
         "xaxis": "x",
         "yaxis": "y"
        }
       ],
       "layout": {
        "barmode": "relative",
        "legend": {
         "tracegroupgap": 0
        },
        "margin": {
         "t": 60
        },
        "template": {
         "data": {
          "bar": [
           {
            "error_x": {
             "color": "#2a3f5f"
            },
            "error_y": {
             "color": "#2a3f5f"
            },
            "marker": {
             "line": {
              "color": "#E5ECF6",
              "width": 0.5
             },
             "pattern": {
              "fillmode": "overlay",
              "size": 10,
              "solidity": 0.2
             }
            },
            "type": "bar"
           }
          ],
          "barpolar": [
           {
            "marker": {
             "line": {
              "color": "#E5ECF6",
              "width": 0.5
             },
             "pattern": {
              "fillmode": "overlay",
              "size": 10,
              "solidity": 0.2
             }
            },
            "type": "barpolar"
           }
          ],
          "carpet": [
           {
            "aaxis": {
             "endlinecolor": "#2a3f5f",
             "gridcolor": "white",
             "linecolor": "white",
             "minorgridcolor": "white",
             "startlinecolor": "#2a3f5f"
            },
            "baxis": {
             "endlinecolor": "#2a3f5f",
             "gridcolor": "white",
             "linecolor": "white",
             "minorgridcolor": "white",
             "startlinecolor": "#2a3f5f"
            },
            "type": "carpet"
           }
          ],
          "choropleth": [
           {
            "colorbar": {
             "outlinewidth": 0,
             "ticks": ""
            },
            "type": "choropleth"
           }
          ],
          "contour": [
           {
            "colorbar": {
             "outlinewidth": 0,
             "ticks": ""
            },
            "colorscale": [
             [
              0,
              "#0d0887"
             ],
             [
              0.1111111111111111,
              "#46039f"
             ],
             [
              0.2222222222222222,
              "#7201a8"
             ],
             [
              0.3333333333333333,
              "#9c179e"
             ],
             [
              0.4444444444444444,
              "#bd3786"
             ],
             [
              0.5555555555555556,
              "#d8576b"
             ],
             [
              0.6666666666666666,
              "#ed7953"
             ],
             [
              0.7777777777777778,
              "#fb9f3a"
             ],
             [
              0.8888888888888888,
              "#fdca26"
             ],
             [
              1,
              "#f0f921"
             ]
            ],
            "type": "contour"
           }
          ],
          "contourcarpet": [
           {
            "colorbar": {
             "outlinewidth": 0,
             "ticks": ""
            },
            "type": "contourcarpet"
           }
          ],
          "heatmap": [
           {
            "colorbar": {
             "outlinewidth": 0,
             "ticks": ""
            },
            "colorscale": [
             [
              0,
              "#0d0887"
             ],
             [
              0.1111111111111111,
              "#46039f"
             ],
             [
              0.2222222222222222,
              "#7201a8"
             ],
             [
              0.3333333333333333,
              "#9c179e"
             ],
             [
              0.4444444444444444,
              "#bd3786"
             ],
             [
              0.5555555555555556,
              "#d8576b"
             ],
             [
              0.6666666666666666,
              "#ed7953"
             ],
             [
              0.7777777777777778,
              "#fb9f3a"
             ],
             [
              0.8888888888888888,
              "#fdca26"
             ],
             [
              1,
              "#f0f921"
             ]
            ],
            "type": "heatmap"
           }
          ],
          "heatmapgl": [
           {
            "colorbar": {
             "outlinewidth": 0,
             "ticks": ""
            },
            "colorscale": [
             [
              0,
              "#0d0887"
             ],
             [
              0.1111111111111111,
              "#46039f"
             ],
             [
              0.2222222222222222,
              "#7201a8"
             ],
             [
              0.3333333333333333,
              "#9c179e"
             ],
             [
              0.4444444444444444,
              "#bd3786"
             ],
             [
              0.5555555555555556,
              "#d8576b"
             ],
             [
              0.6666666666666666,
              "#ed7953"
             ],
             [
              0.7777777777777778,
              "#fb9f3a"
             ],
             [
              0.8888888888888888,
              "#fdca26"
             ],
             [
              1,
              "#f0f921"
             ]
            ],
            "type": "heatmapgl"
           }
          ],
          "histogram": [
           {
            "marker": {
             "pattern": {
              "fillmode": "overlay",
              "size": 10,
              "solidity": 0.2
             }
            },
            "type": "histogram"
           }
          ],
          "histogram2d": [
           {
            "colorbar": {
             "outlinewidth": 0,
             "ticks": ""
            },
            "colorscale": [
             [
              0,
              "#0d0887"
             ],
             [
              0.1111111111111111,
              "#46039f"
             ],
             [
              0.2222222222222222,
              "#7201a8"
             ],
             [
              0.3333333333333333,
              "#9c179e"
             ],
             [
              0.4444444444444444,
              "#bd3786"
             ],
             [
              0.5555555555555556,
              "#d8576b"
             ],
             [
              0.6666666666666666,
              "#ed7953"
             ],
             [
              0.7777777777777778,
              "#fb9f3a"
             ],
             [
              0.8888888888888888,
              "#fdca26"
             ],
             [
              1,
              "#f0f921"
             ]
            ],
            "type": "histogram2d"
           }
          ],
          "histogram2dcontour": [
           {
            "colorbar": {
             "outlinewidth": 0,
             "ticks": ""
            },
            "colorscale": [
             [
              0,
              "#0d0887"
             ],
             [
              0.1111111111111111,
              "#46039f"
             ],
             [
              0.2222222222222222,
              "#7201a8"
             ],
             [
              0.3333333333333333,
              "#9c179e"
             ],
             [
              0.4444444444444444,
              "#bd3786"
             ],
             [
              0.5555555555555556,
              "#d8576b"
             ],
             [
              0.6666666666666666,
              "#ed7953"
             ],
             [
              0.7777777777777778,
              "#fb9f3a"
             ],
             [
              0.8888888888888888,
              "#fdca26"
             ],
             [
              1,
              "#f0f921"
             ]
            ],
            "type": "histogram2dcontour"
           }
          ],
          "mesh3d": [
           {
            "colorbar": {
             "outlinewidth": 0,
             "ticks": ""
            },
            "type": "mesh3d"
           }
          ],
          "parcoords": [
           {
            "line": {
             "colorbar": {
              "outlinewidth": 0,
              "ticks": ""
             }
            },
            "type": "parcoords"
           }
          ],
          "pie": [
           {
            "automargin": true,
            "type": "pie"
           }
          ],
          "scatter": [
           {
            "fillpattern": {
             "fillmode": "overlay",
             "size": 10,
             "solidity": 0.2
            },
            "type": "scatter"
           }
          ],
          "scatter3d": [
           {
            "line": {
             "colorbar": {
              "outlinewidth": 0,
              "ticks": ""
             }
            },
            "marker": {
             "colorbar": {
              "outlinewidth": 0,
              "ticks": ""
             }
            },
            "type": "scatter3d"
           }
          ],
          "scattercarpet": [
           {
            "marker": {
             "colorbar": {
              "outlinewidth": 0,
              "ticks": ""
             }
            },
            "type": "scattercarpet"
           }
          ],
          "scattergeo": [
           {
            "marker": {
             "colorbar": {
              "outlinewidth": 0,
              "ticks": ""
             }
            },
            "type": "scattergeo"
           }
          ],
          "scattergl": [
           {
            "marker": {
             "colorbar": {
              "outlinewidth": 0,
              "ticks": ""
             }
            },
            "type": "scattergl"
           }
          ],
          "scattermapbox": [
           {
            "marker": {
             "colorbar": {
              "outlinewidth": 0,
              "ticks": ""
             }
            },
            "type": "scattermapbox"
           }
          ],
          "scatterpolar": [
           {
            "marker": {
             "colorbar": {
              "outlinewidth": 0,
              "ticks": ""
             }
            },
            "type": "scatterpolar"
           }
          ],
          "scatterpolargl": [
           {
            "marker": {
             "colorbar": {
              "outlinewidth": 0,
              "ticks": ""
             }
            },
            "type": "scatterpolargl"
           }
          ],
          "scatterternary": [
           {
            "marker": {
             "colorbar": {
              "outlinewidth": 0,
              "ticks": ""
             }
            },
            "type": "scatterternary"
           }
          ],
          "surface": [
           {
            "colorbar": {
             "outlinewidth": 0,
             "ticks": ""
            },
            "colorscale": [
             [
              0,
              "#0d0887"
             ],
             [
              0.1111111111111111,
              "#46039f"
             ],
             [
              0.2222222222222222,
              "#7201a8"
             ],
             [
              0.3333333333333333,
              "#9c179e"
             ],
             [
              0.4444444444444444,
              "#bd3786"
             ],
             [
              0.5555555555555556,
              "#d8576b"
             ],
             [
              0.6666666666666666,
              "#ed7953"
             ],
             [
              0.7777777777777778,
              "#fb9f3a"
             ],
             [
              0.8888888888888888,
              "#fdca26"
             ],
             [
              1,
              "#f0f921"
             ]
            ],
            "type": "surface"
           }
          ],
          "table": [
           {
            "cells": {
             "fill": {
              "color": "#EBF0F8"
             },
             "line": {
              "color": "white"
             }
            },
            "header": {
             "fill": {
              "color": "#C8D4E3"
             },
             "line": {
              "color": "white"
             }
            },
            "type": "table"
           }
          ]
         },
         "layout": {
          "annotationdefaults": {
           "arrowcolor": "#2a3f5f",
           "arrowhead": 0,
           "arrowwidth": 1
          },
          "autotypenumbers": "strict",
          "coloraxis": {
           "colorbar": {
            "outlinewidth": 0,
            "ticks": ""
           }
          },
          "colorscale": {
           "diverging": [
            [
             0,
             "#8e0152"
            ],
            [
             0.1,
             "#c51b7d"
            ],
            [
             0.2,
             "#de77ae"
            ],
            [
             0.3,
             "#f1b6da"
            ],
            [
             0.4,
             "#fde0ef"
            ],
            [
             0.5,
             "#f7f7f7"
            ],
            [
             0.6,
             "#e6f5d0"
            ],
            [
             0.7,
             "#b8e186"
            ],
            [
             0.8,
             "#7fbc41"
            ],
            [
             0.9,
             "#4d9221"
            ],
            [
             1,
             "#276419"
            ]
           ],
           "sequential": [
            [
             0,
             "#0d0887"
            ],
            [
             0.1111111111111111,
             "#46039f"
            ],
            [
             0.2222222222222222,
             "#7201a8"
            ],
            [
             0.3333333333333333,
             "#9c179e"
            ],
            [
             0.4444444444444444,
             "#bd3786"
            ],
            [
             0.5555555555555556,
             "#d8576b"
            ],
            [
             0.6666666666666666,
             "#ed7953"
            ],
            [
             0.7777777777777778,
             "#fb9f3a"
            ],
            [
             0.8888888888888888,
             "#fdca26"
            ],
            [
             1,
             "#f0f921"
            ]
           ],
           "sequentialminus": [
            [
             0,
             "#0d0887"
            ],
            [
             0.1111111111111111,
             "#46039f"
            ],
            [
             0.2222222222222222,
             "#7201a8"
            ],
            [
             0.3333333333333333,
             "#9c179e"
            ],
            [
             0.4444444444444444,
             "#bd3786"
            ],
            [
             0.5555555555555556,
             "#d8576b"
            ],
            [
             0.6666666666666666,
             "#ed7953"
            ],
            [
             0.7777777777777778,
             "#fb9f3a"
            ],
            [
             0.8888888888888888,
             "#fdca26"
            ],
            [
             1,
             "#f0f921"
            ]
           ]
          },
          "colorway": [
           "#636efa",
           "#EF553B",
           "#00cc96",
           "#ab63fa",
           "#FFA15A",
           "#19d3f3",
           "#FF6692",
           "#B6E880",
           "#FF97FF",
           "#FECB52"
          ],
          "font": {
           "color": "#2a3f5f"
          },
          "geo": {
           "bgcolor": "white",
           "lakecolor": "white",
           "landcolor": "#E5ECF6",
           "showlakes": true,
           "showland": true,
           "subunitcolor": "white"
          },
          "hoverlabel": {
           "align": "left"
          },
          "hovermode": "closest",
          "mapbox": {
           "style": "light"
          },
          "paper_bgcolor": "white",
          "plot_bgcolor": "#E5ECF6",
          "polar": {
           "angularaxis": {
            "gridcolor": "white",
            "linecolor": "white",
            "ticks": ""
           },
           "bgcolor": "#E5ECF6",
           "radialaxis": {
            "gridcolor": "white",
            "linecolor": "white",
            "ticks": ""
           }
          },
          "scene": {
           "xaxis": {
            "backgroundcolor": "#E5ECF6",
            "gridcolor": "white",
            "gridwidth": 2,
            "linecolor": "white",
            "showbackground": true,
            "ticks": "",
            "zerolinecolor": "white"
           },
           "yaxis": {
            "backgroundcolor": "#E5ECF6",
            "gridcolor": "white",
            "gridwidth": 2,
            "linecolor": "white",
            "showbackground": true,
            "ticks": "",
            "zerolinecolor": "white"
           },
           "zaxis": {
            "backgroundcolor": "#E5ECF6",
            "gridcolor": "white",
            "gridwidth": 2,
            "linecolor": "white",
            "showbackground": true,
            "ticks": "",
            "zerolinecolor": "white"
           }
          },
          "shapedefaults": {
           "line": {
            "color": "#2a3f5f"
           }
          },
          "ternary": {
           "aaxis": {
            "gridcolor": "white",
            "linecolor": "white",
            "ticks": ""
           },
           "baxis": {
            "gridcolor": "white",
            "linecolor": "white",
            "ticks": ""
           },
           "bgcolor": "#E5ECF6",
           "caxis": {
            "gridcolor": "white",
            "linecolor": "white",
            "ticks": ""
           }
          },
          "title": {
           "x": 0.05
          },
          "xaxis": {
           "automargin": true,
           "gridcolor": "white",
           "linecolor": "white",
           "ticks": "",
           "title": {
            "standoff": 15
           },
           "zerolinecolor": "white",
           "zerolinewidth": 2
          },
          "yaxis": {
           "automargin": true,
           "gridcolor": "white",
           "linecolor": "white",
           "ticks": "",
           "title": {
            "standoff": 15
           },
           "zerolinecolor": "white",
           "zerolinewidth": 2
          }
         }
        },
        "xaxis": {
         "anchor": "y",
         "domain": [
          0,
          1
         ],
         "title": {
          "text": "Year"
         }
        },
        "yaxis": {
         "anchor": "x",
         "domain": [
          0,
          1
         ],
         "title": {
          "text": "count"
         }
        }
       }
      }
     },
     "metadata": {},
     "output_type": "display_data"
    }
   ],
   "source": [
    "fig = px.histogram(raw_data, x='Year')\n",
    "fig.show()"
   ]
  },
  {
   "cell_type": "code",
   "execution_count": 6,
   "metadata": {},
   "outputs": [
    {
     "data": {
      "application/vnd.plotly.v1+json": {
       "config": {
        "plotlyServerURL": "https://plot.ly"
       },
       "data": [
        {
         "hovertemplate": "Year=%{x}<br>Appearances=%{y}<extra></extra>",
         "legendgroup": "",
         "marker": {
          "color": "#636efa",
          "symbol": "circle"
         },
         "mode": "markers",
         "name": "",
         "orientation": "v",
         "showlegend": false,
         "type": "scatter",
         "x": [
          1963,
          1963,
          1963,
          1963,
          1963,
          1963,
          1964,
          1965,
          1965,
          1965,
          1965,
          1967,
          1968,
          1968,
          1969,
          1973,
          1973,
          1976,
          1976,
          1976,
          1975,
          1978,
          1979,
          1978,
          1978,
          1978,
          1978,
          1978,
          1978,
          1978,
          1979,
          1979,
          1988,
          1981,
          1982,
          1983,
          1984,
          1984,
          1984,
          1993,
          1986,
          1987,
          1988,
          1989,
          1989,
          1991,
          1992,
          1992,
          1993,
          1985,
          2003,
          1987,
          1987,
          1988,
          1988,
          1988,
          1989,
          1989,
          1989,
          1989,
          1989,
          1989,
          1989,
          1989,
          1989,
          2005,
          2005,
          2005,
          2005,
          2005,
          2007,
          2009,
          1990,
          1990,
          1990,
          1900,
          1900,
          1992,
          1992,
          1992,
          1993,
          1993,
          1996,
          1996,
          1998,
          1998,
          2000,
          2000,
          2001,
          2004,
          2005,
          2005,
          2005,
          2005,
          2005,
          2005,
          2005,
          2005,
          2005,
          2005,
          2005,
          2006,
          2006,
          2007,
          2007,
          2007,
          2008,
          2008,
          2010,
          2009,
          2010,
          2010,
          2010,
          2010,
          2010,
          2010,
          2010,
          2010,
          2010,
          2011,
          2010,
          2011,
          1900,
          1900,
          2010,
          1900,
          2010,
          1900,
          1900,
          1900,
          2010,
          2010,
          1900,
          1900,
          1900,
          2010,
          1900,
          1900,
          1900,
          2012,
          2012,
          2011,
          2012,
          2013,
          2012,
          2013,
          2013,
          2013,
          2013,
          2013,
          2013,
          2013,
          2013,
          2013,
          2013,
          2013,
          2013,
          2015,
          2013,
          2013,
          2013,
          2013,
          2013,
          2013,
          2013,
          2013,
          2013,
          2013,
          2013,
          2014,
          2014,
          2014,
          2015
         ],
         "xaxis": "x",
         "y": [
          1269,
          1165,
          3068,
          2089,
          2402,
          612,
          3458,
          1456,
          769,
          1214,
          115,
          741,
          780,
          1036,
          482,
          1112,
          160,
          1886,
          332,
          557,
          197,
          106,
          692,
          109,
          100,
          132,
          108,
          100,
          156,
          254,
          935,
          576,
          141,
          355,
          933,
          348,
          206,
          533,
          374,
          2,
          2305,
          83,
          402,
          352,
          565,
          112,
          218,
          149,
          168,
          1561,
          217,
          158,
          86,
          41,
          68,
          70,
          61,
          2125,
          1761,
          293,
          36,
          22,
          31,
          34,
          33,
          4,
          47,
          7,
          3,
          16,
          575,
          58,
          237,
          4333,
          126,
          158,
          355,
          517,
          202,
          31,
          28,
          50,
          27,
          18,
          302,
          330,
          101,
          43,
          126,
          24,
          886,
          159,
          3130,
          241,
          67,
          23,
          103,
          123,
          110,
          160,
          132,
          121,
          59,
          629,
          1324,
          236,
          663,
          525,
          205,
          108,
          359,
          299,
          333,
          88,
          369,
          380,
          545,
          6,
          126,
          417,
          31,
          310,
          40,
          26,
          63,
          2,
          73,
          22,
          153,
          73,
          59,
          66,
          43,
          55,
          108,
          64,
          62,
          94,
          18,
          81,
          1598,
          1375,
          746,
          561,
          592,
          679,
          491,
          65,
          55,
          44,
          65,
          877,
          176,
          24,
          25,
          35,
          44,
          78,
          22,
          77,
          115,
          77,
          69,
          173,
          75,
          12,
          14,
          13,
          198,
          29,
          45,
          49,
          35
         ],
         "yaxis": "y"
        }
       ],
       "layout": {
        "legend": {
         "tracegroupgap": 0
        },
        "margin": {
         "t": 60
        },
        "template": {
         "data": {
          "bar": [
           {
            "error_x": {
             "color": "#2a3f5f"
            },
            "error_y": {
             "color": "#2a3f5f"
            },
            "marker": {
             "line": {
              "color": "#E5ECF6",
              "width": 0.5
             },
             "pattern": {
              "fillmode": "overlay",
              "size": 10,
              "solidity": 0.2
             }
            },
            "type": "bar"
           }
          ],
          "barpolar": [
           {
            "marker": {
             "line": {
              "color": "#E5ECF6",
              "width": 0.5
             },
             "pattern": {
              "fillmode": "overlay",
              "size": 10,
              "solidity": 0.2
             }
            },
            "type": "barpolar"
           }
          ],
          "carpet": [
           {
            "aaxis": {
             "endlinecolor": "#2a3f5f",
             "gridcolor": "white",
             "linecolor": "white",
             "minorgridcolor": "white",
             "startlinecolor": "#2a3f5f"
            },
            "baxis": {
             "endlinecolor": "#2a3f5f",
             "gridcolor": "white",
             "linecolor": "white",
             "minorgridcolor": "white",
             "startlinecolor": "#2a3f5f"
            },
            "type": "carpet"
           }
          ],
          "choropleth": [
           {
            "colorbar": {
             "outlinewidth": 0,
             "ticks": ""
            },
            "type": "choropleth"
           }
          ],
          "contour": [
           {
            "colorbar": {
             "outlinewidth": 0,
             "ticks": ""
            },
            "colorscale": [
             [
              0,
              "#0d0887"
             ],
             [
              0.1111111111111111,
              "#46039f"
             ],
             [
              0.2222222222222222,
              "#7201a8"
             ],
             [
              0.3333333333333333,
              "#9c179e"
             ],
             [
              0.4444444444444444,
              "#bd3786"
             ],
             [
              0.5555555555555556,
              "#d8576b"
             ],
             [
              0.6666666666666666,
              "#ed7953"
             ],
             [
              0.7777777777777778,
              "#fb9f3a"
             ],
             [
              0.8888888888888888,
              "#fdca26"
             ],
             [
              1,
              "#f0f921"
             ]
            ],
            "type": "contour"
           }
          ],
          "contourcarpet": [
           {
            "colorbar": {
             "outlinewidth": 0,
             "ticks": ""
            },
            "type": "contourcarpet"
           }
          ],
          "heatmap": [
           {
            "colorbar": {
             "outlinewidth": 0,
             "ticks": ""
            },
            "colorscale": [
             [
              0,
              "#0d0887"
             ],
             [
              0.1111111111111111,
              "#46039f"
             ],
             [
              0.2222222222222222,
              "#7201a8"
             ],
             [
              0.3333333333333333,
              "#9c179e"
             ],
             [
              0.4444444444444444,
              "#bd3786"
             ],
             [
              0.5555555555555556,
              "#d8576b"
             ],
             [
              0.6666666666666666,
              "#ed7953"
             ],
             [
              0.7777777777777778,
              "#fb9f3a"
             ],
             [
              0.8888888888888888,
              "#fdca26"
             ],
             [
              1,
              "#f0f921"
             ]
            ],
            "type": "heatmap"
           }
          ],
          "heatmapgl": [
           {
            "colorbar": {
             "outlinewidth": 0,
             "ticks": ""
            },
            "colorscale": [
             [
              0,
              "#0d0887"
             ],
             [
              0.1111111111111111,
              "#46039f"
             ],
             [
              0.2222222222222222,
              "#7201a8"
             ],
             [
              0.3333333333333333,
              "#9c179e"
             ],
             [
              0.4444444444444444,
              "#bd3786"
             ],
             [
              0.5555555555555556,
              "#d8576b"
             ],
             [
              0.6666666666666666,
              "#ed7953"
             ],
             [
              0.7777777777777778,
              "#fb9f3a"
             ],
             [
              0.8888888888888888,
              "#fdca26"
             ],
             [
              1,
              "#f0f921"
             ]
            ],
            "type": "heatmapgl"
           }
          ],
          "histogram": [
           {
            "marker": {
             "pattern": {
              "fillmode": "overlay",
              "size": 10,
              "solidity": 0.2
             }
            },
            "type": "histogram"
           }
          ],
          "histogram2d": [
           {
            "colorbar": {
             "outlinewidth": 0,
             "ticks": ""
            },
            "colorscale": [
             [
              0,
              "#0d0887"
             ],
             [
              0.1111111111111111,
              "#46039f"
             ],
             [
              0.2222222222222222,
              "#7201a8"
             ],
             [
              0.3333333333333333,
              "#9c179e"
             ],
             [
              0.4444444444444444,
              "#bd3786"
             ],
             [
              0.5555555555555556,
              "#d8576b"
             ],
             [
              0.6666666666666666,
              "#ed7953"
             ],
             [
              0.7777777777777778,
              "#fb9f3a"
             ],
             [
              0.8888888888888888,
              "#fdca26"
             ],
             [
              1,
              "#f0f921"
             ]
            ],
            "type": "histogram2d"
           }
          ],
          "histogram2dcontour": [
           {
            "colorbar": {
             "outlinewidth": 0,
             "ticks": ""
            },
            "colorscale": [
             [
              0,
              "#0d0887"
             ],
             [
              0.1111111111111111,
              "#46039f"
             ],
             [
              0.2222222222222222,
              "#7201a8"
             ],
             [
              0.3333333333333333,
              "#9c179e"
             ],
             [
              0.4444444444444444,
              "#bd3786"
             ],
             [
              0.5555555555555556,
              "#d8576b"
             ],
             [
              0.6666666666666666,
              "#ed7953"
             ],
             [
              0.7777777777777778,
              "#fb9f3a"
             ],
             [
              0.8888888888888888,
              "#fdca26"
             ],
             [
              1,
              "#f0f921"
             ]
            ],
            "type": "histogram2dcontour"
           }
          ],
          "mesh3d": [
           {
            "colorbar": {
             "outlinewidth": 0,
             "ticks": ""
            },
            "type": "mesh3d"
           }
          ],
          "parcoords": [
           {
            "line": {
             "colorbar": {
              "outlinewidth": 0,
              "ticks": ""
             }
            },
            "type": "parcoords"
           }
          ],
          "pie": [
           {
            "automargin": true,
            "type": "pie"
           }
          ],
          "scatter": [
           {
            "fillpattern": {
             "fillmode": "overlay",
             "size": 10,
             "solidity": 0.2
            },
            "type": "scatter"
           }
          ],
          "scatter3d": [
           {
            "line": {
             "colorbar": {
              "outlinewidth": 0,
              "ticks": ""
             }
            },
            "marker": {
             "colorbar": {
              "outlinewidth": 0,
              "ticks": ""
             }
            },
            "type": "scatter3d"
           }
          ],
          "scattercarpet": [
           {
            "marker": {
             "colorbar": {
              "outlinewidth": 0,
              "ticks": ""
             }
            },
            "type": "scattercarpet"
           }
          ],
          "scattergeo": [
           {
            "marker": {
             "colorbar": {
              "outlinewidth": 0,
              "ticks": ""
             }
            },
            "type": "scattergeo"
           }
          ],
          "scattergl": [
           {
            "marker": {
             "colorbar": {
              "outlinewidth": 0,
              "ticks": ""
             }
            },
            "type": "scattergl"
           }
          ],
          "scattermapbox": [
           {
            "marker": {
             "colorbar": {
              "outlinewidth": 0,
              "ticks": ""
             }
            },
            "type": "scattermapbox"
           }
          ],
          "scatterpolar": [
           {
            "marker": {
             "colorbar": {
              "outlinewidth": 0,
              "ticks": ""
             }
            },
            "type": "scatterpolar"
           }
          ],
          "scatterpolargl": [
           {
            "marker": {
             "colorbar": {
              "outlinewidth": 0,
              "ticks": ""
             }
            },
            "type": "scatterpolargl"
           }
          ],
          "scatterternary": [
           {
            "marker": {
             "colorbar": {
              "outlinewidth": 0,
              "ticks": ""
             }
            },
            "type": "scatterternary"
           }
          ],
          "surface": [
           {
            "colorbar": {
             "outlinewidth": 0,
             "ticks": ""
            },
            "colorscale": [
             [
              0,
              "#0d0887"
             ],
             [
              0.1111111111111111,
              "#46039f"
             ],
             [
              0.2222222222222222,
              "#7201a8"
             ],
             [
              0.3333333333333333,
              "#9c179e"
             ],
             [
              0.4444444444444444,
              "#bd3786"
             ],
             [
              0.5555555555555556,
              "#d8576b"
             ],
             [
              0.6666666666666666,
              "#ed7953"
             ],
             [
              0.7777777777777778,
              "#fb9f3a"
             ],
             [
              0.8888888888888888,
              "#fdca26"
             ],
             [
              1,
              "#f0f921"
             ]
            ],
            "type": "surface"
           }
          ],
          "table": [
           {
            "cells": {
             "fill": {
              "color": "#EBF0F8"
             },
             "line": {
              "color": "white"
             }
            },
            "header": {
             "fill": {
              "color": "#C8D4E3"
             },
             "line": {
              "color": "white"
             }
            },
            "type": "table"
           }
          ]
         },
         "layout": {
          "annotationdefaults": {
           "arrowcolor": "#2a3f5f",
           "arrowhead": 0,
           "arrowwidth": 1
          },
          "autotypenumbers": "strict",
          "coloraxis": {
           "colorbar": {
            "outlinewidth": 0,
            "ticks": ""
           }
          },
          "colorscale": {
           "diverging": [
            [
             0,
             "#8e0152"
            ],
            [
             0.1,
             "#c51b7d"
            ],
            [
             0.2,
             "#de77ae"
            ],
            [
             0.3,
             "#f1b6da"
            ],
            [
             0.4,
             "#fde0ef"
            ],
            [
             0.5,
             "#f7f7f7"
            ],
            [
             0.6,
             "#e6f5d0"
            ],
            [
             0.7,
             "#b8e186"
            ],
            [
             0.8,
             "#7fbc41"
            ],
            [
             0.9,
             "#4d9221"
            ],
            [
             1,
             "#276419"
            ]
           ],
           "sequential": [
            [
             0,
             "#0d0887"
            ],
            [
             0.1111111111111111,
             "#46039f"
            ],
            [
             0.2222222222222222,
             "#7201a8"
            ],
            [
             0.3333333333333333,
             "#9c179e"
            ],
            [
             0.4444444444444444,
             "#bd3786"
            ],
            [
             0.5555555555555556,
             "#d8576b"
            ],
            [
             0.6666666666666666,
             "#ed7953"
            ],
            [
             0.7777777777777778,
             "#fb9f3a"
            ],
            [
             0.8888888888888888,
             "#fdca26"
            ],
            [
             1,
             "#f0f921"
            ]
           ],
           "sequentialminus": [
            [
             0,
             "#0d0887"
            ],
            [
             0.1111111111111111,
             "#46039f"
            ],
            [
             0.2222222222222222,
             "#7201a8"
            ],
            [
             0.3333333333333333,
             "#9c179e"
            ],
            [
             0.4444444444444444,
             "#bd3786"
            ],
            [
             0.5555555555555556,
             "#d8576b"
            ],
            [
             0.6666666666666666,
             "#ed7953"
            ],
            [
             0.7777777777777778,
             "#fb9f3a"
            ],
            [
             0.8888888888888888,
             "#fdca26"
            ],
            [
             1,
             "#f0f921"
            ]
           ]
          },
          "colorway": [
           "#636efa",
           "#EF553B",
           "#00cc96",
           "#ab63fa",
           "#FFA15A",
           "#19d3f3",
           "#FF6692",
           "#B6E880",
           "#FF97FF",
           "#FECB52"
          ],
          "font": {
           "color": "#2a3f5f"
          },
          "geo": {
           "bgcolor": "white",
           "lakecolor": "white",
           "landcolor": "#E5ECF6",
           "showlakes": true,
           "showland": true,
           "subunitcolor": "white"
          },
          "hoverlabel": {
           "align": "left"
          },
          "hovermode": "closest",
          "mapbox": {
           "style": "light"
          },
          "paper_bgcolor": "white",
          "plot_bgcolor": "#E5ECF6",
          "polar": {
           "angularaxis": {
            "gridcolor": "white",
            "linecolor": "white",
            "ticks": ""
           },
           "bgcolor": "#E5ECF6",
           "radialaxis": {
            "gridcolor": "white",
            "linecolor": "white",
            "ticks": ""
           }
          },
          "scene": {
           "xaxis": {
            "backgroundcolor": "#E5ECF6",
            "gridcolor": "white",
            "gridwidth": 2,
            "linecolor": "white",
            "showbackground": true,
            "ticks": "",
            "zerolinecolor": "white"
           },
           "yaxis": {
            "backgroundcolor": "#E5ECF6",
            "gridcolor": "white",
            "gridwidth": 2,
            "linecolor": "white",
            "showbackground": true,
            "ticks": "",
            "zerolinecolor": "white"
           },
           "zaxis": {
            "backgroundcolor": "#E5ECF6",
            "gridcolor": "white",
            "gridwidth": 2,
            "linecolor": "white",
            "showbackground": true,
            "ticks": "",
            "zerolinecolor": "white"
           }
          },
          "shapedefaults": {
           "line": {
            "color": "#2a3f5f"
           }
          },
          "ternary": {
           "aaxis": {
            "gridcolor": "white",
            "linecolor": "white",
            "ticks": ""
           },
           "baxis": {
            "gridcolor": "white",
            "linecolor": "white",
            "ticks": ""
           },
           "bgcolor": "#E5ECF6",
           "caxis": {
            "gridcolor": "white",
            "linecolor": "white",
            "ticks": ""
           }
          },
          "title": {
           "x": 0.05
          },
          "xaxis": {
           "automargin": true,
           "gridcolor": "white",
           "linecolor": "white",
           "ticks": "",
           "title": {
            "standoff": 15
           },
           "zerolinecolor": "white",
           "zerolinewidth": 2
          },
          "yaxis": {
           "automargin": true,
           "gridcolor": "white",
           "linecolor": "white",
           "ticks": "",
           "title": {
            "standoff": 15
           },
           "zerolinecolor": "white",
           "zerolinewidth": 2
          }
         }
        },
        "xaxis": {
         "anchor": "y",
         "domain": [
          0,
          1
         ],
         "title": {
          "text": "Year"
         }
        },
        "yaxis": {
         "anchor": "x",
         "domain": [
          0,
          1
         ],
         "title": {
          "text": "Appearances"
         }
        }
       }
      }
     },
     "metadata": {},
     "output_type": "display_data"
    }
   ],
   "source": [
    "fig = px.scatter(raw_data, x='Year', y='Appearances')\n",
    "fig.show()"
   ]
  },
  {
   "attachments": {},
   "cell_type": "markdown",
   "metadata": {},
   "source": [
    "Now lets spruce these graphs up"
   ]
  },
  {
   "cell_type": "code",
   "execution_count": 17,
   "metadata": {},
   "outputs": [
    {
     "data": {
      "application/vnd.plotly.v1+json": {
       "config": {
        "plotlyServerURL": "https://plot.ly"
       },
       "data": [
        {
         "alignmentgroup": "True",
         "bingroup": "x",
         "histnorm": "probability",
         "hovertemplate": "Year=%{x}<br>probability=%{y}<extra></extra>",
         "legendgroup": "",
         "marker": {
          "color": "#636efa",
          "pattern": {
           "shape": ""
          }
         },
         "name": "",
         "nbinsx": 30,
         "offsetgroup": "",
         "orientation": "v",
         "showlegend": false,
         "type": "histogram",
         "x": [
          1963,
          1963,
          1963,
          1963,
          1963,
          1963,
          1964,
          1965,
          1965,
          1965,
          1965,
          1967,
          1968,
          1968,
          1969,
          1973,
          1973,
          1976,
          1976,
          1976,
          1975,
          1978,
          1979,
          1978,
          1978,
          1978,
          1978,
          1978,
          1978,
          1978,
          1979,
          1979,
          1988,
          1981,
          1982,
          1983,
          1984,
          1984,
          1984,
          1993,
          1986,
          1987,
          1988,
          1989,
          1989,
          1991,
          1992,
          1992,
          1993,
          1985,
          2003,
          1987,
          1987,
          1988,
          1988,
          1988,
          1989,
          1989,
          1989,
          1989,
          1989,
          1989,
          1989,
          1989,
          1989,
          2005,
          2005,
          2005,
          2005,
          2005,
          2007,
          2009,
          1990,
          1990,
          1990,
          1900,
          1900,
          1992,
          1992,
          1992,
          1993,
          1993,
          1996,
          1996,
          1998,
          1998,
          2000,
          2000,
          2001,
          2004,
          2005,
          2005,
          2005,
          2005,
          2005,
          2005,
          2005,
          2005,
          2005,
          2005,
          2005,
          2006,
          2006,
          2007,
          2007,
          2007,
          2008,
          2008,
          2010,
          2009,
          2010,
          2010,
          2010,
          2010,
          2010,
          2010,
          2010,
          2010,
          2010,
          2011,
          2010,
          2011,
          1900,
          1900,
          2010,
          1900,
          2010,
          1900,
          1900,
          1900,
          2010,
          2010,
          1900,
          1900,
          1900,
          2010,
          1900,
          1900,
          1900,
          2012,
          2012,
          2011,
          2012,
          2013,
          2012,
          2013,
          2013,
          2013,
          2013,
          2013,
          2013,
          2013,
          2013,
          2013,
          2013,
          2013,
          2013,
          2015,
          2013,
          2013,
          2013,
          2013,
          2013,
          2013,
          2013,
          2013,
          2013,
          2013,
          2013,
          2014,
          2014,
          2014,
          2015
         ],
         "xaxis": "x",
         "yaxis": "y"
        }
       ],
       "layout": {
        "barmode": "relative",
        "legend": {
         "tracegroupgap": 0
        },
        "template": {
         "data": {
          "bar": [
           {
            "error_x": {
             "color": "#2a3f5f"
            },
            "error_y": {
             "color": "#2a3f5f"
            },
            "marker": {
             "line": {
              "color": "#E5ECF6",
              "width": 0.5
             },
             "pattern": {
              "fillmode": "overlay",
              "size": 10,
              "solidity": 0.2
             }
            },
            "type": "bar"
           }
          ],
          "barpolar": [
           {
            "marker": {
             "line": {
              "color": "#E5ECF6",
              "width": 0.5
             },
             "pattern": {
              "fillmode": "overlay",
              "size": 10,
              "solidity": 0.2
             }
            },
            "type": "barpolar"
           }
          ],
          "carpet": [
           {
            "aaxis": {
             "endlinecolor": "#2a3f5f",
             "gridcolor": "white",
             "linecolor": "white",
             "minorgridcolor": "white",
             "startlinecolor": "#2a3f5f"
            },
            "baxis": {
             "endlinecolor": "#2a3f5f",
             "gridcolor": "white",
             "linecolor": "white",
             "minorgridcolor": "white",
             "startlinecolor": "#2a3f5f"
            },
            "type": "carpet"
           }
          ],
          "choropleth": [
           {
            "colorbar": {
             "outlinewidth": 0,
             "ticks": ""
            },
            "type": "choropleth"
           }
          ],
          "contour": [
           {
            "colorbar": {
             "outlinewidth": 0,
             "ticks": ""
            },
            "colorscale": [
             [
              0,
              "#0d0887"
             ],
             [
              0.1111111111111111,
              "#46039f"
             ],
             [
              0.2222222222222222,
              "#7201a8"
             ],
             [
              0.3333333333333333,
              "#9c179e"
             ],
             [
              0.4444444444444444,
              "#bd3786"
             ],
             [
              0.5555555555555556,
              "#d8576b"
             ],
             [
              0.6666666666666666,
              "#ed7953"
             ],
             [
              0.7777777777777778,
              "#fb9f3a"
             ],
             [
              0.8888888888888888,
              "#fdca26"
             ],
             [
              1,
              "#f0f921"
             ]
            ],
            "type": "contour"
           }
          ],
          "contourcarpet": [
           {
            "colorbar": {
             "outlinewidth": 0,
             "ticks": ""
            },
            "type": "contourcarpet"
           }
          ],
          "heatmap": [
           {
            "colorbar": {
             "outlinewidth": 0,
             "ticks": ""
            },
            "colorscale": [
             [
              0,
              "#0d0887"
             ],
             [
              0.1111111111111111,
              "#46039f"
             ],
             [
              0.2222222222222222,
              "#7201a8"
             ],
             [
              0.3333333333333333,
              "#9c179e"
             ],
             [
              0.4444444444444444,
              "#bd3786"
             ],
             [
              0.5555555555555556,
              "#d8576b"
             ],
             [
              0.6666666666666666,
              "#ed7953"
             ],
             [
              0.7777777777777778,
              "#fb9f3a"
             ],
             [
              0.8888888888888888,
              "#fdca26"
             ],
             [
              1,
              "#f0f921"
             ]
            ],
            "type": "heatmap"
           }
          ],
          "heatmapgl": [
           {
            "colorbar": {
             "outlinewidth": 0,
             "ticks": ""
            },
            "colorscale": [
             [
              0,
              "#0d0887"
             ],
             [
              0.1111111111111111,
              "#46039f"
             ],
             [
              0.2222222222222222,
              "#7201a8"
             ],
             [
              0.3333333333333333,
              "#9c179e"
             ],
             [
              0.4444444444444444,
              "#bd3786"
             ],
             [
              0.5555555555555556,
              "#d8576b"
             ],
             [
              0.6666666666666666,
              "#ed7953"
             ],
             [
              0.7777777777777778,
              "#fb9f3a"
             ],
             [
              0.8888888888888888,
              "#fdca26"
             ],
             [
              1,
              "#f0f921"
             ]
            ],
            "type": "heatmapgl"
           }
          ],
          "histogram": [
           {
            "marker": {
             "pattern": {
              "fillmode": "overlay",
              "size": 10,
              "solidity": 0.2
             }
            },
            "type": "histogram"
           }
          ],
          "histogram2d": [
           {
            "colorbar": {
             "outlinewidth": 0,
             "ticks": ""
            },
            "colorscale": [
             [
              0,
              "#0d0887"
             ],
             [
              0.1111111111111111,
              "#46039f"
             ],
             [
              0.2222222222222222,
              "#7201a8"
             ],
             [
              0.3333333333333333,
              "#9c179e"
             ],
             [
              0.4444444444444444,
              "#bd3786"
             ],
             [
              0.5555555555555556,
              "#d8576b"
             ],
             [
              0.6666666666666666,
              "#ed7953"
             ],
             [
              0.7777777777777778,
              "#fb9f3a"
             ],
             [
              0.8888888888888888,
              "#fdca26"
             ],
             [
              1,
              "#f0f921"
             ]
            ],
            "type": "histogram2d"
           }
          ],
          "histogram2dcontour": [
           {
            "colorbar": {
             "outlinewidth": 0,
             "ticks": ""
            },
            "colorscale": [
             [
              0,
              "#0d0887"
             ],
             [
              0.1111111111111111,
              "#46039f"
             ],
             [
              0.2222222222222222,
              "#7201a8"
             ],
             [
              0.3333333333333333,
              "#9c179e"
             ],
             [
              0.4444444444444444,
              "#bd3786"
             ],
             [
              0.5555555555555556,
              "#d8576b"
             ],
             [
              0.6666666666666666,
              "#ed7953"
             ],
             [
              0.7777777777777778,
              "#fb9f3a"
             ],
             [
              0.8888888888888888,
              "#fdca26"
             ],
             [
              1,
              "#f0f921"
             ]
            ],
            "type": "histogram2dcontour"
           }
          ],
          "mesh3d": [
           {
            "colorbar": {
             "outlinewidth": 0,
             "ticks": ""
            },
            "type": "mesh3d"
           }
          ],
          "parcoords": [
           {
            "line": {
             "colorbar": {
              "outlinewidth": 0,
              "ticks": ""
             }
            },
            "type": "parcoords"
           }
          ],
          "pie": [
           {
            "automargin": true,
            "type": "pie"
           }
          ],
          "scatter": [
           {
            "fillpattern": {
             "fillmode": "overlay",
             "size": 10,
             "solidity": 0.2
            },
            "type": "scatter"
           }
          ],
          "scatter3d": [
           {
            "line": {
             "colorbar": {
              "outlinewidth": 0,
              "ticks": ""
             }
            },
            "marker": {
             "colorbar": {
              "outlinewidth": 0,
              "ticks": ""
             }
            },
            "type": "scatter3d"
           }
          ],
          "scattercarpet": [
           {
            "marker": {
             "colorbar": {
              "outlinewidth": 0,
              "ticks": ""
             }
            },
            "type": "scattercarpet"
           }
          ],
          "scattergeo": [
           {
            "marker": {
             "colorbar": {
              "outlinewidth": 0,
              "ticks": ""
             }
            },
            "type": "scattergeo"
           }
          ],
          "scattergl": [
           {
            "marker": {
             "colorbar": {
              "outlinewidth": 0,
              "ticks": ""
             }
            },
            "type": "scattergl"
           }
          ],
          "scattermapbox": [
           {
            "marker": {
             "colorbar": {
              "outlinewidth": 0,
              "ticks": ""
             }
            },
            "type": "scattermapbox"
           }
          ],
          "scatterpolar": [
           {
            "marker": {
             "colorbar": {
              "outlinewidth": 0,
              "ticks": ""
             }
            },
            "type": "scatterpolar"
           }
          ],
          "scatterpolargl": [
           {
            "marker": {
             "colorbar": {
              "outlinewidth": 0,
              "ticks": ""
             }
            },
            "type": "scatterpolargl"
           }
          ],
          "scatterternary": [
           {
            "marker": {
             "colorbar": {
              "outlinewidth": 0,
              "ticks": ""
             }
            },
            "type": "scatterternary"
           }
          ],
          "surface": [
           {
            "colorbar": {
             "outlinewidth": 0,
             "ticks": ""
            },
            "colorscale": [
             [
              0,
              "#0d0887"
             ],
             [
              0.1111111111111111,
              "#46039f"
             ],
             [
              0.2222222222222222,
              "#7201a8"
             ],
             [
              0.3333333333333333,
              "#9c179e"
             ],
             [
              0.4444444444444444,
              "#bd3786"
             ],
             [
              0.5555555555555556,
              "#d8576b"
             ],
             [
              0.6666666666666666,
              "#ed7953"
             ],
             [
              0.7777777777777778,
              "#fb9f3a"
             ],
             [
              0.8888888888888888,
              "#fdca26"
             ],
             [
              1,
              "#f0f921"
             ]
            ],
            "type": "surface"
           }
          ],
          "table": [
           {
            "cells": {
             "fill": {
              "color": "#EBF0F8"
             },
             "line": {
              "color": "white"
             }
            },
            "header": {
             "fill": {
              "color": "#C8D4E3"
             },
             "line": {
              "color": "white"
             }
            },
            "type": "table"
           }
          ]
         },
         "layout": {
          "annotationdefaults": {
           "arrowcolor": "#2a3f5f",
           "arrowhead": 0,
           "arrowwidth": 1
          },
          "autotypenumbers": "strict",
          "coloraxis": {
           "colorbar": {
            "outlinewidth": 0,
            "ticks": ""
           }
          },
          "colorscale": {
           "diverging": [
            [
             0,
             "#8e0152"
            ],
            [
             0.1,
             "#c51b7d"
            ],
            [
             0.2,
             "#de77ae"
            ],
            [
             0.3,
             "#f1b6da"
            ],
            [
             0.4,
             "#fde0ef"
            ],
            [
             0.5,
             "#f7f7f7"
            ],
            [
             0.6,
             "#e6f5d0"
            ],
            [
             0.7,
             "#b8e186"
            ],
            [
             0.8,
             "#7fbc41"
            ],
            [
             0.9,
             "#4d9221"
            ],
            [
             1,
             "#276419"
            ]
           ],
           "sequential": [
            [
             0,
             "#0d0887"
            ],
            [
             0.1111111111111111,
             "#46039f"
            ],
            [
             0.2222222222222222,
             "#7201a8"
            ],
            [
             0.3333333333333333,
             "#9c179e"
            ],
            [
             0.4444444444444444,
             "#bd3786"
            ],
            [
             0.5555555555555556,
             "#d8576b"
            ],
            [
             0.6666666666666666,
             "#ed7953"
            ],
            [
             0.7777777777777778,
             "#fb9f3a"
            ],
            [
             0.8888888888888888,
             "#fdca26"
            ],
            [
             1,
             "#f0f921"
            ]
           ],
           "sequentialminus": [
            [
             0,
             "#0d0887"
            ],
            [
             0.1111111111111111,
             "#46039f"
            ],
            [
             0.2222222222222222,
             "#7201a8"
            ],
            [
             0.3333333333333333,
             "#9c179e"
            ],
            [
             0.4444444444444444,
             "#bd3786"
            ],
            [
             0.5555555555555556,
             "#d8576b"
            ],
            [
             0.6666666666666666,
             "#ed7953"
            ],
            [
             0.7777777777777778,
             "#fb9f3a"
            ],
            [
             0.8888888888888888,
             "#fdca26"
            ],
            [
             1,
             "#f0f921"
            ]
           ]
          },
          "colorway": [
           "#636efa",
           "#EF553B",
           "#00cc96",
           "#ab63fa",
           "#FFA15A",
           "#19d3f3",
           "#FF6692",
           "#B6E880",
           "#FF97FF",
           "#FECB52"
          ],
          "font": {
           "color": "#2a3f5f"
          },
          "geo": {
           "bgcolor": "white",
           "lakecolor": "white",
           "landcolor": "#E5ECF6",
           "showlakes": true,
           "showland": true,
           "subunitcolor": "white"
          },
          "hoverlabel": {
           "align": "left"
          },
          "hovermode": "closest",
          "mapbox": {
           "style": "light"
          },
          "paper_bgcolor": "white",
          "plot_bgcolor": "#E5ECF6",
          "polar": {
           "angularaxis": {
            "gridcolor": "white",
            "linecolor": "white",
            "ticks": ""
           },
           "bgcolor": "#E5ECF6",
           "radialaxis": {
            "gridcolor": "white",
            "linecolor": "white",
            "ticks": ""
           }
          },
          "scene": {
           "xaxis": {
            "backgroundcolor": "#E5ECF6",
            "gridcolor": "white",
            "gridwidth": 2,
            "linecolor": "white",
            "showbackground": true,
            "ticks": "",
            "zerolinecolor": "white"
           },
           "yaxis": {
            "backgroundcolor": "#E5ECF6",
            "gridcolor": "white",
            "gridwidth": 2,
            "linecolor": "white",
            "showbackground": true,
            "ticks": "",
            "zerolinecolor": "white"
           },
           "zaxis": {
            "backgroundcolor": "#E5ECF6",
            "gridcolor": "white",
            "gridwidth": 2,
            "linecolor": "white",
            "showbackground": true,
            "ticks": "",
            "zerolinecolor": "white"
           }
          },
          "shapedefaults": {
           "line": {
            "color": "#2a3f5f"
           }
          },
          "ternary": {
           "aaxis": {
            "gridcolor": "white",
            "linecolor": "white",
            "ticks": ""
           },
           "baxis": {
            "gridcolor": "white",
            "linecolor": "white",
            "ticks": ""
           },
           "bgcolor": "#E5ECF6",
           "caxis": {
            "gridcolor": "white",
            "linecolor": "white",
            "ticks": ""
           }
          },
          "title": {
           "x": 0.05
          },
          "xaxis": {
           "automargin": true,
           "gridcolor": "white",
           "linecolor": "white",
           "ticks": "",
           "title": {
            "standoff": 15
           },
           "zerolinecolor": "white",
           "zerolinewidth": 2
          },
          "yaxis": {
           "automargin": true,
           "gridcolor": "white",
           "linecolor": "white",
           "ticks": "",
           "title": {
            "standoff": 15
           },
           "zerolinecolor": "white",
           "zerolinewidth": 2
          }
         }
        },
        "title": {
         "text": "Distribution of Year of First Appearance"
        },
        "xaxis": {
         "anchor": "y",
         "domain": [
          0,
          1
         ],
         "title": {
          "text": "Year"
         }
        },
        "yaxis": {
         "anchor": "x",
         "domain": [
          0,
          1
         ],
         "title": {
          "text": "probability"
         }
        }
       }
      }
     },
     "metadata": {},
     "output_type": "display_data"
    }
   ],
   "source": [
    "fig = px.histogram(raw_data, x='Year', nbins= 30, title='Distribution of Year of First Appearance', histnorm='probability')\n",
    "fig.show()"
   ]
  },
  {
   "cell_type": "code",
   "execution_count": 22,
   "metadata": {},
   "outputs": [
    {
     "data": {
      "application/vnd.plotly.v1+json": {
       "config": {
        "plotlyServerURL": "https://plot.ly"
       },
       "data": [
        {
         "customdata": [
          [
           "Henry Jonathan \"Hank\" Pym"
          ],
          [
           "Janet van Dyne"
          ],
          [
           "Anthony Edward \"Tony\" Stark"
          ],
          [
           "Robert Bruce Banner"
          ],
          [
           "Thor Odinson"
          ],
          [
           "Richard Milhouse Jones"
          ],
          [
           "Steven Rogers"
          ],
          [
           "Clinton Francis Barton"
          ],
          [
           "Pietro Maximoff"
          ],
          [
           "Wanda Maximoff"
          ],
          [
           "Jacques Duquesne"
          ],
          [
           "Heracles"
          ],
          [
           "T'Challa"
          ],
          [
           "Victor Shade (alias)"
          ],
          [
           "Dane Whitman"
          ],
          [
           "Natalia Alianovna Romanova"
          ],
          [
           "Brandt"
          ],
          [
           "Henry P. McCoy"
          ],
          [
           "Heather Douglas"
          ],
          [
           "Patsy Walker"
          ],
          [
           "Matthew Liebowitz (birth name)"
          ],
          [
           "Robert L. Frank Sr."
          ],
          [
           "Simon Williams"
          ],
          [
           "Yondu Udonta"
          ],
          [
           "Martinex T'Naga"
          ],
          [
           "Charlie-27"
          ],
          [
           "Nicholette Gold"
          ],
          [
           "Stakar"
          ],
          [
           "Vance Astrovik"
          ],
          [
           "Mar-Vell"
          ],
          [
           "Carol Susan Jane Danvers"
          ],
          [
           "Samuel Thomas Wilson"
          ],
          [
           "Jocasta"
          ],
          [
           "Greer Grant Nelson"
          ],
          [
           "Jennifer Walters"
          ],
          [
           "Monica Rambeau"
          ],
          [
           "Eros"
          ],
          [
           "James R. Rhodes"
          ],
          [
           "Barbara Barton (nee Morse)"
          ],
          [
           "Moira Brandon"
          ],
          [
           "Benjamin Jacob Grimm"
          ],
          [
           "Bonita Juarez"
          ],
          [
           "Marc Spector"
          ],
          [
           "John F. Walker"
          ],
          [
           "Jim Hammond (alias)"
          ],
          [
           "Miguel Santos"
          ],
          [
           "Julia Carpenter"
          ],
          [
           "X-51"
          ],
          [
           "Christopher Powell"
          ],
          [
           "Namor McKenzie"
          ],
          [
           "Scott Edward Harris Lang"
          ],
          [
           "Anthony Ludgate Druid"
          ],
          [
           "Marrina Smallwood"
          ],
          [
           "Ravonna Lexus Renslayer"
          ],
          [
           "Rita DeMara"
          ],
          [
           "Dennis Dunphy"
          ],
          [
           null
          ],
          [
           "Reed Richards"
          ],
          [
           "Susan Richards (nee Storm)"
          ],
          [
           "Wendell Elvis Vaughn"
          ],
          [
           "Ashley Crawford"
          ],
          [
           null
          ],
          [
           "DeMarr Davis"
          ],
          [
           "Val Ventura"
          ],
          [
           "Craig Hollis"
          ],
          [
           "Gene Lorrene"
          ],
          [
           "Dorreen Green"
          ],
          [
           null
          ],
          [
           "Doug Taggert"
          ],
          [
           null
          ],
          [
           "Wade Wilson"
          ],
          [
           "Greg Willis"
          ],
          [
           "Circe"
          ],
          [
           "Peter Benjamin Parker"
          ],
          [
           "Walter Newell"
          ],
          [
           "Crystal Amaquelin Maximoff"
          ],
          [
           "Eric Kevin Masterson"
          ],
          [
           "Phillip Javert"
          ],
          [
           null
          ],
          [
           null
          ],
          [
           "Anthony Edward Stark"
          ],
          [
           "\"Giulietta Nefaria\""
          ],
          [
           "Vance Astrovik"
          ],
          [
           "Angelica Jones"
          ],
          [
           "Delroy Garrett Jr."
          ],
          [
           "Maria de Guadalupe Santiago"
          ],
          [
           "Jonathan Hart"
          ],
          [
           "Kelsey Leigh Shorr"
          ],
          [
           "Carl Lucas"
          ],
          [
           "Veranke"
          ],
          [
           "James \"Logan\" Howlett"
          ],
          [
           "Robert Reynolds"
          ],
          [
           "Maya Lopez"
          ],
          [
           "Nathaniel Richards"
          ],
          [
           "Elijah Bradley"
          ],
          [
           "William \"Billy\" Kaplan"
          ],
          [
           "Dorrek VIII/Theodore \"Teddy\" Altman"
          ],
          [
           "Cassie Lang"
          ],
          [
           "Katherine \"Kate\" Bishop"
          ],
          [
           "Alias: Jonas"
          ],
          [
           "Thomas \"Tommy\" Shepherd"
          ],
          [
           "Daniel Thomas Rand K'ai"
          ],
          [
           "Doctor Stephen Vincent Strange"
          ],
          [
           "Ares"
          ],
          [
           "James Buchanan Barnes"
          ],
          [
           "Jessica Miriam Drew"
          ],
          [
           "Jessica Jones"
          ],
          [
           "Amadeus Cho"
          ],
          [
           "Maria Hill"
          ],
          [
           "Robbie Baldwin"
          ],
          [
           "Sharon Carter"
          ],
          [
           "Eric O'Grady"
          ],
          [
           "Brunnhilde"
          ],
          [
           "Richard Rider"
          ],
          [
           "Brian Braddock"
          ],
          [
           "Dennis Sykes"
          ],
          [
           "Noh-Varr"
          ],
          [
           "Thaddeus Ross"
          ],
          [
           "John Aman"
          ],
          [
           "Shang-Chi"
          ],
          [
           "Jeanne Foucault"
          ],
          [
           "Jennifer Takeda"
          ],
          [
           "Ken Mack"
          ],
          [
           "Humberto Lopez"
          ],
          [
           "Brandon Sharpe"
          ],
          [
           "Daisy Johnson"
          ],
          [
           "Ororo Munroe"
          ],
          [
           "Matt Murdock"
          ],
          [
           "Flash Thompson"
          ],
          [
           "Otto Octavius"
          ],
          [
           "Alex Summers"
          ],
          [
           "Samuel Guthrie"
          ],
          [
           "Roberto da Costa"
          ],
          [
           "Eden Fesi"
          ],
          [
           null
          ],
          [
           "Izzy Kane"
          ],
          [
           "Marcus Milton"
          ],
          [
           "Anna Marie"
          ],
          [
           "Shiro Yoshida"
          ],
          [
           null
          ],
          [
           null
          ],
          [
           "Adam"
          ],
          [
           "Kevin Kale Connor"
          ],
          [
           "Sam Alexander"
          ],
          [
           "America Chavez"
          ],
          [
           "Loki Laufeyson"
          ],
          [
           "David Alleyne"
          ],
          [
           "Nicholas Fury, Jr., Marcus Johnson"
          ],
          [
           "Phillip Coulson"
          ],
          [
           "Tony Masters"
          ],
          [
           "Victor Mancha"
          ],
          [
           "Monica Chang"
          ],
          [
           null
          ],
          [
           "Alexis"
          ],
          [
           "Eric Brooks"
          ],
          [
           "Adam Brashear"
          ],
          [
           "Victor Alvarez"
          ],
          [
           "Ava Ayala"
          ],
          [
           "Kaluu"
          ]
         ],
         "hovertemplate": "Year=%{x}<br>Appearances=%{y}<br>Name/Alias=%{customdata[0]}<extra></extra>",
         "legendgroup": "",
         "marker": {
          "color": "#636efa",
          "symbol": "circle"
         },
         "mode": "markers",
         "name": "",
         "orientation": "v",
         "showlegend": false,
         "type": "scatter",
         "x": [
          1963,
          1963,
          1963,
          1963,
          1963,
          1963,
          1964,
          1965,
          1965,
          1965,
          1965,
          1967,
          1968,
          1968,
          1969,
          1973,
          1973,
          1976,
          1976,
          1976,
          1975,
          1978,
          1979,
          1978,
          1978,
          1978,
          1978,
          1978,
          1978,
          1978,
          1979,
          1979,
          1988,
          1981,
          1982,
          1983,
          1984,
          1984,
          1984,
          1993,
          1986,
          1987,
          1988,
          1989,
          1989,
          1991,
          1992,
          1992,
          1993,
          1985,
          2003,
          1987,
          1987,
          1988,
          1988,
          1988,
          1989,
          1989,
          1989,
          1989,
          1989,
          1989,
          1989,
          1989,
          1989,
          2005,
          2005,
          2005,
          2005,
          2005,
          2007,
          2009,
          1990,
          1990,
          1990,
          1992,
          1992,
          1992,
          1993,
          1993,
          1996,
          1996,
          1998,
          1998,
          2000,
          2000,
          2001,
          2004,
          2005,
          2005,
          2005,
          2005,
          2005,
          2005,
          2005,
          2005,
          2005,
          2005,
          2005,
          2006,
          2006,
          2007,
          2007,
          2007,
          2008,
          2008,
          2010,
          2009,
          2010,
          2010,
          2010,
          2010,
          2010,
          2010,
          2010,
          2010,
          2010,
          2011,
          2010,
          2011,
          2010,
          2010,
          2010,
          2010,
          2010,
          2012,
          2012,
          2011,
          2012,
          2013,
          2012,
          2013,
          2013,
          2013,
          2013,
          2013,
          2013,
          2013,
          2013,
          2013,
          2013,
          2013,
          2013,
          2015,
          2013,
          2013,
          2013,
          2013,
          2013,
          2013,
          2013,
          2013,
          2013,
          2013,
          2013,
          2014,
          2014,
          2014,
          2015
         ],
         "xaxis": "x",
         "y": [
          1269,
          1165,
          3068,
          2089,
          2402,
          612,
          3458,
          1456,
          769,
          1214,
          115,
          741,
          780,
          1036,
          482,
          1112,
          160,
          1886,
          332,
          557,
          197,
          106,
          692,
          109,
          100,
          132,
          108,
          100,
          156,
          254,
          935,
          576,
          141,
          355,
          933,
          348,
          206,
          533,
          374,
          2,
          2305,
          83,
          402,
          352,
          565,
          112,
          218,
          149,
          168,
          1561,
          217,
          158,
          86,
          41,
          68,
          70,
          61,
          2125,
          1761,
          293,
          36,
          22,
          31,
          34,
          33,
          4,
          47,
          7,
          3,
          16,
          575,
          58,
          237,
          4333,
          126,
          517,
          202,
          31,
          28,
          50,
          27,
          18,
          302,
          330,
          101,
          43,
          126,
          24,
          886,
          159,
          3130,
          241,
          67,
          23,
          103,
          123,
          110,
          160,
          132,
          121,
          59,
          629,
          1324,
          236,
          663,
          525,
          205,
          108,
          359,
          299,
          333,
          88,
          369,
          380,
          545,
          6,
          126,
          417,
          31,
          310,
          63,
          73,
          59,
          66,
          64,
          81,
          1598,
          1375,
          746,
          561,
          592,
          679,
          491,
          65,
          55,
          44,
          65,
          877,
          176,
          24,
          25,
          35,
          44,
          78,
          22,
          77,
          115,
          77,
          69,
          173,
          75,
          12,
          14,
          13,
          198,
          29,
          45,
          49,
          35
         ],
         "yaxis": "y"
        },
        {
         "hovertemplate": "<b>OLS trendline</b><br>Appearances = -17.1972 * Year + 34772.5<br>R<sup>2</sup>=0.151208<br><br>Year=%{x}<br>Appearances=%{y} <b>(trend)</b><extra></extra>",
         "legendgroup": "",
         "marker": {
          "color": "#636efa",
          "symbol": "circle"
         },
         "mode": "lines",
         "name": "",
         "showlegend": false,
         "type": "scatter",
         "x": [
          1963,
          1963,
          1963,
          1963,
          1963,
          1963,
          1964,
          1965,
          1965,
          1965,
          1965,
          1967,
          1968,
          1968,
          1969,
          1973,
          1973,
          1975,
          1976,
          1976,
          1976,
          1978,
          1978,
          1978,
          1978,
          1978,
          1978,
          1978,
          1978,
          1979,
          1979,
          1979,
          1981,
          1982,
          1983,
          1984,
          1984,
          1984,
          1985,
          1986,
          1987,
          1987,
          1987,
          1988,
          1988,
          1988,
          1988,
          1988,
          1989,
          1989,
          1989,
          1989,
          1989,
          1989,
          1989,
          1989,
          1989,
          1989,
          1989,
          1990,
          1990,
          1990,
          1991,
          1992,
          1992,
          1992,
          1992,
          1992,
          1993,
          1993,
          1993,
          1993,
          1996,
          1996,
          1998,
          1998,
          2000,
          2000,
          2001,
          2003,
          2004,
          2005,
          2005,
          2005,
          2005,
          2005,
          2005,
          2005,
          2005,
          2005,
          2005,
          2005,
          2005,
          2005,
          2005,
          2005,
          2005,
          2006,
          2006,
          2007,
          2007,
          2007,
          2007,
          2008,
          2008,
          2009,
          2009,
          2010,
          2010,
          2010,
          2010,
          2010,
          2010,
          2010,
          2010,
          2010,
          2010,
          2010,
          2010,
          2010,
          2010,
          2010,
          2010,
          2011,
          2011,
          2011,
          2012,
          2012,
          2012,
          2012,
          2013,
          2013,
          2013,
          2013,
          2013,
          2013,
          2013,
          2013,
          2013,
          2013,
          2013,
          2013,
          2013,
          2013,
          2013,
          2013,
          2013,
          2013,
          2013,
          2013,
          2013,
          2013,
          2013,
          2013,
          2014,
          2014,
          2014,
          2015,
          2015
         ],
         "xaxis": "x",
         "y": [
          1014.4152028827593,
          1014.4152028827593,
          1014.4152028827593,
          1014.4152028827593,
          1014.4152028827593,
          1014.4152028827593,
          997.2180005250048,
          980.0207981672575,
          980.0207981672575,
          980.0207981672575,
          980.0207981672575,
          945.6263934517556,
          928.429191094001,
          928.429191094001,
          911.2319887362464,
          842.4431793052427,
          842.4431793052427,
          808.0487745897408,
          790.8515722319935,
          790.8515722319935,
          790.8515722319935,
          756.4571675164843,
          756.4571675164843,
          756.4571675164843,
          756.4571675164843,
          756.4571675164843,
          756.4571675164843,
          756.4571675164843,
          756.4571675164843,
          739.259965158737,
          739.259965158737,
          739.259965158737,
          704.8655604432352,
          687.6683580854806,
          670.4711557277333,
          653.2739533699787,
          653.2739533699787,
          653.2739533699787,
          636.0767510122241,
          618.8795486544768,
          601.6823462967222,
          601.6823462967222,
          601.6823462967222,
          584.4851439389749,
          584.4851439389749,
          584.4851439389749,
          584.4851439389749,
          584.4851439389749,
          567.2879415812204,
          567.2879415812204,
          567.2879415812204,
          567.2879415812204,
          567.2879415812204,
          567.2879415812204,
          567.2879415812204,
          567.2879415812204,
          567.2879415812204,
          567.2879415812204,
          567.2879415812204,
          550.0907392234731,
          550.0907392234731,
          550.0907392234731,
          532.8935368657185,
          515.6963345079712,
          515.6963345079712,
          515.6963345079712,
          515.6963345079712,
          515.6963345079712,
          498.4991321502166,
          498.4991321502166,
          498.4991321502166,
          498.4991321502166,
          446.90752507696016,
          446.90752507696016,
          412.5131203614583,
          412.5131203614583,
          378.1187156459564,
          378.1187156459564,
          360.9215132882018,
          326.52710857269994,
          309.32990621495264,
          292.13270385719807,
          292.13270385719807,
          292.13270385719807,
          292.13270385719807,
          292.13270385719807,
          292.13270385719807,
          292.13270385719807,
          292.13270385719807,
          292.13270385719807,
          292.13270385719807,
          292.13270385719807,
          292.13270385719807,
          292.13270385719807,
          292.13270385719807,
          292.13270385719807,
          292.13270385719807,
          274.93550149945077,
          274.93550149945077,
          257.7382991416962,
          257.7382991416962,
          257.7382991416962,
          257.7382991416962,
          240.5410967839489,
          240.5410967839489,
          223.3438944261943,
          223.3438944261943,
          206.14669206843973,
          206.14669206843973,
          206.14669206843973,
          206.14669206843973,
          206.14669206843973,
          206.14669206843973,
          206.14669206843973,
          206.14669206843973,
          206.14669206843973,
          206.14669206843973,
          206.14669206843973,
          206.14669206843973,
          206.14669206843973,
          206.14669206843973,
          206.14669206843973,
          206.14669206843973,
          188.94948971069243,
          188.94948971069243,
          188.94948971069243,
          171.75228735293786,
          171.75228735293786,
          171.75228735293786,
          171.75228735293786,
          154.55508499519055,
          154.55508499519055,
          154.55508499519055,
          154.55508499519055,
          154.55508499519055,
          154.55508499519055,
          154.55508499519055,
          154.55508499519055,
          154.55508499519055,
          154.55508499519055,
          154.55508499519055,
          154.55508499519055,
          154.55508499519055,
          154.55508499519055,
          154.55508499519055,
          154.55508499519055,
          154.55508499519055,
          154.55508499519055,
          154.55508499519055,
          154.55508499519055,
          154.55508499519055,
          154.55508499519055,
          154.55508499519055,
          154.55508499519055,
          137.35788263743598,
          137.35788263743598,
          137.35788263743598,
          120.16068027968868,
          120.16068027968868
         ],
         "yaxis": "y"
        }
       ],
       "layout": {
        "legend": {
         "tracegroupgap": 0
        },
        "template": {
         "data": {
          "bar": [
           {
            "error_x": {
             "color": "#2a3f5f"
            },
            "error_y": {
             "color": "#2a3f5f"
            },
            "marker": {
             "line": {
              "color": "#E5ECF6",
              "width": 0.5
             },
             "pattern": {
              "fillmode": "overlay",
              "size": 10,
              "solidity": 0.2
             }
            },
            "type": "bar"
           }
          ],
          "barpolar": [
           {
            "marker": {
             "line": {
              "color": "#E5ECF6",
              "width": 0.5
             },
             "pattern": {
              "fillmode": "overlay",
              "size": 10,
              "solidity": 0.2
             }
            },
            "type": "barpolar"
           }
          ],
          "carpet": [
           {
            "aaxis": {
             "endlinecolor": "#2a3f5f",
             "gridcolor": "white",
             "linecolor": "white",
             "minorgridcolor": "white",
             "startlinecolor": "#2a3f5f"
            },
            "baxis": {
             "endlinecolor": "#2a3f5f",
             "gridcolor": "white",
             "linecolor": "white",
             "minorgridcolor": "white",
             "startlinecolor": "#2a3f5f"
            },
            "type": "carpet"
           }
          ],
          "choropleth": [
           {
            "colorbar": {
             "outlinewidth": 0,
             "ticks": ""
            },
            "type": "choropleth"
           }
          ],
          "contour": [
           {
            "colorbar": {
             "outlinewidth": 0,
             "ticks": ""
            },
            "colorscale": [
             [
              0,
              "#0d0887"
             ],
             [
              0.1111111111111111,
              "#46039f"
             ],
             [
              0.2222222222222222,
              "#7201a8"
             ],
             [
              0.3333333333333333,
              "#9c179e"
             ],
             [
              0.4444444444444444,
              "#bd3786"
             ],
             [
              0.5555555555555556,
              "#d8576b"
             ],
             [
              0.6666666666666666,
              "#ed7953"
             ],
             [
              0.7777777777777778,
              "#fb9f3a"
             ],
             [
              0.8888888888888888,
              "#fdca26"
             ],
             [
              1,
              "#f0f921"
             ]
            ],
            "type": "contour"
           }
          ],
          "contourcarpet": [
           {
            "colorbar": {
             "outlinewidth": 0,
             "ticks": ""
            },
            "type": "contourcarpet"
           }
          ],
          "heatmap": [
           {
            "colorbar": {
             "outlinewidth": 0,
             "ticks": ""
            },
            "colorscale": [
             [
              0,
              "#0d0887"
             ],
             [
              0.1111111111111111,
              "#46039f"
             ],
             [
              0.2222222222222222,
              "#7201a8"
             ],
             [
              0.3333333333333333,
              "#9c179e"
             ],
             [
              0.4444444444444444,
              "#bd3786"
             ],
             [
              0.5555555555555556,
              "#d8576b"
             ],
             [
              0.6666666666666666,
              "#ed7953"
             ],
             [
              0.7777777777777778,
              "#fb9f3a"
             ],
             [
              0.8888888888888888,
              "#fdca26"
             ],
             [
              1,
              "#f0f921"
             ]
            ],
            "type": "heatmap"
           }
          ],
          "heatmapgl": [
           {
            "colorbar": {
             "outlinewidth": 0,
             "ticks": ""
            },
            "colorscale": [
             [
              0,
              "#0d0887"
             ],
             [
              0.1111111111111111,
              "#46039f"
             ],
             [
              0.2222222222222222,
              "#7201a8"
             ],
             [
              0.3333333333333333,
              "#9c179e"
             ],
             [
              0.4444444444444444,
              "#bd3786"
             ],
             [
              0.5555555555555556,
              "#d8576b"
             ],
             [
              0.6666666666666666,
              "#ed7953"
             ],
             [
              0.7777777777777778,
              "#fb9f3a"
             ],
             [
              0.8888888888888888,
              "#fdca26"
             ],
             [
              1,
              "#f0f921"
             ]
            ],
            "type": "heatmapgl"
           }
          ],
          "histogram": [
           {
            "marker": {
             "pattern": {
              "fillmode": "overlay",
              "size": 10,
              "solidity": 0.2
             }
            },
            "type": "histogram"
           }
          ],
          "histogram2d": [
           {
            "colorbar": {
             "outlinewidth": 0,
             "ticks": ""
            },
            "colorscale": [
             [
              0,
              "#0d0887"
             ],
             [
              0.1111111111111111,
              "#46039f"
             ],
             [
              0.2222222222222222,
              "#7201a8"
             ],
             [
              0.3333333333333333,
              "#9c179e"
             ],
             [
              0.4444444444444444,
              "#bd3786"
             ],
             [
              0.5555555555555556,
              "#d8576b"
             ],
             [
              0.6666666666666666,
              "#ed7953"
             ],
             [
              0.7777777777777778,
              "#fb9f3a"
             ],
             [
              0.8888888888888888,
              "#fdca26"
             ],
             [
              1,
              "#f0f921"
             ]
            ],
            "type": "histogram2d"
           }
          ],
          "histogram2dcontour": [
           {
            "colorbar": {
             "outlinewidth": 0,
             "ticks": ""
            },
            "colorscale": [
             [
              0,
              "#0d0887"
             ],
             [
              0.1111111111111111,
              "#46039f"
             ],
             [
              0.2222222222222222,
              "#7201a8"
             ],
             [
              0.3333333333333333,
              "#9c179e"
             ],
             [
              0.4444444444444444,
              "#bd3786"
             ],
             [
              0.5555555555555556,
              "#d8576b"
             ],
             [
              0.6666666666666666,
              "#ed7953"
             ],
             [
              0.7777777777777778,
              "#fb9f3a"
             ],
             [
              0.8888888888888888,
              "#fdca26"
             ],
             [
              1,
              "#f0f921"
             ]
            ],
            "type": "histogram2dcontour"
           }
          ],
          "mesh3d": [
           {
            "colorbar": {
             "outlinewidth": 0,
             "ticks": ""
            },
            "type": "mesh3d"
           }
          ],
          "parcoords": [
           {
            "line": {
             "colorbar": {
              "outlinewidth": 0,
              "ticks": ""
             }
            },
            "type": "parcoords"
           }
          ],
          "pie": [
           {
            "automargin": true,
            "type": "pie"
           }
          ],
          "scatter": [
           {
            "fillpattern": {
             "fillmode": "overlay",
             "size": 10,
             "solidity": 0.2
            },
            "type": "scatter"
           }
          ],
          "scatter3d": [
           {
            "line": {
             "colorbar": {
              "outlinewidth": 0,
              "ticks": ""
             }
            },
            "marker": {
             "colorbar": {
              "outlinewidth": 0,
              "ticks": ""
             }
            },
            "type": "scatter3d"
           }
          ],
          "scattercarpet": [
           {
            "marker": {
             "colorbar": {
              "outlinewidth": 0,
              "ticks": ""
             }
            },
            "type": "scattercarpet"
           }
          ],
          "scattergeo": [
           {
            "marker": {
             "colorbar": {
              "outlinewidth": 0,
              "ticks": ""
             }
            },
            "type": "scattergeo"
           }
          ],
          "scattergl": [
           {
            "marker": {
             "colorbar": {
              "outlinewidth": 0,
              "ticks": ""
             }
            },
            "type": "scattergl"
           }
          ],
          "scattermapbox": [
           {
            "marker": {
             "colorbar": {
              "outlinewidth": 0,
              "ticks": ""
             }
            },
            "type": "scattermapbox"
           }
          ],
          "scatterpolar": [
           {
            "marker": {
             "colorbar": {
              "outlinewidth": 0,
              "ticks": ""
             }
            },
            "type": "scatterpolar"
           }
          ],
          "scatterpolargl": [
           {
            "marker": {
             "colorbar": {
              "outlinewidth": 0,
              "ticks": ""
             }
            },
            "type": "scatterpolargl"
           }
          ],
          "scatterternary": [
           {
            "marker": {
             "colorbar": {
              "outlinewidth": 0,
              "ticks": ""
             }
            },
            "type": "scatterternary"
           }
          ],
          "surface": [
           {
            "colorbar": {
             "outlinewidth": 0,
             "ticks": ""
            },
            "colorscale": [
             [
              0,
              "#0d0887"
             ],
             [
              0.1111111111111111,
              "#46039f"
             ],
             [
              0.2222222222222222,
              "#7201a8"
             ],
             [
              0.3333333333333333,
              "#9c179e"
             ],
             [
              0.4444444444444444,
              "#bd3786"
             ],
             [
              0.5555555555555556,
              "#d8576b"
             ],
             [
              0.6666666666666666,
              "#ed7953"
             ],
             [
              0.7777777777777778,
              "#fb9f3a"
             ],
             [
              0.8888888888888888,
              "#fdca26"
             ],
             [
              1,
              "#f0f921"
             ]
            ],
            "type": "surface"
           }
          ],
          "table": [
           {
            "cells": {
             "fill": {
              "color": "#EBF0F8"
             },
             "line": {
              "color": "white"
             }
            },
            "header": {
             "fill": {
              "color": "#C8D4E3"
             },
             "line": {
              "color": "white"
             }
            },
            "type": "table"
           }
          ]
         },
         "layout": {
          "annotationdefaults": {
           "arrowcolor": "#2a3f5f",
           "arrowhead": 0,
           "arrowwidth": 1
          },
          "autotypenumbers": "strict",
          "coloraxis": {
           "colorbar": {
            "outlinewidth": 0,
            "ticks": ""
           }
          },
          "colorscale": {
           "diverging": [
            [
             0,
             "#8e0152"
            ],
            [
             0.1,
             "#c51b7d"
            ],
            [
             0.2,
             "#de77ae"
            ],
            [
             0.3,
             "#f1b6da"
            ],
            [
             0.4,
             "#fde0ef"
            ],
            [
             0.5,
             "#f7f7f7"
            ],
            [
             0.6,
             "#e6f5d0"
            ],
            [
             0.7,
             "#b8e186"
            ],
            [
             0.8,
             "#7fbc41"
            ],
            [
             0.9,
             "#4d9221"
            ],
            [
             1,
             "#276419"
            ]
           ],
           "sequential": [
            [
             0,
             "#0d0887"
            ],
            [
             0.1111111111111111,
             "#46039f"
            ],
            [
             0.2222222222222222,
             "#7201a8"
            ],
            [
             0.3333333333333333,
             "#9c179e"
            ],
            [
             0.4444444444444444,
             "#bd3786"
            ],
            [
             0.5555555555555556,
             "#d8576b"
            ],
            [
             0.6666666666666666,
             "#ed7953"
            ],
            [
             0.7777777777777778,
             "#fb9f3a"
            ],
            [
             0.8888888888888888,
             "#fdca26"
            ],
            [
             1,
             "#f0f921"
            ]
           ],
           "sequentialminus": [
            [
             0,
             "#0d0887"
            ],
            [
             0.1111111111111111,
             "#46039f"
            ],
            [
             0.2222222222222222,
             "#7201a8"
            ],
            [
             0.3333333333333333,
             "#9c179e"
            ],
            [
             0.4444444444444444,
             "#bd3786"
            ],
            [
             0.5555555555555556,
             "#d8576b"
            ],
            [
             0.6666666666666666,
             "#ed7953"
            ],
            [
             0.7777777777777778,
             "#fb9f3a"
            ],
            [
             0.8888888888888888,
             "#fdca26"
            ],
            [
             1,
             "#f0f921"
            ]
           ]
          },
          "colorway": [
           "#636efa",
           "#EF553B",
           "#00cc96",
           "#ab63fa",
           "#FFA15A",
           "#19d3f3",
           "#FF6692",
           "#B6E880",
           "#FF97FF",
           "#FECB52"
          ],
          "font": {
           "color": "#2a3f5f"
          },
          "geo": {
           "bgcolor": "white",
           "lakecolor": "white",
           "landcolor": "#E5ECF6",
           "showlakes": true,
           "showland": true,
           "subunitcolor": "white"
          },
          "hoverlabel": {
           "align": "left"
          },
          "hovermode": "closest",
          "mapbox": {
           "style": "light"
          },
          "paper_bgcolor": "white",
          "plot_bgcolor": "#E5ECF6",
          "polar": {
           "angularaxis": {
            "gridcolor": "white",
            "linecolor": "white",
            "ticks": ""
           },
           "bgcolor": "#E5ECF6",
           "radialaxis": {
            "gridcolor": "white",
            "linecolor": "white",
            "ticks": ""
           }
          },
          "scene": {
           "xaxis": {
            "backgroundcolor": "#E5ECF6",
            "gridcolor": "white",
            "gridwidth": 2,
            "linecolor": "white",
            "showbackground": true,
            "ticks": "",
            "zerolinecolor": "white"
           },
           "yaxis": {
            "backgroundcolor": "#E5ECF6",
            "gridcolor": "white",
            "gridwidth": 2,
            "linecolor": "white",
            "showbackground": true,
            "ticks": "",
            "zerolinecolor": "white"
           },
           "zaxis": {
            "backgroundcolor": "#E5ECF6",
            "gridcolor": "white",
            "gridwidth": 2,
            "linecolor": "white",
            "showbackground": true,
            "ticks": "",
            "zerolinecolor": "white"
           }
          },
          "shapedefaults": {
           "line": {
            "color": "#2a3f5f"
           }
          },
          "ternary": {
           "aaxis": {
            "gridcolor": "white",
            "linecolor": "white",
            "ticks": ""
           },
           "baxis": {
            "gridcolor": "white",
            "linecolor": "white",
            "ticks": ""
           },
           "bgcolor": "#E5ECF6",
           "caxis": {
            "gridcolor": "white",
            "linecolor": "white",
            "ticks": ""
           }
          },
          "title": {
           "x": 0.05
          },
          "xaxis": {
           "automargin": true,
           "gridcolor": "white",
           "linecolor": "white",
           "ticks": "",
           "title": {
            "standoff": 15
           },
           "zerolinecolor": "white",
           "zerolinewidth": 2
          },
          "yaxis": {
           "automargin": true,
           "gridcolor": "white",
           "linecolor": "white",
           "ticks": "",
           "title": {
            "standoff": 15
           },
           "zerolinecolor": "white",
           "zerolinewidth": 2
          }
         }
        },
        "title": {
         "text": "Count of Appearances by Year of Release"
        },
        "xaxis": {
         "anchor": "y",
         "domain": [
          0,
          1
         ],
         "title": {
          "text": "Year"
         }
        },
        "yaxis": {
         "anchor": "x",
         "domain": [
          0,
          1
         ],
         "title": {
          "text": "Appearances"
         }
        }
       }
      }
     },
     "metadata": {},
     "output_type": "display_data"
    }
   ],
   "source": [
    "fig = px.scatter(raw_data[raw_data['Year']> 1910], x='Year', y='Appearances', hover_data='Name/Alias', title='Count of Appearances by Year of Release', trendline='ols')\n",
    "fig.show()"
   ]
  },
  {
   "attachments": {},
   "cell_type": "markdown",
   "metadata": {},
   "source": [
    "It's very easy to do some more complex comparisons."
   ]
  },
  {
   "cell_type": "code",
   "execution_count": 25,
   "metadata": {},
   "outputs": [
    {
     "data": {
      "application/vnd.plotly.v1+json": {
       "config": {
        "plotlyServerURL": "https://plot.ly"
       },
       "data": [
        {
         "alignmentgroup": "True",
         "bingroup": "x",
         "hovertemplate": "Gender=MALE<br>Year=%{x}<br>count=%{y}<extra></extra>",
         "legendgroup": "",
         "marker": {
          "color": "#636efa",
          "pattern": {
           "shape": ""
          }
         },
         "name": "",
         "nbinsx": 30,
         "offsetgroup": "",
         "orientation": "v",
         "showlegend": false,
         "type": "histogram",
         "x": [
          1963,
          1963,
          1963,
          1963,
          1963,
          1964,
          1965,
          1965,
          1965,
          1967,
          1968,
          1968,
          1969,
          1976,
          1975,
          1978,
          1979,
          1978,
          1978,
          1978,
          1978,
          1978,
          1978,
          1979,
          1984,
          1984,
          1986,
          1988,
          1989,
          1989,
          1991,
          1992,
          1993,
          1985,
          2003,
          1987,
          1988,
          1989,
          1989,
          1989,
          1989,
          1989,
          1989,
          1989,
          2005,
          2005,
          2005,
          2007,
          2009,
          1990,
          1990,
          1900,
          1900,
          1992,
          1992,
          1996,
          1998,
          2000,
          2001,
          2005,
          2005,
          2005,
          2005,
          2005,
          2005,
          2005,
          2006,
          2006,
          2007,
          2007,
          2007,
          2008,
          2009,
          2010,
          2010,
          2010,
          2010,
          2010,
          2010,
          2011,
          2010,
          2011,
          1900,
          1900,
          2010,
          2010,
          1900,
          2010,
          1900,
          1900,
          2011,
          2012,
          2013,
          2012,
          2013,
          2013,
          2013,
          2013,
          2013,
          2013,
          2013,
          2013,
          2013,
          2015,
          2013,
          2013,
          2013,
          2013,
          2013,
          2013,
          2013,
          2013,
          2014,
          2014,
          2015
         ],
         "xaxis": "x",
         "yaxis": "y"
        },
        {
         "alignmentgroup": "True",
         "bingroup": "x",
         "hovertemplate": "Gender=FEMALE<br>Year=%{x}<br>count=%{y}<extra></extra>",
         "legendgroup": "",
         "marker": {
          "color": "#636efa",
          "pattern": {
           "shape": ""
          }
         },
         "name": "",
         "nbinsx": 30,
         "offsetgroup": "",
         "orientation": "v",
         "showlegend": false,
         "type": "histogram",
         "x": [
          1963,
          1965,
          1973,
          1973,
          1976,
          1976,
          1978,
          1979,
          1988,
          1981,
          1982,
          1983,
          1984,
          1993,
          1987,
          1992,
          1987,
          1988,
          1988,
          1989,
          1989,
          2005,
          2005,
          1990,
          1992,
          1993,
          1993,
          1996,
          1998,
          2000,
          2004,
          2005,
          2005,
          2005,
          2005,
          2008,
          2010,
          2010,
          2010,
          2010,
          2010,
          1900,
          2010,
          1900,
          1900,
          1900,
          1900,
          1900,
          1900,
          2012,
          2012,
          2013,
          2013,
          2013,
          2013,
          2013,
          2013,
          2014
         ],
         "xaxis": "x2",
         "yaxis": "y2"
        }
       ],
       "layout": {
        "annotations": [
         {
          "font": {},
          "showarrow": false,
          "text": "Gender=MALE",
          "x": 0.245,
          "xanchor": "center",
          "xref": "paper",
          "y": 1,
          "yanchor": "bottom",
          "yref": "paper"
         },
         {
          "font": {},
          "showarrow": false,
          "text": "Gender=FEMALE",
          "x": 0.755,
          "xanchor": "center",
          "xref": "paper",
          "y": 1,
          "yanchor": "bottom",
          "yref": "paper"
         }
        ],
        "barmode": "relative",
        "legend": {
         "tracegroupgap": 0
        },
        "template": {
         "data": {
          "bar": [
           {
            "error_x": {
             "color": "#2a3f5f"
            },
            "error_y": {
             "color": "#2a3f5f"
            },
            "marker": {
             "line": {
              "color": "#E5ECF6",
              "width": 0.5
             },
             "pattern": {
              "fillmode": "overlay",
              "size": 10,
              "solidity": 0.2
             }
            },
            "type": "bar"
           }
          ],
          "barpolar": [
           {
            "marker": {
             "line": {
              "color": "#E5ECF6",
              "width": 0.5
             },
             "pattern": {
              "fillmode": "overlay",
              "size": 10,
              "solidity": 0.2
             }
            },
            "type": "barpolar"
           }
          ],
          "carpet": [
           {
            "aaxis": {
             "endlinecolor": "#2a3f5f",
             "gridcolor": "white",
             "linecolor": "white",
             "minorgridcolor": "white",
             "startlinecolor": "#2a3f5f"
            },
            "baxis": {
             "endlinecolor": "#2a3f5f",
             "gridcolor": "white",
             "linecolor": "white",
             "minorgridcolor": "white",
             "startlinecolor": "#2a3f5f"
            },
            "type": "carpet"
           }
          ],
          "choropleth": [
           {
            "colorbar": {
             "outlinewidth": 0,
             "ticks": ""
            },
            "type": "choropleth"
           }
          ],
          "contour": [
           {
            "colorbar": {
             "outlinewidth": 0,
             "ticks": ""
            },
            "colorscale": [
             [
              0,
              "#0d0887"
             ],
             [
              0.1111111111111111,
              "#46039f"
             ],
             [
              0.2222222222222222,
              "#7201a8"
             ],
             [
              0.3333333333333333,
              "#9c179e"
             ],
             [
              0.4444444444444444,
              "#bd3786"
             ],
             [
              0.5555555555555556,
              "#d8576b"
             ],
             [
              0.6666666666666666,
              "#ed7953"
             ],
             [
              0.7777777777777778,
              "#fb9f3a"
             ],
             [
              0.8888888888888888,
              "#fdca26"
             ],
             [
              1,
              "#f0f921"
             ]
            ],
            "type": "contour"
           }
          ],
          "contourcarpet": [
           {
            "colorbar": {
             "outlinewidth": 0,
             "ticks": ""
            },
            "type": "contourcarpet"
           }
          ],
          "heatmap": [
           {
            "colorbar": {
             "outlinewidth": 0,
             "ticks": ""
            },
            "colorscale": [
             [
              0,
              "#0d0887"
             ],
             [
              0.1111111111111111,
              "#46039f"
             ],
             [
              0.2222222222222222,
              "#7201a8"
             ],
             [
              0.3333333333333333,
              "#9c179e"
             ],
             [
              0.4444444444444444,
              "#bd3786"
             ],
             [
              0.5555555555555556,
              "#d8576b"
             ],
             [
              0.6666666666666666,
              "#ed7953"
             ],
             [
              0.7777777777777778,
              "#fb9f3a"
             ],
             [
              0.8888888888888888,
              "#fdca26"
             ],
             [
              1,
              "#f0f921"
             ]
            ],
            "type": "heatmap"
           }
          ],
          "heatmapgl": [
           {
            "colorbar": {
             "outlinewidth": 0,
             "ticks": ""
            },
            "colorscale": [
             [
              0,
              "#0d0887"
             ],
             [
              0.1111111111111111,
              "#46039f"
             ],
             [
              0.2222222222222222,
              "#7201a8"
             ],
             [
              0.3333333333333333,
              "#9c179e"
             ],
             [
              0.4444444444444444,
              "#bd3786"
             ],
             [
              0.5555555555555556,
              "#d8576b"
             ],
             [
              0.6666666666666666,
              "#ed7953"
             ],
             [
              0.7777777777777778,
              "#fb9f3a"
             ],
             [
              0.8888888888888888,
              "#fdca26"
             ],
             [
              1,
              "#f0f921"
             ]
            ],
            "type": "heatmapgl"
           }
          ],
          "histogram": [
           {
            "marker": {
             "pattern": {
              "fillmode": "overlay",
              "size": 10,
              "solidity": 0.2
             }
            },
            "type": "histogram"
           }
          ],
          "histogram2d": [
           {
            "colorbar": {
             "outlinewidth": 0,
             "ticks": ""
            },
            "colorscale": [
             [
              0,
              "#0d0887"
             ],
             [
              0.1111111111111111,
              "#46039f"
             ],
             [
              0.2222222222222222,
              "#7201a8"
             ],
             [
              0.3333333333333333,
              "#9c179e"
             ],
             [
              0.4444444444444444,
              "#bd3786"
             ],
             [
              0.5555555555555556,
              "#d8576b"
             ],
             [
              0.6666666666666666,
              "#ed7953"
             ],
             [
              0.7777777777777778,
              "#fb9f3a"
             ],
             [
              0.8888888888888888,
              "#fdca26"
             ],
             [
              1,
              "#f0f921"
             ]
            ],
            "type": "histogram2d"
           }
          ],
          "histogram2dcontour": [
           {
            "colorbar": {
             "outlinewidth": 0,
             "ticks": ""
            },
            "colorscale": [
             [
              0,
              "#0d0887"
             ],
             [
              0.1111111111111111,
              "#46039f"
             ],
             [
              0.2222222222222222,
              "#7201a8"
             ],
             [
              0.3333333333333333,
              "#9c179e"
             ],
             [
              0.4444444444444444,
              "#bd3786"
             ],
             [
              0.5555555555555556,
              "#d8576b"
             ],
             [
              0.6666666666666666,
              "#ed7953"
             ],
             [
              0.7777777777777778,
              "#fb9f3a"
             ],
             [
              0.8888888888888888,
              "#fdca26"
             ],
             [
              1,
              "#f0f921"
             ]
            ],
            "type": "histogram2dcontour"
           }
          ],
          "mesh3d": [
           {
            "colorbar": {
             "outlinewidth": 0,
             "ticks": ""
            },
            "type": "mesh3d"
           }
          ],
          "parcoords": [
           {
            "line": {
             "colorbar": {
              "outlinewidth": 0,
              "ticks": ""
             }
            },
            "type": "parcoords"
           }
          ],
          "pie": [
           {
            "automargin": true,
            "type": "pie"
           }
          ],
          "scatter": [
           {
            "fillpattern": {
             "fillmode": "overlay",
             "size": 10,
             "solidity": 0.2
            },
            "type": "scatter"
           }
          ],
          "scatter3d": [
           {
            "line": {
             "colorbar": {
              "outlinewidth": 0,
              "ticks": ""
             }
            },
            "marker": {
             "colorbar": {
              "outlinewidth": 0,
              "ticks": ""
             }
            },
            "type": "scatter3d"
           }
          ],
          "scattercarpet": [
           {
            "marker": {
             "colorbar": {
              "outlinewidth": 0,
              "ticks": ""
             }
            },
            "type": "scattercarpet"
           }
          ],
          "scattergeo": [
           {
            "marker": {
             "colorbar": {
              "outlinewidth": 0,
              "ticks": ""
             }
            },
            "type": "scattergeo"
           }
          ],
          "scattergl": [
           {
            "marker": {
             "colorbar": {
              "outlinewidth": 0,
              "ticks": ""
             }
            },
            "type": "scattergl"
           }
          ],
          "scattermapbox": [
           {
            "marker": {
             "colorbar": {
              "outlinewidth": 0,
              "ticks": ""
             }
            },
            "type": "scattermapbox"
           }
          ],
          "scatterpolar": [
           {
            "marker": {
             "colorbar": {
              "outlinewidth": 0,
              "ticks": ""
             }
            },
            "type": "scatterpolar"
           }
          ],
          "scatterpolargl": [
           {
            "marker": {
             "colorbar": {
              "outlinewidth": 0,
              "ticks": ""
             }
            },
            "type": "scatterpolargl"
           }
          ],
          "scatterternary": [
           {
            "marker": {
             "colorbar": {
              "outlinewidth": 0,
              "ticks": ""
             }
            },
            "type": "scatterternary"
           }
          ],
          "surface": [
           {
            "colorbar": {
             "outlinewidth": 0,
             "ticks": ""
            },
            "colorscale": [
             [
              0,
              "#0d0887"
             ],
             [
              0.1111111111111111,
              "#46039f"
             ],
             [
              0.2222222222222222,
              "#7201a8"
             ],
             [
              0.3333333333333333,
              "#9c179e"
             ],
             [
              0.4444444444444444,
              "#bd3786"
             ],
             [
              0.5555555555555556,
              "#d8576b"
             ],
             [
              0.6666666666666666,
              "#ed7953"
             ],
             [
              0.7777777777777778,
              "#fb9f3a"
             ],
             [
              0.8888888888888888,
              "#fdca26"
             ],
             [
              1,
              "#f0f921"
             ]
            ],
            "type": "surface"
           }
          ],
          "table": [
           {
            "cells": {
             "fill": {
              "color": "#EBF0F8"
             },
             "line": {
              "color": "white"
             }
            },
            "header": {
             "fill": {
              "color": "#C8D4E3"
             },
             "line": {
              "color": "white"
             }
            },
            "type": "table"
           }
          ]
         },
         "layout": {
          "annotationdefaults": {
           "arrowcolor": "#2a3f5f",
           "arrowhead": 0,
           "arrowwidth": 1
          },
          "autotypenumbers": "strict",
          "coloraxis": {
           "colorbar": {
            "outlinewidth": 0,
            "ticks": ""
           }
          },
          "colorscale": {
           "diverging": [
            [
             0,
             "#8e0152"
            ],
            [
             0.1,
             "#c51b7d"
            ],
            [
             0.2,
             "#de77ae"
            ],
            [
             0.3,
             "#f1b6da"
            ],
            [
             0.4,
             "#fde0ef"
            ],
            [
             0.5,
             "#f7f7f7"
            ],
            [
             0.6,
             "#e6f5d0"
            ],
            [
             0.7,
             "#b8e186"
            ],
            [
             0.8,
             "#7fbc41"
            ],
            [
             0.9,
             "#4d9221"
            ],
            [
             1,
             "#276419"
            ]
           ],
           "sequential": [
            [
             0,
             "#0d0887"
            ],
            [
             0.1111111111111111,
             "#46039f"
            ],
            [
             0.2222222222222222,
             "#7201a8"
            ],
            [
             0.3333333333333333,
             "#9c179e"
            ],
            [
             0.4444444444444444,
             "#bd3786"
            ],
            [
             0.5555555555555556,
             "#d8576b"
            ],
            [
             0.6666666666666666,
             "#ed7953"
            ],
            [
             0.7777777777777778,
             "#fb9f3a"
            ],
            [
             0.8888888888888888,
             "#fdca26"
            ],
            [
             1,
             "#f0f921"
            ]
           ],
           "sequentialminus": [
            [
             0,
             "#0d0887"
            ],
            [
             0.1111111111111111,
             "#46039f"
            ],
            [
             0.2222222222222222,
             "#7201a8"
            ],
            [
             0.3333333333333333,
             "#9c179e"
            ],
            [
             0.4444444444444444,
             "#bd3786"
            ],
            [
             0.5555555555555556,
             "#d8576b"
            ],
            [
             0.6666666666666666,
             "#ed7953"
            ],
            [
             0.7777777777777778,
             "#fb9f3a"
            ],
            [
             0.8888888888888888,
             "#fdca26"
            ],
            [
             1,
             "#f0f921"
            ]
           ]
          },
          "colorway": [
           "#636efa",
           "#EF553B",
           "#00cc96",
           "#ab63fa",
           "#FFA15A",
           "#19d3f3",
           "#FF6692",
           "#B6E880",
           "#FF97FF",
           "#FECB52"
          ],
          "font": {
           "color": "#2a3f5f"
          },
          "geo": {
           "bgcolor": "white",
           "lakecolor": "white",
           "landcolor": "#E5ECF6",
           "showlakes": true,
           "showland": true,
           "subunitcolor": "white"
          },
          "hoverlabel": {
           "align": "left"
          },
          "hovermode": "closest",
          "mapbox": {
           "style": "light"
          },
          "paper_bgcolor": "white",
          "plot_bgcolor": "#E5ECF6",
          "polar": {
           "angularaxis": {
            "gridcolor": "white",
            "linecolor": "white",
            "ticks": ""
           },
           "bgcolor": "#E5ECF6",
           "radialaxis": {
            "gridcolor": "white",
            "linecolor": "white",
            "ticks": ""
           }
          },
          "scene": {
           "xaxis": {
            "backgroundcolor": "#E5ECF6",
            "gridcolor": "white",
            "gridwidth": 2,
            "linecolor": "white",
            "showbackground": true,
            "ticks": "",
            "zerolinecolor": "white"
           },
           "yaxis": {
            "backgroundcolor": "#E5ECF6",
            "gridcolor": "white",
            "gridwidth": 2,
            "linecolor": "white",
            "showbackground": true,
            "ticks": "",
            "zerolinecolor": "white"
           },
           "zaxis": {
            "backgroundcolor": "#E5ECF6",
            "gridcolor": "white",
            "gridwidth": 2,
            "linecolor": "white",
            "showbackground": true,
            "ticks": "",
            "zerolinecolor": "white"
           }
          },
          "shapedefaults": {
           "line": {
            "color": "#2a3f5f"
           }
          },
          "ternary": {
           "aaxis": {
            "gridcolor": "white",
            "linecolor": "white",
            "ticks": ""
           },
           "baxis": {
            "gridcolor": "white",
            "linecolor": "white",
            "ticks": ""
           },
           "bgcolor": "#E5ECF6",
           "caxis": {
            "gridcolor": "white",
            "linecolor": "white",
            "ticks": ""
           }
          },
          "title": {
           "x": 0.05
          },
          "xaxis": {
           "automargin": true,
           "gridcolor": "white",
           "linecolor": "white",
           "ticks": "",
           "title": {
            "standoff": 15
           },
           "zerolinecolor": "white",
           "zerolinewidth": 2
          },
          "yaxis": {
           "automargin": true,
           "gridcolor": "white",
           "linecolor": "white",
           "ticks": "",
           "title": {
            "standoff": 15
           },
           "zerolinecolor": "white",
           "zerolinewidth": 2
          }
         }
        },
        "title": {
         "text": "Distribution of Year of First Appearance"
        },
        "xaxis": {
         "anchor": "y",
         "domain": [
          0,
          0.49
         ],
         "title": {
          "text": "Year"
         }
        },
        "xaxis2": {
         "anchor": "y2",
         "domain": [
          0.51,
          1
         ],
         "matches": "x",
         "title": {
          "text": "Year"
         }
        },
        "yaxis": {
         "anchor": "x",
         "domain": [
          0,
          1
         ],
         "title": {
          "text": "count"
         }
        },
        "yaxis2": {
         "anchor": "x2",
         "domain": [
          0,
          1
         ],
         "matches": "y",
         "showticklabels": false
        }
       }
      }
     },
     "metadata": {},
     "output_type": "display_data"
    }
   ],
   "source": [
    "fig = px.histogram(raw_data, x='Year', nbins= 30, title='Distribution of Year of First Appearance', facet_col='Gender')\n",
    "fig.show()"
   ]
  },
  {
   "cell_type": "code",
   "execution_count": 27,
   "metadata": {},
   "outputs": [
    {
     "data": {
      "application/vnd.plotly.v1+json": {
       "config": {
        "plotlyServerURL": "https://plot.ly"
       },
       "data": [
        {
         "alignmentgroup": "True",
         "bingroup": "x",
         "hovertemplate": "Gender=MALE<br>Year=%{x}<br>count=%{y}<extra></extra>",
         "legendgroup": "MALE",
         "marker": {
          "color": "#636efa",
          "opacity": 0.5,
          "pattern": {
           "shape": ""
          }
         },
         "name": "MALE",
         "nbinsx": 30,
         "offsetgroup": "MALE",
         "orientation": "v",
         "showlegend": true,
         "type": "histogram",
         "x": [
          1963,
          1963,
          1963,
          1963,
          1963,
          1964,
          1965,
          1965,
          1965,
          1967,
          1968,
          1968,
          1969,
          1976,
          1975,
          1978,
          1979,
          1978,
          1978,
          1978,
          1978,
          1978,
          1978,
          1979,
          1984,
          1984,
          1986,
          1988,
          1989,
          1989,
          1991,
          1992,
          1993,
          1985,
          2003,
          1987,
          1988,
          1989,
          1989,
          1989,
          1989,
          1989,
          1989,
          1989,
          2005,
          2005,
          2005,
          2007,
          2009,
          1990,
          1990,
          1900,
          1900,
          1992,
          1992,
          1996,
          1998,
          2000,
          2001,
          2005,
          2005,
          2005,
          2005,
          2005,
          2005,
          2005,
          2006,
          2006,
          2007,
          2007,
          2007,
          2008,
          2009,
          2010,
          2010,
          2010,
          2010,
          2010,
          2010,
          2011,
          2010,
          2011,
          1900,
          1900,
          2010,
          2010,
          1900,
          2010,
          1900,
          1900,
          2011,
          2012,
          2013,
          2012,
          2013,
          2013,
          2013,
          2013,
          2013,
          2013,
          2013,
          2013,
          2013,
          2015,
          2013,
          2013,
          2013,
          2013,
          2013,
          2013,
          2013,
          2013,
          2014,
          2014,
          2015
         ],
         "xaxis": "x",
         "yaxis": "y"
        },
        {
         "alignmentgroup": "True",
         "bingroup": "x",
         "hovertemplate": "Gender=FEMALE<br>Year=%{x}<br>count=%{y}<extra></extra>",
         "legendgroup": "FEMALE",
         "marker": {
          "color": "#EF553B",
          "opacity": 0.5,
          "pattern": {
           "shape": ""
          }
         },
         "name": "FEMALE",
         "nbinsx": 30,
         "offsetgroup": "FEMALE",
         "orientation": "v",
         "showlegend": true,
         "type": "histogram",
         "x": [
          1963,
          1965,
          1973,
          1973,
          1976,
          1976,
          1978,
          1979,
          1988,
          1981,
          1982,
          1983,
          1984,
          1993,
          1987,
          1992,
          1987,
          1988,
          1988,
          1989,
          1989,
          2005,
          2005,
          1990,
          1992,
          1993,
          1993,
          1996,
          1998,
          2000,
          2004,
          2005,
          2005,
          2005,
          2005,
          2008,
          2010,
          2010,
          2010,
          2010,
          2010,
          1900,
          2010,
          1900,
          1900,
          1900,
          1900,
          1900,
          1900,
          2012,
          2012,
          2013,
          2013,
          2013,
          2013,
          2013,
          2013,
          2014
         ],
         "xaxis": "x",
         "yaxis": "y"
        }
       ],
       "layout": {
        "barmode": "overlay",
        "legend": {
         "title": {
          "text": "Gender"
         },
         "tracegroupgap": 0
        },
        "template": {
         "data": {
          "bar": [
           {
            "error_x": {
             "color": "#2a3f5f"
            },
            "error_y": {
             "color": "#2a3f5f"
            },
            "marker": {
             "line": {
              "color": "#E5ECF6",
              "width": 0.5
             },
             "pattern": {
              "fillmode": "overlay",
              "size": 10,
              "solidity": 0.2
             }
            },
            "type": "bar"
           }
          ],
          "barpolar": [
           {
            "marker": {
             "line": {
              "color": "#E5ECF6",
              "width": 0.5
             },
             "pattern": {
              "fillmode": "overlay",
              "size": 10,
              "solidity": 0.2
             }
            },
            "type": "barpolar"
           }
          ],
          "carpet": [
           {
            "aaxis": {
             "endlinecolor": "#2a3f5f",
             "gridcolor": "white",
             "linecolor": "white",
             "minorgridcolor": "white",
             "startlinecolor": "#2a3f5f"
            },
            "baxis": {
             "endlinecolor": "#2a3f5f",
             "gridcolor": "white",
             "linecolor": "white",
             "minorgridcolor": "white",
             "startlinecolor": "#2a3f5f"
            },
            "type": "carpet"
           }
          ],
          "choropleth": [
           {
            "colorbar": {
             "outlinewidth": 0,
             "ticks": ""
            },
            "type": "choropleth"
           }
          ],
          "contour": [
           {
            "colorbar": {
             "outlinewidth": 0,
             "ticks": ""
            },
            "colorscale": [
             [
              0,
              "#0d0887"
             ],
             [
              0.1111111111111111,
              "#46039f"
             ],
             [
              0.2222222222222222,
              "#7201a8"
             ],
             [
              0.3333333333333333,
              "#9c179e"
             ],
             [
              0.4444444444444444,
              "#bd3786"
             ],
             [
              0.5555555555555556,
              "#d8576b"
             ],
             [
              0.6666666666666666,
              "#ed7953"
             ],
             [
              0.7777777777777778,
              "#fb9f3a"
             ],
             [
              0.8888888888888888,
              "#fdca26"
             ],
             [
              1,
              "#f0f921"
             ]
            ],
            "type": "contour"
           }
          ],
          "contourcarpet": [
           {
            "colorbar": {
             "outlinewidth": 0,
             "ticks": ""
            },
            "type": "contourcarpet"
           }
          ],
          "heatmap": [
           {
            "colorbar": {
             "outlinewidth": 0,
             "ticks": ""
            },
            "colorscale": [
             [
              0,
              "#0d0887"
             ],
             [
              0.1111111111111111,
              "#46039f"
             ],
             [
              0.2222222222222222,
              "#7201a8"
             ],
             [
              0.3333333333333333,
              "#9c179e"
             ],
             [
              0.4444444444444444,
              "#bd3786"
             ],
             [
              0.5555555555555556,
              "#d8576b"
             ],
             [
              0.6666666666666666,
              "#ed7953"
             ],
             [
              0.7777777777777778,
              "#fb9f3a"
             ],
             [
              0.8888888888888888,
              "#fdca26"
             ],
             [
              1,
              "#f0f921"
             ]
            ],
            "type": "heatmap"
           }
          ],
          "heatmapgl": [
           {
            "colorbar": {
             "outlinewidth": 0,
             "ticks": ""
            },
            "colorscale": [
             [
              0,
              "#0d0887"
             ],
             [
              0.1111111111111111,
              "#46039f"
             ],
             [
              0.2222222222222222,
              "#7201a8"
             ],
             [
              0.3333333333333333,
              "#9c179e"
             ],
             [
              0.4444444444444444,
              "#bd3786"
             ],
             [
              0.5555555555555556,
              "#d8576b"
             ],
             [
              0.6666666666666666,
              "#ed7953"
             ],
             [
              0.7777777777777778,
              "#fb9f3a"
             ],
             [
              0.8888888888888888,
              "#fdca26"
             ],
             [
              1,
              "#f0f921"
             ]
            ],
            "type": "heatmapgl"
           }
          ],
          "histogram": [
           {
            "marker": {
             "pattern": {
              "fillmode": "overlay",
              "size": 10,
              "solidity": 0.2
             }
            },
            "type": "histogram"
           }
          ],
          "histogram2d": [
           {
            "colorbar": {
             "outlinewidth": 0,
             "ticks": ""
            },
            "colorscale": [
             [
              0,
              "#0d0887"
             ],
             [
              0.1111111111111111,
              "#46039f"
             ],
             [
              0.2222222222222222,
              "#7201a8"
             ],
             [
              0.3333333333333333,
              "#9c179e"
             ],
             [
              0.4444444444444444,
              "#bd3786"
             ],
             [
              0.5555555555555556,
              "#d8576b"
             ],
             [
              0.6666666666666666,
              "#ed7953"
             ],
             [
              0.7777777777777778,
              "#fb9f3a"
             ],
             [
              0.8888888888888888,
              "#fdca26"
             ],
             [
              1,
              "#f0f921"
             ]
            ],
            "type": "histogram2d"
           }
          ],
          "histogram2dcontour": [
           {
            "colorbar": {
             "outlinewidth": 0,
             "ticks": ""
            },
            "colorscale": [
             [
              0,
              "#0d0887"
             ],
             [
              0.1111111111111111,
              "#46039f"
             ],
             [
              0.2222222222222222,
              "#7201a8"
             ],
             [
              0.3333333333333333,
              "#9c179e"
             ],
             [
              0.4444444444444444,
              "#bd3786"
             ],
             [
              0.5555555555555556,
              "#d8576b"
             ],
             [
              0.6666666666666666,
              "#ed7953"
             ],
             [
              0.7777777777777778,
              "#fb9f3a"
             ],
             [
              0.8888888888888888,
              "#fdca26"
             ],
             [
              1,
              "#f0f921"
             ]
            ],
            "type": "histogram2dcontour"
           }
          ],
          "mesh3d": [
           {
            "colorbar": {
             "outlinewidth": 0,
             "ticks": ""
            },
            "type": "mesh3d"
           }
          ],
          "parcoords": [
           {
            "line": {
             "colorbar": {
              "outlinewidth": 0,
              "ticks": ""
             }
            },
            "type": "parcoords"
           }
          ],
          "pie": [
           {
            "automargin": true,
            "type": "pie"
           }
          ],
          "scatter": [
           {
            "fillpattern": {
             "fillmode": "overlay",
             "size": 10,
             "solidity": 0.2
            },
            "type": "scatter"
           }
          ],
          "scatter3d": [
           {
            "line": {
             "colorbar": {
              "outlinewidth": 0,
              "ticks": ""
             }
            },
            "marker": {
             "colorbar": {
              "outlinewidth": 0,
              "ticks": ""
             }
            },
            "type": "scatter3d"
           }
          ],
          "scattercarpet": [
           {
            "marker": {
             "colorbar": {
              "outlinewidth": 0,
              "ticks": ""
             }
            },
            "type": "scattercarpet"
           }
          ],
          "scattergeo": [
           {
            "marker": {
             "colorbar": {
              "outlinewidth": 0,
              "ticks": ""
             }
            },
            "type": "scattergeo"
           }
          ],
          "scattergl": [
           {
            "marker": {
             "colorbar": {
              "outlinewidth": 0,
              "ticks": ""
             }
            },
            "type": "scattergl"
           }
          ],
          "scattermapbox": [
           {
            "marker": {
             "colorbar": {
              "outlinewidth": 0,
              "ticks": ""
             }
            },
            "type": "scattermapbox"
           }
          ],
          "scatterpolar": [
           {
            "marker": {
             "colorbar": {
              "outlinewidth": 0,
              "ticks": ""
             }
            },
            "type": "scatterpolar"
           }
          ],
          "scatterpolargl": [
           {
            "marker": {
             "colorbar": {
              "outlinewidth": 0,
              "ticks": ""
             }
            },
            "type": "scatterpolargl"
           }
          ],
          "scatterternary": [
           {
            "marker": {
             "colorbar": {
              "outlinewidth": 0,
              "ticks": ""
             }
            },
            "type": "scatterternary"
           }
          ],
          "surface": [
           {
            "colorbar": {
             "outlinewidth": 0,
             "ticks": ""
            },
            "colorscale": [
             [
              0,
              "#0d0887"
             ],
             [
              0.1111111111111111,
              "#46039f"
             ],
             [
              0.2222222222222222,
              "#7201a8"
             ],
             [
              0.3333333333333333,
              "#9c179e"
             ],
             [
              0.4444444444444444,
              "#bd3786"
             ],
             [
              0.5555555555555556,
              "#d8576b"
             ],
             [
              0.6666666666666666,
              "#ed7953"
             ],
             [
              0.7777777777777778,
              "#fb9f3a"
             ],
             [
              0.8888888888888888,
              "#fdca26"
             ],
             [
              1,
              "#f0f921"
             ]
            ],
            "type": "surface"
           }
          ],
          "table": [
           {
            "cells": {
             "fill": {
              "color": "#EBF0F8"
             },
             "line": {
              "color": "white"
             }
            },
            "header": {
             "fill": {
              "color": "#C8D4E3"
             },
             "line": {
              "color": "white"
             }
            },
            "type": "table"
           }
          ]
         },
         "layout": {
          "annotationdefaults": {
           "arrowcolor": "#2a3f5f",
           "arrowhead": 0,
           "arrowwidth": 1
          },
          "autotypenumbers": "strict",
          "coloraxis": {
           "colorbar": {
            "outlinewidth": 0,
            "ticks": ""
           }
          },
          "colorscale": {
           "diverging": [
            [
             0,
             "#8e0152"
            ],
            [
             0.1,
             "#c51b7d"
            ],
            [
             0.2,
             "#de77ae"
            ],
            [
             0.3,
             "#f1b6da"
            ],
            [
             0.4,
             "#fde0ef"
            ],
            [
             0.5,
             "#f7f7f7"
            ],
            [
             0.6,
             "#e6f5d0"
            ],
            [
             0.7,
             "#b8e186"
            ],
            [
             0.8,
             "#7fbc41"
            ],
            [
             0.9,
             "#4d9221"
            ],
            [
             1,
             "#276419"
            ]
           ],
           "sequential": [
            [
             0,
             "#0d0887"
            ],
            [
             0.1111111111111111,
             "#46039f"
            ],
            [
             0.2222222222222222,
             "#7201a8"
            ],
            [
             0.3333333333333333,
             "#9c179e"
            ],
            [
             0.4444444444444444,
             "#bd3786"
            ],
            [
             0.5555555555555556,
             "#d8576b"
            ],
            [
             0.6666666666666666,
             "#ed7953"
            ],
            [
             0.7777777777777778,
             "#fb9f3a"
            ],
            [
             0.8888888888888888,
             "#fdca26"
            ],
            [
             1,
             "#f0f921"
            ]
           ],
           "sequentialminus": [
            [
             0,
             "#0d0887"
            ],
            [
             0.1111111111111111,
             "#46039f"
            ],
            [
             0.2222222222222222,
             "#7201a8"
            ],
            [
             0.3333333333333333,
             "#9c179e"
            ],
            [
             0.4444444444444444,
             "#bd3786"
            ],
            [
             0.5555555555555556,
             "#d8576b"
            ],
            [
             0.6666666666666666,
             "#ed7953"
            ],
            [
             0.7777777777777778,
             "#fb9f3a"
            ],
            [
             0.8888888888888888,
             "#fdca26"
            ],
            [
             1,
             "#f0f921"
            ]
           ]
          },
          "colorway": [
           "#636efa",
           "#EF553B",
           "#00cc96",
           "#ab63fa",
           "#FFA15A",
           "#19d3f3",
           "#FF6692",
           "#B6E880",
           "#FF97FF",
           "#FECB52"
          ],
          "font": {
           "color": "#2a3f5f"
          },
          "geo": {
           "bgcolor": "white",
           "lakecolor": "white",
           "landcolor": "#E5ECF6",
           "showlakes": true,
           "showland": true,
           "subunitcolor": "white"
          },
          "hoverlabel": {
           "align": "left"
          },
          "hovermode": "closest",
          "mapbox": {
           "style": "light"
          },
          "paper_bgcolor": "white",
          "plot_bgcolor": "#E5ECF6",
          "polar": {
           "angularaxis": {
            "gridcolor": "white",
            "linecolor": "white",
            "ticks": ""
           },
           "bgcolor": "#E5ECF6",
           "radialaxis": {
            "gridcolor": "white",
            "linecolor": "white",
            "ticks": ""
           }
          },
          "scene": {
           "xaxis": {
            "backgroundcolor": "#E5ECF6",
            "gridcolor": "white",
            "gridwidth": 2,
            "linecolor": "white",
            "showbackground": true,
            "ticks": "",
            "zerolinecolor": "white"
           },
           "yaxis": {
            "backgroundcolor": "#E5ECF6",
            "gridcolor": "white",
            "gridwidth": 2,
            "linecolor": "white",
            "showbackground": true,
            "ticks": "",
            "zerolinecolor": "white"
           },
           "zaxis": {
            "backgroundcolor": "#E5ECF6",
            "gridcolor": "white",
            "gridwidth": 2,
            "linecolor": "white",
            "showbackground": true,
            "ticks": "",
            "zerolinecolor": "white"
           }
          },
          "shapedefaults": {
           "line": {
            "color": "#2a3f5f"
           }
          },
          "ternary": {
           "aaxis": {
            "gridcolor": "white",
            "linecolor": "white",
            "ticks": ""
           },
           "baxis": {
            "gridcolor": "white",
            "linecolor": "white",
            "ticks": ""
           },
           "bgcolor": "#E5ECF6",
           "caxis": {
            "gridcolor": "white",
            "linecolor": "white",
            "ticks": ""
           }
          },
          "title": {
           "x": 0.05
          },
          "xaxis": {
           "automargin": true,
           "gridcolor": "white",
           "linecolor": "white",
           "ticks": "",
           "title": {
            "standoff": 15
           },
           "zerolinecolor": "white",
           "zerolinewidth": 2
          },
          "yaxis": {
           "automargin": true,
           "gridcolor": "white",
           "linecolor": "white",
           "ticks": "",
           "title": {
            "standoff": 15
           },
           "zerolinecolor": "white",
           "zerolinewidth": 2
          }
         }
        },
        "title": {
         "text": "Distribution of Year of First Appearance"
        },
        "xaxis": {
         "anchor": "y",
         "domain": [
          0,
          1
         ],
         "title": {
          "text": "Year"
         }
        },
        "yaxis": {
         "anchor": "x",
         "domain": [
          0,
          1
         ],
         "title": {
          "text": "count"
         }
        }
       }
      }
     },
     "metadata": {},
     "output_type": "display_data"
    }
   ],
   "source": [
    "fig = px.histogram(raw_data, x='Year', nbins= 30, title='Distribution of Year of First Appearance', color='Gender', barmode='overlay')\n",
    "fig.show()"
   ]
  },
  {
   "attachments": {},
   "cell_type": "markdown",
   "metadata": {},
   "source": [
    "These can be combined as well to quickly get some even more detailed measures."
   ]
  },
  {
   "cell_type": "code",
   "execution_count": 29,
   "metadata": {},
   "outputs": [
    {
     "data": {
      "application/vnd.plotly.v1+json": {
       "config": {
        "plotlyServerURL": "https://plot.ly"
       },
       "data": [
        {
         "alignmentgroup": "True",
         "bingroup": "x",
         "hovertemplate": "Gender=MALE<br>Current?=YES<br>Year=%{x}<br>count=%{y}<extra></extra>",
         "legendgroup": "MALE",
         "marker": {
          "color": "#636efa",
          "opacity": 0.5,
          "pattern": {
           "shape": ""
          }
         },
         "name": "MALE",
         "nbinsx": 30,
         "offsetgroup": "MALE",
         "orientation": "v",
         "showlegend": true,
         "type": "histogram",
         "x": [
          1963,
          1963,
          1963,
          1963,
          1963,
          1964,
          1965,
          1965,
          1967,
          1968,
          1979,
          1979,
          1989,
          1989,
          1989,
          1989,
          1990,
          2005,
          2005,
          2005,
          2005,
          2006,
          2010,
          2010,
          2011,
          1900,
          1900,
          2010,
          1900,
          2010,
          1900,
          1900,
          2012,
          2012,
          2013,
          2013,
          2013,
          2013,
          2013,
          2013,
          2013,
          2013,
          2013,
          2015,
          2013,
          2013,
          2013,
          2013,
          2013,
          2013,
          2014,
          2014,
          2015
         ],
         "xaxis": "x",
         "yaxis": "y"
        },
        {
         "alignmentgroup": "True",
         "bingroup": "x",
         "hovertemplate": "Gender=MALE<br>Current?=NO<br>Year=%{x}<br>count=%{y}<extra></extra>",
         "legendgroup": "MALE",
         "marker": {
          "color": "#636efa",
          "opacity": 0.5,
          "pattern": {
           "shape": ""
          }
         },
         "name": "MALE",
         "nbinsx": 30,
         "offsetgroup": "MALE",
         "orientation": "v",
         "showlegend": false,
         "type": "histogram",
         "x": [
          1965,
          1968,
          1969,
          1976,
          1975,
          1978,
          1978,
          1978,
          1978,
          1978,
          1978,
          1978,
          1984,
          1984,
          1986,
          1988,
          1989,
          1989,
          1991,
          1992,
          1993,
          1985,
          2003,
          1987,
          1988,
          1989,
          1989,
          1989,
          2005,
          2005,
          2005,
          2007,
          2009,
          1990,
          1900,
          1900,
          1992,
          1992,
          1996,
          1998,
          2000,
          2001,
          2005,
          2005,
          2005,
          2006,
          2007,
          2007,
          2007,
          2008,
          2009,
          2010,
          2010,
          2010,
          2010,
          2010,
          2011,
          2010,
          2011,
          2013,
          2013,
          2013
         ],
         "xaxis": "x2",
         "yaxis": "y2"
        },
        {
         "alignmentgroup": "True",
         "bingroup": "x",
         "hovertemplate": "Gender=FEMALE<br>Current?=YES<br>Year=%{x}<br>count=%{y}<extra></extra>",
         "legendgroup": "FEMALE",
         "marker": {
          "color": "#EF553B",
          "opacity": 0.5,
          "pattern": {
           "shape": ""
          }
         },
         "name": "FEMALE",
         "nbinsx": 30,
         "offsetgroup": "FEMALE",
         "orientation": "v",
         "showlegend": true,
         "type": "histogram",
         "x": [
          1963,
          1965,
          1973,
          1979,
          1988,
          1981,
          1982,
          1983,
          1989,
          2005,
          2008,
          2010,
          2010,
          2010,
          1900,
          2010,
          1900,
          1900,
          1900,
          1900,
          1900,
          1900,
          2013,
          2013,
          2013,
          2013,
          2013,
          2013,
          2014
         ],
         "xaxis": "x",
         "yaxis": "y"
        },
        {
         "alignmentgroup": "True",
         "bingroup": "x",
         "hovertemplate": "Gender=FEMALE<br>Current?=NO<br>Year=%{x}<br>count=%{y}<extra></extra>",
         "legendgroup": "FEMALE",
         "marker": {
          "color": "#EF553B",
          "opacity": 0.5,
          "pattern": {
           "shape": ""
          }
         },
         "name": "FEMALE",
         "nbinsx": 30,
         "offsetgroup": "FEMALE",
         "orientation": "v",
         "showlegend": false,
         "type": "histogram",
         "x": [
          1973,
          1976,
          1976,
          1978,
          1984,
          1993,
          1987,
          1992,
          1987,
          1988,
          1988,
          1989,
          2005,
          2005,
          1990,
          1992,
          1993,
          1993,
          1996,
          1998,
          2000,
          2004,
          2005,
          2005,
          2005,
          2010,
          2010,
          2012,
          2012
         ],
         "xaxis": "x2",
         "yaxis": "y2"
        }
       ],
       "layout": {
        "annotations": [
         {
          "font": {},
          "showarrow": false,
          "text": "Current?=YES",
          "x": 0.245,
          "xanchor": "center",
          "xref": "paper",
          "y": 1,
          "yanchor": "bottom",
          "yref": "paper"
         },
         {
          "font": {},
          "showarrow": false,
          "text": "Current?=NO",
          "x": 0.755,
          "xanchor": "center",
          "xref": "paper",
          "y": 1,
          "yanchor": "bottom",
          "yref": "paper"
         }
        ],
        "barmode": "overlay",
        "legend": {
         "title": {
          "text": "Gender"
         },
         "tracegroupgap": 0
        },
        "template": {
         "data": {
          "bar": [
           {
            "error_x": {
             "color": "#2a3f5f"
            },
            "error_y": {
             "color": "#2a3f5f"
            },
            "marker": {
             "line": {
              "color": "#E5ECF6",
              "width": 0.5
             },
             "pattern": {
              "fillmode": "overlay",
              "size": 10,
              "solidity": 0.2
             }
            },
            "type": "bar"
           }
          ],
          "barpolar": [
           {
            "marker": {
             "line": {
              "color": "#E5ECF6",
              "width": 0.5
             },
             "pattern": {
              "fillmode": "overlay",
              "size": 10,
              "solidity": 0.2
             }
            },
            "type": "barpolar"
           }
          ],
          "carpet": [
           {
            "aaxis": {
             "endlinecolor": "#2a3f5f",
             "gridcolor": "white",
             "linecolor": "white",
             "minorgridcolor": "white",
             "startlinecolor": "#2a3f5f"
            },
            "baxis": {
             "endlinecolor": "#2a3f5f",
             "gridcolor": "white",
             "linecolor": "white",
             "minorgridcolor": "white",
             "startlinecolor": "#2a3f5f"
            },
            "type": "carpet"
           }
          ],
          "choropleth": [
           {
            "colorbar": {
             "outlinewidth": 0,
             "ticks": ""
            },
            "type": "choropleth"
           }
          ],
          "contour": [
           {
            "colorbar": {
             "outlinewidth": 0,
             "ticks": ""
            },
            "colorscale": [
             [
              0,
              "#0d0887"
             ],
             [
              0.1111111111111111,
              "#46039f"
             ],
             [
              0.2222222222222222,
              "#7201a8"
             ],
             [
              0.3333333333333333,
              "#9c179e"
             ],
             [
              0.4444444444444444,
              "#bd3786"
             ],
             [
              0.5555555555555556,
              "#d8576b"
             ],
             [
              0.6666666666666666,
              "#ed7953"
             ],
             [
              0.7777777777777778,
              "#fb9f3a"
             ],
             [
              0.8888888888888888,
              "#fdca26"
             ],
             [
              1,
              "#f0f921"
             ]
            ],
            "type": "contour"
           }
          ],
          "contourcarpet": [
           {
            "colorbar": {
             "outlinewidth": 0,
             "ticks": ""
            },
            "type": "contourcarpet"
           }
          ],
          "heatmap": [
           {
            "colorbar": {
             "outlinewidth": 0,
             "ticks": ""
            },
            "colorscale": [
             [
              0,
              "#0d0887"
             ],
             [
              0.1111111111111111,
              "#46039f"
             ],
             [
              0.2222222222222222,
              "#7201a8"
             ],
             [
              0.3333333333333333,
              "#9c179e"
             ],
             [
              0.4444444444444444,
              "#bd3786"
             ],
             [
              0.5555555555555556,
              "#d8576b"
             ],
             [
              0.6666666666666666,
              "#ed7953"
             ],
             [
              0.7777777777777778,
              "#fb9f3a"
             ],
             [
              0.8888888888888888,
              "#fdca26"
             ],
             [
              1,
              "#f0f921"
             ]
            ],
            "type": "heatmap"
           }
          ],
          "heatmapgl": [
           {
            "colorbar": {
             "outlinewidth": 0,
             "ticks": ""
            },
            "colorscale": [
             [
              0,
              "#0d0887"
             ],
             [
              0.1111111111111111,
              "#46039f"
             ],
             [
              0.2222222222222222,
              "#7201a8"
             ],
             [
              0.3333333333333333,
              "#9c179e"
             ],
             [
              0.4444444444444444,
              "#bd3786"
             ],
             [
              0.5555555555555556,
              "#d8576b"
             ],
             [
              0.6666666666666666,
              "#ed7953"
             ],
             [
              0.7777777777777778,
              "#fb9f3a"
             ],
             [
              0.8888888888888888,
              "#fdca26"
             ],
             [
              1,
              "#f0f921"
             ]
            ],
            "type": "heatmapgl"
           }
          ],
          "histogram": [
           {
            "marker": {
             "pattern": {
              "fillmode": "overlay",
              "size": 10,
              "solidity": 0.2
             }
            },
            "type": "histogram"
           }
          ],
          "histogram2d": [
           {
            "colorbar": {
             "outlinewidth": 0,
             "ticks": ""
            },
            "colorscale": [
             [
              0,
              "#0d0887"
             ],
             [
              0.1111111111111111,
              "#46039f"
             ],
             [
              0.2222222222222222,
              "#7201a8"
             ],
             [
              0.3333333333333333,
              "#9c179e"
             ],
             [
              0.4444444444444444,
              "#bd3786"
             ],
             [
              0.5555555555555556,
              "#d8576b"
             ],
             [
              0.6666666666666666,
              "#ed7953"
             ],
             [
              0.7777777777777778,
              "#fb9f3a"
             ],
             [
              0.8888888888888888,
              "#fdca26"
             ],
             [
              1,
              "#f0f921"
             ]
            ],
            "type": "histogram2d"
           }
          ],
          "histogram2dcontour": [
           {
            "colorbar": {
             "outlinewidth": 0,
             "ticks": ""
            },
            "colorscale": [
             [
              0,
              "#0d0887"
             ],
             [
              0.1111111111111111,
              "#46039f"
             ],
             [
              0.2222222222222222,
              "#7201a8"
             ],
             [
              0.3333333333333333,
              "#9c179e"
             ],
             [
              0.4444444444444444,
              "#bd3786"
             ],
             [
              0.5555555555555556,
              "#d8576b"
             ],
             [
              0.6666666666666666,
              "#ed7953"
             ],
             [
              0.7777777777777778,
              "#fb9f3a"
             ],
             [
              0.8888888888888888,
              "#fdca26"
             ],
             [
              1,
              "#f0f921"
             ]
            ],
            "type": "histogram2dcontour"
           }
          ],
          "mesh3d": [
           {
            "colorbar": {
             "outlinewidth": 0,
             "ticks": ""
            },
            "type": "mesh3d"
           }
          ],
          "parcoords": [
           {
            "line": {
             "colorbar": {
              "outlinewidth": 0,
              "ticks": ""
             }
            },
            "type": "parcoords"
           }
          ],
          "pie": [
           {
            "automargin": true,
            "type": "pie"
           }
          ],
          "scatter": [
           {
            "fillpattern": {
             "fillmode": "overlay",
             "size": 10,
             "solidity": 0.2
            },
            "type": "scatter"
           }
          ],
          "scatter3d": [
           {
            "line": {
             "colorbar": {
              "outlinewidth": 0,
              "ticks": ""
             }
            },
            "marker": {
             "colorbar": {
              "outlinewidth": 0,
              "ticks": ""
             }
            },
            "type": "scatter3d"
           }
          ],
          "scattercarpet": [
           {
            "marker": {
             "colorbar": {
              "outlinewidth": 0,
              "ticks": ""
             }
            },
            "type": "scattercarpet"
           }
          ],
          "scattergeo": [
           {
            "marker": {
             "colorbar": {
              "outlinewidth": 0,
              "ticks": ""
             }
            },
            "type": "scattergeo"
           }
          ],
          "scattergl": [
           {
            "marker": {
             "colorbar": {
              "outlinewidth": 0,
              "ticks": ""
             }
            },
            "type": "scattergl"
           }
          ],
          "scattermapbox": [
           {
            "marker": {
             "colorbar": {
              "outlinewidth": 0,
              "ticks": ""
             }
            },
            "type": "scattermapbox"
           }
          ],
          "scatterpolar": [
           {
            "marker": {
             "colorbar": {
              "outlinewidth": 0,
              "ticks": ""
             }
            },
            "type": "scatterpolar"
           }
          ],
          "scatterpolargl": [
           {
            "marker": {
             "colorbar": {
              "outlinewidth": 0,
              "ticks": ""
             }
            },
            "type": "scatterpolargl"
           }
          ],
          "scatterternary": [
           {
            "marker": {
             "colorbar": {
              "outlinewidth": 0,
              "ticks": ""
             }
            },
            "type": "scatterternary"
           }
          ],
          "surface": [
           {
            "colorbar": {
             "outlinewidth": 0,
             "ticks": ""
            },
            "colorscale": [
             [
              0,
              "#0d0887"
             ],
             [
              0.1111111111111111,
              "#46039f"
             ],
             [
              0.2222222222222222,
              "#7201a8"
             ],
             [
              0.3333333333333333,
              "#9c179e"
             ],
             [
              0.4444444444444444,
              "#bd3786"
             ],
             [
              0.5555555555555556,
              "#d8576b"
             ],
             [
              0.6666666666666666,
              "#ed7953"
             ],
             [
              0.7777777777777778,
              "#fb9f3a"
             ],
             [
              0.8888888888888888,
              "#fdca26"
             ],
             [
              1,
              "#f0f921"
             ]
            ],
            "type": "surface"
           }
          ],
          "table": [
           {
            "cells": {
             "fill": {
              "color": "#EBF0F8"
             },
             "line": {
              "color": "white"
             }
            },
            "header": {
             "fill": {
              "color": "#C8D4E3"
             },
             "line": {
              "color": "white"
             }
            },
            "type": "table"
           }
          ]
         },
         "layout": {
          "annotationdefaults": {
           "arrowcolor": "#2a3f5f",
           "arrowhead": 0,
           "arrowwidth": 1
          },
          "autotypenumbers": "strict",
          "coloraxis": {
           "colorbar": {
            "outlinewidth": 0,
            "ticks": ""
           }
          },
          "colorscale": {
           "diverging": [
            [
             0,
             "#8e0152"
            ],
            [
             0.1,
             "#c51b7d"
            ],
            [
             0.2,
             "#de77ae"
            ],
            [
             0.3,
             "#f1b6da"
            ],
            [
             0.4,
             "#fde0ef"
            ],
            [
             0.5,
             "#f7f7f7"
            ],
            [
             0.6,
             "#e6f5d0"
            ],
            [
             0.7,
             "#b8e186"
            ],
            [
             0.8,
             "#7fbc41"
            ],
            [
             0.9,
             "#4d9221"
            ],
            [
             1,
             "#276419"
            ]
           ],
           "sequential": [
            [
             0,
             "#0d0887"
            ],
            [
             0.1111111111111111,
             "#46039f"
            ],
            [
             0.2222222222222222,
             "#7201a8"
            ],
            [
             0.3333333333333333,
             "#9c179e"
            ],
            [
             0.4444444444444444,
             "#bd3786"
            ],
            [
             0.5555555555555556,
             "#d8576b"
            ],
            [
             0.6666666666666666,
             "#ed7953"
            ],
            [
             0.7777777777777778,
             "#fb9f3a"
            ],
            [
             0.8888888888888888,
             "#fdca26"
            ],
            [
             1,
             "#f0f921"
            ]
           ],
           "sequentialminus": [
            [
             0,
             "#0d0887"
            ],
            [
             0.1111111111111111,
             "#46039f"
            ],
            [
             0.2222222222222222,
             "#7201a8"
            ],
            [
             0.3333333333333333,
             "#9c179e"
            ],
            [
             0.4444444444444444,
             "#bd3786"
            ],
            [
             0.5555555555555556,
             "#d8576b"
            ],
            [
             0.6666666666666666,
             "#ed7953"
            ],
            [
             0.7777777777777778,
             "#fb9f3a"
            ],
            [
             0.8888888888888888,
             "#fdca26"
            ],
            [
             1,
             "#f0f921"
            ]
           ]
          },
          "colorway": [
           "#636efa",
           "#EF553B",
           "#00cc96",
           "#ab63fa",
           "#FFA15A",
           "#19d3f3",
           "#FF6692",
           "#B6E880",
           "#FF97FF",
           "#FECB52"
          ],
          "font": {
           "color": "#2a3f5f"
          },
          "geo": {
           "bgcolor": "white",
           "lakecolor": "white",
           "landcolor": "#E5ECF6",
           "showlakes": true,
           "showland": true,
           "subunitcolor": "white"
          },
          "hoverlabel": {
           "align": "left"
          },
          "hovermode": "closest",
          "mapbox": {
           "style": "light"
          },
          "paper_bgcolor": "white",
          "plot_bgcolor": "#E5ECF6",
          "polar": {
           "angularaxis": {
            "gridcolor": "white",
            "linecolor": "white",
            "ticks": ""
           },
           "bgcolor": "#E5ECF6",
           "radialaxis": {
            "gridcolor": "white",
            "linecolor": "white",
            "ticks": ""
           }
          },
          "scene": {
           "xaxis": {
            "backgroundcolor": "#E5ECF6",
            "gridcolor": "white",
            "gridwidth": 2,
            "linecolor": "white",
            "showbackground": true,
            "ticks": "",
            "zerolinecolor": "white"
           },
           "yaxis": {
            "backgroundcolor": "#E5ECF6",
            "gridcolor": "white",
            "gridwidth": 2,
            "linecolor": "white",
            "showbackground": true,
            "ticks": "",
            "zerolinecolor": "white"
           },
           "zaxis": {
            "backgroundcolor": "#E5ECF6",
            "gridcolor": "white",
            "gridwidth": 2,
            "linecolor": "white",
            "showbackground": true,
            "ticks": "",
            "zerolinecolor": "white"
           }
          },
          "shapedefaults": {
           "line": {
            "color": "#2a3f5f"
           }
          },
          "ternary": {
           "aaxis": {
            "gridcolor": "white",
            "linecolor": "white",
            "ticks": ""
           },
           "baxis": {
            "gridcolor": "white",
            "linecolor": "white",
            "ticks": ""
           },
           "bgcolor": "#E5ECF6",
           "caxis": {
            "gridcolor": "white",
            "linecolor": "white",
            "ticks": ""
           }
          },
          "title": {
           "x": 0.05
          },
          "xaxis": {
           "automargin": true,
           "gridcolor": "white",
           "linecolor": "white",
           "ticks": "",
           "title": {
            "standoff": 15
           },
           "zerolinecolor": "white",
           "zerolinewidth": 2
          },
          "yaxis": {
           "automargin": true,
           "gridcolor": "white",
           "linecolor": "white",
           "ticks": "",
           "title": {
            "standoff": 15
           },
           "zerolinecolor": "white",
           "zerolinewidth": 2
          }
         }
        },
        "title": {
         "text": "Distribution of Year of First Appearance"
        },
        "xaxis": {
         "anchor": "y",
         "domain": [
          0,
          0.49
         ],
         "title": {
          "text": "Year"
         }
        },
        "xaxis2": {
         "anchor": "y2",
         "domain": [
          0.51,
          1
         ],
         "matches": "x",
         "title": {
          "text": "Year"
         }
        },
        "yaxis": {
         "anchor": "x",
         "domain": [
          0,
          1
         ],
         "title": {
          "text": "count"
         }
        },
        "yaxis2": {
         "anchor": "x2",
         "domain": [
          0,
          1
         ],
         "matches": "y",
         "showticklabels": false
        }
       }
      }
     },
     "metadata": {},
     "output_type": "display_data"
    }
   ],
   "source": [
    "fig = px.histogram(raw_data, x='Year', nbins= 30, title='Distribution of Year of First Appearance', color='Gender', barmode='overlay', facet_col = 'Current?')\n",
    "fig.show()"
   ]
  },
  {
   "attachments": {},
   "cell_type": "markdown",
   "metadata": {},
   "source": [
    "Ok now lets spend some time working out whats actually in a plotly plot. Rather than calling show on a plot we can print it to view the saved data. Inside we have a dictionary object containing all the information required to produce the plot. Rather than letting plotly express generate all this for us we can actually generate a decent amount ourselves at a lower level. This is done using lower level plotly functions such as graph objects."
   ]
  },
  {
   "cell_type": "code",
   "execution_count": 30,
   "metadata": {},
   "outputs": [
    {
     "name": "stdout",
     "output_type": "stream",
     "text": [
      "Figure({\n",
      "    'data': [{'alignmentgroup': 'True',\n",
      "              'bingroup': 'x',\n",
      "              'hovertemplate': 'Gender=MALE<br>Current?=YES<br>Year=%{x}<br>count=%{y}<extra></extra>',\n",
      "              'legendgroup': 'MALE',\n",
      "              'marker': {'color': '#636efa', 'opacity': 0.5, 'pattern': {'shape': ''}},\n",
      "              'name': 'MALE',\n",
      "              'nbinsx': 30,\n",
      "              'offsetgroup': 'MALE',\n",
      "              'orientation': 'v',\n",
      "              'showlegend': True,\n",
      "              'type': 'histogram',\n",
      "              'x': array([1963, 1963, 1963, 1963, 1963, 1964, 1965, 1965, 1967, 1968, 1979, 1979,\n",
      "                          1989, 1989, 1989, 1989, 1990, 2005, 2005, 2005, 2005, 2006, 2010, 2010,\n",
      "                          2011, 1900, 1900, 2010, 1900, 2010, 1900, 1900, 2012, 2012, 2013, 2013,\n",
      "                          2013, 2013, 2013, 2013, 2013, 2013, 2013, 2015, 2013, 2013, 2013, 2013,\n",
      "                          2013, 2013, 2014, 2014, 2015], dtype=int64),\n",
      "              'xaxis': 'x',\n",
      "              'yaxis': 'y'},\n",
      "             {'alignmentgroup': 'True',\n",
      "              'bingroup': 'x',\n",
      "              'hovertemplate': 'Gender=MALE<br>Current?=NO<br>Year=%{x}<br>count=%{y}<extra></extra>',\n",
      "              'legendgroup': 'MALE',\n",
      "              'marker': {'color': '#636efa', 'opacity': 0.5, 'pattern': {'shape': ''}},\n",
      "              'name': 'MALE',\n",
      "              'nbinsx': 30,\n",
      "              'offsetgroup': 'MALE',\n",
      "              'orientation': 'v',\n",
      "              'showlegend': False,\n",
      "              'type': 'histogram',\n",
      "              'x': array([1965, 1968, 1969, 1976, 1975, 1978, 1978, 1978, 1978, 1978, 1978, 1978,\n",
      "                          1984, 1984, 1986, 1988, 1989, 1989, 1991, 1992, 1993, 1985, 2003, 1987,\n",
      "                          1988, 1989, 1989, 1989, 2005, 2005, 2005, 2007, 2009, 1990, 1900, 1900,\n",
      "                          1992, 1992, 1996, 1998, 2000, 2001, 2005, 2005, 2005, 2006, 2007, 2007,\n",
      "                          2007, 2008, 2009, 2010, 2010, 2010, 2010, 2010, 2011, 2010, 2011, 2013,\n",
      "                          2013, 2013], dtype=int64),\n",
      "              'xaxis': 'x2',\n",
      "              'yaxis': 'y2'},\n",
      "             {'alignmentgroup': 'True',\n",
      "              'bingroup': 'x',\n",
      "              'hovertemplate': 'Gender=FEMALE<br>Current?=YES<br>Year=%{x}<br>count=%{y}<extra></extra>',\n",
      "              'legendgroup': 'FEMALE',\n",
      "              'marker': {'color': '#EF553B', 'opacity': 0.5, 'pattern': {'shape': ''}},\n",
      "              'name': 'FEMALE',\n",
      "              'nbinsx': 30,\n",
      "              'offsetgroup': 'FEMALE',\n",
      "              'orientation': 'v',\n",
      "              'showlegend': True,\n",
      "              'type': 'histogram',\n",
      "              'x': array([1963, 1965, 1973, 1979, 1988, 1981, 1982, 1983, 1989, 2005, 2008, 2010,\n",
      "                          2010, 2010, 1900, 2010, 1900, 1900, 1900, 1900, 1900, 1900, 2013, 2013,\n",
      "                          2013, 2013, 2013, 2013, 2014], dtype=int64),\n",
      "              'xaxis': 'x',\n",
      "              'yaxis': 'y'},\n",
      "             {'alignmentgroup': 'True',\n",
      "              'bingroup': 'x',\n",
      "              'hovertemplate': 'Gender=FEMALE<br>Current?=NO<br>Year=%{x}<br>count=%{y}<extra></extra>',\n",
      "              'legendgroup': 'FEMALE',\n",
      "              'marker': {'color': '#EF553B', 'opacity': 0.5, 'pattern': {'shape': ''}},\n",
      "              'name': 'FEMALE',\n",
      "              'nbinsx': 30,\n",
      "              'offsetgroup': 'FEMALE',\n",
      "              'orientation': 'v',\n",
      "              'showlegend': False,\n",
      "              'type': 'histogram',\n",
      "              'x': array([1973, 1976, 1976, 1978, 1984, 1993, 1987, 1992, 1987, 1988, 1988, 1989,\n",
      "                          2005, 2005, 1990, 1992, 1993, 1993, 1996, 1998, 2000, 2004, 2005, 2005,\n",
      "                          2005, 2010, 2010, 2012, 2012], dtype=int64),\n",
      "              'xaxis': 'x2',\n",
      "              'yaxis': 'y2'}],\n",
      "    'layout': {'annotations': [{'font': {},\n",
      "                                'showarrow': False,\n",
      "                                'text': 'Current?=YES',\n",
      "                                'x': 0.245,\n",
      "                                'xanchor': 'center',\n",
      "                                'xref': 'paper',\n",
      "                                'y': 1.0,\n",
      "                                'yanchor': 'bottom',\n",
      "                                'yref': 'paper'},\n",
      "                               {'font': {},\n",
      "                                'showarrow': False,\n",
      "                                'text': 'Current?=NO',\n",
      "                                'x': 0.755,\n",
      "                                'xanchor': 'center',\n",
      "                                'xref': 'paper',\n",
      "                                'y': 1.0,\n",
      "                                'yanchor': 'bottom',\n",
      "                                'yref': 'paper'}],\n",
      "               'barmode': 'overlay',\n",
      "               'legend': {'title': {'text': 'Gender'}, 'tracegroupgap': 0},\n",
      "               'template': '...',\n",
      "               'title': {'text': 'Distribution of Year of First Appearance'},\n",
      "               'xaxis': {'anchor': 'y', 'domain': [0.0, 0.49], 'title': {'text': 'Year'}},\n",
      "               'xaxis2': {'anchor': 'y2', 'domain': [0.51, 1.0], 'matches': 'x', 'title': {'text': 'Year'}},\n",
      "               'yaxis': {'anchor': 'x', 'domain': [0.0, 1.0], 'title': {'text': 'count'}},\n",
      "               'yaxis2': {'anchor': 'x2', 'domain': [0.0, 1.0], 'matches': 'y', 'showticklabels': False}}\n",
      "})\n"
     ]
    }
   ],
   "source": [
    "print(fig)"
   ]
  },
  {
   "cell_type": "code",
   "execution_count": 33,
   "metadata": {},
   "outputs": [
    {
     "name": "stdout",
     "output_type": "stream",
     "text": [
      "Layout({\n",
      "    'annotations': [{'font': {},\n",
      "                     'showarrow': False,\n",
      "                     'text': 'Current?=YES',\n",
      "                     'x': 0.245,\n",
      "                     'xanchor': 'center',\n",
      "                     'xref': 'paper',\n",
      "                     'y': 1.0,\n",
      "                     'yanchor': 'bottom',\n",
      "                     'yref': 'paper'},\n",
      "                    {'font': {},\n",
      "                     'showarrow': False,\n",
      "                     'text': 'Current?=NO',\n",
      "                     'x': 0.755,\n",
      "                     'xanchor': 'center',\n",
      "                     'xref': 'paper',\n",
      "                     'y': 1.0,\n",
      "                     'yanchor': 'bottom',\n",
      "                     'yref': 'paper'}],\n",
      "    'barmode': 'overlay',\n",
      "    'legend': {'title': {'text': 'Gender'}, 'tracegroupgap': 0},\n",
      "    'template': '...',\n",
      "    'title': {'text': 'Distribution of Year of First Appearance'},\n",
      "    'xaxis': {'anchor': 'y', 'domain': [0.0, 0.49], 'title': {'text': 'Year'}},\n",
      "    'xaxis2': {'anchor': 'y2', 'domain': [0.51, 1.0], 'matches': 'x', 'title': {'text': 'Year'}},\n",
      "    'yaxis': {'anchor': 'x', 'domain': [0.0, 1.0], 'title': {'text': 'count'}},\n",
      "    'yaxis2': {'anchor': 'x2', 'domain': [0.0, 1.0], 'matches': 'y', 'showticklabels': False}\n",
      "})\n"
     ]
    }
   ],
   "source": [
    "print(fig.layout)"
   ]
  },
  {
   "cell_type": "code",
   "execution_count": 36,
   "metadata": {},
   "outputs": [
    {
     "data": {
      "application/vnd.plotly.v1+json": {
       "config": {
        "plotlyServerURL": "https://plot.ly"
       },
       "data": [
        {
         "type": "bar",
         "x": [
          1,
          2,
          3
         ],
         "y": [
          1,
          3,
          2
         ]
        }
       ],
       "layout": {
        "template": {
         "data": {
          "bar": [
           {
            "error_x": {
             "color": "#2a3f5f"
            },
            "error_y": {
             "color": "#2a3f5f"
            },
            "marker": {
             "line": {
              "color": "#E5ECF6",
              "width": 0.5
             },
             "pattern": {
              "fillmode": "overlay",
              "size": 10,
              "solidity": 0.2
             }
            },
            "type": "bar"
           }
          ],
          "barpolar": [
           {
            "marker": {
             "line": {
              "color": "#E5ECF6",
              "width": 0.5
             },
             "pattern": {
              "fillmode": "overlay",
              "size": 10,
              "solidity": 0.2
             }
            },
            "type": "barpolar"
           }
          ],
          "carpet": [
           {
            "aaxis": {
             "endlinecolor": "#2a3f5f",
             "gridcolor": "white",
             "linecolor": "white",
             "minorgridcolor": "white",
             "startlinecolor": "#2a3f5f"
            },
            "baxis": {
             "endlinecolor": "#2a3f5f",
             "gridcolor": "white",
             "linecolor": "white",
             "minorgridcolor": "white",
             "startlinecolor": "#2a3f5f"
            },
            "type": "carpet"
           }
          ],
          "choropleth": [
           {
            "colorbar": {
             "outlinewidth": 0,
             "ticks": ""
            },
            "type": "choropleth"
           }
          ],
          "contour": [
           {
            "colorbar": {
             "outlinewidth": 0,
             "ticks": ""
            },
            "colorscale": [
             [
              0,
              "#0d0887"
             ],
             [
              0.1111111111111111,
              "#46039f"
             ],
             [
              0.2222222222222222,
              "#7201a8"
             ],
             [
              0.3333333333333333,
              "#9c179e"
             ],
             [
              0.4444444444444444,
              "#bd3786"
             ],
             [
              0.5555555555555556,
              "#d8576b"
             ],
             [
              0.6666666666666666,
              "#ed7953"
             ],
             [
              0.7777777777777778,
              "#fb9f3a"
             ],
             [
              0.8888888888888888,
              "#fdca26"
             ],
             [
              1,
              "#f0f921"
             ]
            ],
            "type": "contour"
           }
          ],
          "contourcarpet": [
           {
            "colorbar": {
             "outlinewidth": 0,
             "ticks": ""
            },
            "type": "contourcarpet"
           }
          ],
          "heatmap": [
           {
            "colorbar": {
             "outlinewidth": 0,
             "ticks": ""
            },
            "colorscale": [
             [
              0,
              "#0d0887"
             ],
             [
              0.1111111111111111,
              "#46039f"
             ],
             [
              0.2222222222222222,
              "#7201a8"
             ],
             [
              0.3333333333333333,
              "#9c179e"
             ],
             [
              0.4444444444444444,
              "#bd3786"
             ],
             [
              0.5555555555555556,
              "#d8576b"
             ],
             [
              0.6666666666666666,
              "#ed7953"
             ],
             [
              0.7777777777777778,
              "#fb9f3a"
             ],
             [
              0.8888888888888888,
              "#fdca26"
             ],
             [
              1,
              "#f0f921"
             ]
            ],
            "type": "heatmap"
           }
          ],
          "heatmapgl": [
           {
            "colorbar": {
             "outlinewidth": 0,
             "ticks": ""
            },
            "colorscale": [
             [
              0,
              "#0d0887"
             ],
             [
              0.1111111111111111,
              "#46039f"
             ],
             [
              0.2222222222222222,
              "#7201a8"
             ],
             [
              0.3333333333333333,
              "#9c179e"
             ],
             [
              0.4444444444444444,
              "#bd3786"
             ],
             [
              0.5555555555555556,
              "#d8576b"
             ],
             [
              0.6666666666666666,
              "#ed7953"
             ],
             [
              0.7777777777777778,
              "#fb9f3a"
             ],
             [
              0.8888888888888888,
              "#fdca26"
             ],
             [
              1,
              "#f0f921"
             ]
            ],
            "type": "heatmapgl"
           }
          ],
          "histogram": [
           {
            "marker": {
             "pattern": {
              "fillmode": "overlay",
              "size": 10,
              "solidity": 0.2
             }
            },
            "type": "histogram"
           }
          ],
          "histogram2d": [
           {
            "colorbar": {
             "outlinewidth": 0,
             "ticks": ""
            },
            "colorscale": [
             [
              0,
              "#0d0887"
             ],
             [
              0.1111111111111111,
              "#46039f"
             ],
             [
              0.2222222222222222,
              "#7201a8"
             ],
             [
              0.3333333333333333,
              "#9c179e"
             ],
             [
              0.4444444444444444,
              "#bd3786"
             ],
             [
              0.5555555555555556,
              "#d8576b"
             ],
             [
              0.6666666666666666,
              "#ed7953"
             ],
             [
              0.7777777777777778,
              "#fb9f3a"
             ],
             [
              0.8888888888888888,
              "#fdca26"
             ],
             [
              1,
              "#f0f921"
             ]
            ],
            "type": "histogram2d"
           }
          ],
          "histogram2dcontour": [
           {
            "colorbar": {
             "outlinewidth": 0,
             "ticks": ""
            },
            "colorscale": [
             [
              0,
              "#0d0887"
             ],
             [
              0.1111111111111111,
              "#46039f"
             ],
             [
              0.2222222222222222,
              "#7201a8"
             ],
             [
              0.3333333333333333,
              "#9c179e"
             ],
             [
              0.4444444444444444,
              "#bd3786"
             ],
             [
              0.5555555555555556,
              "#d8576b"
             ],
             [
              0.6666666666666666,
              "#ed7953"
             ],
             [
              0.7777777777777778,
              "#fb9f3a"
             ],
             [
              0.8888888888888888,
              "#fdca26"
             ],
             [
              1,
              "#f0f921"
             ]
            ],
            "type": "histogram2dcontour"
           }
          ],
          "mesh3d": [
           {
            "colorbar": {
             "outlinewidth": 0,
             "ticks": ""
            },
            "type": "mesh3d"
           }
          ],
          "parcoords": [
           {
            "line": {
             "colorbar": {
              "outlinewidth": 0,
              "ticks": ""
             }
            },
            "type": "parcoords"
           }
          ],
          "pie": [
           {
            "automargin": true,
            "type": "pie"
           }
          ],
          "scatter": [
           {
            "fillpattern": {
             "fillmode": "overlay",
             "size": 10,
             "solidity": 0.2
            },
            "type": "scatter"
           }
          ],
          "scatter3d": [
           {
            "line": {
             "colorbar": {
              "outlinewidth": 0,
              "ticks": ""
             }
            },
            "marker": {
             "colorbar": {
              "outlinewidth": 0,
              "ticks": ""
             }
            },
            "type": "scatter3d"
           }
          ],
          "scattercarpet": [
           {
            "marker": {
             "colorbar": {
              "outlinewidth": 0,
              "ticks": ""
             }
            },
            "type": "scattercarpet"
           }
          ],
          "scattergeo": [
           {
            "marker": {
             "colorbar": {
              "outlinewidth": 0,
              "ticks": ""
             }
            },
            "type": "scattergeo"
           }
          ],
          "scattergl": [
           {
            "marker": {
             "colorbar": {
              "outlinewidth": 0,
              "ticks": ""
             }
            },
            "type": "scattergl"
           }
          ],
          "scattermapbox": [
           {
            "marker": {
             "colorbar": {
              "outlinewidth": 0,
              "ticks": ""
             }
            },
            "type": "scattermapbox"
           }
          ],
          "scatterpolar": [
           {
            "marker": {
             "colorbar": {
              "outlinewidth": 0,
              "ticks": ""
             }
            },
            "type": "scatterpolar"
           }
          ],
          "scatterpolargl": [
           {
            "marker": {
             "colorbar": {
              "outlinewidth": 0,
              "ticks": ""
             }
            },
            "type": "scatterpolargl"
           }
          ],
          "scatterternary": [
           {
            "marker": {
             "colorbar": {
              "outlinewidth": 0,
              "ticks": ""
             }
            },
            "type": "scatterternary"
           }
          ],
          "surface": [
           {
            "colorbar": {
             "outlinewidth": 0,
             "ticks": ""
            },
            "colorscale": [
             [
              0,
              "#0d0887"
             ],
             [
              0.1111111111111111,
              "#46039f"
             ],
             [
              0.2222222222222222,
              "#7201a8"
             ],
             [
              0.3333333333333333,
              "#9c179e"
             ],
             [
              0.4444444444444444,
              "#bd3786"
             ],
             [
              0.5555555555555556,
              "#d8576b"
             ],
             [
              0.6666666666666666,
              "#ed7953"
             ],
             [
              0.7777777777777778,
              "#fb9f3a"
             ],
             [
              0.8888888888888888,
              "#fdca26"
             ],
             [
              1,
              "#f0f921"
             ]
            ],
            "type": "surface"
           }
          ],
          "table": [
           {
            "cells": {
             "fill": {
              "color": "#EBF0F8"
             },
             "line": {
              "color": "white"
             }
            },
            "header": {
             "fill": {
              "color": "#C8D4E3"
             },
             "line": {
              "color": "white"
             }
            },
            "type": "table"
           }
          ]
         },
         "layout": {
          "annotationdefaults": {
           "arrowcolor": "#2a3f5f",
           "arrowhead": 0,
           "arrowwidth": 1
          },
          "autotypenumbers": "strict",
          "coloraxis": {
           "colorbar": {
            "outlinewidth": 0,
            "ticks": ""
           }
          },
          "colorscale": {
           "diverging": [
            [
             0,
             "#8e0152"
            ],
            [
             0.1,
             "#c51b7d"
            ],
            [
             0.2,
             "#de77ae"
            ],
            [
             0.3,
             "#f1b6da"
            ],
            [
             0.4,
             "#fde0ef"
            ],
            [
             0.5,
             "#f7f7f7"
            ],
            [
             0.6,
             "#e6f5d0"
            ],
            [
             0.7,
             "#b8e186"
            ],
            [
             0.8,
             "#7fbc41"
            ],
            [
             0.9,
             "#4d9221"
            ],
            [
             1,
             "#276419"
            ]
           ],
           "sequential": [
            [
             0,
             "#0d0887"
            ],
            [
             0.1111111111111111,
             "#46039f"
            ],
            [
             0.2222222222222222,
             "#7201a8"
            ],
            [
             0.3333333333333333,
             "#9c179e"
            ],
            [
             0.4444444444444444,
             "#bd3786"
            ],
            [
             0.5555555555555556,
             "#d8576b"
            ],
            [
             0.6666666666666666,
             "#ed7953"
            ],
            [
             0.7777777777777778,
             "#fb9f3a"
            ],
            [
             0.8888888888888888,
             "#fdca26"
            ],
            [
             1,
             "#f0f921"
            ]
           ],
           "sequentialminus": [
            [
             0,
             "#0d0887"
            ],
            [
             0.1111111111111111,
             "#46039f"
            ],
            [
             0.2222222222222222,
             "#7201a8"
            ],
            [
             0.3333333333333333,
             "#9c179e"
            ],
            [
             0.4444444444444444,
             "#bd3786"
            ],
            [
             0.5555555555555556,
             "#d8576b"
            ],
            [
             0.6666666666666666,
             "#ed7953"
            ],
            [
             0.7777777777777778,
             "#fb9f3a"
            ],
            [
             0.8888888888888888,
             "#fdca26"
            ],
            [
             1,
             "#f0f921"
            ]
           ]
          },
          "colorway": [
           "#636efa",
           "#EF553B",
           "#00cc96",
           "#ab63fa",
           "#FFA15A",
           "#19d3f3",
           "#FF6692",
           "#B6E880",
           "#FF97FF",
           "#FECB52"
          ],
          "font": {
           "color": "#2a3f5f"
          },
          "geo": {
           "bgcolor": "white",
           "lakecolor": "white",
           "landcolor": "#E5ECF6",
           "showlakes": true,
           "showland": true,
           "subunitcolor": "white"
          },
          "hoverlabel": {
           "align": "left"
          },
          "hovermode": "closest",
          "mapbox": {
           "style": "light"
          },
          "paper_bgcolor": "white",
          "plot_bgcolor": "#E5ECF6",
          "polar": {
           "angularaxis": {
            "gridcolor": "white",
            "linecolor": "white",
            "ticks": ""
           },
           "bgcolor": "#E5ECF6",
           "radialaxis": {
            "gridcolor": "white",
            "linecolor": "white",
            "ticks": ""
           }
          },
          "scene": {
           "xaxis": {
            "backgroundcolor": "#E5ECF6",
            "gridcolor": "white",
            "gridwidth": 2,
            "linecolor": "white",
            "showbackground": true,
            "ticks": "",
            "zerolinecolor": "white"
           },
           "yaxis": {
            "backgroundcolor": "#E5ECF6",
            "gridcolor": "white",
            "gridwidth": 2,
            "linecolor": "white",
            "showbackground": true,
            "ticks": "",
            "zerolinecolor": "white"
           },
           "zaxis": {
            "backgroundcolor": "#E5ECF6",
            "gridcolor": "white",
            "gridwidth": 2,
            "linecolor": "white",
            "showbackground": true,
            "ticks": "",
            "zerolinecolor": "white"
           }
          },
          "shapedefaults": {
           "line": {
            "color": "#2a3f5f"
           }
          },
          "ternary": {
           "aaxis": {
            "gridcolor": "white",
            "linecolor": "white",
            "ticks": ""
           },
           "baxis": {
            "gridcolor": "white",
            "linecolor": "white",
            "ticks": ""
           },
           "bgcolor": "#E5ECF6",
           "caxis": {
            "gridcolor": "white",
            "linecolor": "white",
            "ticks": ""
           }
          },
          "title": {
           "x": 0.05
          },
          "xaxis": {
           "automargin": true,
           "gridcolor": "white",
           "linecolor": "white",
           "ticks": "",
           "title": {
            "standoff": 15
           },
           "zerolinecolor": "white",
           "zerolinewidth": 2
          },
          "yaxis": {
           "automargin": true,
           "gridcolor": "white",
           "linecolor": "white",
           "ticks": "",
           "title": {
            "standoff": 15
           },
           "zerolinecolor": "white",
           "zerolinewidth": 2
          }
         }
        },
        "title": {
         "text": "A Figure Specified By A Graph Object"
        }
       }
      }
     },
     "metadata": {},
     "output_type": "display_data"
    }
   ],
   "source": [
    "import plotly.graph_objects as go\n",
    "\n",
    "fig = go.Figure(\n",
    "    data=[go.Bar(x=[1, 2, 3], y=[1, 3, 2])],\n",
    "    layout=go.Layout(\n",
    "        title=go.layout.Title(text=\"A Figure Specified By A Graph Object\")\n",
    "    )\n",
    ")\n",
    "\n",
    "fig.show()"
   ]
  },
  {
   "cell_type": "code",
   "execution_count": 37,
   "metadata": {},
   "outputs": [
    {
     "name": "stdout",
     "output_type": "stream",
     "text": [
      "Figure({\n",
      "    'data': [{'type': 'bar', 'x': [1, 2, 3], 'y': [1, 3, 2]}],\n",
      "    'layout': {'template': '...', 'title': {'text': 'A Figure Specified By A Graph Object'}}\n",
      "})\n"
     ]
    }
   ],
   "source": [
    "print(fig)"
   ]
  },
  {
   "attachments": {},
   "cell_type": "markdown",
   "metadata": {},
   "source": [
    "We've used some graph objects functions here to populate the default values. You can see by looking at whats been output by the text output. But equally it's entirely possible to do the same thing purely specifying it all yourself."
   ]
  },
  {
   "cell_type": "code",
   "execution_count": 38,
   "metadata": {},
   "outputs": [
    {
     "data": {
      "application/vnd.plotly.v1+json": {
       "config": {
        "plotlyServerURL": "https://plot.ly"
       },
       "data": [
        {
         "type": "bar",
         "x": [
          1,
          2,
          3
         ],
         "y": [
          1,
          3,
          2
         ]
        }
       ],
       "layout": {
        "template": {
         "data": {
          "bar": [
           {
            "error_x": {
             "color": "#2a3f5f"
            },
            "error_y": {
             "color": "#2a3f5f"
            },
            "marker": {
             "line": {
              "color": "#E5ECF6",
              "width": 0.5
             },
             "pattern": {
              "fillmode": "overlay",
              "size": 10,
              "solidity": 0.2
             }
            },
            "type": "bar"
           }
          ],
          "barpolar": [
           {
            "marker": {
             "line": {
              "color": "#E5ECF6",
              "width": 0.5
             },
             "pattern": {
              "fillmode": "overlay",
              "size": 10,
              "solidity": 0.2
             }
            },
            "type": "barpolar"
           }
          ],
          "carpet": [
           {
            "aaxis": {
             "endlinecolor": "#2a3f5f",
             "gridcolor": "white",
             "linecolor": "white",
             "minorgridcolor": "white",
             "startlinecolor": "#2a3f5f"
            },
            "baxis": {
             "endlinecolor": "#2a3f5f",
             "gridcolor": "white",
             "linecolor": "white",
             "minorgridcolor": "white",
             "startlinecolor": "#2a3f5f"
            },
            "type": "carpet"
           }
          ],
          "choropleth": [
           {
            "colorbar": {
             "outlinewidth": 0,
             "ticks": ""
            },
            "type": "choropleth"
           }
          ],
          "contour": [
           {
            "colorbar": {
             "outlinewidth": 0,
             "ticks": ""
            },
            "colorscale": [
             [
              0,
              "#0d0887"
             ],
             [
              0.1111111111111111,
              "#46039f"
             ],
             [
              0.2222222222222222,
              "#7201a8"
             ],
             [
              0.3333333333333333,
              "#9c179e"
             ],
             [
              0.4444444444444444,
              "#bd3786"
             ],
             [
              0.5555555555555556,
              "#d8576b"
             ],
             [
              0.6666666666666666,
              "#ed7953"
             ],
             [
              0.7777777777777778,
              "#fb9f3a"
             ],
             [
              0.8888888888888888,
              "#fdca26"
             ],
             [
              1,
              "#f0f921"
             ]
            ],
            "type": "contour"
           }
          ],
          "contourcarpet": [
           {
            "colorbar": {
             "outlinewidth": 0,
             "ticks": ""
            },
            "type": "contourcarpet"
           }
          ],
          "heatmap": [
           {
            "colorbar": {
             "outlinewidth": 0,
             "ticks": ""
            },
            "colorscale": [
             [
              0,
              "#0d0887"
             ],
             [
              0.1111111111111111,
              "#46039f"
             ],
             [
              0.2222222222222222,
              "#7201a8"
             ],
             [
              0.3333333333333333,
              "#9c179e"
             ],
             [
              0.4444444444444444,
              "#bd3786"
             ],
             [
              0.5555555555555556,
              "#d8576b"
             ],
             [
              0.6666666666666666,
              "#ed7953"
             ],
             [
              0.7777777777777778,
              "#fb9f3a"
             ],
             [
              0.8888888888888888,
              "#fdca26"
             ],
             [
              1,
              "#f0f921"
             ]
            ],
            "type": "heatmap"
           }
          ],
          "heatmapgl": [
           {
            "colorbar": {
             "outlinewidth": 0,
             "ticks": ""
            },
            "colorscale": [
             [
              0,
              "#0d0887"
             ],
             [
              0.1111111111111111,
              "#46039f"
             ],
             [
              0.2222222222222222,
              "#7201a8"
             ],
             [
              0.3333333333333333,
              "#9c179e"
             ],
             [
              0.4444444444444444,
              "#bd3786"
             ],
             [
              0.5555555555555556,
              "#d8576b"
             ],
             [
              0.6666666666666666,
              "#ed7953"
             ],
             [
              0.7777777777777778,
              "#fb9f3a"
             ],
             [
              0.8888888888888888,
              "#fdca26"
             ],
             [
              1,
              "#f0f921"
             ]
            ],
            "type": "heatmapgl"
           }
          ],
          "histogram": [
           {
            "marker": {
             "pattern": {
              "fillmode": "overlay",
              "size": 10,
              "solidity": 0.2
             }
            },
            "type": "histogram"
           }
          ],
          "histogram2d": [
           {
            "colorbar": {
             "outlinewidth": 0,
             "ticks": ""
            },
            "colorscale": [
             [
              0,
              "#0d0887"
             ],
             [
              0.1111111111111111,
              "#46039f"
             ],
             [
              0.2222222222222222,
              "#7201a8"
             ],
             [
              0.3333333333333333,
              "#9c179e"
             ],
             [
              0.4444444444444444,
              "#bd3786"
             ],
             [
              0.5555555555555556,
              "#d8576b"
             ],
             [
              0.6666666666666666,
              "#ed7953"
             ],
             [
              0.7777777777777778,
              "#fb9f3a"
             ],
             [
              0.8888888888888888,
              "#fdca26"
             ],
             [
              1,
              "#f0f921"
             ]
            ],
            "type": "histogram2d"
           }
          ],
          "histogram2dcontour": [
           {
            "colorbar": {
             "outlinewidth": 0,
             "ticks": ""
            },
            "colorscale": [
             [
              0,
              "#0d0887"
             ],
             [
              0.1111111111111111,
              "#46039f"
             ],
             [
              0.2222222222222222,
              "#7201a8"
             ],
             [
              0.3333333333333333,
              "#9c179e"
             ],
             [
              0.4444444444444444,
              "#bd3786"
             ],
             [
              0.5555555555555556,
              "#d8576b"
             ],
             [
              0.6666666666666666,
              "#ed7953"
             ],
             [
              0.7777777777777778,
              "#fb9f3a"
             ],
             [
              0.8888888888888888,
              "#fdca26"
             ],
             [
              1,
              "#f0f921"
             ]
            ],
            "type": "histogram2dcontour"
           }
          ],
          "mesh3d": [
           {
            "colorbar": {
             "outlinewidth": 0,
             "ticks": ""
            },
            "type": "mesh3d"
           }
          ],
          "parcoords": [
           {
            "line": {
             "colorbar": {
              "outlinewidth": 0,
              "ticks": ""
             }
            },
            "type": "parcoords"
           }
          ],
          "pie": [
           {
            "automargin": true,
            "type": "pie"
           }
          ],
          "scatter": [
           {
            "fillpattern": {
             "fillmode": "overlay",
             "size": 10,
             "solidity": 0.2
            },
            "type": "scatter"
           }
          ],
          "scatter3d": [
           {
            "line": {
             "colorbar": {
              "outlinewidth": 0,
              "ticks": ""
             }
            },
            "marker": {
             "colorbar": {
              "outlinewidth": 0,
              "ticks": ""
             }
            },
            "type": "scatter3d"
           }
          ],
          "scattercarpet": [
           {
            "marker": {
             "colorbar": {
              "outlinewidth": 0,
              "ticks": ""
             }
            },
            "type": "scattercarpet"
           }
          ],
          "scattergeo": [
           {
            "marker": {
             "colorbar": {
              "outlinewidth": 0,
              "ticks": ""
             }
            },
            "type": "scattergeo"
           }
          ],
          "scattergl": [
           {
            "marker": {
             "colorbar": {
              "outlinewidth": 0,
              "ticks": ""
             }
            },
            "type": "scattergl"
           }
          ],
          "scattermapbox": [
           {
            "marker": {
             "colorbar": {
              "outlinewidth": 0,
              "ticks": ""
             }
            },
            "type": "scattermapbox"
           }
          ],
          "scatterpolar": [
           {
            "marker": {
             "colorbar": {
              "outlinewidth": 0,
              "ticks": ""
             }
            },
            "type": "scatterpolar"
           }
          ],
          "scatterpolargl": [
           {
            "marker": {
             "colorbar": {
              "outlinewidth": 0,
              "ticks": ""
             }
            },
            "type": "scatterpolargl"
           }
          ],
          "scatterternary": [
           {
            "marker": {
             "colorbar": {
              "outlinewidth": 0,
              "ticks": ""
             }
            },
            "type": "scatterternary"
           }
          ],
          "surface": [
           {
            "colorbar": {
             "outlinewidth": 0,
             "ticks": ""
            },
            "colorscale": [
             [
              0,
              "#0d0887"
             ],
             [
              0.1111111111111111,
              "#46039f"
             ],
             [
              0.2222222222222222,
              "#7201a8"
             ],
             [
              0.3333333333333333,
              "#9c179e"
             ],
             [
              0.4444444444444444,
              "#bd3786"
             ],
             [
              0.5555555555555556,
              "#d8576b"
             ],
             [
              0.6666666666666666,
              "#ed7953"
             ],
             [
              0.7777777777777778,
              "#fb9f3a"
             ],
             [
              0.8888888888888888,
              "#fdca26"
             ],
             [
              1,
              "#f0f921"
             ]
            ],
            "type": "surface"
           }
          ],
          "table": [
           {
            "cells": {
             "fill": {
              "color": "#EBF0F8"
             },
             "line": {
              "color": "white"
             }
            },
            "header": {
             "fill": {
              "color": "#C8D4E3"
             },
             "line": {
              "color": "white"
             }
            },
            "type": "table"
           }
          ]
         },
         "layout": {
          "annotationdefaults": {
           "arrowcolor": "#2a3f5f",
           "arrowhead": 0,
           "arrowwidth": 1
          },
          "autotypenumbers": "strict",
          "coloraxis": {
           "colorbar": {
            "outlinewidth": 0,
            "ticks": ""
           }
          },
          "colorscale": {
           "diverging": [
            [
             0,
             "#8e0152"
            ],
            [
             0.1,
             "#c51b7d"
            ],
            [
             0.2,
             "#de77ae"
            ],
            [
             0.3,
             "#f1b6da"
            ],
            [
             0.4,
             "#fde0ef"
            ],
            [
             0.5,
             "#f7f7f7"
            ],
            [
             0.6,
             "#e6f5d0"
            ],
            [
             0.7,
             "#b8e186"
            ],
            [
             0.8,
             "#7fbc41"
            ],
            [
             0.9,
             "#4d9221"
            ],
            [
             1,
             "#276419"
            ]
           ],
           "sequential": [
            [
             0,
             "#0d0887"
            ],
            [
             0.1111111111111111,
             "#46039f"
            ],
            [
             0.2222222222222222,
             "#7201a8"
            ],
            [
             0.3333333333333333,
             "#9c179e"
            ],
            [
             0.4444444444444444,
             "#bd3786"
            ],
            [
             0.5555555555555556,
             "#d8576b"
            ],
            [
             0.6666666666666666,
             "#ed7953"
            ],
            [
             0.7777777777777778,
             "#fb9f3a"
            ],
            [
             0.8888888888888888,
             "#fdca26"
            ],
            [
             1,
             "#f0f921"
            ]
           ],
           "sequentialminus": [
            [
             0,
             "#0d0887"
            ],
            [
             0.1111111111111111,
             "#46039f"
            ],
            [
             0.2222222222222222,
             "#7201a8"
            ],
            [
             0.3333333333333333,
             "#9c179e"
            ],
            [
             0.4444444444444444,
             "#bd3786"
            ],
            [
             0.5555555555555556,
             "#d8576b"
            ],
            [
             0.6666666666666666,
             "#ed7953"
            ],
            [
             0.7777777777777778,
             "#fb9f3a"
            ],
            [
             0.8888888888888888,
             "#fdca26"
            ],
            [
             1,
             "#f0f921"
            ]
           ]
          },
          "colorway": [
           "#636efa",
           "#EF553B",
           "#00cc96",
           "#ab63fa",
           "#FFA15A",
           "#19d3f3",
           "#FF6692",
           "#B6E880",
           "#FF97FF",
           "#FECB52"
          ],
          "font": {
           "color": "#2a3f5f"
          },
          "geo": {
           "bgcolor": "white",
           "lakecolor": "white",
           "landcolor": "#E5ECF6",
           "showlakes": true,
           "showland": true,
           "subunitcolor": "white"
          },
          "hoverlabel": {
           "align": "left"
          },
          "hovermode": "closest",
          "mapbox": {
           "style": "light"
          },
          "paper_bgcolor": "white",
          "plot_bgcolor": "#E5ECF6",
          "polar": {
           "angularaxis": {
            "gridcolor": "white",
            "linecolor": "white",
            "ticks": ""
           },
           "bgcolor": "#E5ECF6",
           "radialaxis": {
            "gridcolor": "white",
            "linecolor": "white",
            "ticks": ""
           }
          },
          "scene": {
           "xaxis": {
            "backgroundcolor": "#E5ECF6",
            "gridcolor": "white",
            "gridwidth": 2,
            "linecolor": "white",
            "showbackground": true,
            "ticks": "",
            "zerolinecolor": "white"
           },
           "yaxis": {
            "backgroundcolor": "#E5ECF6",
            "gridcolor": "white",
            "gridwidth": 2,
            "linecolor": "white",
            "showbackground": true,
            "ticks": "",
            "zerolinecolor": "white"
           },
           "zaxis": {
            "backgroundcolor": "#E5ECF6",
            "gridcolor": "white",
            "gridwidth": 2,
            "linecolor": "white",
            "showbackground": true,
            "ticks": "",
            "zerolinecolor": "white"
           }
          },
          "shapedefaults": {
           "line": {
            "color": "#2a3f5f"
           }
          },
          "ternary": {
           "aaxis": {
            "gridcolor": "white",
            "linecolor": "white",
            "ticks": ""
           },
           "baxis": {
            "gridcolor": "white",
            "linecolor": "white",
            "ticks": ""
           },
           "bgcolor": "#E5ECF6",
           "caxis": {
            "gridcolor": "white",
            "linecolor": "white",
            "ticks": ""
           }
          },
          "title": {
           "x": 0.05
          },
          "xaxis": {
           "automargin": true,
           "gridcolor": "white",
           "linecolor": "white",
           "ticks": "",
           "title": {
            "standoff": 15
           },
           "zerolinecolor": "white",
           "zerolinewidth": 2
          },
          "yaxis": {
           "automargin": true,
           "gridcolor": "white",
           "linecolor": "white",
           "ticks": "",
           "title": {
            "standoff": 15
           },
           "zerolinecolor": "white",
           "zerolinewidth": 2
          }
         }
        },
        "title": {
         "text": "A Figure Specified By A Graph Object With A Dictionary"
        }
       }
      }
     },
     "metadata": {},
     "output_type": "display_data"
    }
   ],
   "source": [
    "import plotly.graph_objects as go\n",
    "\n",
    "dict_of_fig = dict({\n",
    "    \"data\": [{\"type\": \"bar\",\n",
    "              \"x\": [1, 2, 3],\n",
    "              \"y\": [1, 3, 2]}],\n",
    "    \"layout\": {\"title\": {\"text\": \"A Figure Specified By A Graph Object With A Dictionary\"}}\n",
    "})\n",
    "\n",
    "fig = go.Figure(dict_of_fig)\n",
    "\n",
    "fig.show()"
   ]
  },
  {
   "cell_type": "code",
   "execution_count": 39,
   "metadata": {},
   "outputs": [
    {
     "data": {
      "application/vnd.plotly.v1+json": {
       "config": {
        "plotlyServerURL": "https://plot.ly"
       },
       "data": [
        {
         "type": "bar",
         "x": [
          1,
          2,
          3
         ],
         "y": [
          1,
          3,
          2
         ]
        },
        {
         "mode": "lines",
         "type": "scatter",
         "y": [
          4,
          2,
          1
         ]
        }
       ],
       "layout": {
        "template": {
         "data": {
          "bar": [
           {
            "error_x": {
             "color": "#2a3f5f"
            },
            "error_y": {
             "color": "#2a3f5f"
            },
            "marker": {
             "line": {
              "color": "#E5ECF6",
              "width": 0.5
             },
             "pattern": {
              "fillmode": "overlay",
              "size": 10,
              "solidity": 0.2
             }
            },
            "type": "bar"
           }
          ],
          "barpolar": [
           {
            "marker": {
             "line": {
              "color": "#E5ECF6",
              "width": 0.5
             },
             "pattern": {
              "fillmode": "overlay",
              "size": 10,
              "solidity": 0.2
             }
            },
            "type": "barpolar"
           }
          ],
          "carpet": [
           {
            "aaxis": {
             "endlinecolor": "#2a3f5f",
             "gridcolor": "white",
             "linecolor": "white",
             "minorgridcolor": "white",
             "startlinecolor": "#2a3f5f"
            },
            "baxis": {
             "endlinecolor": "#2a3f5f",
             "gridcolor": "white",
             "linecolor": "white",
             "minorgridcolor": "white",
             "startlinecolor": "#2a3f5f"
            },
            "type": "carpet"
           }
          ],
          "choropleth": [
           {
            "colorbar": {
             "outlinewidth": 0,
             "ticks": ""
            },
            "type": "choropleth"
           }
          ],
          "contour": [
           {
            "colorbar": {
             "outlinewidth": 0,
             "ticks": ""
            },
            "colorscale": [
             [
              0,
              "#0d0887"
             ],
             [
              0.1111111111111111,
              "#46039f"
             ],
             [
              0.2222222222222222,
              "#7201a8"
             ],
             [
              0.3333333333333333,
              "#9c179e"
             ],
             [
              0.4444444444444444,
              "#bd3786"
             ],
             [
              0.5555555555555556,
              "#d8576b"
             ],
             [
              0.6666666666666666,
              "#ed7953"
             ],
             [
              0.7777777777777778,
              "#fb9f3a"
             ],
             [
              0.8888888888888888,
              "#fdca26"
             ],
             [
              1,
              "#f0f921"
             ]
            ],
            "type": "contour"
           }
          ],
          "contourcarpet": [
           {
            "colorbar": {
             "outlinewidth": 0,
             "ticks": ""
            },
            "type": "contourcarpet"
           }
          ],
          "heatmap": [
           {
            "colorbar": {
             "outlinewidth": 0,
             "ticks": ""
            },
            "colorscale": [
             [
              0,
              "#0d0887"
             ],
             [
              0.1111111111111111,
              "#46039f"
             ],
             [
              0.2222222222222222,
              "#7201a8"
             ],
             [
              0.3333333333333333,
              "#9c179e"
             ],
             [
              0.4444444444444444,
              "#bd3786"
             ],
             [
              0.5555555555555556,
              "#d8576b"
             ],
             [
              0.6666666666666666,
              "#ed7953"
             ],
             [
              0.7777777777777778,
              "#fb9f3a"
             ],
             [
              0.8888888888888888,
              "#fdca26"
             ],
             [
              1,
              "#f0f921"
             ]
            ],
            "type": "heatmap"
           }
          ],
          "heatmapgl": [
           {
            "colorbar": {
             "outlinewidth": 0,
             "ticks": ""
            },
            "colorscale": [
             [
              0,
              "#0d0887"
             ],
             [
              0.1111111111111111,
              "#46039f"
             ],
             [
              0.2222222222222222,
              "#7201a8"
             ],
             [
              0.3333333333333333,
              "#9c179e"
             ],
             [
              0.4444444444444444,
              "#bd3786"
             ],
             [
              0.5555555555555556,
              "#d8576b"
             ],
             [
              0.6666666666666666,
              "#ed7953"
             ],
             [
              0.7777777777777778,
              "#fb9f3a"
             ],
             [
              0.8888888888888888,
              "#fdca26"
             ],
             [
              1,
              "#f0f921"
             ]
            ],
            "type": "heatmapgl"
           }
          ],
          "histogram": [
           {
            "marker": {
             "pattern": {
              "fillmode": "overlay",
              "size": 10,
              "solidity": 0.2
             }
            },
            "type": "histogram"
           }
          ],
          "histogram2d": [
           {
            "colorbar": {
             "outlinewidth": 0,
             "ticks": ""
            },
            "colorscale": [
             [
              0,
              "#0d0887"
             ],
             [
              0.1111111111111111,
              "#46039f"
             ],
             [
              0.2222222222222222,
              "#7201a8"
             ],
             [
              0.3333333333333333,
              "#9c179e"
             ],
             [
              0.4444444444444444,
              "#bd3786"
             ],
             [
              0.5555555555555556,
              "#d8576b"
             ],
             [
              0.6666666666666666,
              "#ed7953"
             ],
             [
              0.7777777777777778,
              "#fb9f3a"
             ],
             [
              0.8888888888888888,
              "#fdca26"
             ],
             [
              1,
              "#f0f921"
             ]
            ],
            "type": "histogram2d"
           }
          ],
          "histogram2dcontour": [
           {
            "colorbar": {
             "outlinewidth": 0,
             "ticks": ""
            },
            "colorscale": [
             [
              0,
              "#0d0887"
             ],
             [
              0.1111111111111111,
              "#46039f"
             ],
             [
              0.2222222222222222,
              "#7201a8"
             ],
             [
              0.3333333333333333,
              "#9c179e"
             ],
             [
              0.4444444444444444,
              "#bd3786"
             ],
             [
              0.5555555555555556,
              "#d8576b"
             ],
             [
              0.6666666666666666,
              "#ed7953"
             ],
             [
              0.7777777777777778,
              "#fb9f3a"
             ],
             [
              0.8888888888888888,
              "#fdca26"
             ],
             [
              1,
              "#f0f921"
             ]
            ],
            "type": "histogram2dcontour"
           }
          ],
          "mesh3d": [
           {
            "colorbar": {
             "outlinewidth": 0,
             "ticks": ""
            },
            "type": "mesh3d"
           }
          ],
          "parcoords": [
           {
            "line": {
             "colorbar": {
              "outlinewidth": 0,
              "ticks": ""
             }
            },
            "type": "parcoords"
           }
          ],
          "pie": [
           {
            "automargin": true,
            "type": "pie"
           }
          ],
          "scatter": [
           {
            "fillpattern": {
             "fillmode": "overlay",
             "size": 10,
             "solidity": 0.2
            },
            "type": "scatter"
           }
          ],
          "scatter3d": [
           {
            "line": {
             "colorbar": {
              "outlinewidth": 0,
              "ticks": ""
             }
            },
            "marker": {
             "colorbar": {
              "outlinewidth": 0,
              "ticks": ""
             }
            },
            "type": "scatter3d"
           }
          ],
          "scattercarpet": [
           {
            "marker": {
             "colorbar": {
              "outlinewidth": 0,
              "ticks": ""
             }
            },
            "type": "scattercarpet"
           }
          ],
          "scattergeo": [
           {
            "marker": {
             "colorbar": {
              "outlinewidth": 0,
              "ticks": ""
             }
            },
            "type": "scattergeo"
           }
          ],
          "scattergl": [
           {
            "marker": {
             "colorbar": {
              "outlinewidth": 0,
              "ticks": ""
             }
            },
            "type": "scattergl"
           }
          ],
          "scattermapbox": [
           {
            "marker": {
             "colorbar": {
              "outlinewidth": 0,
              "ticks": ""
             }
            },
            "type": "scattermapbox"
           }
          ],
          "scatterpolar": [
           {
            "marker": {
             "colorbar": {
              "outlinewidth": 0,
              "ticks": ""
             }
            },
            "type": "scatterpolar"
           }
          ],
          "scatterpolargl": [
           {
            "marker": {
             "colorbar": {
              "outlinewidth": 0,
              "ticks": ""
             }
            },
            "type": "scatterpolargl"
           }
          ],
          "scatterternary": [
           {
            "marker": {
             "colorbar": {
              "outlinewidth": 0,
              "ticks": ""
             }
            },
            "type": "scatterternary"
           }
          ],
          "surface": [
           {
            "colorbar": {
             "outlinewidth": 0,
             "ticks": ""
            },
            "colorscale": [
             [
              0,
              "#0d0887"
             ],
             [
              0.1111111111111111,
              "#46039f"
             ],
             [
              0.2222222222222222,
              "#7201a8"
             ],
             [
              0.3333333333333333,
              "#9c179e"
             ],
             [
              0.4444444444444444,
              "#bd3786"
             ],
             [
              0.5555555555555556,
              "#d8576b"
             ],
             [
              0.6666666666666666,
              "#ed7953"
             ],
             [
              0.7777777777777778,
              "#fb9f3a"
             ],
             [
              0.8888888888888888,
              "#fdca26"
             ],
             [
              1,
              "#f0f921"
             ]
            ],
            "type": "surface"
           }
          ],
          "table": [
           {
            "cells": {
             "fill": {
              "color": "#EBF0F8"
             },
             "line": {
              "color": "white"
             }
            },
            "header": {
             "fill": {
              "color": "#C8D4E3"
             },
             "line": {
              "color": "white"
             }
            },
            "type": "table"
           }
          ]
         },
         "layout": {
          "annotationdefaults": {
           "arrowcolor": "#2a3f5f",
           "arrowhead": 0,
           "arrowwidth": 1
          },
          "autotypenumbers": "strict",
          "coloraxis": {
           "colorbar": {
            "outlinewidth": 0,
            "ticks": ""
           }
          },
          "colorscale": {
           "diverging": [
            [
             0,
             "#8e0152"
            ],
            [
             0.1,
             "#c51b7d"
            ],
            [
             0.2,
             "#de77ae"
            ],
            [
             0.3,
             "#f1b6da"
            ],
            [
             0.4,
             "#fde0ef"
            ],
            [
             0.5,
             "#f7f7f7"
            ],
            [
             0.6,
             "#e6f5d0"
            ],
            [
             0.7,
             "#b8e186"
            ],
            [
             0.8,
             "#7fbc41"
            ],
            [
             0.9,
             "#4d9221"
            ],
            [
             1,
             "#276419"
            ]
           ],
           "sequential": [
            [
             0,
             "#0d0887"
            ],
            [
             0.1111111111111111,
             "#46039f"
            ],
            [
             0.2222222222222222,
             "#7201a8"
            ],
            [
             0.3333333333333333,
             "#9c179e"
            ],
            [
             0.4444444444444444,
             "#bd3786"
            ],
            [
             0.5555555555555556,
             "#d8576b"
            ],
            [
             0.6666666666666666,
             "#ed7953"
            ],
            [
             0.7777777777777778,
             "#fb9f3a"
            ],
            [
             0.8888888888888888,
             "#fdca26"
            ],
            [
             1,
             "#f0f921"
            ]
           ],
           "sequentialminus": [
            [
             0,
             "#0d0887"
            ],
            [
             0.1111111111111111,
             "#46039f"
            ],
            [
             0.2222222222222222,
             "#7201a8"
            ],
            [
             0.3333333333333333,
             "#9c179e"
            ],
            [
             0.4444444444444444,
             "#bd3786"
            ],
            [
             0.5555555555555556,
             "#d8576b"
            ],
            [
             0.6666666666666666,
             "#ed7953"
            ],
            [
             0.7777777777777778,
             "#fb9f3a"
            ],
            [
             0.8888888888888888,
             "#fdca26"
            ],
            [
             1,
             "#f0f921"
            ]
           ]
          },
          "colorway": [
           "#636efa",
           "#EF553B",
           "#00cc96",
           "#ab63fa",
           "#FFA15A",
           "#19d3f3",
           "#FF6692",
           "#B6E880",
           "#FF97FF",
           "#FECB52"
          ],
          "font": {
           "color": "#2a3f5f"
          },
          "geo": {
           "bgcolor": "white",
           "lakecolor": "white",
           "landcolor": "#E5ECF6",
           "showlakes": true,
           "showland": true,
           "subunitcolor": "white"
          },
          "hoverlabel": {
           "align": "left"
          },
          "hovermode": "closest",
          "mapbox": {
           "style": "light"
          },
          "paper_bgcolor": "white",
          "plot_bgcolor": "#E5ECF6",
          "polar": {
           "angularaxis": {
            "gridcolor": "white",
            "linecolor": "white",
            "ticks": ""
           },
           "bgcolor": "#E5ECF6",
           "radialaxis": {
            "gridcolor": "white",
            "linecolor": "white",
            "ticks": ""
           }
          },
          "scene": {
           "xaxis": {
            "backgroundcolor": "#E5ECF6",
            "gridcolor": "white",
            "gridwidth": 2,
            "linecolor": "white",
            "showbackground": true,
            "ticks": "",
            "zerolinecolor": "white"
           },
           "yaxis": {
            "backgroundcolor": "#E5ECF6",
            "gridcolor": "white",
            "gridwidth": 2,
            "linecolor": "white",
            "showbackground": true,
            "ticks": "",
            "zerolinecolor": "white"
           },
           "zaxis": {
            "backgroundcolor": "#E5ECF6",
            "gridcolor": "white",
            "gridwidth": 2,
            "linecolor": "white",
            "showbackground": true,
            "ticks": "",
            "zerolinecolor": "white"
           }
          },
          "shapedefaults": {
           "line": {
            "color": "#2a3f5f"
           }
          },
          "ternary": {
           "aaxis": {
            "gridcolor": "white",
            "linecolor": "white",
            "ticks": ""
           },
           "baxis": {
            "gridcolor": "white",
            "linecolor": "white",
            "ticks": ""
           },
           "bgcolor": "#E5ECF6",
           "caxis": {
            "gridcolor": "white",
            "linecolor": "white",
            "ticks": ""
           }
          },
          "title": {
           "x": 0.05
          },
          "xaxis": {
           "automargin": true,
           "gridcolor": "white",
           "linecolor": "white",
           "ticks": "",
           "title": {
            "standoff": 15
           },
           "zerolinecolor": "white",
           "zerolinewidth": 2
          },
          "yaxis": {
           "automargin": true,
           "gridcolor": "white",
           "linecolor": "white",
           "ticks": "",
           "title": {
            "standoff": 15
           },
           "zerolinecolor": "white",
           "zerolinewidth": 2
          }
         }
        }
       }
      }
     },
     "metadata": {},
     "output_type": "display_data"
    }
   ],
   "source": [
    "fig = go.Figure()\n",
    "\n",
    "fig.add_trace(go.Bar(x=[1, 2, 3], y=[1, 3, 2]))\n",
    "fig.add_trace(go.Scatter(y=[4, 2, 1], mode=\"lines\"))\n",
    "\n",
    "fig.show()\n"
   ]
  },
  {
   "attachments": {},
   "cell_type": "markdown",
   "metadata": {},
   "source": [
    "We can apply the same thing to subplots."
   ]
  },
  {
   "cell_type": "code",
   "execution_count": 41,
   "metadata": {},
   "outputs": [
    {
     "data": {
      "application/vnd.plotly.v1+json": {
       "config": {
        "plotlyServerURL": "https://plot.ly"
       },
       "data": [
        {
         "mode": "lines",
         "type": "scatter",
         "xaxis": "x",
         "y": [
          4,
          2,
          1
         ],
         "yaxis": "y"
        },
        {
         "type": "bar",
         "xaxis": "x2",
         "y": [
          2,
          1,
          3
         ],
         "yaxis": "y2"
        }
       ],
       "layout": {
        "template": {
         "data": {
          "bar": [
           {
            "error_x": {
             "color": "#2a3f5f"
            },
            "error_y": {
             "color": "#2a3f5f"
            },
            "marker": {
             "line": {
              "color": "#E5ECF6",
              "width": 0.5
             },
             "pattern": {
              "fillmode": "overlay",
              "size": 10,
              "solidity": 0.2
             }
            },
            "type": "bar"
           }
          ],
          "barpolar": [
           {
            "marker": {
             "line": {
              "color": "#E5ECF6",
              "width": 0.5
             },
             "pattern": {
              "fillmode": "overlay",
              "size": 10,
              "solidity": 0.2
             }
            },
            "type": "barpolar"
           }
          ],
          "carpet": [
           {
            "aaxis": {
             "endlinecolor": "#2a3f5f",
             "gridcolor": "white",
             "linecolor": "white",
             "minorgridcolor": "white",
             "startlinecolor": "#2a3f5f"
            },
            "baxis": {
             "endlinecolor": "#2a3f5f",
             "gridcolor": "white",
             "linecolor": "white",
             "minorgridcolor": "white",
             "startlinecolor": "#2a3f5f"
            },
            "type": "carpet"
           }
          ],
          "choropleth": [
           {
            "colorbar": {
             "outlinewidth": 0,
             "ticks": ""
            },
            "type": "choropleth"
           }
          ],
          "contour": [
           {
            "colorbar": {
             "outlinewidth": 0,
             "ticks": ""
            },
            "colorscale": [
             [
              0,
              "#0d0887"
             ],
             [
              0.1111111111111111,
              "#46039f"
             ],
             [
              0.2222222222222222,
              "#7201a8"
             ],
             [
              0.3333333333333333,
              "#9c179e"
             ],
             [
              0.4444444444444444,
              "#bd3786"
             ],
             [
              0.5555555555555556,
              "#d8576b"
             ],
             [
              0.6666666666666666,
              "#ed7953"
             ],
             [
              0.7777777777777778,
              "#fb9f3a"
             ],
             [
              0.8888888888888888,
              "#fdca26"
             ],
             [
              1,
              "#f0f921"
             ]
            ],
            "type": "contour"
           }
          ],
          "contourcarpet": [
           {
            "colorbar": {
             "outlinewidth": 0,
             "ticks": ""
            },
            "type": "contourcarpet"
           }
          ],
          "heatmap": [
           {
            "colorbar": {
             "outlinewidth": 0,
             "ticks": ""
            },
            "colorscale": [
             [
              0,
              "#0d0887"
             ],
             [
              0.1111111111111111,
              "#46039f"
             ],
             [
              0.2222222222222222,
              "#7201a8"
             ],
             [
              0.3333333333333333,
              "#9c179e"
             ],
             [
              0.4444444444444444,
              "#bd3786"
             ],
             [
              0.5555555555555556,
              "#d8576b"
             ],
             [
              0.6666666666666666,
              "#ed7953"
             ],
             [
              0.7777777777777778,
              "#fb9f3a"
             ],
             [
              0.8888888888888888,
              "#fdca26"
             ],
             [
              1,
              "#f0f921"
             ]
            ],
            "type": "heatmap"
           }
          ],
          "heatmapgl": [
           {
            "colorbar": {
             "outlinewidth": 0,
             "ticks": ""
            },
            "colorscale": [
             [
              0,
              "#0d0887"
             ],
             [
              0.1111111111111111,
              "#46039f"
             ],
             [
              0.2222222222222222,
              "#7201a8"
             ],
             [
              0.3333333333333333,
              "#9c179e"
             ],
             [
              0.4444444444444444,
              "#bd3786"
             ],
             [
              0.5555555555555556,
              "#d8576b"
             ],
             [
              0.6666666666666666,
              "#ed7953"
             ],
             [
              0.7777777777777778,
              "#fb9f3a"
             ],
             [
              0.8888888888888888,
              "#fdca26"
             ],
             [
              1,
              "#f0f921"
             ]
            ],
            "type": "heatmapgl"
           }
          ],
          "histogram": [
           {
            "marker": {
             "pattern": {
              "fillmode": "overlay",
              "size": 10,
              "solidity": 0.2
             }
            },
            "type": "histogram"
           }
          ],
          "histogram2d": [
           {
            "colorbar": {
             "outlinewidth": 0,
             "ticks": ""
            },
            "colorscale": [
             [
              0,
              "#0d0887"
             ],
             [
              0.1111111111111111,
              "#46039f"
             ],
             [
              0.2222222222222222,
              "#7201a8"
             ],
             [
              0.3333333333333333,
              "#9c179e"
             ],
             [
              0.4444444444444444,
              "#bd3786"
             ],
             [
              0.5555555555555556,
              "#d8576b"
             ],
             [
              0.6666666666666666,
              "#ed7953"
             ],
             [
              0.7777777777777778,
              "#fb9f3a"
             ],
             [
              0.8888888888888888,
              "#fdca26"
             ],
             [
              1,
              "#f0f921"
             ]
            ],
            "type": "histogram2d"
           }
          ],
          "histogram2dcontour": [
           {
            "colorbar": {
             "outlinewidth": 0,
             "ticks": ""
            },
            "colorscale": [
             [
              0,
              "#0d0887"
             ],
             [
              0.1111111111111111,
              "#46039f"
             ],
             [
              0.2222222222222222,
              "#7201a8"
             ],
             [
              0.3333333333333333,
              "#9c179e"
             ],
             [
              0.4444444444444444,
              "#bd3786"
             ],
             [
              0.5555555555555556,
              "#d8576b"
             ],
             [
              0.6666666666666666,
              "#ed7953"
             ],
             [
              0.7777777777777778,
              "#fb9f3a"
             ],
             [
              0.8888888888888888,
              "#fdca26"
             ],
             [
              1,
              "#f0f921"
             ]
            ],
            "type": "histogram2dcontour"
           }
          ],
          "mesh3d": [
           {
            "colorbar": {
             "outlinewidth": 0,
             "ticks": ""
            },
            "type": "mesh3d"
           }
          ],
          "parcoords": [
           {
            "line": {
             "colorbar": {
              "outlinewidth": 0,
              "ticks": ""
             }
            },
            "type": "parcoords"
           }
          ],
          "pie": [
           {
            "automargin": true,
            "type": "pie"
           }
          ],
          "scatter": [
           {
            "fillpattern": {
             "fillmode": "overlay",
             "size": 10,
             "solidity": 0.2
            },
            "type": "scatter"
           }
          ],
          "scatter3d": [
           {
            "line": {
             "colorbar": {
              "outlinewidth": 0,
              "ticks": ""
             }
            },
            "marker": {
             "colorbar": {
              "outlinewidth": 0,
              "ticks": ""
             }
            },
            "type": "scatter3d"
           }
          ],
          "scattercarpet": [
           {
            "marker": {
             "colorbar": {
              "outlinewidth": 0,
              "ticks": ""
             }
            },
            "type": "scattercarpet"
           }
          ],
          "scattergeo": [
           {
            "marker": {
             "colorbar": {
              "outlinewidth": 0,
              "ticks": ""
             }
            },
            "type": "scattergeo"
           }
          ],
          "scattergl": [
           {
            "marker": {
             "colorbar": {
              "outlinewidth": 0,
              "ticks": ""
             }
            },
            "type": "scattergl"
           }
          ],
          "scattermapbox": [
           {
            "marker": {
             "colorbar": {
              "outlinewidth": 0,
              "ticks": ""
             }
            },
            "type": "scattermapbox"
           }
          ],
          "scatterpolar": [
           {
            "marker": {
             "colorbar": {
              "outlinewidth": 0,
              "ticks": ""
             }
            },
            "type": "scatterpolar"
           }
          ],
          "scatterpolargl": [
           {
            "marker": {
             "colorbar": {
              "outlinewidth": 0,
              "ticks": ""
             }
            },
            "type": "scatterpolargl"
           }
          ],
          "scatterternary": [
           {
            "marker": {
             "colorbar": {
              "outlinewidth": 0,
              "ticks": ""
             }
            },
            "type": "scatterternary"
           }
          ],
          "surface": [
           {
            "colorbar": {
             "outlinewidth": 0,
             "ticks": ""
            },
            "colorscale": [
             [
              0,
              "#0d0887"
             ],
             [
              0.1111111111111111,
              "#46039f"
             ],
             [
              0.2222222222222222,
              "#7201a8"
             ],
             [
              0.3333333333333333,
              "#9c179e"
             ],
             [
              0.4444444444444444,
              "#bd3786"
             ],
             [
              0.5555555555555556,
              "#d8576b"
             ],
             [
              0.6666666666666666,
              "#ed7953"
             ],
             [
              0.7777777777777778,
              "#fb9f3a"
             ],
             [
              0.8888888888888888,
              "#fdca26"
             ],
             [
              1,
              "#f0f921"
             ]
            ],
            "type": "surface"
           }
          ],
          "table": [
           {
            "cells": {
             "fill": {
              "color": "#EBF0F8"
             },
             "line": {
              "color": "white"
             }
            },
            "header": {
             "fill": {
              "color": "#C8D4E3"
             },
             "line": {
              "color": "white"
             }
            },
            "type": "table"
           }
          ]
         },
         "layout": {
          "annotationdefaults": {
           "arrowcolor": "#2a3f5f",
           "arrowhead": 0,
           "arrowwidth": 1
          },
          "autotypenumbers": "strict",
          "coloraxis": {
           "colorbar": {
            "outlinewidth": 0,
            "ticks": ""
           }
          },
          "colorscale": {
           "diverging": [
            [
             0,
             "#8e0152"
            ],
            [
             0.1,
             "#c51b7d"
            ],
            [
             0.2,
             "#de77ae"
            ],
            [
             0.3,
             "#f1b6da"
            ],
            [
             0.4,
             "#fde0ef"
            ],
            [
             0.5,
             "#f7f7f7"
            ],
            [
             0.6,
             "#e6f5d0"
            ],
            [
             0.7,
             "#b8e186"
            ],
            [
             0.8,
             "#7fbc41"
            ],
            [
             0.9,
             "#4d9221"
            ],
            [
             1,
             "#276419"
            ]
           ],
           "sequential": [
            [
             0,
             "#0d0887"
            ],
            [
             0.1111111111111111,
             "#46039f"
            ],
            [
             0.2222222222222222,
             "#7201a8"
            ],
            [
             0.3333333333333333,
             "#9c179e"
            ],
            [
             0.4444444444444444,
             "#bd3786"
            ],
            [
             0.5555555555555556,
             "#d8576b"
            ],
            [
             0.6666666666666666,
             "#ed7953"
            ],
            [
             0.7777777777777778,
             "#fb9f3a"
            ],
            [
             0.8888888888888888,
             "#fdca26"
            ],
            [
             1,
             "#f0f921"
            ]
           ],
           "sequentialminus": [
            [
             0,
             "#0d0887"
            ],
            [
             0.1111111111111111,
             "#46039f"
            ],
            [
             0.2222222222222222,
             "#7201a8"
            ],
            [
             0.3333333333333333,
             "#9c179e"
            ],
            [
             0.4444444444444444,
             "#bd3786"
            ],
            [
             0.5555555555555556,
             "#d8576b"
            ],
            [
             0.6666666666666666,
             "#ed7953"
            ],
            [
             0.7777777777777778,
             "#fb9f3a"
            ],
            [
             0.8888888888888888,
             "#fdca26"
            ],
            [
             1,
             "#f0f921"
            ]
           ]
          },
          "colorway": [
           "#636efa",
           "#EF553B",
           "#00cc96",
           "#ab63fa",
           "#FFA15A",
           "#19d3f3",
           "#FF6692",
           "#B6E880",
           "#FF97FF",
           "#FECB52"
          ],
          "font": {
           "color": "#2a3f5f"
          },
          "geo": {
           "bgcolor": "white",
           "lakecolor": "white",
           "landcolor": "#E5ECF6",
           "showlakes": true,
           "showland": true,
           "subunitcolor": "white"
          },
          "hoverlabel": {
           "align": "left"
          },
          "hovermode": "closest",
          "mapbox": {
           "style": "light"
          },
          "paper_bgcolor": "white",
          "plot_bgcolor": "#E5ECF6",
          "polar": {
           "angularaxis": {
            "gridcolor": "white",
            "linecolor": "white",
            "ticks": ""
           },
           "bgcolor": "#E5ECF6",
           "radialaxis": {
            "gridcolor": "white",
            "linecolor": "white",
            "ticks": ""
           }
          },
          "scene": {
           "xaxis": {
            "backgroundcolor": "#E5ECF6",
            "gridcolor": "white",
            "gridwidth": 2,
            "linecolor": "white",
            "showbackground": true,
            "ticks": "",
            "zerolinecolor": "white"
           },
           "yaxis": {
            "backgroundcolor": "#E5ECF6",
            "gridcolor": "white",
            "gridwidth": 2,
            "linecolor": "white",
            "showbackground": true,
            "ticks": "",
            "zerolinecolor": "white"
           },
           "zaxis": {
            "backgroundcolor": "#E5ECF6",
            "gridcolor": "white",
            "gridwidth": 2,
            "linecolor": "white",
            "showbackground": true,
            "ticks": "",
            "zerolinecolor": "white"
           }
          },
          "shapedefaults": {
           "line": {
            "color": "#2a3f5f"
           }
          },
          "ternary": {
           "aaxis": {
            "gridcolor": "white",
            "linecolor": "white",
            "ticks": ""
           },
           "baxis": {
            "gridcolor": "white",
            "linecolor": "white",
            "ticks": ""
           },
           "bgcolor": "#E5ECF6",
           "caxis": {
            "gridcolor": "white",
            "linecolor": "white",
            "ticks": ""
           }
          },
          "title": {
           "x": 0.05
          },
          "xaxis": {
           "automargin": true,
           "gridcolor": "white",
           "linecolor": "white",
           "ticks": "",
           "title": {
            "standoff": 15
           },
           "zerolinecolor": "white",
           "zerolinewidth": 2
          },
          "yaxis": {
           "automargin": true,
           "gridcolor": "white",
           "linecolor": "white",
           "ticks": "",
           "title": {
            "standoff": 15
           },
           "zerolinecolor": "white",
           "zerolinewidth": 2
          }
         }
        },
        "xaxis": {
         "anchor": "y",
         "domain": [
          0,
          0.45
         ]
        },
        "xaxis2": {
         "anchor": "y2",
         "domain": [
          0.55,
          1
         ]
        },
        "yaxis": {
         "anchor": "x",
         "domain": [
          0,
          1
         ]
        },
        "yaxis2": {
         "anchor": "x2",
         "domain": [
          0,
          1
         ]
        }
       }
      }
     },
     "metadata": {},
     "output_type": "display_data"
    }
   ],
   "source": [
    "from plotly.subplots import make_subplots\n",
    "fig = make_subplots(rows=1, cols=2)\n",
    "\n",
    "fig.add_trace(go.Scatter(y=[4, 2, 1], mode=\"lines\"), row=1, col=1)\n",
    "fig.add_trace(go.Bar(y=[2, 1, 3]), row=1, col=2)\n",
    "\n",
    "fig.show()"
   ]
  },
  {
   "attachments": {},
   "cell_type": "markdown",
   "metadata": {},
   "source": [
    "Right why have I wasted X minutes of your time. Generally you'll want want to be plotting graphs with plotly express. But when you want to do the fine grain editing that we often desire. We can do it with plotly graph objects. You can mess with the dictionary directly. But you can also pass in fig.update_*x*() to add or change aspects of the dictionary."
   ]
  },
  {
   "cell_type": "code",
   "execution_count": 1,
   "metadata": {},
   "outputs": [
    {
     "data": {
      "application/vnd.plotly.v1+json": {
       "config": {
        "plotlyServerURL": "https://plot.ly"
       },
       "data": [
        {
         "color": "rgba(244,22,100,0.6)",
         "opacity": 0.5,
         "type": "mesh3d",
         "x": [
          113.70417545642692,
          -42.822948955505275,
          -36.9720226584419,
          -75.10780355093193,
          60.5785340527275,
          -161.10770878161978,
          122.13682349515359,
          -53.284483062657195,
          22.3327367239969,
          -17.455926283418705,
          102.34755559314819,
          -144.2098496648358,
          -22.569204280945524,
          -26.883804826789095,
          79.36386096348062,
          -76.99238871198216,
          -12.069974528530503,
          -61.45008925449602,
          2.954962270091498,
          40.797064960107555,
          -77.0433424049045,
          80.130659688773,
          63.11135044149569,
          35.17460372313078,
          63.05991644850883,
          -47.860950142203315,
          -8.602315786305372,
          -65.50386039813482,
          -18.752165573821113,
          37.12488267167302,
          -48.41625262077164,
          -27.772746879918415,
          -48.10208900837196,
          -59.16439490491037,
          -46.987229158577335,
          -0.8865219243230952,
          -78.21172440446945,
          16.40909884719645,
          116.18615239769093,
          51.94309124041349,
          -13.428488665313045,
          -62.13402748593854,
          -52.30108056255864,
          118.47182207194226,
          3.556542834322028,
          -44.589695259854736,
          13.364083926722621,
          147.01785955351895,
          8.41112667371404,
          43.204217679519346,
          21.011922396907924,
          -24.657489254546306,
          -79.97627386154981,
          -24.453990568901425,
          -14.622596336234468,
          41.06362338275383,
          58.728838971215346,
          65.17714569124901,
          19.991112767798114,
          61.95988149895096,
          -52.807855869765696,
          87.70077086633015,
          35.90508742926062,
          -20.866498457190097,
          34.19627025762479,
          -5.290019911473901,
          79.21405712159988,
          106.38717714955392,
          152.9902784573213,
          -97.75474348416964
         ],
         "y": [
          -79.42625929862741,
          -27.74562246205482,
          8.802038819630676,
          48.18929066139237,
          17.359922098288287,
          -111.22106687032017,
          -16.84122069456045,
          45.53860534339854,
          12.655210445041087,
          41.91061491716136,
          -12.22804784356976,
          -11.04169379114986,
          10.260876504355638,
          22.552840596454097,
          10.906484606972336,
          6.545475519410235,
          -36.88642574589668,
          20.766008247650568,
          6.700169904529031,
          62.121614935155584,
          65.94048339458288,
          10.183602961616911,
          -20.640672254956282,
          -35.13017240998223,
          23.29218947352621,
          4.253703759170768,
          -18.911952156409157,
          2.3978271258835817,
          -34.10004641714711,
          38.391761873972044,
          -24.592071063229902,
          67.34792376430244,
          22.192040298494,
          32.64681877803868,
          -60.2201515157573,
          9.316033818226746,
          40.73060481029511,
          -52.4535330994364,
          -14.642017830199213,
          1.7938000681347208,
          -75.52145261357157,
          17.333766562326048,
          46.53883561717684,
          -47.27337674575925,
          19.280028826525903,
          -72.17558761805874,
          -2.1282530096328114,
          -88.86747950868121,
          61.67797395296152,
          22.489529586525528,
          -1.3539325731678096,
          -42.63388905430378,
          70.05657615873271,
          108.19059620901041,
          -102.18900254457137,
          67.98902167490512,
          89.52079142318985,
          18.590643311596168,
          -65.95974177843523,
          47.48399246492119,
          -9.950616614298276,
          -33.21563452862915,
          -67.6531974616829,
          30.279562278691845,
          43.60437762556412,
          -34.294190132388536,
          28.631698539035394,
          -62.93877642927285,
          44.10235675292396,
          2.5612014133280048
         ],
         "z": [
          -7.462790876293951,
          -4.069834901165809,
          34.755446280234715,
          30.016465594600326,
          21.17861297410837,
          5.5080483998954435,
          3.1128451165082365,
          24.735210479940978,
          9.299782367149515,
          27.302056274579407,
          -12.4046709407224,
          -97.39351056428555,
          41.55298407437656,
          87.47918587897031,
          17.65457774274328,
          -4.006209331339991,
          -5.457789755841321,
          -4.762167510992396,
          0.6963763320001839,
          -44.880749149875534,
          -20.683778316809118,
          -39.88107310601052,
          9.95196645551082,
          -11.86564609483451,
          19.808452959118416,
          -6.988126389700038,
          39.45340751284968,
          8.54135605341767,
          87.62798915878933,
          -75.8544369156437,
          -25.876667530196322,
          36.05947566594844,
          101.13302827225593,
          -9.945391108618402,
          1.7467597271355642,
          -9.052569700544208,
          53.258284503503674,
          -11.492314539040756,
          27.20279359512418,
          -12.792063955946848,
          -50.90235020983977,
          12.541908818537287,
          20.127392537413044,
          51.72903530129047,
          -4.417881056692653,
          -24.694482548494435,
          22.51044386476105,
          9.62948368950929,
          11.226603084905562,
          -2.9245081498911105,
          46.413542799750786,
          14.77970865502895,
          76.18634833363924,
          44.44226794242019,
          26.361991844008408,
          -65.0975336246503,
          24.09277121182516,
          16.811288145882383,
          32.43806691214223,
          41.777683788290354,
          -16.035127671557067,
          32.96022473801631,
          -22.492217240763594,
          78.19512300036138,
          -53.27806666068993,
          -70.42754241595134,
          -66.02885063296401,
          -35.622223366521936,
          -44.76461594238912,
          78.24315614814567
         ]
        }
       ],
       "layout": {
        "margin": {
         "b": 10,
         "l": 10,
         "r": 20,
         "t": 10
        },
        "scene": {
         "xaxis": {
          "nticks": 4,
          "range": [
           -100,
           100
          ]
         },
         "yaxis": {
          "nticks": 4,
          "range": [
           -50,
           100
          ]
         },
         "zaxis": {
          "nticks": 4,
          "range": [
           -100,
           100
          ]
         }
        },
        "template": {
         "data": {
          "bar": [
           {
            "error_x": {
             "color": "#2a3f5f"
            },
            "error_y": {
             "color": "#2a3f5f"
            },
            "marker": {
             "line": {
              "color": "#E5ECF6",
              "width": 0.5
             },
             "pattern": {
              "fillmode": "overlay",
              "size": 10,
              "solidity": 0.2
             }
            },
            "type": "bar"
           }
          ],
          "barpolar": [
           {
            "marker": {
             "line": {
              "color": "#E5ECF6",
              "width": 0.5
             },
             "pattern": {
              "fillmode": "overlay",
              "size": 10,
              "solidity": 0.2
             }
            },
            "type": "barpolar"
           }
          ],
          "carpet": [
           {
            "aaxis": {
             "endlinecolor": "#2a3f5f",
             "gridcolor": "white",
             "linecolor": "white",
             "minorgridcolor": "white",
             "startlinecolor": "#2a3f5f"
            },
            "baxis": {
             "endlinecolor": "#2a3f5f",
             "gridcolor": "white",
             "linecolor": "white",
             "minorgridcolor": "white",
             "startlinecolor": "#2a3f5f"
            },
            "type": "carpet"
           }
          ],
          "choropleth": [
           {
            "colorbar": {
             "outlinewidth": 0,
             "ticks": ""
            },
            "type": "choropleth"
           }
          ],
          "contour": [
           {
            "colorbar": {
             "outlinewidth": 0,
             "ticks": ""
            },
            "colorscale": [
             [
              0,
              "#0d0887"
             ],
             [
              0.1111111111111111,
              "#46039f"
             ],
             [
              0.2222222222222222,
              "#7201a8"
             ],
             [
              0.3333333333333333,
              "#9c179e"
             ],
             [
              0.4444444444444444,
              "#bd3786"
             ],
             [
              0.5555555555555556,
              "#d8576b"
             ],
             [
              0.6666666666666666,
              "#ed7953"
             ],
             [
              0.7777777777777778,
              "#fb9f3a"
             ],
             [
              0.8888888888888888,
              "#fdca26"
             ],
             [
              1,
              "#f0f921"
             ]
            ],
            "type": "contour"
           }
          ],
          "contourcarpet": [
           {
            "colorbar": {
             "outlinewidth": 0,
             "ticks": ""
            },
            "type": "contourcarpet"
           }
          ],
          "heatmap": [
           {
            "colorbar": {
             "outlinewidth": 0,
             "ticks": ""
            },
            "colorscale": [
             [
              0,
              "#0d0887"
             ],
             [
              0.1111111111111111,
              "#46039f"
             ],
             [
              0.2222222222222222,
              "#7201a8"
             ],
             [
              0.3333333333333333,
              "#9c179e"
             ],
             [
              0.4444444444444444,
              "#bd3786"
             ],
             [
              0.5555555555555556,
              "#d8576b"
             ],
             [
              0.6666666666666666,
              "#ed7953"
             ],
             [
              0.7777777777777778,
              "#fb9f3a"
             ],
             [
              0.8888888888888888,
              "#fdca26"
             ],
             [
              1,
              "#f0f921"
             ]
            ],
            "type": "heatmap"
           }
          ],
          "heatmapgl": [
           {
            "colorbar": {
             "outlinewidth": 0,
             "ticks": ""
            },
            "colorscale": [
             [
              0,
              "#0d0887"
             ],
             [
              0.1111111111111111,
              "#46039f"
             ],
             [
              0.2222222222222222,
              "#7201a8"
             ],
             [
              0.3333333333333333,
              "#9c179e"
             ],
             [
              0.4444444444444444,
              "#bd3786"
             ],
             [
              0.5555555555555556,
              "#d8576b"
             ],
             [
              0.6666666666666666,
              "#ed7953"
             ],
             [
              0.7777777777777778,
              "#fb9f3a"
             ],
             [
              0.8888888888888888,
              "#fdca26"
             ],
             [
              1,
              "#f0f921"
             ]
            ],
            "type": "heatmapgl"
           }
          ],
          "histogram": [
           {
            "marker": {
             "pattern": {
              "fillmode": "overlay",
              "size": 10,
              "solidity": 0.2
             }
            },
            "type": "histogram"
           }
          ],
          "histogram2d": [
           {
            "colorbar": {
             "outlinewidth": 0,
             "ticks": ""
            },
            "colorscale": [
             [
              0,
              "#0d0887"
             ],
             [
              0.1111111111111111,
              "#46039f"
             ],
             [
              0.2222222222222222,
              "#7201a8"
             ],
             [
              0.3333333333333333,
              "#9c179e"
             ],
             [
              0.4444444444444444,
              "#bd3786"
             ],
             [
              0.5555555555555556,
              "#d8576b"
             ],
             [
              0.6666666666666666,
              "#ed7953"
             ],
             [
              0.7777777777777778,
              "#fb9f3a"
             ],
             [
              0.8888888888888888,
              "#fdca26"
             ],
             [
              1,
              "#f0f921"
             ]
            ],
            "type": "histogram2d"
           }
          ],
          "histogram2dcontour": [
           {
            "colorbar": {
             "outlinewidth": 0,
             "ticks": ""
            },
            "colorscale": [
             [
              0,
              "#0d0887"
             ],
             [
              0.1111111111111111,
              "#46039f"
             ],
             [
              0.2222222222222222,
              "#7201a8"
             ],
             [
              0.3333333333333333,
              "#9c179e"
             ],
             [
              0.4444444444444444,
              "#bd3786"
             ],
             [
              0.5555555555555556,
              "#d8576b"
             ],
             [
              0.6666666666666666,
              "#ed7953"
             ],
             [
              0.7777777777777778,
              "#fb9f3a"
             ],
             [
              0.8888888888888888,
              "#fdca26"
             ],
             [
              1,
              "#f0f921"
             ]
            ],
            "type": "histogram2dcontour"
           }
          ],
          "mesh3d": [
           {
            "colorbar": {
             "outlinewidth": 0,
             "ticks": ""
            },
            "type": "mesh3d"
           }
          ],
          "parcoords": [
           {
            "line": {
             "colorbar": {
              "outlinewidth": 0,
              "ticks": ""
             }
            },
            "type": "parcoords"
           }
          ],
          "pie": [
           {
            "automargin": true,
            "type": "pie"
           }
          ],
          "scatter": [
           {
            "fillpattern": {
             "fillmode": "overlay",
             "size": 10,
             "solidity": 0.2
            },
            "type": "scatter"
           }
          ],
          "scatter3d": [
           {
            "line": {
             "colorbar": {
              "outlinewidth": 0,
              "ticks": ""
             }
            },
            "marker": {
             "colorbar": {
              "outlinewidth": 0,
              "ticks": ""
             }
            },
            "type": "scatter3d"
           }
          ],
          "scattercarpet": [
           {
            "marker": {
             "colorbar": {
              "outlinewidth": 0,
              "ticks": ""
             }
            },
            "type": "scattercarpet"
           }
          ],
          "scattergeo": [
           {
            "marker": {
             "colorbar": {
              "outlinewidth": 0,
              "ticks": ""
             }
            },
            "type": "scattergeo"
           }
          ],
          "scattergl": [
           {
            "marker": {
             "colorbar": {
              "outlinewidth": 0,
              "ticks": ""
             }
            },
            "type": "scattergl"
           }
          ],
          "scattermapbox": [
           {
            "marker": {
             "colorbar": {
              "outlinewidth": 0,
              "ticks": ""
             }
            },
            "type": "scattermapbox"
           }
          ],
          "scatterpolar": [
           {
            "marker": {
             "colorbar": {
              "outlinewidth": 0,
              "ticks": ""
             }
            },
            "type": "scatterpolar"
           }
          ],
          "scatterpolargl": [
           {
            "marker": {
             "colorbar": {
              "outlinewidth": 0,
              "ticks": ""
             }
            },
            "type": "scatterpolargl"
           }
          ],
          "scatterternary": [
           {
            "marker": {
             "colorbar": {
              "outlinewidth": 0,
              "ticks": ""
             }
            },
            "type": "scatterternary"
           }
          ],
          "surface": [
           {
            "colorbar": {
             "outlinewidth": 0,
             "ticks": ""
            },
            "colorscale": [
             [
              0,
              "#0d0887"
             ],
             [
              0.1111111111111111,
              "#46039f"
             ],
             [
              0.2222222222222222,
              "#7201a8"
             ],
             [
              0.3333333333333333,
              "#9c179e"
             ],
             [
              0.4444444444444444,
              "#bd3786"
             ],
             [
              0.5555555555555556,
              "#d8576b"
             ],
             [
              0.6666666666666666,
              "#ed7953"
             ],
             [
              0.7777777777777778,
              "#fb9f3a"
             ],
             [
              0.8888888888888888,
              "#fdca26"
             ],
             [
              1,
              "#f0f921"
             ]
            ],
            "type": "surface"
           }
          ],
          "table": [
           {
            "cells": {
             "fill": {
              "color": "#EBF0F8"
             },
             "line": {
              "color": "white"
             }
            },
            "header": {
             "fill": {
              "color": "#C8D4E3"
             },
             "line": {
              "color": "white"
             }
            },
            "type": "table"
           }
          ]
         },
         "layout": {
          "annotationdefaults": {
           "arrowcolor": "#2a3f5f",
           "arrowhead": 0,
           "arrowwidth": 1
          },
          "autotypenumbers": "strict",
          "coloraxis": {
           "colorbar": {
            "outlinewidth": 0,
            "ticks": ""
           }
          },
          "colorscale": {
           "diverging": [
            [
             0,
             "#8e0152"
            ],
            [
             0.1,
             "#c51b7d"
            ],
            [
             0.2,
             "#de77ae"
            ],
            [
             0.3,
             "#f1b6da"
            ],
            [
             0.4,
             "#fde0ef"
            ],
            [
             0.5,
             "#f7f7f7"
            ],
            [
             0.6,
             "#e6f5d0"
            ],
            [
             0.7,
             "#b8e186"
            ],
            [
             0.8,
             "#7fbc41"
            ],
            [
             0.9,
             "#4d9221"
            ],
            [
             1,
             "#276419"
            ]
           ],
           "sequential": [
            [
             0,
             "#0d0887"
            ],
            [
             0.1111111111111111,
             "#46039f"
            ],
            [
             0.2222222222222222,
             "#7201a8"
            ],
            [
             0.3333333333333333,
             "#9c179e"
            ],
            [
             0.4444444444444444,
             "#bd3786"
            ],
            [
             0.5555555555555556,
             "#d8576b"
            ],
            [
             0.6666666666666666,
             "#ed7953"
            ],
            [
             0.7777777777777778,
             "#fb9f3a"
            ],
            [
             0.8888888888888888,
             "#fdca26"
            ],
            [
             1,
             "#f0f921"
            ]
           ],
           "sequentialminus": [
            [
             0,
             "#0d0887"
            ],
            [
             0.1111111111111111,
             "#46039f"
            ],
            [
             0.2222222222222222,
             "#7201a8"
            ],
            [
             0.3333333333333333,
             "#9c179e"
            ],
            [
             0.4444444444444444,
             "#bd3786"
            ],
            [
             0.5555555555555556,
             "#d8576b"
            ],
            [
             0.6666666666666666,
             "#ed7953"
            ],
            [
             0.7777777777777778,
             "#fb9f3a"
            ],
            [
             0.8888888888888888,
             "#fdca26"
            ],
            [
             1,
             "#f0f921"
            ]
           ]
          },
          "colorway": [
           "#636efa",
           "#EF553B",
           "#00cc96",
           "#ab63fa",
           "#FFA15A",
           "#19d3f3",
           "#FF6692",
           "#B6E880",
           "#FF97FF",
           "#FECB52"
          ],
          "font": {
           "color": "#2a3f5f"
          },
          "geo": {
           "bgcolor": "white",
           "lakecolor": "white",
           "landcolor": "#E5ECF6",
           "showlakes": true,
           "showland": true,
           "subunitcolor": "white"
          },
          "hoverlabel": {
           "align": "left"
          },
          "hovermode": "closest",
          "mapbox": {
           "style": "light"
          },
          "paper_bgcolor": "white",
          "plot_bgcolor": "#E5ECF6",
          "polar": {
           "angularaxis": {
            "gridcolor": "white",
            "linecolor": "white",
            "ticks": ""
           },
           "bgcolor": "#E5ECF6",
           "radialaxis": {
            "gridcolor": "white",
            "linecolor": "white",
            "ticks": ""
           }
          },
          "scene": {
           "xaxis": {
            "backgroundcolor": "#E5ECF6",
            "gridcolor": "white",
            "gridwidth": 2,
            "linecolor": "white",
            "showbackground": true,
            "ticks": "",
            "zerolinecolor": "white"
           },
           "yaxis": {
            "backgroundcolor": "#E5ECF6",
            "gridcolor": "white",
            "gridwidth": 2,
            "linecolor": "white",
            "showbackground": true,
            "ticks": "",
            "zerolinecolor": "white"
           },
           "zaxis": {
            "backgroundcolor": "#E5ECF6",
            "gridcolor": "white",
            "gridwidth": 2,
            "linecolor": "white",
            "showbackground": true,
            "ticks": "",
            "zerolinecolor": "white"
           }
          },
          "shapedefaults": {
           "line": {
            "color": "#2a3f5f"
           }
          },
          "ternary": {
           "aaxis": {
            "gridcolor": "white",
            "linecolor": "white",
            "ticks": ""
           },
           "baxis": {
            "gridcolor": "white",
            "linecolor": "white",
            "ticks": ""
           },
           "bgcolor": "#E5ECF6",
           "caxis": {
            "gridcolor": "white",
            "linecolor": "white",
            "ticks": ""
           }
          },
          "title": {
           "x": 0.05
          },
          "xaxis": {
           "automargin": true,
           "gridcolor": "white",
           "linecolor": "white",
           "ticks": "",
           "title": {
            "standoff": 15
           },
           "zerolinecolor": "white",
           "zerolinewidth": 2
          },
          "yaxis": {
           "automargin": true,
           "gridcolor": "white",
           "linecolor": "white",
           "ticks": "",
           "title": {
            "standoff": 15
           },
           "zerolinecolor": "white",
           "zerolinewidth": 2
          }
         }
        },
        "width": 700
       }
      }
     },
     "metadata": {},
     "output_type": "display_data"
    }
   ],
   "source": [
    "import plotly.graph_objects as go\n",
    "import numpy as np\n",
    "np.random.seed(1)\n",
    "\n",
    "N = 70\n",
    "\n",
    "fig = go.Figure(data=[go.Mesh3d(x=(70*np.random.randn(N)),\n",
    "                   y=(55*np.random.randn(N)),\n",
    "                   z=(40*np.random.randn(N)),\n",
    "                   opacity=0.5,\n",
    "                   color='rgba(244,22,100,0.6)'\n",
    "                  )])\n",
    "\n",
    "fig.update_layout(\n",
    "    scene = dict(\n",
    "        xaxis = dict(nticks=4, range=[-100,100],),\n",
    "                     yaxis = dict(nticks=4, range=[-50,100],),\n",
    "                     zaxis = dict(nticks=4, range=[-100,100],),),\n",
    "    width=700,\n",
    "    margin=dict(r=20, l=10, b=10, t=10))\n",
    "\n",
    "fig.show()"
   ]
  },
  {
   "attachments": {},
   "cell_type": "markdown",
   "metadata": {},
   "source": [
    "The next few bits are lifted directly from the documentation at https://plotly.com/python. But show what can be done with relatively simple code."
   ]
  },
  {
   "cell_type": "code",
   "execution_count": 2,
   "metadata": {},
   "outputs": [
    {
     "data": {
      "application/vnd.plotly.v1+json": {
       "config": {
        "plotlyServerURL": "https://plot.ly"
       },
       "data": [
        {
         "colorscale": [
          [
           0,
           "#440154"
          ],
          [
           0.1111111111111111,
           "#482878"
          ],
          [
           0.2222222222222222,
           "#3e4989"
          ],
          [
           0.3333333333333333,
           "#31688e"
          ],
          [
           0.4444444444444444,
           "#26828e"
          ],
          [
           0.5555555555555556,
           "#1f9e89"
          ],
          [
           0.6666666666666666,
           "#35b779"
          ],
          [
           0.7777777777777778,
           "#6ece58"
          ],
          [
           0.8888888888888888,
           "#b5de2b"
          ],
          [
           1,
           "#fde725"
          ]
         ],
         "type": "surface",
         "z": [
          [
           100,
           100,
           101,
           101,
           101,
           101,
           101,
           100,
           100,
           100,
           101,
           101,
           102,
           102,
           102,
           102,
           103,
           104,
           103,
           102,
           101,
           101,
           102,
           103,
           104,
           104,
           105,
           107,
           107,
           107,
           108,
           108,
           110,
           110,
           110,
           110,
           110,
           110,
           110,
           110,
           108,
           108,
           108,
           107,
           107,
           108,
           108,
           108,
           108,
           108,
           107,
           107,
           107,
           107,
           106,
           106,
           105,
           105,
           104,
           104,
           103
          ],
          [
           101,
           101,
           102,
           102,
           102,
           102,
           102,
           101,
           101,
           101,
           102,
           102,
           103,
           103,
           103,
           103,
           104,
           105,
           104,
           103,
           102,
           102,
           103,
           105,
           106,
           106,
           107,
           109,
           110,
           110,
           110,
           110,
           111,
           112,
           113,
           114,
           116,
           115,
           114,
           112,
           110,
           110,
           110,
           109,
           108,
           109,
           109,
           109,
           109,
           108,
           108,
           108,
           108,
           107,
           107,
           106,
           106,
           105,
           105,
           104,
           104
          ],
          [
           102,
           102,
           103,
           103,
           103,
           103,
           103,
           102,
           102,
           102,
           103,
           103,
           104,
           104,
           104,
           104,
           105,
           106,
           105,
           104,
           104,
           105,
           106,
           107,
           108,
           110,
           111,
           113,
           114,
           115,
           114,
           115,
           116,
           118,
           119,
           119,
           121,
           121,
           120,
           118,
           116,
           114,
           112,
           111,
           110,
           110,
           110,
           110,
           109,
           109,
           109,
           109,
           108,
           108,
           107,
           107,
           106,
           106,
           105,
           105,
           104
          ],
          [
           103,
           103,
           104,
           104,
           104,
           104,
           104,
           103,
           103,
           103,
           103,
           104,
           104,
           104,
           105,
           105,
           106,
           107,
           106,
           106,
           106,
           107,
           108,
           110,
           111,
           114,
           117,
           118,
           117,
           119,
           120,
           121,
           122,
           124,
           125,
           126,
           127,
           127,
           126,
           124,
           122,
           120,
           117,
           116,
           113,
           111,
           110,
           110,
           110,
           109,
           109,
           109,
           109,
           108,
           108,
           107,
           107,
           106,
           106,
           105,
           105
          ],
          [
           104,
           104,
           105,
           105,
           105,
           105,
           105,
           104,
           104,
           103,
           104,
           104,
           105,
           105,
           105,
           106,
           107,
           108,
           108,
           108,
           109,
           110,
           112,
           114,
           115,
           118,
           121,
           122,
           121,
           123,
           128,
           131,
           129,
           130,
           131,
           131,
           132,
           132,
           131,
           130,
           128,
           126,
           122,
           119,
           115,
           114,
           112,
           110,
           110,
           110,
           110,
           110,
           109,
           109,
           108,
           107,
           107,
           107,
           106,
           106,
           105
          ],
          [
           105,
           105,
           105,
           106,
           106,
           106,
           106,
           105,
           105,
           104,
           104,
           105,
           105,
           106,
           106,
           107,
           109,
           110,
           110,
           112,
           113,
           115,
           116,
           118,
           119,
           121,
           124,
           126,
           126,
           129,
           134,
           137,
           137,
           136,
           136,
           135,
           136,
           136,
           136,
           135,
           133,
           129,
           126,
           122,
           118,
           116,
           115,
           113,
           111,
           110,
           110,
           110,
           110,
           109,
           108,
           108,
           108,
           107,
           107,
           106,
           106
          ],
          [
           105,
           106,
           106,
           107,
           107,
           107,
           107,
           106,
           106,
           105,
           105,
           106,
           106,
           107,
           108,
           109,
           111,
           113,
           114,
           116,
           118,
           120,
           121,
           122,
           123,
           125,
           127,
           129,
           130,
           135,
           140,
           142,
           142,
           142,
           141,
           140,
           140,
           140,
           140,
           139,
           137,
           134,
           129,
           125,
           121,
           118,
           116,
           114,
           112,
           110,
           110,
           110,
           111,
           110,
           109,
           109,
           108,
           108,
           107,
           107,
           106
          ],
          [
           106,
           107,
           107,
           108,
           108,
           108,
           108,
           107,
           107,
           106,
           106,
           107,
           108,
           108,
           110,
           113,
           115,
           117,
           118,
           120,
           122,
           124,
           125,
           127,
           128,
           129,
           131,
           134,
           135,
           141,
           146,
           147,
           146,
           146,
           145,
           144,
           144,
           144,
           143,
           142,
           141,
           139,
           135,
           130,
           126,
           122,
           118,
           116,
           114,
           112,
           112,
           113,
           112,
           110,
           110,
           109,
           109,
           108,
           108,
           107,
           106
          ],
          [
           107,
           108,
           108,
           109,
           109,
           109,
           109,
           108,
           108,
           107,
           108,
           108,
           110,
           111,
           113,
           116,
           118,
           120,
           123,
           125,
           127,
           129,
           130,
           132,
           134,
           135,
           137,
           139,
           142,
           146,
           152,
           152,
           151,
           151,
           150,
           149,
           148,
           148,
           146,
           145,
           143,
           142,
           139,
           135,
           131,
           127,
           122,
           119,
           117,
           115,
           115,
           115,
           114,
           112,
           110,
           110,
           109,
           109,
           108,
           107,
           107
          ],
          [
           108,
           109,
           109,
           110,
           110,
           110,
           110,
           109,
           109,
           108,
           110,
           110,
           113,
           116,
           118,
           120,
           122,
           125,
           127,
           129,
           133,
           136,
           138,
           140,
           141,
           142,
           148,
           150,
           151,
           156,
           158,
           159,
           158,
           157,
           158,
           158,
           154,
           151,
           149,
           148,
           146,
           144,
           141,
           137,
           134,
           130,
           125,
           122,
           120,
           118,
           117,
           117,
           115,
           113,
           111,
           110,
           110,
           109,
           108,
           107,
           107
          ],
          [
           109,
           110,
           110,
           111,
           111,
           111,
           111,
           110,
           110,
           110,
           112,
           114,
           118,
           121,
           123,
           125,
           127,
           129,
           133,
           137,
           141,
           143,
           145,
           146,
           148,
           150,
           154,
           156,
           159,
           161,
           162,
           163,
           164,
           163,
           164,
           164,
           160,
           157,
           154,
           151,
           149,
           146,
           144,
           140,
           137,
           133,
           129,
           126,
           124,
           121,
           119,
           118,
           116,
           114,
           112,
           111,
           110,
           109,
           108,
           107,
           106
          ],
          [
           110,
           110,
           111,
           113,
           112,
           111,
           113,
           112,
           112,
           114,
           116,
           119,
           121,
           124,
           127,
           129,
           133,
           138,
           143,
           146,
           149,
           149,
           151,
           153,
           154,
           157,
           159,
           160,
           163,
           165,
           166,
           167,
           168,
           168,
           168,
           168,
           166,
           162,
           159,
           157,
           154,
           152,
           149,
           144,
           140,
           136,
           133,
           131,
           128,
           125,
           122,
           119,
           117,
           115,
           113,
           111,
           110,
           109,
           108,
           107,
           106
          ],
          [
           110,
           111,
           113,
           115,
           114,
           113,
           114,
           114,
           115,
           117,
           119,
           121,
           124,
           126,
           129,
           133,
           140,
           145,
           150,
           154,
           155,
           155,
           157,
           159,
           161,
           162,
           164,
           165,
           167,
           168,
           169,
           170,
           172,
           174,
           172,
           172,
           171,
           169,
           166,
           163,
           161,
           158,
           153,
           148,
           143,
           140,
           137,
           134,
           131,
           128,
           125,
           120,
           118,
           116,
           114,
           112,
           110,
           109,
           108,
           107,
           105
          ],
          [
           111,
           113,
           115,
           117,
           116,
           115,
           116,
           117,
           117,
           119,
           121,
           124,
           126,
           128,
           132,
           137,
           143,
           151,
           156,
           161,
           161,
           162,
           163,
           165,
           166,
           167,
           168,
           170,
           171,
           173,
           175,
           177,
           179,
           178,
           177,
           176,
           176,
           174,
           171,
           169,
           165,
           161,
           156,
           152,
           148,
           144,
           140,
           138,
           135,
           131,
           127,
           123,
           119,
           117,
           115,
           113,
           111,
           110,
           108,
           106,
           105
          ],
          [
           114,
           115,
           117,
           117,
           117,
           118,
           119,
           119,
           120,
           121,
           124,
           126,
           128,
           131,
           137,
           143,
           150,
           156,
           160,
           163,
           165,
           168,
           170,
           171,
           172,
           173,
           174,
           175,
           177,
           179,
           180,
           182,
           183,
           183,
           183,
           183,
           180,
           178,
           177,
           172,
           168,
           164,
           160,
           156,
           152,
           148,
           144,
           141,
           138,
           134,
           130,
           126,
           121,
           117,
           114,
           112,
           110,
           110,
           108,
           106,
           104
          ],
          [
           116,
           118,
           118,
           118,
           120,
           121,
           121,
           122,
           122,
           123,
           125,
           128,
           130,
           134,
           141,
           147,
           152,
           156,
           160,
           165,
           168,
           170,
           174,
           176,
           179,
           180,
           181,
           181,
           182,
           182,
           183,
           184,
           186,
           187,
           187,
           184,
           184,
           181,
           180,
           176,
           172,
           168,
           165,
           161,
           157,
           153,
           149,
           145,
           142,
           138,
           133,
           129,
           125,
           120,
           115,
           111,
           110,
           110,
           108,
           106,
           104
          ],
          [
           118,
           120,
           120,
           121,
           122,
           123,
           124,
           124,
           125,
           126,
           127,
           129,
           132,
           135,
           142,
           149,
           153,
           157,
           161,
           166,
           170,
           174,
           178,
           180,
           182,
           183,
           184,
           184,
           185,
           186,
           186,
           187,
           189,
           189,
           189,
           189,
           189,
           186,
           182,
           179,
           175,
           171,
           168,
           165,
           162,
           157,
           152,
           149,
           145,
           141,
           137,
           131,
           125,
           120,
           116,
           111,
           110,
           110,
           108,
           106,
           104
          ],
          [
           120,
           121,
           122,
           123,
           124,
           125,
           126,
           127,
           127,
           128,
           130,
           132,
           134,
           137,
           142,
           151,
           155,
           158,
           162,
           169,
           172,
           176,
           181,
           183,
           184,
           186,
           187,
           188,
           189,
           189,
           189,
           189,
           190,
           190,
           191,
           190,
           190,
           188,
           186,
           183,
           180,
           175,
           171,
           168,
           165,
           161,
           157,
           152,
           149,
           145,
           141,
           134,
           127,
           121,
           116,
           112,
           110,
           110,
           108,
           106,
           104
          ],
          [
           120,
           122,
           125,
           126,
           126,
           127,
           128,
           129,
           130,
           130,
           132,
           134,
           136,
           139,
           145,
           152,
           157,
           160,
           167,
           172,
           175,
           178,
           181,
           185,
           186,
           188,
           190,
           191,
           192,
           193,
           193,
           192,
           192,
           191,
           192,
           191,
           191,
           190,
           190,
           187,
           184,
           181,
           177,
           172,
           169,
           165,
           161,
           156,
           152,
           147,
           143,
           139,
           131,
           123,
           119,
           115,
           111,
           110,
           108,
           106,
           105
          ],
          [
           121,
           124,
           126,
           128,
           129,
           129,
           130,
           131,
           132,
           133,
           135,
           137,
           139,
           143,
           150,
           154,
           159,
           164,
           170,
           173,
           176,
           179,
           184,
           186,
           189,
           190,
           191,
           192,
           193,
           194,
           195,
           194,
           193,
           192,
           191,
           191,
           191,
           191,
           190,
           190,
           188,
           184,
           181,
           177,
           173,
           169,
           165,
           160,
           155,
           149,
           145,
           142,
           136,
           129,
           123,
           118,
           114,
           110,
           108,
           108,
           107
          ],
          [
           122,
           125,
           127,
           130,
           130,
           131,
           133,
           134,
           135,
           136,
           137,
           140,
           143,
           147,
           154,
           158,
           162,
           166,
           171,
           174,
           177,
           181,
           186,
           189,
           190,
           190,
           191,
           192,
           191,
           191,
           190,
           189,
           188,
           189,
           190,
           190,
           191,
           190,
           190,
           190,
           189,
           186,
           184,
           181,
           177,
           173,
           169,
           164,
           158,
           152,
           148,
           144,
           140,
           134,
           125,
           118,
           115,
           111,
           110,
           108,
           107
          ],
          [
           122,
           125,
           128,
           130,
           132,
           133,
           135,
           136,
           137,
           139,
           140,
           143,
           147,
           152,
           157,
           161,
           164,
           168,
           172,
           175,
           179,
           182,
           186,
           190,
           190,
           190,
           190,
           189,
           187,
           184,
           184,
           183,
           182,
           182,
           183,
           183,
           183,
           184,
           185,
           186,
           187,
           186,
           185,
           184,
           181,
           177,
           173,
           169,
           163,
           157,
           149,
           145,
           141,
           136,
           130,
           119,
           116,
           112,
           110,
           108,
           106
          ],
          [
           123,
           126,
           129,
           131,
           133,
           135,
           137,
           138,
           139,
           141,
           143,
           147,
           150,
           156,
           161,
           164,
           167,
           170,
           173,
           177,
           181,
           184,
           187,
           188,
           190,
           189,
           187,
           185,
           183,
           179,
           176,
           174,
           174,
           174,
           174,
           174,
           176,
           177,
           179,
           180,
           182,
           183,
           182,
           181,
           181,
           180,
           176,
           171,
           166,
           160,
           152,
           147,
           142,
           138,
           133,
           126,
           121,
           115,
           110,
           106,
           105
          ],
          [
           124,
           127,
           130,
           132,
           135,
           137,
           138,
           140,
           142,
           144,
           147,
           149,
           154,
           157,
           161,
           165,
           168,
           171,
           175,
           178,
           181,
           184,
           186,
           187,
           187,
           184,
           184,
           181,
           179,
           175,
           171,
           169,
           168,
           168,
           168,
           169,
           170,
           172,
           174,
           177,
           178,
           179,
           180,
           181,
           181,
           180,
           179,
           174,
           167,
           161,
           155,
           148,
           144,
           139,
           134,
           128,
           121,
           115,
           110,
           106,
           105
          ],
          [
           123,
           128,
           131,
           133,
           136,
           138,
           140,
           142,
           144,
           146,
           149,
           151,
           154,
           157,
           160,
           164,
           168,
           172,
           175,
           178,
           181,
           183,
           184,
           184,
           185,
           183,
           180,
           177,
           174,
           170,
           167,
           165,
           164,
           164,
           164,
           165,
           166,
           168,
           171,
           175,
           176,
           178,
           180,
           181,
           180,
           180,
           179,
           177,
           170,
           163,
           157,
           150,
           144,
           139,
           134,
           128,
           121,
           115,
           110,
           108,
           107
          ],
          [
           123,
           127,
           131,
           134,
           136,
           138,
           140,
           142,
           144,
           147,
           149,
           151,
           154,
           157,
           160,
           164,
           168,
           171,
           174,
           178,
           180,
           181,
           181,
           182,
           183,
           181,
           178,
           173,
           169,
           166,
           163,
           161,
           161,
           160,
           160,
           161,
           163,
           165,
           168,
           173,
           176,
           178,
           179,
           180,
           181,
           180,
           180,
           175,
           173,
           166,
           159,
           152,
           145,
           139,
           134,
           127,
           121,
           115,
           110,
           109,
           108
          ],
          [
           120,
           124,
           128,
           131,
           134,
           137,
           139,
           142,
           144,
           146,
           149,
           151,
           153,
           156,
           160,
           163,
           167,
           171,
           174,
           178,
           180,
           180,
           180,
           180,
           180,
           180,
           175,
           171,
           167,
           162,
           160,
           158,
           157,
           157,
           157,
           158,
           159,
           162,
           166,
           170,
           175,
           177,
           178,
           180,
           181,
           181,
           180,
           178,
           175,
           169,
           160,
           154,
           148,
           140,
           134,
           128,
           121,
           115,
           110,
           110,
           109
          ],
          [
           118,
           121,
           125,
           129,
           132,
           134,
           137,
           140,
           142,
           145,
           147,
           149,
           151,
           155,
           159,
           163,
           166,
           169,
           173,
           177,
           179,
           180,
           180,
           180,
           180,
           179,
           174,
           169,
           166,
           161,
           158,
           156,
           154,
           153,
           153,
           154,
           156,
           159,
           163,
           169,
           173,
           175,
           178,
           180,
           181,
           180,
           180,
           179,
           175,
           170,
           160,
           154,
           149,
           142,
           135,
           128,
           122,
           116,
           111,
           110,
           110
          ],
          [
           117,
           120,
           121,
           125,
           129,
           132,
           135,
           138,
           140,
           143,
           145,
           147,
           149,
           153,
           157,
           160,
           163,
           166,
           171,
           174,
           177,
           179,
           180,
           180,
           180,
           179,
           172,
           168,
           164,
           160,
           157,
           154,
           151,
           149,
           150,
           150,
           154,
           158,
           164,
           169,
           174,
           178,
           180,
           180,
           180,
           180,
           178,
           177,
           175,
           170,
           161,
           153,
           148,
           142,
           135,
           129,
           123,
           116,
           113,
           112,
           110
          ],
          [
           115,
           118,
           120,
           122,
           126,
           130,
           133,
           136,
           138,
           141,
           143,
           145,
           148,
           151,
           154,
           157,
           160,
           163,
           168,
           171,
           174,
           177,
           179,
           179,
           179,
           176,
           171,
           167,
           164,
           160,
           156,
           153,
           149,
           148,
           149,
           151,
           155,
           158,
           163,
           170,
           173,
           177,
           179,
           180,
           180,
           180,
           178,
           175,
           173,
           171,
           162,
           154,
           147,
           141,
           136,
           130,
           124,
           117,
           115,
           112,
           110
          ],
          [
           114,
           116,
           118,
           120,
           122,
           127,
           131,
           133,
           136,
           138,
           141,
           143,
           146,
           148,
           151,
           154,
           157,
           160,
           164,
           168,
           171,
           174,
           178,
           178,
           179,
           177,
           173,
           169,
           165,
           161,
           157,
           154,
           151,
           149,
           150,
           152,
           155,
           159,
           166,
           171,
           175,
           177,
           179,
           180,
           180,
           179,
           176,
           174,
           171,
           168,
           159,
           151,
           146,
           141,
           135,
           129,
           124,
           119,
           116,
           113,
           110
          ],
          [
           115,
           114,
           116,
           118,
           120,
           122,
           127,
           129,
           132,
           136,
           139,
           141,
           143,
           146,
           148,
           151,
           153,
           156,
           160,
           164,
           167,
           172,
           174,
           176,
           177,
           176,
           173,
           170,
           166,
           162,
           159,
           157,
           154,
           153,
           154,
           155,
           158,
           161,
           169,
           172,
           174,
           176,
           178,
           178,
           178,
           178,
           175,
           172,
           169,
           162,
           156,
           149,
           144,
           140,
           134,
           128,
           123,
           118,
           115,
           112,
           110
          ],
          [
           113,
           113,
           114,
           116,
           118,
           120,
           122,
           125,
           129,
           133,
           136,
           138,
           141,
           143,
           146,
           149,
           150,
           153,
           156,
           160,
           165,
           170,
           173,
           176,
           176,
           176,
           173,
           172,
           169,
           165,
           163,
           160,
           158,
           157,
           158,
           159,
           161,
           166,
           170,
           170,
           173,
           175,
           176,
           178,
           176,
           173,
           171,
           168,
           164,
           158,
           153,
           146,
           140,
           137,
           132,
           127,
           121,
           117,
           113,
           111,
           110
          ],
          [
           111,
           112,
           113,
           114,
           116,
           118,
           120,
           122,
           126,
           130,
           133,
           136,
           139,
           142,
           145,
           147,
           148,
           151,
           155,
           158,
           163,
           168,
           173,
           176,
           177,
           177,
           176,
           174,
           171,
           169,
           166,
           164,
           161,
           161,
           162,
           164,
           165,
           167,
           170,
           170,
           171,
           173,
           173,
           173,
           170,
           168,
           165,
           163,
           160,
           155,
           149,
           143,
           138,
           134,
           130,
           125,
           119,
           116,
           112,
           110,
           109
          ],
          [
           110,
           112,
           113,
           113,
           114,
           116,
           118,
           120,
           123,
           127,
           131,
           134,
           137,
           141,
           143,
           145,
           148,
           150,
           154,
           157,
           161,
           166,
           171,
           176,
           178,
           178,
           178,
           176,
           174,
           172,
           170,
           167,
           167,
           167,
           166,
           168,
           170,
           169,
           168,
           167,
           168,
           168,
           168,
           168,
           167,
           165,
           163,
           160,
           156,
           152,
           146,
           140,
           136,
           131,
           128,
           122,
           118,
           114,
           110,
           110,
           109
          ],
          [
           109,
           110,
           111,
           112,
           114,
           116,
           118,
           119,
           120,
           124,
           128,
           131,
           136,
           140,
           142,
           145,
           147,
           150,
           153,
           157,
           160,
           165,
           170,
           174,
           178,
           179,
           179,
           178,
           178,
           176,
           174,
           171,
           170,
           170,
           170,
           168,
           167,
           166,
           164,
           163,
           161,
           162,
           163,
           163,
           163,
           161,
           160,
           157,
           153,
           148,
           142,
           136,
           130,
           127,
           124,
           120,
           117,
           113,
           110,
           110,
           109
          ],
          [
           108,
           109,
           111,
           112,
           114,
           116,
           117,
           118,
           120,
           121,
           125,
           128,
           132,
           138,
           142,
           144,
           147,
           149,
           153,
           156,
           160,
           164,
           170,
           174,
           178,
           180,
           180,
           179,
           179,
           178,
           176,
           172,
           170,
           170,
           170,
           168,
           166,
           164,
           162,
           160,
           157,
           156,
           157,
           158,
           158,
           156,
           153,
           151,
           149,
           144,
           139,
           130,
           127,
           124,
           121,
           118,
           115,
           112,
           110,
           110,
           109
          ],
          [
           108,
           109,
           111,
           113,
           114,
           116,
           117,
           118,
           119,
           120,
           122,
           126,
           130,
           135,
           139,
           143,
           147,
           149,
           152,
           156,
           160,
           164,
           169,
           173,
           177,
           180,
           180,
           180,
           180,
           179,
           178,
           174,
           170,
           170,
           168,
           167,
           165,
           163,
           161,
           157,
           154,
           153,
           152,
           152,
           152,
           149,
           148,
           147,
           144,
           140,
           134,
           128,
           125,
           122,
           119,
           117,
           114,
           110,
           110,
           109,
           109
          ],
          [
           107,
           108,
           111,
           112,
           114,
           115,
           116,
           117,
           119,
           120,
           121,
           124,
           128,
           133,
           137,
           141,
           145,
           149,
           152,
           156,
           160,
           164,
           168,
           172,
           176,
           179,
           180,
           180,
           180,
           179,
           178,
           174,
           170,
           168,
           166,
           165,
           163,
           161,
           158,
           154,
           150,
           149,
           148,
           146,
           145,
           143,
           143,
           143,
           140,
           136,
           130,
           126,
           123,
           120,
           118,
           115,
           112,
           110,
           110,
           109,
           109
          ],
          [
           107,
           108,
           110,
           112,
           113,
           113,
           115,
           116,
           118,
           120,
           122,
           125,
           128,
           132,
           136,
           140,
           145,
           148,
           150,
           155,
           160,
           164,
           167,
           170,
           174,
           177,
           179,
           179,
           178,
           176,
           176,
           173,
           169,
           166,
           164,
           163,
           161,
           159,
           155,
           152,
           148,
           145,
           143,
           141,
           140,
           139,
           139,
           138,
           136,
           132,
           128,
           124,
           121,
           118,
           116,
           114,
           111,
           110,
           110,
           109,
           108
          ],
          [
           107,
           108,
           109,
           111,
           113,
           114,
           116,
           117,
           119,
           120,
           122,
           125,
           128,
           132,
           137,
           141,
           144,
           146,
           149,
           152,
           157,
           162,
           166,
           168,
           171,
           173,
           175,
           175,
           173,
           172,
           172,
           171,
           168,
           165,
           162,
           160,
           158,
           156,
           153,
           149,
           145,
           142,
           139,
           138,
           137,
           136,
           135,
           133,
           131,
           129,
           126,
           122,
           119,
           117,
           114,
           112,
           110,
           110,
           109,
           108,
           107
          ],
          [
           108,
           109,
           110,
           112,
           114,
           115,
           116,
           117,
           119,
           120,
           122,
           126,
           129,
           133,
           137,
           141,
           143,
           146,
           148,
           151,
           155,
           160,
           164,
           167,
           168,
           169,
           170,
           170,
           169,
           168,
           167,
           168,
           166,
           163,
           160,
           158,
           155,
           153,
           150,
           147,
           143,
           140,
           137,
           136,
           134,
           133,
           132,
           130,
           129,
           127,
           125,
           121,
           118,
           115,
           112,
           110,
           110,
           110,
           108,
           107,
           107
          ],
          [
           109,
           110,
           111,
           113,
           115,
           116,
           117,
           118,
           120,
           121,
           123,
           126,
           129,
           133,
           138,
           141,
           143,
           146,
           148,
           150,
           155,
           159,
           163,
           165,
           166,
           167,
           168,
           168,
           166,
           165,
           164,
           161,
           160,
           159,
           158,
           155,
           152,
           149,
           147,
           144,
           141,
           138,
           135,
           134,
           132,
           130,
           129,
           128,
           126,
           124,
           122,
           120,
           117,
           113,
           111,
           110,
           110,
           110,
           108,
           107,
           107
          ],
          [
           110,
           111,
           112,
           113,
           116,
           117,
           118,
           119,
           120,
           122,
           125,
           127,
           130,
           133,
           138,
           141,
           143,
           146,
           148,
           150,
           154,
           159,
           162,
           163,
           164,
           166,
           166,
           166,
           165,
           163,
           161,
           159,
           157,
           156,
           155,
           153,
           150,
           146,
           143,
           140,
           138,
           136,
           133,
           132,
           130,
           129,
           128,
           125,
           124,
           122,
           120,
           119,
           117,
           114,
           111,
           110,
           110,
           109,
           108,
           107,
           107
          ],
          [
           111,
           112,
           113,
           114,
           116,
           117,
           118,
           119,
           120,
           123,
           125,
           128,
           130,
           134,
           139,
           141,
           144,
           146,
           148,
           151,
           154,
           158,
           161,
           164,
           166,
           167,
           168,
           166,
           165,
           163,
           161,
           158,
           156,
           154,
           152,
           150,
           146,
           142,
           139,
           137,
           135,
           133,
           131,
           130,
           129,
           128,
           127,
           125,
           123,
           121,
           120,
           118,
           116,
           113,
           111,
           110,
           110,
           109,
           108,
           107,
           106
          ],
          [
           111,
           112,
           113,
           115,
           117,
           118,
           118,
           120,
           121,
           124,
           126,
           128,
           131,
           135,
           139,
           142,
           144,
           146,
           148,
           151,
           155,
           160,
           164,
           165,
           168,
           169,
           169,
           168,
           166,
           163,
           160,
           158,
           156,
           153,
           151,
           148,
           145,
           142,
           139,
           137,
           135,
           132,
           130,
           129,
           127,
           126,
           125,
           124,
           123,
           120,
           120,
           117,
           116,
           114,
           112,
           110,
           110,
           108,
           107,
           106,
           106
          ],
          [
           112,
           113,
           114,
           116,
           117,
           118,
           119,
           120,
           122,
           124,
           127,
           129,
           132,
           135,
           139,
           142,
           144,
           146,
           149,
           152,
           157,
           162,
           167,
           169,
           170,
           170,
           170,
           168,
           165,
           163,
           161,
           159,
           157,
           155,
           151,
           148,
           145,
           141,
           139,
           136,
           134,
           132,
           130,
           128,
           127,
           126,
           124,
           123,
           122,
           120,
           119,
           117,
           116,
           114,
           112,
           111,
           109,
           107,
           106,
           106,
           105
          ],
          [
           113,
           114,
           115,
           116,
           117,
           119,
           119,
           120,
           122,
           125,
           127,
           129,
           132,
           135,
           139,
           142,
           144,
           147,
           149,
           154,
           159,
           164,
           169,
           170,
           170,
           170,
           170,
           170,
           168,
           165,
           163,
           161,
           158,
           155,
           151,
           148,
           145,
           142,
           139,
           137,
           135,
           132,
           131,
           128,
           126,
           125,
           124,
           122,
           121,
           120,
           119,
           117,
           115,
           113,
           111,
           110,
           109,
           106,
           105,
           105,
           104
          ],
          [
           113,
           114,
           115,
           117,
           118,
           119,
           120,
           121,
           123,
           125,
           127,
           130,
           132,
           135,
           139,
           142,
           145,
           148,
           150,
           156,
           161,
           166,
           170,
           170,
           170,
           170,
           170,
           170,
           169,
           166,
           163,
           161,
           159,
           155,
           151,
           148,
           146,
           143,
           140,
           138,
           135,
           134,
           132,
           130,
           127,
           125,
           123,
           121,
           120,
           120,
           119,
           116,
           114,
           112,
           110,
           110,
           108,
           106,
           105,
           104,
           104
          ],
          [
           114,
           115,
           116,
           117,
           118,
           119,
           120,
           121,
           123,
           126,
           128,
           130,
           133,
           136,
           139,
           142,
           145,
           148,
           152,
           157,
           161,
           166,
           168,
           170,
           170,
           170,
           170,
           168,
           166,
           164,
           163,
           160,
           159,
           155,
           151,
           148,
           146,
           143,
           141,
           138,
           136,
           134,
           132,
           130,
           128,
           125,
           123,
           121,
           120,
           120,
           118,
           116,
           113,
           111,
           110,
           110,
           109,
           106,
           105,
           104,
           104
          ],
          [
           115,
           116,
           117,
           118,
           119,
           120,
           121,
           121,
           123,
           126,
           128,
           131,
           134,
           136,
           139,
           142,
           145,
           149,
           152,
           157,
           161,
           163,
           164,
           166,
           168,
           167,
           166,
           164,
           163,
           161,
           160,
           158,
           156,
           152,
           149,
           147,
           144,
           143,
           141,
           139,
           136,
           134,
           132,
           130,
           128,
           125,
           122,
           120,
           120,
           119,
           117,
           115,
           113,
           110,
           110,
           109,
           107,
           106,
           105,
           104,
           104
          ],
          [
           115,
           116,
           117,
           118,
           119,
           120,
           121,
           122,
           123,
           125,
           128,
           131,
           134,
           137,
           139,
           142,
           145,
           149,
           152,
           156,
           159,
           159,
           160,
           162,
           162,
           161,
           161,
           160,
           159,
           158,
           157,
           155,
           153,
           150,
           148,
           146,
           145,
           143,
           142,
           140,
           137,
           134,
           131,
           129,
           126,
           124,
           122,
           120,
           119,
           117,
           115,
           113,
           111,
           110,
           109,
           109,
           107,
           106,
           105,
           104,
           104
          ],
          [
           114,
           115,
           116,
           116,
           118,
           119,
           120,
           121,
           122,
           126,
           129,
           132,
           135,
           137,
           140,
           143,
           146,
           149,
           152,
           155,
           156,
           157,
           158,
           159,
           159,
           159,
           158,
           158,
           157,
           155,
           153,
           151,
           150,
           149,
           147,
           146,
           145,
           144,
           142,
           141,
           138,
           135,
           132,
           128,
           125,
           122,
           120,
           118,
           117,
           115,
           113,
           112,
           110,
           109,
           108,
           108,
           106,
           105,
           105,
           104,
           104
          ],
          [
           113,
           114,
           115,
           116,
           117,
           118,
           119,
           120,
           123,
           126,
           129,
           132,
           135,
           138,
           140,
           143,
           146,
           148,
           151,
           153,
           154,
           156,
           157,
           157,
           157,
           157,
           156,
           155,
           154,
           152,
           150,
           149,
           148,
           147,
           146,
           145,
           144,
           142,
           141,
           140,
           139,
           136,
           132,
           129,
           125,
           121,
           118,
           116,
           115,
           113,
           111,
           110,
           109,
           108,
           108,
           107,
           106,
           105,
           104,
           104,
           104
          ],
          [
           112,
           113,
           114,
           115,
           116,
           117,
           119,
           120,
           122,
           126,
           130,
           133,
           136,
           138,
           141,
           143,
           146,
           148,
           150,
           152,
           154,
           155,
           155,
           155,
           155,
           155,
           154,
           152,
           152,
           150,
           148,
           147,
           146,
           145,
           145,
           143,
           142,
           141,
           140,
           140,
           140,
           137,
           133,
           129,
           125,
           120,
           117,
           115,
           111,
           110,
           110,
           109,
           108,
           107,
           107,
           106,
           105,
           105,
           104,
           104,
           103
          ],
          [
           111,
           112,
           114,
           115,
           116,
           117,
           118,
           120,
           122,
           125,
           131,
           134,
           137,
           139,
           142,
           144,
           146,
           148,
           150,
           152,
           153,
           153,
           153,
           153,
           153,
           153,
           153,
           151,
           149,
           147,
           146,
           144,
           144,
           143,
           143,
           142,
           141,
           140,
           140,
           140,
           140,
           138,
           134,
           130,
           123,
           120,
           118,
           111,
           110,
           110,
           110,
           108,
           107,
           106,
           108,
           105,
           105,
           104,
           104,
           103,
           103
          ],
          [
           111,
           112,
           113,
           115,
           115,
           116,
           117,
           119,
           121,
           126,
           131,
           135,
           138,
           140,
           142,
           144,
           146,
           148,
           150,
           151,
           151,
           151,
           151,
           151,
           151,
           151,
           151,
           150,
           148,
           146,
           144,
           142,
           141,
           141,
           142,
           141,
           140,
           140,
           140,
           140,
           140,
           140,
           136,
           132,
           126,
           120,
           115,
           110,
           110,
           110,
           109,
           107,
           106,
           105,
           107,
           105,
           104,
           104,
           104,
           103,
           103
          ],
          [
           112,
           113,
           113,
           114,
           115,
           116,
           117,
           119,
           122,
           127,
           132,
           135,
           139,
           141,
           143,
           145,
           147,
           149,
           150,
           150,
           150,
           150,
           150,
           150,
           150,
           150,
           150,
           149,
           147,
           144,
           142,
           141,
           140,
           140,
           140,
           140,
           140,
           140,
           140,
           140,
           140,
           140,
           137,
           133,
           128,
           120,
           117,
           110,
           110,
           110,
           108,
           106,
           105,
           105,
           106,
           105,
           104,
           104,
           103,
           103,
           103
          ],
          [
           112,
           113,
           114,
           114,
           116,
           117,
           118,
           120,
           122,
           128,
           132,
           136,
           139,
           141,
           144,
           146,
           147,
           149,
           150,
           150,
           150,
           150,
           150,
           150,
           150,
           150,
           150,
           149,
           146,
           143,
           141,
           140,
           140,
           139,
           139,
           139,
           140,
           140,
           140,
           140,
           140,
           140,
           137,
           133,
           129,
           121,
           118,
           110,
           110,
           109,
           107,
           106,
           105,
           105,
           105,
           104,
           104,
           103,
           103,
           103,
           102
          ],
          [
           112,
           114,
           114,
           115,
           116,
           117,
           119,
           120,
           122,
           128,
           133,
           136,
           140,
           142,
           144,
           146,
           148,
           150,
           150,
           150,
           150,
           150,
           150,
           150,
           150,
           150,
           150,
           148,
           145,
           142,
           140,
           138,
           138,
           138,
           137,
           138,
           140,
           140,
           140,
           140,
           140,
           140,
           137,
           134,
           130,
           122,
           118,
           110,
           110,
           108,
           106,
           105,
           103,
           104,
           104,
           104,
           104,
           103,
           103,
           102,
           102
          ],
          [
           113,
           114,
           115,
           116,
           116,
           117,
           118,
           120,
           123,
           129,
           133,
           137,
           140,
           142,
           144,
           146,
           149,
           150,
           150,
           150,
           150,
           150,
           150,
           150,
           150,
           150,
           150,
           147,
           143,
           141,
           139,
           137,
           136,
           136,
           135,
           136,
           138,
           140,
           140,
           140,
           140,
           139,
           136,
           134,
           130,
           123,
           119,
           113,
           109,
           108,
           106,
           104,
           103,
           104,
           104,
           104,
           103,
           103,
           102,
           102,
           101
          ],
          [
           114,
           115,
           115,
           116,
           117,
           118,
           118,
           120,
           123,
           129,
           133,
           137,
           140,
           143,
           145,
           147,
           150,
           150,
           150,
           150,
           150,
           150,
           150,
           150,
           150,
           150,
           148,
           145,
           142,
           139,
           138,
           136,
           135,
           134,
           134,
           134,
           136,
           138,
           137,
           138,
           139,
           137,
           134,
           132,
           125,
           122,
           117,
           114,
           109,
           107,
           105,
           103,
           102,
           104,
           104,
           103,
           103,
           102,
           102,
           101,
           101
          ],
          [
           114,
           115,
           116,
           117,
           117,
           119,
           118,
           120,
           123,
           128,
           132,
           136,
           139,
           142,
           145,
           148,
           150,
           150,
           150,
           150,
           150,
           150,
           150,
           150,
           150,
           150,
           147,
           144,
           141,
           139,
           136,
           135,
           134,
           133,
           132,
           132,
           134,
           134,
           134,
           134,
           135,
           133,
           131,
           128,
           124,
           120,
           116,
           113,
           110,
           107,
           104,
           102,
           102,
           103,
           103,
           103,
           102,
           102,
           102,
           101,
           100
          ],
          [
           115,
           116,
           116,
           117,
           118,
           119,
           119,
           120,
           124,
           128,
           132,
           136,
           139,
           142,
           145,
           148,
           150,
           150,
           150,
           150,
           150,
           150,
           150,
           150,
           150,
           149,
           146,
           143,
           140,
           138,
           135,
           134,
           133,
           131,
           131,
           131,
           131,
           131,
           131,
           131,
           130,
           127,
           124,
           122,
           119,
           117,
           115,
           112,
           109,
           106,
           104,
           101,
           102,
           103,
           103,
           102,
           102,
           102,
           101,
           100,
           100
          ],
          [
           115,
           116,
           117,
           118,
           118,
           119,
           120,
           123,
           125,
           128,
           131,
           135,
           138,
           141,
           145,
           148,
           150,
           150,
           150,
           150,
           150,
           150,
           150,
           150,
           150,
           147,
           145,
           142,
           139,
           137,
           134,
           132,
           131,
           130,
           129,
           128,
           128,
           128,
           128,
           128,
           126,
           123,
           121,
           119,
           116,
           114,
           112,
           110,
           108,
           105,
           103,
           101,
           103,
           103,
           103,
           102,
           102,
           101,
           100,
           100,
           100
          ],
          [
           116,
           117,
           118,
           118,
           119,
           120,
           122,
           123,
           125,
           128,
           131,
           134,
           137,
           141,
           145,
           148,
           149,
           150,
           150,
           150,
           150,
           150,
           150,
           150,
           148,
           145,
           143,
           141,
           138,
           135,
           133,
           130,
           129,
           128,
           127,
           126,
           125,
           125,
           125,
           124,
           123,
           120,
           118,
           116,
           114,
           111,
           109,
           107,
           106,
           104,
           102,
           100,
           101,
           101,
           102,
           102,
           101,
           100,
           100,
           100,
           100
          ],
          [
           116,
           117,
           118,
           119,
           120,
           121,
           123,
           124,
           126,
           128,
           130,
           133,
           137,
           140,
           144,
           145,
           147,
           148,
           149,
           150,
           149,
           149,
           147,
           146,
           144,
           141,
           139,
           136,
           133,
           131,
           129,
           128,
           127,
           126,
           125,
           124,
           123,
           123,
           122,
           121,
           120,
           118,
           116,
           114,
           112,
           108,
           107,
           105,
           103,
           102,
           100,
           100,
           100,
           100,
           101,
           101,
           100,
           100,
           100,
           100,
           100
          ],
          [
           117,
           118,
           119,
           119,
           120,
           121,
           123,
           124,
           126,
           128,
           129,
           131,
           135,
           139,
           142,
           143,
           145,
           146,
           147,
           147,
           147,
           146,
           144,
           142,
           140,
           138,
           135,
           133,
           130,
           128,
           127,
           126,
           125,
           124,
           123,
           122,
           121,
           120,
           119,
           118,
           117,
           115,
           114,
           112,
           110,
           106,
           105,
           102,
           101,
           100,
           100,
           100,
           100,
           100,
           100,
           100,
           100,
           99,
           99,
           99,
           99
          ],
          [
           117,
           118,
           119,
           120,
           120,
           121,
           123,
           124,
           125,
           126,
           128,
           129,
           132,
           137,
           140,
           142,
           143,
           143,
           144,
           144,
           144,
           143,
           141,
           139,
           137,
           135,
           133,
           130,
           128,
           127,
           126,
           125,
           123,
           122,
           121,
           120,
           119,
           117,
           116,
           115,
           114,
           112,
           111,
           108,
           107,
           105,
           100,
           100,
           100,
           100,
           100,
           100,
           100,
           99,
           99,
           99,
           99,
           99,
           99,
           99,
           98
          ],
          [
           116,
           117,
           118,
           120,
           120,
           121,
           122,
           123,
           124,
           125,
           126,
           128,
           130,
           134,
           139,
           140,
           141,
           141,
           141,
           141,
           141,
           140,
           138,
           136,
           134,
           133,
           131,
           129,
           127,
           125,
           124,
           123,
           122,
           120,
           119,
           118,
           117,
           116,
           114,
           112,
           111,
           108,
           109,
           106,
           106,
           100,
           100,
           100,
           100,
           100,
           99,
           99,
           99,
           99,
           99,
           99,
           99,
           98,
           98,
           98,
           97
          ],
          [
           114,
           115,
           116,
           117,
           119,
           119,
           120,
           121,
           122,
           123,
           125,
           127,
           129,
           133,
           136,
           134,
           134,
           136,
           138,
           138,
           137,
           137,
           135,
           133,
           132,
           130,
           129,
           127,
           125,
           124,
           122,
           121,
           120,
           119,
           117,
           116,
           115,
           114,
           112,
           110,
           109,
           108,
           107,
           105,
           105,
           100,
           100,
           100,
           100,
           99,
           99,
           99,
           98,
           98,
           98,
           98,
           98,
           97,
           97,
           97,
           97
          ],
          [
           112,
           113,
           114,
           115,
           116,
           116,
           117,
           119,
           120,
           122,
           124,
           126,
           127,
           129,
           129,
           128,
           127,
           129,
           132,
           133,
           133,
           133,
           133,
           131,
           129,
           127,
           126,
           125,
           124,
           122,
           121,
           119,
           118,
           117,
           116,
           114,
           113,
           112,
           110,
           109,
           108,
           106,
           106,
           105,
           100,
           100,
           100,
           98,
           98,
           98,
           98,
           98,
           98,
           97,
           97,
           97,
           97,
           97,
           97,
           97,
           96
          ],
          [
           109,
           111,
           112,
           112,
           113,
           113,
           113,
           114,
           116,
           119,
           121,
           123,
           124,
           125,
           124,
           123,
           123,
           123,
           125,
           127,
           129,
           129,
           128,
           128,
           127,
           125,
           124,
           123,
           122,
           121,
           119,
           118,
           117,
           116,
           114,
           113,
           112,
           110,
           109,
           108,
           107,
           106,
           105,
           100,
           100,
           100,
           97,
           97,
           97,
           97,
           97,
           97,
           97,
           96,
           96,
           96,
           96,
           96,
           96,
           96,
           96
          ],
          [
           106,
           107,
           108,
           108,
           109,
           110,
           110,
           112,
           113,
           114,
           117,
           119,
           120,
           121,
           119,
           117,
           117,
           117,
           118,
           120,
           123,
           124,
           125,
           125,
           125,
           123,
           121,
           120,
           120,
           119,
           118,
           117,
           116,
           115,
           114,
           113,
           111,
           109,
           109,
           107,
           106,
           105,
           100,
           100,
           100,
           96,
           96,
           96,
           96,
           96,
           96,
           96,
           96,
           96,
           96,
           96,
           96,
           96,
           96,
           96,
           96
          ],
          [
           104,
           105,
           105,
           106,
           106,
           107,
           108,
           108,
           109,
           109,
           111,
           115,
           116,
           114,
           113,
           112,
           111,
           110,
           111,
           113,
           116,
           119,
           122,
           122,
           122,
           121,
           120,
           119,
           118,
           118,
           117,
           116,
           115,
           114,
           113,
           112,
           111,
           108,
           108,
           106,
           105,
           100,
           100,
           100,
           96,
           96,
           96,
           96,
           96,
           96,
           96,
           96,
           96,
           96,
           96,
           96,
           96,
           96,
           96,
           96,
           96
          ],
          [
           102,
           103,
           103,
           104,
           104,
           105,
           106,
           106,
           107,
           108,
           109,
           111,
           112,
           110,
           109,
           108,
           108,
           108,
           108,
           109,
           110,
           112,
           116,
           117,
           117,
           118,
           118,
           118,
           117,
           116,
           116,
           115,
           114,
           113,
           112,
           111,
           110,
           107,
           107,
           105,
           100,
           100,
           100,
           97,
           96,
           96,
           96,
           96,
           96,
           96,
           96,
           96,
           96,
           96,
           96,
           96,
           96,
           96,
           96,
           96,
           96
          ],
          [
           101,
           102,
           103,
           103,
           104,
           105,
           105,
           106,
           106,
           107,
           108,
           109,
           109,
           107,
           106,
           106,
           105,
           105,
           105,
           106,
           107,
           108,
           109,
           110,
           111,
           113,
           114,
           115,
           115,
           115,
           114,
           113,
           112,
           111,
           110,
           108,
           108,
           106,
           105,
           100,
           100,
           100,
           97,
           97,
           96,
           96,
           96,
           96,
           96,
           96,
           96,
           96,
           96,
           96,
           96,
           96,
           96,
           96,
           96,
           96,
           96
          ],
          [
           100,
           101,
           102,
           102,
           103,
           103,
           104,
           104,
           105,
           106,
           106,
           107,
           106,
           106,
           106,
           105,
           105,
           104,
           103,
           103,
           104,
           105,
           107,
           108,
           110,
           111,
           111,
           112,
           112,
           113,
           113,
           112,
           111,
           110,
           108,
           107,
           106,
           105,
           100,
           100,
           100,
           98,
           97,
           97,
           96,
           96,
           96,
           96,
           96,
           96,
           96,
           96,
           96,
           96,
           96,
           96,
           96,
           96,
           96,
           96,
           96
          ],
          [
           100,
           101,
           101,
           102,
           102,
           103,
           103,
           104,
           104,
           105,
           105,
           105,
           105,
           106,
           105,
           105,
           104,
           103,
           102,
           101,
           102,
           103,
           104,
           106,
           107,
           110,
           111,
           111,
           111,
           112,
           112,
           112,
           110,
           107,
           107,
           106,
           105,
           102,
           100,
           100,
           99,
           98,
           97,
           97,
           96,
           96,
           96,
           96,
           96,
           96,
           96,
           96,
           96,
           96,
           96,
           96,
           96,
           96,
           96,
           96,
           95
          ],
          [
           99,
           100,
           101,
           102,
           102,
           103,
           103,
           103,
           104,
           104,
           104,
           104,
           103,
           104,
           104,
           104,
           104,
           102,
           101,
           101,
           102,
           103,
           104,
           105,
           107,
           110,
           111,
           111,
           111,
           111,
           111,
           111,
           108,
           106,
           105,
           105,
           102,
           101,
           100,
           99,
           99,
           98,
           97,
           97,
           96,
           96,
           96,
           96,
           96,
           96,
           96,
           96,
           96,
           96,
           96,
           96,
           96,
           96,
           96,
           95,
           95
          ],
          [
           99,
           100,
           100,
           101,
           101,
           102,
           102,
           102,
           103,
           103,
           103,
           103,
           102,
           103,
           103,
           104,
           103,
           102,
           101,
           101,
           101,
           102,
           103,
           104,
           106,
           109,
           110,
           111,
           111,
           111,
           110,
           110,
           107,
           105,
           103,
           104,
           100,
           100,
           99,
           99,
           98,
           98,
           97,
           97,
           96,
           96,
           96,
           96,
           96,
           96,
           96,
           96,
           96,
           96,
           95,
           95,
           95,
           95,
           95,
           95,
           95
          ],
          [
           99,
           100,
           100,
           100,
           101,
           101,
           101,
           102,
           102,
           103,
           102,
           102,
           101,
           102,
           102,
           103,
           103,
           101,
           101,
           100,
           101,
           101,
           102,
           103,
           105,
           109,
           110,
           110,
           111,
           110,
           110,
           109,
           106,
           105,
           100,
           102,
           100,
           99,
           99,
           99,
           98,
           98,
           97,
           97,
           96,
           96,
           96,
           96,
           96,
           96,
           95,
           95,
           95,
           95,
           95,
           95,
           95,
           95,
           95,
           95,
           94
          ],
          [
           99,
           99,
           99,
           99,
           100,
           100,
           101,
           101,
           102,
           102,
           101,
           101,
           101,
           101,
           101,
           102,
           102,
           101,
           100,
           100,
           101,
           101,
           101,
           103,
           104,
           107,
           109,
           109,
           110,
           110,
           109,
           108,
           105,
           102,
           100,
           100,
           99,
           99,
           99,
           98,
           98,
           98,
           97,
           96,
           96,
           96,
           96,
           96,
           95,
           95,
           95,
           95,
           95,
           95,
           95,
           94,
           94,
           94,
           94,
           94,
           94
          ],
          [
           98,
           99,
           99,
           99,
           99,
           100,
           100,
           101,
           101,
           102,
           101,
           100,
           100,
           100,
           101,
           101,
           101,
           100,
           100,
           100,
           100,
           101,
           101,
           101,
           103,
           106,
           107,
           109,
           109,
           109,
           109,
           107,
           104,
           101,
           100,
           99,
           99,
           99,
           98,
           98,
           98,
           97,
           96,
           96,
           96,
           96,
           95,
           95,
           95,
           95,
           95,
           95,
           95,
           94,
           94,
           94,
           94,
           94,
           94,
           94,
           94
          ],
          [
           98,
           98,
           98,
           99,
           99,
           99,
           100,
           100,
           101,
           101,
           100,
           100,
           99,
           99,
           100,
           100,
           100,
           100,
           100,
           100,
           100,
           101,
           101,
           101,
           102,
           105,
           106,
           109,
           108,
           109,
           107,
           105,
           102,
           100,
           100,
           99,
           99,
           98,
           98,
           98,
           97,
           96,
           96,
           96,
           96,
           95,
           95,
           95,
           95,
           95,
           95,
           94,
           94,
           94,
           94,
           94,
           94,
           94,
           94,
           94,
           94
          ],
          [
           97,
           98,
           98,
           98,
           99,
           99,
           99,
           100,
           100,
           100,
           100,
           100,
           99,
           99,
           99,
           100,
           100,
           100,
           100,
           100,
           100,
           100,
           101,
           101,
           101,
           103,
           104,
           105,
           106,
           105,
           104,
           101,
           100,
           100,
           99,
           99,
           98,
           98,
           97,
           97,
           97,
           96,
           96,
           96,
           95,
           95,
           95,
           95,
           95,
           94,
           94,
           94,
           94,
           94,
           94,
           94,
           94,
           94,
           94,
           94,
           94
          ],
          [
           97,
           97,
           97,
           98,
           98,
           99,
           99,
           99,
           100,
           100,
           100,
           99,
           99,
           99,
           99,
           99,
           100,
           100,
           100,
           100,
           100,
           100,
           101,
           101,
           100,
           100,
           100,
           100,
           100,
           100,
           100,
           100,
           100,
           100,
           99,
           99,
           98,
           97,
           97,
           97,
           96,
           96,
           96,
           95,
           95,
           95,
           95,
           94,
           94,
           94,
           94,
           94,
           94,
           94,
           94,
           94,
           94,
           94,
           94,
           94,
           94
          ]
         ]
        }
       ],
       "layout": {
        "annotations": [
         {
          "align": "left",
          "showarrow": false,
          "text": "Trace type:",
          "x": 0,
          "y": 1.08,
          "yref": "paper"
         }
        ],
        "autosize": false,
        "height": 900,
        "margin": {
         "b": 0,
         "l": 0,
         "r": 0,
         "t": 0
        },
        "scene": {
         "aspectmode": "manual",
         "aspectratio": {
          "x": 1,
          "y": 1,
          "z": 0.7
         }
        },
        "template": {
         "data": {
          "bar": [
           {
            "error_x": {
             "color": "#2a3f5f"
            },
            "error_y": {
             "color": "#2a3f5f"
            },
            "marker": {
             "line": {
              "color": "white",
              "width": 0.5
             },
             "pattern": {
              "fillmode": "overlay",
              "size": 10,
              "solidity": 0.2
             }
            },
            "type": "bar"
           }
          ],
          "barpolar": [
           {
            "marker": {
             "line": {
              "color": "white",
              "width": 0.5
             },
             "pattern": {
              "fillmode": "overlay",
              "size": 10,
              "solidity": 0.2
             }
            },
            "type": "barpolar"
           }
          ],
          "carpet": [
           {
            "aaxis": {
             "endlinecolor": "#2a3f5f",
             "gridcolor": "#C8D4E3",
             "linecolor": "#C8D4E3",
             "minorgridcolor": "#C8D4E3",
             "startlinecolor": "#2a3f5f"
            },
            "baxis": {
             "endlinecolor": "#2a3f5f",
             "gridcolor": "#C8D4E3",
             "linecolor": "#C8D4E3",
             "minorgridcolor": "#C8D4E3",
             "startlinecolor": "#2a3f5f"
            },
            "type": "carpet"
           }
          ],
          "choropleth": [
           {
            "colorbar": {
             "outlinewidth": 0,
             "ticks": ""
            },
            "type": "choropleth"
           }
          ],
          "contour": [
           {
            "colorbar": {
             "outlinewidth": 0,
             "ticks": ""
            },
            "colorscale": [
             [
              0,
              "#0d0887"
             ],
             [
              0.1111111111111111,
              "#46039f"
             ],
             [
              0.2222222222222222,
              "#7201a8"
             ],
             [
              0.3333333333333333,
              "#9c179e"
             ],
             [
              0.4444444444444444,
              "#bd3786"
             ],
             [
              0.5555555555555556,
              "#d8576b"
             ],
             [
              0.6666666666666666,
              "#ed7953"
             ],
             [
              0.7777777777777778,
              "#fb9f3a"
             ],
             [
              0.8888888888888888,
              "#fdca26"
             ],
             [
              1,
              "#f0f921"
             ]
            ],
            "type": "contour"
           }
          ],
          "contourcarpet": [
           {
            "colorbar": {
             "outlinewidth": 0,
             "ticks": ""
            },
            "type": "contourcarpet"
           }
          ],
          "heatmap": [
           {
            "colorbar": {
             "outlinewidth": 0,
             "ticks": ""
            },
            "colorscale": [
             [
              0,
              "#0d0887"
             ],
             [
              0.1111111111111111,
              "#46039f"
             ],
             [
              0.2222222222222222,
              "#7201a8"
             ],
             [
              0.3333333333333333,
              "#9c179e"
             ],
             [
              0.4444444444444444,
              "#bd3786"
             ],
             [
              0.5555555555555556,
              "#d8576b"
             ],
             [
              0.6666666666666666,
              "#ed7953"
             ],
             [
              0.7777777777777778,
              "#fb9f3a"
             ],
             [
              0.8888888888888888,
              "#fdca26"
             ],
             [
              1,
              "#f0f921"
             ]
            ],
            "type": "heatmap"
           }
          ],
          "heatmapgl": [
           {
            "colorbar": {
             "outlinewidth": 0,
             "ticks": ""
            },
            "colorscale": [
             [
              0,
              "#0d0887"
             ],
             [
              0.1111111111111111,
              "#46039f"
             ],
             [
              0.2222222222222222,
              "#7201a8"
             ],
             [
              0.3333333333333333,
              "#9c179e"
             ],
             [
              0.4444444444444444,
              "#bd3786"
             ],
             [
              0.5555555555555556,
              "#d8576b"
             ],
             [
              0.6666666666666666,
              "#ed7953"
             ],
             [
              0.7777777777777778,
              "#fb9f3a"
             ],
             [
              0.8888888888888888,
              "#fdca26"
             ],
             [
              1,
              "#f0f921"
             ]
            ],
            "type": "heatmapgl"
           }
          ],
          "histogram": [
           {
            "marker": {
             "pattern": {
              "fillmode": "overlay",
              "size": 10,
              "solidity": 0.2
             }
            },
            "type": "histogram"
           }
          ],
          "histogram2d": [
           {
            "colorbar": {
             "outlinewidth": 0,
             "ticks": ""
            },
            "colorscale": [
             [
              0,
              "#0d0887"
             ],
             [
              0.1111111111111111,
              "#46039f"
             ],
             [
              0.2222222222222222,
              "#7201a8"
             ],
             [
              0.3333333333333333,
              "#9c179e"
             ],
             [
              0.4444444444444444,
              "#bd3786"
             ],
             [
              0.5555555555555556,
              "#d8576b"
             ],
             [
              0.6666666666666666,
              "#ed7953"
             ],
             [
              0.7777777777777778,
              "#fb9f3a"
             ],
             [
              0.8888888888888888,
              "#fdca26"
             ],
             [
              1,
              "#f0f921"
             ]
            ],
            "type": "histogram2d"
           }
          ],
          "histogram2dcontour": [
           {
            "colorbar": {
             "outlinewidth": 0,
             "ticks": ""
            },
            "colorscale": [
             [
              0,
              "#0d0887"
             ],
             [
              0.1111111111111111,
              "#46039f"
             ],
             [
              0.2222222222222222,
              "#7201a8"
             ],
             [
              0.3333333333333333,
              "#9c179e"
             ],
             [
              0.4444444444444444,
              "#bd3786"
             ],
             [
              0.5555555555555556,
              "#d8576b"
             ],
             [
              0.6666666666666666,
              "#ed7953"
             ],
             [
              0.7777777777777778,
              "#fb9f3a"
             ],
             [
              0.8888888888888888,
              "#fdca26"
             ],
             [
              1,
              "#f0f921"
             ]
            ],
            "type": "histogram2dcontour"
           }
          ],
          "mesh3d": [
           {
            "colorbar": {
             "outlinewidth": 0,
             "ticks": ""
            },
            "type": "mesh3d"
           }
          ],
          "parcoords": [
           {
            "line": {
             "colorbar": {
              "outlinewidth": 0,
              "ticks": ""
             }
            },
            "type": "parcoords"
           }
          ],
          "pie": [
           {
            "automargin": true,
            "type": "pie"
           }
          ],
          "scatter": [
           {
            "fillpattern": {
             "fillmode": "overlay",
             "size": 10,
             "solidity": 0.2
            },
            "type": "scatter"
           }
          ],
          "scatter3d": [
           {
            "line": {
             "colorbar": {
              "outlinewidth": 0,
              "ticks": ""
             }
            },
            "marker": {
             "colorbar": {
              "outlinewidth": 0,
              "ticks": ""
             }
            },
            "type": "scatter3d"
           }
          ],
          "scattercarpet": [
           {
            "marker": {
             "colorbar": {
              "outlinewidth": 0,
              "ticks": ""
             }
            },
            "type": "scattercarpet"
           }
          ],
          "scattergeo": [
           {
            "marker": {
             "colorbar": {
              "outlinewidth": 0,
              "ticks": ""
             }
            },
            "type": "scattergeo"
           }
          ],
          "scattergl": [
           {
            "marker": {
             "colorbar": {
              "outlinewidth": 0,
              "ticks": ""
             }
            },
            "type": "scattergl"
           }
          ],
          "scattermapbox": [
           {
            "marker": {
             "colorbar": {
              "outlinewidth": 0,
              "ticks": ""
             }
            },
            "type": "scattermapbox"
           }
          ],
          "scatterpolar": [
           {
            "marker": {
             "colorbar": {
              "outlinewidth": 0,
              "ticks": ""
             }
            },
            "type": "scatterpolar"
           }
          ],
          "scatterpolargl": [
           {
            "marker": {
             "colorbar": {
              "outlinewidth": 0,
              "ticks": ""
             }
            },
            "type": "scatterpolargl"
           }
          ],
          "scatterternary": [
           {
            "marker": {
             "colorbar": {
              "outlinewidth": 0,
              "ticks": ""
             }
            },
            "type": "scatterternary"
           }
          ],
          "surface": [
           {
            "colorbar": {
             "outlinewidth": 0,
             "ticks": ""
            },
            "colorscale": [
             [
              0,
              "#0d0887"
             ],
             [
              0.1111111111111111,
              "#46039f"
             ],
             [
              0.2222222222222222,
              "#7201a8"
             ],
             [
              0.3333333333333333,
              "#9c179e"
             ],
             [
              0.4444444444444444,
              "#bd3786"
             ],
             [
              0.5555555555555556,
              "#d8576b"
             ],
             [
              0.6666666666666666,
              "#ed7953"
             ],
             [
              0.7777777777777778,
              "#fb9f3a"
             ],
             [
              0.8888888888888888,
              "#fdca26"
             ],
             [
              1,
              "#f0f921"
             ]
            ],
            "type": "surface"
           }
          ],
          "table": [
           {
            "cells": {
             "fill": {
              "color": "#EBF0F8"
             },
             "line": {
              "color": "white"
             }
            },
            "header": {
             "fill": {
              "color": "#C8D4E3"
             },
             "line": {
              "color": "white"
             }
            },
            "type": "table"
           }
          ]
         },
         "layout": {
          "annotationdefaults": {
           "arrowcolor": "#2a3f5f",
           "arrowhead": 0,
           "arrowwidth": 1
          },
          "autotypenumbers": "strict",
          "coloraxis": {
           "colorbar": {
            "outlinewidth": 0,
            "ticks": ""
           }
          },
          "colorscale": {
           "diverging": [
            [
             0,
             "#8e0152"
            ],
            [
             0.1,
             "#c51b7d"
            ],
            [
             0.2,
             "#de77ae"
            ],
            [
             0.3,
             "#f1b6da"
            ],
            [
             0.4,
             "#fde0ef"
            ],
            [
             0.5,
             "#f7f7f7"
            ],
            [
             0.6,
             "#e6f5d0"
            ],
            [
             0.7,
             "#b8e186"
            ],
            [
             0.8,
             "#7fbc41"
            ],
            [
             0.9,
             "#4d9221"
            ],
            [
             1,
             "#276419"
            ]
           ],
           "sequential": [
            [
             0,
             "#0d0887"
            ],
            [
             0.1111111111111111,
             "#46039f"
            ],
            [
             0.2222222222222222,
             "#7201a8"
            ],
            [
             0.3333333333333333,
             "#9c179e"
            ],
            [
             0.4444444444444444,
             "#bd3786"
            ],
            [
             0.5555555555555556,
             "#d8576b"
            ],
            [
             0.6666666666666666,
             "#ed7953"
            ],
            [
             0.7777777777777778,
             "#fb9f3a"
            ],
            [
             0.8888888888888888,
             "#fdca26"
            ],
            [
             1,
             "#f0f921"
            ]
           ],
           "sequentialminus": [
            [
             0,
             "#0d0887"
            ],
            [
             0.1111111111111111,
             "#46039f"
            ],
            [
             0.2222222222222222,
             "#7201a8"
            ],
            [
             0.3333333333333333,
             "#9c179e"
            ],
            [
             0.4444444444444444,
             "#bd3786"
            ],
            [
             0.5555555555555556,
             "#d8576b"
            ],
            [
             0.6666666666666666,
             "#ed7953"
            ],
            [
             0.7777777777777778,
             "#fb9f3a"
            ],
            [
             0.8888888888888888,
             "#fdca26"
            ],
            [
             1,
             "#f0f921"
            ]
           ]
          },
          "colorway": [
           "#636efa",
           "#EF553B",
           "#00cc96",
           "#ab63fa",
           "#FFA15A",
           "#19d3f3",
           "#FF6692",
           "#B6E880",
           "#FF97FF",
           "#FECB52"
          ],
          "font": {
           "color": "#2a3f5f"
          },
          "geo": {
           "bgcolor": "white",
           "lakecolor": "white",
           "landcolor": "white",
           "showlakes": true,
           "showland": true,
           "subunitcolor": "#C8D4E3"
          },
          "hoverlabel": {
           "align": "left"
          },
          "hovermode": "closest",
          "mapbox": {
           "style": "light"
          },
          "paper_bgcolor": "white",
          "plot_bgcolor": "white",
          "polar": {
           "angularaxis": {
            "gridcolor": "#EBF0F8",
            "linecolor": "#EBF0F8",
            "ticks": ""
           },
           "bgcolor": "white",
           "radialaxis": {
            "gridcolor": "#EBF0F8",
            "linecolor": "#EBF0F8",
            "ticks": ""
           }
          },
          "scene": {
           "xaxis": {
            "backgroundcolor": "white",
            "gridcolor": "#DFE8F3",
            "gridwidth": 2,
            "linecolor": "#EBF0F8",
            "showbackground": true,
            "ticks": "",
            "zerolinecolor": "#EBF0F8"
           },
           "yaxis": {
            "backgroundcolor": "white",
            "gridcolor": "#DFE8F3",
            "gridwidth": 2,
            "linecolor": "#EBF0F8",
            "showbackground": true,
            "ticks": "",
            "zerolinecolor": "#EBF0F8"
           },
           "zaxis": {
            "backgroundcolor": "white",
            "gridcolor": "#DFE8F3",
            "gridwidth": 2,
            "linecolor": "#EBF0F8",
            "showbackground": true,
            "ticks": "",
            "zerolinecolor": "#EBF0F8"
           }
          },
          "shapedefaults": {
           "line": {
            "color": "#2a3f5f"
           }
          },
          "ternary": {
           "aaxis": {
            "gridcolor": "#DFE8F3",
            "linecolor": "#A2B1C6",
            "ticks": ""
           },
           "baxis": {
            "gridcolor": "#DFE8F3",
            "linecolor": "#A2B1C6",
            "ticks": ""
           },
           "bgcolor": "white",
           "caxis": {
            "gridcolor": "#DFE8F3",
            "linecolor": "#A2B1C6",
            "ticks": ""
           }
          },
          "title": {
           "x": 0.05
          },
          "xaxis": {
           "automargin": true,
           "gridcolor": "#EBF0F8",
           "linecolor": "#EBF0F8",
           "ticks": "",
           "title": {
            "standoff": 15
           },
           "zerolinecolor": "#EBF0F8",
           "zerolinewidth": 2
          },
          "yaxis": {
           "automargin": true,
           "gridcolor": "#EBF0F8",
           "linecolor": "#EBF0F8",
           "ticks": "",
           "title": {
            "standoff": 15
           },
           "zerolinecolor": "#EBF0F8",
           "zerolinewidth": 2
          }
         }
        },
        "updatemenus": [
         {
          "buttons": [
           {
            "args": [
             "type",
             "surface"
            ],
            "label": "3D Surface",
            "method": "restyle"
           },
           {
            "args": [
             "type",
             "heatmap"
            ],
            "label": "Heatmap",
            "method": "restyle"
           }
          ],
          "direction": "left",
          "pad": {
           "r": 10,
           "t": 10
          },
          "showactive": true,
          "type": "buttons",
          "x": 0.11,
          "xanchor": "left",
          "y": 1.1,
          "yanchor": "top"
         }
        ],
        "width": 800
       }
      }
     },
     "metadata": {},
     "output_type": "display_data"
    }
   ],
   "source": [
    "import plotly.graph_objects as go\n",
    "\n",
    "import pandas as pd\n",
    "\n",
    "# load dataset\n",
    "df = pd.read_csv(\"https://raw.githubusercontent.com/plotly/datasets/master/volcano.csv\")\n",
    "\n",
    "# create figure\n",
    "fig = go.Figure()\n",
    "\n",
    "# Add surface trace\n",
    "fig.add_trace(go.Surface(z=df.values.tolist(), colorscale=\"Viridis\"))\n",
    "\n",
    "# Update plot sizing\n",
    "fig.update_layout(\n",
    "    width=800,\n",
    "    height=900,\n",
    "    autosize=False,\n",
    "    margin=dict(t=0, b=0, l=0, r=0),\n",
    "    template=\"plotly_white\",\n",
    ")\n",
    "\n",
    "# Update 3D scene options\n",
    "fig.update_scenes(\n",
    "    aspectratio=dict(x=1, y=1, z=0.7),\n",
    "    aspectmode=\"manual\"\n",
    ")\n",
    "\n",
    "# Add dropdown\n",
    "fig.update_layout(\n",
    "    updatemenus=[\n",
    "        dict(\n",
    "            type = \"buttons\",\n",
    "            direction = \"left\",\n",
    "            buttons=list([\n",
    "                dict(\n",
    "                    args=[\"type\", \"surface\"],\n",
    "                    label=\"3D Surface\",\n",
    "                    method=\"restyle\"\n",
    "                ),\n",
    "                dict(\n",
    "                    args=[\"type\", \"heatmap\"],\n",
    "                    label=\"Heatmap\",\n",
    "                    method=\"restyle\"\n",
    "                )\n",
    "            ]),\n",
    "            pad={\"r\": 10, \"t\": 10},\n",
    "            showactive=True,\n",
    "            x=0.11,\n",
    "            xanchor=\"left\",\n",
    "            y=1.1,\n",
    "            yanchor=\"top\"\n",
    "        ),\n",
    "    ]\n",
    ")\n",
    "\n",
    "# Add annotation\n",
    "fig.update_layout(\n",
    "    annotations=[\n",
    "        dict(text=\"Trace type:\", showarrow=False,\n",
    "                             x=0, y=1.08, yref=\"paper\", align=\"left\")\n",
    "    ]\n",
    ")\n",
    "\n",
    "fig.show()"
   ]
  },
  {
   "cell_type": "code",
   "execution_count": 8,
   "metadata": {},
   "outputs": [
    {
     "data": {
      "application/vnd.plotly.v1+json": {
       "config": {
        "plotlyServerURL": "https://plot.ly"
       },
       "data": [
        {
         "hovertemplate": "<b>%{hovertext}</b><br><br>continent=Asia<br>year=1952<br>gdpPercap=%{x}<br>lifeExp=%{y}<br>pop=%{marker.size}<extra></extra>",
         "hovertext": [
          "Afghanistan",
          "Bahrain",
          "Bangladesh",
          "Cambodia",
          "China",
          "Hong Kong, China",
          "India",
          "Indonesia",
          "Iran",
          "Iraq",
          "Israel",
          "Japan",
          "Jordan",
          "Korea, Dem. Rep.",
          "Korea, Rep.",
          "Kuwait",
          "Lebanon",
          "Malaysia",
          "Mongolia",
          "Myanmar",
          "Nepal",
          "Oman",
          "Pakistan",
          "Philippines",
          "Saudi Arabia",
          "Singapore",
          "Sri Lanka",
          "Syria",
          "Taiwan",
          "Thailand",
          "Vietnam",
          "West Bank and Gaza",
          "Yemen, Rep."
         ],
         "ids": [
          "Afghanistan",
          "Bahrain",
          "Bangladesh",
          "Cambodia",
          "China",
          "Hong Kong, China",
          "India",
          "Indonesia",
          "Iran",
          "Iraq",
          "Israel",
          "Japan",
          "Jordan",
          "Korea, Dem. Rep.",
          "Korea, Rep.",
          "Kuwait",
          "Lebanon",
          "Malaysia",
          "Mongolia",
          "Myanmar",
          "Nepal",
          "Oman",
          "Pakistan",
          "Philippines",
          "Saudi Arabia",
          "Singapore",
          "Sri Lanka",
          "Syria",
          "Taiwan",
          "Thailand",
          "Vietnam",
          "West Bank and Gaza",
          "Yemen, Rep."
         ],
         "legendgroup": "Asia",
         "marker": {
          "color": "#636efa",
          "size": [
           8425333,
           120447,
           46886859,
           4693836,
           556263527,
           2125900,
           372000000,
           82052000,
           17272000,
           5441766,
           1620914,
           86459025,
           607914,
           8865488,
           20947571,
           160000,
           1439529,
           6748378,
           800663,
           20092996,
           9182536,
           507833,
           41346560,
           22438691,
           4005677,
           1127000,
           7982342,
           3661549,
           8550362,
           21289402,
           26246839,
           1030585,
           4963829
          ],
          "sizemode": "area",
          "sizeref": 435928.2961983471,
          "symbol": "circle"
         },
         "mode": "markers",
         "name": "Asia",
         "orientation": "v",
         "showlegend": true,
         "type": "scatter",
         "x": [
          779.4453145,
          9867.084765,
          684.2441716,
          368.4692856,
          400.448611,
          3054.421209,
          546.5657493,
          749.6816546,
          3035.326002,
          4129.766056,
          4086.522128,
          3216.956347,
          1546.907807,
          1088.277758,
          1030.592226,
          108382.3529,
          4834.804067,
          1831.132894,
          786.5668575,
          331,
          545.8657228999998,
          1828.230307,
          684.5971437999998,
          1272.880995,
          6459.554823,
          2315.138227,
          1083.53203,
          1643.485354,
          1206.947913,
          757.7974177,
          605.0664917,
          1515.5923289999996,
          781.7175761
         ],
         "xaxis": "x",
         "y": [
          28.801,
          50.93899999999999,
          37.484,
          39.417,
          44,
          60.96,
          37.37300000000001,
          37.468,
          44.869,
          45.32,
          65.39,
          63.03,
          43.158,
          50.056,
          47.453,
          55.565,
          55.928,
          48.463,
          42.244,
          36.319,
          36.157,
          37.578,
          43.43600000000001,
          47.752,
          39.875,
          60.396,
          57.593,
          45.883,
          58.5,
          50.848,
          40.412,
          43.16,
          32.548
         ],
         "yaxis": "y"
        },
        {
         "hovertemplate": "<b>%{hovertext}</b><br><br>continent=Europe<br>year=1952<br>gdpPercap=%{x}<br>lifeExp=%{y}<br>pop=%{marker.size}<extra></extra>",
         "hovertext": [
          "Albania",
          "Austria",
          "Belgium",
          "Bosnia and Herzegovina",
          "Bulgaria",
          "Croatia",
          "Czech Republic",
          "Denmark",
          "Finland",
          "France",
          "Germany",
          "Greece",
          "Hungary",
          "Iceland",
          "Ireland",
          "Italy",
          "Montenegro",
          "Netherlands",
          "Norway",
          "Poland",
          "Portugal",
          "Romania",
          "Serbia",
          "Slovak Republic",
          "Slovenia",
          "Spain",
          "Sweden",
          "Switzerland",
          "Turkey",
          "United Kingdom"
         ],
         "ids": [
          "Albania",
          "Austria",
          "Belgium",
          "Bosnia and Herzegovina",
          "Bulgaria",
          "Croatia",
          "Czech Republic",
          "Denmark",
          "Finland",
          "France",
          "Germany",
          "Greece",
          "Hungary",
          "Iceland",
          "Ireland",
          "Italy",
          "Montenegro",
          "Netherlands",
          "Norway",
          "Poland",
          "Portugal",
          "Romania",
          "Serbia",
          "Slovak Republic",
          "Slovenia",
          "Spain",
          "Sweden",
          "Switzerland",
          "Turkey",
          "United Kingdom"
         ],
         "legendgroup": "Europe",
         "marker": {
          "color": "#EF553B",
          "size": [
           1282697,
           6927772,
           8730405,
           2791000,
           7274900,
           3882229,
           9125183,
           4334000,
           4090500,
           42459667,
           69145952,
           7733250,
           9504000,
           147962,
           2952156,
           47666000,
           413834,
           10381988,
           3327728,
           25730551,
           8526050,
           16630000,
           6860147,
           3558137,
           1489518,
           28549870,
           7124673,
           4815000,
           22235677,
           50430000
          ],
          "sizemode": "area",
          "sizeref": 435928.2961983471,
          "symbol": "circle"
         },
         "mode": "markers",
         "name": "Europe",
         "orientation": "v",
         "showlegend": true,
         "type": "scatter",
         "x": [
          1601.056136,
          6137.076492,
          8343.105126999999,
          973.5331948,
          2444.286648,
          3119.23652,
          6876.14025,
          9692.385245,
          6424.519071,
          7029.809327,
          7144.114393000002,
          3530.690067,
          5263.673816,
          7267.688428,
          5210.280328,
          4931.404154999998,
          2647.585601,
          8941.571858,
          10095.42172,
          4029.329699,
          3068.319867,
          3144.613186,
          3581.459448,
          5074.659104,
          4215.041741,
          3834.034742,
          8527.844662000001,
          14734.23275,
          1969.10098,
          9979.508487
         ],
         "xaxis": "x",
         "y": [
          55.23,
          66.8,
          68,
          53.82,
          59.6,
          61.21,
          66.87,
          70.78,
          66.55,
          67.41,
          67.5,
          65.86,
          64.03,
          72.49,
          66.91,
          65.94,
          59.164,
          72.13,
          72.67,
          61.31,
          59.82,
          61.05,
          57.996,
          64.36,
          65.57,
          64.94,
          71.86,
          69.62,
          43.585,
          69.18
         ],
         "yaxis": "y"
        },
        {
         "hovertemplate": "<b>%{hovertext}</b><br><br>continent=Africa<br>year=1952<br>gdpPercap=%{x}<br>lifeExp=%{y}<br>pop=%{marker.size}<extra></extra>",
         "hovertext": [
          "Algeria",
          "Angola",
          "Benin",
          "Botswana",
          "Burkina Faso",
          "Burundi",
          "Cameroon",
          "Central African Republic",
          "Chad",
          "Comoros",
          "Congo, Dem. Rep.",
          "Congo, Rep.",
          "Cote d'Ivoire",
          "Djibouti",
          "Egypt",
          "Equatorial Guinea",
          "Eritrea",
          "Ethiopia",
          "Gabon",
          "Gambia",
          "Ghana",
          "Guinea",
          "Guinea-Bissau",
          "Kenya",
          "Lesotho",
          "Liberia",
          "Libya",
          "Madagascar",
          "Malawi",
          "Mali",
          "Mauritania",
          "Mauritius",
          "Morocco",
          "Mozambique",
          "Namibia",
          "Niger",
          "Nigeria",
          "Reunion",
          "Rwanda",
          "Sao Tome and Principe",
          "Senegal",
          "Sierra Leone",
          "Somalia",
          "South Africa",
          "Sudan",
          "Swaziland",
          "Tanzania",
          "Togo",
          "Tunisia",
          "Uganda",
          "Zambia",
          "Zimbabwe"
         ],
         "ids": [
          "Algeria",
          "Angola",
          "Benin",
          "Botswana",
          "Burkina Faso",
          "Burundi",
          "Cameroon",
          "Central African Republic",
          "Chad",
          "Comoros",
          "Congo, Dem. Rep.",
          "Congo, Rep.",
          "Cote d'Ivoire",
          "Djibouti",
          "Egypt",
          "Equatorial Guinea",
          "Eritrea",
          "Ethiopia",
          "Gabon",
          "Gambia",
          "Ghana",
          "Guinea",
          "Guinea-Bissau",
          "Kenya",
          "Lesotho",
          "Liberia",
          "Libya",
          "Madagascar",
          "Malawi",
          "Mali",
          "Mauritania",
          "Mauritius",
          "Morocco",
          "Mozambique",
          "Namibia",
          "Niger",
          "Nigeria",
          "Reunion",
          "Rwanda",
          "Sao Tome and Principe",
          "Senegal",
          "Sierra Leone",
          "Somalia",
          "South Africa",
          "Sudan",
          "Swaziland",
          "Tanzania",
          "Togo",
          "Tunisia",
          "Uganda",
          "Zambia",
          "Zimbabwe"
         ],
         "legendgroup": "Africa",
         "marker": {
          "color": "#00cc96",
          "size": [
           9279525,
           4232095,
           1738315,
           442308,
           4469979,
           2445618,
           5009067,
           1291695,
           2682462,
           153936,
           14100005,
           854885,
           2977019,
           63149,
           22223309,
           216964,
           1438760,
           20860941,
           420702,
           284320,
           5581001,
           2664249,
           580653,
           6464046,
           748747,
           863308,
           1019729,
           4762912,
           2917802,
           3838168,
           1022556,
           516556,
           9939217,
           6446316,
           485831,
           3379468,
           33119096,
           257700,
           2534927,
           60011,
           2755589,
           2143249,
           2526994,
           14264935,
           8504667,
           290243,
           8322925,
           1219113,
           3647735,
           5824797,
           2672000,
           3080907
          ],
          "sizemode": "area",
          "sizeref": 435928.2961983471,
          "symbol": "circle"
         },
         "mode": "markers",
         "name": "Africa",
         "orientation": "v",
         "showlegend": true,
         "type": "scatter",
         "x": [
          2449.008185,
          3520.610273,
          1062.7522,
          851.2411407,
          543.2552413,
          339.2964587,
          1172.667655,
          1071.310713,
          1178.665927,
          1102.990936,
          780.5423257,
          2125.621418,
          1388.594732,
          2669.529475,
          1418.822445,
          375.6431231,
          328.9405571000001,
          362.1462796,
          4293.476475,
          485.2306591,
          911.2989371,
          510.1964923000001,
          299.850319,
          853.5409189999998,
          298.8462121,
          575.5729961000002,
          2387.54806,
          1443.011715,
          369.1650802,
          452.3369807,
          743.1159097,
          1967.955707,
          1688.20357,
          468.5260381,
          2423.780443,
          761.879376,
          1077.281856,
          2718.885295,
          493.3238752,
          879.5835855,
          1450.356983,
          879.7877358,
          1135.749842,
          4725.295531000002,
          1615.991129,
          1148.376626,
          716.6500721,
          859.8086567,
          1468.475631,
          734.753484,
          1147.388831,
          406.8841148
         ],
         "xaxis": "x",
         "y": [
          43.077,
          30.015,
          38.223,
          47.622,
          31.975,
          39.031,
          38.523,
          35.463,
          38.092,
          40.715,
          39.143,
          42.111,
          40.477,
          34.812,
          41.893,
          34.482,
          35.92800000000001,
          34.078,
          37.003,
          30,
          43.149,
          33.609,
          32.5,
          42.27,
          42.13800000000001,
          38.48,
          42.723,
          36.681,
          36.256,
          33.685,
          40.543,
          50.986,
          42.87300000000001,
          31.286,
          41.725,
          37.444,
          36.324,
          52.724,
          40,
          46.471,
          37.278,
          30.331,
          32.978,
          45.00899999999999,
          38.635,
          41.407,
          41.215,
          38.596,
          44.6,
          39.978,
          42.038,
          48.451
         ],
         "yaxis": "y"
        },
        {
         "hovertemplate": "<b>%{hovertext}</b><br><br>continent=Americas<br>year=1952<br>gdpPercap=%{x}<br>lifeExp=%{y}<br>pop=%{marker.size}<extra></extra>",
         "hovertext": [
          "Argentina",
          "Bolivia",
          "Brazil",
          "Canada",
          "Chile",
          "Colombia",
          "Costa Rica",
          "Cuba",
          "Dominican Republic",
          "Ecuador",
          "El Salvador",
          "Guatemala",
          "Haiti",
          "Honduras",
          "Jamaica",
          "Mexico",
          "Nicaragua",
          "Panama",
          "Paraguay",
          "Peru",
          "Puerto Rico",
          "Trinidad and Tobago",
          "United States",
          "Uruguay",
          "Venezuela"
         ],
         "ids": [
          "Argentina",
          "Bolivia",
          "Brazil",
          "Canada",
          "Chile",
          "Colombia",
          "Costa Rica",
          "Cuba",
          "Dominican Republic",
          "Ecuador",
          "El Salvador",
          "Guatemala",
          "Haiti",
          "Honduras",
          "Jamaica",
          "Mexico",
          "Nicaragua",
          "Panama",
          "Paraguay",
          "Peru",
          "Puerto Rico",
          "Trinidad and Tobago",
          "United States",
          "Uruguay",
          "Venezuela"
         ],
         "legendgroup": "Americas",
         "marker": {
          "color": "#ab63fa",
          "size": [
           17876956,
           2883315,
           56602560,
           14785584,
           6377619,
           12350771,
           926317,
           6007797,
           2491346,
           3548753,
           2042865,
           3146381,
           3201488,
           1517453,
           1426095,
           30144317,
           1165790,
           940080,
           1555876,
           8025700,
           2227000,
           662850,
           157553000,
           2252965,
           5439568
          ],
          "sizemode": "area",
          "sizeref": 435928.2961983471,
          "symbol": "circle"
         },
         "mode": "markers",
         "name": "Americas",
         "orientation": "v",
         "showlegend": true,
         "type": "scatter",
         "x": [
          5911.315053,
          2677.326347,
          2108.944355,
          11367.16112,
          3939.978789,
          2144.115096,
          2627.0094710000008,
          5586.53878,
          1397.717137,
          3522.110717,
          3048.3029,
          2428.2377690000008,
          1840.366939,
          2194.926204,
          2898.530881,
          3478.125529,
          3112.363948,
          2480.380334,
          1952.308701,
          3758.523437,
          3081.959785,
          3023.271928,
          13990.482080000002,
          5716.766744,
          7689.799761
         ],
         "xaxis": "x",
         "y": [
          62.485,
          40.414,
          50.917,
          68.75,
          54.745,
          50.643,
          57.206,
          59.42100000000001,
          45.928,
          48.357,
          45.262,
          42.023,
          37.579,
          41.912,
          58.53,
          50.789,
          42.31399999999999,
          55.191,
          62.649,
          43.902,
          64.28,
          59.1,
          68.44,
          66.071,
          55.088
         ],
         "yaxis": "y"
        },
        {
         "hovertemplate": "<b>%{hovertext}</b><br><br>continent=Oceania<br>year=1952<br>gdpPercap=%{x}<br>lifeExp=%{y}<br>pop=%{marker.size}<extra></extra>",
         "hovertext": [
          "Australia",
          "New Zealand"
         ],
         "ids": [
          "Australia",
          "New Zealand"
         ],
         "legendgroup": "Oceania",
         "marker": {
          "color": "#FFA15A",
          "size": [
           8691212,
           1994794
          ],
          "sizemode": "area",
          "sizeref": 435928.2961983471,
          "symbol": "circle"
         },
         "mode": "markers",
         "name": "Oceania",
         "orientation": "v",
         "showlegend": true,
         "type": "scatter",
         "x": [
          10039.59564,
          10556.57566
         ],
         "xaxis": "x",
         "y": [
          69.12,
          69.39
         ],
         "yaxis": "y"
        }
       ],
       "frames": [
        {
         "data": [
          {
           "hovertemplate": "<b>%{hovertext}</b><br><br>continent=Asia<br>year=1952<br>gdpPercap=%{x}<br>lifeExp=%{y}<br>pop=%{marker.size}<extra></extra>",
           "hovertext": [
            "Afghanistan",
            "Bahrain",
            "Bangladesh",
            "Cambodia",
            "China",
            "Hong Kong, China",
            "India",
            "Indonesia",
            "Iran",
            "Iraq",
            "Israel",
            "Japan",
            "Jordan",
            "Korea, Dem. Rep.",
            "Korea, Rep.",
            "Kuwait",
            "Lebanon",
            "Malaysia",
            "Mongolia",
            "Myanmar",
            "Nepal",
            "Oman",
            "Pakistan",
            "Philippines",
            "Saudi Arabia",
            "Singapore",
            "Sri Lanka",
            "Syria",
            "Taiwan",
            "Thailand",
            "Vietnam",
            "West Bank and Gaza",
            "Yemen, Rep."
           ],
           "ids": [
            "Afghanistan",
            "Bahrain",
            "Bangladesh",
            "Cambodia",
            "China",
            "Hong Kong, China",
            "India",
            "Indonesia",
            "Iran",
            "Iraq",
            "Israel",
            "Japan",
            "Jordan",
            "Korea, Dem. Rep.",
            "Korea, Rep.",
            "Kuwait",
            "Lebanon",
            "Malaysia",
            "Mongolia",
            "Myanmar",
            "Nepal",
            "Oman",
            "Pakistan",
            "Philippines",
            "Saudi Arabia",
            "Singapore",
            "Sri Lanka",
            "Syria",
            "Taiwan",
            "Thailand",
            "Vietnam",
            "West Bank and Gaza",
            "Yemen, Rep."
           ],
           "legendgroup": "Asia",
           "marker": {
            "color": "#636efa",
            "size": [
             8425333,
             120447,
             46886859,
             4693836,
             556263527,
             2125900,
             372000000,
             82052000,
             17272000,
             5441766,
             1620914,
             86459025,
             607914,
             8865488,
             20947571,
             160000,
             1439529,
             6748378,
             800663,
             20092996,
             9182536,
             507833,
             41346560,
             22438691,
             4005677,
             1127000,
             7982342,
             3661549,
             8550362,
             21289402,
             26246839,
             1030585,
             4963829
            ],
            "sizemode": "area",
            "sizeref": 435928.2961983471,
            "symbol": "circle"
           },
           "mode": "markers",
           "name": "Asia",
           "orientation": "v",
           "showlegend": true,
           "type": "scatter",
           "x": [
            779.4453145,
            9867.084765,
            684.2441716,
            368.4692856,
            400.448611,
            3054.421209,
            546.5657493,
            749.6816546,
            3035.326002,
            4129.766056,
            4086.522128,
            3216.956347,
            1546.907807,
            1088.277758,
            1030.592226,
            108382.3529,
            4834.804067,
            1831.132894,
            786.5668575,
            331,
            545.8657228999998,
            1828.230307,
            684.5971437999998,
            1272.880995,
            6459.554823,
            2315.138227,
            1083.53203,
            1643.485354,
            1206.947913,
            757.7974177,
            605.0664917,
            1515.5923289999996,
            781.7175761
           ],
           "xaxis": "x",
           "y": [
            28.801,
            50.93899999999999,
            37.484,
            39.417,
            44,
            60.96,
            37.37300000000001,
            37.468,
            44.869,
            45.32,
            65.39,
            63.03,
            43.158,
            50.056,
            47.453,
            55.565,
            55.928,
            48.463,
            42.244,
            36.319,
            36.157,
            37.578,
            43.43600000000001,
            47.752,
            39.875,
            60.396,
            57.593,
            45.883,
            58.5,
            50.848,
            40.412,
            43.16,
            32.548
           ],
           "yaxis": "y"
          },
          {
           "hovertemplate": "<b>%{hovertext}</b><br><br>continent=Europe<br>year=1952<br>gdpPercap=%{x}<br>lifeExp=%{y}<br>pop=%{marker.size}<extra></extra>",
           "hovertext": [
            "Albania",
            "Austria",
            "Belgium",
            "Bosnia and Herzegovina",
            "Bulgaria",
            "Croatia",
            "Czech Republic",
            "Denmark",
            "Finland",
            "France",
            "Germany",
            "Greece",
            "Hungary",
            "Iceland",
            "Ireland",
            "Italy",
            "Montenegro",
            "Netherlands",
            "Norway",
            "Poland",
            "Portugal",
            "Romania",
            "Serbia",
            "Slovak Republic",
            "Slovenia",
            "Spain",
            "Sweden",
            "Switzerland",
            "Turkey",
            "United Kingdom"
           ],
           "ids": [
            "Albania",
            "Austria",
            "Belgium",
            "Bosnia and Herzegovina",
            "Bulgaria",
            "Croatia",
            "Czech Republic",
            "Denmark",
            "Finland",
            "France",
            "Germany",
            "Greece",
            "Hungary",
            "Iceland",
            "Ireland",
            "Italy",
            "Montenegro",
            "Netherlands",
            "Norway",
            "Poland",
            "Portugal",
            "Romania",
            "Serbia",
            "Slovak Republic",
            "Slovenia",
            "Spain",
            "Sweden",
            "Switzerland",
            "Turkey",
            "United Kingdom"
           ],
           "legendgroup": "Europe",
           "marker": {
            "color": "#EF553B",
            "size": [
             1282697,
             6927772,
             8730405,
             2791000,
             7274900,
             3882229,
             9125183,
             4334000,
             4090500,
             42459667,
             69145952,
             7733250,
             9504000,
             147962,
             2952156,
             47666000,
             413834,
             10381988,
             3327728,
             25730551,
             8526050,
             16630000,
             6860147,
             3558137,
             1489518,
             28549870,
             7124673,
             4815000,
             22235677,
             50430000
            ],
            "sizemode": "area",
            "sizeref": 435928.2961983471,
            "symbol": "circle"
           },
           "mode": "markers",
           "name": "Europe",
           "orientation": "v",
           "showlegend": true,
           "type": "scatter",
           "x": [
            1601.056136,
            6137.076492,
            8343.105126999999,
            973.5331948,
            2444.286648,
            3119.23652,
            6876.14025,
            9692.385245,
            6424.519071,
            7029.809327,
            7144.114393000002,
            3530.690067,
            5263.673816,
            7267.688428,
            5210.280328,
            4931.404154999998,
            2647.585601,
            8941.571858,
            10095.42172,
            4029.329699,
            3068.319867,
            3144.613186,
            3581.459448,
            5074.659104,
            4215.041741,
            3834.034742,
            8527.844662000001,
            14734.23275,
            1969.10098,
            9979.508487
           ],
           "xaxis": "x",
           "y": [
            55.23,
            66.8,
            68,
            53.82,
            59.6,
            61.21,
            66.87,
            70.78,
            66.55,
            67.41,
            67.5,
            65.86,
            64.03,
            72.49,
            66.91,
            65.94,
            59.164,
            72.13,
            72.67,
            61.31,
            59.82,
            61.05,
            57.996,
            64.36,
            65.57,
            64.94,
            71.86,
            69.62,
            43.585,
            69.18
           ],
           "yaxis": "y"
          },
          {
           "hovertemplate": "<b>%{hovertext}</b><br><br>continent=Africa<br>year=1952<br>gdpPercap=%{x}<br>lifeExp=%{y}<br>pop=%{marker.size}<extra></extra>",
           "hovertext": [
            "Algeria",
            "Angola",
            "Benin",
            "Botswana",
            "Burkina Faso",
            "Burundi",
            "Cameroon",
            "Central African Republic",
            "Chad",
            "Comoros",
            "Congo, Dem. Rep.",
            "Congo, Rep.",
            "Cote d'Ivoire",
            "Djibouti",
            "Egypt",
            "Equatorial Guinea",
            "Eritrea",
            "Ethiopia",
            "Gabon",
            "Gambia",
            "Ghana",
            "Guinea",
            "Guinea-Bissau",
            "Kenya",
            "Lesotho",
            "Liberia",
            "Libya",
            "Madagascar",
            "Malawi",
            "Mali",
            "Mauritania",
            "Mauritius",
            "Morocco",
            "Mozambique",
            "Namibia",
            "Niger",
            "Nigeria",
            "Reunion",
            "Rwanda",
            "Sao Tome and Principe",
            "Senegal",
            "Sierra Leone",
            "Somalia",
            "South Africa",
            "Sudan",
            "Swaziland",
            "Tanzania",
            "Togo",
            "Tunisia",
            "Uganda",
            "Zambia",
            "Zimbabwe"
           ],
           "ids": [
            "Algeria",
            "Angola",
            "Benin",
            "Botswana",
            "Burkina Faso",
            "Burundi",
            "Cameroon",
            "Central African Republic",
            "Chad",
            "Comoros",
            "Congo, Dem. Rep.",
            "Congo, Rep.",
            "Cote d'Ivoire",
            "Djibouti",
            "Egypt",
            "Equatorial Guinea",
            "Eritrea",
            "Ethiopia",
            "Gabon",
            "Gambia",
            "Ghana",
            "Guinea",
            "Guinea-Bissau",
            "Kenya",
            "Lesotho",
            "Liberia",
            "Libya",
            "Madagascar",
            "Malawi",
            "Mali",
            "Mauritania",
            "Mauritius",
            "Morocco",
            "Mozambique",
            "Namibia",
            "Niger",
            "Nigeria",
            "Reunion",
            "Rwanda",
            "Sao Tome and Principe",
            "Senegal",
            "Sierra Leone",
            "Somalia",
            "South Africa",
            "Sudan",
            "Swaziland",
            "Tanzania",
            "Togo",
            "Tunisia",
            "Uganda",
            "Zambia",
            "Zimbabwe"
           ],
           "legendgroup": "Africa",
           "marker": {
            "color": "#00cc96",
            "size": [
             9279525,
             4232095,
             1738315,
             442308,
             4469979,
             2445618,
             5009067,
             1291695,
             2682462,
             153936,
             14100005,
             854885,
             2977019,
             63149,
             22223309,
             216964,
             1438760,
             20860941,
             420702,
             284320,
             5581001,
             2664249,
             580653,
             6464046,
             748747,
             863308,
             1019729,
             4762912,
             2917802,
             3838168,
             1022556,
             516556,
             9939217,
             6446316,
             485831,
             3379468,
             33119096,
             257700,
             2534927,
             60011,
             2755589,
             2143249,
             2526994,
             14264935,
             8504667,
             290243,
             8322925,
             1219113,
             3647735,
             5824797,
             2672000,
             3080907
            ],
            "sizemode": "area",
            "sizeref": 435928.2961983471,
            "symbol": "circle"
           },
           "mode": "markers",
           "name": "Africa",
           "orientation": "v",
           "showlegend": true,
           "type": "scatter",
           "x": [
            2449.008185,
            3520.610273,
            1062.7522,
            851.2411407,
            543.2552413,
            339.2964587,
            1172.667655,
            1071.310713,
            1178.665927,
            1102.990936,
            780.5423257,
            2125.621418,
            1388.594732,
            2669.529475,
            1418.822445,
            375.6431231,
            328.9405571000001,
            362.1462796,
            4293.476475,
            485.2306591,
            911.2989371,
            510.1964923000001,
            299.850319,
            853.5409189999998,
            298.8462121,
            575.5729961000002,
            2387.54806,
            1443.011715,
            369.1650802,
            452.3369807,
            743.1159097,
            1967.955707,
            1688.20357,
            468.5260381,
            2423.780443,
            761.879376,
            1077.281856,
            2718.885295,
            493.3238752,
            879.5835855,
            1450.356983,
            879.7877358,
            1135.749842,
            4725.295531000002,
            1615.991129,
            1148.376626,
            716.6500721,
            859.8086567,
            1468.475631,
            734.753484,
            1147.388831,
            406.8841148
           ],
           "xaxis": "x",
           "y": [
            43.077,
            30.015,
            38.223,
            47.622,
            31.975,
            39.031,
            38.523,
            35.463,
            38.092,
            40.715,
            39.143,
            42.111,
            40.477,
            34.812,
            41.893,
            34.482,
            35.92800000000001,
            34.078,
            37.003,
            30,
            43.149,
            33.609,
            32.5,
            42.27,
            42.13800000000001,
            38.48,
            42.723,
            36.681,
            36.256,
            33.685,
            40.543,
            50.986,
            42.87300000000001,
            31.286,
            41.725,
            37.444,
            36.324,
            52.724,
            40,
            46.471,
            37.278,
            30.331,
            32.978,
            45.00899999999999,
            38.635,
            41.407,
            41.215,
            38.596,
            44.6,
            39.978,
            42.038,
            48.451
           ],
           "yaxis": "y"
          },
          {
           "hovertemplate": "<b>%{hovertext}</b><br><br>continent=Americas<br>year=1952<br>gdpPercap=%{x}<br>lifeExp=%{y}<br>pop=%{marker.size}<extra></extra>",
           "hovertext": [
            "Argentina",
            "Bolivia",
            "Brazil",
            "Canada",
            "Chile",
            "Colombia",
            "Costa Rica",
            "Cuba",
            "Dominican Republic",
            "Ecuador",
            "El Salvador",
            "Guatemala",
            "Haiti",
            "Honduras",
            "Jamaica",
            "Mexico",
            "Nicaragua",
            "Panama",
            "Paraguay",
            "Peru",
            "Puerto Rico",
            "Trinidad and Tobago",
            "United States",
            "Uruguay",
            "Venezuela"
           ],
           "ids": [
            "Argentina",
            "Bolivia",
            "Brazil",
            "Canada",
            "Chile",
            "Colombia",
            "Costa Rica",
            "Cuba",
            "Dominican Republic",
            "Ecuador",
            "El Salvador",
            "Guatemala",
            "Haiti",
            "Honduras",
            "Jamaica",
            "Mexico",
            "Nicaragua",
            "Panama",
            "Paraguay",
            "Peru",
            "Puerto Rico",
            "Trinidad and Tobago",
            "United States",
            "Uruguay",
            "Venezuela"
           ],
           "legendgroup": "Americas",
           "marker": {
            "color": "#ab63fa",
            "size": [
             17876956,
             2883315,
             56602560,
             14785584,
             6377619,
             12350771,
             926317,
             6007797,
             2491346,
             3548753,
             2042865,
             3146381,
             3201488,
             1517453,
             1426095,
             30144317,
             1165790,
             940080,
             1555876,
             8025700,
             2227000,
             662850,
             157553000,
             2252965,
             5439568
            ],
            "sizemode": "area",
            "sizeref": 435928.2961983471,
            "symbol": "circle"
           },
           "mode": "markers",
           "name": "Americas",
           "orientation": "v",
           "showlegend": true,
           "type": "scatter",
           "x": [
            5911.315053,
            2677.326347,
            2108.944355,
            11367.16112,
            3939.978789,
            2144.115096,
            2627.0094710000008,
            5586.53878,
            1397.717137,
            3522.110717,
            3048.3029,
            2428.2377690000008,
            1840.366939,
            2194.926204,
            2898.530881,
            3478.125529,
            3112.363948,
            2480.380334,
            1952.308701,
            3758.523437,
            3081.959785,
            3023.271928,
            13990.482080000002,
            5716.766744,
            7689.799761
           ],
           "xaxis": "x",
           "y": [
            62.485,
            40.414,
            50.917,
            68.75,
            54.745,
            50.643,
            57.206,
            59.42100000000001,
            45.928,
            48.357,
            45.262,
            42.023,
            37.579,
            41.912,
            58.53,
            50.789,
            42.31399999999999,
            55.191,
            62.649,
            43.902,
            64.28,
            59.1,
            68.44,
            66.071,
            55.088
           ],
           "yaxis": "y"
          },
          {
           "hovertemplate": "<b>%{hovertext}</b><br><br>continent=Oceania<br>year=1952<br>gdpPercap=%{x}<br>lifeExp=%{y}<br>pop=%{marker.size}<extra></extra>",
           "hovertext": [
            "Australia",
            "New Zealand"
           ],
           "ids": [
            "Australia",
            "New Zealand"
           ],
           "legendgroup": "Oceania",
           "marker": {
            "color": "#FFA15A",
            "size": [
             8691212,
             1994794
            ],
            "sizemode": "area",
            "sizeref": 435928.2961983471,
            "symbol": "circle"
           },
           "mode": "markers",
           "name": "Oceania",
           "orientation": "v",
           "showlegend": true,
           "type": "scatter",
           "x": [
            10039.59564,
            10556.57566
           ],
           "xaxis": "x",
           "y": [
            69.12,
            69.39
           ],
           "yaxis": "y"
          }
         ],
         "name": "1952"
        },
        {
         "data": [
          {
           "hovertemplate": "<b>%{hovertext}</b><br><br>continent=Asia<br>year=1957<br>gdpPercap=%{x}<br>lifeExp=%{y}<br>pop=%{marker.size}<extra></extra>",
           "hovertext": [
            "Afghanistan",
            "Bahrain",
            "Bangladesh",
            "Cambodia",
            "China",
            "Hong Kong, China",
            "India",
            "Indonesia",
            "Iran",
            "Iraq",
            "Israel",
            "Japan",
            "Jordan",
            "Korea, Dem. Rep.",
            "Korea, Rep.",
            "Kuwait",
            "Lebanon",
            "Malaysia",
            "Mongolia",
            "Myanmar",
            "Nepal",
            "Oman",
            "Pakistan",
            "Philippines",
            "Saudi Arabia",
            "Singapore",
            "Sri Lanka",
            "Syria",
            "Taiwan",
            "Thailand",
            "Vietnam",
            "West Bank and Gaza",
            "Yemen, Rep."
           ],
           "ids": [
            "Afghanistan",
            "Bahrain",
            "Bangladesh",
            "Cambodia",
            "China",
            "Hong Kong, China",
            "India",
            "Indonesia",
            "Iran",
            "Iraq",
            "Israel",
            "Japan",
            "Jordan",
            "Korea, Dem. Rep.",
            "Korea, Rep.",
            "Kuwait",
            "Lebanon",
            "Malaysia",
            "Mongolia",
            "Myanmar",
            "Nepal",
            "Oman",
            "Pakistan",
            "Philippines",
            "Saudi Arabia",
            "Singapore",
            "Sri Lanka",
            "Syria",
            "Taiwan",
            "Thailand",
            "Vietnam",
            "West Bank and Gaza",
            "Yemen, Rep."
           ],
           "legendgroup": "Asia",
           "marker": {
            "color": "#636efa",
            "size": [
             9240934,
             138655,
             51365468,
             5322536,
             637408000,
             2736300,
             409000000,
             90124000,
             19792000,
             6248643,
             1944401,
             91563009,
             746559,
             9411381,
             22611552,
             212846,
             1647412,
             7739235,
             882134,
             21731844,
             9682338,
             561977,
             46679944,
             26072194,
             4419650,
             1445929,
             9128546,
             4149908,
             10164215,
             25041917,
             28998543,
             1070439,
             5498090
            ],
            "sizemode": "area",
            "sizeref": 435928.2961983471,
            "symbol": "circle"
           },
           "mode": "markers",
           "name": "Asia",
           "orientation": "v",
           "showlegend": true,
           "type": "scatter",
           "x": [
            820.8530296,
            11635.79945,
            661.6374577,
            434.0383364,
            575.9870009,
            3629.076457,
            590.061996,
            858.9002707000002,
            3290.257643,
            6229.333562,
            5385.278451,
            4317.694365,
            1886.080591,
            1571.134655,
            1487.593537,
            113523.1329,
            6089.786934000002,
            1810.0669920000007,
            912.6626085,
            350,
            597.9363557999999,
            2242.746551,
            747.0835292,
            1547.944844,
            8157.5912480000015,
            2843.104409,
            1072.546602,
            2117.234893,
            1507.86129,
            793.5774147999998,
            676.2854477999998,
            1827.067742,
            804.8304547
           ],
           "xaxis": "x",
           "y": [
            30.332,
            53.832,
            39.348,
            41.36600000000001,
            50.54896,
            64.75,
            40.249,
            39.918,
            47.181,
            48.437,
            67.84,
            65.5,
            45.669,
            54.081,
            52.681,
            58.033,
            59.489,
            52.102,
            45.24800000000001,
            41.905,
            37.686,
            40.08,
            45.557,
            51.334,
            42.868,
            63.179,
            61.456,
            48.284,
            62.4,
            53.63,
            42.887,
            45.67100000000001,
            33.97
           ],
           "yaxis": "y"
          },
          {
           "hovertemplate": "<b>%{hovertext}</b><br><br>continent=Europe<br>year=1957<br>gdpPercap=%{x}<br>lifeExp=%{y}<br>pop=%{marker.size}<extra></extra>",
           "hovertext": [
            "Albania",
            "Austria",
            "Belgium",
            "Bosnia and Herzegovina",
            "Bulgaria",
            "Croatia",
            "Czech Republic",
            "Denmark",
            "Finland",
            "France",
            "Germany",
            "Greece",
            "Hungary",
            "Iceland",
            "Ireland",
            "Italy",
            "Montenegro",
            "Netherlands",
            "Norway",
            "Poland",
            "Portugal",
            "Romania",
            "Serbia",
            "Slovak Republic",
            "Slovenia",
            "Spain",
            "Sweden",
            "Switzerland",
            "Turkey",
            "United Kingdom"
           ],
           "ids": [
            "Albania",
            "Austria",
            "Belgium",
            "Bosnia and Herzegovina",
            "Bulgaria",
            "Croatia",
            "Czech Republic",
            "Denmark",
            "Finland",
            "France",
            "Germany",
            "Greece",
            "Hungary",
            "Iceland",
            "Ireland",
            "Italy",
            "Montenegro",
            "Netherlands",
            "Norway",
            "Poland",
            "Portugal",
            "Romania",
            "Serbia",
            "Slovak Republic",
            "Slovenia",
            "Spain",
            "Sweden",
            "Switzerland",
            "Turkey",
            "United Kingdom"
           ],
           "legendgroup": "Europe",
           "marker": {
            "color": "#EF553B",
            "size": [
             1476505,
             6965860,
             8989111,
             3076000,
             7651254,
             3991242,
             9513758,
             4487831,
             4324000,
             44310863,
             71019069,
             8096218,
             9839000,
             165110,
             2878220,
             49182000,
             442829,
             11026383,
             3491938,
             28235346,
             8817650,
             17829327,
             7271135,
             3844277,
             1533070,
             29841614,
             7363802,
             5126000,
             25670939,
             51430000
            ],
            "sizemode": "area",
            "sizeref": 435928.2961983471,
            "symbol": "circle"
           },
           "mode": "markers",
           "name": "Europe",
           "orientation": "v",
           "showlegend": true,
           "type": "scatter",
           "x": [
            1942.284244,
            8842.59803,
            9714.960623,
            1353.989176,
            3008.670727,
            4338.231617,
            8256.343918,
            11099.65935,
            7545.415386,
            8662.834898000001,
            10187.82665,
            4916.299889,
            6040.180011,
            9244.001412,
            5599.077872,
            6248.656232,
            3682.259903,
            11276.19344,
            11653.97304,
            4734.253019,
            3774.571743,
            3943.370225,
            4981.090891,
            6093.26298,
            5862.276629,
            4564.80241,
            9911.878226,
            17909.48973,
            2218.754257,
            11283.17795
           ],
           "xaxis": "x",
           "y": [
            59.28,
            67.48,
            69.24,
            58.45,
            66.61,
            64.77,
            69.03,
            71.81,
            67.49,
            68.93,
            69.1,
            67.86,
            66.41,
            73.47,
            68.9,
            67.81,
            61.448,
            72.99,
            73.44,
            65.77,
            61.51,
            64.1,
            61.685,
            67.45,
            67.85,
            66.66,
            72.49,
            70.56,
            48.07899999999999,
            70.42
           ],
           "yaxis": "y"
          },
          {
           "hovertemplate": "<b>%{hovertext}</b><br><br>continent=Africa<br>year=1957<br>gdpPercap=%{x}<br>lifeExp=%{y}<br>pop=%{marker.size}<extra></extra>",
           "hovertext": [
            "Algeria",
            "Angola",
            "Benin",
            "Botswana",
            "Burkina Faso",
            "Burundi",
            "Cameroon",
            "Central African Republic",
            "Chad",
            "Comoros",
            "Congo, Dem. Rep.",
            "Congo, Rep.",
            "Cote d'Ivoire",
            "Djibouti",
            "Egypt",
            "Equatorial Guinea",
            "Eritrea",
            "Ethiopia",
            "Gabon",
            "Gambia",
            "Ghana",
            "Guinea",
            "Guinea-Bissau",
            "Kenya",
            "Lesotho",
            "Liberia",
            "Libya",
            "Madagascar",
            "Malawi",
            "Mali",
            "Mauritania",
            "Mauritius",
            "Morocco",
            "Mozambique",
            "Namibia",
            "Niger",
            "Nigeria",
            "Reunion",
            "Rwanda",
            "Sao Tome and Principe",
            "Senegal",
            "Sierra Leone",
            "Somalia",
            "South Africa",
            "Sudan",
            "Swaziland",
            "Tanzania",
            "Togo",
            "Tunisia",
            "Uganda",
            "Zambia",
            "Zimbabwe"
           ],
           "ids": [
            "Algeria",
            "Angola",
            "Benin",
            "Botswana",
            "Burkina Faso",
            "Burundi",
            "Cameroon",
            "Central African Republic",
            "Chad",
            "Comoros",
            "Congo, Dem. Rep.",
            "Congo, Rep.",
            "Cote d'Ivoire",
            "Djibouti",
            "Egypt",
            "Equatorial Guinea",
            "Eritrea",
            "Ethiopia",
            "Gabon",
            "Gambia",
            "Ghana",
            "Guinea",
            "Guinea-Bissau",
            "Kenya",
            "Lesotho",
            "Liberia",
            "Libya",
            "Madagascar",
            "Malawi",
            "Mali",
            "Mauritania",
            "Mauritius",
            "Morocco",
            "Mozambique",
            "Namibia",
            "Niger",
            "Nigeria",
            "Reunion",
            "Rwanda",
            "Sao Tome and Principe",
            "Senegal",
            "Sierra Leone",
            "Somalia",
            "South Africa",
            "Sudan",
            "Swaziland",
            "Tanzania",
            "Togo",
            "Tunisia",
            "Uganda",
            "Zambia",
            "Zimbabwe"
           ],
           "legendgroup": "Africa",
           "marker": {
            "color": "#00cc96",
            "size": [
             10270856,
             4561361,
             1925173,
             474639,
             4713416,
             2667518,
             5359923,
             1392284,
             2894855,
             170928,
             15577932,
             940458,
             3300000,
             71851,
             25009741,
             232922,
             1542611,
             22815614,
             434904,
             323150,
             6391288,
             2876726,
             601095,
             7454779,
             813338,
             975950,
             1201578,
             5181679,
             3221238,
             4241884,
             1076852,
             609816,
             11406350,
             7038035,
             548080,
             3692184,
             37173340,
             308700,
             2822082,
             61325,
             3054547,
             2295678,
             2780415,
             16151549,
             9753392,
             326741,
             9452826,
             1357445,
             3950849,
             6675501,
             3016000,
             3646340
            ],
            "sizemode": "area",
            "sizeref": 435928.2961983471,
            "symbol": "circle"
           },
           "mode": "markers",
           "name": "Africa",
           "orientation": "v",
           "showlegend": true,
           "type": "scatter",
           "x": [
            3013.976023,
            3827.940465,
            959.6010805,
            918.2325349,
            617.1834647999998,
            379.5646281000001,
            1313.048099,
            1190.844328,
            1308.495577,
            1211.148548,
            905.8602303,
            2315.056572,
            1500.895925,
            2864.9690760000008,
            1458.915272,
            426.0964081,
            344.1618859,
            378.9041632,
            4976.198099,
            520.9267111,
            1043.5615369999996,
            576.2670245,
            431.79045660000014,
            944.4383152,
            335.9971151000001,
            620.9699901,
            3448.284395,
            1589.20275,
            416.3698064,
            490.3821867,
            846.1202613,
            2034.037981,
            1642.002314,
            495.58683330000014,
            2621.448058,
            835.5234025000002,
            1100.5925630000004,
            2769.451844,
            540.2893982999999,
            860.7369026,
            1567.653006,
            1004.484437,
            1258.147413,
            5487.104219,
            1770.3370739999998,
            1244.708364,
            698.5356073,
            925.9083202,
            1395.232468,
            774.3710692000002,
            1311.956766,
            518.7642681
           ],
           "xaxis": "x",
           "y": [
            45.685,
            31.999,
            40.358,
            49.618,
            34.906,
            40.533,
            40.428,
            37.464,
            39.881,
            42.46,
            40.652,
            45.053,
            42.469,
            37.328,
            44.444,
            35.98300000000001,
            38.047,
            36.667,
            38.999,
            32.065,
            44.779,
            34.558,
            33.489000000000004,
            44.68600000000001,
            45.047,
            39.486,
            45.289,
            38.865,
            37.207,
            35.30699999999999,
            42.338,
            58.089,
            45.423,
            33.779,
            45.226000000000006,
            38.598,
            37.802,
            55.09,
            41.5,
            48.945,
            39.329,
            31.57,
            34.977,
            47.985,
            39.624,
            43.424,
            42.974,
            41.208,
            47.1,
            42.57100000000001,
            44.077,
            50.469
           ],
           "yaxis": "y"
          },
          {
           "hovertemplate": "<b>%{hovertext}</b><br><br>continent=Americas<br>year=1957<br>gdpPercap=%{x}<br>lifeExp=%{y}<br>pop=%{marker.size}<extra></extra>",
           "hovertext": [
            "Argentina",
            "Bolivia",
            "Brazil",
            "Canada",
            "Chile",
            "Colombia",
            "Costa Rica",
            "Cuba",
            "Dominican Republic",
            "Ecuador",
            "El Salvador",
            "Guatemala",
            "Haiti",
            "Honduras",
            "Jamaica",
            "Mexico",
            "Nicaragua",
            "Panama",
            "Paraguay",
            "Peru",
            "Puerto Rico",
            "Trinidad and Tobago",
            "United States",
            "Uruguay",
            "Venezuela"
           ],
           "ids": [
            "Argentina",
            "Bolivia",
            "Brazil",
            "Canada",
            "Chile",
            "Colombia",
            "Costa Rica",
            "Cuba",
            "Dominican Republic",
            "Ecuador",
            "El Salvador",
            "Guatemala",
            "Haiti",
            "Honduras",
            "Jamaica",
            "Mexico",
            "Nicaragua",
            "Panama",
            "Paraguay",
            "Peru",
            "Puerto Rico",
            "Trinidad and Tobago",
            "United States",
            "Uruguay",
            "Venezuela"
           ],
           "legendgroup": "Americas",
           "marker": {
            "color": "#ab63fa",
            "size": [
             19610538,
             3211738,
             65551171,
             17010154,
             7048426,
             14485993,
             1112300,
             6640752,
             2923186,
             4058385,
             2355805,
             3640876,
             3507701,
             1770390,
             1535090,
             35015548,
             1358828,
             1063506,
             1770902,
             9146100,
             2260000,
             764900,
             171984000,
             2424959,
             6702668
            ],
            "sizemode": "area",
            "sizeref": 435928.2961983471,
            "symbol": "circle"
           },
           "mode": "markers",
           "name": "Americas",
           "orientation": "v",
           "showlegend": true,
           "type": "scatter",
           "x": [
            6856.8562120000015,
            2127.686326,
            2487.365989,
            12489.95006,
            4315.622723,
            2323.805581,
            2990.010802,
            6092.1743590000015,
            1544.402995,
            3780.546651,
            3421.523218,
            2617.155967,
            1726.887882,
            2220.487682,
            4756.525781,
            4131.546641,
            3457.415947,
            2961.800905,
            2046.154706,
            4245.256697999999,
            3907.156189,
            4100.3934,
            14847.12712,
            6150.772969,
            9802.466526
           ],
           "xaxis": "x",
           "y": [
            64.399,
            41.89,
            53.285,
            69.96,
            56.074,
            55.118,
            60.026,
            62.325,
            49.828,
            51.356,
            48.57,
            44.142,
            40.696,
            44.665,
            62.61,
            55.19,
            45.432,
            59.201,
            63.19600000000001,
            46.26300000000001,
            68.54,
            61.8,
            69.49,
            67.044,
            57.907
           ],
           "yaxis": "y"
          },
          {
           "hovertemplate": "<b>%{hovertext}</b><br><br>continent=Oceania<br>year=1957<br>gdpPercap=%{x}<br>lifeExp=%{y}<br>pop=%{marker.size}<extra></extra>",
           "hovertext": [
            "Australia",
            "New Zealand"
           ],
           "ids": [
            "Australia",
            "New Zealand"
           ],
           "legendgroup": "Oceania",
           "marker": {
            "color": "#FFA15A",
            "size": [
             9712569,
             2229407
            ],
            "sizemode": "area",
            "sizeref": 435928.2961983471,
            "symbol": "circle"
           },
           "mode": "markers",
           "name": "Oceania",
           "orientation": "v",
           "showlegend": true,
           "type": "scatter",
           "x": [
            10949.64959,
            12247.39532
           ],
           "xaxis": "x",
           "y": [
            70.33,
            70.26
           ],
           "yaxis": "y"
          }
         ],
         "name": "1957"
        },
        {
         "data": [
          {
           "hovertemplate": "<b>%{hovertext}</b><br><br>continent=Asia<br>year=1962<br>gdpPercap=%{x}<br>lifeExp=%{y}<br>pop=%{marker.size}<extra></extra>",
           "hovertext": [
            "Afghanistan",
            "Bahrain",
            "Bangladesh",
            "Cambodia",
            "China",
            "Hong Kong, China",
            "India",
            "Indonesia",
            "Iran",
            "Iraq",
            "Israel",
            "Japan",
            "Jordan",
            "Korea, Dem. Rep.",
            "Korea, Rep.",
            "Kuwait",
            "Lebanon",
            "Malaysia",
            "Mongolia",
            "Myanmar",
            "Nepal",
            "Oman",
            "Pakistan",
            "Philippines",
            "Saudi Arabia",
            "Singapore",
            "Sri Lanka",
            "Syria",
            "Taiwan",
            "Thailand",
            "Vietnam",
            "West Bank and Gaza",
            "Yemen, Rep."
           ],
           "ids": [
            "Afghanistan",
            "Bahrain",
            "Bangladesh",
            "Cambodia",
            "China",
            "Hong Kong, China",
            "India",
            "Indonesia",
            "Iran",
            "Iraq",
            "Israel",
            "Japan",
            "Jordan",
            "Korea, Dem. Rep.",
            "Korea, Rep.",
            "Kuwait",
            "Lebanon",
            "Malaysia",
            "Mongolia",
            "Myanmar",
            "Nepal",
            "Oman",
            "Pakistan",
            "Philippines",
            "Saudi Arabia",
            "Singapore",
            "Sri Lanka",
            "Syria",
            "Taiwan",
            "Thailand",
            "Vietnam",
            "West Bank and Gaza",
            "Yemen, Rep."
           ],
           "legendgroup": "Asia",
           "marker": {
            "color": "#636efa",
            "size": [
             10267083,
             171863,
             56839289,
             6083619,
             665770000,
             3305200,
             454000000,
             99028000,
             22874000,
             7240260,
             2310904,
             95831757,
             933559,
             10917494,
             26420307,
             358266,
             1886848,
             8906385,
             1010280,
             23634436,
             10332057,
             628164,
             53100671,
             30325264,
             4943029,
             1750200,
             10421936,
             4834621,
             11918938,
             29263397,
             33796140,
             1133134,
             6120081
            ],
            "sizemode": "area",
            "sizeref": 435928.2961983471,
            "symbol": "circle"
           },
           "mode": "markers",
           "name": "Asia",
           "orientation": "v",
           "showlegend": true,
           "type": "scatter",
           "x": [
            853.1007099999998,
            12753.27514,
            686.3415537999998,
            496.9136476,
            487.6740183,
            4692.648271999999,
            658.3471509,
            849.2897700999998,
            4187.329802,
            8341.737815,
            7105.630706,
            6576.649461,
            2348.009158,
            1621.693598,
            1536.344387,
            95458.11176,
            5714.560611,
            2036.884944,
            1056.353958,
            388,
            652.3968593,
            2924.638113,
            803.3427418,
            1649.552153,
            11626.41975,
            3674.735572,
            1074.47196,
            2193.037133,
            1822.879028,
            1002.199172,
            772.0491602000002,
            2198.9563120000007,
            825.6232006
           ],
           "xaxis": "x",
           "y": [
            31.997,
            56.923,
            41.216,
            43.415,
            44.50136,
            67.65,
            43.605,
            42.518,
            49.325,
            51.457,
            69.39,
            68.73,
            48.12600000000001,
            56.65600000000001,
            55.292,
            60.47,
            62.094,
            55.737,
            48.25100000000001,
            45.108,
            39.393,
            43.165,
            47.67,
            54.757,
            45.914,
            65.798,
            62.192,
            50.305,
            65.2,
            56.06100000000001,
            45.363,
            48.127,
            35.18
           ],
           "yaxis": "y"
          },
          {
           "hovertemplate": "<b>%{hovertext}</b><br><br>continent=Europe<br>year=1962<br>gdpPercap=%{x}<br>lifeExp=%{y}<br>pop=%{marker.size}<extra></extra>",
           "hovertext": [
            "Albania",
            "Austria",
            "Belgium",
            "Bosnia and Herzegovina",
            "Bulgaria",
            "Croatia",
            "Czech Republic",
            "Denmark",
            "Finland",
            "France",
            "Germany",
            "Greece",
            "Hungary",
            "Iceland",
            "Ireland",
            "Italy",
            "Montenegro",
            "Netherlands",
            "Norway",
            "Poland",
            "Portugal",
            "Romania",
            "Serbia",
            "Slovak Republic",
            "Slovenia",
            "Spain",
            "Sweden",
            "Switzerland",
            "Turkey",
            "United Kingdom"
           ],
           "ids": [
            "Albania",
            "Austria",
            "Belgium",
            "Bosnia and Herzegovina",
            "Bulgaria",
            "Croatia",
            "Czech Republic",
            "Denmark",
            "Finland",
            "France",
            "Germany",
            "Greece",
            "Hungary",
            "Iceland",
            "Ireland",
            "Italy",
            "Montenegro",
            "Netherlands",
            "Norway",
            "Poland",
            "Portugal",
            "Romania",
            "Serbia",
            "Slovak Republic",
            "Slovenia",
            "Spain",
            "Sweden",
            "Switzerland",
            "Turkey",
            "United Kingdom"
           ],
           "legendgroup": "Europe",
           "marker": {
            "color": "#EF553B",
            "size": [
             1728137,
             7129864,
             9218400,
             3349000,
             8012946,
             4076557,
             9620282,
             4646899,
             4491443,
             47124000,
             73739117,
             8448233,
             10063000,
             182053,
             2830000,
             50843200,
             474528,
             11805689,
             3638919,
             30329617,
             9019800,
             18680721,
             7616060,
             4237384,
             1582962,
             31158061,
             7561588,
             5666000,
             29788695,
             53292000
            ],
            "sizemode": "area",
            "sizeref": 435928.2961983471,
            "symbol": "circle"
           },
           "mode": "markers",
           "name": "Europe",
           "orientation": "v",
           "showlegend": true,
           "type": "scatter",
           "x": [
            2312.888958,
            10750.72111,
            10991.20676,
            1709.683679,
            4254.337839,
            5477.890018,
            10136.86713,
            13583.31351,
            9371.842561,
            10560.48553,
            12902.46291,
            6017.190732999999,
            7550.359877,
            10350.15906,
            6631.597314,
            8243.58234,
            4649.593785,
            12790.84956,
            13450.40151,
            5338.752143,
            4727.954889,
            4734.997586,
            6289.629157,
            7481.107598,
            7402.303395,
            5693.843879,
            12329.44192,
            20431.0927,
            2322.869908,
            12477.17707
           ],
           "xaxis": "x",
           "y": [
            64.82,
            69.54,
            70.25,
            61.93,
            69.51,
            67.13,
            69.9,
            72.35,
            68.75,
            70.51,
            70.3,
            69.51,
            67.96,
            73.68,
            70.29,
            69.24,
            63.728,
            73.23,
            73.47,
            67.64,
            64.39,
            66.8,
            64.531,
            70.33,
            69.15,
            69.69,
            73.37,
            71.32,
            52.098,
            70.76
           ],
           "yaxis": "y"
          },
          {
           "hovertemplate": "<b>%{hovertext}</b><br><br>continent=Africa<br>year=1962<br>gdpPercap=%{x}<br>lifeExp=%{y}<br>pop=%{marker.size}<extra></extra>",
           "hovertext": [
            "Algeria",
            "Angola",
            "Benin",
            "Botswana",
            "Burkina Faso",
            "Burundi",
            "Cameroon",
            "Central African Republic",
            "Chad",
            "Comoros",
            "Congo, Dem. Rep.",
            "Congo, Rep.",
            "Cote d'Ivoire",
            "Djibouti",
            "Egypt",
            "Equatorial Guinea",
            "Eritrea",
            "Ethiopia",
            "Gabon",
            "Gambia",
            "Ghana",
            "Guinea",
            "Guinea-Bissau",
            "Kenya",
            "Lesotho",
            "Liberia",
            "Libya",
            "Madagascar",
            "Malawi",
            "Mali",
            "Mauritania",
            "Mauritius",
            "Morocco",
            "Mozambique",
            "Namibia",
            "Niger",
            "Nigeria",
            "Reunion",
            "Rwanda",
            "Sao Tome and Principe",
            "Senegal",
            "Sierra Leone",
            "Somalia",
            "South Africa",
            "Sudan",
            "Swaziland",
            "Tanzania",
            "Togo",
            "Tunisia",
            "Uganda",
            "Zambia",
            "Zimbabwe"
           ],
           "ids": [
            "Algeria",
            "Angola",
            "Benin",
            "Botswana",
            "Burkina Faso",
            "Burundi",
            "Cameroon",
            "Central African Republic",
            "Chad",
            "Comoros",
            "Congo, Dem. Rep.",
            "Congo, Rep.",
            "Cote d'Ivoire",
            "Djibouti",
            "Egypt",
            "Equatorial Guinea",
            "Eritrea",
            "Ethiopia",
            "Gabon",
            "Gambia",
            "Ghana",
            "Guinea",
            "Guinea-Bissau",
            "Kenya",
            "Lesotho",
            "Liberia",
            "Libya",
            "Madagascar",
            "Malawi",
            "Mali",
            "Mauritania",
            "Mauritius",
            "Morocco",
            "Mozambique",
            "Namibia",
            "Niger",
            "Nigeria",
            "Reunion",
            "Rwanda",
            "Sao Tome and Principe",
            "Senegal",
            "Sierra Leone",
            "Somalia",
            "South Africa",
            "Sudan",
            "Swaziland",
            "Tanzania",
            "Togo",
            "Tunisia",
            "Uganda",
            "Zambia",
            "Zimbabwe"
           ],
           "legendgroup": "Africa",
           "marker": {
            "color": "#00cc96",
            "size": [
             11000948,
             4826015,
             2151895,
             512764,
             4919632,
             2961915,
             5793633,
             1523478,
             3150417,
             191689,
             17486434,
             1047924,
             3832408,
             89898,
             28173309,
             249220,
             1666618,
             25145372,
             455661,
             374020,
             7355248,
             3140003,
             627820,
             8678557,
             893143,
             1112796,
             1441863,
             5703324,
             3628608,
             4690372,
             1146757,
             701016,
             13056604,
             7788944,
             621392,
             4076008,
             41871351,
             358900,
             3051242,
             65345,
             3430243,
             2467895,
             3080153,
             18356657,
             11183227,
             370006,
             10863958,
             1528098,
             4286552,
             7688797,
             3421000,
             4277736
            ],
            "sizemode": "area",
            "sizeref": 435928.2961983471,
            "symbol": "circle"
           },
           "mode": "markers",
           "name": "Africa",
           "orientation": "v",
           "showlegend": true,
           "type": "scatter",
           "x": [
            2550.81688,
            4269.276742,
            949.4990641,
            983.6539764,
            722.5120206,
            355.2032273,
            1399.607441,
            1193.068753,
            1389.817618,
            1406.648278,
            896.3146335000001,
            2464.783157,
            1728.8694280000002,
            3020.989263,
            1693.335853,
            582.8419713999998,
            380.9958433000001,
            419.4564161,
            6631.459222,
            599.650276,
            1190.041118,
            686.3736739,
            522.0343725,
            896.9663732,
            411.8006266,
            634.1951625,
            6757.030816,
            1643.38711,
            427.9010856,
            496.1743428,
            1055.896036,
            2529.0674870000007,
            1566.353493,
            556.6863539,
            3173.215595,
            997.7661127,
            1150.9274779999996,
            3173.72334,
            597.4730727000001,
            1071.551119,
            1654.988723,
            1116.6398769999996,
            1369.488336,
            5768.729717,
            1959.593767,
            1856.182125,
            722.0038073,
            1067.53481,
            1660.30321,
            767.2717397999999,
            1452.725766,
            527.2721818
           ],
           "xaxis": "x",
           "y": [
            48.303,
            34,
            42.618,
            51.52,
            37.814,
            42.045,
            42.643,
            39.475,
            41.716,
            44.467,
            42.122,
            48.435,
            44.93,
            39.69300000000001,
            46.992,
            37.485,
            40.158,
            40.059,
            40.489,
            33.896,
            46.452,
            35.753,
            34.488,
            47.949,
            47.747,
            40.502,
            47.808,
            40.848,
            38.41,
            36.936,
            44.24800000000001,
            60.246,
            47.924,
            36.161,
            48.386,
            39.487,
            39.36,
            57.666,
            43,
            51.893,
            41.45399999999999,
            32.767,
            36.981,
            49.951,
            40.87,
            44.992,
            44.246,
            43.922,
            49.57899999999999,
            45.344,
            46.023,
            52.358
           ],
           "yaxis": "y"
          },
          {
           "hovertemplate": "<b>%{hovertext}</b><br><br>continent=Americas<br>year=1962<br>gdpPercap=%{x}<br>lifeExp=%{y}<br>pop=%{marker.size}<extra></extra>",
           "hovertext": [
            "Argentina",
            "Bolivia",
            "Brazil",
            "Canada",
            "Chile",
            "Colombia",
            "Costa Rica",
            "Cuba",
            "Dominican Republic",
            "Ecuador",
            "El Salvador",
            "Guatemala",
            "Haiti",
            "Honduras",
            "Jamaica",
            "Mexico",
            "Nicaragua",
            "Panama",
            "Paraguay",
            "Peru",
            "Puerto Rico",
            "Trinidad and Tobago",
            "United States",
            "Uruguay",
            "Venezuela"
           ],
           "ids": [
            "Argentina",
            "Bolivia",
            "Brazil",
            "Canada",
            "Chile",
            "Colombia",
            "Costa Rica",
            "Cuba",
            "Dominican Republic",
            "Ecuador",
            "El Salvador",
            "Guatemala",
            "Haiti",
            "Honduras",
            "Jamaica",
            "Mexico",
            "Nicaragua",
            "Panama",
            "Paraguay",
            "Peru",
            "Puerto Rico",
            "Trinidad and Tobago",
            "United States",
            "Uruguay",
            "Venezuela"
           ],
           "legendgroup": "Americas",
           "marker": {
            "color": "#ab63fa",
            "size": [
             21283783,
             3593918,
             76039390,
             18985849,
             7961258,
             17009885,
             1345187,
             7254373,
             3453434,
             4681707,
             2747687,
             4208858,
             3880130,
             2090162,
             1665128,
             41121485,
             1590597,
             1215725,
             2009813,
             10516500,
             2448046,
             887498,
             186538000,
             2598466,
             8143375
            ],
            "sizemode": "area",
            "sizeref": 435928.2961983471,
            "symbol": "circle"
           },
           "mode": "markers",
           "name": "Americas",
           "orientation": "v",
           "showlegend": true,
           "type": "scatter",
           "x": [
            7133.166023000002,
            2180.972546,
            3336.585802,
            13462.48555,
            4519.094331,
            2492.351109,
            3460.937025,
            5180.75591,
            1662.137359,
            4086.114078,
            3776.803627,
            2750.364446,
            1796.589032,
            2291.156835,
            5246.107524,
            4581.609385,
            3634.364406,
            3536.540301,
            2148.027146,
            4957.037982,
            5108.34463,
            4997.523971000001,
            16173.14586,
            5603.357717,
            8422.974165000001
           ],
           "xaxis": "x",
           "y": [
            65.142,
            43.428,
            55.665,
            71.3,
            57.924,
            57.863,
            62.842,
            65.24600000000001,
            53.459,
            54.64,
            52.307,
            46.95399999999999,
            43.59,
            48.041,
            65.61,
            58.299,
            48.632,
            61.817,
            64.361,
            49.096,
            69.62,
            64.9,
            70.21,
            68.253,
            60.77
           ],
           "yaxis": "y"
          },
          {
           "hovertemplate": "<b>%{hovertext}</b><br><br>continent=Oceania<br>year=1962<br>gdpPercap=%{x}<br>lifeExp=%{y}<br>pop=%{marker.size}<extra></extra>",
           "hovertext": [
            "Australia",
            "New Zealand"
           ],
           "ids": [
            "Australia",
            "New Zealand"
           ],
           "legendgroup": "Oceania",
           "marker": {
            "color": "#FFA15A",
            "size": [
             10794968,
             2488550
            ],
            "sizemode": "area",
            "sizeref": 435928.2961983471,
            "symbol": "circle"
           },
           "mode": "markers",
           "name": "Oceania",
           "orientation": "v",
           "showlegend": true,
           "type": "scatter",
           "x": [
            12217.22686,
            13175.678
           ],
           "xaxis": "x",
           "y": [
            70.93,
            71.24
           ],
           "yaxis": "y"
          }
         ],
         "name": "1962"
        },
        {
         "data": [
          {
           "hovertemplate": "<b>%{hovertext}</b><br><br>continent=Asia<br>year=1967<br>gdpPercap=%{x}<br>lifeExp=%{y}<br>pop=%{marker.size}<extra></extra>",
           "hovertext": [
            "Afghanistan",
            "Bahrain",
            "Bangladesh",
            "Cambodia",
            "China",
            "Hong Kong, China",
            "India",
            "Indonesia",
            "Iran",
            "Iraq",
            "Israel",
            "Japan",
            "Jordan",
            "Korea, Dem. Rep.",
            "Korea, Rep.",
            "Kuwait",
            "Lebanon",
            "Malaysia",
            "Mongolia",
            "Myanmar",
            "Nepal",
            "Oman",
            "Pakistan",
            "Philippines",
            "Saudi Arabia",
            "Singapore",
            "Sri Lanka",
            "Syria",
            "Taiwan",
            "Thailand",
            "Vietnam",
            "West Bank and Gaza",
            "Yemen, Rep."
           ],
           "ids": [
            "Afghanistan",
            "Bahrain",
            "Bangladesh",
            "Cambodia",
            "China",
            "Hong Kong, China",
            "India",
            "Indonesia",
            "Iran",
            "Iraq",
            "Israel",
            "Japan",
            "Jordan",
            "Korea, Dem. Rep.",
            "Korea, Rep.",
            "Kuwait",
            "Lebanon",
            "Malaysia",
            "Mongolia",
            "Myanmar",
            "Nepal",
            "Oman",
            "Pakistan",
            "Philippines",
            "Saudi Arabia",
            "Singapore",
            "Sri Lanka",
            "Syria",
            "Taiwan",
            "Thailand",
            "Vietnam",
            "West Bank and Gaza",
            "Yemen, Rep."
           ],
           "legendgroup": "Asia",
           "marker": {
            "color": "#636efa",
            "size": [
             11537966,
             202182,
             62821884,
             6960067,
             754550000,
             3722800,
             506000000,
             109343000,
             26538000,
             8519282,
             2693585,
             100825279,
             1255058,
             12617009,
             30131000,
             575003,
             2186894,
             10154878,
             1149500,
             25870271,
             11261690,
             714775,
             60641899,
             35356600,
             5618198,
             1977600,
             11737396,
             5680812,
             13648692,
             34024249,
             39463910,
             1142636,
             6740785
            ],
            "sizemode": "area",
            "sizeref": 435928.2961983471,
            "symbol": "circle"
           },
           "mode": "markers",
           "name": "Asia",
           "orientation": "v",
           "showlegend": true,
           "type": "scatter",
           "x": [
            836.1971382,
            14804.6727,
            721.1860862000002,
            523.4323142,
            612.7056934,
            6197.962814,
            700.7706107000001,
            762.4317721,
            5906.731804999999,
            8931.459811,
            8393.741404,
            9847.788607,
            2741.796252,
            2143.540609,
            2029.228142,
            80894.88326,
            6006.983042,
            2277.742396,
            1226.04113,
            349,
            676.4422254,
            4720.942687,
            942.4082588,
            1814.12743,
            16903.04886,
            4977.41854,
            1135.514326,
            1881.923632,
            2643.858681,
            1295.46066,
            637.1232887,
            2649.715007,
            862.4421463
           ],
           "xaxis": "x",
           "y": [
            34.02,
            59.923,
            43.453,
            45.415,
            58.38112,
            70,
            47.19300000000001,
            45.964,
            52.469,
            54.459,
            70.75,
            71.43,
            51.629,
            59.942,
            57.716,
            64.624,
            63.87,
            59.371,
            51.253,
            49.379,
            41.472,
            46.988,
            49.8,
            56.393,
            49.901,
            67.946,
            64.266,
            53.655,
            67.5,
            58.285,
            47.838,
            51.631,
            36.984
           ],
           "yaxis": "y"
          },
          {
           "hovertemplate": "<b>%{hovertext}</b><br><br>continent=Europe<br>year=1967<br>gdpPercap=%{x}<br>lifeExp=%{y}<br>pop=%{marker.size}<extra></extra>",
           "hovertext": [
            "Albania",
            "Austria",
            "Belgium",
            "Bosnia and Herzegovina",
            "Bulgaria",
            "Croatia",
            "Czech Republic",
            "Denmark",
            "Finland",
            "France",
            "Germany",
            "Greece",
            "Hungary",
            "Iceland",
            "Ireland",
            "Italy",
            "Montenegro",
            "Netherlands",
            "Norway",
            "Poland",
            "Portugal",
            "Romania",
            "Serbia",
            "Slovak Republic",
            "Slovenia",
            "Spain",
            "Sweden",
            "Switzerland",
            "Turkey",
            "United Kingdom"
           ],
           "ids": [
            "Albania",
            "Austria",
            "Belgium",
            "Bosnia and Herzegovina",
            "Bulgaria",
            "Croatia",
            "Czech Republic",
            "Denmark",
            "Finland",
            "France",
            "Germany",
            "Greece",
            "Hungary",
            "Iceland",
            "Ireland",
            "Italy",
            "Montenegro",
            "Netherlands",
            "Norway",
            "Poland",
            "Portugal",
            "Romania",
            "Serbia",
            "Slovak Republic",
            "Slovenia",
            "Spain",
            "Sweden",
            "Switzerland",
            "Turkey",
            "United Kingdom"
           ],
           "legendgroup": "Europe",
           "marker": {
            "color": "#EF553B",
            "size": [
             1984060,
             7376998,
             9556500,
             3585000,
             8310226,
             4174366,
             9835109,
             4838800,
             4605744,
             49569000,
             76368453,
             8716441,
             10223422,
             198676,
             2900100,
             52667100,
             501035,
             12596822,
             3786019,
             31785378,
             9103000,
             19284814,
             7971222,
             4442238,
             1646912,
             32850275,
             7867931,
             6063000,
             33411317,
             54959000
            ],
            "sizemode": "area",
            "sizeref": 435928.2961983471,
            "symbol": "circle"
           },
           "mode": "markers",
           "name": "Europe",
           "orientation": "v",
           "showlegend": true,
           "type": "scatter",
           "x": [
            2760.196931,
            12834.6024,
            13149.04119,
            2172.3524230000007,
            5577.0028,
            6960.297861,
            11399.44489,
            15937.21123,
            10921.63626,
            12999.91766,
            14745.62561,
            8513.097016,
            9326.64467,
            13319.89568,
            7655.568963,
            10022.40131,
            5907.850937,
            15363.25136,
            16361.87647,
            6557.152776,
            6361.517993,
            6470.866545,
            7991.707066,
            8412.902397,
            9405.489397,
            7993.512294,
            15258.29697,
            22966.14432,
            2826.3563870000007,
            14142.85089
           ],
           "xaxis": "x",
           "y": [
            66.22,
            70.14,
            70.94,
            64.79,
            70.42,
            68.5,
            70.38,
            72.96,
            69.83,
            71.55,
            70.8,
            71,
            69.5,
            73.73,
            71.08,
            71.06,
            67.178,
            73.82,
            74.08,
            69.61,
            66.6,
            66.8,
            66.914,
            70.98,
            69.18,
            71.44,
            74.16,
            72.77,
            54.33600000000001,
            71.36
           ],
           "yaxis": "y"
          },
          {
           "hovertemplate": "<b>%{hovertext}</b><br><br>continent=Africa<br>year=1967<br>gdpPercap=%{x}<br>lifeExp=%{y}<br>pop=%{marker.size}<extra></extra>",
           "hovertext": [
            "Algeria",
            "Angola",
            "Benin",
            "Botswana",
            "Burkina Faso",
            "Burundi",
            "Cameroon",
            "Central African Republic",
            "Chad",
            "Comoros",
            "Congo, Dem. Rep.",
            "Congo, Rep.",
            "Cote d'Ivoire",
            "Djibouti",
            "Egypt",
            "Equatorial Guinea",
            "Eritrea",
            "Ethiopia",
            "Gabon",
            "Gambia",
            "Ghana",
            "Guinea",
            "Guinea-Bissau",
            "Kenya",
            "Lesotho",
            "Liberia",
            "Libya",
            "Madagascar",
            "Malawi",
            "Mali",
            "Mauritania",
            "Mauritius",
            "Morocco",
            "Mozambique",
            "Namibia",
            "Niger",
            "Nigeria",
            "Reunion",
            "Rwanda",
            "Sao Tome and Principe",
            "Senegal",
            "Sierra Leone",
            "Somalia",
            "South Africa",
            "Sudan",
            "Swaziland",
            "Tanzania",
            "Togo",
            "Tunisia",
            "Uganda",
            "Zambia",
            "Zimbabwe"
           ],
           "ids": [
            "Algeria",
            "Angola",
            "Benin",
            "Botswana",
            "Burkina Faso",
            "Burundi",
            "Cameroon",
            "Central African Republic",
            "Chad",
            "Comoros",
            "Congo, Dem. Rep.",
            "Congo, Rep.",
            "Cote d'Ivoire",
            "Djibouti",
            "Egypt",
            "Equatorial Guinea",
            "Eritrea",
            "Ethiopia",
            "Gabon",
            "Gambia",
            "Ghana",
            "Guinea",
            "Guinea-Bissau",
            "Kenya",
            "Lesotho",
            "Liberia",
            "Libya",
            "Madagascar",
            "Malawi",
            "Mali",
            "Mauritania",
            "Mauritius",
            "Morocco",
            "Mozambique",
            "Namibia",
            "Niger",
            "Nigeria",
            "Reunion",
            "Rwanda",
            "Sao Tome and Principe",
            "Senegal",
            "Sierra Leone",
            "Somalia",
            "South Africa",
            "Sudan",
            "Swaziland",
            "Tanzania",
            "Togo",
            "Tunisia",
            "Uganda",
            "Zambia",
            "Zimbabwe"
           ],
           "legendgroup": "Africa",
           "marker": {
            "color": "#00cc96",
            "size": [
             12760499,
             5247469,
             2427334,
             553541,
             5127935,
             3330989,
             6335506,
             1733638,
             3495967,
             217378,
             19941073,
             1179760,
             4744870,
             127617,
             31681188,
             259864,
             1820319,
             27860297,
             489004,
             439593,
             8490213,
             3451418,
             601287,
             10191512,
             996380,
             1279406,
             1759224,
             6334556,
             4147252,
             5212416,
             1230542,
             789309,
             14770296,
             8680909,
             706640,
             4534062,
             47287752,
             414024,
             3451079,
             70787,
             3965841,
             2662190,
             3428839,
             20997321,
             12716129,
             420690,
             12607312,
             1735550,
             4786986,
             8900294,
             3900000,
             4995432
            ],
            "sizemode": "area",
            "sizeref": 435928.2961983471,
            "symbol": "circle"
           },
           "mode": "markers",
           "name": "Africa",
           "orientation": "v",
           "showlegend": true,
           "type": "scatter",
           "x": [
            3246.991771,
            5522.776375,
            1035.831411,
            1214.709294,
            794.8265597,
            412.97751360000007,
            1508.453148,
            1136.056615,
            1196.810565,
            1876.029643,
            861.5932424,
            2677.9396420000007,
            2052.050473,
            3020.050513,
            1814.880728,
            915.5960025,
            468.7949699,
            516.1186438,
            8358.761987,
            734.7829124,
            1125.69716,
            708.7595409,
            715.5806402000002,
            1056.736457,
            498.6390265,
            713.6036482999998,
            18772.75169,
            1634.047282,
            495.5147806,
            545.0098873,
            1421.145193,
            2475.387562,
            1711.04477,
            566.6691539,
            3793.694753,
            1054.384891,
            1014.514104,
            4021.175739,
            510.9637142,
            1384.840593,
            1612.404632,
            1206.043465,
            1284.7331800000004,
            7114.477970999998,
            1687.997641,
            2613.101665,
            848.2186575,
            1477.59676,
            1932.3601670000005,
            908.9185217,
            1777.077318,
            569.7950712
           ],
           "xaxis": "x",
           "y": [
            51.407,
            35.985,
            44.885,
            53.298,
            40.697,
            43.548,
            44.799,
            41.478,
            43.601000000000006,
            46.472,
            44.056,
            52.04,
            47.35,
            42.074,
            49.293,
            38.987,
            42.18899999999999,
            42.115,
            44.598,
            35.857,
            48.072,
            37.197,
            35.492,
            50.654,
            48.492,
            41.536,
            50.227,
            42.881,
            39.487,
            38.487,
            46.289,
            61.557,
            50.335,
            38.113,
            51.159,
            40.118,
            41.04,
            60.542,
            44.1,
            54.425,
            43.563,
            34.113,
            38.977,
            51.927,
            42.858,
            46.633,
            45.757,
            46.769,
            52.053,
            48.051,
            47.768,
            53.995
           ],
           "yaxis": "y"
          },
          {
           "hovertemplate": "<b>%{hovertext}</b><br><br>continent=Americas<br>year=1967<br>gdpPercap=%{x}<br>lifeExp=%{y}<br>pop=%{marker.size}<extra></extra>",
           "hovertext": [
            "Argentina",
            "Bolivia",
            "Brazil",
            "Canada",
            "Chile",
            "Colombia",
            "Costa Rica",
            "Cuba",
            "Dominican Republic",
            "Ecuador",
            "El Salvador",
            "Guatemala",
            "Haiti",
            "Honduras",
            "Jamaica",
            "Mexico",
            "Nicaragua",
            "Panama",
            "Paraguay",
            "Peru",
            "Puerto Rico",
            "Trinidad and Tobago",
            "United States",
            "Uruguay",
            "Venezuela"
           ],
           "ids": [
            "Argentina",
            "Bolivia",
            "Brazil",
            "Canada",
            "Chile",
            "Colombia",
            "Costa Rica",
            "Cuba",
            "Dominican Republic",
            "Ecuador",
            "El Salvador",
            "Guatemala",
            "Haiti",
            "Honduras",
            "Jamaica",
            "Mexico",
            "Nicaragua",
            "Panama",
            "Paraguay",
            "Peru",
            "Puerto Rico",
            "Trinidad and Tobago",
            "United States",
            "Uruguay",
            "Venezuela"
           ],
           "legendgroup": "Americas",
           "marker": {
            "color": "#ab63fa",
            "size": [
             22934225,
             4040665,
             88049823,
             20819767,
             8858908,
             19764027,
             1588717,
             8139332,
             4049146,
             5432424,
             3232927,
             4690773,
             4318137,
             2500689,
             1861096,
             47995559,
             1865490,
             1405486,
             2287985,
             12132200,
             2648961,
             960155,
             198712000,
             2748579,
             9709552
            ],
            "sizemode": "area",
            "sizeref": 435928.2961983471,
            "symbol": "circle"
           },
           "mode": "markers",
           "name": "Americas",
           "orientation": "v",
           "showlegend": true,
           "type": "scatter",
           "x": [
            8052.953020999998,
            2586.886053,
            3429.864357,
            16076.58803,
            5106.654313,
            2678.729839,
            4161.727834,
            5690.268015,
            1653.7230029999996,
            4579.074215,
            4358.595393,
            3242.531147,
            1452.057666,
            2538.269358,
            6124.703450999999,
            5754.733883,
            4643.393534000002,
            4421.009084,
            2299.376311,
            5788.09333,
            6929.277714,
            5621.368472,
            19530.36557,
            5444.61962,
            9541.474188
           ],
           "xaxis": "x",
           "y": [
            65.634,
            45.032,
            57.632,
            72.13,
            60.523,
            59.963,
            65.42399999999999,
            68.29,
            56.75100000000001,
            56.678,
            55.855,
            50.01600000000001,
            46.243,
            50.924,
            67.51,
            60.11,
            51.88399999999999,
            64.071,
            64.95100000000001,
            51.445,
            71.1,
            65.4,
            70.76,
            68.468,
            63.479
           ],
           "yaxis": "y"
          },
          {
           "hovertemplate": "<b>%{hovertext}</b><br><br>continent=Oceania<br>year=1967<br>gdpPercap=%{x}<br>lifeExp=%{y}<br>pop=%{marker.size}<extra></extra>",
           "hovertext": [
            "Australia",
            "New Zealand"
           ],
           "ids": [
            "Australia",
            "New Zealand"
           ],
           "legendgroup": "Oceania",
           "marker": {
            "color": "#FFA15A",
            "size": [
             11872264,
             2728150
            ],
            "sizemode": "area",
            "sizeref": 435928.2961983471,
            "symbol": "circle"
           },
           "mode": "markers",
           "name": "Oceania",
           "orientation": "v",
           "showlegend": true,
           "type": "scatter",
           "x": [
            14526.12465,
            14463.918930000002
           ],
           "xaxis": "x",
           "y": [
            71.1,
            71.52
           ],
           "yaxis": "y"
          }
         ],
         "name": "1967"
        },
        {
         "data": [
          {
           "hovertemplate": "<b>%{hovertext}</b><br><br>continent=Asia<br>year=1972<br>gdpPercap=%{x}<br>lifeExp=%{y}<br>pop=%{marker.size}<extra></extra>",
           "hovertext": [
            "Afghanistan",
            "Bahrain",
            "Bangladesh",
            "Cambodia",
            "China",
            "Hong Kong, China",
            "India",
            "Indonesia",
            "Iran",
            "Iraq",
            "Israel",
            "Japan",
            "Jordan",
            "Korea, Dem. Rep.",
            "Korea, Rep.",
            "Kuwait",
            "Lebanon",
            "Malaysia",
            "Mongolia",
            "Myanmar",
            "Nepal",
            "Oman",
            "Pakistan",
            "Philippines",
            "Saudi Arabia",
            "Singapore",
            "Sri Lanka",
            "Syria",
            "Taiwan",
            "Thailand",
            "Vietnam",
            "West Bank and Gaza",
            "Yemen, Rep."
           ],
           "ids": [
            "Afghanistan",
            "Bahrain",
            "Bangladesh",
            "Cambodia",
            "China",
            "Hong Kong, China",
            "India",
            "Indonesia",
            "Iran",
            "Iraq",
            "Israel",
            "Japan",
            "Jordan",
            "Korea, Dem. Rep.",
            "Korea, Rep.",
            "Kuwait",
            "Lebanon",
            "Malaysia",
            "Mongolia",
            "Myanmar",
            "Nepal",
            "Oman",
            "Pakistan",
            "Philippines",
            "Saudi Arabia",
            "Singapore",
            "Sri Lanka",
            "Syria",
            "Taiwan",
            "Thailand",
            "Vietnam",
            "West Bank and Gaza",
            "Yemen, Rep."
           ],
           "legendgroup": "Asia",
           "marker": {
            "color": "#636efa",
            "size": [
             13079460,
             230800,
             70759295,
             7450606,
             862030000,
             4115700,
             567000000,
             121282000,
             30614000,
             10061506,
             3095893,
             107188273,
             1613551,
             14781241,
             33505000,
             841934,
             2680018,
             11441462,
             1320500,
             28466390,
             12412593,
             829050,
             69325921,
             40850141,
             6472756,
             2152400,
             13016733,
             6701172,
             15226039,
             39276153,
             44655014,
             1089572,
             7407075
            ],
            "sizemode": "area",
            "sizeref": 435928.2961983471,
            "symbol": "circle"
           },
           "mode": "markers",
           "name": "Asia",
           "orientation": "v",
           "showlegend": true,
           "type": "scatter",
           "x": [
            739.9811057999998,
            18268.65839,
            630.2336265,
            421.6240257,
            676.9000921,
            8315.928145,
            724.032527,
            1111.107907,
            9613.818607,
            9576.037596,
            12786.93223,
            14778.78636,
            2110.856309,
            3701.621503,
            3030.87665,
            109347.867,
            7486.384341,
            2849.09478,
            1421.741975,
            357,
            674.7881296,
            10618.03855,
            1049.938981,
            1989.37407,
            24837.42865,
            8597.756202,
            1213.39553,
            2571.423014,
            4062.523897,
            1524.358936,
            699.5016441,
            3133.409277,
            1265.047031
           ],
           "xaxis": "x",
           "y": [
            36.088,
            63.3,
            45.252,
            40.317,
            63.11888,
            72,
            50.651,
            49.203,
            55.234,
            56.95,
            71.63,
            73.42,
            56.528,
            63.983,
            62.612,
            67.712,
            65.421,
            63.01,
            53.754,
            53.07,
            43.971,
            52.143,
            51.929,
            58.065,
            53.886,
            69.521,
            65.042,
            57.29600000000001,
            69.39,
            60.405,
            50.254,
            56.532,
            39.848
           ],
           "yaxis": "y"
          },
          {
           "hovertemplate": "<b>%{hovertext}</b><br><br>continent=Europe<br>year=1972<br>gdpPercap=%{x}<br>lifeExp=%{y}<br>pop=%{marker.size}<extra></extra>",
           "hovertext": [
            "Albania",
            "Austria",
            "Belgium",
            "Bosnia and Herzegovina",
            "Bulgaria",
            "Croatia",
            "Czech Republic",
            "Denmark",
            "Finland",
            "France",
            "Germany",
            "Greece",
            "Hungary",
            "Iceland",
            "Ireland",
            "Italy",
            "Montenegro",
            "Netherlands",
            "Norway",
            "Poland",
            "Portugal",
            "Romania",
            "Serbia",
            "Slovak Republic",
            "Slovenia",
            "Spain",
            "Sweden",
            "Switzerland",
            "Turkey",
            "United Kingdom"
           ],
           "ids": [
            "Albania",
            "Austria",
            "Belgium",
            "Bosnia and Herzegovina",
            "Bulgaria",
            "Croatia",
            "Czech Republic",
            "Denmark",
            "Finland",
            "France",
            "Germany",
            "Greece",
            "Hungary",
            "Iceland",
            "Ireland",
            "Italy",
            "Montenegro",
            "Netherlands",
            "Norway",
            "Poland",
            "Portugal",
            "Romania",
            "Serbia",
            "Slovak Republic",
            "Slovenia",
            "Spain",
            "Sweden",
            "Switzerland",
            "Turkey",
            "United Kingdom"
           ],
           "legendgroup": "Europe",
           "marker": {
            "color": "#EF553B",
            "size": [
             2263554,
             7544201,
             9709100,
             3819000,
             8576200,
             4225310,
             9862158,
             4991596,
             4639657,
             51732000,
             78717088,
             8888628,
             10394091,
             209275,
             3024400,
             54365564,
             527678,
             13329874,
             3933004,
             33039545,
             8970450,
             20662648,
             8313288,
             4593433,
             1694510,
             34513161,
             8122293,
             6401400,
             37492953,
             56079000
            ],
            "sizemode": "area",
            "sizeref": 435928.2961983471,
            "symbol": "circle"
           },
           "mode": "markers",
           "name": "Europe",
           "orientation": "v",
           "showlegend": true,
           "type": "scatter",
           "x": [
            3313.422188,
            16661.6256,
            16672.14356,
            2860.16975,
            6597.494398,
            9164.090127,
            13108.4536,
            18866.20721,
            14358.8759,
            16107.19171,
            18016.18027,
            12724.82957,
            10168.65611,
            15798.06362,
            9530.772896,
            12269.27378,
            7778.414017,
            18794.74567,
            18965.05551,
            8006.506993000001,
            9022.247417,
            8011.4144019999985,
            10522.06749,
            9674.167626,
            12383.4862,
            10638.75131,
            17832.02464,
            27195.11304,
            3450.69638,
            15895.11641
           ],
           "xaxis": "x",
           "y": [
            67.69,
            70.63,
            71.44,
            67.45,
            70.9,
            69.61,
            70.29,
            73.47,
            70.87,
            72.38,
            71,
            72.34,
            69.76,
            74.46,
            71.28,
            72.19,
            70.63600000000002,
            73.75,
            74.34,
            70.85,
            69.26,
            69.21,
            68.7,
            70.35,
            69.82,
            73.06,
            74.72,
            73.78,
            57.005,
            72.01
           ],
           "yaxis": "y"
          },
          {
           "hovertemplate": "<b>%{hovertext}</b><br><br>continent=Africa<br>year=1972<br>gdpPercap=%{x}<br>lifeExp=%{y}<br>pop=%{marker.size}<extra></extra>",
           "hovertext": [
            "Algeria",
            "Angola",
            "Benin",
            "Botswana",
            "Burkina Faso",
            "Burundi",
            "Cameroon",
            "Central African Republic",
            "Chad",
            "Comoros",
            "Congo, Dem. Rep.",
            "Congo, Rep.",
            "Cote d'Ivoire",
            "Djibouti",
            "Egypt",
            "Equatorial Guinea",
            "Eritrea",
            "Ethiopia",
            "Gabon",
            "Gambia",
            "Ghana",
            "Guinea",
            "Guinea-Bissau",
            "Kenya",
            "Lesotho",
            "Liberia",
            "Libya",
            "Madagascar",
            "Malawi",
            "Mali",
            "Mauritania",
            "Mauritius",
            "Morocco",
            "Mozambique",
            "Namibia",
            "Niger",
            "Nigeria",
            "Reunion",
            "Rwanda",
            "Sao Tome and Principe",
            "Senegal",
            "Sierra Leone",
            "Somalia",
            "South Africa",
            "Sudan",
            "Swaziland",
            "Tanzania",
            "Togo",
            "Tunisia",
            "Uganda",
            "Zambia",
            "Zimbabwe"
           ],
           "ids": [
            "Algeria",
            "Angola",
            "Benin",
            "Botswana",
            "Burkina Faso",
            "Burundi",
            "Cameroon",
            "Central African Republic",
            "Chad",
            "Comoros",
            "Congo, Dem. Rep.",
            "Congo, Rep.",
            "Cote d'Ivoire",
            "Djibouti",
            "Egypt",
            "Equatorial Guinea",
            "Eritrea",
            "Ethiopia",
            "Gabon",
            "Gambia",
            "Ghana",
            "Guinea",
            "Guinea-Bissau",
            "Kenya",
            "Lesotho",
            "Liberia",
            "Libya",
            "Madagascar",
            "Malawi",
            "Mali",
            "Mauritania",
            "Mauritius",
            "Morocco",
            "Mozambique",
            "Namibia",
            "Niger",
            "Nigeria",
            "Reunion",
            "Rwanda",
            "Sao Tome and Principe",
            "Senegal",
            "Sierra Leone",
            "Somalia",
            "South Africa",
            "Sudan",
            "Swaziland",
            "Tanzania",
            "Togo",
            "Tunisia",
            "Uganda",
            "Zambia",
            "Zimbabwe"
           ],
           "legendgroup": "Africa",
           "marker": {
            "color": "#00cc96",
            "size": [
             14760787,
             5894858,
             2761407,
             619351,
             5433886,
             3529983,
             7021028,
             1927260,
             3899068,
             250027,
             23007669,
             1340458,
             6071696,
             178848,
             34807417,
             277603,
             2260187,
             30770372,
             537977,
             517101,
             9354120,
             3811387,
             625361,
             12044785,
             1116779,
             1482628,
             2183877,
             7082430,
             4730997,
             5828158,
             1332786,
             851334,
             16660670,
             9809596,
             821782,
             5060262,
             53740085,
             461633,
             3992121,
             76595,
             4588696,
             2879013,
             3840161,
             23935810,
             14597019,
             480105,
             14706593,
             2056351,
             5303507,
             10190285,
             4506497,
             5861135
            ],
            "sizemode": "area",
            "sizeref": 435928.2961983471,
            "symbol": "circle"
           },
           "mode": "markers",
           "name": "Africa",
           "orientation": "v",
           "showlegend": true,
           "type": "scatter",
           "x": [
            4182.663766,
            5473.288004999999,
            1085.796879,
            2263.6111140000007,
            854.7359763000002,
            464.0995039,
            1684.1465280000002,
            1070.013275,
            1104.103987,
            1937.577675,
            904.8960685,
            3213.152683,
            2378.201111,
            3694.2123520000014,
            2024.008147,
            672.4122571,
            514.3242081999998,
            566.2439442000001,
            11401.94841,
            756.0868363,
            1178.223708,
            741.6662307,
            820.2245876000002,
            1222.359968,
            496.5815922000001,
            803.0054535,
            21011.49721,
            1748.562982,
            584.6219709,
            581.3688761,
            1586.851781,
            2575.484158,
            1930.194975,
            724.9178037,
            3746.080948,
            954.2092363,
            1698.388838,
            5047.658563,
            590.5806637999998,
            1532.985254,
            1597.712056,
            1353.759762,
            1254.576127,
            7765.962636,
            1659.652775,
            3364.836625,
            915.9850592,
            1649.660188,
            2753.2859940000008,
            950.735869,
            1773.498265,
            799.3621757999998
           ],
           "xaxis": "x",
           "y": [
            54.518,
            37.928,
            47.014,
            56.024,
            43.591,
            44.057,
            47.049,
            43.457,
            45.569,
            48.944,
            45.989,
            54.907,
            49.801,
            44.36600000000001,
            51.137,
            40.516,
            44.142,
            43.515,
            48.69,
            38.308,
            49.875,
            38.842,
            36.486,
            53.559,
            49.767,
            42.614,
            52.773,
            44.851000000000006,
            41.76600000000001,
            39.977,
            48.437,
            62.944,
            52.862,
            40.328,
            53.867,
            40.546,
            42.82100000000001,
            64.274,
            44.6,
            56.48,
            45.815,
            35.4,
            40.973,
            53.69600000000001,
            45.083,
            49.552,
            47.62,
            49.75899999999999,
            55.602,
            51.01600000000001,
            50.107,
            55.635
           ],
           "yaxis": "y"
          },
          {
           "hovertemplate": "<b>%{hovertext}</b><br><br>continent=Americas<br>year=1972<br>gdpPercap=%{x}<br>lifeExp=%{y}<br>pop=%{marker.size}<extra></extra>",
           "hovertext": [
            "Argentina",
            "Bolivia",
            "Brazil",
            "Canada",
            "Chile",
            "Colombia",
            "Costa Rica",
            "Cuba",
            "Dominican Republic",
            "Ecuador",
            "El Salvador",
            "Guatemala",
            "Haiti",
            "Honduras",
            "Jamaica",
            "Mexico",
            "Nicaragua",
            "Panama",
            "Paraguay",
            "Peru",
            "Puerto Rico",
            "Trinidad and Tobago",
            "United States",
            "Uruguay",
            "Venezuela"
           ],
           "ids": [
            "Argentina",
            "Bolivia",
            "Brazil",
            "Canada",
            "Chile",
            "Colombia",
            "Costa Rica",
            "Cuba",
            "Dominican Republic",
            "Ecuador",
            "El Salvador",
            "Guatemala",
            "Haiti",
            "Honduras",
            "Jamaica",
            "Mexico",
            "Nicaragua",
            "Panama",
            "Paraguay",
            "Peru",
            "Puerto Rico",
            "Trinidad and Tobago",
            "United States",
            "Uruguay",
            "Venezuela"
           ],
           "legendgroup": "Americas",
           "marker": {
            "color": "#ab63fa",
            "size": [
             24779799,
             4565872,
             100840058,
             22284500,
             9717524,
             22542890,
             1834796,
             8831348,
             4671329,
             6298651,
             3790903,
             5149581,
             4698301,
             2965146,
             1997616,
             55984294,
             2182908,
             1616384,
             2614104,
             13954700,
             2847132,
             975199,
             209896000,
             2829526,
             11515649
            ],
            "sizemode": "area",
            "sizeref": 435928.2961983471,
            "symbol": "circle"
           },
           "mode": "markers",
           "name": "Americas",
           "orientation": "v",
           "showlegend": true,
           "type": "scatter",
           "x": [
            9443.038526,
            2980.331339,
            4985.711467,
            18970.57086,
            5494.024437,
            3264.660041,
            5118.146939,
            5305.445256,
            2189.874499,
            5280.99471,
            4520.246008,
            4031.408271,
            1654.456946,
            2529.842345,
            7433.889293000001,
            6809.406690000002,
            4688.593267,
            5364.249663000001,
            2523.337977,
            5937.827283,
            9123.041742,
            6619.551418999999,
            21806.03594,
            5703.408898,
            10505.25966
           ],
           "xaxis": "x",
           "y": [
            67.065,
            46.714,
            59.504,
            72.88,
            63.441,
            61.62300000000001,
            67.84899999999999,
            70.723,
            59.631,
            58.79600000000001,
            58.207,
            53.738,
            48.042,
            53.88399999999999,
            69,
            62.361,
            55.151,
            66.21600000000001,
            65.815,
            55.448,
            72.16,
            65.9,
            71.34,
            68.673,
            65.712
           ],
           "yaxis": "y"
          },
          {
           "hovertemplate": "<b>%{hovertext}</b><br><br>continent=Oceania<br>year=1972<br>gdpPercap=%{x}<br>lifeExp=%{y}<br>pop=%{marker.size}<extra></extra>",
           "hovertext": [
            "Australia",
            "New Zealand"
           ],
           "ids": [
            "Australia",
            "New Zealand"
           ],
           "legendgroup": "Oceania",
           "marker": {
            "color": "#FFA15A",
            "size": [
             13177000,
             2929100
            ],
            "sizemode": "area",
            "sizeref": 435928.2961983471,
            "symbol": "circle"
           },
           "mode": "markers",
           "name": "Oceania",
           "orientation": "v",
           "showlegend": true,
           "type": "scatter",
           "x": [
            16788.62948,
            16046.03728
           ],
           "xaxis": "x",
           "y": [
            71.93,
            71.89
           ],
           "yaxis": "y"
          }
         ],
         "name": "1972"
        },
        {
         "data": [
          {
           "hovertemplate": "<b>%{hovertext}</b><br><br>continent=Asia<br>year=1977<br>gdpPercap=%{x}<br>lifeExp=%{y}<br>pop=%{marker.size}<extra></extra>",
           "hovertext": [
            "Afghanistan",
            "Bahrain",
            "Bangladesh",
            "Cambodia",
            "China",
            "Hong Kong, China",
            "India",
            "Indonesia",
            "Iran",
            "Iraq",
            "Israel",
            "Japan",
            "Jordan",
            "Korea, Dem. Rep.",
            "Korea, Rep.",
            "Kuwait",
            "Lebanon",
            "Malaysia",
            "Mongolia",
            "Myanmar",
            "Nepal",
            "Oman",
            "Pakistan",
            "Philippines",
            "Saudi Arabia",
            "Singapore",
            "Sri Lanka",
            "Syria",
            "Taiwan",
            "Thailand",
            "Vietnam",
            "West Bank and Gaza",
            "Yemen, Rep."
           ],
           "ids": [
            "Afghanistan",
            "Bahrain",
            "Bangladesh",
            "Cambodia",
            "China",
            "Hong Kong, China",
            "India",
            "Indonesia",
            "Iran",
            "Iraq",
            "Israel",
            "Japan",
            "Jordan",
            "Korea, Dem. Rep.",
            "Korea, Rep.",
            "Kuwait",
            "Lebanon",
            "Malaysia",
            "Mongolia",
            "Myanmar",
            "Nepal",
            "Oman",
            "Pakistan",
            "Philippines",
            "Saudi Arabia",
            "Singapore",
            "Sri Lanka",
            "Syria",
            "Taiwan",
            "Thailand",
            "Vietnam",
            "West Bank and Gaza",
            "Yemen, Rep."
           ],
           "legendgroup": "Asia",
           "marker": {
            "color": "#636efa",
            "size": [
             14880372,
             297410,
             80428306,
             6978607,
             943455000,
             4583700,
             634000000,
             136725000,
             35480679,
             11882916,
             3495918,
             113872473,
             1937652,
             16325320,
             36436000,
             1140357,
             3115787,
             12845381,
             1528000,
             31528087,
             13933198,
             1004533,
             78152686,
             46850962,
             8128505,
             2325300,
             14116836,
             7932503,
             16785196,
             44148285,
             50533506,
             1261091,
             8403990
            ],
            "sizemode": "area",
            "sizeref": 435928.2961983471,
            "symbol": "circle"
           },
           "mode": "markers",
           "name": "Asia",
           "orientation": "v",
           "showlegend": true,
           "type": "scatter",
           "x": [
            786.11336,
            19340.10196,
            659.8772322000002,
            524.9721831999999,
            741.2374699,
            11186.14125,
            813.3373230000002,
            1382.702056,
            11888.59508,
            14688.23507,
            13306.61921,
            16610.37701,
            2852.351568,
            4106.301249,
            4657.22102,
            59265.47714,
            8659.696836,
            3827.921571,
            1647.511665,
            371,
            694.1124398,
            11848.34392,
            1175.921193,
            2373.204287,
            34167.7626,
            11210.08948,
            1348.775651,
            3195.484582,
            5596.519826,
            1961.2246350000007,
            713.5371196000001,
            3682.831494,
            1829.765177
           ],
           "xaxis": "x",
           "y": [
            38.438,
            65.593,
            46.923,
            31.22,
            63.96736,
            73.6,
            54.208,
            52.702,
            57.702,
            60.413,
            73.06,
            75.38,
            61.13399999999999,
            67.15899999999999,
            64.766,
            69.343,
            66.09899999999999,
            65.256,
            55.49100000000001,
            56.059,
            46.74800000000001,
            57.367,
            54.043,
            60.06,
            58.69,
            70.795,
            65.949,
            61.195,
            70.59,
            62.494,
            55.764,
            60.765,
            44.175
           ],
           "yaxis": "y"
          },
          {
           "hovertemplate": "<b>%{hovertext}</b><br><br>continent=Europe<br>year=1977<br>gdpPercap=%{x}<br>lifeExp=%{y}<br>pop=%{marker.size}<extra></extra>",
           "hovertext": [
            "Albania",
            "Austria",
            "Belgium",
            "Bosnia and Herzegovina",
            "Bulgaria",
            "Croatia",
            "Czech Republic",
            "Denmark",
            "Finland",
            "France",
            "Germany",
            "Greece",
            "Hungary",
            "Iceland",
            "Ireland",
            "Italy",
            "Montenegro",
            "Netherlands",
            "Norway",
            "Poland",
            "Portugal",
            "Romania",
            "Serbia",
            "Slovak Republic",
            "Slovenia",
            "Spain",
            "Sweden",
            "Switzerland",
            "Turkey",
            "United Kingdom"
           ],
           "ids": [
            "Albania",
            "Austria",
            "Belgium",
            "Bosnia and Herzegovina",
            "Bulgaria",
            "Croatia",
            "Czech Republic",
            "Denmark",
            "Finland",
            "France",
            "Germany",
            "Greece",
            "Hungary",
            "Iceland",
            "Ireland",
            "Italy",
            "Montenegro",
            "Netherlands",
            "Norway",
            "Poland",
            "Portugal",
            "Romania",
            "Serbia",
            "Slovak Republic",
            "Slovenia",
            "Spain",
            "Sweden",
            "Switzerland",
            "Turkey",
            "United Kingdom"
           ],
           "legendgroup": "Europe",
           "marker": {
            "color": "#EF553B",
            "size": [
             2509048,
             7568430,
             9821800,
             4086000,
             8797022,
             4318673,
             10161915,
             5088419,
             4738902,
             53165019,
             78160773,
             9308479,
             10637171,
             221823,
             3271900,
             56059245,
             560073,
             13852989,
             4043205,
             34621254,
             9662600,
             21658597,
             8686367,
             4827803,
             1746919,
             36439000,
             8251648,
             6316424,
             42404033,
             56179000
            ],
            "sizemode": "area",
            "sizeref": 435928.2961983471,
            "symbol": "circle"
           },
           "mode": "markers",
           "name": "Europe",
           "orientation": "v",
           "showlegend": true,
           "type": "scatter",
           "x": [
            3533.003910000001,
            19749.4223,
            19117.97448,
            3528.481305,
            7612.240438,
            11305.38517,
            14800.16062,
            20422.9015,
            15605.42283,
            18292.63514,
            20512.92123,
            14195.52428,
            11674.83737,
            19654.96247,
            11150.98113,
            14255.98475,
            9595.929905,
            21209.0592,
            23311.34939,
            9508.141454,
            10172.48572,
            9356.39724,
            12980.66956,
            10922.66404,
            15277.030169999998,
            13236.92117,
            18855.72521,
            26982.29052,
            4269.122326,
            17428.74846
           ],
           "xaxis": "x",
           "y": [
            68.93,
            72.17,
            72.8,
            69.86,
            70.81,
            70.64,
            70.71,
            74.69,
            72.52,
            73.83,
            72.5,
            73.68,
            69.95,
            76.11,
            72.03,
            73.48,
            73.066,
            75.24,
            75.37,
            70.67,
            70.41,
            69.46,
            70.3,
            70.45,
            70.97,
            74.39,
            75.44,
            75.39,
            59.507,
            72.76
           ],
           "yaxis": "y"
          },
          {
           "hovertemplate": "<b>%{hovertext}</b><br><br>continent=Africa<br>year=1977<br>gdpPercap=%{x}<br>lifeExp=%{y}<br>pop=%{marker.size}<extra></extra>",
           "hovertext": [
            "Algeria",
            "Angola",
            "Benin",
            "Botswana",
            "Burkina Faso",
            "Burundi",
            "Cameroon",
            "Central African Republic",
            "Chad",
            "Comoros",
            "Congo, Dem. Rep.",
            "Congo, Rep.",
            "Cote d'Ivoire",
            "Djibouti",
            "Egypt",
            "Equatorial Guinea",
            "Eritrea",
            "Ethiopia",
            "Gabon",
            "Gambia",
            "Ghana",
            "Guinea",
            "Guinea-Bissau",
            "Kenya",
            "Lesotho",
            "Liberia",
            "Libya",
            "Madagascar",
            "Malawi",
            "Mali",
            "Mauritania",
            "Mauritius",
            "Morocco",
            "Mozambique",
            "Namibia",
            "Niger",
            "Nigeria",
            "Reunion",
            "Rwanda",
            "Sao Tome and Principe",
            "Senegal",
            "Sierra Leone",
            "Somalia",
            "South Africa",
            "Sudan",
            "Swaziland",
            "Tanzania",
            "Togo",
            "Tunisia",
            "Uganda",
            "Zambia",
            "Zimbabwe"
           ],
           "ids": [
            "Algeria",
            "Angola",
            "Benin",
            "Botswana",
            "Burkina Faso",
            "Burundi",
            "Cameroon",
            "Central African Republic",
            "Chad",
            "Comoros",
            "Congo, Dem. Rep.",
            "Congo, Rep.",
            "Cote d'Ivoire",
            "Djibouti",
            "Egypt",
            "Equatorial Guinea",
            "Eritrea",
            "Ethiopia",
            "Gabon",
            "Gambia",
            "Ghana",
            "Guinea",
            "Guinea-Bissau",
            "Kenya",
            "Lesotho",
            "Liberia",
            "Libya",
            "Madagascar",
            "Malawi",
            "Mali",
            "Mauritania",
            "Mauritius",
            "Morocco",
            "Mozambique",
            "Namibia",
            "Niger",
            "Nigeria",
            "Reunion",
            "Rwanda",
            "Sao Tome and Principe",
            "Senegal",
            "Sierra Leone",
            "Somalia",
            "South Africa",
            "Sudan",
            "Swaziland",
            "Tanzania",
            "Togo",
            "Tunisia",
            "Uganda",
            "Zambia",
            "Zimbabwe"
           ],
           "legendgroup": "Africa",
           "marker": {
            "color": "#00cc96",
            "size": [
             17152804,
             6162675,
             3168267,
             781472,
             5889574,
             3834415,
             7959865,
             2167533,
             4388260,
             304739,
             26480870,
             1536769,
             7459574,
             228694,
             38783863,
             192675,
             2512642,
             34617799,
             706367,
             608274,
             10538093,
             4227026,
             745228,
             14500404,
             1251524,
             1703617,
             2721783,
             8007166,
             5637246,
             6491649,
             1456688,
             913025,
             18396941,
             11127868,
             977026,
             5682086,
             62209173,
             492095,
             4657072,
             86796,
             5260855,
             3140897,
             4353666,
             27129932,
             17104986,
             551425,
             17129565,
             2308582,
             6005061,
             11457758,
             5216550,
             6642107
            ],
            "sizemode": "area",
            "sizeref": 435928.2961983471,
            "symbol": "circle"
           },
           "mode": "markers",
           "name": "Africa",
           "orientation": "v",
           "showlegend": true,
           "type": "scatter",
           "x": [
            4910.416756000001,
            3008.647355,
            1029.161251,
            3214.857818,
            743.3870368,
            556.1032651,
            1783.432873,
            1109.374338,
            1133.98495,
            1172.603047,
            795.757282,
            3259.178978,
            2517.736547,
            3081.761022,
            2785.493582,
            958.5668124,
            505.7538077,
            556.8083834,
            21745.57328,
            884.7552507000001,
            993.2239571,
            874.6858642999998,
            764.7259627999998,
            1267.613204,
            745.3695408,
            640.3224382999998,
            21951.21176,
            1544.228586,
            663.2236766,
            686.3952693,
            1497.492223,
            3710.982963,
            2370.619976,
            502.3197334,
            3876.485958,
            808.8970727999998,
            1981.951806,
            4319.804067,
            670.0806011,
            1737.561657,
            1561.769116,
            1348.285159,
            1450.992513,
            8028.651439,
            2202.988423,
            3781.410618,
            962.4922932,
            1532.776998,
            3120.876811,
            843.7331372000001,
            1588.688299,
            685.5876821
           ],
           "xaxis": "x",
           "y": [
            58.014,
            39.483,
            49.19,
            59.319,
            46.137,
            45.91,
            49.355,
            46.775,
            47.383,
            50.93899999999999,
            47.804,
            55.625,
            52.374,
            46.519,
            53.319,
            42.024,
            44.535,
            44.51,
            52.79,
            41.842,
            51.756,
            40.762,
            37.465,
            56.155,
            52.208,
            43.764,
            57.442,
            46.881,
            43.767,
            41.714,
            50.852,
            64.93,
            55.73,
            42.495,
            56.437,
            41.291,
            44.514,
            67.064,
            45,
            58.55,
            48.879,
            36.788,
            41.974,
            55.527,
            47.8,
            52.537,
            49.919,
            52.887,
            59.837,
            50.35,
            51.386,
            57.674
           ],
           "yaxis": "y"
          },
          {
           "hovertemplate": "<b>%{hovertext}</b><br><br>continent=Americas<br>year=1977<br>gdpPercap=%{x}<br>lifeExp=%{y}<br>pop=%{marker.size}<extra></extra>",
           "hovertext": [
            "Argentina",
            "Bolivia",
            "Brazil",
            "Canada",
            "Chile",
            "Colombia",
            "Costa Rica",
            "Cuba",
            "Dominican Republic",
            "Ecuador",
            "El Salvador",
            "Guatemala",
            "Haiti",
            "Honduras",
            "Jamaica",
            "Mexico",
            "Nicaragua",
            "Panama",
            "Paraguay",
            "Peru",
            "Puerto Rico",
            "Trinidad and Tobago",
            "United States",
            "Uruguay",
            "Venezuela"
           ],
           "ids": [
            "Argentina",
            "Bolivia",
            "Brazil",
            "Canada",
            "Chile",
            "Colombia",
            "Costa Rica",
            "Cuba",
            "Dominican Republic",
            "Ecuador",
            "El Salvador",
            "Guatemala",
            "Haiti",
            "Honduras",
            "Jamaica",
            "Mexico",
            "Nicaragua",
            "Panama",
            "Paraguay",
            "Peru",
            "Puerto Rico",
            "Trinidad and Tobago",
            "United States",
            "Uruguay",
            "Venezuela"
           ],
           "legendgroup": "Americas",
           "marker": {
            "color": "#ab63fa",
            "size": [
             26983828,
             5079716,
             114313951,
             23796400,
             10599793,
             25094412,
             2108457,
             9537988,
             5302800,
             7278866,
             4282586,
             5703430,
             4908554,
             3055235,
             2156814,
             63759976,
             2554598,
             1839782,
             2984494,
             15990099,
             3080828,
             1039009,
             220239000,
             2873520,
             13503563
            ],
            "sizemode": "area",
            "sizeref": 435928.2961983471,
            "symbol": "circle"
           },
           "mode": "markers",
           "name": "Americas",
           "orientation": "v",
           "showlegend": true,
           "type": "scatter",
           "x": [
            10079.02674,
            3548.097832,
            6660.118654,
            22090.88306,
            4756.763836,
            3815.80787,
            5926.876967,
            6380.494965999998,
            2681.9889,
            6679.62326,
            5138.922374,
            4879.992748,
            1874.298931,
            3203.208066,
            6650.195573,
            7674.929108,
            5486.371089,
            5351.912144,
            3248.373311,
            6281.290854999998,
            9770.524921,
            7899.554209000001,
            24072.63213,
            6504.339663000002,
            13143.95095
           ],
           "xaxis": "x",
           "y": [
            68.48100000000001,
            50.023,
            61.489,
            74.21,
            67.05199999999999,
            63.837,
            70.75,
            72.649,
            61.788,
            61.31,
            56.69600000000001,
            56.029,
            49.923,
            57.402,
            70.11,
            65.032,
            57.47,
            68.681,
            66.35300000000001,
            58.447,
            73.44,
            68.3,
            73.38,
            69.48100000000001,
            67.456
           ],
           "yaxis": "y"
          },
          {
           "hovertemplate": "<b>%{hovertext}</b><br><br>continent=Oceania<br>year=1977<br>gdpPercap=%{x}<br>lifeExp=%{y}<br>pop=%{marker.size}<extra></extra>",
           "hovertext": [
            "Australia",
            "New Zealand"
           ],
           "ids": [
            "Australia",
            "New Zealand"
           ],
           "legendgroup": "Oceania",
           "marker": {
            "color": "#FFA15A",
            "size": [
             14074100,
             3164900
            ],
            "sizemode": "area",
            "sizeref": 435928.2961983471,
            "symbol": "circle"
           },
           "mode": "markers",
           "name": "Oceania",
           "orientation": "v",
           "showlegend": true,
           "type": "scatter",
           "x": [
            18334.19751,
            16233.7177
           ],
           "xaxis": "x",
           "y": [
            73.49,
            72.22
           ],
           "yaxis": "y"
          }
         ],
         "name": "1977"
        },
        {
         "data": [
          {
           "hovertemplate": "<b>%{hovertext}</b><br><br>continent=Asia<br>year=1982<br>gdpPercap=%{x}<br>lifeExp=%{y}<br>pop=%{marker.size}<extra></extra>",
           "hovertext": [
            "Afghanistan",
            "Bahrain",
            "Bangladesh",
            "Cambodia",
            "China",
            "Hong Kong, China",
            "India",
            "Indonesia",
            "Iran",
            "Iraq",
            "Israel",
            "Japan",
            "Jordan",
            "Korea, Dem. Rep.",
            "Korea, Rep.",
            "Kuwait",
            "Lebanon",
            "Malaysia",
            "Mongolia",
            "Myanmar",
            "Nepal",
            "Oman",
            "Pakistan",
            "Philippines",
            "Saudi Arabia",
            "Singapore",
            "Sri Lanka",
            "Syria",
            "Taiwan",
            "Thailand",
            "Vietnam",
            "West Bank and Gaza",
            "Yemen, Rep."
           ],
           "ids": [
            "Afghanistan",
            "Bahrain",
            "Bangladesh",
            "Cambodia",
            "China",
            "Hong Kong, China",
            "India",
            "Indonesia",
            "Iran",
            "Iraq",
            "Israel",
            "Japan",
            "Jordan",
            "Korea, Dem. Rep.",
            "Korea, Rep.",
            "Kuwait",
            "Lebanon",
            "Malaysia",
            "Mongolia",
            "Myanmar",
            "Nepal",
            "Oman",
            "Pakistan",
            "Philippines",
            "Saudi Arabia",
            "Singapore",
            "Sri Lanka",
            "Syria",
            "Taiwan",
            "Thailand",
            "Vietnam",
            "West Bank and Gaza",
            "Yemen, Rep."
           ],
           "legendgroup": "Asia",
           "marker": {
            "color": "#636efa",
            "size": [
             12881816,
             377967,
             93074406,
             7272485,
             1000281000,
             5264500,
             708000000,
             153343000,
             43072751,
             14173318,
             3858421,
             118454974,
             2347031,
             17647518,
             39326000,
             1497494,
             3086876,
             14441916,
             1756032,
             34680442,
             15796314,
             1301048,
             91462088,
             53456774,
             11254672,
             2651869,
             15410151,
             9410494,
             18501390,
             48827160,
             56142181,
             1425876,
             9657618
            ],
            "sizemode": "area",
            "sizeref": 435928.2961983471,
            "symbol": "circle"
           },
           "mode": "markers",
           "name": "Asia",
           "orientation": "v",
           "showlegend": true,
           "type": "scatter",
           "x": [
            978.0114388,
            19211.14731,
            676.9818656,
            624.4754784,
            962.4213805,
            14560.53051,
            855.7235377000002,
            1516.872988,
            7608.334602,
            14517.90711,
            15367.0292,
            19384.10571,
            4161.415959,
            4106.525293,
            5622.942464,
            31354.03573,
            7640.519520999998,
            4920.355951,
            2000.603139,
            424,
            718.3730947,
            12954.79101,
            1443.429832,
            2603.273765,
            33693.17525,
            15169.16112,
            1648.079789,
            3761.837715,
            7426.3547739999985,
            2393.219781,
            707.2357863,
            4336.032082,
            1977.55701
           ],
           "xaxis": "x",
           "y": [
            39.854,
            69.05199999999999,
            50.00899999999999,
            50.957,
            65.525,
            75.45,
            56.596,
            56.159,
            59.62,
            62.038,
            74.45,
            77.11,
            63.739,
            69.1,
            67.123,
            71.309,
            66.983,
            68,
            57.489,
            58.056,
            49.594,
            62.728,
            56.158,
            62.082,
            63.012,
            71.76,
            68.757,
            64.59,
            72.16,
            64.597,
            58.816,
            64.406,
            49.113
           ],
           "yaxis": "y"
          },
          {
           "hovertemplate": "<b>%{hovertext}</b><br><br>continent=Europe<br>year=1982<br>gdpPercap=%{x}<br>lifeExp=%{y}<br>pop=%{marker.size}<extra></extra>",
           "hovertext": [
            "Albania",
            "Austria",
            "Belgium",
            "Bosnia and Herzegovina",
            "Bulgaria",
            "Croatia",
            "Czech Republic",
            "Denmark",
            "Finland",
            "France",
            "Germany",
            "Greece",
            "Hungary",
            "Iceland",
            "Ireland",
            "Italy",
            "Montenegro",
            "Netherlands",
            "Norway",
            "Poland",
            "Portugal",
            "Romania",
            "Serbia",
            "Slovak Republic",
            "Slovenia",
            "Spain",
            "Sweden",
            "Switzerland",
            "Turkey",
            "United Kingdom"
           ],
           "ids": [
            "Albania",
            "Austria",
            "Belgium",
            "Bosnia and Herzegovina",
            "Bulgaria",
            "Croatia",
            "Czech Republic",
            "Denmark",
            "Finland",
            "France",
            "Germany",
            "Greece",
            "Hungary",
            "Iceland",
            "Ireland",
            "Italy",
            "Montenegro",
            "Netherlands",
            "Norway",
            "Poland",
            "Portugal",
            "Romania",
            "Serbia",
            "Slovak Republic",
            "Slovenia",
            "Spain",
            "Sweden",
            "Switzerland",
            "Turkey",
            "United Kingdom"
           ],
           "legendgroup": "Europe",
           "marker": {
            "color": "#EF553B",
            "size": [
             2780097,
             7574613,
             9856303,
             4172693,
             8892098,
             4413368,
             10303704,
             5117810,
             4826933,
             54433565,
             78335266,
             9786480,
             10705535,
             233997,
             3480000,
             56535636,
             562548,
             14310401,
             4114787,
             36227381,
             9859650,
             22356726,
             9032824,
             5048043,
             1861252,
             37983310,
             8325260,
             6468126,
             47328791,
             56339704
            ],
            "sizemode": "area",
            "sizeref": 435928.2961983471,
            "symbol": "circle"
           },
           "mode": "markers",
           "name": "Europe",
           "orientation": "v",
           "showlegend": true,
           "type": "scatter",
           "x": [
            3630.880722,
            21597.08362,
            20979.84589,
            4126.613157,
            8224.191647,
            13221.82184,
            15377.22855,
            21688.04048,
            18533.15761,
            20293.89746,
            22031.53274,
            15268.42089,
            12545.99066,
            23269.6075,
            12618.32141,
            16537.4835,
            11222.58762,
            21399.46046,
            26298.63531,
            8451.531004,
            11753.84291,
            9605.314053,
            15181.0927,
            11348.54585,
            17866.72175,
            13926.16997,
            20667.38125,
            28397.71512,
            4241.356344,
            18232.42452
           ],
           "xaxis": "x",
           "y": [
            70.42,
            73.18,
            73.93,
            70.69,
            71.08,
            70.46,
            70.96,
            74.63,
            74.55,
            74.89,
            73.8,
            75.24,
            69.39,
            76.99,
            73.1,
            74.98,
            74.101,
            76.05,
            75.97,
            71.32,
            72.77,
            69.66,
            70.16199999999999,
            70.8,
            71.063,
            76.3,
            76.42,
            76.21,
            61.036,
            74.04
           ],
           "yaxis": "y"
          },
          {
           "hovertemplate": "<b>%{hovertext}</b><br><br>continent=Africa<br>year=1982<br>gdpPercap=%{x}<br>lifeExp=%{y}<br>pop=%{marker.size}<extra></extra>",
           "hovertext": [
            "Algeria",
            "Angola",
            "Benin",
            "Botswana",
            "Burkina Faso",
            "Burundi",
            "Cameroon",
            "Central African Republic",
            "Chad",
            "Comoros",
            "Congo, Dem. Rep.",
            "Congo, Rep.",
            "Cote d'Ivoire",
            "Djibouti",
            "Egypt",
            "Equatorial Guinea",
            "Eritrea",
            "Ethiopia",
            "Gabon",
            "Gambia",
            "Ghana",
            "Guinea",
            "Guinea-Bissau",
            "Kenya",
            "Lesotho",
            "Liberia",
            "Libya",
            "Madagascar",
            "Malawi",
            "Mali",
            "Mauritania",
            "Mauritius",
            "Morocco",
            "Mozambique",
            "Namibia",
            "Niger",
            "Nigeria",
            "Reunion",
            "Rwanda",
            "Sao Tome and Principe",
            "Senegal",
            "Sierra Leone",
            "Somalia",
            "South Africa",
            "Sudan",
            "Swaziland",
            "Tanzania",
            "Togo",
            "Tunisia",
            "Uganda",
            "Zambia",
            "Zimbabwe"
           ],
           "ids": [
            "Algeria",
            "Angola",
            "Benin",
            "Botswana",
            "Burkina Faso",
            "Burundi",
            "Cameroon",
            "Central African Republic",
            "Chad",
            "Comoros",
            "Congo, Dem. Rep.",
            "Congo, Rep.",
            "Cote d'Ivoire",
            "Djibouti",
            "Egypt",
            "Equatorial Guinea",
            "Eritrea",
            "Ethiopia",
            "Gabon",
            "Gambia",
            "Ghana",
            "Guinea",
            "Guinea-Bissau",
            "Kenya",
            "Lesotho",
            "Liberia",
            "Libya",
            "Madagascar",
            "Malawi",
            "Mali",
            "Mauritania",
            "Mauritius",
            "Morocco",
            "Mozambique",
            "Namibia",
            "Niger",
            "Nigeria",
            "Reunion",
            "Rwanda",
            "Sao Tome and Principe",
            "Senegal",
            "Sierra Leone",
            "Somalia",
            "South Africa",
            "Sudan",
            "Swaziland",
            "Tanzania",
            "Togo",
            "Tunisia",
            "Uganda",
            "Zambia",
            "Zimbabwe"
           ],
           "legendgroup": "Africa",
           "marker": {
            "color": "#00cc96",
            "size": [
             20033753,
             7016384,
             3641603,
             970347,
             6634596,
             4580410,
             9250831,
             2476971,
             4875118,
             348643,
             30646495,
             1774735,
             9025951,
             305991,
             45681811,
             285483,
             2637297,
             38111756,
             753874,
             715523,
             11400338,
             4710497,
             825987,
             17661452,
             1411807,
             1956875,
             3344074,
             9171477,
             6502825,
             6998256,
             1622136,
             992040,
             20198730,
             12587223,
             1099010,
             6437188,
             73039376,
             517810,
             5507565,
             98593,
             6147783,
             3464522,
             5828892,
             31140029,
             20367053,
             649901,
             19844382,
             2644765,
             6734098,
             12939400,
             6100407,
             7636524
            ],
            "sizemode": "area",
            "sizeref": 435928.2961983471,
            "symbol": "circle"
           },
           "mode": "markers",
           "name": "Africa",
           "orientation": "v",
           "showlegend": true,
           "type": "scatter",
           "x": [
            5745.160213,
            2756.953672,
            1277.897616,
            4551.14215,
            807.1985855,
            559.6032309999998,
            2367.983282,
            956.7529907,
            797.9081006,
            1267.100083,
            673.7478181,
            4879.507522,
            2602.710169,
            2879.468067,
            3503.729636,
            927.8253427,
            524.8758493,
            577.8607471,
            15113.36194,
            835.8096107999999,
            876.032569,
            857.2503577,
            838.1239671,
            1348.225791,
            797.2631074,
            572.1995694,
            17364.275380000006,
            1302.878658,
            632.8039209,
            618.0140640999998,
            1481.150189,
            3688.037739,
            2702.620356,
            462.2114149,
            4191.100511,
            909.7221354,
            1576.97375,
            5267.219353,
            881.5706467,
            1890.218117,
            1518.479984,
            1465.010784,
            1176.807031,
            8568.266228,
            1895.544073,
            3895.384018,
            874.2426069,
            1344.577953,
            3560.2331740000004,
            682.2662267999998,
            1408.678565,
            788.8550411
           ],
           "xaxis": "x",
           "y": [
            61.368,
            39.942,
            50.904,
            61.484,
            48.122,
            47.471,
            52.96100000000001,
            48.295,
            49.517,
            52.933,
            47.784,
            56.695,
            53.983,
            48.812,
            56.006,
            43.662,
            43.89,
            44.916,
            56.56399999999999,
            45.58,
            53.744,
            42.89100000000001,
            39.327,
            58.76600000000001,
            55.078,
            44.852,
            62.155,
            48.969,
            45.642,
            43.916,
            53.599,
            66.711,
            59.65,
            42.795,
            58.968,
            42.598,
            45.826,
            69.885,
            46.218,
            60.351000000000006,
            52.379,
            38.445,
            42.955,
            58.161,
            50.338,
            55.56100000000001,
            50.608,
            55.471,
            64.048,
            49.849,
            51.82100000000001,
            60.363
           ],
           "yaxis": "y"
          },
          {
           "hovertemplate": "<b>%{hovertext}</b><br><br>continent=Americas<br>year=1982<br>gdpPercap=%{x}<br>lifeExp=%{y}<br>pop=%{marker.size}<extra></extra>",
           "hovertext": [
            "Argentina",
            "Bolivia",
            "Brazil",
            "Canada",
            "Chile",
            "Colombia",
            "Costa Rica",
            "Cuba",
            "Dominican Republic",
            "Ecuador",
            "El Salvador",
            "Guatemala",
            "Haiti",
            "Honduras",
            "Jamaica",
            "Mexico",
            "Nicaragua",
            "Panama",
            "Paraguay",
            "Peru",
            "Puerto Rico",
            "Trinidad and Tobago",
            "United States",
            "Uruguay",
            "Venezuela"
           ],
           "ids": [
            "Argentina",
            "Bolivia",
            "Brazil",
            "Canada",
            "Chile",
            "Colombia",
            "Costa Rica",
            "Cuba",
            "Dominican Republic",
            "Ecuador",
            "El Salvador",
            "Guatemala",
            "Haiti",
            "Honduras",
            "Jamaica",
            "Mexico",
            "Nicaragua",
            "Panama",
            "Paraguay",
            "Peru",
            "Puerto Rico",
            "Trinidad and Tobago",
            "United States",
            "Uruguay",
            "Venezuela"
           ],
           "legendgroup": "Americas",
           "marker": {
            "color": "#ab63fa",
            "size": [
             29341374,
             5642224,
             128962939,
             25201900,
             11487112,
             27764644,
             2424367,
             9789224,
             5968349,
             8365850,
             4474873,
             6395630,
             5198399,
             3669448,
             2298309,
             71640904,
             2979423,
             2036305,
             3366439,
             18125129,
             3279001,
             1116479,
             232187835,
             2953997,
             15620766
            ],
            "sizemode": "area",
            "sizeref": 435928.2961983471,
            "symbol": "circle"
           },
           "mode": "markers",
           "name": "Americas",
           "orientation": "v",
           "showlegend": true,
           "type": "scatter",
           "x": [
            8997.897412,
            3156.510452,
            7030.835878,
            22898.79214,
            5095.6657380000015,
            4397.575659,
            5262.734751,
            7316.918106999998,
            2861.092386,
            7213.791267,
            4098.344175,
            4820.49479,
            2011.159549,
            3121.7607940000007,
            6068.05135,
            9611.147541,
            3470.3381560000007,
            7009.601598,
            4258.503604,
            6434.501797,
            10330.98915,
            9119.528607,
            25009.55914,
            6920.223051000001,
            11152.41011
           ],
           "xaxis": "x",
           "y": [
            69.942,
            53.859,
            63.33600000000001,
            75.76,
            70.565,
            66.653,
            73.45,
            73.717,
            63.727,
            64.342,
            56.604,
            58.137,
            51.46100000000001,
            60.909,
            71.21,
            67.405,
            59.298,
            70.472,
            66.874,
            61.40600000000001,
            73.75,
            68.832,
            74.65,
            70.805,
            68.557
           ],
           "yaxis": "y"
          },
          {
           "hovertemplate": "<b>%{hovertext}</b><br><br>continent=Oceania<br>year=1982<br>gdpPercap=%{x}<br>lifeExp=%{y}<br>pop=%{marker.size}<extra></extra>",
           "hovertext": [
            "Australia",
            "New Zealand"
           ],
           "ids": [
            "Australia",
            "New Zealand"
           ],
           "legendgroup": "Oceania",
           "marker": {
            "color": "#FFA15A",
            "size": [
             15184200,
             3210650
            ],
            "sizemode": "area",
            "sizeref": 435928.2961983471,
            "symbol": "circle"
           },
           "mode": "markers",
           "name": "Oceania",
           "orientation": "v",
           "showlegend": true,
           "type": "scatter",
           "x": [
            19477.00928,
            17632.4104
           ],
           "xaxis": "x",
           "y": [
            74.74,
            73.84
           ],
           "yaxis": "y"
          }
         ],
         "name": "1982"
        },
        {
         "data": [
          {
           "hovertemplate": "<b>%{hovertext}</b><br><br>continent=Asia<br>year=1987<br>gdpPercap=%{x}<br>lifeExp=%{y}<br>pop=%{marker.size}<extra></extra>",
           "hovertext": [
            "Afghanistan",
            "Bahrain",
            "Bangladesh",
            "Cambodia",
            "China",
            "Hong Kong, China",
            "India",
            "Indonesia",
            "Iran",
            "Iraq",
            "Israel",
            "Japan",
            "Jordan",
            "Korea, Dem. Rep.",
            "Korea, Rep.",
            "Kuwait",
            "Lebanon",
            "Malaysia",
            "Mongolia",
            "Myanmar",
            "Nepal",
            "Oman",
            "Pakistan",
            "Philippines",
            "Saudi Arabia",
            "Singapore",
            "Sri Lanka",
            "Syria",
            "Taiwan",
            "Thailand",
            "Vietnam",
            "West Bank and Gaza",
            "Yemen, Rep."
           ],
           "ids": [
            "Afghanistan",
            "Bahrain",
            "Bangladesh",
            "Cambodia",
            "China",
            "Hong Kong, China",
            "India",
            "Indonesia",
            "Iran",
            "Iraq",
            "Israel",
            "Japan",
            "Jordan",
            "Korea, Dem. Rep.",
            "Korea, Rep.",
            "Kuwait",
            "Lebanon",
            "Malaysia",
            "Mongolia",
            "Myanmar",
            "Nepal",
            "Oman",
            "Pakistan",
            "Philippines",
            "Saudi Arabia",
            "Singapore",
            "Sri Lanka",
            "Syria",
            "Taiwan",
            "Thailand",
            "Vietnam",
            "West Bank and Gaza",
            "Yemen, Rep."
           ],
           "legendgroup": "Asia",
           "marker": {
            "color": "#636efa",
            "size": [
             13867957,
             454612,
             103764241,
             8371791,
             1084035000,
             5584510,
             788000000,
             169276000,
             51889696,
             16543189,
             4203148,
             122091325,
             2820042,
             19067554,
             41622000,
             1891487,
             3089353,
             16331785,
             2015133,
             38028578,
             17917180,
             1593882,
             105186881,
             60017788,
             14619745,
             2794552,
             16495304,
             11242847,
             19757799,
             52910342,
             62826491,
             1691210,
             11219340
            ],
            "sizemode": "area",
            "sizeref": 435928.2961983471,
            "symbol": "circle"
           },
           "mode": "markers",
           "name": "Asia",
           "orientation": "v",
           "showlegend": true,
           "type": "scatter",
           "x": [
            852.3959447999998,
            18524.02406,
            751.9794035,
            683.8955732000002,
            1378.904018,
            20038.47269,
            976.5126756,
            1748.356961,
            6642.881371,
            11643.57268,
            17122.47986,
            22375.94189,
            4448.679912,
            4106.492315,
            8533.088805,
            28118.42998,
            5377.091329,
            5249.802653,
            2338.008304,
            385,
            775.6324501,
            18115.22313,
            1704.686583,
            2189.634995,
            21198.26136,
            18861.53081,
            1876.766827,
            3116.774285,
            11054.56175,
            2982.653773,
            820.7994449,
            5107.197384,
            1971.741538
           ],
           "xaxis": "x",
           "y": [
            40.822,
            70.75,
            52.819,
            53.914,
            67.274,
            76.2,
            58.553,
            60.137,
            63.04,
            65.044,
            75.6,
            78.67,
            65.869,
            70.64699999999998,
            69.81,
            74.17399999999998,
            67.926,
            69.5,
            60.222,
            58.339,
            52.537,
            67.734,
            58.245,
            64.15100000000001,
            66.295,
            73.56,
            69.01100000000001,
            66.97399999999999,
            73.4,
            66.084,
            62.82,
            67.046,
            52.922
           ],
           "yaxis": "y"
          },
          {
           "hovertemplate": "<b>%{hovertext}</b><br><br>continent=Europe<br>year=1987<br>gdpPercap=%{x}<br>lifeExp=%{y}<br>pop=%{marker.size}<extra></extra>",
           "hovertext": [
            "Albania",
            "Austria",
            "Belgium",
            "Bosnia and Herzegovina",
            "Bulgaria",
            "Croatia",
            "Czech Republic",
            "Denmark",
            "Finland",
            "France",
            "Germany",
            "Greece",
            "Hungary",
            "Iceland",
            "Ireland",
            "Italy",
            "Montenegro",
            "Netherlands",
            "Norway",
            "Poland",
            "Portugal",
            "Romania",
            "Serbia",
            "Slovak Republic",
            "Slovenia",
            "Spain",
            "Sweden",
            "Switzerland",
            "Turkey",
            "United Kingdom"
           ],
           "ids": [
            "Albania",
            "Austria",
            "Belgium",
            "Bosnia and Herzegovina",
            "Bulgaria",
            "Croatia",
            "Czech Republic",
            "Denmark",
            "Finland",
            "France",
            "Germany",
            "Greece",
            "Hungary",
            "Iceland",
            "Ireland",
            "Italy",
            "Montenegro",
            "Netherlands",
            "Norway",
            "Poland",
            "Portugal",
            "Romania",
            "Serbia",
            "Slovak Republic",
            "Slovenia",
            "Spain",
            "Sweden",
            "Switzerland",
            "Turkey",
            "United Kingdom"
           ],
           "legendgroup": "Europe",
           "marker": {
            "color": "#EF553B",
            "size": [
             3075321,
             7578903,
             9870200,
             4338977,
             8971958,
             4484310,
             10311597,
             5127024,
             4931729,
             55630100,
             77718298,
             9974490,
             10612740,
             244676,
             3539900,
             56729703,
             569473,
             14665278,
             4186147,
             37740710,
             9915289,
             22686371,
             9230783,
             5199318,
             1945870,
             38880702,
             8421403,
             6649942,
             52881328,
             56981620
            ],
            "sizemode": "area",
            "sizeref": 435928.2961983471,
            "symbol": "circle"
           },
           "mode": "markers",
           "name": "Europe",
           "orientation": "v",
           "showlegend": true,
           "type": "scatter",
           "x": [
            3738.932735,
            23687.82607,
            22525.56308,
            4314.114757,
            8239.854824,
            13822.58394,
            16310.4434,
            25116.17581,
            21141.01223,
            22066.44214,
            24639.18566,
            16120.52839,
            12986.47998,
            26923.20628,
            13872.86652,
            19207.23482,
            11732.51017,
            23651.32361,
            31540.9748,
            9082.351172,
            13039.30876,
            9696.273295,
            15870.87851,
            12037.26758,
            18678.53492,
            15764.98313,
            23586.92927,
            30281.70459,
            5089.043686,
            21664.78767
           ],
           "xaxis": "x",
           "y": [
            72,
            74.94,
            75.35,
            71.14,
            71.34,
            71.52,
            71.58,
            74.8,
            74.83,
            76.34,
            74.847,
            76.67,
            69.58,
            77.23,
            74.36,
            76.42,
            74.865,
            76.83,
            75.89,
            70.98,
            74.06,
            69.53,
            71.218,
            71.08,
            72.25,
            76.9,
            77.19,
            77.41,
            63.108,
            75.007
           ],
           "yaxis": "y"
          },
          {
           "hovertemplate": "<b>%{hovertext}</b><br><br>continent=Africa<br>year=1987<br>gdpPercap=%{x}<br>lifeExp=%{y}<br>pop=%{marker.size}<extra></extra>",
           "hovertext": [
            "Algeria",
            "Angola",
            "Benin",
            "Botswana",
            "Burkina Faso",
            "Burundi",
            "Cameroon",
            "Central African Republic",
            "Chad",
            "Comoros",
            "Congo, Dem. Rep.",
            "Congo, Rep.",
            "Cote d'Ivoire",
            "Djibouti",
            "Egypt",
            "Equatorial Guinea",
            "Eritrea",
            "Ethiopia",
            "Gabon",
            "Gambia",
            "Ghana",
            "Guinea",
            "Guinea-Bissau",
            "Kenya",
            "Lesotho",
            "Liberia",
            "Libya",
            "Madagascar",
            "Malawi",
            "Mali",
            "Mauritania",
            "Mauritius",
            "Morocco",
            "Mozambique",
            "Namibia",
            "Niger",
            "Nigeria",
            "Reunion",
            "Rwanda",
            "Sao Tome and Principe",
            "Senegal",
            "Sierra Leone",
            "Somalia",
            "South Africa",
            "Sudan",
            "Swaziland",
            "Tanzania",
            "Togo",
            "Tunisia",
            "Uganda",
            "Zambia",
            "Zimbabwe"
           ],
           "ids": [
            "Algeria",
            "Angola",
            "Benin",
            "Botswana",
            "Burkina Faso",
            "Burundi",
            "Cameroon",
            "Central African Republic",
            "Chad",
            "Comoros",
            "Congo, Dem. Rep.",
            "Congo, Rep.",
            "Cote d'Ivoire",
            "Djibouti",
            "Egypt",
            "Equatorial Guinea",
            "Eritrea",
            "Ethiopia",
            "Gabon",
            "Gambia",
            "Ghana",
            "Guinea",
            "Guinea-Bissau",
            "Kenya",
            "Lesotho",
            "Liberia",
            "Libya",
            "Madagascar",
            "Malawi",
            "Mali",
            "Mauritania",
            "Mauritius",
            "Morocco",
            "Mozambique",
            "Namibia",
            "Niger",
            "Nigeria",
            "Reunion",
            "Rwanda",
            "Sao Tome and Principe",
            "Senegal",
            "Sierra Leone",
            "Somalia",
            "South Africa",
            "Sudan",
            "Swaziland",
            "Tanzania",
            "Togo",
            "Tunisia",
            "Uganda",
            "Zambia",
            "Zimbabwe"
           ],
           "legendgroup": "Africa",
           "marker": {
            "color": "#00cc96",
            "size": [
             23254956,
             7874230,
             4243788,
             1151184,
             7586551,
             5126023,
             10780667,
             2840009,
             5498955,
             395114,
             35481645,
             2064095,
             10761098,
             311025,
             52799062,
             341244,
             2915959,
             42999530,
             880397,
             848406,
             14168101,
             5650262,
             927524,
             21198082,
             1599200,
             2269414,
             3799845,
             10568642,
             7824747,
             7634008,
             1841240,
             1042663,
             22987397,
             12891952,
             1278184,
             7332638,
             81551520,
             562035,
             6349365,
             110812,
             7171347,
             3868905,
             6921858,
             35933379,
             24725960,
             779348,
             23040630,
             3154264,
             7724976,
             15283050,
             7272406,
             9216418
            ],
            "sizemode": "area",
            "sizeref": 435928.2961983471,
            "symbol": "circle"
           },
           "mode": "markers",
           "name": "Africa",
           "orientation": "v",
           "showlegend": true,
           "type": "scatter",
           "x": [
            5681.358539,
            2430.208311,
            1225.85601,
            6205.88385,
            912.0631417,
            621.8188188999999,
            2602.664206,
            844.8763504000002,
            952.386129,
            1315.980812,
            672.774812,
            4201.194936999998,
            2156.9560690000008,
            2880.102568,
            3885.46071,
            966.8968149,
            521.1341333,
            573.7413142000001,
            11864.40844,
            611.6588611000002,
            847.0061135,
            805.5724717999999,
            736.4153921,
            1361.936856,
            773.9932140999998,
            506.1138573,
            11770.5898,
            1155.441948,
            635.5173633999998,
            684.1715576,
            1421.603576,
            4783.586903,
            2755.046991,
            389.8761846,
            3693.731337,
            668.3000228,
            1385.029563,
            5303.377488,
            847.991217,
            1516.525457,
            1441.72072,
            1294.4477880000004,
            1093.244963,
            7825.823398,
            1507.819159,
            3984.839812,
            831.8220794,
            1202.201361,
            3810.419296,
            617.7244065,
            1213.315116,
            706.1573059
           ],
           "xaxis": "x",
           "y": [
            65.79899999999999,
            39.906,
            52.337,
            63.622,
            49.557,
            48.21100000000001,
            54.985,
            50.485,
            51.051,
            54.926,
            47.412,
            57.47,
            54.655,
            50.04,
            59.797,
            45.664,
            46.453,
            46.684,
            60.19,
            49.265,
            55.729,
            45.552,
            41.245,
            59.339,
            57.18,
            46.027,
            66.234,
            49.35,
            47.457,
            46.364,
            56.145,
            68.74,
            62.677,
            42.861,
            60.835,
            44.555,
            46.886,
            71.913,
            44.02,
            61.728,
            55.769,
            40.006,
            44.50100000000001,
            60.834,
            51.744,
            57.678,
            51.535,
            56.941,
            66.89399999999999,
            51.50899999999999,
            50.82100000000001,
            62.351000000000006
           ],
           "yaxis": "y"
          },
          {
           "hovertemplate": "<b>%{hovertext}</b><br><br>continent=Americas<br>year=1987<br>gdpPercap=%{x}<br>lifeExp=%{y}<br>pop=%{marker.size}<extra></extra>",
           "hovertext": [
            "Argentina",
            "Bolivia",
            "Brazil",
            "Canada",
            "Chile",
            "Colombia",
            "Costa Rica",
            "Cuba",
            "Dominican Republic",
            "Ecuador",
            "El Salvador",
            "Guatemala",
            "Haiti",
            "Honduras",
            "Jamaica",
            "Mexico",
            "Nicaragua",
            "Panama",
            "Paraguay",
            "Peru",
            "Puerto Rico",
            "Trinidad and Tobago",
            "United States",
            "Uruguay",
            "Venezuela"
           ],
           "ids": [
            "Argentina",
            "Bolivia",
            "Brazil",
            "Canada",
            "Chile",
            "Colombia",
            "Costa Rica",
            "Cuba",
            "Dominican Republic",
            "Ecuador",
            "El Salvador",
            "Guatemala",
            "Haiti",
            "Honduras",
            "Jamaica",
            "Mexico",
            "Nicaragua",
            "Panama",
            "Paraguay",
            "Peru",
            "Puerto Rico",
            "Trinidad and Tobago",
            "United States",
            "Uruguay",
            "Venezuela"
           ],
           "legendgroup": "Americas",
           "marker": {
            "color": "#ab63fa",
            "size": [
             31620918,
             6156369,
             142938076,
             26549700,
             12463354,
             30964245,
             2799811,
             10239839,
             6655297,
             9545158,
             4842194,
             7326406,
             5756203,
             4372203,
             2326606,
             80122492,
             3344353,
             2253639,
             3886512,
             20195924,
             3444468,
             1191336,
             242803533,
             3045153,
             17910182
            ],
            "sizemode": "area",
            "sizeref": 435928.2961983471,
            "symbol": "circle"
           },
           "mode": "markers",
           "name": "Americas",
           "orientation": "v",
           "showlegend": true,
           "type": "scatter",
           "x": [
            9139.671389,
            2753.69149,
            7807.095818000002,
            26626.51503,
            5547.063754,
            4903.2191,
            5629.915318,
            7532.924762999999,
            2899.842175,
            6481.776993,
            4140.442097,
            4246.485974,
            1823.015995,
            3023.096699,
            6351.237495,
            8688.156003,
            2955.984375,
            7034.779161,
            3998.875695,
            6360.943444,
            12281.34191,
            7388.597823,
            29884.350410000006,
            7452.398969,
            9883.584648
           ],
           "xaxis": "x",
           "y": [
            70.774,
            57.25100000000001,
            65.205,
            76.86,
            72.492,
            67.768,
            74.752,
            74.17399999999998,
            66.046,
            67.23100000000001,
            63.154,
            60.782,
            53.636,
            64.492,
            71.77,
            69.498,
            62.008,
            71.523,
            67.378,
            64.134,
            74.63,
            69.582,
            75.02,
            71.918,
            70.19
           ],
           "yaxis": "y"
          },
          {
           "hovertemplate": "<b>%{hovertext}</b><br><br>continent=Oceania<br>year=1987<br>gdpPercap=%{x}<br>lifeExp=%{y}<br>pop=%{marker.size}<extra></extra>",
           "hovertext": [
            "Australia",
            "New Zealand"
           ],
           "ids": [
            "Australia",
            "New Zealand"
           ],
           "legendgroup": "Oceania",
           "marker": {
            "color": "#FFA15A",
            "size": [
             16257249,
             3317166
            ],
            "sizemode": "area",
            "sizeref": 435928.2961983471,
            "symbol": "circle"
           },
           "mode": "markers",
           "name": "Oceania",
           "orientation": "v",
           "showlegend": true,
           "type": "scatter",
           "x": [
            21888.88903,
            19007.19129
           ],
           "xaxis": "x",
           "y": [
            76.32,
            74.32
           ],
           "yaxis": "y"
          }
         ],
         "name": "1987"
        },
        {
         "data": [
          {
           "hovertemplate": "<b>%{hovertext}</b><br><br>continent=Asia<br>year=1992<br>gdpPercap=%{x}<br>lifeExp=%{y}<br>pop=%{marker.size}<extra></extra>",
           "hovertext": [
            "Afghanistan",
            "Bahrain",
            "Bangladesh",
            "Cambodia",
            "China",
            "Hong Kong, China",
            "India",
            "Indonesia",
            "Iran",
            "Iraq",
            "Israel",
            "Japan",
            "Jordan",
            "Korea, Dem. Rep.",
            "Korea, Rep.",
            "Kuwait",
            "Lebanon",
            "Malaysia",
            "Mongolia",
            "Myanmar",
            "Nepal",
            "Oman",
            "Pakistan",
            "Philippines",
            "Saudi Arabia",
            "Singapore",
            "Sri Lanka",
            "Syria",
            "Taiwan",
            "Thailand",
            "Vietnam",
            "West Bank and Gaza",
            "Yemen, Rep."
           ],
           "ids": [
            "Afghanistan",
            "Bahrain",
            "Bangladesh",
            "Cambodia",
            "China",
            "Hong Kong, China",
            "India",
            "Indonesia",
            "Iran",
            "Iraq",
            "Israel",
            "Japan",
            "Jordan",
            "Korea, Dem. Rep.",
            "Korea, Rep.",
            "Kuwait",
            "Lebanon",
            "Malaysia",
            "Mongolia",
            "Myanmar",
            "Nepal",
            "Oman",
            "Pakistan",
            "Philippines",
            "Saudi Arabia",
            "Singapore",
            "Sri Lanka",
            "Syria",
            "Taiwan",
            "Thailand",
            "Vietnam",
            "West Bank and Gaza",
            "Yemen, Rep."
           ],
           "legendgroup": "Asia",
           "marker": {
            "color": "#636efa",
            "size": [
             16317921,
             529491,
             113704579,
             10150094,
             1164970000,
             5829696,
             872000000,
             184816000,
             60397973,
             17861905,
             4936550,
             124329269,
             3867409,
             20711375,
             43805450,
             1418095,
             3219994,
             18319502,
             2312802,
             40546538,
             20326209,
             1915208,
             120065004,
             67185766,
             16945857,
             3235865,
             17587060,
             13219062,
             20686918,
             56667095,
             69940728,
             2104779,
             13367997
            ],
            "sizemode": "area",
            "sizeref": 435928.2961983471,
            "symbol": "circle"
           },
           "mode": "markers",
           "name": "Asia",
           "orientation": "v",
           "showlegend": true,
           "type": "scatter",
           "x": [
            649.3413952000002,
            19035.57917,
            837.8101642999999,
            682.3031755,
            1655.784158,
            24757.60301,
            1164.406809,
            2383.140898,
            7235.653187999998,
            3745.640687,
            18051.52254,
            26824.89511,
            3431.593647,
            3726.063507,
            12104.27872,
            34932.91959,
            6890.806854,
            7277.912802,
            1785.402016,
            347,
            897.7403604,
            18616.70691,
            1971.829464,
            2279.324017000001,
            24841.61777,
            24769.8912,
            2153.739222,
            3340.542768,
            15215.6579,
            4616.896545000001,
            989.0231487,
            6017.654756,
            1879.496673
           ],
           "xaxis": "x",
           "y": [
            41.674,
            72.601,
            56.018,
            55.803,
            68.69,
            77.601,
            60.223,
            62.681,
            65.742,
            59.46100000000001,
            76.93,
            79.36,
            68.015,
            69.97800000000001,
            72.244,
            75.19,
            69.292,
            70.693,
            61.271,
            59.32,
            55.727,
            71.197,
            60.838,
            66.458,
            68.768,
            75.788,
            70.37899999999998,
            69.249,
            74.26,
            67.298,
            67.66199999999999,
            69.718,
            55.599
           ],
           "yaxis": "y"
          },
          {
           "hovertemplate": "<b>%{hovertext}</b><br><br>continent=Europe<br>year=1992<br>gdpPercap=%{x}<br>lifeExp=%{y}<br>pop=%{marker.size}<extra></extra>",
           "hovertext": [
            "Albania",
            "Austria",
            "Belgium",
            "Bosnia and Herzegovina",
            "Bulgaria",
            "Croatia",
            "Czech Republic",
            "Denmark",
            "Finland",
            "France",
            "Germany",
            "Greece",
            "Hungary",
            "Iceland",
            "Ireland",
            "Italy",
            "Montenegro",
            "Netherlands",
            "Norway",
            "Poland",
            "Portugal",
            "Romania",
            "Serbia",
            "Slovak Republic",
            "Slovenia",
            "Spain",
            "Sweden",
            "Switzerland",
            "Turkey",
            "United Kingdom"
           ],
           "ids": [
            "Albania",
            "Austria",
            "Belgium",
            "Bosnia and Herzegovina",
            "Bulgaria",
            "Croatia",
            "Czech Republic",
            "Denmark",
            "Finland",
            "France",
            "Germany",
            "Greece",
            "Hungary",
            "Iceland",
            "Ireland",
            "Italy",
            "Montenegro",
            "Netherlands",
            "Norway",
            "Poland",
            "Portugal",
            "Romania",
            "Serbia",
            "Slovak Republic",
            "Slovenia",
            "Spain",
            "Sweden",
            "Switzerland",
            "Turkey",
            "United Kingdom"
           ],
           "legendgroup": "Europe",
           "marker": {
            "color": "#EF553B",
            "size": [
             3326498,
             7914969,
             10045622,
             4256013,
             8658506,
             4494013,
             10315702,
             5171393,
             5041039,
             57374179,
             80597764,
             10325429,
             10348684,
             259012,
             3557761,
             56840847,
             621621,
             15174244,
             4286357,
             38370697,
             9927680,
             22797027,
             9826397,
             5302888,
             1999210,
             39549438,
             8718867,
             6995447,
             58179144,
             57866349
            ],
            "sizemode": "area",
            "sizeref": 435928.2961983471,
            "symbol": "circle"
           },
           "mode": "markers",
           "name": "Europe",
           "orientation": "v",
           "showlegend": true,
           "type": "scatter",
           "x": [
            2497.437901,
            27042.01868,
            25575.57069,
            2546.781445,
            6302.623438000001,
            8447.794873,
            14297.02122,
            26406.73985,
            20647.16499,
            24703.79615,
            26505.30317,
            17541.49634,
            10535.62855,
            25144.39201,
            17558.81555,
            22013.64486,
            7003.339037000002,
            26790.94961,
            33965.66115,
            7738.881247,
            16207.266630000002,
            6598.409903,
            9325.068238,
            9498.467723,
            14214.71681,
            18603.06452,
            23880.01683,
            31871.5303,
            5678.348271,
            22705.09254
           ],
           "xaxis": "x",
           "y": [
            71.581,
            76.04,
            76.46,
            72.178,
            71.19,
            72.527,
            72.4,
            75.33,
            75.7,
            77.46,
            76.07,
            77.03,
            69.17,
            78.77,
            75.467,
            77.44,
            75.435,
            77.42,
            77.32,
            70.99,
            74.86,
            69.36,
            71.65899999999998,
            71.38,
            73.64,
            77.57,
            78.16,
            78.03,
            66.146,
            76.42
           ],
           "yaxis": "y"
          },
          {
           "hovertemplate": "<b>%{hovertext}</b><br><br>continent=Africa<br>year=1992<br>gdpPercap=%{x}<br>lifeExp=%{y}<br>pop=%{marker.size}<extra></extra>",
           "hovertext": [
            "Algeria",
            "Angola",
            "Benin",
            "Botswana",
            "Burkina Faso",
            "Burundi",
            "Cameroon",
            "Central African Republic",
            "Chad",
            "Comoros",
            "Congo, Dem. Rep.",
            "Congo, Rep.",
            "Cote d'Ivoire",
            "Djibouti",
            "Egypt",
            "Equatorial Guinea",
            "Eritrea",
            "Ethiopia",
            "Gabon",
            "Gambia",
            "Ghana",
            "Guinea",
            "Guinea-Bissau",
            "Kenya",
            "Lesotho",
            "Liberia",
            "Libya",
            "Madagascar",
            "Malawi",
            "Mali",
            "Mauritania",
            "Mauritius",
            "Morocco",
            "Mozambique",
            "Namibia",
            "Niger",
            "Nigeria",
            "Reunion",
            "Rwanda",
            "Sao Tome and Principe",
            "Senegal",
            "Sierra Leone",
            "Somalia",
            "South Africa",
            "Sudan",
            "Swaziland",
            "Tanzania",
            "Togo",
            "Tunisia",
            "Uganda",
            "Zambia",
            "Zimbabwe"
           ],
           "ids": [
            "Algeria",
            "Angola",
            "Benin",
            "Botswana",
            "Burkina Faso",
            "Burundi",
            "Cameroon",
            "Central African Republic",
            "Chad",
            "Comoros",
            "Congo, Dem. Rep.",
            "Congo, Rep.",
            "Cote d'Ivoire",
            "Djibouti",
            "Egypt",
            "Equatorial Guinea",
            "Eritrea",
            "Ethiopia",
            "Gabon",
            "Gambia",
            "Ghana",
            "Guinea",
            "Guinea-Bissau",
            "Kenya",
            "Lesotho",
            "Liberia",
            "Libya",
            "Madagascar",
            "Malawi",
            "Mali",
            "Mauritania",
            "Mauritius",
            "Morocco",
            "Mozambique",
            "Namibia",
            "Niger",
            "Nigeria",
            "Reunion",
            "Rwanda",
            "Sao Tome and Principe",
            "Senegal",
            "Sierra Leone",
            "Somalia",
            "South Africa",
            "Sudan",
            "Swaziland",
            "Tanzania",
            "Togo",
            "Tunisia",
            "Uganda",
            "Zambia",
            "Zimbabwe"
           ],
           "legendgroup": "Africa",
           "marker": {
            "color": "#00cc96",
            "size": [
             26298373,
             8735988,
             4981671,
             1342614,
             8878303,
             5809236,
             12467171,
             3265124,
             6429417,
             454429,
             41672143,
             2409073,
             12772596,
             384156,
             59402198,
             387838,
             3668440,
             52088559,
             985739,
             1025384,
             16278738,
             6990574,
             1050938,
             25020539,
             1803195,
             1912974,
             4364501,
             12210395,
             10014249,
             8416215,
             2119465,
             1096202,
             25798239,
             13160731,
             1554253,
             8392818,
             93364244,
             622191,
             7290203,
             125911,
             8307920,
             4260884,
             6099799,
             39964159,
             28227588,
             962344,
             26605473,
             3747553,
             8523077,
             18252190,
             8381163,
             10704340
            ],
            "sizemode": "area",
            "sizeref": 435928.2961983471,
            "symbol": "circle"
           },
           "mode": "markers",
           "name": "Africa",
           "orientation": "v",
           "showlegend": true,
           "type": "scatter",
           "x": [
            5023.216647,
            2627.845685,
            1191.207681,
            7954.111645,
            931.7527731,
            631.6998778,
            1793.1632780000002,
            747.9055252,
            1058.0643,
            1246.90737,
            457.7191807,
            4016.239529,
            1648.073791,
            2377.156192000001,
            3794.755195,
            1132.055034,
            582.8585102000002,
            421.3534653,
            13522.15752,
            665.6244126,
            925.060154,
            794.3484384,
            745.5398706,
            1341.9217210000004,
            977.4862725,
            636.6229191000001,
            9640.138501,
            1040.67619,
            563.2000145,
            739.014375,
            1361.369784,
            6058.253846000001,
            2948.047252,
            410.8968239,
            3804.537999,
            581.182725,
            1619.848217,
            6101.255823,
            737.0685949,
            1428.777814,
            1367.899369,
            1068.696278,
            926.9602964,
            7225.069257999998,
            1492.197043,
            3553.0224,
            825.682454,
            1034.298904,
            4332.720164,
            644.1707968999998,
            1210.884633,
            693.4207856
           ],
           "xaxis": "x",
           "y": [
            67.744,
            40.647,
            53.919,
            62.745,
            50.26,
            44.736,
            54.31399999999999,
            49.396,
            51.724,
            57.93899999999999,
            45.548,
            56.433,
            52.044,
            51.604,
            63.674,
            47.545,
            49.99100000000001,
            48.091,
            61.36600000000001,
            52.644,
            57.50100000000001,
            48.576,
            43.26600000000001,
            59.285,
            59.685,
            40.802,
            68.755,
            52.214,
            49.42,
            48.38800000000001,
            58.333,
            69.745,
            65.393,
            44.284,
            61.999,
            47.39100000000001,
            47.472,
            73.615,
            23.599,
            62.742,
            58.19600000000001,
            38.333,
            39.658,
            61.88800000000001,
            53.556,
            58.474,
            50.44,
            58.06100000000001,
            70.001,
            48.825,
            46.1,
            60.377
           ],
           "yaxis": "y"
          },
          {
           "hovertemplate": "<b>%{hovertext}</b><br><br>continent=Americas<br>year=1992<br>gdpPercap=%{x}<br>lifeExp=%{y}<br>pop=%{marker.size}<extra></extra>",
           "hovertext": [
            "Argentina",
            "Bolivia",
            "Brazil",
            "Canada",
            "Chile",
            "Colombia",
            "Costa Rica",
            "Cuba",
            "Dominican Republic",
            "Ecuador",
            "El Salvador",
            "Guatemala",
            "Haiti",
            "Honduras",
            "Jamaica",
            "Mexico",
            "Nicaragua",
            "Panama",
            "Paraguay",
            "Peru",
            "Puerto Rico",
            "Trinidad and Tobago",
            "United States",
            "Uruguay",
            "Venezuela"
           ],
           "ids": [
            "Argentina",
            "Bolivia",
            "Brazil",
            "Canada",
            "Chile",
            "Colombia",
            "Costa Rica",
            "Cuba",
            "Dominican Republic",
            "Ecuador",
            "El Salvador",
            "Guatemala",
            "Haiti",
            "Honduras",
            "Jamaica",
            "Mexico",
            "Nicaragua",
            "Panama",
            "Paraguay",
            "Peru",
            "Puerto Rico",
            "Trinidad and Tobago",
            "United States",
            "Uruguay",
            "Venezuela"
           ],
           "legendgroup": "Americas",
           "marker": {
            "color": "#ab63fa",
            "size": [
             33958947,
             6893451,
             155975974,
             28523502,
             13572994,
             34202721,
             3173216,
             10723260,
             7351181,
             10748394,
             5274649,
             8486949,
             6326682,
             5077347,
             2378618,
             88111030,
             4017939,
             2484997,
             4483945,
             22430449,
             3585176,
             1183669,
             256894189,
             3149262,
             20265563
            ],
            "sizemode": "area",
            "sizeref": 435928.2961983471,
            "symbol": "circle"
           },
           "mode": "markers",
           "name": "Americas",
           "orientation": "v",
           "showlegend": true,
           "type": "scatter",
           "x": [
            9308.41871,
            2961.699694,
            6950.283020999998,
            26342.88426,
            7596.125964,
            5444.648617,
            6160.416317,
            5592.843963,
            3044.214214,
            7103.702595000002,
            4444.2317,
            4439.45084,
            1456.309517,
            3081.694603,
            7404.923685,
            9472.384295,
            2170.151724,
            6618.74305,
            4196.411078,
            4446.380924,
            14641.58711,
            7370.990932,
            32003.93224,
            8137.004775,
            10733.92631
           ],
           "xaxis": "x",
           "y": [
            71.868,
            59.957,
            67.057,
            77.95,
            74.126,
            68.421,
            75.71300000000002,
            74.414,
            68.457,
            69.613,
            66.798,
            63.37300000000001,
            55.089,
            66.399,
            71.766,
            71.455,
            65.843,
            72.462,
            68.225,
            66.458,
            73.911,
            69.862,
            76.09,
            72.752,
            71.15
           ],
           "yaxis": "y"
          },
          {
           "hovertemplate": "<b>%{hovertext}</b><br><br>continent=Oceania<br>year=1992<br>gdpPercap=%{x}<br>lifeExp=%{y}<br>pop=%{marker.size}<extra></extra>",
           "hovertext": [
            "Australia",
            "New Zealand"
           ],
           "ids": [
            "Australia",
            "New Zealand"
           ],
           "legendgroup": "Oceania",
           "marker": {
            "color": "#FFA15A",
            "size": [
             17481977,
             3437674
            ],
            "sizemode": "area",
            "sizeref": 435928.2961983471,
            "symbol": "circle"
           },
           "mode": "markers",
           "name": "Oceania",
           "orientation": "v",
           "showlegend": true,
           "type": "scatter",
           "x": [
            23424.76683,
            18363.32494
           ],
           "xaxis": "x",
           "y": [
            77.56,
            76.33
           ],
           "yaxis": "y"
          }
         ],
         "name": "1992"
        },
        {
         "data": [
          {
           "hovertemplate": "<b>%{hovertext}</b><br><br>continent=Asia<br>year=1997<br>gdpPercap=%{x}<br>lifeExp=%{y}<br>pop=%{marker.size}<extra></extra>",
           "hovertext": [
            "Afghanistan",
            "Bahrain",
            "Bangladesh",
            "Cambodia",
            "China",
            "Hong Kong, China",
            "India",
            "Indonesia",
            "Iran",
            "Iraq",
            "Israel",
            "Japan",
            "Jordan",
            "Korea, Dem. Rep.",
            "Korea, Rep.",
            "Kuwait",
            "Lebanon",
            "Malaysia",
            "Mongolia",
            "Myanmar",
            "Nepal",
            "Oman",
            "Pakistan",
            "Philippines",
            "Saudi Arabia",
            "Singapore",
            "Sri Lanka",
            "Syria",
            "Taiwan",
            "Thailand",
            "Vietnam",
            "West Bank and Gaza",
            "Yemen, Rep."
           ],
           "ids": [
            "Afghanistan",
            "Bahrain",
            "Bangladesh",
            "Cambodia",
            "China",
            "Hong Kong, China",
            "India",
            "Indonesia",
            "Iran",
            "Iraq",
            "Israel",
            "Japan",
            "Jordan",
            "Korea, Dem. Rep.",
            "Korea, Rep.",
            "Kuwait",
            "Lebanon",
            "Malaysia",
            "Mongolia",
            "Myanmar",
            "Nepal",
            "Oman",
            "Pakistan",
            "Philippines",
            "Saudi Arabia",
            "Singapore",
            "Sri Lanka",
            "Syria",
            "Taiwan",
            "Thailand",
            "Vietnam",
            "West Bank and Gaza",
            "Yemen, Rep."
           ],
           "legendgroup": "Asia",
           "marker": {
            "color": "#636efa",
            "size": [
             22227415,
             598561,
             123315288,
             11782962,
             1230075000,
             6495918,
             959000000,
             199278000,
             63327987,
             20775703,
             5531387,
             125956499,
             4526235,
             21585105,
             46173816,
             1765345,
             3430388,
             20476091,
             2494803,
             43247867,
             23001113,
             2283635,
             135564834,
             75012988,
             21229759,
             3802309,
             18698655,
             15081016,
             21628605,
             60216677,
             76048996,
             2826046,
             15826497
            ],
            "sizemode": "area",
            "sizeref": 435928.2961983471,
            "symbol": "circle"
           },
           "mode": "markers",
           "name": "Asia",
           "orientation": "v",
           "showlegend": true,
           "type": "scatter",
           "x": [
            635.341351,
            20292.01679,
            972.7700352,
            734.28517,
            2289.234136,
            28377.63219,
            1458.817442,
            3119.335603,
            8263.590301,
            3076.239795,
            20896.60924,
            28816.58499,
            3645.379572,
            1690.756814,
            15993.52796,
            40300.61996,
            8754.96385,
            10132.90964,
            1902.2521,
            415,
            1010.892138,
            19702.05581,
            2049.3505210000008,
            2536.534925,
            20586.69019,
            33519.4766,
            2664.477257,
            4014.238972,
            20206.82098,
            5852.625497,
            1385.896769,
            7110.667619,
            2117.484526
           ],
           "xaxis": "x",
           "y": [
            41.76300000000001,
            73.925,
            59.412,
            56.534,
            70.426,
            80,
            61.765,
            66.041,
            68.042,
            58.81100000000001,
            78.26899999999998,
            80.69,
            69.77199999999999,
            67.727,
            74.64699999999998,
            76.156,
            70.265,
            71.938,
            63.625,
            60.328,
            59.426,
            72.499,
            61.81800000000001,
            68.564,
            70.533,
            77.158,
            70.457,
            71.527,
            75.25,
            67.521,
            70.672,
            71.096,
            58.02
           ],
           "yaxis": "y"
          },
          {
           "hovertemplate": "<b>%{hovertext}</b><br><br>continent=Europe<br>year=1997<br>gdpPercap=%{x}<br>lifeExp=%{y}<br>pop=%{marker.size}<extra></extra>",
           "hovertext": [
            "Albania",
            "Austria",
            "Belgium",
            "Bosnia and Herzegovina",
            "Bulgaria",
            "Croatia",
            "Czech Republic",
            "Denmark",
            "Finland",
            "France",
            "Germany",
            "Greece",
            "Hungary",
            "Iceland",
            "Ireland",
            "Italy",
            "Montenegro",
            "Netherlands",
            "Norway",
            "Poland",
            "Portugal",
            "Romania",
            "Serbia",
            "Slovak Republic",
            "Slovenia",
            "Spain",
            "Sweden",
            "Switzerland",
            "Turkey",
            "United Kingdom"
           ],
           "ids": [
            "Albania",
            "Austria",
            "Belgium",
            "Bosnia and Herzegovina",
            "Bulgaria",
            "Croatia",
            "Czech Republic",
            "Denmark",
            "Finland",
            "France",
            "Germany",
            "Greece",
            "Hungary",
            "Iceland",
            "Ireland",
            "Italy",
            "Montenegro",
            "Netherlands",
            "Norway",
            "Poland",
            "Portugal",
            "Romania",
            "Serbia",
            "Slovak Republic",
            "Slovenia",
            "Spain",
            "Sweden",
            "Switzerland",
            "Turkey",
            "United Kingdom"
           ],
           "legendgroup": "Europe",
           "marker": {
            "color": "#EF553B",
            "size": [
             3428038,
             8069876,
             10199787,
             3607000,
             8066057,
             4444595,
             10300707,
             5283663,
             5134406,
             58623428,
             82011073,
             10502372,
             10244684,
             271192,
             3667233,
             57479469,
             692651,
             15604464,
             4405672,
             38654957,
             10156415,
             22562458,
             10336594,
             5383010,
             2011612,
             39855442,
             8897619,
             7193761,
             63047647,
             58808266
            ],
            "sizemode": "area",
            "sizeref": 435928.2961983471,
            "symbol": "circle"
           },
           "mode": "markers",
           "name": "Europe",
           "orientation": "v",
           "showlegend": true,
           "type": "scatter",
           "x": [
            3193.054604,
            29095.920660000003,
            27561.19663,
            4766.355904,
            5970.38876,
            9875.604515,
            16048.51424,
            29804.34567,
            23723.9502,
            25889.78487,
            27788.88416,
            18747.69814,
            11712.7768,
            28061.099660000003,
            24521.94713,
            24675.02446,
            6465.613349,
            30246.13063,
            41283.16433,
            10159.58368,
            17641.03156,
            7346.547556999999,
            7914.320304000002,
            12126.23065,
            17161.10735,
            20445.29896,
            25266.59499,
            32135.323010000004,
            6601.429915,
            26074.53136
           ],
           "xaxis": "x",
           "y": [
            72.95,
            77.51,
            77.53,
            73.244,
            70.32,
            73.68,
            74.01,
            76.11,
            77.13,
            78.64,
            77.34,
            77.869,
            71.04,
            78.95,
            76.122,
            78.82,
            75.445,
            78.03,
            78.32,
            72.75,
            75.97,
            69.72,
            72.232,
            72.71,
            75.13,
            78.77,
            79.39,
            79.37,
            68.835,
            77.218
           ],
           "yaxis": "y"
          },
          {
           "hovertemplate": "<b>%{hovertext}</b><br><br>continent=Africa<br>year=1997<br>gdpPercap=%{x}<br>lifeExp=%{y}<br>pop=%{marker.size}<extra></extra>",
           "hovertext": [
            "Algeria",
            "Angola",
            "Benin",
            "Botswana",
            "Burkina Faso",
            "Burundi",
            "Cameroon",
            "Central African Republic",
            "Chad",
            "Comoros",
            "Congo, Dem. Rep.",
            "Congo, Rep.",
            "Cote d'Ivoire",
            "Djibouti",
            "Egypt",
            "Equatorial Guinea",
            "Eritrea",
            "Ethiopia",
            "Gabon",
            "Gambia",
            "Ghana",
            "Guinea",
            "Guinea-Bissau",
            "Kenya",
            "Lesotho",
            "Liberia",
            "Libya",
            "Madagascar",
            "Malawi",
            "Mali",
            "Mauritania",
            "Mauritius",
            "Morocco",
            "Mozambique",
            "Namibia",
            "Niger",
            "Nigeria",
            "Reunion",
            "Rwanda",
            "Sao Tome and Principe",
            "Senegal",
            "Sierra Leone",
            "Somalia",
            "South Africa",
            "Sudan",
            "Swaziland",
            "Tanzania",
            "Togo",
            "Tunisia",
            "Uganda",
            "Zambia",
            "Zimbabwe"
           ],
           "ids": [
            "Algeria",
            "Angola",
            "Benin",
            "Botswana",
            "Burkina Faso",
            "Burundi",
            "Cameroon",
            "Central African Republic",
            "Chad",
            "Comoros",
            "Congo, Dem. Rep.",
            "Congo, Rep.",
            "Cote d'Ivoire",
            "Djibouti",
            "Egypt",
            "Equatorial Guinea",
            "Eritrea",
            "Ethiopia",
            "Gabon",
            "Gambia",
            "Ghana",
            "Guinea",
            "Guinea-Bissau",
            "Kenya",
            "Lesotho",
            "Liberia",
            "Libya",
            "Madagascar",
            "Malawi",
            "Mali",
            "Mauritania",
            "Mauritius",
            "Morocco",
            "Mozambique",
            "Namibia",
            "Niger",
            "Nigeria",
            "Reunion",
            "Rwanda",
            "Sao Tome and Principe",
            "Senegal",
            "Sierra Leone",
            "Somalia",
            "South Africa",
            "Sudan",
            "Swaziland",
            "Tanzania",
            "Togo",
            "Tunisia",
            "Uganda",
            "Zambia",
            "Zimbabwe"
           ],
           "legendgroup": "Africa",
           "marker": {
            "color": "#00cc96",
            "size": [
             29072015,
             9875024,
             6066080,
             1536536,
             10352843,
             6121610,
             14195809,
             3696513,
             7562011,
             527982,
             47798986,
             2800947,
             14625967,
             417908,
             66134291,
             439971,
             4058319,
             59861301,
             1126189,
             1235767,
             18418288,
             8048834,
             1193708,
             28263827,
             1982823,
             2200725,
             4759670,
             14165114,
             10419991,
             9384984,
             2444741,
             1149818,
             28529501,
             16603334,
             1774766,
             9666252,
             106207839,
             684810,
             7212583,
             145608,
             9535314,
             4578212,
             6633514,
             42835005,
             32160729,
             1054486,
             30686889,
             4320890,
             9231669,
             21210254,
             9417789,
             11404948
            ],
            "sizemode": "area",
            "sizeref": 435928.2961983471,
            "symbol": "circle"
           },
           "mode": "markers",
           "name": "Africa",
           "orientation": "v",
           "showlegend": true,
           "type": "scatter",
           "x": [
            4797.295051,
            2277.140884,
            1232.975292,
            8647.142313,
            946.2949618,
            463.1151478,
            1694.337469,
            740.5063317,
            1004.961353,
            1173.618235,
            312.188423,
            3484.164376,
            1786.265407,
            1895.016984,
            4173.181797,
            2814.480755,
            913.47079,
            515.8894013,
            14722.841880000002,
            653.7301704,
            1005.245812,
            869.4497667999998,
            796.6644681,
            1360.4850210000004,
            1186.147994,
            609.1739508,
            9467.446056,
            986.2958956,
            692.2758102999999,
            790.2579846,
            1483.136136,
            7425.705295000002,
            2982.101858,
            472.34607710000006,
            3899.52426,
            580.3052092,
            1624.941275,
            6071.941411,
            589.9445051,
            1339.076036,
            1392.368347,
            574.6481576,
            930.5964284,
            7479.188244,
            1632.2107640000004,
            3876.76846,
            789.1862231,
            982.2869243,
            4876.798614,
            816.559081,
            1071.353818,
            792.4499602999998
           ],
           "xaxis": "x",
           "y": [
            69.152,
            40.963,
            54.777,
            52.556,
            50.324,
            45.326,
            52.199,
            46.066,
            51.573,
            60.66,
            42.587,
            52.962,
            47.99100000000001,
            53.157,
            67.217,
            48.245,
            53.378,
            49.402,
            60.46100000000001,
            55.861,
            58.556,
            51.455,
            44.87300000000001,
            54.407,
            55.558,
            42.221,
            71.555,
            54.978,
            47.495,
            49.903,
            60.43,
            70.736,
            67.66,
            46.344,
            58.909,
            51.313,
            47.464,
            74.77199999999998,
            36.087,
            63.306,
            60.187,
            39.897,
            43.795,
            60.236,
            55.37300000000001,
            54.289,
            48.466,
            58.39,
            71.973,
            44.578,
            40.238,
            46.809
           ],
           "yaxis": "y"
          },
          {
           "hovertemplate": "<b>%{hovertext}</b><br><br>continent=Americas<br>year=1997<br>gdpPercap=%{x}<br>lifeExp=%{y}<br>pop=%{marker.size}<extra></extra>",
           "hovertext": [
            "Argentina",
            "Bolivia",
            "Brazil",
            "Canada",
            "Chile",
            "Colombia",
            "Costa Rica",
            "Cuba",
            "Dominican Republic",
            "Ecuador",
            "El Salvador",
            "Guatemala",
            "Haiti",
            "Honduras",
            "Jamaica",
            "Mexico",
            "Nicaragua",
            "Panama",
            "Paraguay",
            "Peru",
            "Puerto Rico",
            "Trinidad and Tobago",
            "United States",
            "Uruguay",
            "Venezuela"
           ],
           "ids": [
            "Argentina",
            "Bolivia",
            "Brazil",
            "Canada",
            "Chile",
            "Colombia",
            "Costa Rica",
            "Cuba",
            "Dominican Republic",
            "Ecuador",
            "El Salvador",
            "Guatemala",
            "Haiti",
            "Honduras",
            "Jamaica",
            "Mexico",
            "Nicaragua",
            "Panama",
            "Paraguay",
            "Peru",
            "Puerto Rico",
            "Trinidad and Tobago",
            "United States",
            "Uruguay",
            "Venezuela"
           ],
           "legendgroup": "Americas",
           "marker": {
            "color": "#ab63fa",
            "size": [
             36203463,
             7693188,
             168546719,
             30305843,
             14599929,
             37657830,
             3518107,
             10983007,
             7992357,
             11911819,
             5783439,
             9803875,
             6913545,
             5867957,
             2531311,
             95895146,
             4609572,
             2734531,
             5154123,
             24748122,
             3759430,
             1138101,
             272911760,
             3262838,
             22374398
            ],
            "sizemode": "area",
            "sizeref": 435928.2961983471,
            "symbol": "circle"
           },
           "mode": "markers",
           "name": "Americas",
           "orientation": "v",
           "showlegend": true,
           "type": "scatter",
           "x": [
            10967.28195,
            3326.143191,
            7957.980823999998,
            28954.92589,
            10118.05318,
            6117.361746000001,
            6677.045314,
            5431.990415,
            3614.101285,
            7429.4558769999985,
            5154.825496,
            4684.313807,
            1341.726931,
            3160.454906,
            7121.924704000001,
            9767.29753,
            2253.023004,
            7113.692252,
            4247.400261,
            5838.347657,
            16999.4333,
            8792.573126000001,
            35767.43303,
            9230.240708,
            10165.49518
           ],
           "xaxis": "x",
           "y": [
            73.275,
            62.05,
            69.388,
            78.61,
            75.816,
            70.313,
            77.26,
            76.15100000000002,
            69.957,
            72.312,
            69.535,
            66.322,
            56.67100000000001,
            67.65899999999999,
            72.262,
            73.67,
            68.426,
            73.738,
            69.4,
            68.38600000000001,
            74.917,
            69.465,
            76.81,
            74.223,
            72.146
           ],
           "yaxis": "y"
          },
          {
           "hovertemplate": "<b>%{hovertext}</b><br><br>continent=Oceania<br>year=1997<br>gdpPercap=%{x}<br>lifeExp=%{y}<br>pop=%{marker.size}<extra></extra>",
           "hovertext": [
            "Australia",
            "New Zealand"
           ],
           "ids": [
            "Australia",
            "New Zealand"
           ],
           "legendgroup": "Oceania",
           "marker": {
            "color": "#FFA15A",
            "size": [
             18565243,
             3676187
            ],
            "sizemode": "area",
            "sizeref": 435928.2961983471,
            "symbol": "circle"
           },
           "mode": "markers",
           "name": "Oceania",
           "orientation": "v",
           "showlegend": true,
           "type": "scatter",
           "x": [
            26997.93657,
            21050.41377
           ],
           "xaxis": "x",
           "y": [
            78.83,
            77.55
           ],
           "yaxis": "y"
          }
         ],
         "name": "1997"
        },
        {
         "data": [
          {
           "hovertemplate": "<b>%{hovertext}</b><br><br>continent=Asia<br>year=2002<br>gdpPercap=%{x}<br>lifeExp=%{y}<br>pop=%{marker.size}<extra></extra>",
           "hovertext": [
            "Afghanistan",
            "Bahrain",
            "Bangladesh",
            "Cambodia",
            "China",
            "Hong Kong, China",
            "India",
            "Indonesia",
            "Iran",
            "Iraq",
            "Israel",
            "Japan",
            "Jordan",
            "Korea, Dem. Rep.",
            "Korea, Rep.",
            "Kuwait",
            "Lebanon",
            "Malaysia",
            "Mongolia",
            "Myanmar",
            "Nepal",
            "Oman",
            "Pakistan",
            "Philippines",
            "Saudi Arabia",
            "Singapore",
            "Sri Lanka",
            "Syria",
            "Taiwan",
            "Thailand",
            "Vietnam",
            "West Bank and Gaza",
            "Yemen, Rep."
           ],
           "ids": [
            "Afghanistan",
            "Bahrain",
            "Bangladesh",
            "Cambodia",
            "China",
            "Hong Kong, China",
            "India",
            "Indonesia",
            "Iran",
            "Iraq",
            "Israel",
            "Japan",
            "Jordan",
            "Korea, Dem. Rep.",
            "Korea, Rep.",
            "Kuwait",
            "Lebanon",
            "Malaysia",
            "Mongolia",
            "Myanmar",
            "Nepal",
            "Oman",
            "Pakistan",
            "Philippines",
            "Saudi Arabia",
            "Singapore",
            "Sri Lanka",
            "Syria",
            "Taiwan",
            "Thailand",
            "Vietnam",
            "West Bank and Gaza",
            "Yemen, Rep."
           ],
           "legendgroup": "Asia",
           "marker": {
            "color": "#636efa",
            "size": [
             25268405,
             656397,
             135656790,
             12926707,
             1280400000,
             6762476,
             1034172547,
             211060000,
             66907826,
             24001816,
             6029529,
             127065841,
             5307470,
             22215365,
             47969150,
             2111561,
             3677780,
             22662365,
             2674234,
             45598081,
             25873917,
             2713462,
             153403524,
             82995088,
             24501530,
             4197776,
             19576783,
             17155814,
             22454239,
             62806748,
             80908147,
             3389578,
             18701257
            ],
            "sizemode": "area",
            "sizeref": 435928.2961983471,
            "symbol": "circle"
           },
           "mode": "markers",
           "name": "Asia",
           "orientation": "v",
           "showlegend": true,
           "type": "scatter",
           "x": [
            726.7340548,
            23403.55927,
            1136.3904300000004,
            896.2260152999999,
            3119.280896,
            30209.015160000006,
            1746.769454,
            2873.91287,
            9240.761975,
            4390.717312,
            21905.59514,
            28604.5919,
            3844.917194,
            1646.758151,
            19233.98818,
            35110.10566,
            9313.93883,
            10206.97794,
            2140.739323,
            611,
            1057.206311,
            19774.83687,
            2092.712441,
            2650.921068,
            19014.54118,
            36023.1054,
            3015.378833,
            4090.925331,
            23235.42329,
            5913.187529,
            1764.456677,
            4515.487575,
            2234.820827
           ],
           "xaxis": "x",
           "y": [
            42.129,
            74.795,
            62.01300000000001,
            56.752,
            72.028,
            81.495,
            62.879,
            68.58800000000001,
            69.45100000000001,
            57.04600000000001,
            79.696,
            82,
            71.263,
            66.66199999999999,
            77.045,
            76.904,
            71.028,
            73.044,
            65.033,
            59.908,
            61.34,
            74.193,
            63.61,
            70.303,
            71.626,
            78.77,
            70.815,
            73.053,
            76.99,
            68.564,
            73.017,
            72.37,
            60.308
           ],
           "yaxis": "y"
          },
          {
           "hovertemplate": "<b>%{hovertext}</b><br><br>continent=Europe<br>year=2002<br>gdpPercap=%{x}<br>lifeExp=%{y}<br>pop=%{marker.size}<extra></extra>",
           "hovertext": [
            "Albania",
            "Austria",
            "Belgium",
            "Bosnia and Herzegovina",
            "Bulgaria",
            "Croatia",
            "Czech Republic",
            "Denmark",
            "Finland",
            "France",
            "Germany",
            "Greece",
            "Hungary",
            "Iceland",
            "Ireland",
            "Italy",
            "Montenegro",
            "Netherlands",
            "Norway",
            "Poland",
            "Portugal",
            "Romania",
            "Serbia",
            "Slovak Republic",
            "Slovenia",
            "Spain",
            "Sweden",
            "Switzerland",
            "Turkey",
            "United Kingdom"
           ],
           "ids": [
            "Albania",
            "Austria",
            "Belgium",
            "Bosnia and Herzegovina",
            "Bulgaria",
            "Croatia",
            "Czech Republic",
            "Denmark",
            "Finland",
            "France",
            "Germany",
            "Greece",
            "Hungary",
            "Iceland",
            "Ireland",
            "Italy",
            "Montenegro",
            "Netherlands",
            "Norway",
            "Poland",
            "Portugal",
            "Romania",
            "Serbia",
            "Slovak Republic",
            "Slovenia",
            "Spain",
            "Sweden",
            "Switzerland",
            "Turkey",
            "United Kingdom"
           ],
           "legendgroup": "Europe",
           "marker": {
            "color": "#EF553B",
            "size": [
             3508512,
             8148312,
             10311970,
             4165416,
             7661799,
             4481020,
             10256295,
             5374693,
             5193039,
             59925035,
             82350671,
             10603863,
             10083313,
             288030,
             3879155,
             57926999,
             720230,
             16122830,
             4535591,
             38625976,
             10433867,
             22404337,
             10111559,
             5410052,
             2011497,
             40152517,
             8954175,
             7361757,
             67308928,
             59912431
            ],
            "sizemode": "area",
            "sizeref": 435928.2961983471,
            "symbol": "circle"
           },
           "mode": "markers",
           "name": "Europe",
           "orientation": "v",
           "showlegend": true,
           "type": "scatter",
           "x": [
            4604.211737,
            32417.60769,
            30485.88375,
            6018.975239,
            7696.777725,
            11628.38895,
            17596.210219999994,
            32166.50006,
            28204.59057,
            28926.03234,
            30035.80198,
            22514.2548,
            14843.93556,
            31163.20196,
            34077.04939,
            27968.09817,
            6557.194282,
            33724.75778,
            44683.97525,
            12002.23908,
            19970.90787,
            7885.360081,
            7236.075251,
            13638.778369999998,
            20660.01936,
            24835.47166,
            29341.630930000007,
            34480.95771,
            6508.085718,
            29478.99919
           ],
           "xaxis": "x",
           "y": [
            75.65100000000002,
            78.98,
            78.32,
            74.09,
            72.14,
            74.876,
            75.51,
            77.18,
            78.37,
            79.59,
            78.67,
            78.256,
            72.59,
            80.5,
            77.783,
            80.24,
            73.98100000000002,
            78.53,
            79.05,
            74.67,
            77.29,
            71.322,
            73.21300000000002,
            73.8,
            76.66,
            79.78,
            80.04,
            80.62,
            70.845,
            78.471
           ],
           "yaxis": "y"
          },
          {
           "hovertemplate": "<b>%{hovertext}</b><br><br>continent=Africa<br>year=2002<br>gdpPercap=%{x}<br>lifeExp=%{y}<br>pop=%{marker.size}<extra></extra>",
           "hovertext": [
            "Algeria",
            "Angola",
            "Benin",
            "Botswana",
            "Burkina Faso",
            "Burundi",
            "Cameroon",
            "Central African Republic",
            "Chad",
            "Comoros",
            "Congo, Dem. Rep.",
            "Congo, Rep.",
            "Cote d'Ivoire",
            "Djibouti",
            "Egypt",
            "Equatorial Guinea",
            "Eritrea",
            "Ethiopia",
            "Gabon",
            "Gambia",
            "Ghana",
            "Guinea",
            "Guinea-Bissau",
            "Kenya",
            "Lesotho",
            "Liberia",
            "Libya",
            "Madagascar",
            "Malawi",
            "Mali",
            "Mauritania",
            "Mauritius",
            "Morocco",
            "Mozambique",
            "Namibia",
            "Niger",
            "Nigeria",
            "Reunion",
            "Rwanda",
            "Sao Tome and Principe",
            "Senegal",
            "Sierra Leone",
            "Somalia",
            "South Africa",
            "Sudan",
            "Swaziland",
            "Tanzania",
            "Togo",
            "Tunisia",
            "Uganda",
            "Zambia",
            "Zimbabwe"
           ],
           "ids": [
            "Algeria",
            "Angola",
            "Benin",
            "Botswana",
            "Burkina Faso",
            "Burundi",
            "Cameroon",
            "Central African Republic",
            "Chad",
            "Comoros",
            "Congo, Dem. Rep.",
            "Congo, Rep.",
            "Cote d'Ivoire",
            "Djibouti",
            "Egypt",
            "Equatorial Guinea",
            "Eritrea",
            "Ethiopia",
            "Gabon",
            "Gambia",
            "Ghana",
            "Guinea",
            "Guinea-Bissau",
            "Kenya",
            "Lesotho",
            "Liberia",
            "Libya",
            "Madagascar",
            "Malawi",
            "Mali",
            "Mauritania",
            "Mauritius",
            "Morocco",
            "Mozambique",
            "Namibia",
            "Niger",
            "Nigeria",
            "Reunion",
            "Rwanda",
            "Sao Tome and Principe",
            "Senegal",
            "Sierra Leone",
            "Somalia",
            "South Africa",
            "Sudan",
            "Swaziland",
            "Tanzania",
            "Togo",
            "Tunisia",
            "Uganda",
            "Zambia",
            "Zimbabwe"
           ],
           "legendgroup": "Africa",
           "marker": {
            "color": "#00cc96",
            "size": [
             31287142,
             10866106,
             7026113,
             1630347,
             12251209,
             7021078,
             15929988,
             4048013,
             8835739,
             614382,
             55379852,
             3328795,
             16252726,
             447416,
             73312559,
             495627,
             4414865,
             67946797,
             1299304,
             1457766,
             20550751,
             8807818,
             1332459,
             31386842,
             2046772,
             2814651,
             5368585,
             16473477,
             11824495,
             10580176,
             2828858,
             1200206,
             31167783,
             18473780,
             1972153,
             11140655,
             119901274,
             743981,
             7852401,
             170372,
             10870037,
             5359092,
             7753310,
             44433622,
             37090298,
             1130269,
             34593779,
             4977378,
             9770575,
             24739869,
             10595811,
             11926563
            ],
            "sizemode": "area",
            "sizeref": 435928.2961983471,
            "symbol": "circle"
           },
           "mode": "markers",
           "name": "Africa",
           "orientation": "v",
           "showlegend": true,
           "type": "scatter",
           "x": [
            5288.040382,
            2773.287312,
            1372.877931,
            11003.60508,
            1037.645221,
            446.4035126,
            1934.011449,
            738.6906068,
            1156.18186,
            1075.811558,
            241.1658765,
            3484.06197,
            1648.800823,
            1908.260867,
            4754.604414,
            7703.4959,
            765.3500015,
            530.0535319,
            12521.71392,
            660.5855997,
            1111.9845779999996,
            945.5835837,
            575.7047176,
            1287.514732,
            1275.184575,
            531.4823679,
            9534.677467,
            894.6370822,
            665.4231186000002,
            951.4097518,
            1579.019543,
            9021.815894,
            3258.495584,
            633.6179466,
            4072.324751,
            601.0745012,
            1615.286395,
            6316.1652,
            785.6537647999999,
            1353.09239,
            1519.635262,
            699.4897129999998,
            882.0818218000002,
            7710.946444,
            1993.398314,
            4128.116943,
            899.0742111,
            886.2205765000001,
            5722.895654999998,
            927.7210018,
            1071.6139380000004,
            672.0386227000001
           ],
           "xaxis": "x",
           "y": [
            70.994,
            41.003,
            54.40600000000001,
            46.63399999999999,
            50.65,
            47.36,
            49.856,
            43.308,
            50.525,
            62.974,
            44.966,
            52.97,
            46.832,
            53.37300000000001,
            69.806,
            49.348,
            55.24,
            50.725,
            56.761,
            58.041,
            58.453,
            53.676,
            45.504,
            50.992,
            44.593,
            43.753,
            72.737,
            57.286,
            45.00899999999999,
            51.81800000000001,
            62.247,
            71.954,
            69.615,
            44.026,
            51.479,
            54.496,
            46.608,
            75.744,
            43.413,
            64.337,
            61.6,
            41.012,
            45.93600000000001,
            53.365,
            56.369,
            43.869,
            49.651,
            57.56100000000001,
            73.042,
            47.813,
            39.19300000000001,
            39.989
           ],
           "yaxis": "y"
          },
          {
           "hovertemplate": "<b>%{hovertext}</b><br><br>continent=Americas<br>year=2002<br>gdpPercap=%{x}<br>lifeExp=%{y}<br>pop=%{marker.size}<extra></extra>",
           "hovertext": [
            "Argentina",
            "Bolivia",
            "Brazil",
            "Canada",
            "Chile",
            "Colombia",
            "Costa Rica",
            "Cuba",
            "Dominican Republic",
            "Ecuador",
            "El Salvador",
            "Guatemala",
            "Haiti",
            "Honduras",
            "Jamaica",
            "Mexico",
            "Nicaragua",
            "Panama",
            "Paraguay",
            "Peru",
            "Puerto Rico",
            "Trinidad and Tobago",
            "United States",
            "Uruguay",
            "Venezuela"
           ],
           "ids": [
            "Argentina",
            "Bolivia",
            "Brazil",
            "Canada",
            "Chile",
            "Colombia",
            "Costa Rica",
            "Cuba",
            "Dominican Republic",
            "Ecuador",
            "El Salvador",
            "Guatemala",
            "Haiti",
            "Honduras",
            "Jamaica",
            "Mexico",
            "Nicaragua",
            "Panama",
            "Paraguay",
            "Peru",
            "Puerto Rico",
            "Trinidad and Tobago",
            "United States",
            "Uruguay",
            "Venezuela"
           ],
           "legendgroup": "Americas",
           "marker": {
            "color": "#ab63fa",
            "size": [
             38331121,
             8445134,
             179914212,
             31902268,
             15497046,
             41008227,
             3834934,
             11226999,
             8650322,
             12921234,
             6353681,
             11178650,
             7607651,
             6677328,
             2664659,
             102479927,
             5146848,
             2990875,
             5884491,
             26769436,
             3859606,
             1101832,
             287675526,
             3363085,
             24287670
            ],
            "sizemode": "area",
            "sizeref": 435928.2961983471,
            "symbol": "circle"
           },
           "mode": "markers",
           "name": "Americas",
           "orientation": "v",
           "showlegend": true,
           "type": "scatter",
           "x": [
            8797.640716,
            3413.26269,
            8131.212843000001,
            33328.96507,
            10778.78385,
            5755.259962,
            7723.447195000002,
            6340.646683,
            4563.808154,
            5773.044512,
            5351.568665999999,
            4858.347495,
            1270.364932,
            3099.72866,
            6994.774861,
            10742.44053,
            2474.548819,
            7356.0319340000015,
            3783.674243,
            5909.020073,
            18855.60618,
            11460.60023,
            39097.09955,
            7727.002004000001,
            8605.047831
           ],
           "xaxis": "x",
           "y": [
            74.34,
            63.883,
            71.006,
            79.77,
            77.86,
            71.682,
            78.123,
            77.158,
            70.847,
            74.173,
            70.734,
            68.97800000000001,
            58.137,
            68.565,
            72.047,
            74.902,
            70.836,
            74.712,
            70.755,
            69.906,
            77.778,
            68.976,
            77.31,
            75.307,
            72.766
           ],
           "yaxis": "y"
          },
          {
           "hovertemplate": "<b>%{hovertext}</b><br><br>continent=Oceania<br>year=2002<br>gdpPercap=%{x}<br>lifeExp=%{y}<br>pop=%{marker.size}<extra></extra>",
           "hovertext": [
            "Australia",
            "New Zealand"
           ],
           "ids": [
            "Australia",
            "New Zealand"
           ],
           "legendgroup": "Oceania",
           "marker": {
            "color": "#FFA15A",
            "size": [
             19546792,
             3908037
            ],
            "sizemode": "area",
            "sizeref": 435928.2961983471,
            "symbol": "circle"
           },
           "mode": "markers",
           "name": "Oceania",
           "orientation": "v",
           "showlegend": true,
           "type": "scatter",
           "x": [
            30687.75473,
            23189.80135
           ],
           "xaxis": "x",
           "y": [
            80.37,
            79.11
           ],
           "yaxis": "y"
          }
         ],
         "name": "2002"
        },
        {
         "data": [
          {
           "hovertemplate": "<b>%{hovertext}</b><br><br>continent=Asia<br>year=2007<br>gdpPercap=%{x}<br>lifeExp=%{y}<br>pop=%{marker.size}<extra></extra>",
           "hovertext": [
            "Afghanistan",
            "Bahrain",
            "Bangladesh",
            "Cambodia",
            "China",
            "Hong Kong, China",
            "India",
            "Indonesia",
            "Iran",
            "Iraq",
            "Israel",
            "Japan",
            "Jordan",
            "Korea, Dem. Rep.",
            "Korea, Rep.",
            "Kuwait",
            "Lebanon",
            "Malaysia",
            "Mongolia",
            "Myanmar",
            "Nepal",
            "Oman",
            "Pakistan",
            "Philippines",
            "Saudi Arabia",
            "Singapore",
            "Sri Lanka",
            "Syria",
            "Taiwan",
            "Thailand",
            "Vietnam",
            "West Bank and Gaza",
            "Yemen, Rep."
           ],
           "ids": [
            "Afghanistan",
            "Bahrain",
            "Bangladesh",
            "Cambodia",
            "China",
            "Hong Kong, China",
            "India",
            "Indonesia",
            "Iran",
            "Iraq",
            "Israel",
            "Japan",
            "Jordan",
            "Korea, Dem. Rep.",
            "Korea, Rep.",
            "Kuwait",
            "Lebanon",
            "Malaysia",
            "Mongolia",
            "Myanmar",
            "Nepal",
            "Oman",
            "Pakistan",
            "Philippines",
            "Saudi Arabia",
            "Singapore",
            "Sri Lanka",
            "Syria",
            "Taiwan",
            "Thailand",
            "Vietnam",
            "West Bank and Gaza",
            "Yemen, Rep."
           ],
           "legendgroup": "Asia",
           "marker": {
            "color": "#636efa",
            "size": [
             31889923,
             708573,
             150448339,
             14131858,
             1318683096,
             6980412,
             1110396331,
             223547000,
             69453570,
             27499638,
             6426679,
             127467972,
             6053193,
             23301725,
             49044790,
             2505559,
             3921278,
             24821286,
             2874127,
             47761980,
             28901790,
             3204897,
             169270617,
             91077287,
             27601038,
             4553009,
             20378239,
             19314747,
             23174294,
             65068149,
             85262356,
             4018332,
             22211743
            ],
            "sizemode": "area",
            "sizeref": 435928.2961983471,
            "symbol": "circle"
           },
           "mode": "markers",
           "name": "Asia",
           "orientation": "v",
           "showlegend": true,
           "type": "scatter",
           "x": [
            974.5803384,
            29796.04834,
            1391.253792,
            1713.778686,
            4959.114854,
            39724.97867,
            2452.210407,
            3540.651564,
            11605.71449,
            4471.061906,
            25523.2771,
            31656.06806,
            4519.461171,
            1593.06548,
            23348.139730000006,
            47306.98978,
            10461.05868,
            12451.6558,
            3095.7722710000007,
            944,
            1091.359778,
            22316.19287,
            2605.94758,
            3190.481016,
            21654.83194,
            47143.17964,
            3970.095407,
            4184.548089,
            28718.27684,
            7458.396326999998,
            2441.576404,
            3025.349798,
            2280.769906
           ],
           "xaxis": "x",
           "y": [
            43.828,
            75.635,
            64.062,
            59.723,
            72.961,
            82.208,
            64.69800000000001,
            70.65,
            70.964,
            59.545,
            80.745,
            82.603,
            72.535,
            67.297,
            78.623,
            77.58800000000002,
            71.993,
            74.241,
            66.803,
            62.069,
            63.785,
            75.64,
            65.483,
            71.688,
            72.777,
            79.972,
            72.396,
            74.143,
            78.4,
            70.616,
            74.249,
            73.422,
            62.698
           ],
           "yaxis": "y"
          },
          {
           "hovertemplate": "<b>%{hovertext}</b><br><br>continent=Europe<br>year=2007<br>gdpPercap=%{x}<br>lifeExp=%{y}<br>pop=%{marker.size}<extra></extra>",
           "hovertext": [
            "Albania",
            "Austria",
            "Belgium",
            "Bosnia and Herzegovina",
            "Bulgaria",
            "Croatia",
            "Czech Republic",
            "Denmark",
            "Finland",
            "France",
            "Germany",
            "Greece",
            "Hungary",
            "Iceland",
            "Ireland",
            "Italy",
            "Montenegro",
            "Netherlands",
            "Norway",
            "Poland",
            "Portugal",
            "Romania",
            "Serbia",
            "Slovak Republic",
            "Slovenia",
            "Spain",
            "Sweden",
            "Switzerland",
            "Turkey",
            "United Kingdom"
           ],
           "ids": [
            "Albania",
            "Austria",
            "Belgium",
            "Bosnia and Herzegovina",
            "Bulgaria",
            "Croatia",
            "Czech Republic",
            "Denmark",
            "Finland",
            "France",
            "Germany",
            "Greece",
            "Hungary",
            "Iceland",
            "Ireland",
            "Italy",
            "Montenegro",
            "Netherlands",
            "Norway",
            "Poland",
            "Portugal",
            "Romania",
            "Serbia",
            "Slovak Republic",
            "Slovenia",
            "Spain",
            "Sweden",
            "Switzerland",
            "Turkey",
            "United Kingdom"
           ],
           "legendgroup": "Europe",
           "marker": {
            "color": "#EF553B",
            "size": [
             3600523,
             8199783,
             10392226,
             4552198,
             7322858,
             4493312,
             10228744,
             5468120,
             5238460,
             61083916,
             82400996,
             10706290,
             9956108,
             301931,
             4109086,
             58147733,
             684736,
             16570613,
             4627926,
             38518241,
             10642836,
             22276056,
             10150265,
             5447502,
             2009245,
             40448191,
             9031088,
             7554661,
             71158647,
             60776238
            ],
            "sizemode": "area",
            "sizeref": 435928.2961983471,
            "symbol": "circle"
           },
           "mode": "markers",
           "name": "Europe",
           "orientation": "v",
           "showlegend": true,
           "type": "scatter",
           "x": [
            5937.029525999998,
            36126.4927,
            33692.60508,
            7446.298803,
            10680.79282,
            14619.222719999998,
            22833.30851,
            35278.41874,
            33207.0844,
            30470.0167,
            32170.37442,
            27538.41188,
            18008.94444,
            36180.78919,
            40675.99635,
            28569.7197,
            9253.896111,
            36797.93332,
            49357.19017,
            15389.924680000002,
            20509.64777,
            10808.47561,
            9786.534714,
            18678.31435,
            25768.25759,
            28821.0637,
            33859.74835,
            37506.41907,
            8458.276384,
            33203.26128
           ],
           "xaxis": "x",
           "y": [
            76.423,
            79.829,
            79.441,
            74.852,
            73.005,
            75.748,
            76.486,
            78.332,
            79.313,
            80.657,
            79.406,
            79.483,
            73.33800000000002,
            81.757,
            78.885,
            80.546,
            74.543,
            79.762,
            80.196,
            75.563,
            78.098,
            72.476,
            74.002,
            74.663,
            77.926,
            80.941,
            80.884,
            81.70100000000002,
            71.777,
            79.425
           ],
           "yaxis": "y"
          },
          {
           "hovertemplate": "<b>%{hovertext}</b><br><br>continent=Africa<br>year=2007<br>gdpPercap=%{x}<br>lifeExp=%{y}<br>pop=%{marker.size}<extra></extra>",
           "hovertext": [
            "Algeria",
            "Angola",
            "Benin",
            "Botswana",
            "Burkina Faso",
            "Burundi",
            "Cameroon",
            "Central African Republic",
            "Chad",
            "Comoros",
            "Congo, Dem. Rep.",
            "Congo, Rep.",
            "Cote d'Ivoire",
            "Djibouti",
            "Egypt",
            "Equatorial Guinea",
            "Eritrea",
            "Ethiopia",
            "Gabon",
            "Gambia",
            "Ghana",
            "Guinea",
            "Guinea-Bissau",
            "Kenya",
            "Lesotho",
            "Liberia",
            "Libya",
            "Madagascar",
            "Malawi",
            "Mali",
            "Mauritania",
            "Mauritius",
            "Morocco",
            "Mozambique",
            "Namibia",
            "Niger",
            "Nigeria",
            "Reunion",
            "Rwanda",
            "Sao Tome and Principe",
            "Senegal",
            "Sierra Leone",
            "Somalia",
            "South Africa",
            "Sudan",
            "Swaziland",
            "Tanzania",
            "Togo",
            "Tunisia",
            "Uganda",
            "Zambia",
            "Zimbabwe"
           ],
           "ids": [
            "Algeria",
            "Angola",
            "Benin",
            "Botswana",
            "Burkina Faso",
            "Burundi",
            "Cameroon",
            "Central African Republic",
            "Chad",
            "Comoros",
            "Congo, Dem. Rep.",
            "Congo, Rep.",
            "Cote d'Ivoire",
            "Djibouti",
            "Egypt",
            "Equatorial Guinea",
            "Eritrea",
            "Ethiopia",
            "Gabon",
            "Gambia",
            "Ghana",
            "Guinea",
            "Guinea-Bissau",
            "Kenya",
            "Lesotho",
            "Liberia",
            "Libya",
            "Madagascar",
            "Malawi",
            "Mali",
            "Mauritania",
            "Mauritius",
            "Morocco",
            "Mozambique",
            "Namibia",
            "Niger",
            "Nigeria",
            "Reunion",
            "Rwanda",
            "Sao Tome and Principe",
            "Senegal",
            "Sierra Leone",
            "Somalia",
            "South Africa",
            "Sudan",
            "Swaziland",
            "Tanzania",
            "Togo",
            "Tunisia",
            "Uganda",
            "Zambia",
            "Zimbabwe"
           ],
           "legendgroup": "Africa",
           "marker": {
            "color": "#00cc96",
            "size": [
             33333216,
             12420476,
             8078314,
             1639131,
             14326203,
             8390505,
             17696293,
             4369038,
             10238807,
             710960,
             64606759,
             3800610,
             18013409,
             496374,
             80264543,
             551201,
             4906585,
             76511887,
             1454867,
             1688359,
             22873338,
             9947814,
             1472041,
             35610177,
             2012649,
             3193942,
             6036914,
             19167654,
             13327079,
             12031795,
             3270065,
             1250882,
             33757175,
             19951656,
             2055080,
             12894865,
             135031164,
             798094,
             8860588,
             199579,
             12267493,
             6144562,
             9118773,
             43997828,
             42292929,
             1133066,
             38139640,
             5701579,
             10276158,
             29170398,
             11746035,
             12311143
            ],
            "sizemode": "area",
            "sizeref": 435928.2961983471,
            "symbol": "circle"
           },
           "mode": "markers",
           "name": "Africa",
           "orientation": "v",
           "showlegend": true,
           "type": "scatter",
           "x": [
            6223.367465,
            4797.231267,
            1441.284873,
            12569.85177,
            1217.032994,
            430.0706916,
            2042.09524,
            706.016537,
            1704.063724,
            986.1478792,
            277.5518587,
            3632.557798,
            1544.750112,
            2082.4815670000007,
            5581.180998,
            12154.08975,
            641.3695236000002,
            690.8055759,
            13206.48452,
            752.7497265,
            1327.60891,
            942.6542111,
            579.2317429999998,
            1463.249282,
            1569.331442,
            414.5073415,
            12057.49928,
            1044.770126,
            759.3499101,
            1042.581557,
            1803.151496,
            10956.99112,
            3820.17523,
            823.6856205,
            4811.060429,
            619.6768923999998,
            2013.977305,
            7670.122558,
            863.0884639000002,
            1598.435089,
            1712.472136,
            862.5407561000002,
            926.1410683,
            9269.657808,
            2602.394995,
            4513.480643,
            1107.482182,
            882.9699437999999,
            7092.923025,
            1056.380121,
            1271.211593,
            469.70929810000007
           ],
           "xaxis": "x",
           "y": [
            72.301,
            42.731,
            56.728,
            50.728,
            52.295,
            49.58,
            50.43,
            44.74100000000001,
            50.651,
            65.152,
            46.462,
            55.322,
            48.328,
            54.791,
            71.33800000000002,
            51.57899999999999,
            58.04,
            52.947,
            56.735,
            59.448,
            60.022,
            56.007,
            46.38800000000001,
            54.11,
            42.592,
            45.678,
            73.952,
            59.44300000000001,
            48.303,
            54.467,
            64.164,
            72.801,
            71.164,
            42.082,
            52.90600000000001,
            56.867,
            46.859,
            76.442,
            46.242,
            65.528,
            63.062,
            42.56800000000001,
            48.159,
            49.339,
            58.556,
            39.613,
            52.517,
            58.42,
            73.923,
            51.542,
            42.38399999999999,
            43.487
           ],
           "yaxis": "y"
          },
          {
           "hovertemplate": "<b>%{hovertext}</b><br><br>continent=Americas<br>year=2007<br>gdpPercap=%{x}<br>lifeExp=%{y}<br>pop=%{marker.size}<extra></extra>",
           "hovertext": [
            "Argentina",
            "Bolivia",
            "Brazil",
            "Canada",
            "Chile",
            "Colombia",
            "Costa Rica",
            "Cuba",
            "Dominican Republic",
            "Ecuador",
            "El Salvador",
            "Guatemala",
            "Haiti",
            "Honduras",
            "Jamaica",
            "Mexico",
            "Nicaragua",
            "Panama",
            "Paraguay",
            "Peru",
            "Puerto Rico",
            "Trinidad and Tobago",
            "United States",
            "Uruguay",
            "Venezuela"
           ],
           "ids": [
            "Argentina",
            "Bolivia",
            "Brazil",
            "Canada",
            "Chile",
            "Colombia",
            "Costa Rica",
            "Cuba",
            "Dominican Republic",
            "Ecuador",
            "El Salvador",
            "Guatemala",
            "Haiti",
            "Honduras",
            "Jamaica",
            "Mexico",
            "Nicaragua",
            "Panama",
            "Paraguay",
            "Peru",
            "Puerto Rico",
            "Trinidad and Tobago",
            "United States",
            "Uruguay",
            "Venezuela"
           ],
           "legendgroup": "Americas",
           "marker": {
            "color": "#ab63fa",
            "size": [
             40301927,
             9119152,
             190010647,
             33390141,
             16284741,
             44227550,
             4133884,
             11416987,
             9319622,
             13755680,
             6939688,
             12572928,
             8502814,
             7483763,
             2780132,
             108700891,
             5675356,
             3242173,
             6667147,
             28674757,
             3942491,
             1056608,
             301139947,
             3447496,
             26084662
            ],
            "sizemode": "area",
            "sizeref": 435928.2961983471,
            "symbol": "circle"
           },
           "mode": "markers",
           "name": "Americas",
           "orientation": "v",
           "showlegend": true,
           "type": "scatter",
           "x": [
            12779.37964,
            3822.137084,
            9065.800825,
            36319.23501,
            13171.63885,
            7006.580419,
            9645.06142,
            8948.102923,
            6025.3747520000015,
            6873.262326000001,
            5728.353514,
            5186.050003,
            1201.637154,
            3548.3308460000007,
            7320.8802620000015,
            11977.57496,
            2749.320965,
            9809.185636,
            4172.838464,
            7408.905561,
            19328.70901,
            18008.50924,
            42951.65309,
            10611.46299,
            11415.80569
           ],
           "xaxis": "x",
           "y": [
            75.32,
            65.554,
            72.39,
            80.653,
            78.553,
            72.889,
            78.782,
            78.273,
            72.235,
            74.994,
            71.878,
            70.259,
            60.916,
            70.19800000000001,
            72.567,
            76.195,
            72.899,
            75.53699999999998,
            71.752,
            71.421,
            78.74600000000002,
            69.819,
            78.242,
            76.384,
            73.747
           ],
           "yaxis": "y"
          },
          {
           "hovertemplate": "<b>%{hovertext}</b><br><br>continent=Oceania<br>year=2007<br>gdpPercap=%{x}<br>lifeExp=%{y}<br>pop=%{marker.size}<extra></extra>",
           "hovertext": [
            "Australia",
            "New Zealand"
           ],
           "ids": [
            "Australia",
            "New Zealand"
           ],
           "legendgroup": "Oceania",
           "marker": {
            "color": "#FFA15A",
            "size": [
             20434176,
             4115771
            ],
            "sizemode": "area",
            "sizeref": 435928.2961983471,
            "symbol": "circle"
           },
           "mode": "markers",
           "name": "Oceania",
           "orientation": "v",
           "showlegend": true,
           "type": "scatter",
           "x": [
            34435.367439999995,
            25185.00911
           ],
           "xaxis": "x",
           "y": [
            81.235,
            80.204
           ],
           "yaxis": "y"
          }
         ],
         "name": "2007"
        }
       ],
       "layout": {
        "legend": {
         "itemsizing": "constant",
         "title": {
          "text": "continent"
         },
         "tracegroupgap": 0
        },
        "margin": {
         "t": 60
        },
        "sliders": [
         {
          "active": 0,
          "currentvalue": {
           "prefix": "year="
          },
          "len": 0.9,
          "pad": {
           "b": 10,
           "t": 60
          },
          "steps": [
           {
            "args": [
             [
              "1952"
             ],
             {
              "frame": {
               "duration": 0,
               "redraw": false
              },
              "fromcurrent": true,
              "mode": "immediate",
              "transition": {
               "duration": 0,
               "easing": "linear"
              }
             }
            ],
            "label": "1952",
            "method": "animate"
           },
           {
            "args": [
             [
              "1957"
             ],
             {
              "frame": {
               "duration": 0,
               "redraw": false
              },
              "fromcurrent": true,
              "mode": "immediate",
              "transition": {
               "duration": 0,
               "easing": "linear"
              }
             }
            ],
            "label": "1957",
            "method": "animate"
           },
           {
            "args": [
             [
              "1962"
             ],
             {
              "frame": {
               "duration": 0,
               "redraw": false
              },
              "fromcurrent": true,
              "mode": "immediate",
              "transition": {
               "duration": 0,
               "easing": "linear"
              }
             }
            ],
            "label": "1962",
            "method": "animate"
           },
           {
            "args": [
             [
              "1967"
             ],
             {
              "frame": {
               "duration": 0,
               "redraw": false
              },
              "fromcurrent": true,
              "mode": "immediate",
              "transition": {
               "duration": 0,
               "easing": "linear"
              }
             }
            ],
            "label": "1967",
            "method": "animate"
           },
           {
            "args": [
             [
              "1972"
             ],
             {
              "frame": {
               "duration": 0,
               "redraw": false
              },
              "fromcurrent": true,
              "mode": "immediate",
              "transition": {
               "duration": 0,
               "easing": "linear"
              }
             }
            ],
            "label": "1972",
            "method": "animate"
           },
           {
            "args": [
             [
              "1977"
             ],
             {
              "frame": {
               "duration": 0,
               "redraw": false
              },
              "fromcurrent": true,
              "mode": "immediate",
              "transition": {
               "duration": 0,
               "easing": "linear"
              }
             }
            ],
            "label": "1977",
            "method": "animate"
           },
           {
            "args": [
             [
              "1982"
             ],
             {
              "frame": {
               "duration": 0,
               "redraw": false
              },
              "fromcurrent": true,
              "mode": "immediate",
              "transition": {
               "duration": 0,
               "easing": "linear"
              }
             }
            ],
            "label": "1982",
            "method": "animate"
           },
           {
            "args": [
             [
              "1987"
             ],
             {
              "frame": {
               "duration": 0,
               "redraw": false
              },
              "fromcurrent": true,
              "mode": "immediate",
              "transition": {
               "duration": 0,
               "easing": "linear"
              }
             }
            ],
            "label": "1987",
            "method": "animate"
           },
           {
            "args": [
             [
              "1992"
             ],
             {
              "frame": {
               "duration": 0,
               "redraw": false
              },
              "fromcurrent": true,
              "mode": "immediate",
              "transition": {
               "duration": 0,
               "easing": "linear"
              }
             }
            ],
            "label": "1992",
            "method": "animate"
           },
           {
            "args": [
             [
              "1997"
             ],
             {
              "frame": {
               "duration": 0,
               "redraw": false
              },
              "fromcurrent": true,
              "mode": "immediate",
              "transition": {
               "duration": 0,
               "easing": "linear"
              }
             }
            ],
            "label": "1997",
            "method": "animate"
           },
           {
            "args": [
             [
              "2002"
             ],
             {
              "frame": {
               "duration": 0,
               "redraw": false
              },
              "fromcurrent": true,
              "mode": "immediate",
              "transition": {
               "duration": 0,
               "easing": "linear"
              }
             }
            ],
            "label": "2002",
            "method": "animate"
           },
           {
            "args": [
             [
              "2007"
             ],
             {
              "frame": {
               "duration": 0,
               "redraw": false
              },
              "fromcurrent": true,
              "mode": "immediate",
              "transition": {
               "duration": 0,
               "easing": "linear"
              }
             }
            ],
            "label": "2007",
            "method": "animate"
           }
          ],
          "x": 0.1,
          "xanchor": "left",
          "y": 0,
          "yanchor": "top"
         }
        ],
        "template": {
         "data": {
          "bar": [
           {
            "error_x": {
             "color": "#2a3f5f"
            },
            "error_y": {
             "color": "#2a3f5f"
            },
            "marker": {
             "line": {
              "color": "#E5ECF6",
              "width": 0.5
             },
             "pattern": {
              "fillmode": "overlay",
              "size": 10,
              "solidity": 0.2
             }
            },
            "type": "bar"
           }
          ],
          "barpolar": [
           {
            "marker": {
             "line": {
              "color": "#E5ECF6",
              "width": 0.5
             },
             "pattern": {
              "fillmode": "overlay",
              "size": 10,
              "solidity": 0.2
             }
            },
            "type": "barpolar"
           }
          ],
          "carpet": [
           {
            "aaxis": {
             "endlinecolor": "#2a3f5f",
             "gridcolor": "white",
             "linecolor": "white",
             "minorgridcolor": "white",
             "startlinecolor": "#2a3f5f"
            },
            "baxis": {
             "endlinecolor": "#2a3f5f",
             "gridcolor": "white",
             "linecolor": "white",
             "minorgridcolor": "white",
             "startlinecolor": "#2a3f5f"
            },
            "type": "carpet"
           }
          ],
          "choropleth": [
           {
            "colorbar": {
             "outlinewidth": 0,
             "ticks": ""
            },
            "type": "choropleth"
           }
          ],
          "contour": [
           {
            "colorbar": {
             "outlinewidth": 0,
             "ticks": ""
            },
            "colorscale": [
             [
              0,
              "#0d0887"
             ],
             [
              0.1111111111111111,
              "#46039f"
             ],
             [
              0.2222222222222222,
              "#7201a8"
             ],
             [
              0.3333333333333333,
              "#9c179e"
             ],
             [
              0.4444444444444444,
              "#bd3786"
             ],
             [
              0.5555555555555556,
              "#d8576b"
             ],
             [
              0.6666666666666666,
              "#ed7953"
             ],
             [
              0.7777777777777778,
              "#fb9f3a"
             ],
             [
              0.8888888888888888,
              "#fdca26"
             ],
             [
              1,
              "#f0f921"
             ]
            ],
            "type": "contour"
           }
          ],
          "contourcarpet": [
           {
            "colorbar": {
             "outlinewidth": 0,
             "ticks": ""
            },
            "type": "contourcarpet"
           }
          ],
          "heatmap": [
           {
            "colorbar": {
             "outlinewidth": 0,
             "ticks": ""
            },
            "colorscale": [
             [
              0,
              "#0d0887"
             ],
             [
              0.1111111111111111,
              "#46039f"
             ],
             [
              0.2222222222222222,
              "#7201a8"
             ],
             [
              0.3333333333333333,
              "#9c179e"
             ],
             [
              0.4444444444444444,
              "#bd3786"
             ],
             [
              0.5555555555555556,
              "#d8576b"
             ],
             [
              0.6666666666666666,
              "#ed7953"
             ],
             [
              0.7777777777777778,
              "#fb9f3a"
             ],
             [
              0.8888888888888888,
              "#fdca26"
             ],
             [
              1,
              "#f0f921"
             ]
            ],
            "type": "heatmap"
           }
          ],
          "heatmapgl": [
           {
            "colorbar": {
             "outlinewidth": 0,
             "ticks": ""
            },
            "colorscale": [
             [
              0,
              "#0d0887"
             ],
             [
              0.1111111111111111,
              "#46039f"
             ],
             [
              0.2222222222222222,
              "#7201a8"
             ],
             [
              0.3333333333333333,
              "#9c179e"
             ],
             [
              0.4444444444444444,
              "#bd3786"
             ],
             [
              0.5555555555555556,
              "#d8576b"
             ],
             [
              0.6666666666666666,
              "#ed7953"
             ],
             [
              0.7777777777777778,
              "#fb9f3a"
             ],
             [
              0.8888888888888888,
              "#fdca26"
             ],
             [
              1,
              "#f0f921"
             ]
            ],
            "type": "heatmapgl"
           }
          ],
          "histogram": [
           {
            "marker": {
             "pattern": {
              "fillmode": "overlay",
              "size": 10,
              "solidity": 0.2
             }
            },
            "type": "histogram"
           }
          ],
          "histogram2d": [
           {
            "colorbar": {
             "outlinewidth": 0,
             "ticks": ""
            },
            "colorscale": [
             [
              0,
              "#0d0887"
             ],
             [
              0.1111111111111111,
              "#46039f"
             ],
             [
              0.2222222222222222,
              "#7201a8"
             ],
             [
              0.3333333333333333,
              "#9c179e"
             ],
             [
              0.4444444444444444,
              "#bd3786"
             ],
             [
              0.5555555555555556,
              "#d8576b"
             ],
             [
              0.6666666666666666,
              "#ed7953"
             ],
             [
              0.7777777777777778,
              "#fb9f3a"
             ],
             [
              0.8888888888888888,
              "#fdca26"
             ],
             [
              1,
              "#f0f921"
             ]
            ],
            "type": "histogram2d"
           }
          ],
          "histogram2dcontour": [
           {
            "colorbar": {
             "outlinewidth": 0,
             "ticks": ""
            },
            "colorscale": [
             [
              0,
              "#0d0887"
             ],
             [
              0.1111111111111111,
              "#46039f"
             ],
             [
              0.2222222222222222,
              "#7201a8"
             ],
             [
              0.3333333333333333,
              "#9c179e"
             ],
             [
              0.4444444444444444,
              "#bd3786"
             ],
             [
              0.5555555555555556,
              "#d8576b"
             ],
             [
              0.6666666666666666,
              "#ed7953"
             ],
             [
              0.7777777777777778,
              "#fb9f3a"
             ],
             [
              0.8888888888888888,
              "#fdca26"
             ],
             [
              1,
              "#f0f921"
             ]
            ],
            "type": "histogram2dcontour"
           }
          ],
          "mesh3d": [
           {
            "colorbar": {
             "outlinewidth": 0,
             "ticks": ""
            },
            "type": "mesh3d"
           }
          ],
          "parcoords": [
           {
            "line": {
             "colorbar": {
              "outlinewidth": 0,
              "ticks": ""
             }
            },
            "type": "parcoords"
           }
          ],
          "pie": [
           {
            "automargin": true,
            "type": "pie"
           }
          ],
          "scatter": [
           {
            "fillpattern": {
             "fillmode": "overlay",
             "size": 10,
             "solidity": 0.2
            },
            "type": "scatter"
           }
          ],
          "scatter3d": [
           {
            "line": {
             "colorbar": {
              "outlinewidth": 0,
              "ticks": ""
             }
            },
            "marker": {
             "colorbar": {
              "outlinewidth": 0,
              "ticks": ""
             }
            },
            "type": "scatter3d"
           }
          ],
          "scattercarpet": [
           {
            "marker": {
             "colorbar": {
              "outlinewidth": 0,
              "ticks": ""
             }
            },
            "type": "scattercarpet"
           }
          ],
          "scattergeo": [
           {
            "marker": {
             "colorbar": {
              "outlinewidth": 0,
              "ticks": ""
             }
            },
            "type": "scattergeo"
           }
          ],
          "scattergl": [
           {
            "marker": {
             "colorbar": {
              "outlinewidth": 0,
              "ticks": ""
             }
            },
            "type": "scattergl"
           }
          ],
          "scattermapbox": [
           {
            "marker": {
             "colorbar": {
              "outlinewidth": 0,
              "ticks": ""
             }
            },
            "type": "scattermapbox"
           }
          ],
          "scatterpolar": [
           {
            "marker": {
             "colorbar": {
              "outlinewidth": 0,
              "ticks": ""
             }
            },
            "type": "scatterpolar"
           }
          ],
          "scatterpolargl": [
           {
            "marker": {
             "colorbar": {
              "outlinewidth": 0,
              "ticks": ""
             }
            },
            "type": "scatterpolargl"
           }
          ],
          "scatterternary": [
           {
            "marker": {
             "colorbar": {
              "outlinewidth": 0,
              "ticks": ""
             }
            },
            "type": "scatterternary"
           }
          ],
          "surface": [
           {
            "colorbar": {
             "outlinewidth": 0,
             "ticks": ""
            },
            "colorscale": [
             [
              0,
              "#0d0887"
             ],
             [
              0.1111111111111111,
              "#46039f"
             ],
             [
              0.2222222222222222,
              "#7201a8"
             ],
             [
              0.3333333333333333,
              "#9c179e"
             ],
             [
              0.4444444444444444,
              "#bd3786"
             ],
             [
              0.5555555555555556,
              "#d8576b"
             ],
             [
              0.6666666666666666,
              "#ed7953"
             ],
             [
              0.7777777777777778,
              "#fb9f3a"
             ],
             [
              0.8888888888888888,
              "#fdca26"
             ],
             [
              1,
              "#f0f921"
             ]
            ],
            "type": "surface"
           }
          ],
          "table": [
           {
            "cells": {
             "fill": {
              "color": "#EBF0F8"
             },
             "line": {
              "color": "white"
             }
            },
            "header": {
             "fill": {
              "color": "#C8D4E3"
             },
             "line": {
              "color": "white"
             }
            },
            "type": "table"
           }
          ]
         },
         "layout": {
          "annotationdefaults": {
           "arrowcolor": "#2a3f5f",
           "arrowhead": 0,
           "arrowwidth": 1
          },
          "autotypenumbers": "strict",
          "coloraxis": {
           "colorbar": {
            "outlinewidth": 0,
            "ticks": ""
           }
          },
          "colorscale": {
           "diverging": [
            [
             0,
             "#8e0152"
            ],
            [
             0.1,
             "#c51b7d"
            ],
            [
             0.2,
             "#de77ae"
            ],
            [
             0.3,
             "#f1b6da"
            ],
            [
             0.4,
             "#fde0ef"
            ],
            [
             0.5,
             "#f7f7f7"
            ],
            [
             0.6,
             "#e6f5d0"
            ],
            [
             0.7,
             "#b8e186"
            ],
            [
             0.8,
             "#7fbc41"
            ],
            [
             0.9,
             "#4d9221"
            ],
            [
             1,
             "#276419"
            ]
           ],
           "sequential": [
            [
             0,
             "#0d0887"
            ],
            [
             0.1111111111111111,
             "#46039f"
            ],
            [
             0.2222222222222222,
             "#7201a8"
            ],
            [
             0.3333333333333333,
             "#9c179e"
            ],
            [
             0.4444444444444444,
             "#bd3786"
            ],
            [
             0.5555555555555556,
             "#d8576b"
            ],
            [
             0.6666666666666666,
             "#ed7953"
            ],
            [
             0.7777777777777778,
             "#fb9f3a"
            ],
            [
             0.8888888888888888,
             "#fdca26"
            ],
            [
             1,
             "#f0f921"
            ]
           ],
           "sequentialminus": [
            [
             0,
             "#0d0887"
            ],
            [
             0.1111111111111111,
             "#46039f"
            ],
            [
             0.2222222222222222,
             "#7201a8"
            ],
            [
             0.3333333333333333,
             "#9c179e"
            ],
            [
             0.4444444444444444,
             "#bd3786"
            ],
            [
             0.5555555555555556,
             "#d8576b"
            ],
            [
             0.6666666666666666,
             "#ed7953"
            ],
            [
             0.7777777777777778,
             "#fb9f3a"
            ],
            [
             0.8888888888888888,
             "#fdca26"
            ],
            [
             1,
             "#f0f921"
            ]
           ]
          },
          "colorway": [
           "#636efa",
           "#EF553B",
           "#00cc96",
           "#ab63fa",
           "#FFA15A",
           "#19d3f3",
           "#FF6692",
           "#B6E880",
           "#FF97FF",
           "#FECB52"
          ],
          "font": {
           "color": "#2a3f5f"
          },
          "geo": {
           "bgcolor": "white",
           "lakecolor": "white",
           "landcolor": "#E5ECF6",
           "showlakes": true,
           "showland": true,
           "subunitcolor": "white"
          },
          "hoverlabel": {
           "align": "left"
          },
          "hovermode": "closest",
          "mapbox": {
           "style": "light"
          },
          "paper_bgcolor": "white",
          "plot_bgcolor": "#E5ECF6",
          "polar": {
           "angularaxis": {
            "gridcolor": "white",
            "linecolor": "white",
            "ticks": ""
           },
           "bgcolor": "#E5ECF6",
           "radialaxis": {
            "gridcolor": "white",
            "linecolor": "white",
            "ticks": ""
           }
          },
          "scene": {
           "xaxis": {
            "backgroundcolor": "#E5ECF6",
            "gridcolor": "white",
            "gridwidth": 2,
            "linecolor": "white",
            "showbackground": true,
            "ticks": "",
            "zerolinecolor": "white"
           },
           "yaxis": {
            "backgroundcolor": "#E5ECF6",
            "gridcolor": "white",
            "gridwidth": 2,
            "linecolor": "white",
            "showbackground": true,
            "ticks": "",
            "zerolinecolor": "white"
           },
           "zaxis": {
            "backgroundcolor": "#E5ECF6",
            "gridcolor": "white",
            "gridwidth": 2,
            "linecolor": "white",
            "showbackground": true,
            "ticks": "",
            "zerolinecolor": "white"
           }
          },
          "shapedefaults": {
           "line": {
            "color": "#2a3f5f"
           }
          },
          "ternary": {
           "aaxis": {
            "gridcolor": "white",
            "linecolor": "white",
            "ticks": ""
           },
           "baxis": {
            "gridcolor": "white",
            "linecolor": "white",
            "ticks": ""
           },
           "bgcolor": "#E5ECF6",
           "caxis": {
            "gridcolor": "white",
            "linecolor": "white",
            "ticks": ""
           }
          },
          "title": {
           "x": 0.05
          },
          "xaxis": {
           "automargin": true,
           "gridcolor": "white",
           "linecolor": "white",
           "ticks": "",
           "title": {
            "standoff": 15
           },
           "zerolinecolor": "white",
           "zerolinewidth": 2
          },
          "yaxis": {
           "automargin": true,
           "gridcolor": "white",
           "linecolor": "white",
           "ticks": "",
           "title": {
            "standoff": 15
           },
           "zerolinecolor": "white",
           "zerolinewidth": 2
          }
         }
        },
        "updatemenus": [
         {
          "buttons": [
           {
            "args": [
             null,
             {
              "frame": {
               "duration": 500,
               "redraw": false
              },
              "fromcurrent": true,
              "mode": "immediate",
              "transition": {
               "duration": 500,
               "easing": "linear"
              }
             }
            ],
            "label": "&#9654;",
            "method": "animate"
           },
           {
            "args": [
             [
              null
             ],
             {
              "frame": {
               "duration": 0,
               "redraw": false
              },
              "fromcurrent": true,
              "mode": "immediate",
              "transition": {
               "duration": 0,
               "easing": "linear"
              }
             }
            ],
            "label": "&#9724;",
            "method": "animate"
           }
          ],
          "direction": "left",
          "pad": {
           "r": 10,
           "t": 70
          },
          "showactive": false,
          "type": "buttons",
          "x": 0.1,
          "xanchor": "right",
          "y": 0,
          "yanchor": "top"
         }
        ],
        "xaxis": {
         "anchor": "y",
         "domain": [
          0,
          1
         ],
         "range": [
          2,
          5
         ],
         "title": {
          "text": "gdpPercap"
         },
         "type": "log"
        },
        "yaxis": {
         "anchor": "x",
         "domain": [
          0,
          1
         ],
         "range": [
          25,
          90
         ],
         "title": {
          "text": "lifeExp"
         }
        }
       }
      }
     },
     "metadata": {},
     "output_type": "display_data"
    }
   ],
   "source": [
    "import plotly.express as px\n",
    "\n",
    "df = px.data.gapminder()\n",
    "fig = px.scatter(df, x=\"gdpPercap\", y=\"lifeExp\", animation_frame=\"year\", animation_group=\"country\",\n",
    "           size=\"pop\", color=\"continent\", hover_name=\"country\",\n",
    "           log_x=True, size_max=55, range_x=[100,100000], range_y=[25,90])\n",
    "\n",
    "#fig[\"layout\"].pop(\"updatemenus\") # optional, drop animation buttons\n",
    "fig.show()"
   ]
  },
  {
   "cell_type": "code",
   "execution_count": 7,
   "metadata": {},
   "outputs": [
    {
     "data": {
      "text/plain": [
       "{'data': [{'hovertemplate': '<b>%{hovertext}</b><br><br>continent=Asia<br>year=1952<br>gdpPercap=%{x}<br>lifeExp=%{y}<br>pop=%{marker.size}<extra></extra>',\n",
       "   'hovertext': array(['Afghanistan', 'Bahrain', 'Bangladesh', 'Cambodia', 'China',\n",
       "          'Hong Kong, China', 'India', 'Indonesia', 'Iran', 'Iraq', 'Israel',\n",
       "          'Japan', 'Jordan', 'Korea, Dem. Rep.', 'Korea, Rep.', 'Kuwait',\n",
       "          'Lebanon', 'Malaysia', 'Mongolia', 'Myanmar', 'Nepal', 'Oman',\n",
       "          'Pakistan', 'Philippines', 'Saudi Arabia', 'Singapore',\n",
       "          'Sri Lanka', 'Syria', 'Taiwan', 'Thailand', 'Vietnam',\n",
       "          'West Bank and Gaza', 'Yemen, Rep.'], dtype=object),\n",
       "   'ids': array(['Afghanistan', 'Bahrain', 'Bangladesh', 'Cambodia', 'China',\n",
       "          'Hong Kong, China', 'India', 'Indonesia', 'Iran', 'Iraq', 'Israel',\n",
       "          'Japan', 'Jordan', 'Korea, Dem. Rep.', 'Korea, Rep.', 'Kuwait',\n",
       "          'Lebanon', 'Malaysia', 'Mongolia', 'Myanmar', 'Nepal', 'Oman',\n",
       "          'Pakistan', 'Philippines', 'Saudi Arabia', 'Singapore',\n",
       "          'Sri Lanka', 'Syria', 'Taiwan', 'Thailand', 'Vietnam',\n",
       "          'West Bank and Gaza', 'Yemen, Rep.'], dtype=object),\n",
       "   'legendgroup': 'Asia',\n",
       "   'marker': {'color': '#636efa',\n",
       "    'size': array([  8425333,    120447,  46886859,   4693836, 556263527,   2125900,\n",
       "           372000000,  82052000,  17272000,   5441766,   1620914,  86459025,\n",
       "              607914,   8865488,  20947571,    160000,   1439529,   6748378,\n",
       "              800663,  20092996,   9182536,    507833,  41346560,  22438691,\n",
       "             4005677,   1127000,   7982342,   3661549,   8550362,  21289402,\n",
       "            26246839,   1030585,   4963829], dtype=int64),\n",
       "    'sizemode': 'area',\n",
       "    'sizeref': 435928.2961983471,\n",
       "    'symbol': 'circle'},\n",
       "   'mode': 'markers',\n",
       "   'name': 'Asia',\n",
       "   'orientation': 'v',\n",
       "   'showlegend': True,\n",
       "   'x': array([   779.4453145,   9867.084765 ,    684.2441716,    368.4692856,\n",
       "             400.448611 ,   3054.421209 ,    546.5657493,    749.6816546,\n",
       "            3035.326002 ,   4129.766056 ,   4086.522128 ,   3216.956347 ,\n",
       "            1546.907807 ,   1088.277758 ,   1030.592226 , 108382.3529   ,\n",
       "            4834.804067 ,   1831.132894 ,    786.5668575,    331.       ,\n",
       "             545.8657229,   1828.230307 ,    684.5971438,   1272.880995 ,\n",
       "            6459.554823 ,   2315.138227 ,   1083.53203  ,   1643.485354 ,\n",
       "            1206.947913 ,    757.7974177,    605.0664917,   1515.592329 ,\n",
       "             781.7175761]),\n",
       "   'xaxis': 'x',\n",
       "   'y': array([28.801, 50.939, 37.484, 39.417, 44.   , 60.96 , 37.373, 37.468,\n",
       "          44.869, 45.32 , 65.39 , 63.03 , 43.158, 50.056, 47.453, 55.565,\n",
       "          55.928, 48.463, 42.244, 36.319, 36.157, 37.578, 43.436, 47.752,\n",
       "          39.875, 60.396, 57.593, 45.883, 58.5  , 50.848, 40.412, 43.16 ,\n",
       "          32.548]),\n",
       "   'yaxis': 'y',\n",
       "   'type': 'scatter'},\n",
       "  {'hovertemplate': '<b>%{hovertext}</b><br><br>continent=Europe<br>year=1952<br>gdpPercap=%{x}<br>lifeExp=%{y}<br>pop=%{marker.size}<extra></extra>',\n",
       "   'hovertext': array(['Albania', 'Austria', 'Belgium', 'Bosnia and Herzegovina',\n",
       "          'Bulgaria', 'Croatia', 'Czech Republic', 'Denmark', 'Finland',\n",
       "          'France', 'Germany', 'Greece', 'Hungary', 'Iceland', 'Ireland',\n",
       "          'Italy', 'Montenegro', 'Netherlands', 'Norway', 'Poland',\n",
       "          'Portugal', 'Romania', 'Serbia', 'Slovak Republic', 'Slovenia',\n",
       "          'Spain', 'Sweden', 'Switzerland', 'Turkey', 'United Kingdom'],\n",
       "         dtype=object),\n",
       "   'ids': array(['Albania', 'Austria', 'Belgium', 'Bosnia and Herzegovina',\n",
       "          'Bulgaria', 'Croatia', 'Czech Republic', 'Denmark', 'Finland',\n",
       "          'France', 'Germany', 'Greece', 'Hungary', 'Iceland', 'Ireland',\n",
       "          'Italy', 'Montenegro', 'Netherlands', 'Norway', 'Poland',\n",
       "          'Portugal', 'Romania', 'Serbia', 'Slovak Republic', 'Slovenia',\n",
       "          'Spain', 'Sweden', 'Switzerland', 'Turkey', 'United Kingdom'],\n",
       "         dtype=object),\n",
       "   'legendgroup': 'Europe',\n",
       "   'marker': {'color': '#EF553B',\n",
       "    'size': array([ 1282697,  6927772,  8730405,  2791000,  7274900,  3882229,\n",
       "            9125183,  4334000,  4090500, 42459667, 69145952,  7733250,\n",
       "            9504000,   147962,  2952156, 47666000,   413834, 10381988,\n",
       "            3327728, 25730551,  8526050, 16630000,  6860147,  3558137,\n",
       "            1489518, 28549870,  7124673,  4815000, 22235677, 50430000],\n",
       "          dtype=int64),\n",
       "    'sizemode': 'area',\n",
       "    'sizeref': 435928.2961983471,\n",
       "    'symbol': 'circle'},\n",
       "   'mode': 'markers',\n",
       "   'name': 'Europe',\n",
       "   'orientation': 'v',\n",
       "   'showlegend': True,\n",
       "   'x': array([ 1601.056136 ,  6137.076492 ,  8343.105127 ,   973.5331948,\n",
       "           2444.286648 ,  3119.23652  ,  6876.14025  ,  9692.385245 ,\n",
       "           6424.519071 ,  7029.809327 ,  7144.114393 ,  3530.690067 ,\n",
       "           5263.673816 ,  7267.688428 ,  5210.280328 ,  4931.404155 ,\n",
       "           2647.585601 ,  8941.571858 , 10095.42172  ,  4029.329699 ,\n",
       "           3068.319867 ,  3144.613186 ,  3581.459448 ,  5074.659104 ,\n",
       "           4215.041741 ,  3834.034742 ,  8527.844662 , 14734.23275  ,\n",
       "           1969.10098  ,  9979.508487 ]),\n",
       "   'xaxis': 'x',\n",
       "   'y': array([55.23 , 66.8  , 68.   , 53.82 , 59.6  , 61.21 , 66.87 , 70.78 ,\n",
       "          66.55 , 67.41 , 67.5  , 65.86 , 64.03 , 72.49 , 66.91 , 65.94 ,\n",
       "          59.164, 72.13 , 72.67 , 61.31 , 59.82 , 61.05 , 57.996, 64.36 ,\n",
       "          65.57 , 64.94 , 71.86 , 69.62 , 43.585, 69.18 ]),\n",
       "   'yaxis': 'y',\n",
       "   'type': 'scatter'},\n",
       "  {'hovertemplate': '<b>%{hovertext}</b><br><br>continent=Africa<br>year=1952<br>gdpPercap=%{x}<br>lifeExp=%{y}<br>pop=%{marker.size}<extra></extra>',\n",
       "   'hovertext': array(['Algeria', 'Angola', 'Benin', 'Botswana', 'Burkina Faso',\n",
       "          'Burundi', 'Cameroon', 'Central African Republic', 'Chad',\n",
       "          'Comoros', 'Congo, Dem. Rep.', 'Congo, Rep.', \"Cote d'Ivoire\",\n",
       "          'Djibouti', 'Egypt', 'Equatorial Guinea', 'Eritrea', 'Ethiopia',\n",
       "          'Gabon', 'Gambia', 'Ghana', 'Guinea', 'Guinea-Bissau', 'Kenya',\n",
       "          'Lesotho', 'Liberia', 'Libya', 'Madagascar', 'Malawi', 'Mali',\n",
       "          'Mauritania', 'Mauritius', 'Morocco', 'Mozambique', 'Namibia',\n",
       "          'Niger', 'Nigeria', 'Reunion', 'Rwanda', 'Sao Tome and Principe',\n",
       "          'Senegal', 'Sierra Leone', 'Somalia', 'South Africa', 'Sudan',\n",
       "          'Swaziland', 'Tanzania', 'Togo', 'Tunisia', 'Uganda', 'Zambia',\n",
       "          'Zimbabwe'], dtype=object),\n",
       "   'ids': array(['Algeria', 'Angola', 'Benin', 'Botswana', 'Burkina Faso',\n",
       "          'Burundi', 'Cameroon', 'Central African Republic', 'Chad',\n",
       "          'Comoros', 'Congo, Dem. Rep.', 'Congo, Rep.', \"Cote d'Ivoire\",\n",
       "          'Djibouti', 'Egypt', 'Equatorial Guinea', 'Eritrea', 'Ethiopia',\n",
       "          'Gabon', 'Gambia', 'Ghana', 'Guinea', 'Guinea-Bissau', 'Kenya',\n",
       "          'Lesotho', 'Liberia', 'Libya', 'Madagascar', 'Malawi', 'Mali',\n",
       "          'Mauritania', 'Mauritius', 'Morocco', 'Mozambique', 'Namibia',\n",
       "          'Niger', 'Nigeria', 'Reunion', 'Rwanda', 'Sao Tome and Principe',\n",
       "          'Senegal', 'Sierra Leone', 'Somalia', 'South Africa', 'Sudan',\n",
       "          'Swaziland', 'Tanzania', 'Togo', 'Tunisia', 'Uganda', 'Zambia',\n",
       "          'Zimbabwe'], dtype=object),\n",
       "   'legendgroup': 'Africa',\n",
       "   'marker': {'color': '#00cc96',\n",
       "    'size': array([ 9279525,  4232095,  1738315,   442308,  4469979,  2445618,\n",
       "            5009067,  1291695,  2682462,   153936, 14100005,   854885,\n",
       "            2977019,    63149, 22223309,   216964,  1438760, 20860941,\n",
       "             420702,   284320,  5581001,  2664249,   580653,  6464046,\n",
       "             748747,   863308,  1019729,  4762912,  2917802,  3838168,\n",
       "            1022556,   516556,  9939217,  6446316,   485831,  3379468,\n",
       "           33119096,   257700,  2534927,    60011,  2755589,  2143249,\n",
       "            2526994, 14264935,  8504667,   290243,  8322925,  1219113,\n",
       "            3647735,  5824797,  2672000,  3080907], dtype=int64),\n",
       "    'sizemode': 'area',\n",
       "    'sizeref': 435928.2961983471,\n",
       "    'symbol': 'circle'},\n",
       "   'mode': 'markers',\n",
       "   'name': 'Africa',\n",
       "   'orientation': 'v',\n",
       "   'showlegend': True,\n",
       "   'x': array([2449.008185 , 3520.610273 , 1062.7522   ,  851.2411407,\n",
       "           543.2552413,  339.2964587, 1172.667655 , 1071.310713 ,\n",
       "          1178.665927 , 1102.990936 ,  780.5423257, 2125.621418 ,\n",
       "          1388.594732 , 2669.529475 , 1418.822445 ,  375.6431231,\n",
       "           328.9405571,  362.1462796, 4293.476475 ,  485.2306591,\n",
       "           911.2989371,  510.1964923,  299.850319 ,  853.540919 ,\n",
       "           298.8462121,  575.5729961, 2387.54806  , 1443.011715 ,\n",
       "           369.1650802,  452.3369807,  743.1159097, 1967.955707 ,\n",
       "          1688.20357  ,  468.5260381, 2423.780443 ,  761.879376 ,\n",
       "          1077.281856 , 2718.885295 ,  493.3238752,  879.5835855,\n",
       "          1450.356983 ,  879.7877358, 1135.749842 , 4725.295531 ,\n",
       "          1615.991129 , 1148.376626 ,  716.6500721,  859.8086567,\n",
       "          1468.475631 ,  734.753484 , 1147.388831 ,  406.8841148]),\n",
       "   'xaxis': 'x',\n",
       "   'y': array([43.077, 30.015, 38.223, 47.622, 31.975, 39.031, 38.523, 35.463,\n",
       "          38.092, 40.715, 39.143, 42.111, 40.477, 34.812, 41.893, 34.482,\n",
       "          35.928, 34.078, 37.003, 30.   , 43.149, 33.609, 32.5  , 42.27 ,\n",
       "          42.138, 38.48 , 42.723, 36.681, 36.256, 33.685, 40.543, 50.986,\n",
       "          42.873, 31.286, 41.725, 37.444, 36.324, 52.724, 40.   , 46.471,\n",
       "          37.278, 30.331, 32.978, 45.009, 38.635, 41.407, 41.215, 38.596,\n",
       "          44.6  , 39.978, 42.038, 48.451]),\n",
       "   'yaxis': 'y',\n",
       "   'type': 'scatter'},\n",
       "  {'hovertemplate': '<b>%{hovertext}</b><br><br>continent=Americas<br>year=1952<br>gdpPercap=%{x}<br>lifeExp=%{y}<br>pop=%{marker.size}<extra></extra>',\n",
       "   'hovertext': array(['Argentina', 'Bolivia', 'Brazil', 'Canada', 'Chile', 'Colombia',\n",
       "          'Costa Rica', 'Cuba', 'Dominican Republic', 'Ecuador',\n",
       "          'El Salvador', 'Guatemala', 'Haiti', 'Honduras', 'Jamaica',\n",
       "          'Mexico', 'Nicaragua', 'Panama', 'Paraguay', 'Peru', 'Puerto Rico',\n",
       "          'Trinidad and Tobago', 'United States', 'Uruguay', 'Venezuela'],\n",
       "         dtype=object),\n",
       "   'ids': array(['Argentina', 'Bolivia', 'Brazil', 'Canada', 'Chile', 'Colombia',\n",
       "          'Costa Rica', 'Cuba', 'Dominican Republic', 'Ecuador',\n",
       "          'El Salvador', 'Guatemala', 'Haiti', 'Honduras', 'Jamaica',\n",
       "          'Mexico', 'Nicaragua', 'Panama', 'Paraguay', 'Peru', 'Puerto Rico',\n",
       "          'Trinidad and Tobago', 'United States', 'Uruguay', 'Venezuela'],\n",
       "         dtype=object),\n",
       "   'legendgroup': 'Americas',\n",
       "   'marker': {'color': '#ab63fa',\n",
       "    'size': array([ 17876956,   2883315,  56602560,  14785584,   6377619,  12350771,\n",
       "              926317,   6007797,   2491346,   3548753,   2042865,   3146381,\n",
       "             3201488,   1517453,   1426095,  30144317,   1165790,    940080,\n",
       "             1555876,   8025700,   2227000,    662850, 157553000,   2252965,\n",
       "             5439568], dtype=int64),\n",
       "    'sizemode': 'area',\n",
       "    'sizeref': 435928.2961983471,\n",
       "    'symbol': 'circle'},\n",
       "   'mode': 'markers',\n",
       "   'name': 'Americas',\n",
       "   'orientation': 'v',\n",
       "   'showlegend': True,\n",
       "   'x': array([ 5911.315053,  2677.326347,  2108.944355, 11367.16112 ,\n",
       "           3939.978789,  2144.115096,  2627.009471,  5586.53878 ,\n",
       "           1397.717137,  3522.110717,  3048.3029  ,  2428.237769,\n",
       "           1840.366939,  2194.926204,  2898.530881,  3478.125529,\n",
       "           3112.363948,  2480.380334,  1952.308701,  3758.523437,\n",
       "           3081.959785,  3023.271928, 13990.48208 ,  5716.766744,\n",
       "           7689.799761]),\n",
       "   'xaxis': 'x',\n",
       "   'y': array([62.485, 40.414, 50.917, 68.75 , 54.745, 50.643, 57.206, 59.421,\n",
       "          45.928, 48.357, 45.262, 42.023, 37.579, 41.912, 58.53 , 50.789,\n",
       "          42.314, 55.191, 62.649, 43.902, 64.28 , 59.1  , 68.44 , 66.071,\n",
       "          55.088]),\n",
       "   'yaxis': 'y',\n",
       "   'type': 'scatter'},\n",
       "  {'hovertemplate': '<b>%{hovertext}</b><br><br>continent=Oceania<br>year=1952<br>gdpPercap=%{x}<br>lifeExp=%{y}<br>pop=%{marker.size}<extra></extra>',\n",
       "   'hovertext': array(['Australia', 'New Zealand'], dtype=object),\n",
       "   'ids': array(['Australia', 'New Zealand'], dtype=object),\n",
       "   'legendgroup': 'Oceania',\n",
       "   'marker': {'color': '#FFA15A',\n",
       "    'size': array([8691212, 1994794], dtype=int64),\n",
       "    'sizemode': 'area',\n",
       "    'sizeref': 435928.2961983471,\n",
       "    'symbol': 'circle'},\n",
       "   'mode': 'markers',\n",
       "   'name': 'Oceania',\n",
       "   'orientation': 'v',\n",
       "   'showlegend': True,\n",
       "   'x': array([10039.59564, 10556.57566]),\n",
       "   'xaxis': 'x',\n",
       "   'y': array([69.12, 69.39]),\n",
       "   'yaxis': 'y',\n",
       "   'type': 'scatter'}],\n",
       " 'layout': {'template': {'data': {'histogram2dcontour': [{'type': 'histogram2dcontour',\n",
       "      'colorbar': {'outlinewidth': 0, 'ticks': ''},\n",
       "      'colorscale': [[0.0, '#0d0887'],\n",
       "       [0.1111111111111111, '#46039f'],\n",
       "       [0.2222222222222222, '#7201a8'],\n",
       "       [0.3333333333333333, '#9c179e'],\n",
       "       [0.4444444444444444, '#bd3786'],\n",
       "       [0.5555555555555556, '#d8576b'],\n",
       "       [0.6666666666666666, '#ed7953'],\n",
       "       [0.7777777777777778, '#fb9f3a'],\n",
       "       [0.8888888888888888, '#fdca26'],\n",
       "       [1.0, '#f0f921']]}],\n",
       "    'choropleth': [{'type': 'choropleth',\n",
       "      'colorbar': {'outlinewidth': 0, 'ticks': ''}}],\n",
       "    'histogram2d': [{'type': 'histogram2d',\n",
       "      'colorbar': {'outlinewidth': 0, 'ticks': ''},\n",
       "      'colorscale': [[0.0, '#0d0887'],\n",
       "       [0.1111111111111111, '#46039f'],\n",
       "       [0.2222222222222222, '#7201a8'],\n",
       "       [0.3333333333333333, '#9c179e'],\n",
       "       [0.4444444444444444, '#bd3786'],\n",
       "       [0.5555555555555556, '#d8576b'],\n",
       "       [0.6666666666666666, '#ed7953'],\n",
       "       [0.7777777777777778, '#fb9f3a'],\n",
       "       [0.8888888888888888, '#fdca26'],\n",
       "       [1.0, '#f0f921']]}],\n",
       "    'heatmap': [{'type': 'heatmap',\n",
       "      'colorbar': {'outlinewidth': 0, 'ticks': ''},\n",
       "      'colorscale': [[0.0, '#0d0887'],\n",
       "       [0.1111111111111111, '#46039f'],\n",
       "       [0.2222222222222222, '#7201a8'],\n",
       "       [0.3333333333333333, '#9c179e'],\n",
       "       [0.4444444444444444, '#bd3786'],\n",
       "       [0.5555555555555556, '#d8576b'],\n",
       "       [0.6666666666666666, '#ed7953'],\n",
       "       [0.7777777777777778, '#fb9f3a'],\n",
       "       [0.8888888888888888, '#fdca26'],\n",
       "       [1.0, '#f0f921']]}],\n",
       "    'heatmapgl': [{'type': 'heatmapgl',\n",
       "      'colorbar': {'outlinewidth': 0, 'ticks': ''},\n",
       "      'colorscale': [[0.0, '#0d0887'],\n",
       "       [0.1111111111111111, '#46039f'],\n",
       "       [0.2222222222222222, '#7201a8'],\n",
       "       [0.3333333333333333, '#9c179e'],\n",
       "       [0.4444444444444444, '#bd3786'],\n",
       "       [0.5555555555555556, '#d8576b'],\n",
       "       [0.6666666666666666, '#ed7953'],\n",
       "       [0.7777777777777778, '#fb9f3a'],\n",
       "       [0.8888888888888888, '#fdca26'],\n",
       "       [1.0, '#f0f921']]}],\n",
       "    'contourcarpet': [{'type': 'contourcarpet',\n",
       "      'colorbar': {'outlinewidth': 0, 'ticks': ''}}],\n",
       "    'contour': [{'type': 'contour',\n",
       "      'colorbar': {'outlinewidth': 0, 'ticks': ''},\n",
       "      'colorscale': [[0.0, '#0d0887'],\n",
       "       [0.1111111111111111, '#46039f'],\n",
       "       [0.2222222222222222, '#7201a8'],\n",
       "       [0.3333333333333333, '#9c179e'],\n",
       "       [0.4444444444444444, '#bd3786'],\n",
       "       [0.5555555555555556, '#d8576b'],\n",
       "       [0.6666666666666666, '#ed7953'],\n",
       "       [0.7777777777777778, '#fb9f3a'],\n",
       "       [0.8888888888888888, '#fdca26'],\n",
       "       [1.0, '#f0f921']]}],\n",
       "    'surface': [{'type': 'surface',\n",
       "      'colorbar': {'outlinewidth': 0, 'ticks': ''},\n",
       "      'colorscale': [[0.0, '#0d0887'],\n",
       "       [0.1111111111111111, '#46039f'],\n",
       "       [0.2222222222222222, '#7201a8'],\n",
       "       [0.3333333333333333, '#9c179e'],\n",
       "       [0.4444444444444444, '#bd3786'],\n",
       "       [0.5555555555555556, '#d8576b'],\n",
       "       [0.6666666666666666, '#ed7953'],\n",
       "       [0.7777777777777778, '#fb9f3a'],\n",
       "       [0.8888888888888888, '#fdca26'],\n",
       "       [1.0, '#f0f921']]}],\n",
       "    'mesh3d': [{'type': 'mesh3d',\n",
       "      'colorbar': {'outlinewidth': 0, 'ticks': ''}}],\n",
       "    'scatter': [{'fillpattern': {'fillmode': 'overlay',\n",
       "       'size': 10,\n",
       "       'solidity': 0.2},\n",
       "      'type': 'scatter'}],\n",
       "    'parcoords': [{'type': 'parcoords',\n",
       "      'line': {'colorbar': {'outlinewidth': 0, 'ticks': ''}}}],\n",
       "    'scatterpolargl': [{'type': 'scatterpolargl',\n",
       "      'marker': {'colorbar': {'outlinewidth': 0, 'ticks': ''}}}],\n",
       "    'bar': [{'error_x': {'color': '#2a3f5f'},\n",
       "      'error_y': {'color': '#2a3f5f'},\n",
       "      'marker': {'line': {'color': '#E5ECF6', 'width': 0.5},\n",
       "       'pattern': {'fillmode': 'overlay', 'size': 10, 'solidity': 0.2}},\n",
       "      'type': 'bar'}],\n",
       "    'scattergeo': [{'type': 'scattergeo',\n",
       "      'marker': {'colorbar': {'outlinewidth': 0, 'ticks': ''}}}],\n",
       "    'scatterpolar': [{'type': 'scatterpolar',\n",
       "      'marker': {'colorbar': {'outlinewidth': 0, 'ticks': ''}}}],\n",
       "    'histogram': [{'marker': {'pattern': {'fillmode': 'overlay',\n",
       "        'size': 10,\n",
       "        'solidity': 0.2}},\n",
       "      'type': 'histogram'}],\n",
       "    'scattergl': [{'type': 'scattergl',\n",
       "      'marker': {'colorbar': {'outlinewidth': 0, 'ticks': ''}}}],\n",
       "    'scatter3d': [{'type': 'scatter3d',\n",
       "      'line': {'colorbar': {'outlinewidth': 0, 'ticks': ''}},\n",
       "      'marker': {'colorbar': {'outlinewidth': 0, 'ticks': ''}}}],\n",
       "    'scattermapbox': [{'type': 'scattermapbox',\n",
       "      'marker': {'colorbar': {'outlinewidth': 0, 'ticks': ''}}}],\n",
       "    'scatterternary': [{'type': 'scatterternary',\n",
       "      'marker': {'colorbar': {'outlinewidth': 0, 'ticks': ''}}}],\n",
       "    'scattercarpet': [{'type': 'scattercarpet',\n",
       "      'marker': {'colorbar': {'outlinewidth': 0, 'ticks': ''}}}],\n",
       "    'carpet': [{'aaxis': {'endlinecolor': '#2a3f5f',\n",
       "       'gridcolor': 'white',\n",
       "       'linecolor': 'white',\n",
       "       'minorgridcolor': 'white',\n",
       "       'startlinecolor': '#2a3f5f'},\n",
       "      'baxis': {'endlinecolor': '#2a3f5f',\n",
       "       'gridcolor': 'white',\n",
       "       'linecolor': 'white',\n",
       "       'minorgridcolor': 'white',\n",
       "       'startlinecolor': '#2a3f5f'},\n",
       "      'type': 'carpet'}],\n",
       "    'table': [{'cells': {'fill': {'color': '#EBF0F8'},\n",
       "       'line': {'color': 'white'}},\n",
       "      'header': {'fill': {'color': '#C8D4E3'}, 'line': {'color': 'white'}},\n",
       "      'type': 'table'}],\n",
       "    'barpolar': [{'marker': {'line': {'color': '#E5ECF6', 'width': 0.5},\n",
       "       'pattern': {'fillmode': 'overlay', 'size': 10, 'solidity': 0.2}},\n",
       "      'type': 'barpolar'}],\n",
       "    'pie': [{'automargin': True, 'type': 'pie'}]},\n",
       "   'layout': {'autotypenumbers': 'strict',\n",
       "    'colorway': ['#636efa',\n",
       "     '#EF553B',\n",
       "     '#00cc96',\n",
       "     '#ab63fa',\n",
       "     '#FFA15A',\n",
       "     '#19d3f3',\n",
       "     '#FF6692',\n",
       "     '#B6E880',\n",
       "     '#FF97FF',\n",
       "     '#FECB52'],\n",
       "    'font': {'color': '#2a3f5f'},\n",
       "    'hovermode': 'closest',\n",
       "    'hoverlabel': {'align': 'left'},\n",
       "    'paper_bgcolor': 'white',\n",
       "    'plot_bgcolor': '#E5ECF6',\n",
       "    'polar': {'bgcolor': '#E5ECF6',\n",
       "     'angularaxis': {'gridcolor': 'white', 'linecolor': 'white', 'ticks': ''},\n",
       "     'radialaxis': {'gridcolor': 'white', 'linecolor': 'white', 'ticks': ''}},\n",
       "    'ternary': {'bgcolor': '#E5ECF6',\n",
       "     'aaxis': {'gridcolor': 'white', 'linecolor': 'white', 'ticks': ''},\n",
       "     'baxis': {'gridcolor': 'white', 'linecolor': 'white', 'ticks': ''},\n",
       "     'caxis': {'gridcolor': 'white', 'linecolor': 'white', 'ticks': ''}},\n",
       "    'coloraxis': {'colorbar': {'outlinewidth': 0, 'ticks': ''}},\n",
       "    'colorscale': {'sequential': [[0.0, '#0d0887'],\n",
       "      [0.1111111111111111, '#46039f'],\n",
       "      [0.2222222222222222, '#7201a8'],\n",
       "      [0.3333333333333333, '#9c179e'],\n",
       "      [0.4444444444444444, '#bd3786'],\n",
       "      [0.5555555555555556, '#d8576b'],\n",
       "      [0.6666666666666666, '#ed7953'],\n",
       "      [0.7777777777777778, '#fb9f3a'],\n",
       "      [0.8888888888888888, '#fdca26'],\n",
       "      [1.0, '#f0f921']],\n",
       "     'sequentialminus': [[0.0, '#0d0887'],\n",
       "      [0.1111111111111111, '#46039f'],\n",
       "      [0.2222222222222222, '#7201a8'],\n",
       "      [0.3333333333333333, '#9c179e'],\n",
       "      [0.4444444444444444, '#bd3786'],\n",
       "      [0.5555555555555556, '#d8576b'],\n",
       "      [0.6666666666666666, '#ed7953'],\n",
       "      [0.7777777777777778, '#fb9f3a'],\n",
       "      [0.8888888888888888, '#fdca26'],\n",
       "      [1.0, '#f0f921']],\n",
       "     'diverging': [[0, '#8e0152'],\n",
       "      [0.1, '#c51b7d'],\n",
       "      [0.2, '#de77ae'],\n",
       "      [0.3, '#f1b6da'],\n",
       "      [0.4, '#fde0ef'],\n",
       "      [0.5, '#f7f7f7'],\n",
       "      [0.6, '#e6f5d0'],\n",
       "      [0.7, '#b8e186'],\n",
       "      [0.8, '#7fbc41'],\n",
       "      [0.9, '#4d9221'],\n",
       "      [1, '#276419']]},\n",
       "    'xaxis': {'gridcolor': 'white',\n",
       "     'linecolor': 'white',\n",
       "     'ticks': '',\n",
       "     'title': {'standoff': 15},\n",
       "     'zerolinecolor': 'white',\n",
       "     'automargin': True,\n",
       "     'zerolinewidth': 2},\n",
       "    'yaxis': {'gridcolor': 'white',\n",
       "     'linecolor': 'white',\n",
       "     'ticks': '',\n",
       "     'title': {'standoff': 15},\n",
       "     'zerolinecolor': 'white',\n",
       "     'automargin': True,\n",
       "     'zerolinewidth': 2},\n",
       "    'scene': {'xaxis': {'backgroundcolor': '#E5ECF6',\n",
       "      'gridcolor': 'white',\n",
       "      'linecolor': 'white',\n",
       "      'showbackground': True,\n",
       "      'ticks': '',\n",
       "      'zerolinecolor': 'white',\n",
       "      'gridwidth': 2},\n",
       "     'yaxis': {'backgroundcolor': '#E5ECF6',\n",
       "      'gridcolor': 'white',\n",
       "      'linecolor': 'white',\n",
       "      'showbackground': True,\n",
       "      'ticks': '',\n",
       "      'zerolinecolor': 'white',\n",
       "      'gridwidth': 2},\n",
       "     'zaxis': {'backgroundcolor': '#E5ECF6',\n",
       "      'gridcolor': 'white',\n",
       "      'linecolor': 'white',\n",
       "      'showbackground': True,\n",
       "      'ticks': '',\n",
       "      'zerolinecolor': 'white',\n",
       "      'gridwidth': 2}},\n",
       "    'shapedefaults': {'line': {'color': '#2a3f5f'}},\n",
       "    'annotationdefaults': {'arrowcolor': '#2a3f5f',\n",
       "     'arrowhead': 0,\n",
       "     'arrowwidth': 1},\n",
       "    'geo': {'bgcolor': 'white',\n",
       "     'landcolor': '#E5ECF6',\n",
       "     'subunitcolor': 'white',\n",
       "     'showland': True,\n",
       "     'showlakes': True,\n",
       "     'lakecolor': 'white'},\n",
       "    'title': {'x': 0.05},\n",
       "    'mapbox': {'style': 'light'}}},\n",
       "  'xaxis': {'anchor': 'y',\n",
       "   'domain': [0.0, 1.0],\n",
       "   'title': {'text': 'gdpPercap'},\n",
       "   'type': 'log',\n",
       "   'range': [2.0, 5.0]},\n",
       "  'yaxis': {'anchor': 'x',\n",
       "   'domain': [0.0, 1.0],\n",
       "   'title': {'text': 'lifeExp'},\n",
       "   'range': [25, 90]},\n",
       "  'legend': {'title': {'text': 'continent'},\n",
       "   'tracegroupgap': 0,\n",
       "   'itemsizing': 'constant'},\n",
       "  'margin': {'t': 60},\n",
       "  'sliders': [{'active': 0,\n",
       "    'currentvalue': {'prefix': 'year='},\n",
       "    'len': 0.9,\n",
       "    'pad': {'b': 10, 't': 60},\n",
       "    'steps': [{'args': [['1952'],\n",
       "       {'frame': {'duration': 0, 'redraw': False},\n",
       "        'mode': 'immediate',\n",
       "        'fromcurrent': True,\n",
       "        'transition': {'duration': 0, 'easing': 'linear'}}],\n",
       "      'label': '1952',\n",
       "      'method': 'animate'},\n",
       "     {'args': [['1957'],\n",
       "       {'frame': {'duration': 0, 'redraw': False},\n",
       "        'mode': 'immediate',\n",
       "        'fromcurrent': True,\n",
       "        'transition': {'duration': 0, 'easing': 'linear'}}],\n",
       "      'label': '1957',\n",
       "      'method': 'animate'},\n",
       "     {'args': [['1962'],\n",
       "       {'frame': {'duration': 0, 'redraw': False},\n",
       "        'mode': 'immediate',\n",
       "        'fromcurrent': True,\n",
       "        'transition': {'duration': 0, 'easing': 'linear'}}],\n",
       "      'label': '1962',\n",
       "      'method': 'animate'},\n",
       "     {'args': [['1967'],\n",
       "       {'frame': {'duration': 0, 'redraw': False},\n",
       "        'mode': 'immediate',\n",
       "        'fromcurrent': True,\n",
       "        'transition': {'duration': 0, 'easing': 'linear'}}],\n",
       "      'label': '1967',\n",
       "      'method': 'animate'},\n",
       "     {'args': [['1972'],\n",
       "       {'frame': {'duration': 0, 'redraw': False},\n",
       "        'mode': 'immediate',\n",
       "        'fromcurrent': True,\n",
       "        'transition': {'duration': 0, 'easing': 'linear'}}],\n",
       "      'label': '1972',\n",
       "      'method': 'animate'},\n",
       "     {'args': [['1977'],\n",
       "       {'frame': {'duration': 0, 'redraw': False},\n",
       "        'mode': 'immediate',\n",
       "        'fromcurrent': True,\n",
       "        'transition': {'duration': 0, 'easing': 'linear'}}],\n",
       "      'label': '1977',\n",
       "      'method': 'animate'},\n",
       "     {'args': [['1982'],\n",
       "       {'frame': {'duration': 0, 'redraw': False},\n",
       "        'mode': 'immediate',\n",
       "        'fromcurrent': True,\n",
       "        'transition': {'duration': 0, 'easing': 'linear'}}],\n",
       "      'label': '1982',\n",
       "      'method': 'animate'},\n",
       "     {'args': [['1987'],\n",
       "       {'frame': {'duration': 0, 'redraw': False},\n",
       "        'mode': 'immediate',\n",
       "        'fromcurrent': True,\n",
       "        'transition': {'duration': 0, 'easing': 'linear'}}],\n",
       "      'label': '1987',\n",
       "      'method': 'animate'},\n",
       "     {'args': [['1992'],\n",
       "       {'frame': {'duration': 0, 'redraw': False},\n",
       "        'mode': 'immediate',\n",
       "        'fromcurrent': True,\n",
       "        'transition': {'duration': 0, 'easing': 'linear'}}],\n",
       "      'label': '1992',\n",
       "      'method': 'animate'},\n",
       "     {'args': [['1997'],\n",
       "       {'frame': {'duration': 0, 'redraw': False},\n",
       "        'mode': 'immediate',\n",
       "        'fromcurrent': True,\n",
       "        'transition': {'duration': 0, 'easing': 'linear'}}],\n",
       "      'label': '1997',\n",
       "      'method': 'animate'},\n",
       "     {'args': [['2002'],\n",
       "       {'frame': {'duration': 0, 'redraw': False},\n",
       "        'mode': 'immediate',\n",
       "        'fromcurrent': True,\n",
       "        'transition': {'duration': 0, 'easing': 'linear'}}],\n",
       "      'label': '2002',\n",
       "      'method': 'animate'},\n",
       "     {'args': [['2007'],\n",
       "       {'frame': {'duration': 0, 'redraw': False},\n",
       "        'mode': 'immediate',\n",
       "        'fromcurrent': True,\n",
       "        'transition': {'duration': 0, 'easing': 'linear'}}],\n",
       "      'label': '2007',\n",
       "      'method': 'animate'}],\n",
       "    'x': 0.1,\n",
       "    'xanchor': 'left',\n",
       "    'y': 0,\n",
       "    'yanchor': 'top'}]},\n",
       " 'frames': [{'data': [{'hovertemplate': '<b>%{hovertext}</b><br><br>continent=Asia<br>year=1952<br>gdpPercap=%{x}<br>lifeExp=%{y}<br>pop=%{marker.size}<extra></extra>',\n",
       "     'hovertext': array(['Afghanistan', 'Bahrain', 'Bangladesh', 'Cambodia', 'China',\n",
       "            'Hong Kong, China', 'India', 'Indonesia', 'Iran', 'Iraq', 'Israel',\n",
       "            'Japan', 'Jordan', 'Korea, Dem. Rep.', 'Korea, Rep.', 'Kuwait',\n",
       "            'Lebanon', 'Malaysia', 'Mongolia', 'Myanmar', 'Nepal', 'Oman',\n",
       "            'Pakistan', 'Philippines', 'Saudi Arabia', 'Singapore',\n",
       "            'Sri Lanka', 'Syria', 'Taiwan', 'Thailand', 'Vietnam',\n",
       "            'West Bank and Gaza', 'Yemen, Rep.'], dtype=object),\n",
       "     'ids': array(['Afghanistan', 'Bahrain', 'Bangladesh', 'Cambodia', 'China',\n",
       "            'Hong Kong, China', 'India', 'Indonesia', 'Iran', 'Iraq', 'Israel',\n",
       "            'Japan', 'Jordan', 'Korea, Dem. Rep.', 'Korea, Rep.', 'Kuwait',\n",
       "            'Lebanon', 'Malaysia', 'Mongolia', 'Myanmar', 'Nepal', 'Oman',\n",
       "            'Pakistan', 'Philippines', 'Saudi Arabia', 'Singapore',\n",
       "            'Sri Lanka', 'Syria', 'Taiwan', 'Thailand', 'Vietnam',\n",
       "            'West Bank and Gaza', 'Yemen, Rep.'], dtype=object),\n",
       "     'legendgroup': 'Asia',\n",
       "     'marker': {'color': '#636efa',\n",
       "      'size': array([  8425333,    120447,  46886859,   4693836, 556263527,   2125900,\n",
       "             372000000,  82052000,  17272000,   5441766,   1620914,  86459025,\n",
       "                607914,   8865488,  20947571,    160000,   1439529,   6748378,\n",
       "                800663,  20092996,   9182536,    507833,  41346560,  22438691,\n",
       "               4005677,   1127000,   7982342,   3661549,   8550362,  21289402,\n",
       "              26246839,   1030585,   4963829], dtype=int64),\n",
       "      'sizemode': 'area',\n",
       "      'sizeref': 435928.2961983471,\n",
       "      'symbol': 'circle'},\n",
       "     'mode': 'markers',\n",
       "     'name': 'Asia',\n",
       "     'orientation': 'v',\n",
       "     'showlegend': True,\n",
       "     'x': array([   779.4453145,   9867.084765 ,    684.2441716,    368.4692856,\n",
       "               400.448611 ,   3054.421209 ,    546.5657493,    749.6816546,\n",
       "              3035.326002 ,   4129.766056 ,   4086.522128 ,   3216.956347 ,\n",
       "              1546.907807 ,   1088.277758 ,   1030.592226 , 108382.3529   ,\n",
       "              4834.804067 ,   1831.132894 ,    786.5668575,    331.       ,\n",
       "               545.8657229,   1828.230307 ,    684.5971438,   1272.880995 ,\n",
       "              6459.554823 ,   2315.138227 ,   1083.53203  ,   1643.485354 ,\n",
       "              1206.947913 ,    757.7974177,    605.0664917,   1515.592329 ,\n",
       "               781.7175761]),\n",
       "     'xaxis': 'x',\n",
       "     'y': array([28.801, 50.939, 37.484, 39.417, 44.   , 60.96 , 37.373, 37.468,\n",
       "            44.869, 45.32 , 65.39 , 63.03 , 43.158, 50.056, 47.453, 55.565,\n",
       "            55.928, 48.463, 42.244, 36.319, 36.157, 37.578, 43.436, 47.752,\n",
       "            39.875, 60.396, 57.593, 45.883, 58.5  , 50.848, 40.412, 43.16 ,\n",
       "            32.548]),\n",
       "     'yaxis': 'y',\n",
       "     'type': 'scatter'},\n",
       "    {'hovertemplate': '<b>%{hovertext}</b><br><br>continent=Europe<br>year=1952<br>gdpPercap=%{x}<br>lifeExp=%{y}<br>pop=%{marker.size}<extra></extra>',\n",
       "     'hovertext': array(['Albania', 'Austria', 'Belgium', 'Bosnia and Herzegovina',\n",
       "            'Bulgaria', 'Croatia', 'Czech Republic', 'Denmark', 'Finland',\n",
       "            'France', 'Germany', 'Greece', 'Hungary', 'Iceland', 'Ireland',\n",
       "            'Italy', 'Montenegro', 'Netherlands', 'Norway', 'Poland',\n",
       "            'Portugal', 'Romania', 'Serbia', 'Slovak Republic', 'Slovenia',\n",
       "            'Spain', 'Sweden', 'Switzerland', 'Turkey', 'United Kingdom'],\n",
       "           dtype=object),\n",
       "     'ids': array(['Albania', 'Austria', 'Belgium', 'Bosnia and Herzegovina',\n",
       "            'Bulgaria', 'Croatia', 'Czech Republic', 'Denmark', 'Finland',\n",
       "            'France', 'Germany', 'Greece', 'Hungary', 'Iceland', 'Ireland',\n",
       "            'Italy', 'Montenegro', 'Netherlands', 'Norway', 'Poland',\n",
       "            'Portugal', 'Romania', 'Serbia', 'Slovak Republic', 'Slovenia',\n",
       "            'Spain', 'Sweden', 'Switzerland', 'Turkey', 'United Kingdom'],\n",
       "           dtype=object),\n",
       "     'legendgroup': 'Europe',\n",
       "     'marker': {'color': '#EF553B',\n",
       "      'size': array([ 1282697,  6927772,  8730405,  2791000,  7274900,  3882229,\n",
       "              9125183,  4334000,  4090500, 42459667, 69145952,  7733250,\n",
       "              9504000,   147962,  2952156, 47666000,   413834, 10381988,\n",
       "              3327728, 25730551,  8526050, 16630000,  6860147,  3558137,\n",
       "              1489518, 28549870,  7124673,  4815000, 22235677, 50430000],\n",
       "            dtype=int64),\n",
       "      'sizemode': 'area',\n",
       "      'sizeref': 435928.2961983471,\n",
       "      'symbol': 'circle'},\n",
       "     'mode': 'markers',\n",
       "     'name': 'Europe',\n",
       "     'orientation': 'v',\n",
       "     'showlegend': True,\n",
       "     'x': array([ 1601.056136 ,  6137.076492 ,  8343.105127 ,   973.5331948,\n",
       "             2444.286648 ,  3119.23652  ,  6876.14025  ,  9692.385245 ,\n",
       "             6424.519071 ,  7029.809327 ,  7144.114393 ,  3530.690067 ,\n",
       "             5263.673816 ,  7267.688428 ,  5210.280328 ,  4931.404155 ,\n",
       "             2647.585601 ,  8941.571858 , 10095.42172  ,  4029.329699 ,\n",
       "             3068.319867 ,  3144.613186 ,  3581.459448 ,  5074.659104 ,\n",
       "             4215.041741 ,  3834.034742 ,  8527.844662 , 14734.23275  ,\n",
       "             1969.10098  ,  9979.508487 ]),\n",
       "     'xaxis': 'x',\n",
       "     'y': array([55.23 , 66.8  , 68.   , 53.82 , 59.6  , 61.21 , 66.87 , 70.78 ,\n",
       "            66.55 , 67.41 , 67.5  , 65.86 , 64.03 , 72.49 , 66.91 , 65.94 ,\n",
       "            59.164, 72.13 , 72.67 , 61.31 , 59.82 , 61.05 , 57.996, 64.36 ,\n",
       "            65.57 , 64.94 , 71.86 , 69.62 , 43.585, 69.18 ]),\n",
       "     'yaxis': 'y',\n",
       "     'type': 'scatter'},\n",
       "    {'hovertemplate': '<b>%{hovertext}</b><br><br>continent=Africa<br>year=1952<br>gdpPercap=%{x}<br>lifeExp=%{y}<br>pop=%{marker.size}<extra></extra>',\n",
       "     'hovertext': array(['Algeria', 'Angola', 'Benin', 'Botswana', 'Burkina Faso',\n",
       "            'Burundi', 'Cameroon', 'Central African Republic', 'Chad',\n",
       "            'Comoros', 'Congo, Dem. Rep.', 'Congo, Rep.', \"Cote d'Ivoire\",\n",
       "            'Djibouti', 'Egypt', 'Equatorial Guinea', 'Eritrea', 'Ethiopia',\n",
       "            'Gabon', 'Gambia', 'Ghana', 'Guinea', 'Guinea-Bissau', 'Kenya',\n",
       "            'Lesotho', 'Liberia', 'Libya', 'Madagascar', 'Malawi', 'Mali',\n",
       "            'Mauritania', 'Mauritius', 'Morocco', 'Mozambique', 'Namibia',\n",
       "            'Niger', 'Nigeria', 'Reunion', 'Rwanda', 'Sao Tome and Principe',\n",
       "            'Senegal', 'Sierra Leone', 'Somalia', 'South Africa', 'Sudan',\n",
       "            'Swaziland', 'Tanzania', 'Togo', 'Tunisia', 'Uganda', 'Zambia',\n",
       "            'Zimbabwe'], dtype=object),\n",
       "     'ids': array(['Algeria', 'Angola', 'Benin', 'Botswana', 'Burkina Faso',\n",
       "            'Burundi', 'Cameroon', 'Central African Republic', 'Chad',\n",
       "            'Comoros', 'Congo, Dem. Rep.', 'Congo, Rep.', \"Cote d'Ivoire\",\n",
       "            'Djibouti', 'Egypt', 'Equatorial Guinea', 'Eritrea', 'Ethiopia',\n",
       "            'Gabon', 'Gambia', 'Ghana', 'Guinea', 'Guinea-Bissau', 'Kenya',\n",
       "            'Lesotho', 'Liberia', 'Libya', 'Madagascar', 'Malawi', 'Mali',\n",
       "            'Mauritania', 'Mauritius', 'Morocco', 'Mozambique', 'Namibia',\n",
       "            'Niger', 'Nigeria', 'Reunion', 'Rwanda', 'Sao Tome and Principe',\n",
       "            'Senegal', 'Sierra Leone', 'Somalia', 'South Africa', 'Sudan',\n",
       "            'Swaziland', 'Tanzania', 'Togo', 'Tunisia', 'Uganda', 'Zambia',\n",
       "            'Zimbabwe'], dtype=object),\n",
       "     'legendgroup': 'Africa',\n",
       "     'marker': {'color': '#00cc96',\n",
       "      'size': array([ 9279525,  4232095,  1738315,   442308,  4469979,  2445618,\n",
       "              5009067,  1291695,  2682462,   153936, 14100005,   854885,\n",
       "              2977019,    63149, 22223309,   216964,  1438760, 20860941,\n",
       "               420702,   284320,  5581001,  2664249,   580653,  6464046,\n",
       "               748747,   863308,  1019729,  4762912,  2917802,  3838168,\n",
       "              1022556,   516556,  9939217,  6446316,   485831,  3379468,\n",
       "             33119096,   257700,  2534927,    60011,  2755589,  2143249,\n",
       "              2526994, 14264935,  8504667,   290243,  8322925,  1219113,\n",
       "              3647735,  5824797,  2672000,  3080907], dtype=int64),\n",
       "      'sizemode': 'area',\n",
       "      'sizeref': 435928.2961983471,\n",
       "      'symbol': 'circle'},\n",
       "     'mode': 'markers',\n",
       "     'name': 'Africa',\n",
       "     'orientation': 'v',\n",
       "     'showlegend': True,\n",
       "     'x': array([2449.008185 , 3520.610273 , 1062.7522   ,  851.2411407,\n",
       "             543.2552413,  339.2964587, 1172.667655 , 1071.310713 ,\n",
       "            1178.665927 , 1102.990936 ,  780.5423257, 2125.621418 ,\n",
       "            1388.594732 , 2669.529475 , 1418.822445 ,  375.6431231,\n",
       "             328.9405571,  362.1462796, 4293.476475 ,  485.2306591,\n",
       "             911.2989371,  510.1964923,  299.850319 ,  853.540919 ,\n",
       "             298.8462121,  575.5729961, 2387.54806  , 1443.011715 ,\n",
       "             369.1650802,  452.3369807,  743.1159097, 1967.955707 ,\n",
       "            1688.20357  ,  468.5260381, 2423.780443 ,  761.879376 ,\n",
       "            1077.281856 , 2718.885295 ,  493.3238752,  879.5835855,\n",
       "            1450.356983 ,  879.7877358, 1135.749842 , 4725.295531 ,\n",
       "            1615.991129 , 1148.376626 ,  716.6500721,  859.8086567,\n",
       "            1468.475631 ,  734.753484 , 1147.388831 ,  406.8841148]),\n",
       "     'xaxis': 'x',\n",
       "     'y': array([43.077, 30.015, 38.223, 47.622, 31.975, 39.031, 38.523, 35.463,\n",
       "            38.092, 40.715, 39.143, 42.111, 40.477, 34.812, 41.893, 34.482,\n",
       "            35.928, 34.078, 37.003, 30.   , 43.149, 33.609, 32.5  , 42.27 ,\n",
       "            42.138, 38.48 , 42.723, 36.681, 36.256, 33.685, 40.543, 50.986,\n",
       "            42.873, 31.286, 41.725, 37.444, 36.324, 52.724, 40.   , 46.471,\n",
       "            37.278, 30.331, 32.978, 45.009, 38.635, 41.407, 41.215, 38.596,\n",
       "            44.6  , 39.978, 42.038, 48.451]),\n",
       "     'yaxis': 'y',\n",
       "     'type': 'scatter'},\n",
       "    {'hovertemplate': '<b>%{hovertext}</b><br><br>continent=Americas<br>year=1952<br>gdpPercap=%{x}<br>lifeExp=%{y}<br>pop=%{marker.size}<extra></extra>',\n",
       "     'hovertext': array(['Argentina', 'Bolivia', 'Brazil', 'Canada', 'Chile', 'Colombia',\n",
       "            'Costa Rica', 'Cuba', 'Dominican Republic', 'Ecuador',\n",
       "            'El Salvador', 'Guatemala', 'Haiti', 'Honduras', 'Jamaica',\n",
       "            'Mexico', 'Nicaragua', 'Panama', 'Paraguay', 'Peru', 'Puerto Rico',\n",
       "            'Trinidad and Tobago', 'United States', 'Uruguay', 'Venezuela'],\n",
       "           dtype=object),\n",
       "     'ids': array(['Argentina', 'Bolivia', 'Brazil', 'Canada', 'Chile', 'Colombia',\n",
       "            'Costa Rica', 'Cuba', 'Dominican Republic', 'Ecuador',\n",
       "            'El Salvador', 'Guatemala', 'Haiti', 'Honduras', 'Jamaica',\n",
       "            'Mexico', 'Nicaragua', 'Panama', 'Paraguay', 'Peru', 'Puerto Rico',\n",
       "            'Trinidad and Tobago', 'United States', 'Uruguay', 'Venezuela'],\n",
       "           dtype=object),\n",
       "     'legendgroup': 'Americas',\n",
       "     'marker': {'color': '#ab63fa',\n",
       "      'size': array([ 17876956,   2883315,  56602560,  14785584,   6377619,  12350771,\n",
       "                926317,   6007797,   2491346,   3548753,   2042865,   3146381,\n",
       "               3201488,   1517453,   1426095,  30144317,   1165790,    940080,\n",
       "               1555876,   8025700,   2227000,    662850, 157553000,   2252965,\n",
       "               5439568], dtype=int64),\n",
       "      'sizemode': 'area',\n",
       "      'sizeref': 435928.2961983471,\n",
       "      'symbol': 'circle'},\n",
       "     'mode': 'markers',\n",
       "     'name': 'Americas',\n",
       "     'orientation': 'v',\n",
       "     'showlegend': True,\n",
       "     'x': array([ 5911.315053,  2677.326347,  2108.944355, 11367.16112 ,\n",
       "             3939.978789,  2144.115096,  2627.009471,  5586.53878 ,\n",
       "             1397.717137,  3522.110717,  3048.3029  ,  2428.237769,\n",
       "             1840.366939,  2194.926204,  2898.530881,  3478.125529,\n",
       "             3112.363948,  2480.380334,  1952.308701,  3758.523437,\n",
       "             3081.959785,  3023.271928, 13990.48208 ,  5716.766744,\n",
       "             7689.799761]),\n",
       "     'xaxis': 'x',\n",
       "     'y': array([62.485, 40.414, 50.917, 68.75 , 54.745, 50.643, 57.206, 59.421,\n",
       "            45.928, 48.357, 45.262, 42.023, 37.579, 41.912, 58.53 , 50.789,\n",
       "            42.314, 55.191, 62.649, 43.902, 64.28 , 59.1  , 68.44 , 66.071,\n",
       "            55.088]),\n",
       "     'yaxis': 'y',\n",
       "     'type': 'scatter'},\n",
       "    {'hovertemplate': '<b>%{hovertext}</b><br><br>continent=Oceania<br>year=1952<br>gdpPercap=%{x}<br>lifeExp=%{y}<br>pop=%{marker.size}<extra></extra>',\n",
       "     'hovertext': array(['Australia', 'New Zealand'], dtype=object),\n",
       "     'ids': array(['Australia', 'New Zealand'], dtype=object),\n",
       "     'legendgroup': 'Oceania',\n",
       "     'marker': {'color': '#FFA15A',\n",
       "      'size': array([8691212, 1994794], dtype=int64),\n",
       "      'sizemode': 'area',\n",
       "      'sizeref': 435928.2961983471,\n",
       "      'symbol': 'circle'},\n",
       "     'mode': 'markers',\n",
       "     'name': 'Oceania',\n",
       "     'orientation': 'v',\n",
       "     'showlegend': True,\n",
       "     'x': array([10039.59564, 10556.57566]),\n",
       "     'xaxis': 'x',\n",
       "     'y': array([69.12, 69.39]),\n",
       "     'yaxis': 'y',\n",
       "     'type': 'scatter'}],\n",
       "   'name': '1952'},\n",
       "  {'data': [{'hovertemplate': '<b>%{hovertext}</b><br><br>continent=Asia<br>year=1957<br>gdpPercap=%{x}<br>lifeExp=%{y}<br>pop=%{marker.size}<extra></extra>',\n",
       "     'hovertext': array(['Afghanistan', 'Bahrain', 'Bangladesh', 'Cambodia', 'China',\n",
       "            'Hong Kong, China', 'India', 'Indonesia', 'Iran', 'Iraq', 'Israel',\n",
       "            'Japan', 'Jordan', 'Korea, Dem. Rep.', 'Korea, Rep.', 'Kuwait',\n",
       "            'Lebanon', 'Malaysia', 'Mongolia', 'Myanmar', 'Nepal', 'Oman',\n",
       "            'Pakistan', 'Philippines', 'Saudi Arabia', 'Singapore',\n",
       "            'Sri Lanka', 'Syria', 'Taiwan', 'Thailand', 'Vietnam',\n",
       "            'West Bank and Gaza', 'Yemen, Rep.'], dtype=object),\n",
       "     'ids': array(['Afghanistan', 'Bahrain', 'Bangladesh', 'Cambodia', 'China',\n",
       "            'Hong Kong, China', 'India', 'Indonesia', 'Iran', 'Iraq', 'Israel',\n",
       "            'Japan', 'Jordan', 'Korea, Dem. Rep.', 'Korea, Rep.', 'Kuwait',\n",
       "            'Lebanon', 'Malaysia', 'Mongolia', 'Myanmar', 'Nepal', 'Oman',\n",
       "            'Pakistan', 'Philippines', 'Saudi Arabia', 'Singapore',\n",
       "            'Sri Lanka', 'Syria', 'Taiwan', 'Thailand', 'Vietnam',\n",
       "            'West Bank and Gaza', 'Yemen, Rep.'], dtype=object),\n",
       "     'legendgroup': 'Asia',\n",
       "     'marker': {'color': '#636efa',\n",
       "      'size': array([  9240934,    138655,  51365468,   5322536, 637408000,   2736300,\n",
       "             409000000,  90124000,  19792000,   6248643,   1944401,  91563009,\n",
       "                746559,   9411381,  22611552,    212846,   1647412,   7739235,\n",
       "                882134,  21731844,   9682338,    561977,  46679944,  26072194,\n",
       "               4419650,   1445929,   9128546,   4149908,  10164215,  25041917,\n",
       "              28998543,   1070439,   5498090], dtype=int64),\n",
       "      'sizemode': 'area',\n",
       "      'sizeref': 435928.2961983471,\n",
       "      'symbol': 'circle'},\n",
       "     'mode': 'markers',\n",
       "     'name': 'Asia',\n",
       "     'orientation': 'v',\n",
       "     'showlegend': True,\n",
       "     'x': array([   820.8530296,  11635.79945  ,    661.6374577,    434.0383364,\n",
       "               575.9870009,   3629.076457 ,    590.061996 ,    858.9002707,\n",
       "              3290.257643 ,   6229.333562 ,   5385.278451 ,   4317.694365 ,\n",
       "              1886.080591 ,   1571.134655 ,   1487.593537 , 113523.1329   ,\n",
       "              6089.786934 ,   1810.066992 ,    912.6626085,    350.       ,\n",
       "               597.9363558,   2242.746551 ,    747.0835292,   1547.944844 ,\n",
       "              8157.591248 ,   2843.104409 ,   1072.546602 ,   2117.234893 ,\n",
       "              1507.86129  ,    793.5774148,    676.2854478,   1827.067742 ,\n",
       "               804.8304547]),\n",
       "     'xaxis': 'x',\n",
       "     'y': array([30.332  , 53.832  , 39.348  , 41.366  , 50.54896, 64.75   ,\n",
       "            40.249  , 39.918  , 47.181  , 48.437  , 67.84   , 65.5    ,\n",
       "            45.669  , 54.081  , 52.681  , 58.033  , 59.489  , 52.102  ,\n",
       "            45.248  , 41.905  , 37.686  , 40.08   , 45.557  , 51.334  ,\n",
       "            42.868  , 63.179  , 61.456  , 48.284  , 62.4    , 53.63   ,\n",
       "            42.887  , 45.671  , 33.97   ]),\n",
       "     'yaxis': 'y',\n",
       "     'type': 'scatter'},\n",
       "    {'hovertemplate': '<b>%{hovertext}</b><br><br>continent=Europe<br>year=1957<br>gdpPercap=%{x}<br>lifeExp=%{y}<br>pop=%{marker.size}<extra></extra>',\n",
       "     'hovertext': array(['Albania', 'Austria', 'Belgium', 'Bosnia and Herzegovina',\n",
       "            'Bulgaria', 'Croatia', 'Czech Republic', 'Denmark', 'Finland',\n",
       "            'France', 'Germany', 'Greece', 'Hungary', 'Iceland', 'Ireland',\n",
       "            'Italy', 'Montenegro', 'Netherlands', 'Norway', 'Poland',\n",
       "            'Portugal', 'Romania', 'Serbia', 'Slovak Republic', 'Slovenia',\n",
       "            'Spain', 'Sweden', 'Switzerland', 'Turkey', 'United Kingdom'],\n",
       "           dtype=object),\n",
       "     'ids': array(['Albania', 'Austria', 'Belgium', 'Bosnia and Herzegovina',\n",
       "            'Bulgaria', 'Croatia', 'Czech Republic', 'Denmark', 'Finland',\n",
       "            'France', 'Germany', 'Greece', 'Hungary', 'Iceland', 'Ireland',\n",
       "            'Italy', 'Montenegro', 'Netherlands', 'Norway', 'Poland',\n",
       "            'Portugal', 'Romania', 'Serbia', 'Slovak Republic', 'Slovenia',\n",
       "            'Spain', 'Sweden', 'Switzerland', 'Turkey', 'United Kingdom'],\n",
       "           dtype=object),\n",
       "     'legendgroup': 'Europe',\n",
       "     'marker': {'color': '#EF553B',\n",
       "      'size': array([ 1476505,  6965860,  8989111,  3076000,  7651254,  3991242,\n",
       "              9513758,  4487831,  4324000, 44310863, 71019069,  8096218,\n",
       "              9839000,   165110,  2878220, 49182000,   442829, 11026383,\n",
       "              3491938, 28235346,  8817650, 17829327,  7271135,  3844277,\n",
       "              1533070, 29841614,  7363802,  5126000, 25670939, 51430000],\n",
       "            dtype=int64),\n",
       "      'sizemode': 'area',\n",
       "      'sizeref': 435928.2961983471,\n",
       "      'symbol': 'circle'},\n",
       "     'mode': 'markers',\n",
       "     'name': 'Europe',\n",
       "     'orientation': 'v',\n",
       "     'showlegend': True,\n",
       "     'x': array([ 1942.284244,  8842.59803 ,  9714.960623,  1353.989176,\n",
       "             3008.670727,  4338.231617,  8256.343918, 11099.65935 ,\n",
       "             7545.415386,  8662.834898, 10187.82665 ,  4916.299889,\n",
       "             6040.180011,  9244.001412,  5599.077872,  6248.656232,\n",
       "             3682.259903, 11276.19344 , 11653.97304 ,  4734.253019,\n",
       "             3774.571743,  3943.370225,  4981.090891,  6093.26298 ,\n",
       "             5862.276629,  4564.80241 ,  9911.878226, 17909.48973 ,\n",
       "             2218.754257, 11283.17795 ]),\n",
       "     'xaxis': 'x',\n",
       "     'y': array([59.28 , 67.48 , 69.24 , 58.45 , 66.61 , 64.77 , 69.03 , 71.81 ,\n",
       "            67.49 , 68.93 , 69.1  , 67.86 , 66.41 , 73.47 , 68.9  , 67.81 ,\n",
       "            61.448, 72.99 , 73.44 , 65.77 , 61.51 , 64.1  , 61.685, 67.45 ,\n",
       "            67.85 , 66.66 , 72.49 , 70.56 , 48.079, 70.42 ]),\n",
       "     'yaxis': 'y',\n",
       "     'type': 'scatter'},\n",
       "    {'hovertemplate': '<b>%{hovertext}</b><br><br>continent=Africa<br>year=1957<br>gdpPercap=%{x}<br>lifeExp=%{y}<br>pop=%{marker.size}<extra></extra>',\n",
       "     'hovertext': array(['Algeria', 'Angola', 'Benin', 'Botswana', 'Burkina Faso',\n",
       "            'Burundi', 'Cameroon', 'Central African Republic', 'Chad',\n",
       "            'Comoros', 'Congo, Dem. Rep.', 'Congo, Rep.', \"Cote d'Ivoire\",\n",
       "            'Djibouti', 'Egypt', 'Equatorial Guinea', 'Eritrea', 'Ethiopia',\n",
       "            'Gabon', 'Gambia', 'Ghana', 'Guinea', 'Guinea-Bissau', 'Kenya',\n",
       "            'Lesotho', 'Liberia', 'Libya', 'Madagascar', 'Malawi', 'Mali',\n",
       "            'Mauritania', 'Mauritius', 'Morocco', 'Mozambique', 'Namibia',\n",
       "            'Niger', 'Nigeria', 'Reunion', 'Rwanda', 'Sao Tome and Principe',\n",
       "            'Senegal', 'Sierra Leone', 'Somalia', 'South Africa', 'Sudan',\n",
       "            'Swaziland', 'Tanzania', 'Togo', 'Tunisia', 'Uganda', 'Zambia',\n",
       "            'Zimbabwe'], dtype=object),\n",
       "     'ids': array(['Algeria', 'Angola', 'Benin', 'Botswana', 'Burkina Faso',\n",
       "            'Burundi', 'Cameroon', 'Central African Republic', 'Chad',\n",
       "            'Comoros', 'Congo, Dem. Rep.', 'Congo, Rep.', \"Cote d'Ivoire\",\n",
       "            'Djibouti', 'Egypt', 'Equatorial Guinea', 'Eritrea', 'Ethiopia',\n",
       "            'Gabon', 'Gambia', 'Ghana', 'Guinea', 'Guinea-Bissau', 'Kenya',\n",
       "            'Lesotho', 'Liberia', 'Libya', 'Madagascar', 'Malawi', 'Mali',\n",
       "            'Mauritania', 'Mauritius', 'Morocco', 'Mozambique', 'Namibia',\n",
       "            'Niger', 'Nigeria', 'Reunion', 'Rwanda', 'Sao Tome and Principe',\n",
       "            'Senegal', 'Sierra Leone', 'Somalia', 'South Africa', 'Sudan',\n",
       "            'Swaziland', 'Tanzania', 'Togo', 'Tunisia', 'Uganda', 'Zambia',\n",
       "            'Zimbabwe'], dtype=object),\n",
       "     'legendgroup': 'Africa',\n",
       "     'marker': {'color': '#00cc96',\n",
       "      'size': array([10270856,  4561361,  1925173,   474639,  4713416,  2667518,\n",
       "              5359923,  1392284,  2894855,   170928, 15577932,   940458,\n",
       "              3300000,    71851, 25009741,   232922,  1542611, 22815614,\n",
       "               434904,   323150,  6391288,  2876726,   601095,  7454779,\n",
       "               813338,   975950,  1201578,  5181679,  3221238,  4241884,\n",
       "              1076852,   609816, 11406350,  7038035,   548080,  3692184,\n",
       "             37173340,   308700,  2822082,    61325,  3054547,  2295678,\n",
       "              2780415, 16151549,  9753392,   326741,  9452826,  1357445,\n",
       "              3950849,  6675501,  3016000,  3646340], dtype=int64),\n",
       "      'sizemode': 'area',\n",
       "      'sizeref': 435928.2961983471,\n",
       "      'symbol': 'circle'},\n",
       "     'mode': 'markers',\n",
       "     'name': 'Africa',\n",
       "     'orientation': 'v',\n",
       "     'showlegend': True,\n",
       "     'x': array([3013.976023 , 3827.940465 ,  959.6010805,  918.2325349,\n",
       "             617.1834648,  379.5646281, 1313.048099 , 1190.844328 ,\n",
       "            1308.495577 , 1211.148548 ,  905.8602303, 2315.056572 ,\n",
       "            1500.895925 , 2864.969076 , 1458.915272 ,  426.0964081,\n",
       "             344.1618859,  378.9041632, 4976.198099 ,  520.9267111,\n",
       "            1043.561537 ,  576.2670245,  431.7904566,  944.4383152,\n",
       "             335.9971151,  620.9699901, 3448.284395 , 1589.20275  ,\n",
       "             416.3698064,  490.3821867,  846.1202613, 2034.037981 ,\n",
       "            1642.002314 ,  495.5868333, 2621.448058 ,  835.5234025,\n",
       "            1100.592563 , 2769.451844 ,  540.2893983,  860.7369026,\n",
       "            1567.653006 , 1004.484437 , 1258.147413 , 5487.104219 ,\n",
       "            1770.337074 , 1244.708364 ,  698.5356073,  925.9083202,\n",
       "            1395.232468 ,  774.3710692, 1311.956766 ,  518.7642681]),\n",
       "     'xaxis': 'x',\n",
       "     'y': array([45.685, 31.999, 40.358, 49.618, 34.906, 40.533, 40.428, 37.464,\n",
       "            39.881, 42.46 , 40.652, 45.053, 42.469, 37.328, 44.444, 35.983,\n",
       "            38.047, 36.667, 38.999, 32.065, 44.779, 34.558, 33.489, 44.686,\n",
       "            45.047, 39.486, 45.289, 38.865, 37.207, 35.307, 42.338, 58.089,\n",
       "            45.423, 33.779, 45.226, 38.598, 37.802, 55.09 , 41.5  , 48.945,\n",
       "            39.329, 31.57 , 34.977, 47.985, 39.624, 43.424, 42.974, 41.208,\n",
       "            47.1  , 42.571, 44.077, 50.469]),\n",
       "     'yaxis': 'y',\n",
       "     'type': 'scatter'},\n",
       "    {'hovertemplate': '<b>%{hovertext}</b><br><br>continent=Americas<br>year=1957<br>gdpPercap=%{x}<br>lifeExp=%{y}<br>pop=%{marker.size}<extra></extra>',\n",
       "     'hovertext': array(['Argentina', 'Bolivia', 'Brazil', 'Canada', 'Chile', 'Colombia',\n",
       "            'Costa Rica', 'Cuba', 'Dominican Republic', 'Ecuador',\n",
       "            'El Salvador', 'Guatemala', 'Haiti', 'Honduras', 'Jamaica',\n",
       "            'Mexico', 'Nicaragua', 'Panama', 'Paraguay', 'Peru', 'Puerto Rico',\n",
       "            'Trinidad and Tobago', 'United States', 'Uruguay', 'Venezuela'],\n",
       "           dtype=object),\n",
       "     'ids': array(['Argentina', 'Bolivia', 'Brazil', 'Canada', 'Chile', 'Colombia',\n",
       "            'Costa Rica', 'Cuba', 'Dominican Republic', 'Ecuador',\n",
       "            'El Salvador', 'Guatemala', 'Haiti', 'Honduras', 'Jamaica',\n",
       "            'Mexico', 'Nicaragua', 'Panama', 'Paraguay', 'Peru', 'Puerto Rico',\n",
       "            'Trinidad and Tobago', 'United States', 'Uruguay', 'Venezuela'],\n",
       "           dtype=object),\n",
       "     'legendgroup': 'Americas',\n",
       "     'marker': {'color': '#ab63fa',\n",
       "      'size': array([ 19610538,   3211738,  65551171,  17010154,   7048426,  14485993,\n",
       "               1112300,   6640752,   2923186,   4058385,   2355805,   3640876,\n",
       "               3507701,   1770390,   1535090,  35015548,   1358828,   1063506,\n",
       "               1770902,   9146100,   2260000,    764900, 171984000,   2424959,\n",
       "               6702668], dtype=int64),\n",
       "      'sizemode': 'area',\n",
       "      'sizeref': 435928.2961983471,\n",
       "      'symbol': 'circle'},\n",
       "     'mode': 'markers',\n",
       "     'name': 'Americas',\n",
       "     'orientation': 'v',\n",
       "     'showlegend': True,\n",
       "     'x': array([ 6856.856212,  2127.686326,  2487.365989, 12489.95006 ,\n",
       "             4315.622723,  2323.805581,  2990.010802,  6092.174359,\n",
       "             1544.402995,  3780.546651,  3421.523218,  2617.155967,\n",
       "             1726.887882,  2220.487682,  4756.525781,  4131.546641,\n",
       "             3457.415947,  2961.800905,  2046.154706,  4245.256698,\n",
       "             3907.156189,  4100.3934  , 14847.12712 ,  6150.772969,\n",
       "             9802.466526]),\n",
       "     'xaxis': 'x',\n",
       "     'y': array([64.399, 41.89 , 53.285, 69.96 , 56.074, 55.118, 60.026, 62.325,\n",
       "            49.828, 51.356, 48.57 , 44.142, 40.696, 44.665, 62.61 , 55.19 ,\n",
       "            45.432, 59.201, 63.196, 46.263, 68.54 , 61.8  , 69.49 , 67.044,\n",
       "            57.907]),\n",
       "     'yaxis': 'y',\n",
       "     'type': 'scatter'},\n",
       "    {'hovertemplate': '<b>%{hovertext}</b><br><br>continent=Oceania<br>year=1957<br>gdpPercap=%{x}<br>lifeExp=%{y}<br>pop=%{marker.size}<extra></extra>',\n",
       "     'hovertext': array(['Australia', 'New Zealand'], dtype=object),\n",
       "     'ids': array(['Australia', 'New Zealand'], dtype=object),\n",
       "     'legendgroup': 'Oceania',\n",
       "     'marker': {'color': '#FFA15A',\n",
       "      'size': array([9712569, 2229407], dtype=int64),\n",
       "      'sizemode': 'area',\n",
       "      'sizeref': 435928.2961983471,\n",
       "      'symbol': 'circle'},\n",
       "     'mode': 'markers',\n",
       "     'name': 'Oceania',\n",
       "     'orientation': 'v',\n",
       "     'showlegend': True,\n",
       "     'x': array([10949.64959, 12247.39532]),\n",
       "     'xaxis': 'x',\n",
       "     'y': array([70.33, 70.26]),\n",
       "     'yaxis': 'y',\n",
       "     'type': 'scatter'}],\n",
       "   'name': '1957'},\n",
       "  {'data': [{'hovertemplate': '<b>%{hovertext}</b><br><br>continent=Asia<br>year=1962<br>gdpPercap=%{x}<br>lifeExp=%{y}<br>pop=%{marker.size}<extra></extra>',\n",
       "     'hovertext': array(['Afghanistan', 'Bahrain', 'Bangladesh', 'Cambodia', 'China',\n",
       "            'Hong Kong, China', 'India', 'Indonesia', 'Iran', 'Iraq', 'Israel',\n",
       "            'Japan', 'Jordan', 'Korea, Dem. Rep.', 'Korea, Rep.', 'Kuwait',\n",
       "            'Lebanon', 'Malaysia', 'Mongolia', 'Myanmar', 'Nepal', 'Oman',\n",
       "            'Pakistan', 'Philippines', 'Saudi Arabia', 'Singapore',\n",
       "            'Sri Lanka', 'Syria', 'Taiwan', 'Thailand', 'Vietnam',\n",
       "            'West Bank and Gaza', 'Yemen, Rep.'], dtype=object),\n",
       "     'ids': array(['Afghanistan', 'Bahrain', 'Bangladesh', 'Cambodia', 'China',\n",
       "            'Hong Kong, China', 'India', 'Indonesia', 'Iran', 'Iraq', 'Israel',\n",
       "            'Japan', 'Jordan', 'Korea, Dem. Rep.', 'Korea, Rep.', 'Kuwait',\n",
       "            'Lebanon', 'Malaysia', 'Mongolia', 'Myanmar', 'Nepal', 'Oman',\n",
       "            'Pakistan', 'Philippines', 'Saudi Arabia', 'Singapore',\n",
       "            'Sri Lanka', 'Syria', 'Taiwan', 'Thailand', 'Vietnam',\n",
       "            'West Bank and Gaza', 'Yemen, Rep.'], dtype=object),\n",
       "     'legendgroup': 'Asia',\n",
       "     'marker': {'color': '#636efa',\n",
       "      'size': array([ 10267083,    171863,  56839289,   6083619, 665770000,   3305200,\n",
       "             454000000,  99028000,  22874000,   7240260,   2310904,  95831757,\n",
       "                933559,  10917494,  26420307,    358266,   1886848,   8906385,\n",
       "               1010280,  23634436,  10332057,    628164,  53100671,  30325264,\n",
       "               4943029,   1750200,  10421936,   4834621,  11918938,  29263397,\n",
       "              33796140,   1133134,   6120081], dtype=int64),\n",
       "      'sizemode': 'area',\n",
       "      'sizeref': 435928.2961983471,\n",
       "      'symbol': 'circle'},\n",
       "     'mode': 'markers',\n",
       "     'name': 'Asia',\n",
       "     'orientation': 'v',\n",
       "     'showlegend': True,\n",
       "     'x': array([  853.10071  , 12753.27514  ,   686.3415538,   496.9136476,\n",
       "              487.6740183,  4692.648272 ,   658.3471509,   849.2897701,\n",
       "             4187.329802 ,  8341.737815 ,  7105.630706 ,  6576.649461 ,\n",
       "             2348.009158 ,  1621.693598 ,  1536.344387 , 95458.11176  ,\n",
       "             5714.560611 ,  2036.884944 ,  1056.353958 ,   388.       ,\n",
       "              652.3968593,  2924.638113 ,   803.3427418,  1649.552153 ,\n",
       "            11626.41975  ,  3674.735572 ,  1074.47196  ,  2193.037133 ,\n",
       "             1822.879028 ,  1002.199172 ,   772.0491602,  2198.956312 ,\n",
       "              825.6232006]),\n",
       "     'xaxis': 'x',\n",
       "     'y': array([31.997  , 56.923  , 41.216  , 43.415  , 44.50136, 67.65   ,\n",
       "            43.605  , 42.518  , 49.325  , 51.457  , 69.39   , 68.73   ,\n",
       "            48.126  , 56.656  , 55.292  , 60.47   , 62.094  , 55.737  ,\n",
       "            48.251  , 45.108  , 39.393  , 43.165  , 47.67   , 54.757  ,\n",
       "            45.914  , 65.798  , 62.192  , 50.305  , 65.2    , 56.061  ,\n",
       "            45.363  , 48.127  , 35.18   ]),\n",
       "     'yaxis': 'y',\n",
       "     'type': 'scatter'},\n",
       "    {'hovertemplate': '<b>%{hovertext}</b><br><br>continent=Europe<br>year=1962<br>gdpPercap=%{x}<br>lifeExp=%{y}<br>pop=%{marker.size}<extra></extra>',\n",
       "     'hovertext': array(['Albania', 'Austria', 'Belgium', 'Bosnia and Herzegovina',\n",
       "            'Bulgaria', 'Croatia', 'Czech Republic', 'Denmark', 'Finland',\n",
       "            'France', 'Germany', 'Greece', 'Hungary', 'Iceland', 'Ireland',\n",
       "            'Italy', 'Montenegro', 'Netherlands', 'Norway', 'Poland',\n",
       "            'Portugal', 'Romania', 'Serbia', 'Slovak Republic', 'Slovenia',\n",
       "            'Spain', 'Sweden', 'Switzerland', 'Turkey', 'United Kingdom'],\n",
       "           dtype=object),\n",
       "     'ids': array(['Albania', 'Austria', 'Belgium', 'Bosnia and Herzegovina',\n",
       "            'Bulgaria', 'Croatia', 'Czech Republic', 'Denmark', 'Finland',\n",
       "            'France', 'Germany', 'Greece', 'Hungary', 'Iceland', 'Ireland',\n",
       "            'Italy', 'Montenegro', 'Netherlands', 'Norway', 'Poland',\n",
       "            'Portugal', 'Romania', 'Serbia', 'Slovak Republic', 'Slovenia',\n",
       "            'Spain', 'Sweden', 'Switzerland', 'Turkey', 'United Kingdom'],\n",
       "           dtype=object),\n",
       "     'legendgroup': 'Europe',\n",
       "     'marker': {'color': '#EF553B',\n",
       "      'size': array([ 1728137,  7129864,  9218400,  3349000,  8012946,  4076557,\n",
       "              9620282,  4646899,  4491443, 47124000, 73739117,  8448233,\n",
       "             10063000,   182053,  2830000, 50843200,   474528, 11805689,\n",
       "              3638919, 30329617,  9019800, 18680721,  7616060,  4237384,\n",
       "              1582962, 31158061,  7561588,  5666000, 29788695, 53292000],\n",
       "            dtype=int64),\n",
       "      'sizemode': 'area',\n",
       "      'sizeref': 435928.2961983471,\n",
       "      'symbol': 'circle'},\n",
       "     'mode': 'markers',\n",
       "     'name': 'Europe',\n",
       "     'orientation': 'v',\n",
       "     'showlegend': True,\n",
       "     'x': array([ 2312.888958, 10750.72111 , 10991.20676 ,  1709.683679,\n",
       "             4254.337839,  5477.890018, 10136.86713 , 13583.31351 ,\n",
       "             9371.842561, 10560.48553 , 12902.46291 ,  6017.190733,\n",
       "             7550.359877, 10350.15906 ,  6631.597314,  8243.58234 ,\n",
       "             4649.593785, 12790.84956 , 13450.40151 ,  5338.752143,\n",
       "             4727.954889,  4734.997586,  6289.629157,  7481.107598,\n",
       "             7402.303395,  5693.843879, 12329.44192 , 20431.0927  ,\n",
       "             2322.869908, 12477.17707 ]),\n",
       "     'xaxis': 'x',\n",
       "     'y': array([64.82 , 69.54 , 70.25 , 61.93 , 69.51 , 67.13 , 69.9  , 72.35 ,\n",
       "            68.75 , 70.51 , 70.3  , 69.51 , 67.96 , 73.68 , 70.29 , 69.24 ,\n",
       "            63.728, 73.23 , 73.47 , 67.64 , 64.39 , 66.8  , 64.531, 70.33 ,\n",
       "            69.15 , 69.69 , 73.37 , 71.32 , 52.098, 70.76 ]),\n",
       "     'yaxis': 'y',\n",
       "     'type': 'scatter'},\n",
       "    {'hovertemplate': '<b>%{hovertext}</b><br><br>continent=Africa<br>year=1962<br>gdpPercap=%{x}<br>lifeExp=%{y}<br>pop=%{marker.size}<extra></extra>',\n",
       "     'hovertext': array(['Algeria', 'Angola', 'Benin', 'Botswana', 'Burkina Faso',\n",
       "            'Burundi', 'Cameroon', 'Central African Republic', 'Chad',\n",
       "            'Comoros', 'Congo, Dem. Rep.', 'Congo, Rep.', \"Cote d'Ivoire\",\n",
       "            'Djibouti', 'Egypt', 'Equatorial Guinea', 'Eritrea', 'Ethiopia',\n",
       "            'Gabon', 'Gambia', 'Ghana', 'Guinea', 'Guinea-Bissau', 'Kenya',\n",
       "            'Lesotho', 'Liberia', 'Libya', 'Madagascar', 'Malawi', 'Mali',\n",
       "            'Mauritania', 'Mauritius', 'Morocco', 'Mozambique', 'Namibia',\n",
       "            'Niger', 'Nigeria', 'Reunion', 'Rwanda', 'Sao Tome and Principe',\n",
       "            'Senegal', 'Sierra Leone', 'Somalia', 'South Africa', 'Sudan',\n",
       "            'Swaziland', 'Tanzania', 'Togo', 'Tunisia', 'Uganda', 'Zambia',\n",
       "            'Zimbabwe'], dtype=object),\n",
       "     'ids': array(['Algeria', 'Angola', 'Benin', 'Botswana', 'Burkina Faso',\n",
       "            'Burundi', 'Cameroon', 'Central African Republic', 'Chad',\n",
       "            'Comoros', 'Congo, Dem. Rep.', 'Congo, Rep.', \"Cote d'Ivoire\",\n",
       "            'Djibouti', 'Egypt', 'Equatorial Guinea', 'Eritrea', 'Ethiopia',\n",
       "            'Gabon', 'Gambia', 'Ghana', 'Guinea', 'Guinea-Bissau', 'Kenya',\n",
       "            'Lesotho', 'Liberia', 'Libya', 'Madagascar', 'Malawi', 'Mali',\n",
       "            'Mauritania', 'Mauritius', 'Morocco', 'Mozambique', 'Namibia',\n",
       "            'Niger', 'Nigeria', 'Reunion', 'Rwanda', 'Sao Tome and Principe',\n",
       "            'Senegal', 'Sierra Leone', 'Somalia', 'South Africa', 'Sudan',\n",
       "            'Swaziland', 'Tanzania', 'Togo', 'Tunisia', 'Uganda', 'Zambia',\n",
       "            'Zimbabwe'], dtype=object),\n",
       "     'legendgroup': 'Africa',\n",
       "     'marker': {'color': '#00cc96',\n",
       "      'size': array([11000948,  4826015,  2151895,   512764,  4919632,  2961915,\n",
       "              5793633,  1523478,  3150417,   191689, 17486434,  1047924,\n",
       "              3832408,    89898, 28173309,   249220,  1666618, 25145372,\n",
       "               455661,   374020,  7355248,  3140003,   627820,  8678557,\n",
       "               893143,  1112796,  1441863,  5703324,  3628608,  4690372,\n",
       "              1146757,   701016, 13056604,  7788944,   621392,  4076008,\n",
       "             41871351,   358900,  3051242,    65345,  3430243,  2467895,\n",
       "              3080153, 18356657, 11183227,   370006, 10863958,  1528098,\n",
       "              4286552,  7688797,  3421000,  4277736], dtype=int64),\n",
       "      'sizemode': 'area',\n",
       "      'sizeref': 435928.2961983471,\n",
       "      'symbol': 'circle'},\n",
       "     'mode': 'markers',\n",
       "     'name': 'Africa',\n",
       "     'orientation': 'v',\n",
       "     'showlegend': True,\n",
       "     'x': array([2550.81688  , 4269.276742 ,  949.4990641,  983.6539764,\n",
       "             722.5120206,  355.2032273, 1399.607441 , 1193.068753 ,\n",
       "            1389.817618 , 1406.648278 ,  896.3146335, 2464.783157 ,\n",
       "            1728.869428 , 3020.989263 , 1693.335853 ,  582.8419714,\n",
       "             380.9958433,  419.4564161, 6631.459222 ,  599.650276 ,\n",
       "            1190.041118 ,  686.3736739,  522.0343725,  896.9663732,\n",
       "             411.8006266,  634.1951625, 6757.030816 , 1643.38711  ,\n",
       "             427.9010856,  496.1743428, 1055.896036 , 2529.067487 ,\n",
       "            1566.353493 ,  556.6863539, 3173.215595 ,  997.7661127,\n",
       "            1150.927478 , 3173.72334  ,  597.4730727, 1071.551119 ,\n",
       "            1654.988723 , 1116.639877 , 1369.488336 , 5768.729717 ,\n",
       "            1959.593767 , 1856.182125 ,  722.0038073, 1067.53481  ,\n",
       "            1660.30321  ,  767.2717398, 1452.725766 ,  527.2721818]),\n",
       "     'xaxis': 'x',\n",
       "     'y': array([48.303, 34.   , 42.618, 51.52 , 37.814, 42.045, 42.643, 39.475,\n",
       "            41.716, 44.467, 42.122, 48.435, 44.93 , 39.693, 46.992, 37.485,\n",
       "            40.158, 40.059, 40.489, 33.896, 46.452, 35.753, 34.488, 47.949,\n",
       "            47.747, 40.502, 47.808, 40.848, 38.41 , 36.936, 44.248, 60.246,\n",
       "            47.924, 36.161, 48.386, 39.487, 39.36 , 57.666, 43.   , 51.893,\n",
       "            41.454, 32.767, 36.981, 49.951, 40.87 , 44.992, 44.246, 43.922,\n",
       "            49.579, 45.344, 46.023, 52.358]),\n",
       "     'yaxis': 'y',\n",
       "     'type': 'scatter'},\n",
       "    {'hovertemplate': '<b>%{hovertext}</b><br><br>continent=Americas<br>year=1962<br>gdpPercap=%{x}<br>lifeExp=%{y}<br>pop=%{marker.size}<extra></extra>',\n",
       "     'hovertext': array(['Argentina', 'Bolivia', 'Brazil', 'Canada', 'Chile', 'Colombia',\n",
       "            'Costa Rica', 'Cuba', 'Dominican Republic', 'Ecuador',\n",
       "            'El Salvador', 'Guatemala', 'Haiti', 'Honduras', 'Jamaica',\n",
       "            'Mexico', 'Nicaragua', 'Panama', 'Paraguay', 'Peru', 'Puerto Rico',\n",
       "            'Trinidad and Tobago', 'United States', 'Uruguay', 'Venezuela'],\n",
       "           dtype=object),\n",
       "     'ids': array(['Argentina', 'Bolivia', 'Brazil', 'Canada', 'Chile', 'Colombia',\n",
       "            'Costa Rica', 'Cuba', 'Dominican Republic', 'Ecuador',\n",
       "            'El Salvador', 'Guatemala', 'Haiti', 'Honduras', 'Jamaica',\n",
       "            'Mexico', 'Nicaragua', 'Panama', 'Paraguay', 'Peru', 'Puerto Rico',\n",
       "            'Trinidad and Tobago', 'United States', 'Uruguay', 'Venezuela'],\n",
       "           dtype=object),\n",
       "     'legendgroup': 'Americas',\n",
       "     'marker': {'color': '#ab63fa',\n",
       "      'size': array([ 21283783,   3593918,  76039390,  18985849,   7961258,  17009885,\n",
       "               1345187,   7254373,   3453434,   4681707,   2747687,   4208858,\n",
       "               3880130,   2090162,   1665128,  41121485,   1590597,   1215725,\n",
       "               2009813,  10516500,   2448046,    887498, 186538000,   2598466,\n",
       "               8143375], dtype=int64),\n",
       "      'sizemode': 'area',\n",
       "      'sizeref': 435928.2961983471,\n",
       "      'symbol': 'circle'},\n",
       "     'mode': 'markers',\n",
       "     'name': 'Americas',\n",
       "     'orientation': 'v',\n",
       "     'showlegend': True,\n",
       "     'x': array([ 7133.166023,  2180.972546,  3336.585802, 13462.48555 ,\n",
       "             4519.094331,  2492.351109,  3460.937025,  5180.75591 ,\n",
       "             1662.137359,  4086.114078,  3776.803627,  2750.364446,\n",
       "             1796.589032,  2291.156835,  5246.107524,  4581.609385,\n",
       "             3634.364406,  3536.540301,  2148.027146,  4957.037982,\n",
       "             5108.34463 ,  4997.523971, 16173.14586 ,  5603.357717,\n",
       "             8422.974165]),\n",
       "     'xaxis': 'x',\n",
       "     'y': array([65.142, 43.428, 55.665, 71.3  , 57.924, 57.863, 62.842, 65.246,\n",
       "            53.459, 54.64 , 52.307, 46.954, 43.59 , 48.041, 65.61 , 58.299,\n",
       "            48.632, 61.817, 64.361, 49.096, 69.62 , 64.9  , 70.21 , 68.253,\n",
       "            60.77 ]),\n",
       "     'yaxis': 'y',\n",
       "     'type': 'scatter'},\n",
       "    {'hovertemplate': '<b>%{hovertext}</b><br><br>continent=Oceania<br>year=1962<br>gdpPercap=%{x}<br>lifeExp=%{y}<br>pop=%{marker.size}<extra></extra>',\n",
       "     'hovertext': array(['Australia', 'New Zealand'], dtype=object),\n",
       "     'ids': array(['Australia', 'New Zealand'], dtype=object),\n",
       "     'legendgroup': 'Oceania',\n",
       "     'marker': {'color': '#FFA15A',\n",
       "      'size': array([10794968,  2488550], dtype=int64),\n",
       "      'sizemode': 'area',\n",
       "      'sizeref': 435928.2961983471,\n",
       "      'symbol': 'circle'},\n",
       "     'mode': 'markers',\n",
       "     'name': 'Oceania',\n",
       "     'orientation': 'v',\n",
       "     'showlegend': True,\n",
       "     'x': array([12217.22686, 13175.678  ]),\n",
       "     'xaxis': 'x',\n",
       "     'y': array([70.93, 71.24]),\n",
       "     'yaxis': 'y',\n",
       "     'type': 'scatter'}],\n",
       "   'name': '1962'},\n",
       "  {'data': [{'hovertemplate': '<b>%{hovertext}</b><br><br>continent=Asia<br>year=1967<br>gdpPercap=%{x}<br>lifeExp=%{y}<br>pop=%{marker.size}<extra></extra>',\n",
       "     'hovertext': array(['Afghanistan', 'Bahrain', 'Bangladesh', 'Cambodia', 'China',\n",
       "            'Hong Kong, China', 'India', 'Indonesia', 'Iran', 'Iraq', 'Israel',\n",
       "            'Japan', 'Jordan', 'Korea, Dem. Rep.', 'Korea, Rep.', 'Kuwait',\n",
       "            'Lebanon', 'Malaysia', 'Mongolia', 'Myanmar', 'Nepal', 'Oman',\n",
       "            'Pakistan', 'Philippines', 'Saudi Arabia', 'Singapore',\n",
       "            'Sri Lanka', 'Syria', 'Taiwan', 'Thailand', 'Vietnam',\n",
       "            'West Bank and Gaza', 'Yemen, Rep.'], dtype=object),\n",
       "     'ids': array(['Afghanistan', 'Bahrain', 'Bangladesh', 'Cambodia', 'China',\n",
       "            'Hong Kong, China', 'India', 'Indonesia', 'Iran', 'Iraq', 'Israel',\n",
       "            'Japan', 'Jordan', 'Korea, Dem. Rep.', 'Korea, Rep.', 'Kuwait',\n",
       "            'Lebanon', 'Malaysia', 'Mongolia', 'Myanmar', 'Nepal', 'Oman',\n",
       "            'Pakistan', 'Philippines', 'Saudi Arabia', 'Singapore',\n",
       "            'Sri Lanka', 'Syria', 'Taiwan', 'Thailand', 'Vietnam',\n",
       "            'West Bank and Gaza', 'Yemen, Rep.'], dtype=object),\n",
       "     'legendgroup': 'Asia',\n",
       "     'marker': {'color': '#636efa',\n",
       "      'size': array([ 11537966,    202182,  62821884,   6960067, 754550000,   3722800,\n",
       "             506000000, 109343000,  26538000,   8519282,   2693585, 100825279,\n",
       "               1255058,  12617009,  30131000,    575003,   2186894,  10154878,\n",
       "               1149500,  25870271,  11261690,    714775,  60641899,  35356600,\n",
       "               5618198,   1977600,  11737396,   5680812,  13648692,  34024249,\n",
       "              39463910,   1142636,   6740785], dtype=int64),\n",
       "      'sizemode': 'area',\n",
       "      'sizeref': 435928.2961983471,\n",
       "      'symbol': 'circle'},\n",
       "     'mode': 'markers',\n",
       "     'name': 'Asia',\n",
       "     'orientation': 'v',\n",
       "     'showlegend': True,\n",
       "     'x': array([  836.1971382, 14804.6727   ,   721.1860862,   523.4323142,\n",
       "              612.7056934,  6197.962814 ,   700.7706107,   762.4317721,\n",
       "             5906.731805 ,  8931.459811 ,  8393.741404 ,  9847.788607 ,\n",
       "             2741.796252 ,  2143.540609 ,  2029.228142 , 80894.88326  ,\n",
       "             6006.983042 ,  2277.742396 ,  1226.04113  ,   349.       ,\n",
       "              676.4422254,  4720.942687 ,   942.4082588,  1814.12743  ,\n",
       "            16903.04886  ,  4977.41854  ,  1135.514326 ,  1881.923632 ,\n",
       "             2643.858681 ,  1295.46066  ,   637.1232887,  2649.715007 ,\n",
       "              862.4421463]),\n",
       "     'xaxis': 'x',\n",
       "     'y': array([34.02   , 59.923  , 43.453  , 45.415  , 58.38112, 70.     ,\n",
       "            47.193  , 45.964  , 52.469  , 54.459  , 70.75   , 71.43   ,\n",
       "            51.629  , 59.942  , 57.716  , 64.624  , 63.87   , 59.371  ,\n",
       "            51.253  , 49.379  , 41.472  , 46.988  , 49.8    , 56.393  ,\n",
       "            49.901  , 67.946  , 64.266  , 53.655  , 67.5    , 58.285  ,\n",
       "            47.838  , 51.631  , 36.984  ]),\n",
       "     'yaxis': 'y',\n",
       "     'type': 'scatter'},\n",
       "    {'hovertemplate': '<b>%{hovertext}</b><br><br>continent=Europe<br>year=1967<br>gdpPercap=%{x}<br>lifeExp=%{y}<br>pop=%{marker.size}<extra></extra>',\n",
       "     'hovertext': array(['Albania', 'Austria', 'Belgium', 'Bosnia and Herzegovina',\n",
       "            'Bulgaria', 'Croatia', 'Czech Republic', 'Denmark', 'Finland',\n",
       "            'France', 'Germany', 'Greece', 'Hungary', 'Iceland', 'Ireland',\n",
       "            'Italy', 'Montenegro', 'Netherlands', 'Norway', 'Poland',\n",
       "            'Portugal', 'Romania', 'Serbia', 'Slovak Republic', 'Slovenia',\n",
       "            'Spain', 'Sweden', 'Switzerland', 'Turkey', 'United Kingdom'],\n",
       "           dtype=object),\n",
       "     'ids': array(['Albania', 'Austria', 'Belgium', 'Bosnia and Herzegovina',\n",
       "            'Bulgaria', 'Croatia', 'Czech Republic', 'Denmark', 'Finland',\n",
       "            'France', 'Germany', 'Greece', 'Hungary', 'Iceland', 'Ireland',\n",
       "            'Italy', 'Montenegro', 'Netherlands', 'Norway', 'Poland',\n",
       "            'Portugal', 'Romania', 'Serbia', 'Slovak Republic', 'Slovenia',\n",
       "            'Spain', 'Sweden', 'Switzerland', 'Turkey', 'United Kingdom'],\n",
       "           dtype=object),\n",
       "     'legendgroup': 'Europe',\n",
       "     'marker': {'color': '#EF553B',\n",
       "      'size': array([ 1984060,  7376998,  9556500,  3585000,  8310226,  4174366,\n",
       "              9835109,  4838800,  4605744, 49569000, 76368453,  8716441,\n",
       "             10223422,   198676,  2900100, 52667100,   501035, 12596822,\n",
       "              3786019, 31785378,  9103000, 19284814,  7971222,  4442238,\n",
       "              1646912, 32850275,  7867931,  6063000, 33411317, 54959000],\n",
       "            dtype=int64),\n",
       "      'sizemode': 'area',\n",
       "      'sizeref': 435928.2961983471,\n",
       "      'symbol': 'circle'},\n",
       "     'mode': 'markers',\n",
       "     'name': 'Europe',\n",
       "     'orientation': 'v',\n",
       "     'showlegend': True,\n",
       "     'x': array([ 2760.196931, 12834.6024  , 13149.04119 ,  2172.352423,\n",
       "             5577.0028  ,  6960.297861, 11399.44489 , 15937.21123 ,\n",
       "            10921.63626 , 12999.91766 , 14745.62561 ,  8513.097016,\n",
       "             9326.64467 , 13319.89568 ,  7655.568963, 10022.40131 ,\n",
       "             5907.850937, 15363.25136 , 16361.87647 ,  6557.152776,\n",
       "             6361.517993,  6470.866545,  7991.707066,  8412.902397,\n",
       "             9405.489397,  7993.512294, 15258.29697 , 22966.14432 ,\n",
       "             2826.356387, 14142.85089 ]),\n",
       "     'xaxis': 'x',\n",
       "     'y': array([66.22 , 70.14 , 70.94 , 64.79 , 70.42 , 68.5  , 70.38 , 72.96 ,\n",
       "            69.83 , 71.55 , 70.8  , 71.   , 69.5  , 73.73 , 71.08 , 71.06 ,\n",
       "            67.178, 73.82 , 74.08 , 69.61 , 66.6  , 66.8  , 66.914, 70.98 ,\n",
       "            69.18 , 71.44 , 74.16 , 72.77 , 54.336, 71.36 ]),\n",
       "     'yaxis': 'y',\n",
       "     'type': 'scatter'},\n",
       "    {'hovertemplate': '<b>%{hovertext}</b><br><br>continent=Africa<br>year=1967<br>gdpPercap=%{x}<br>lifeExp=%{y}<br>pop=%{marker.size}<extra></extra>',\n",
       "     'hovertext': array(['Algeria', 'Angola', 'Benin', 'Botswana', 'Burkina Faso',\n",
       "            'Burundi', 'Cameroon', 'Central African Republic', 'Chad',\n",
       "            'Comoros', 'Congo, Dem. Rep.', 'Congo, Rep.', \"Cote d'Ivoire\",\n",
       "            'Djibouti', 'Egypt', 'Equatorial Guinea', 'Eritrea', 'Ethiopia',\n",
       "            'Gabon', 'Gambia', 'Ghana', 'Guinea', 'Guinea-Bissau', 'Kenya',\n",
       "            'Lesotho', 'Liberia', 'Libya', 'Madagascar', 'Malawi', 'Mali',\n",
       "            'Mauritania', 'Mauritius', 'Morocco', 'Mozambique', 'Namibia',\n",
       "            'Niger', 'Nigeria', 'Reunion', 'Rwanda', 'Sao Tome and Principe',\n",
       "            'Senegal', 'Sierra Leone', 'Somalia', 'South Africa', 'Sudan',\n",
       "            'Swaziland', 'Tanzania', 'Togo', 'Tunisia', 'Uganda', 'Zambia',\n",
       "            'Zimbabwe'], dtype=object),\n",
       "     'ids': array(['Algeria', 'Angola', 'Benin', 'Botswana', 'Burkina Faso',\n",
       "            'Burundi', 'Cameroon', 'Central African Republic', 'Chad',\n",
       "            'Comoros', 'Congo, Dem. Rep.', 'Congo, Rep.', \"Cote d'Ivoire\",\n",
       "            'Djibouti', 'Egypt', 'Equatorial Guinea', 'Eritrea', 'Ethiopia',\n",
       "            'Gabon', 'Gambia', 'Ghana', 'Guinea', 'Guinea-Bissau', 'Kenya',\n",
       "            'Lesotho', 'Liberia', 'Libya', 'Madagascar', 'Malawi', 'Mali',\n",
       "            'Mauritania', 'Mauritius', 'Morocco', 'Mozambique', 'Namibia',\n",
       "            'Niger', 'Nigeria', 'Reunion', 'Rwanda', 'Sao Tome and Principe',\n",
       "            'Senegal', 'Sierra Leone', 'Somalia', 'South Africa', 'Sudan',\n",
       "            'Swaziland', 'Tanzania', 'Togo', 'Tunisia', 'Uganda', 'Zambia',\n",
       "            'Zimbabwe'], dtype=object),\n",
       "     'legendgroup': 'Africa',\n",
       "     'marker': {'color': '#00cc96',\n",
       "      'size': array([12760499,  5247469,  2427334,   553541,  5127935,  3330989,\n",
       "              6335506,  1733638,  3495967,   217378, 19941073,  1179760,\n",
       "              4744870,   127617, 31681188,   259864,  1820319, 27860297,\n",
       "               489004,   439593,  8490213,  3451418,   601287, 10191512,\n",
       "               996380,  1279406,  1759224,  6334556,  4147252,  5212416,\n",
       "              1230542,   789309, 14770296,  8680909,   706640,  4534062,\n",
       "             47287752,   414024,  3451079,    70787,  3965841,  2662190,\n",
       "              3428839, 20997321, 12716129,   420690, 12607312,  1735550,\n",
       "              4786986,  8900294,  3900000,  4995432], dtype=int64),\n",
       "      'sizemode': 'area',\n",
       "      'sizeref': 435928.2961983471,\n",
       "      'symbol': 'circle'},\n",
       "     'mode': 'markers',\n",
       "     'name': 'Africa',\n",
       "     'orientation': 'v',\n",
       "     'showlegend': True,\n",
       "     'x': array([ 3246.991771 ,  5522.776375 ,  1035.831411 ,  1214.709294 ,\n",
       "              794.8265597,   412.9775136,  1508.453148 ,  1136.056615 ,\n",
       "             1196.810565 ,  1876.029643 ,   861.5932424,  2677.939642 ,\n",
       "             2052.050473 ,  3020.050513 ,  1814.880728 ,   915.5960025,\n",
       "              468.7949699,   516.1186438,  8358.761987 ,   734.7829124,\n",
       "             1125.69716  ,   708.7595409,   715.5806402,  1056.736457 ,\n",
       "              498.6390265,   713.6036483, 18772.75169  ,  1634.047282 ,\n",
       "              495.5147806,   545.0098873,  1421.145193 ,  2475.387562 ,\n",
       "             1711.04477  ,   566.6691539,  3793.694753 ,  1054.384891 ,\n",
       "             1014.514104 ,  4021.175739 ,   510.9637142,  1384.840593 ,\n",
       "             1612.404632 ,  1206.043465 ,  1284.73318  ,  7114.477971 ,\n",
       "             1687.997641 ,  2613.101665 ,   848.2186575,  1477.59676  ,\n",
       "             1932.360167 ,   908.9185217,  1777.077318 ,   569.7950712]),\n",
       "     'xaxis': 'x',\n",
       "     'y': array([51.407, 35.985, 44.885, 53.298, 40.697, 43.548, 44.799, 41.478,\n",
       "            43.601, 46.472, 44.056, 52.04 , 47.35 , 42.074, 49.293, 38.987,\n",
       "            42.189, 42.115, 44.598, 35.857, 48.072, 37.197, 35.492, 50.654,\n",
       "            48.492, 41.536, 50.227, 42.881, 39.487, 38.487, 46.289, 61.557,\n",
       "            50.335, 38.113, 51.159, 40.118, 41.04 , 60.542, 44.1  , 54.425,\n",
       "            43.563, 34.113, 38.977, 51.927, 42.858, 46.633, 45.757, 46.769,\n",
       "            52.053, 48.051, 47.768, 53.995]),\n",
       "     'yaxis': 'y',\n",
       "     'type': 'scatter'},\n",
       "    {'hovertemplate': '<b>%{hovertext}</b><br><br>continent=Americas<br>year=1967<br>gdpPercap=%{x}<br>lifeExp=%{y}<br>pop=%{marker.size}<extra></extra>',\n",
       "     'hovertext': array(['Argentina', 'Bolivia', 'Brazil', 'Canada', 'Chile', 'Colombia',\n",
       "            'Costa Rica', 'Cuba', 'Dominican Republic', 'Ecuador',\n",
       "            'El Salvador', 'Guatemala', 'Haiti', 'Honduras', 'Jamaica',\n",
       "            'Mexico', 'Nicaragua', 'Panama', 'Paraguay', 'Peru', 'Puerto Rico',\n",
       "            'Trinidad and Tobago', 'United States', 'Uruguay', 'Venezuela'],\n",
       "           dtype=object),\n",
       "     'ids': array(['Argentina', 'Bolivia', 'Brazil', 'Canada', 'Chile', 'Colombia',\n",
       "            'Costa Rica', 'Cuba', 'Dominican Republic', 'Ecuador',\n",
       "            'El Salvador', 'Guatemala', 'Haiti', 'Honduras', 'Jamaica',\n",
       "            'Mexico', 'Nicaragua', 'Panama', 'Paraguay', 'Peru', 'Puerto Rico',\n",
       "            'Trinidad and Tobago', 'United States', 'Uruguay', 'Venezuela'],\n",
       "           dtype=object),\n",
       "     'legendgroup': 'Americas',\n",
       "     'marker': {'color': '#ab63fa',\n",
       "      'size': array([ 22934225,   4040665,  88049823,  20819767,   8858908,  19764027,\n",
       "               1588717,   8139332,   4049146,   5432424,   3232927,   4690773,\n",
       "               4318137,   2500689,   1861096,  47995559,   1865490,   1405486,\n",
       "               2287985,  12132200,   2648961,    960155, 198712000,   2748579,\n",
       "               9709552], dtype=int64),\n",
       "      'sizemode': 'area',\n",
       "      'sizeref': 435928.2961983471,\n",
       "      'symbol': 'circle'},\n",
       "     'mode': 'markers',\n",
       "     'name': 'Americas',\n",
       "     'orientation': 'v',\n",
       "     'showlegend': True,\n",
       "     'x': array([ 8052.953021,  2586.886053,  3429.864357, 16076.58803 ,\n",
       "             5106.654313,  2678.729839,  4161.727834,  5690.268015,\n",
       "             1653.723003,  4579.074215,  4358.595393,  3242.531147,\n",
       "             1452.057666,  2538.269358,  6124.703451,  5754.733883,\n",
       "             4643.393534,  4421.009084,  2299.376311,  5788.09333 ,\n",
       "             6929.277714,  5621.368472, 19530.36557 ,  5444.61962 ,\n",
       "             9541.474188]),\n",
       "     'xaxis': 'x',\n",
       "     'y': array([65.634, 45.032, 57.632, 72.13 , 60.523, 59.963, 65.424, 68.29 ,\n",
       "            56.751, 56.678, 55.855, 50.016, 46.243, 50.924, 67.51 , 60.11 ,\n",
       "            51.884, 64.071, 64.951, 51.445, 71.1  , 65.4  , 70.76 , 68.468,\n",
       "            63.479]),\n",
       "     'yaxis': 'y',\n",
       "     'type': 'scatter'},\n",
       "    {'hovertemplate': '<b>%{hovertext}</b><br><br>continent=Oceania<br>year=1967<br>gdpPercap=%{x}<br>lifeExp=%{y}<br>pop=%{marker.size}<extra></extra>',\n",
       "     'hovertext': array(['Australia', 'New Zealand'], dtype=object),\n",
       "     'ids': array(['Australia', 'New Zealand'], dtype=object),\n",
       "     'legendgroup': 'Oceania',\n",
       "     'marker': {'color': '#FFA15A',\n",
       "      'size': array([11872264,  2728150], dtype=int64),\n",
       "      'sizemode': 'area',\n",
       "      'sizeref': 435928.2961983471,\n",
       "      'symbol': 'circle'},\n",
       "     'mode': 'markers',\n",
       "     'name': 'Oceania',\n",
       "     'orientation': 'v',\n",
       "     'showlegend': True,\n",
       "     'x': array([14526.12465, 14463.91893]),\n",
       "     'xaxis': 'x',\n",
       "     'y': array([71.1 , 71.52]),\n",
       "     'yaxis': 'y',\n",
       "     'type': 'scatter'}],\n",
       "   'name': '1967'},\n",
       "  {'data': [{'hovertemplate': '<b>%{hovertext}</b><br><br>continent=Asia<br>year=1972<br>gdpPercap=%{x}<br>lifeExp=%{y}<br>pop=%{marker.size}<extra></extra>',\n",
       "     'hovertext': array(['Afghanistan', 'Bahrain', 'Bangladesh', 'Cambodia', 'China',\n",
       "            'Hong Kong, China', 'India', 'Indonesia', 'Iran', 'Iraq', 'Israel',\n",
       "            'Japan', 'Jordan', 'Korea, Dem. Rep.', 'Korea, Rep.', 'Kuwait',\n",
       "            'Lebanon', 'Malaysia', 'Mongolia', 'Myanmar', 'Nepal', 'Oman',\n",
       "            'Pakistan', 'Philippines', 'Saudi Arabia', 'Singapore',\n",
       "            'Sri Lanka', 'Syria', 'Taiwan', 'Thailand', 'Vietnam',\n",
       "            'West Bank and Gaza', 'Yemen, Rep.'], dtype=object),\n",
       "     'ids': array(['Afghanistan', 'Bahrain', 'Bangladesh', 'Cambodia', 'China',\n",
       "            'Hong Kong, China', 'India', 'Indonesia', 'Iran', 'Iraq', 'Israel',\n",
       "            'Japan', 'Jordan', 'Korea, Dem. Rep.', 'Korea, Rep.', 'Kuwait',\n",
       "            'Lebanon', 'Malaysia', 'Mongolia', 'Myanmar', 'Nepal', 'Oman',\n",
       "            'Pakistan', 'Philippines', 'Saudi Arabia', 'Singapore',\n",
       "            'Sri Lanka', 'Syria', 'Taiwan', 'Thailand', 'Vietnam',\n",
       "            'West Bank and Gaza', 'Yemen, Rep.'], dtype=object),\n",
       "     'legendgroup': 'Asia',\n",
       "     'marker': {'color': '#636efa',\n",
       "      'size': array([ 13079460,    230800,  70759295,   7450606, 862030000,   4115700,\n",
       "             567000000, 121282000,  30614000,  10061506,   3095893, 107188273,\n",
       "               1613551,  14781241,  33505000,    841934,   2680018,  11441462,\n",
       "               1320500,  28466390,  12412593,    829050,  69325921,  40850141,\n",
       "               6472756,   2152400,  13016733,   6701172,  15226039,  39276153,\n",
       "              44655014,   1089572,   7407075], dtype=int64),\n",
       "      'sizemode': 'area',\n",
       "      'sizeref': 435928.2961983471,\n",
       "      'symbol': 'circle'},\n",
       "     'mode': 'markers',\n",
       "     'name': 'Asia',\n",
       "     'orientation': 'v',\n",
       "     'showlegend': True,\n",
       "     'x': array([   739.9811058,  18268.65839  ,    630.2336265,    421.6240257,\n",
       "               676.9000921,   8315.928145 ,    724.032527 ,   1111.107907 ,\n",
       "              9613.818607 ,   9576.037596 ,  12786.93223  ,  14778.78636  ,\n",
       "              2110.856309 ,   3701.621503 ,   3030.87665  , 109347.867    ,\n",
       "              7486.384341 ,   2849.09478  ,   1421.741975 ,    357.       ,\n",
       "               674.7881296,  10618.03855  ,   1049.938981 ,   1989.37407  ,\n",
       "             24837.42865  ,   8597.756202 ,   1213.39553  ,   2571.423014 ,\n",
       "              4062.523897 ,   1524.358936 ,    699.5016441,   3133.409277 ,\n",
       "              1265.047031 ]),\n",
       "     'xaxis': 'x',\n",
       "     'y': array([36.088  , 63.3    , 45.252  , 40.317  , 63.11888, 72.     ,\n",
       "            50.651  , 49.203  , 55.234  , 56.95   , 71.63   , 73.42   ,\n",
       "            56.528  , 63.983  , 62.612  , 67.712  , 65.421  , 63.01   ,\n",
       "            53.754  , 53.07   , 43.971  , 52.143  , 51.929  , 58.065  ,\n",
       "            53.886  , 69.521  , 65.042  , 57.296  , 69.39   , 60.405  ,\n",
       "            50.254  , 56.532  , 39.848  ]),\n",
       "     'yaxis': 'y',\n",
       "     'type': 'scatter'},\n",
       "    {'hovertemplate': '<b>%{hovertext}</b><br><br>continent=Europe<br>year=1972<br>gdpPercap=%{x}<br>lifeExp=%{y}<br>pop=%{marker.size}<extra></extra>',\n",
       "     'hovertext': array(['Albania', 'Austria', 'Belgium', 'Bosnia and Herzegovina',\n",
       "            'Bulgaria', 'Croatia', 'Czech Republic', 'Denmark', 'Finland',\n",
       "            'France', 'Germany', 'Greece', 'Hungary', 'Iceland', 'Ireland',\n",
       "            'Italy', 'Montenegro', 'Netherlands', 'Norway', 'Poland',\n",
       "            'Portugal', 'Romania', 'Serbia', 'Slovak Republic', 'Slovenia',\n",
       "            'Spain', 'Sweden', 'Switzerland', 'Turkey', 'United Kingdom'],\n",
       "           dtype=object),\n",
       "     'ids': array(['Albania', 'Austria', 'Belgium', 'Bosnia and Herzegovina',\n",
       "            'Bulgaria', 'Croatia', 'Czech Republic', 'Denmark', 'Finland',\n",
       "            'France', 'Germany', 'Greece', 'Hungary', 'Iceland', 'Ireland',\n",
       "            'Italy', 'Montenegro', 'Netherlands', 'Norway', 'Poland',\n",
       "            'Portugal', 'Romania', 'Serbia', 'Slovak Republic', 'Slovenia',\n",
       "            'Spain', 'Sweden', 'Switzerland', 'Turkey', 'United Kingdom'],\n",
       "           dtype=object),\n",
       "     'legendgroup': 'Europe',\n",
       "     'marker': {'color': '#EF553B',\n",
       "      'size': array([ 2263554,  7544201,  9709100,  3819000,  8576200,  4225310,\n",
       "              9862158,  4991596,  4639657, 51732000, 78717088,  8888628,\n",
       "             10394091,   209275,  3024400, 54365564,   527678, 13329874,\n",
       "              3933004, 33039545,  8970450, 20662648,  8313288,  4593433,\n",
       "              1694510, 34513161,  8122293,  6401400, 37492953, 56079000],\n",
       "            dtype=int64),\n",
       "      'sizemode': 'area',\n",
       "      'sizeref': 435928.2961983471,\n",
       "      'symbol': 'circle'},\n",
       "     'mode': 'markers',\n",
       "     'name': 'Europe',\n",
       "     'orientation': 'v',\n",
       "     'showlegend': True,\n",
       "     'x': array([ 3313.422188, 16661.6256  , 16672.14356 ,  2860.16975 ,\n",
       "             6597.494398,  9164.090127, 13108.4536  , 18866.20721 ,\n",
       "            14358.8759  , 16107.19171 , 18016.18027 , 12724.82957 ,\n",
       "            10168.65611 , 15798.06362 ,  9530.772896, 12269.27378 ,\n",
       "             7778.414017, 18794.74567 , 18965.05551 ,  8006.506993,\n",
       "             9022.247417,  8011.414402, 10522.06749 ,  9674.167626,\n",
       "            12383.4862  , 10638.75131 , 17832.02464 , 27195.11304 ,\n",
       "             3450.69638 , 15895.11641 ]),\n",
       "     'xaxis': 'x',\n",
       "     'y': array([67.69 , 70.63 , 71.44 , 67.45 , 70.9  , 69.61 , 70.29 , 73.47 ,\n",
       "            70.87 , 72.38 , 71.   , 72.34 , 69.76 , 74.46 , 71.28 , 72.19 ,\n",
       "            70.636, 73.75 , 74.34 , 70.85 , 69.26 , 69.21 , 68.7  , 70.35 ,\n",
       "            69.82 , 73.06 , 74.72 , 73.78 , 57.005, 72.01 ]),\n",
       "     'yaxis': 'y',\n",
       "     'type': 'scatter'},\n",
       "    {'hovertemplate': '<b>%{hovertext}</b><br><br>continent=Africa<br>year=1972<br>gdpPercap=%{x}<br>lifeExp=%{y}<br>pop=%{marker.size}<extra></extra>',\n",
       "     'hovertext': array(['Algeria', 'Angola', 'Benin', 'Botswana', 'Burkina Faso',\n",
       "            'Burundi', 'Cameroon', 'Central African Republic', 'Chad',\n",
       "            'Comoros', 'Congo, Dem. Rep.', 'Congo, Rep.', \"Cote d'Ivoire\",\n",
       "            'Djibouti', 'Egypt', 'Equatorial Guinea', 'Eritrea', 'Ethiopia',\n",
       "            'Gabon', 'Gambia', 'Ghana', 'Guinea', 'Guinea-Bissau', 'Kenya',\n",
       "            'Lesotho', 'Liberia', 'Libya', 'Madagascar', 'Malawi', 'Mali',\n",
       "            'Mauritania', 'Mauritius', 'Morocco', 'Mozambique', 'Namibia',\n",
       "            'Niger', 'Nigeria', 'Reunion', 'Rwanda', 'Sao Tome and Principe',\n",
       "            'Senegal', 'Sierra Leone', 'Somalia', 'South Africa', 'Sudan',\n",
       "            'Swaziland', 'Tanzania', 'Togo', 'Tunisia', 'Uganda', 'Zambia',\n",
       "            'Zimbabwe'], dtype=object),\n",
       "     'ids': array(['Algeria', 'Angola', 'Benin', 'Botswana', 'Burkina Faso',\n",
       "            'Burundi', 'Cameroon', 'Central African Republic', 'Chad',\n",
       "            'Comoros', 'Congo, Dem. Rep.', 'Congo, Rep.', \"Cote d'Ivoire\",\n",
       "            'Djibouti', 'Egypt', 'Equatorial Guinea', 'Eritrea', 'Ethiopia',\n",
       "            'Gabon', 'Gambia', 'Ghana', 'Guinea', 'Guinea-Bissau', 'Kenya',\n",
       "            'Lesotho', 'Liberia', 'Libya', 'Madagascar', 'Malawi', 'Mali',\n",
       "            'Mauritania', 'Mauritius', 'Morocco', 'Mozambique', 'Namibia',\n",
       "            'Niger', 'Nigeria', 'Reunion', 'Rwanda', 'Sao Tome and Principe',\n",
       "            'Senegal', 'Sierra Leone', 'Somalia', 'South Africa', 'Sudan',\n",
       "            'Swaziland', 'Tanzania', 'Togo', 'Tunisia', 'Uganda', 'Zambia',\n",
       "            'Zimbabwe'], dtype=object),\n",
       "     'legendgroup': 'Africa',\n",
       "     'marker': {'color': '#00cc96',\n",
       "      'size': array([14760787,  5894858,  2761407,   619351,  5433886,  3529983,\n",
       "              7021028,  1927260,  3899068,   250027, 23007669,  1340458,\n",
       "              6071696,   178848, 34807417,   277603,  2260187, 30770372,\n",
       "               537977,   517101,  9354120,  3811387,   625361, 12044785,\n",
       "              1116779,  1482628,  2183877,  7082430,  4730997,  5828158,\n",
       "              1332786,   851334, 16660670,  9809596,   821782,  5060262,\n",
       "             53740085,   461633,  3992121,    76595,  4588696,  2879013,\n",
       "              3840161, 23935810, 14597019,   480105, 14706593,  2056351,\n",
       "              5303507, 10190285,  4506497,  5861135], dtype=int64),\n",
       "      'sizemode': 'area',\n",
       "      'sizeref': 435928.2961983471,\n",
       "      'symbol': 'circle'},\n",
       "     'mode': 'markers',\n",
       "     'name': 'Africa',\n",
       "     'orientation': 'v',\n",
       "     'showlegend': True,\n",
       "     'x': array([ 4182.663766 ,  5473.288005 ,  1085.796879 ,  2263.611114 ,\n",
       "              854.7359763,   464.0995039,  1684.146528 ,  1070.013275 ,\n",
       "             1104.103987 ,  1937.577675 ,   904.8960685,  3213.152683 ,\n",
       "             2378.201111 ,  3694.212352 ,  2024.008147 ,   672.4122571,\n",
       "              514.3242082,   566.2439442, 11401.94841  ,   756.0868363,\n",
       "             1178.223708 ,   741.6662307,   820.2245876,  1222.359968 ,\n",
       "              496.5815922,   803.0054535, 21011.49721  ,  1748.562982 ,\n",
       "              584.6219709,   581.3688761,  1586.851781 ,  2575.484158 ,\n",
       "             1930.194975 ,   724.9178037,  3746.080948 ,   954.2092363,\n",
       "             1698.388838 ,  5047.658563 ,   590.5806638,  1532.985254 ,\n",
       "             1597.712056 ,  1353.759762 ,  1254.576127 ,  7765.962636 ,\n",
       "             1659.652775 ,  3364.836625 ,   915.9850592,  1649.660188 ,\n",
       "             2753.285994 ,   950.735869 ,  1773.498265 ,   799.3621758]),\n",
       "     'xaxis': 'x',\n",
       "     'y': array([54.518, 37.928, 47.014, 56.024, 43.591, 44.057, 47.049, 43.457,\n",
       "            45.569, 48.944, 45.989, 54.907, 49.801, 44.366, 51.137, 40.516,\n",
       "            44.142, 43.515, 48.69 , 38.308, 49.875, 38.842, 36.486, 53.559,\n",
       "            49.767, 42.614, 52.773, 44.851, 41.766, 39.977, 48.437, 62.944,\n",
       "            52.862, 40.328, 53.867, 40.546, 42.821, 64.274, 44.6  , 56.48 ,\n",
       "            45.815, 35.4  , 40.973, 53.696, 45.083, 49.552, 47.62 , 49.759,\n",
       "            55.602, 51.016, 50.107, 55.635]),\n",
       "     'yaxis': 'y',\n",
       "     'type': 'scatter'},\n",
       "    {'hovertemplate': '<b>%{hovertext}</b><br><br>continent=Americas<br>year=1972<br>gdpPercap=%{x}<br>lifeExp=%{y}<br>pop=%{marker.size}<extra></extra>',\n",
       "     'hovertext': array(['Argentina', 'Bolivia', 'Brazil', 'Canada', 'Chile', 'Colombia',\n",
       "            'Costa Rica', 'Cuba', 'Dominican Republic', 'Ecuador',\n",
       "            'El Salvador', 'Guatemala', 'Haiti', 'Honduras', 'Jamaica',\n",
       "            'Mexico', 'Nicaragua', 'Panama', 'Paraguay', 'Peru', 'Puerto Rico',\n",
       "            'Trinidad and Tobago', 'United States', 'Uruguay', 'Venezuela'],\n",
       "           dtype=object),\n",
       "     'ids': array(['Argentina', 'Bolivia', 'Brazil', 'Canada', 'Chile', 'Colombia',\n",
       "            'Costa Rica', 'Cuba', 'Dominican Republic', 'Ecuador',\n",
       "            'El Salvador', 'Guatemala', 'Haiti', 'Honduras', 'Jamaica',\n",
       "            'Mexico', 'Nicaragua', 'Panama', 'Paraguay', 'Peru', 'Puerto Rico',\n",
       "            'Trinidad and Tobago', 'United States', 'Uruguay', 'Venezuela'],\n",
       "           dtype=object),\n",
       "     'legendgroup': 'Americas',\n",
       "     'marker': {'color': '#ab63fa',\n",
       "      'size': array([ 24779799,   4565872, 100840058,  22284500,   9717524,  22542890,\n",
       "               1834796,   8831348,   4671329,   6298651,   3790903,   5149581,\n",
       "               4698301,   2965146,   1997616,  55984294,   2182908,   1616384,\n",
       "               2614104,  13954700,   2847132,    975199, 209896000,   2829526,\n",
       "              11515649], dtype=int64),\n",
       "      'sizemode': 'area',\n",
       "      'sizeref': 435928.2961983471,\n",
       "      'symbol': 'circle'},\n",
       "     'mode': 'markers',\n",
       "     'name': 'Americas',\n",
       "     'orientation': 'v',\n",
       "     'showlegend': True,\n",
       "     'x': array([ 9443.038526,  2980.331339,  4985.711467, 18970.57086 ,\n",
       "             5494.024437,  3264.660041,  5118.146939,  5305.445256,\n",
       "             2189.874499,  5280.99471 ,  4520.246008,  4031.408271,\n",
       "             1654.456946,  2529.842345,  7433.889293,  6809.40669 ,\n",
       "             4688.593267,  5364.249663,  2523.337977,  5937.827283,\n",
       "             9123.041742,  6619.551419, 21806.03594 ,  5703.408898,\n",
       "            10505.25966 ]),\n",
       "     'xaxis': 'x',\n",
       "     'y': array([67.065, 46.714, 59.504, 72.88 , 63.441, 61.623, 67.849, 70.723,\n",
       "            59.631, 58.796, 58.207, 53.738, 48.042, 53.884, 69.   , 62.361,\n",
       "            55.151, 66.216, 65.815, 55.448, 72.16 , 65.9  , 71.34 , 68.673,\n",
       "            65.712]),\n",
       "     'yaxis': 'y',\n",
       "     'type': 'scatter'},\n",
       "    {'hovertemplate': '<b>%{hovertext}</b><br><br>continent=Oceania<br>year=1972<br>gdpPercap=%{x}<br>lifeExp=%{y}<br>pop=%{marker.size}<extra></extra>',\n",
       "     'hovertext': array(['Australia', 'New Zealand'], dtype=object),\n",
       "     'ids': array(['Australia', 'New Zealand'], dtype=object),\n",
       "     'legendgroup': 'Oceania',\n",
       "     'marker': {'color': '#FFA15A',\n",
       "      'size': array([13177000,  2929100], dtype=int64),\n",
       "      'sizemode': 'area',\n",
       "      'sizeref': 435928.2961983471,\n",
       "      'symbol': 'circle'},\n",
       "     'mode': 'markers',\n",
       "     'name': 'Oceania',\n",
       "     'orientation': 'v',\n",
       "     'showlegend': True,\n",
       "     'x': array([16788.62948, 16046.03728]),\n",
       "     'xaxis': 'x',\n",
       "     'y': array([71.93, 71.89]),\n",
       "     'yaxis': 'y',\n",
       "     'type': 'scatter'}],\n",
       "   'name': '1972'},\n",
       "  {'data': [{'hovertemplate': '<b>%{hovertext}</b><br><br>continent=Asia<br>year=1977<br>gdpPercap=%{x}<br>lifeExp=%{y}<br>pop=%{marker.size}<extra></extra>',\n",
       "     'hovertext': array(['Afghanistan', 'Bahrain', 'Bangladesh', 'Cambodia', 'China',\n",
       "            'Hong Kong, China', 'India', 'Indonesia', 'Iran', 'Iraq', 'Israel',\n",
       "            'Japan', 'Jordan', 'Korea, Dem. Rep.', 'Korea, Rep.', 'Kuwait',\n",
       "            'Lebanon', 'Malaysia', 'Mongolia', 'Myanmar', 'Nepal', 'Oman',\n",
       "            'Pakistan', 'Philippines', 'Saudi Arabia', 'Singapore',\n",
       "            'Sri Lanka', 'Syria', 'Taiwan', 'Thailand', 'Vietnam',\n",
       "            'West Bank and Gaza', 'Yemen, Rep.'], dtype=object),\n",
       "     'ids': array(['Afghanistan', 'Bahrain', 'Bangladesh', 'Cambodia', 'China',\n",
       "            'Hong Kong, China', 'India', 'Indonesia', 'Iran', 'Iraq', 'Israel',\n",
       "            'Japan', 'Jordan', 'Korea, Dem. Rep.', 'Korea, Rep.', 'Kuwait',\n",
       "            'Lebanon', 'Malaysia', 'Mongolia', 'Myanmar', 'Nepal', 'Oman',\n",
       "            'Pakistan', 'Philippines', 'Saudi Arabia', 'Singapore',\n",
       "            'Sri Lanka', 'Syria', 'Taiwan', 'Thailand', 'Vietnam',\n",
       "            'West Bank and Gaza', 'Yemen, Rep.'], dtype=object),\n",
       "     'legendgroup': 'Asia',\n",
       "     'marker': {'color': '#636efa',\n",
       "      'size': array([ 14880372,    297410,  80428306,   6978607, 943455000,   4583700,\n",
       "             634000000, 136725000,  35480679,  11882916,   3495918, 113872473,\n",
       "               1937652,  16325320,  36436000,   1140357,   3115787,  12845381,\n",
       "               1528000,  31528087,  13933198,   1004533,  78152686,  46850962,\n",
       "               8128505,   2325300,  14116836,   7932503,  16785196,  44148285,\n",
       "              50533506,   1261091,   8403990], dtype=int64),\n",
       "      'sizemode': 'area',\n",
       "      'sizeref': 435928.2961983471,\n",
       "      'symbol': 'circle'},\n",
       "     'mode': 'markers',\n",
       "     'name': 'Asia',\n",
       "     'orientation': 'v',\n",
       "     'showlegend': True,\n",
       "     'x': array([  786.11336  , 19340.10196  ,   659.8772322,   524.9721832,\n",
       "              741.2374699, 11186.14125  ,   813.337323 ,  1382.702056 ,\n",
       "            11888.59508  , 14688.23507  , 13306.61921  , 16610.37701  ,\n",
       "             2852.351568 ,  4106.301249 ,  4657.22102  , 59265.47714  ,\n",
       "             8659.696836 ,  3827.921571 ,  1647.511665 ,   371.       ,\n",
       "              694.1124398, 11848.34392  ,  1175.921193 ,  2373.204287 ,\n",
       "            34167.7626   , 11210.08948  ,  1348.775651 ,  3195.484582 ,\n",
       "             5596.519826 ,  1961.224635 ,   713.5371196,  3682.831494 ,\n",
       "             1829.765177 ]),\n",
       "     'xaxis': 'x',\n",
       "     'y': array([38.438  , 65.593  , 46.923  , 31.22   , 63.96736, 73.6    ,\n",
       "            54.208  , 52.702  , 57.702  , 60.413  , 73.06   , 75.38   ,\n",
       "            61.134  , 67.159  , 64.766  , 69.343  , 66.099  , 65.256  ,\n",
       "            55.491  , 56.059  , 46.748  , 57.367  , 54.043  , 60.06   ,\n",
       "            58.69   , 70.795  , 65.949  , 61.195  , 70.59   , 62.494  ,\n",
       "            55.764  , 60.765  , 44.175  ]),\n",
       "     'yaxis': 'y',\n",
       "     'type': 'scatter'},\n",
       "    {'hovertemplate': '<b>%{hovertext}</b><br><br>continent=Europe<br>year=1977<br>gdpPercap=%{x}<br>lifeExp=%{y}<br>pop=%{marker.size}<extra></extra>',\n",
       "     'hovertext': array(['Albania', 'Austria', 'Belgium', 'Bosnia and Herzegovina',\n",
       "            'Bulgaria', 'Croatia', 'Czech Republic', 'Denmark', 'Finland',\n",
       "            'France', 'Germany', 'Greece', 'Hungary', 'Iceland', 'Ireland',\n",
       "            'Italy', 'Montenegro', 'Netherlands', 'Norway', 'Poland',\n",
       "            'Portugal', 'Romania', 'Serbia', 'Slovak Republic', 'Slovenia',\n",
       "            'Spain', 'Sweden', 'Switzerland', 'Turkey', 'United Kingdom'],\n",
       "           dtype=object),\n",
       "     'ids': array(['Albania', 'Austria', 'Belgium', 'Bosnia and Herzegovina',\n",
       "            'Bulgaria', 'Croatia', 'Czech Republic', 'Denmark', 'Finland',\n",
       "            'France', 'Germany', 'Greece', 'Hungary', 'Iceland', 'Ireland',\n",
       "            'Italy', 'Montenegro', 'Netherlands', 'Norway', 'Poland',\n",
       "            'Portugal', 'Romania', 'Serbia', 'Slovak Republic', 'Slovenia',\n",
       "            'Spain', 'Sweden', 'Switzerland', 'Turkey', 'United Kingdom'],\n",
       "           dtype=object),\n",
       "     'legendgroup': 'Europe',\n",
       "     'marker': {'color': '#EF553B',\n",
       "      'size': array([ 2509048,  7568430,  9821800,  4086000,  8797022,  4318673,\n",
       "             10161915,  5088419,  4738902, 53165019, 78160773,  9308479,\n",
       "             10637171,   221823,  3271900, 56059245,   560073, 13852989,\n",
       "              4043205, 34621254,  9662600, 21658597,  8686367,  4827803,\n",
       "              1746919, 36439000,  8251648,  6316424, 42404033, 56179000],\n",
       "            dtype=int64),\n",
       "      'sizemode': 'area',\n",
       "      'sizeref': 435928.2961983471,\n",
       "      'symbol': 'circle'},\n",
       "     'mode': 'markers',\n",
       "     'name': 'Europe',\n",
       "     'orientation': 'v',\n",
       "     'showlegend': True,\n",
       "     'x': array([ 3533.00391 , 19749.4223  , 19117.97448 ,  3528.481305,\n",
       "             7612.240438, 11305.38517 , 14800.16062 , 20422.9015  ,\n",
       "            15605.42283 , 18292.63514 , 20512.92123 , 14195.52428 ,\n",
       "            11674.83737 , 19654.96247 , 11150.98113 , 14255.98475 ,\n",
       "             9595.929905, 21209.0592  , 23311.34939 ,  9508.141454,\n",
       "            10172.48572 ,  9356.39724 , 12980.66956 , 10922.66404 ,\n",
       "            15277.03017 , 13236.92117 , 18855.72521 , 26982.29052 ,\n",
       "             4269.122326, 17428.74846 ]),\n",
       "     'xaxis': 'x',\n",
       "     'y': array([68.93 , 72.17 , 72.8  , 69.86 , 70.81 , 70.64 , 70.71 , 74.69 ,\n",
       "            72.52 , 73.83 , 72.5  , 73.68 , 69.95 , 76.11 , 72.03 , 73.48 ,\n",
       "            73.066, 75.24 , 75.37 , 70.67 , 70.41 , 69.46 , 70.3  , 70.45 ,\n",
       "            70.97 , 74.39 , 75.44 , 75.39 , 59.507, 72.76 ]),\n",
       "     'yaxis': 'y',\n",
       "     'type': 'scatter'},\n",
       "    {'hovertemplate': '<b>%{hovertext}</b><br><br>continent=Africa<br>year=1977<br>gdpPercap=%{x}<br>lifeExp=%{y}<br>pop=%{marker.size}<extra></extra>',\n",
       "     'hovertext': array(['Algeria', 'Angola', 'Benin', 'Botswana', 'Burkina Faso',\n",
       "            'Burundi', 'Cameroon', 'Central African Republic', 'Chad',\n",
       "            'Comoros', 'Congo, Dem. Rep.', 'Congo, Rep.', \"Cote d'Ivoire\",\n",
       "            'Djibouti', 'Egypt', 'Equatorial Guinea', 'Eritrea', 'Ethiopia',\n",
       "            'Gabon', 'Gambia', 'Ghana', 'Guinea', 'Guinea-Bissau', 'Kenya',\n",
       "            'Lesotho', 'Liberia', 'Libya', 'Madagascar', 'Malawi', 'Mali',\n",
       "            'Mauritania', 'Mauritius', 'Morocco', 'Mozambique', 'Namibia',\n",
       "            'Niger', 'Nigeria', 'Reunion', 'Rwanda', 'Sao Tome and Principe',\n",
       "            'Senegal', 'Sierra Leone', 'Somalia', 'South Africa', 'Sudan',\n",
       "            'Swaziland', 'Tanzania', 'Togo', 'Tunisia', 'Uganda', 'Zambia',\n",
       "            'Zimbabwe'], dtype=object),\n",
       "     'ids': array(['Algeria', 'Angola', 'Benin', 'Botswana', 'Burkina Faso',\n",
       "            'Burundi', 'Cameroon', 'Central African Republic', 'Chad',\n",
       "            'Comoros', 'Congo, Dem. Rep.', 'Congo, Rep.', \"Cote d'Ivoire\",\n",
       "            'Djibouti', 'Egypt', 'Equatorial Guinea', 'Eritrea', 'Ethiopia',\n",
       "            'Gabon', 'Gambia', 'Ghana', 'Guinea', 'Guinea-Bissau', 'Kenya',\n",
       "            'Lesotho', 'Liberia', 'Libya', 'Madagascar', 'Malawi', 'Mali',\n",
       "            'Mauritania', 'Mauritius', 'Morocco', 'Mozambique', 'Namibia',\n",
       "            'Niger', 'Nigeria', 'Reunion', 'Rwanda', 'Sao Tome and Principe',\n",
       "            'Senegal', 'Sierra Leone', 'Somalia', 'South Africa', 'Sudan',\n",
       "            'Swaziland', 'Tanzania', 'Togo', 'Tunisia', 'Uganda', 'Zambia',\n",
       "            'Zimbabwe'], dtype=object),\n",
       "     'legendgroup': 'Africa',\n",
       "     'marker': {'color': '#00cc96',\n",
       "      'size': array([17152804,  6162675,  3168267,   781472,  5889574,  3834415,\n",
       "              7959865,  2167533,  4388260,   304739, 26480870,  1536769,\n",
       "              7459574,   228694, 38783863,   192675,  2512642, 34617799,\n",
       "               706367,   608274, 10538093,  4227026,   745228, 14500404,\n",
       "              1251524,  1703617,  2721783,  8007166,  5637246,  6491649,\n",
       "              1456688,   913025, 18396941, 11127868,   977026,  5682086,\n",
       "             62209173,   492095,  4657072,    86796,  5260855,  3140897,\n",
       "              4353666, 27129932, 17104986,   551425, 17129565,  2308582,\n",
       "              6005061, 11457758,  5216550,  6642107], dtype=int64),\n",
       "      'sizemode': 'area',\n",
       "      'sizeref': 435928.2961983471,\n",
       "      'symbol': 'circle'},\n",
       "     'mode': 'markers',\n",
       "     'name': 'Africa',\n",
       "     'orientation': 'v',\n",
       "     'showlegend': True,\n",
       "     'x': array([ 4910.416756 ,  3008.647355 ,  1029.161251 ,  3214.857818 ,\n",
       "              743.3870368,   556.1032651,  1783.432873 ,  1109.374338 ,\n",
       "             1133.98495  ,  1172.603047 ,   795.757282 ,  3259.178978 ,\n",
       "             2517.736547 ,  3081.761022 ,  2785.493582 ,   958.5668124,\n",
       "              505.7538077,   556.8083834, 21745.57328  ,   884.7552507,\n",
       "              993.2239571,   874.6858643,   764.7259628,  1267.613204 ,\n",
       "              745.3695408,   640.3224383, 21951.21176  ,  1544.228586 ,\n",
       "              663.2236766,   686.3952693,  1497.492223 ,  3710.982963 ,\n",
       "             2370.619976 ,   502.3197334,  3876.485958 ,   808.8970728,\n",
       "             1981.951806 ,  4319.804067 ,   670.0806011,  1737.561657 ,\n",
       "             1561.769116 ,  1348.285159 ,  1450.992513 ,  8028.651439 ,\n",
       "             2202.988423 ,  3781.410618 ,   962.4922932,  1532.776998 ,\n",
       "             3120.876811 ,   843.7331372,  1588.688299 ,   685.5876821]),\n",
       "     'xaxis': 'x',\n",
       "     'y': array([58.014, 39.483, 49.19 , 59.319, 46.137, 45.91 , 49.355, 46.775,\n",
       "            47.383, 50.939, 47.804, 55.625, 52.374, 46.519, 53.319, 42.024,\n",
       "            44.535, 44.51 , 52.79 , 41.842, 51.756, 40.762, 37.465, 56.155,\n",
       "            52.208, 43.764, 57.442, 46.881, 43.767, 41.714, 50.852, 64.93 ,\n",
       "            55.73 , 42.495, 56.437, 41.291, 44.514, 67.064, 45.   , 58.55 ,\n",
       "            48.879, 36.788, 41.974, 55.527, 47.8  , 52.537, 49.919, 52.887,\n",
       "            59.837, 50.35 , 51.386, 57.674]),\n",
       "     'yaxis': 'y',\n",
       "     'type': 'scatter'},\n",
       "    {'hovertemplate': '<b>%{hovertext}</b><br><br>continent=Americas<br>year=1977<br>gdpPercap=%{x}<br>lifeExp=%{y}<br>pop=%{marker.size}<extra></extra>',\n",
       "     'hovertext': array(['Argentina', 'Bolivia', 'Brazil', 'Canada', 'Chile', 'Colombia',\n",
       "            'Costa Rica', 'Cuba', 'Dominican Republic', 'Ecuador',\n",
       "            'El Salvador', 'Guatemala', 'Haiti', 'Honduras', 'Jamaica',\n",
       "            'Mexico', 'Nicaragua', 'Panama', 'Paraguay', 'Peru', 'Puerto Rico',\n",
       "            'Trinidad and Tobago', 'United States', 'Uruguay', 'Venezuela'],\n",
       "           dtype=object),\n",
       "     'ids': array(['Argentina', 'Bolivia', 'Brazil', 'Canada', 'Chile', 'Colombia',\n",
       "            'Costa Rica', 'Cuba', 'Dominican Republic', 'Ecuador',\n",
       "            'El Salvador', 'Guatemala', 'Haiti', 'Honduras', 'Jamaica',\n",
       "            'Mexico', 'Nicaragua', 'Panama', 'Paraguay', 'Peru', 'Puerto Rico',\n",
       "            'Trinidad and Tobago', 'United States', 'Uruguay', 'Venezuela'],\n",
       "           dtype=object),\n",
       "     'legendgroup': 'Americas',\n",
       "     'marker': {'color': '#ab63fa',\n",
       "      'size': array([ 26983828,   5079716, 114313951,  23796400,  10599793,  25094412,\n",
       "               2108457,   9537988,   5302800,   7278866,   4282586,   5703430,\n",
       "               4908554,   3055235,   2156814,  63759976,   2554598,   1839782,\n",
       "               2984494,  15990099,   3080828,   1039009, 220239000,   2873520,\n",
       "              13503563], dtype=int64),\n",
       "      'sizemode': 'area',\n",
       "      'sizeref': 435928.2961983471,\n",
       "      'symbol': 'circle'},\n",
       "     'mode': 'markers',\n",
       "     'name': 'Americas',\n",
       "     'orientation': 'v',\n",
       "     'showlegend': True,\n",
       "     'x': array([10079.02674 ,  3548.097832,  6660.118654, 22090.88306 ,\n",
       "             4756.763836,  3815.80787 ,  5926.876967,  6380.494966,\n",
       "             2681.9889  ,  6679.62326 ,  5138.922374,  4879.992748,\n",
       "             1874.298931,  3203.208066,  6650.195573,  7674.929108,\n",
       "             5486.371089,  5351.912144,  3248.373311,  6281.290855,\n",
       "             9770.524921,  7899.554209, 24072.63213 ,  6504.339663,\n",
       "            13143.95095 ]),\n",
       "     'xaxis': 'x',\n",
       "     'y': array([68.481, 50.023, 61.489, 74.21 , 67.052, 63.837, 70.75 , 72.649,\n",
       "            61.788, 61.31 , 56.696, 56.029, 49.923, 57.402, 70.11 , 65.032,\n",
       "            57.47 , 68.681, 66.353, 58.447, 73.44 , 68.3  , 73.38 , 69.481,\n",
       "            67.456]),\n",
       "     'yaxis': 'y',\n",
       "     'type': 'scatter'},\n",
       "    {'hovertemplate': '<b>%{hovertext}</b><br><br>continent=Oceania<br>year=1977<br>gdpPercap=%{x}<br>lifeExp=%{y}<br>pop=%{marker.size}<extra></extra>',\n",
       "     'hovertext': array(['Australia', 'New Zealand'], dtype=object),\n",
       "     'ids': array(['Australia', 'New Zealand'], dtype=object),\n",
       "     'legendgroup': 'Oceania',\n",
       "     'marker': {'color': '#FFA15A',\n",
       "      'size': array([14074100,  3164900], dtype=int64),\n",
       "      'sizemode': 'area',\n",
       "      'sizeref': 435928.2961983471,\n",
       "      'symbol': 'circle'},\n",
       "     'mode': 'markers',\n",
       "     'name': 'Oceania',\n",
       "     'orientation': 'v',\n",
       "     'showlegend': True,\n",
       "     'x': array([18334.19751, 16233.7177 ]),\n",
       "     'xaxis': 'x',\n",
       "     'y': array([73.49, 72.22]),\n",
       "     'yaxis': 'y',\n",
       "     'type': 'scatter'}],\n",
       "   'name': '1977'},\n",
       "  {'data': [{'hovertemplate': '<b>%{hovertext}</b><br><br>continent=Asia<br>year=1982<br>gdpPercap=%{x}<br>lifeExp=%{y}<br>pop=%{marker.size}<extra></extra>',\n",
       "     'hovertext': array(['Afghanistan', 'Bahrain', 'Bangladesh', 'Cambodia', 'China',\n",
       "            'Hong Kong, China', 'India', 'Indonesia', 'Iran', 'Iraq', 'Israel',\n",
       "            'Japan', 'Jordan', 'Korea, Dem. Rep.', 'Korea, Rep.', 'Kuwait',\n",
       "            'Lebanon', 'Malaysia', 'Mongolia', 'Myanmar', 'Nepal', 'Oman',\n",
       "            'Pakistan', 'Philippines', 'Saudi Arabia', 'Singapore',\n",
       "            'Sri Lanka', 'Syria', 'Taiwan', 'Thailand', 'Vietnam',\n",
       "            'West Bank and Gaza', 'Yemen, Rep.'], dtype=object),\n",
       "     'ids': array(['Afghanistan', 'Bahrain', 'Bangladesh', 'Cambodia', 'China',\n",
       "            'Hong Kong, China', 'India', 'Indonesia', 'Iran', 'Iraq', 'Israel',\n",
       "            'Japan', 'Jordan', 'Korea, Dem. Rep.', 'Korea, Rep.', 'Kuwait',\n",
       "            'Lebanon', 'Malaysia', 'Mongolia', 'Myanmar', 'Nepal', 'Oman',\n",
       "            'Pakistan', 'Philippines', 'Saudi Arabia', 'Singapore',\n",
       "            'Sri Lanka', 'Syria', 'Taiwan', 'Thailand', 'Vietnam',\n",
       "            'West Bank and Gaza', 'Yemen, Rep.'], dtype=object),\n",
       "     'legendgroup': 'Asia',\n",
       "     'marker': {'color': '#636efa',\n",
       "      'size': array([  12881816,     377967,   93074406,    7272485, 1000281000,\n",
       "                5264500,  708000000,  153343000,   43072751,   14173318,\n",
       "                3858421,  118454974,    2347031,   17647518,   39326000,\n",
       "                1497494,    3086876,   14441916,    1756032,   34680442,\n",
       "               15796314,    1301048,   91462088,   53456774,   11254672,\n",
       "                2651869,   15410151,    9410494,   18501390,   48827160,\n",
       "               56142181,    1425876,    9657618], dtype=int64),\n",
       "      'sizemode': 'area',\n",
       "      'sizeref': 435928.2961983471,\n",
       "      'symbol': 'circle'},\n",
       "     'mode': 'markers',\n",
       "     'name': 'Asia',\n",
       "     'orientation': 'v',\n",
       "     'showlegend': True,\n",
       "     'x': array([  978.0114388, 19211.14731  ,   676.9818656,   624.4754784,\n",
       "              962.4213805, 14560.53051  ,   855.7235377,  1516.872988 ,\n",
       "             7608.334602 , 14517.90711  , 15367.0292   , 19384.10571  ,\n",
       "             4161.415959 ,  4106.525293 ,  5622.942464 , 31354.03573  ,\n",
       "             7640.519521 ,  4920.355951 ,  2000.603139 ,   424.       ,\n",
       "              718.3730947, 12954.79101  ,  1443.429832 ,  2603.273765 ,\n",
       "            33693.17525  , 15169.16112  ,  1648.079789 ,  3761.837715 ,\n",
       "             7426.354774 ,  2393.219781 ,   707.2357863,  4336.032082 ,\n",
       "             1977.55701  ]),\n",
       "     'xaxis': 'x',\n",
       "     'y': array([39.854, 69.052, 50.009, 50.957, 65.525, 75.45 , 56.596, 56.159,\n",
       "            59.62 , 62.038, 74.45 , 77.11 , 63.739, 69.1  , 67.123, 71.309,\n",
       "            66.983, 68.   , 57.489, 58.056, 49.594, 62.728, 56.158, 62.082,\n",
       "            63.012, 71.76 , 68.757, 64.59 , 72.16 , 64.597, 58.816, 64.406,\n",
       "            49.113]),\n",
       "     'yaxis': 'y',\n",
       "     'type': 'scatter'},\n",
       "    {'hovertemplate': '<b>%{hovertext}</b><br><br>continent=Europe<br>year=1982<br>gdpPercap=%{x}<br>lifeExp=%{y}<br>pop=%{marker.size}<extra></extra>',\n",
       "     'hovertext': array(['Albania', 'Austria', 'Belgium', 'Bosnia and Herzegovina',\n",
       "            'Bulgaria', 'Croatia', 'Czech Republic', 'Denmark', 'Finland',\n",
       "            'France', 'Germany', 'Greece', 'Hungary', 'Iceland', 'Ireland',\n",
       "            'Italy', 'Montenegro', 'Netherlands', 'Norway', 'Poland',\n",
       "            'Portugal', 'Romania', 'Serbia', 'Slovak Republic', 'Slovenia',\n",
       "            'Spain', 'Sweden', 'Switzerland', 'Turkey', 'United Kingdom'],\n",
       "           dtype=object),\n",
       "     'ids': array(['Albania', 'Austria', 'Belgium', 'Bosnia and Herzegovina',\n",
       "            'Bulgaria', 'Croatia', 'Czech Republic', 'Denmark', 'Finland',\n",
       "            'France', 'Germany', 'Greece', 'Hungary', 'Iceland', 'Ireland',\n",
       "            'Italy', 'Montenegro', 'Netherlands', 'Norway', 'Poland',\n",
       "            'Portugal', 'Romania', 'Serbia', 'Slovak Republic', 'Slovenia',\n",
       "            'Spain', 'Sweden', 'Switzerland', 'Turkey', 'United Kingdom'],\n",
       "           dtype=object),\n",
       "     'legendgroup': 'Europe',\n",
       "     'marker': {'color': '#EF553B',\n",
       "      'size': array([ 2780097,  7574613,  9856303,  4172693,  8892098,  4413368,\n",
       "             10303704,  5117810,  4826933, 54433565, 78335266,  9786480,\n",
       "             10705535,   233997,  3480000, 56535636,   562548, 14310401,\n",
       "              4114787, 36227381,  9859650, 22356726,  9032824,  5048043,\n",
       "              1861252, 37983310,  8325260,  6468126, 47328791, 56339704],\n",
       "            dtype=int64),\n",
       "      'sizemode': 'area',\n",
       "      'sizeref': 435928.2961983471,\n",
       "      'symbol': 'circle'},\n",
       "     'mode': 'markers',\n",
       "     'name': 'Europe',\n",
       "     'orientation': 'v',\n",
       "     'showlegend': True,\n",
       "     'x': array([ 3630.880722, 21597.08362 , 20979.84589 ,  4126.613157,\n",
       "             8224.191647, 13221.82184 , 15377.22855 , 21688.04048 ,\n",
       "            18533.15761 , 20293.89746 , 22031.53274 , 15268.42089 ,\n",
       "            12545.99066 , 23269.6075  , 12618.32141 , 16537.4835  ,\n",
       "            11222.58762 , 21399.46046 , 26298.63531 ,  8451.531004,\n",
       "            11753.84291 ,  9605.314053, 15181.0927  , 11348.54585 ,\n",
       "            17866.72175 , 13926.16997 , 20667.38125 , 28397.71512 ,\n",
       "             4241.356344, 18232.42452 ]),\n",
       "     'xaxis': 'x',\n",
       "     'y': array([70.42 , 73.18 , 73.93 , 70.69 , 71.08 , 70.46 , 70.96 , 74.63 ,\n",
       "            74.55 , 74.89 , 73.8  , 75.24 , 69.39 , 76.99 , 73.1  , 74.98 ,\n",
       "            74.101, 76.05 , 75.97 , 71.32 , 72.77 , 69.66 , 70.162, 70.8  ,\n",
       "            71.063, 76.3  , 76.42 , 76.21 , 61.036, 74.04 ]),\n",
       "     'yaxis': 'y',\n",
       "     'type': 'scatter'},\n",
       "    {'hovertemplate': '<b>%{hovertext}</b><br><br>continent=Africa<br>year=1982<br>gdpPercap=%{x}<br>lifeExp=%{y}<br>pop=%{marker.size}<extra></extra>',\n",
       "     'hovertext': array(['Algeria', 'Angola', 'Benin', 'Botswana', 'Burkina Faso',\n",
       "            'Burundi', 'Cameroon', 'Central African Republic', 'Chad',\n",
       "            'Comoros', 'Congo, Dem. Rep.', 'Congo, Rep.', \"Cote d'Ivoire\",\n",
       "            'Djibouti', 'Egypt', 'Equatorial Guinea', 'Eritrea', 'Ethiopia',\n",
       "            'Gabon', 'Gambia', 'Ghana', 'Guinea', 'Guinea-Bissau', 'Kenya',\n",
       "            'Lesotho', 'Liberia', 'Libya', 'Madagascar', 'Malawi', 'Mali',\n",
       "            'Mauritania', 'Mauritius', 'Morocco', 'Mozambique', 'Namibia',\n",
       "            'Niger', 'Nigeria', 'Reunion', 'Rwanda', 'Sao Tome and Principe',\n",
       "            'Senegal', 'Sierra Leone', 'Somalia', 'South Africa', 'Sudan',\n",
       "            'Swaziland', 'Tanzania', 'Togo', 'Tunisia', 'Uganda', 'Zambia',\n",
       "            'Zimbabwe'], dtype=object),\n",
       "     'ids': array(['Algeria', 'Angola', 'Benin', 'Botswana', 'Burkina Faso',\n",
       "            'Burundi', 'Cameroon', 'Central African Republic', 'Chad',\n",
       "            'Comoros', 'Congo, Dem. Rep.', 'Congo, Rep.', \"Cote d'Ivoire\",\n",
       "            'Djibouti', 'Egypt', 'Equatorial Guinea', 'Eritrea', 'Ethiopia',\n",
       "            'Gabon', 'Gambia', 'Ghana', 'Guinea', 'Guinea-Bissau', 'Kenya',\n",
       "            'Lesotho', 'Liberia', 'Libya', 'Madagascar', 'Malawi', 'Mali',\n",
       "            'Mauritania', 'Mauritius', 'Morocco', 'Mozambique', 'Namibia',\n",
       "            'Niger', 'Nigeria', 'Reunion', 'Rwanda', 'Sao Tome and Principe',\n",
       "            'Senegal', 'Sierra Leone', 'Somalia', 'South Africa', 'Sudan',\n",
       "            'Swaziland', 'Tanzania', 'Togo', 'Tunisia', 'Uganda', 'Zambia',\n",
       "            'Zimbabwe'], dtype=object),\n",
       "     'legendgroup': 'Africa',\n",
       "     'marker': {'color': '#00cc96',\n",
       "      'size': array([20033753,  7016384,  3641603,   970347,  6634596,  4580410,\n",
       "              9250831,  2476971,  4875118,   348643, 30646495,  1774735,\n",
       "              9025951,   305991, 45681811,   285483,  2637297, 38111756,\n",
       "               753874,   715523, 11400338,  4710497,   825987, 17661452,\n",
       "              1411807,  1956875,  3344074,  9171477,  6502825,  6998256,\n",
       "              1622136,   992040, 20198730, 12587223,  1099010,  6437188,\n",
       "             73039376,   517810,  5507565,    98593,  6147783,  3464522,\n",
       "              5828892, 31140029, 20367053,   649901, 19844382,  2644765,\n",
       "              6734098, 12939400,  6100407,  7636524], dtype=int64),\n",
       "      'sizemode': 'area',\n",
       "      'sizeref': 435928.2961983471,\n",
       "      'symbol': 'circle'},\n",
       "     'mode': 'markers',\n",
       "     'name': 'Africa',\n",
       "     'orientation': 'v',\n",
       "     'showlegend': True,\n",
       "     'x': array([ 5745.160213 ,  2756.953672 ,  1277.897616 ,  4551.14215  ,\n",
       "              807.1985855,   559.603231 ,  2367.983282 ,   956.7529907,\n",
       "              797.9081006,  1267.100083 ,   673.7478181,  4879.507522 ,\n",
       "             2602.710169 ,  2879.468067 ,  3503.729636 ,   927.8253427,\n",
       "              524.8758493,   577.8607471, 15113.36194  ,   835.8096108,\n",
       "              876.032569 ,   857.2503577,   838.1239671,  1348.225791 ,\n",
       "              797.2631074,   572.1995694, 17364.27538  ,  1302.878658 ,\n",
       "              632.8039209,   618.0140641,  1481.150189 ,  3688.037739 ,\n",
       "             2702.620356 ,   462.2114149,  4191.100511 ,   909.7221354,\n",
       "             1576.97375  ,  5267.219353 ,   881.5706467,  1890.218117 ,\n",
       "             1518.479984 ,  1465.010784 ,  1176.807031 ,  8568.266228 ,\n",
       "             1895.544073 ,  3895.384018 ,   874.2426069,  1344.577953 ,\n",
       "             3560.233174 ,   682.2662268,  1408.678565 ,   788.8550411]),\n",
       "     'xaxis': 'x',\n",
       "     'y': array([61.368, 39.942, 50.904, 61.484, 48.122, 47.471, 52.961, 48.295,\n",
       "            49.517, 52.933, 47.784, 56.695, 53.983, 48.812, 56.006, 43.662,\n",
       "            43.89 , 44.916, 56.564, 45.58 , 53.744, 42.891, 39.327, 58.766,\n",
       "            55.078, 44.852, 62.155, 48.969, 45.642, 43.916, 53.599, 66.711,\n",
       "            59.65 , 42.795, 58.968, 42.598, 45.826, 69.885, 46.218, 60.351,\n",
       "            52.379, 38.445, 42.955, 58.161, 50.338, 55.561, 50.608, 55.471,\n",
       "            64.048, 49.849, 51.821, 60.363]),\n",
       "     'yaxis': 'y',\n",
       "     'type': 'scatter'},\n",
       "    {'hovertemplate': '<b>%{hovertext}</b><br><br>continent=Americas<br>year=1982<br>gdpPercap=%{x}<br>lifeExp=%{y}<br>pop=%{marker.size}<extra></extra>',\n",
       "     'hovertext': array(['Argentina', 'Bolivia', 'Brazil', 'Canada', 'Chile', 'Colombia',\n",
       "            'Costa Rica', 'Cuba', 'Dominican Republic', 'Ecuador',\n",
       "            'El Salvador', 'Guatemala', 'Haiti', 'Honduras', 'Jamaica',\n",
       "            'Mexico', 'Nicaragua', 'Panama', 'Paraguay', 'Peru', 'Puerto Rico',\n",
       "            'Trinidad and Tobago', 'United States', 'Uruguay', 'Venezuela'],\n",
       "           dtype=object),\n",
       "     'ids': array(['Argentina', 'Bolivia', 'Brazil', 'Canada', 'Chile', 'Colombia',\n",
       "            'Costa Rica', 'Cuba', 'Dominican Republic', 'Ecuador',\n",
       "            'El Salvador', 'Guatemala', 'Haiti', 'Honduras', 'Jamaica',\n",
       "            'Mexico', 'Nicaragua', 'Panama', 'Paraguay', 'Peru', 'Puerto Rico',\n",
       "            'Trinidad and Tobago', 'United States', 'Uruguay', 'Venezuela'],\n",
       "           dtype=object),\n",
       "     'legendgroup': 'Americas',\n",
       "     'marker': {'color': '#ab63fa',\n",
       "      'size': array([ 29341374,   5642224, 128962939,  25201900,  11487112,  27764644,\n",
       "               2424367,   9789224,   5968349,   8365850,   4474873,   6395630,\n",
       "               5198399,   3669448,   2298309,  71640904,   2979423,   2036305,\n",
       "               3366439,  18125129,   3279001,   1116479, 232187835,   2953997,\n",
       "              15620766], dtype=int64),\n",
       "      'sizemode': 'area',\n",
       "      'sizeref': 435928.2961983471,\n",
       "      'symbol': 'circle'},\n",
       "     'mode': 'markers',\n",
       "     'name': 'Americas',\n",
       "     'orientation': 'v',\n",
       "     'showlegend': True,\n",
       "     'x': array([ 8997.897412,  3156.510452,  7030.835878, 22898.79214 ,\n",
       "             5095.665738,  4397.575659,  5262.734751,  7316.918107,\n",
       "             2861.092386,  7213.791267,  4098.344175,  4820.49479 ,\n",
       "             2011.159549,  3121.760794,  6068.05135 ,  9611.147541,\n",
       "             3470.338156,  7009.601598,  4258.503604,  6434.501797,\n",
       "            10330.98915 ,  9119.528607, 25009.55914 ,  6920.223051,\n",
       "            11152.41011 ]),\n",
       "     'xaxis': 'x',\n",
       "     'y': array([69.942, 53.859, 63.336, 75.76 , 70.565, 66.653, 73.45 , 73.717,\n",
       "            63.727, 64.342, 56.604, 58.137, 51.461, 60.909, 71.21 , 67.405,\n",
       "            59.298, 70.472, 66.874, 61.406, 73.75 , 68.832, 74.65 , 70.805,\n",
       "            68.557]),\n",
       "     'yaxis': 'y',\n",
       "     'type': 'scatter'},\n",
       "    {'hovertemplate': '<b>%{hovertext}</b><br><br>continent=Oceania<br>year=1982<br>gdpPercap=%{x}<br>lifeExp=%{y}<br>pop=%{marker.size}<extra></extra>',\n",
       "     'hovertext': array(['Australia', 'New Zealand'], dtype=object),\n",
       "     'ids': array(['Australia', 'New Zealand'], dtype=object),\n",
       "     'legendgroup': 'Oceania',\n",
       "     'marker': {'color': '#FFA15A',\n",
       "      'size': array([15184200,  3210650], dtype=int64),\n",
       "      'sizemode': 'area',\n",
       "      'sizeref': 435928.2961983471,\n",
       "      'symbol': 'circle'},\n",
       "     'mode': 'markers',\n",
       "     'name': 'Oceania',\n",
       "     'orientation': 'v',\n",
       "     'showlegend': True,\n",
       "     'x': array([19477.00928, 17632.4104 ]),\n",
       "     'xaxis': 'x',\n",
       "     'y': array([74.74, 73.84]),\n",
       "     'yaxis': 'y',\n",
       "     'type': 'scatter'}],\n",
       "   'name': '1982'},\n",
       "  {'data': [{'hovertemplate': '<b>%{hovertext}</b><br><br>continent=Asia<br>year=1987<br>gdpPercap=%{x}<br>lifeExp=%{y}<br>pop=%{marker.size}<extra></extra>',\n",
       "     'hovertext': array(['Afghanistan', 'Bahrain', 'Bangladesh', 'Cambodia', 'China',\n",
       "            'Hong Kong, China', 'India', 'Indonesia', 'Iran', 'Iraq', 'Israel',\n",
       "            'Japan', 'Jordan', 'Korea, Dem. Rep.', 'Korea, Rep.', 'Kuwait',\n",
       "            'Lebanon', 'Malaysia', 'Mongolia', 'Myanmar', 'Nepal', 'Oman',\n",
       "            'Pakistan', 'Philippines', 'Saudi Arabia', 'Singapore',\n",
       "            'Sri Lanka', 'Syria', 'Taiwan', 'Thailand', 'Vietnam',\n",
       "            'West Bank and Gaza', 'Yemen, Rep.'], dtype=object),\n",
       "     'ids': array(['Afghanistan', 'Bahrain', 'Bangladesh', 'Cambodia', 'China',\n",
       "            'Hong Kong, China', 'India', 'Indonesia', 'Iran', 'Iraq', 'Israel',\n",
       "            'Japan', 'Jordan', 'Korea, Dem. Rep.', 'Korea, Rep.', 'Kuwait',\n",
       "            'Lebanon', 'Malaysia', 'Mongolia', 'Myanmar', 'Nepal', 'Oman',\n",
       "            'Pakistan', 'Philippines', 'Saudi Arabia', 'Singapore',\n",
       "            'Sri Lanka', 'Syria', 'Taiwan', 'Thailand', 'Vietnam',\n",
       "            'West Bank and Gaza', 'Yemen, Rep.'], dtype=object),\n",
       "     'legendgroup': 'Asia',\n",
       "     'marker': {'color': '#636efa',\n",
       "      'size': array([  13867957,     454612,  103764241,    8371791, 1084035000,\n",
       "                5584510,  788000000,  169276000,   51889696,   16543189,\n",
       "                4203148,  122091325,    2820042,   19067554,   41622000,\n",
       "                1891487,    3089353,   16331785,    2015133,   38028578,\n",
       "               17917180,    1593882,  105186881,   60017788,   14619745,\n",
       "                2794552,   16495304,   11242847,   19757799,   52910342,\n",
       "               62826491,    1691210,   11219340], dtype=int64),\n",
       "      'sizemode': 'area',\n",
       "      'sizeref': 435928.2961983471,\n",
       "      'symbol': 'circle'},\n",
       "     'mode': 'markers',\n",
       "     'name': 'Asia',\n",
       "     'orientation': 'v',\n",
       "     'showlegend': True,\n",
       "     'x': array([  852.3959448, 18524.02406  ,   751.9794035,   683.8955732,\n",
       "             1378.904018 , 20038.47269  ,   976.5126756,  1748.356961 ,\n",
       "             6642.881371 , 11643.57268  , 17122.47986  , 22375.94189  ,\n",
       "             4448.679912 ,  4106.492315 ,  8533.088805 , 28118.42998  ,\n",
       "             5377.091329 ,  5249.802653 ,  2338.008304 ,   385.       ,\n",
       "              775.6324501, 18115.22313  ,  1704.686583 ,  2189.634995 ,\n",
       "            21198.26136  , 18861.53081  ,  1876.766827 ,  3116.774285 ,\n",
       "            11054.56175  ,  2982.653773 ,   820.7994449,  5107.197384 ,\n",
       "             1971.741538 ]),\n",
       "     'xaxis': 'x',\n",
       "     'y': array([40.822, 70.75 , 52.819, 53.914, 67.274, 76.2  , 58.553, 60.137,\n",
       "            63.04 , 65.044, 75.6  , 78.67 , 65.869, 70.647, 69.81 , 74.174,\n",
       "            67.926, 69.5  , 60.222, 58.339, 52.537, 67.734, 58.245, 64.151,\n",
       "            66.295, 73.56 , 69.011, 66.974, 73.4  , 66.084, 62.82 , 67.046,\n",
       "            52.922]),\n",
       "     'yaxis': 'y',\n",
       "     'type': 'scatter'},\n",
       "    {'hovertemplate': '<b>%{hovertext}</b><br><br>continent=Europe<br>year=1987<br>gdpPercap=%{x}<br>lifeExp=%{y}<br>pop=%{marker.size}<extra></extra>',\n",
       "     'hovertext': array(['Albania', 'Austria', 'Belgium', 'Bosnia and Herzegovina',\n",
       "            'Bulgaria', 'Croatia', 'Czech Republic', 'Denmark', 'Finland',\n",
       "            'France', 'Germany', 'Greece', 'Hungary', 'Iceland', 'Ireland',\n",
       "            'Italy', 'Montenegro', 'Netherlands', 'Norway', 'Poland',\n",
       "            'Portugal', 'Romania', 'Serbia', 'Slovak Republic', 'Slovenia',\n",
       "            'Spain', 'Sweden', 'Switzerland', 'Turkey', 'United Kingdom'],\n",
       "           dtype=object),\n",
       "     'ids': array(['Albania', 'Austria', 'Belgium', 'Bosnia and Herzegovina',\n",
       "            'Bulgaria', 'Croatia', 'Czech Republic', 'Denmark', 'Finland',\n",
       "            'France', 'Germany', 'Greece', 'Hungary', 'Iceland', 'Ireland',\n",
       "            'Italy', 'Montenegro', 'Netherlands', 'Norway', 'Poland',\n",
       "            'Portugal', 'Romania', 'Serbia', 'Slovak Republic', 'Slovenia',\n",
       "            'Spain', 'Sweden', 'Switzerland', 'Turkey', 'United Kingdom'],\n",
       "           dtype=object),\n",
       "     'legendgroup': 'Europe',\n",
       "     'marker': {'color': '#EF553B',\n",
       "      'size': array([ 3075321,  7578903,  9870200,  4338977,  8971958,  4484310,\n",
       "             10311597,  5127024,  4931729, 55630100, 77718298,  9974490,\n",
       "             10612740,   244676,  3539900, 56729703,   569473, 14665278,\n",
       "              4186147, 37740710,  9915289, 22686371,  9230783,  5199318,\n",
       "              1945870, 38880702,  8421403,  6649942, 52881328, 56981620],\n",
       "            dtype=int64),\n",
       "      'sizemode': 'area',\n",
       "      'sizeref': 435928.2961983471,\n",
       "      'symbol': 'circle'},\n",
       "     'mode': 'markers',\n",
       "     'name': 'Europe',\n",
       "     'orientation': 'v',\n",
       "     'showlegend': True,\n",
       "     'x': array([ 3738.932735, 23687.82607 , 22525.56308 ,  4314.114757,\n",
       "             8239.854824, 13822.58394 , 16310.4434  , 25116.17581 ,\n",
       "            21141.01223 , 22066.44214 , 24639.18566 , 16120.52839 ,\n",
       "            12986.47998 , 26923.20628 , 13872.86652 , 19207.23482 ,\n",
       "            11732.51017 , 23651.32361 , 31540.9748  ,  9082.351172,\n",
       "            13039.30876 ,  9696.273295, 15870.87851 , 12037.26758 ,\n",
       "            18678.53492 , 15764.98313 , 23586.92927 , 30281.70459 ,\n",
       "             5089.043686, 21664.78767 ]),\n",
       "     'xaxis': 'x',\n",
       "     'y': array([72.   , 74.94 , 75.35 , 71.14 , 71.34 , 71.52 , 71.58 , 74.8  ,\n",
       "            74.83 , 76.34 , 74.847, 76.67 , 69.58 , 77.23 , 74.36 , 76.42 ,\n",
       "            74.865, 76.83 , 75.89 , 70.98 , 74.06 , 69.53 , 71.218, 71.08 ,\n",
       "            72.25 , 76.9  , 77.19 , 77.41 , 63.108, 75.007]),\n",
       "     'yaxis': 'y',\n",
       "     'type': 'scatter'},\n",
       "    {'hovertemplate': '<b>%{hovertext}</b><br><br>continent=Africa<br>year=1987<br>gdpPercap=%{x}<br>lifeExp=%{y}<br>pop=%{marker.size}<extra></extra>',\n",
       "     'hovertext': array(['Algeria', 'Angola', 'Benin', 'Botswana', 'Burkina Faso',\n",
       "            'Burundi', 'Cameroon', 'Central African Republic', 'Chad',\n",
       "            'Comoros', 'Congo, Dem. Rep.', 'Congo, Rep.', \"Cote d'Ivoire\",\n",
       "            'Djibouti', 'Egypt', 'Equatorial Guinea', 'Eritrea', 'Ethiopia',\n",
       "            'Gabon', 'Gambia', 'Ghana', 'Guinea', 'Guinea-Bissau', 'Kenya',\n",
       "            'Lesotho', 'Liberia', 'Libya', 'Madagascar', 'Malawi', 'Mali',\n",
       "            'Mauritania', 'Mauritius', 'Morocco', 'Mozambique', 'Namibia',\n",
       "            'Niger', 'Nigeria', 'Reunion', 'Rwanda', 'Sao Tome and Principe',\n",
       "            'Senegal', 'Sierra Leone', 'Somalia', 'South Africa', 'Sudan',\n",
       "            'Swaziland', 'Tanzania', 'Togo', 'Tunisia', 'Uganda', 'Zambia',\n",
       "            'Zimbabwe'], dtype=object),\n",
       "     'ids': array(['Algeria', 'Angola', 'Benin', 'Botswana', 'Burkina Faso',\n",
       "            'Burundi', 'Cameroon', 'Central African Republic', 'Chad',\n",
       "            'Comoros', 'Congo, Dem. Rep.', 'Congo, Rep.', \"Cote d'Ivoire\",\n",
       "            'Djibouti', 'Egypt', 'Equatorial Guinea', 'Eritrea', 'Ethiopia',\n",
       "            'Gabon', 'Gambia', 'Ghana', 'Guinea', 'Guinea-Bissau', 'Kenya',\n",
       "            'Lesotho', 'Liberia', 'Libya', 'Madagascar', 'Malawi', 'Mali',\n",
       "            'Mauritania', 'Mauritius', 'Morocco', 'Mozambique', 'Namibia',\n",
       "            'Niger', 'Nigeria', 'Reunion', 'Rwanda', 'Sao Tome and Principe',\n",
       "            'Senegal', 'Sierra Leone', 'Somalia', 'South Africa', 'Sudan',\n",
       "            'Swaziland', 'Tanzania', 'Togo', 'Tunisia', 'Uganda', 'Zambia',\n",
       "            'Zimbabwe'], dtype=object),\n",
       "     'legendgroup': 'Africa',\n",
       "     'marker': {'color': '#00cc96',\n",
       "      'size': array([23254956,  7874230,  4243788,  1151184,  7586551,  5126023,\n",
       "             10780667,  2840009,  5498955,   395114, 35481645,  2064095,\n",
       "             10761098,   311025, 52799062,   341244,  2915959, 42999530,\n",
       "               880397,   848406, 14168101,  5650262,   927524, 21198082,\n",
       "              1599200,  2269414,  3799845, 10568642,  7824747,  7634008,\n",
       "              1841240,  1042663, 22987397, 12891952,  1278184,  7332638,\n",
       "             81551520,   562035,  6349365,   110812,  7171347,  3868905,\n",
       "              6921858, 35933379, 24725960,   779348, 23040630,  3154264,\n",
       "              7724976, 15283050,  7272406,  9216418], dtype=int64),\n",
       "      'sizemode': 'area',\n",
       "      'sizeref': 435928.2961983471,\n",
       "      'symbol': 'circle'},\n",
       "     'mode': 'markers',\n",
       "     'name': 'Africa',\n",
       "     'orientation': 'v',\n",
       "     'showlegend': True,\n",
       "     'x': array([ 5681.358539 ,  2430.208311 ,  1225.85601  ,  6205.88385  ,\n",
       "              912.0631417,   621.8188189,  2602.664206 ,   844.8763504,\n",
       "              952.386129 ,  1315.980812 ,   672.774812 ,  4201.194937 ,\n",
       "             2156.956069 ,  2880.102568 ,  3885.46071  ,   966.8968149,\n",
       "              521.1341333,   573.7413142, 11864.40844  ,   611.6588611,\n",
       "              847.0061135,   805.5724718,   736.4153921,  1361.936856 ,\n",
       "              773.9932141,   506.1138573, 11770.5898   ,  1155.441948 ,\n",
       "              635.5173634,   684.1715576,  1421.603576 ,  4783.586903 ,\n",
       "             2755.046991 ,   389.8761846,  3693.731337 ,   668.3000228,\n",
       "             1385.029563 ,  5303.377488 ,   847.991217 ,  1516.525457 ,\n",
       "             1441.72072  ,  1294.447788 ,  1093.244963 ,  7825.823398 ,\n",
       "             1507.819159 ,  3984.839812 ,   831.8220794,  1202.201361 ,\n",
       "             3810.419296 ,   617.7244065,  1213.315116 ,   706.1573059]),\n",
       "     'xaxis': 'x',\n",
       "     'y': array([65.799, 39.906, 52.337, 63.622, 49.557, 48.211, 54.985, 50.485,\n",
       "            51.051, 54.926, 47.412, 57.47 , 54.655, 50.04 , 59.797, 45.664,\n",
       "            46.453, 46.684, 60.19 , 49.265, 55.729, 45.552, 41.245, 59.339,\n",
       "            57.18 , 46.027, 66.234, 49.35 , 47.457, 46.364, 56.145, 68.74 ,\n",
       "            62.677, 42.861, 60.835, 44.555, 46.886, 71.913, 44.02 , 61.728,\n",
       "            55.769, 40.006, 44.501, 60.834, 51.744, 57.678, 51.535, 56.941,\n",
       "            66.894, 51.509, 50.821, 62.351]),\n",
       "     'yaxis': 'y',\n",
       "     'type': 'scatter'},\n",
       "    {'hovertemplate': '<b>%{hovertext}</b><br><br>continent=Americas<br>year=1987<br>gdpPercap=%{x}<br>lifeExp=%{y}<br>pop=%{marker.size}<extra></extra>',\n",
       "     'hovertext': array(['Argentina', 'Bolivia', 'Brazil', 'Canada', 'Chile', 'Colombia',\n",
       "            'Costa Rica', 'Cuba', 'Dominican Republic', 'Ecuador',\n",
       "            'El Salvador', 'Guatemala', 'Haiti', 'Honduras', 'Jamaica',\n",
       "            'Mexico', 'Nicaragua', 'Panama', 'Paraguay', 'Peru', 'Puerto Rico',\n",
       "            'Trinidad and Tobago', 'United States', 'Uruguay', 'Venezuela'],\n",
       "           dtype=object),\n",
       "     'ids': array(['Argentina', 'Bolivia', 'Brazil', 'Canada', 'Chile', 'Colombia',\n",
       "            'Costa Rica', 'Cuba', 'Dominican Republic', 'Ecuador',\n",
       "            'El Salvador', 'Guatemala', 'Haiti', 'Honduras', 'Jamaica',\n",
       "            'Mexico', 'Nicaragua', 'Panama', 'Paraguay', 'Peru', 'Puerto Rico',\n",
       "            'Trinidad and Tobago', 'United States', 'Uruguay', 'Venezuela'],\n",
       "           dtype=object),\n",
       "     'legendgroup': 'Americas',\n",
       "     'marker': {'color': '#ab63fa',\n",
       "      'size': array([ 31620918,   6156369, 142938076,  26549700,  12463354,  30964245,\n",
       "               2799811,  10239839,   6655297,   9545158,   4842194,   7326406,\n",
       "               5756203,   4372203,   2326606,  80122492,   3344353,   2253639,\n",
       "               3886512,  20195924,   3444468,   1191336, 242803533,   3045153,\n",
       "              17910182], dtype=int64),\n",
       "      'sizemode': 'area',\n",
       "      'sizeref': 435928.2961983471,\n",
       "      'symbol': 'circle'},\n",
       "     'mode': 'markers',\n",
       "     'name': 'Americas',\n",
       "     'orientation': 'v',\n",
       "     'showlegend': True,\n",
       "     'x': array([ 9139.671389,  2753.69149 ,  7807.095818, 26626.51503 ,\n",
       "             5547.063754,  4903.2191  ,  5629.915318,  7532.924763,\n",
       "             2899.842175,  6481.776993,  4140.442097,  4246.485974,\n",
       "             1823.015995,  3023.096699,  6351.237495,  8688.156003,\n",
       "             2955.984375,  7034.779161,  3998.875695,  6360.943444,\n",
       "            12281.34191 ,  7388.597823, 29884.35041 ,  7452.398969,\n",
       "             9883.584648]),\n",
       "     'xaxis': 'x',\n",
       "     'y': array([70.774, 57.251, 65.205, 76.86 , 72.492, 67.768, 74.752, 74.174,\n",
       "            66.046, 67.231, 63.154, 60.782, 53.636, 64.492, 71.77 , 69.498,\n",
       "            62.008, 71.523, 67.378, 64.134, 74.63 , 69.582, 75.02 , 71.918,\n",
       "            70.19 ]),\n",
       "     'yaxis': 'y',\n",
       "     'type': 'scatter'},\n",
       "    {'hovertemplate': '<b>%{hovertext}</b><br><br>continent=Oceania<br>year=1987<br>gdpPercap=%{x}<br>lifeExp=%{y}<br>pop=%{marker.size}<extra></extra>',\n",
       "     'hovertext': array(['Australia', 'New Zealand'], dtype=object),\n",
       "     'ids': array(['Australia', 'New Zealand'], dtype=object),\n",
       "     'legendgroup': 'Oceania',\n",
       "     'marker': {'color': '#FFA15A',\n",
       "      'size': array([16257249,  3317166], dtype=int64),\n",
       "      'sizemode': 'area',\n",
       "      'sizeref': 435928.2961983471,\n",
       "      'symbol': 'circle'},\n",
       "     'mode': 'markers',\n",
       "     'name': 'Oceania',\n",
       "     'orientation': 'v',\n",
       "     'showlegend': True,\n",
       "     'x': array([21888.88903, 19007.19129]),\n",
       "     'xaxis': 'x',\n",
       "     'y': array([76.32, 74.32]),\n",
       "     'yaxis': 'y',\n",
       "     'type': 'scatter'}],\n",
       "   'name': '1987'},\n",
       "  {'data': [{'hovertemplate': '<b>%{hovertext}</b><br><br>continent=Asia<br>year=1992<br>gdpPercap=%{x}<br>lifeExp=%{y}<br>pop=%{marker.size}<extra></extra>',\n",
       "     'hovertext': array(['Afghanistan', 'Bahrain', 'Bangladesh', 'Cambodia', 'China',\n",
       "            'Hong Kong, China', 'India', 'Indonesia', 'Iran', 'Iraq', 'Israel',\n",
       "            'Japan', 'Jordan', 'Korea, Dem. Rep.', 'Korea, Rep.', 'Kuwait',\n",
       "            'Lebanon', 'Malaysia', 'Mongolia', 'Myanmar', 'Nepal', 'Oman',\n",
       "            'Pakistan', 'Philippines', 'Saudi Arabia', 'Singapore',\n",
       "            'Sri Lanka', 'Syria', 'Taiwan', 'Thailand', 'Vietnam',\n",
       "            'West Bank and Gaza', 'Yemen, Rep.'], dtype=object),\n",
       "     'ids': array(['Afghanistan', 'Bahrain', 'Bangladesh', 'Cambodia', 'China',\n",
       "            'Hong Kong, China', 'India', 'Indonesia', 'Iran', 'Iraq', 'Israel',\n",
       "            'Japan', 'Jordan', 'Korea, Dem. Rep.', 'Korea, Rep.', 'Kuwait',\n",
       "            'Lebanon', 'Malaysia', 'Mongolia', 'Myanmar', 'Nepal', 'Oman',\n",
       "            'Pakistan', 'Philippines', 'Saudi Arabia', 'Singapore',\n",
       "            'Sri Lanka', 'Syria', 'Taiwan', 'Thailand', 'Vietnam',\n",
       "            'West Bank and Gaza', 'Yemen, Rep.'], dtype=object),\n",
       "     'legendgroup': 'Asia',\n",
       "     'marker': {'color': '#636efa',\n",
       "      'size': array([  16317921,     529491,  113704579,   10150094, 1164970000,\n",
       "                5829696,  872000000,  184816000,   60397973,   17861905,\n",
       "                4936550,  124329269,    3867409,   20711375,   43805450,\n",
       "                1418095,    3219994,   18319502,    2312802,   40546538,\n",
       "               20326209,    1915208,  120065004,   67185766,   16945857,\n",
       "                3235865,   17587060,   13219062,   20686918,   56667095,\n",
       "               69940728,    2104779,   13367997], dtype=int64),\n",
       "      'sizemode': 'area',\n",
       "      'sizeref': 435928.2961983471,\n",
       "      'symbol': 'circle'},\n",
       "     'mode': 'markers',\n",
       "     'name': 'Asia',\n",
       "     'orientation': 'v',\n",
       "     'showlegend': True,\n",
       "     'x': array([  649.3413952, 19035.57917  ,   837.8101643,   682.3031755,\n",
       "             1655.784158 , 24757.60301  ,  1164.406809 ,  2383.140898 ,\n",
       "             7235.653188 ,  3745.640687 , 18051.52254  , 26824.89511  ,\n",
       "             3431.593647 ,  3726.063507 , 12104.27872  , 34932.91959  ,\n",
       "             6890.806854 ,  7277.912802 ,  1785.402016 ,   347.       ,\n",
       "              897.7403604, 18616.70691  ,  1971.829464 ,  2279.324017 ,\n",
       "            24841.61777  , 24769.8912   ,  2153.739222 ,  3340.542768 ,\n",
       "            15215.6579   ,  4616.896545 ,   989.0231487,  6017.654756 ,\n",
       "             1879.496673 ]),\n",
       "     'xaxis': 'x',\n",
       "     'y': array([41.674, 72.601, 56.018, 55.803, 68.69 , 77.601, 60.223, 62.681,\n",
       "            65.742, 59.461, 76.93 , 79.36 , 68.015, 69.978, 72.244, 75.19 ,\n",
       "            69.292, 70.693, 61.271, 59.32 , 55.727, 71.197, 60.838, 66.458,\n",
       "            68.768, 75.788, 70.379, 69.249, 74.26 , 67.298, 67.662, 69.718,\n",
       "            55.599]),\n",
       "     'yaxis': 'y',\n",
       "     'type': 'scatter'},\n",
       "    {'hovertemplate': '<b>%{hovertext}</b><br><br>continent=Europe<br>year=1992<br>gdpPercap=%{x}<br>lifeExp=%{y}<br>pop=%{marker.size}<extra></extra>',\n",
       "     'hovertext': array(['Albania', 'Austria', 'Belgium', 'Bosnia and Herzegovina',\n",
       "            'Bulgaria', 'Croatia', 'Czech Republic', 'Denmark', 'Finland',\n",
       "            'France', 'Germany', 'Greece', 'Hungary', 'Iceland', 'Ireland',\n",
       "            'Italy', 'Montenegro', 'Netherlands', 'Norway', 'Poland',\n",
       "            'Portugal', 'Romania', 'Serbia', 'Slovak Republic', 'Slovenia',\n",
       "            'Spain', 'Sweden', 'Switzerland', 'Turkey', 'United Kingdom'],\n",
       "           dtype=object),\n",
       "     'ids': array(['Albania', 'Austria', 'Belgium', 'Bosnia and Herzegovina',\n",
       "            'Bulgaria', 'Croatia', 'Czech Republic', 'Denmark', 'Finland',\n",
       "            'France', 'Germany', 'Greece', 'Hungary', 'Iceland', 'Ireland',\n",
       "            'Italy', 'Montenegro', 'Netherlands', 'Norway', 'Poland',\n",
       "            'Portugal', 'Romania', 'Serbia', 'Slovak Republic', 'Slovenia',\n",
       "            'Spain', 'Sweden', 'Switzerland', 'Turkey', 'United Kingdom'],\n",
       "           dtype=object),\n",
       "     'legendgroup': 'Europe',\n",
       "     'marker': {'color': '#EF553B',\n",
       "      'size': array([ 3326498,  7914969, 10045622,  4256013,  8658506,  4494013,\n",
       "             10315702,  5171393,  5041039, 57374179, 80597764, 10325429,\n",
       "             10348684,   259012,  3557761, 56840847,   621621, 15174244,\n",
       "              4286357, 38370697,  9927680, 22797027,  9826397,  5302888,\n",
       "              1999210, 39549438,  8718867,  6995447, 58179144, 57866349],\n",
       "            dtype=int64),\n",
       "      'sizemode': 'area',\n",
       "      'sizeref': 435928.2961983471,\n",
       "      'symbol': 'circle'},\n",
       "     'mode': 'markers',\n",
       "     'name': 'Europe',\n",
       "     'orientation': 'v',\n",
       "     'showlegend': True,\n",
       "     'x': array([ 2497.437901, 27042.01868 , 25575.57069 ,  2546.781445,\n",
       "             6302.623438,  8447.794873, 14297.02122 , 26406.73985 ,\n",
       "            20647.16499 , 24703.79615 , 26505.30317 , 17541.49634 ,\n",
       "            10535.62855 , 25144.39201 , 17558.81555 , 22013.64486 ,\n",
       "             7003.339037, 26790.94961 , 33965.66115 ,  7738.881247,\n",
       "            16207.26663 ,  6598.409903,  9325.068238,  9498.467723,\n",
       "            14214.71681 , 18603.06452 , 23880.01683 , 31871.5303  ,\n",
       "             5678.348271, 22705.09254 ]),\n",
       "     'xaxis': 'x',\n",
       "     'y': array([71.581, 76.04 , 76.46 , 72.178, 71.19 , 72.527, 72.4  , 75.33 ,\n",
       "            75.7  , 77.46 , 76.07 , 77.03 , 69.17 , 78.77 , 75.467, 77.44 ,\n",
       "            75.435, 77.42 , 77.32 , 70.99 , 74.86 , 69.36 , 71.659, 71.38 ,\n",
       "            73.64 , 77.57 , 78.16 , 78.03 , 66.146, 76.42 ]),\n",
       "     'yaxis': 'y',\n",
       "     'type': 'scatter'},\n",
       "    {'hovertemplate': '<b>%{hovertext}</b><br><br>continent=Africa<br>year=1992<br>gdpPercap=%{x}<br>lifeExp=%{y}<br>pop=%{marker.size}<extra></extra>',\n",
       "     'hovertext': array(['Algeria', 'Angola', 'Benin', 'Botswana', 'Burkina Faso',\n",
       "            'Burundi', 'Cameroon', 'Central African Republic', 'Chad',\n",
       "            'Comoros', 'Congo, Dem. Rep.', 'Congo, Rep.', \"Cote d'Ivoire\",\n",
       "            'Djibouti', 'Egypt', 'Equatorial Guinea', 'Eritrea', 'Ethiopia',\n",
       "            'Gabon', 'Gambia', 'Ghana', 'Guinea', 'Guinea-Bissau', 'Kenya',\n",
       "            'Lesotho', 'Liberia', 'Libya', 'Madagascar', 'Malawi', 'Mali',\n",
       "            'Mauritania', 'Mauritius', 'Morocco', 'Mozambique', 'Namibia',\n",
       "            'Niger', 'Nigeria', 'Reunion', 'Rwanda', 'Sao Tome and Principe',\n",
       "            'Senegal', 'Sierra Leone', 'Somalia', 'South Africa', 'Sudan',\n",
       "            'Swaziland', 'Tanzania', 'Togo', 'Tunisia', 'Uganda', 'Zambia',\n",
       "            'Zimbabwe'], dtype=object),\n",
       "     'ids': array(['Algeria', 'Angola', 'Benin', 'Botswana', 'Burkina Faso',\n",
       "            'Burundi', 'Cameroon', 'Central African Republic', 'Chad',\n",
       "            'Comoros', 'Congo, Dem. Rep.', 'Congo, Rep.', \"Cote d'Ivoire\",\n",
       "            'Djibouti', 'Egypt', 'Equatorial Guinea', 'Eritrea', 'Ethiopia',\n",
       "            'Gabon', 'Gambia', 'Ghana', 'Guinea', 'Guinea-Bissau', 'Kenya',\n",
       "            'Lesotho', 'Liberia', 'Libya', 'Madagascar', 'Malawi', 'Mali',\n",
       "            'Mauritania', 'Mauritius', 'Morocco', 'Mozambique', 'Namibia',\n",
       "            'Niger', 'Nigeria', 'Reunion', 'Rwanda', 'Sao Tome and Principe',\n",
       "            'Senegal', 'Sierra Leone', 'Somalia', 'South Africa', 'Sudan',\n",
       "            'Swaziland', 'Tanzania', 'Togo', 'Tunisia', 'Uganda', 'Zambia',\n",
       "            'Zimbabwe'], dtype=object),\n",
       "     'legendgroup': 'Africa',\n",
       "     'marker': {'color': '#00cc96',\n",
       "      'size': array([26298373,  8735988,  4981671,  1342614,  8878303,  5809236,\n",
       "             12467171,  3265124,  6429417,   454429, 41672143,  2409073,\n",
       "             12772596,   384156, 59402198,   387838,  3668440, 52088559,\n",
       "               985739,  1025384, 16278738,  6990574,  1050938, 25020539,\n",
       "              1803195,  1912974,  4364501, 12210395, 10014249,  8416215,\n",
       "              2119465,  1096202, 25798239, 13160731,  1554253,  8392818,\n",
       "             93364244,   622191,  7290203,   125911,  8307920,  4260884,\n",
       "              6099799, 39964159, 28227588,   962344, 26605473,  3747553,\n",
       "              8523077, 18252190,  8381163, 10704340], dtype=int64),\n",
       "      'sizemode': 'area',\n",
       "      'sizeref': 435928.2961983471,\n",
       "      'symbol': 'circle'},\n",
       "     'mode': 'markers',\n",
       "     'name': 'Africa',\n",
       "     'orientation': 'v',\n",
       "     'showlegend': True,\n",
       "     'x': array([ 5023.216647 ,  2627.845685 ,  1191.207681 ,  7954.111645 ,\n",
       "              931.7527731,   631.6998778,  1793.163278 ,   747.9055252,\n",
       "             1058.0643   ,  1246.90737  ,   457.7191807,  4016.239529 ,\n",
       "             1648.073791 ,  2377.156192 ,  3794.755195 ,  1132.055034 ,\n",
       "              582.8585102,   421.3534653, 13522.15752  ,   665.6244126,\n",
       "              925.060154 ,   794.3484384,   745.5398706,  1341.921721 ,\n",
       "              977.4862725,   636.6229191,  9640.138501 ,  1040.67619  ,\n",
       "              563.2000145,   739.014375 ,  1361.369784 ,  6058.253846 ,\n",
       "             2948.047252 ,   410.8968239,  3804.537999 ,   581.182725 ,\n",
       "             1619.848217 ,  6101.255823 ,   737.0685949,  1428.777814 ,\n",
       "             1367.899369 ,  1068.696278 ,   926.9602964,  7225.069258 ,\n",
       "             1492.197043 ,  3553.0224   ,   825.682454 ,  1034.298904 ,\n",
       "             4332.720164 ,   644.1707969,  1210.884633 ,   693.4207856]),\n",
       "     'xaxis': 'x',\n",
       "     'y': array([67.744, 40.647, 53.919, 62.745, 50.26 , 44.736, 54.314, 49.396,\n",
       "            51.724, 57.939, 45.548, 56.433, 52.044, 51.604, 63.674, 47.545,\n",
       "            49.991, 48.091, 61.366, 52.644, 57.501, 48.576, 43.266, 59.285,\n",
       "            59.685, 40.802, 68.755, 52.214, 49.42 , 48.388, 58.333, 69.745,\n",
       "            65.393, 44.284, 61.999, 47.391, 47.472, 73.615, 23.599, 62.742,\n",
       "            58.196, 38.333, 39.658, 61.888, 53.556, 58.474, 50.44 , 58.061,\n",
       "            70.001, 48.825, 46.1  , 60.377]),\n",
       "     'yaxis': 'y',\n",
       "     'type': 'scatter'},\n",
       "    {'hovertemplate': '<b>%{hovertext}</b><br><br>continent=Americas<br>year=1992<br>gdpPercap=%{x}<br>lifeExp=%{y}<br>pop=%{marker.size}<extra></extra>',\n",
       "     'hovertext': array(['Argentina', 'Bolivia', 'Brazil', 'Canada', 'Chile', 'Colombia',\n",
       "            'Costa Rica', 'Cuba', 'Dominican Republic', 'Ecuador',\n",
       "            'El Salvador', 'Guatemala', 'Haiti', 'Honduras', 'Jamaica',\n",
       "            'Mexico', 'Nicaragua', 'Panama', 'Paraguay', 'Peru', 'Puerto Rico',\n",
       "            'Trinidad and Tobago', 'United States', 'Uruguay', 'Venezuela'],\n",
       "           dtype=object),\n",
       "     'ids': array(['Argentina', 'Bolivia', 'Brazil', 'Canada', 'Chile', 'Colombia',\n",
       "            'Costa Rica', 'Cuba', 'Dominican Republic', 'Ecuador',\n",
       "            'El Salvador', 'Guatemala', 'Haiti', 'Honduras', 'Jamaica',\n",
       "            'Mexico', 'Nicaragua', 'Panama', 'Paraguay', 'Peru', 'Puerto Rico',\n",
       "            'Trinidad and Tobago', 'United States', 'Uruguay', 'Venezuela'],\n",
       "           dtype=object),\n",
       "     'legendgroup': 'Americas',\n",
       "     'marker': {'color': '#ab63fa',\n",
       "      'size': array([ 33958947,   6893451, 155975974,  28523502,  13572994,  34202721,\n",
       "               3173216,  10723260,   7351181,  10748394,   5274649,   8486949,\n",
       "               6326682,   5077347,   2378618,  88111030,   4017939,   2484997,\n",
       "               4483945,  22430449,   3585176,   1183669, 256894189,   3149262,\n",
       "              20265563], dtype=int64),\n",
       "      'sizemode': 'area',\n",
       "      'sizeref': 435928.2961983471,\n",
       "      'symbol': 'circle'},\n",
       "     'mode': 'markers',\n",
       "     'name': 'Americas',\n",
       "     'orientation': 'v',\n",
       "     'showlegend': True,\n",
       "     'x': array([ 9308.41871 ,  2961.699694,  6950.283021, 26342.88426 ,\n",
       "             7596.125964,  5444.648617,  6160.416317,  5592.843963,\n",
       "             3044.214214,  7103.702595,  4444.2317  ,  4439.45084 ,\n",
       "             1456.309517,  3081.694603,  7404.923685,  9472.384295,\n",
       "             2170.151724,  6618.74305 ,  4196.411078,  4446.380924,\n",
       "            14641.58711 ,  7370.990932, 32003.93224 ,  8137.004775,\n",
       "            10733.92631 ]),\n",
       "     'xaxis': 'x',\n",
       "     'y': array([71.868, 59.957, 67.057, 77.95 , 74.126, 68.421, 75.713, 74.414,\n",
       "            68.457, 69.613, 66.798, 63.373, 55.089, 66.399, 71.766, 71.455,\n",
       "            65.843, 72.462, 68.225, 66.458, 73.911, 69.862, 76.09 , 72.752,\n",
       "            71.15 ]),\n",
       "     'yaxis': 'y',\n",
       "     'type': 'scatter'},\n",
       "    {'hovertemplate': '<b>%{hovertext}</b><br><br>continent=Oceania<br>year=1992<br>gdpPercap=%{x}<br>lifeExp=%{y}<br>pop=%{marker.size}<extra></extra>',\n",
       "     'hovertext': array(['Australia', 'New Zealand'], dtype=object),\n",
       "     'ids': array(['Australia', 'New Zealand'], dtype=object),\n",
       "     'legendgroup': 'Oceania',\n",
       "     'marker': {'color': '#FFA15A',\n",
       "      'size': array([17481977,  3437674], dtype=int64),\n",
       "      'sizemode': 'area',\n",
       "      'sizeref': 435928.2961983471,\n",
       "      'symbol': 'circle'},\n",
       "     'mode': 'markers',\n",
       "     'name': 'Oceania',\n",
       "     'orientation': 'v',\n",
       "     'showlegend': True,\n",
       "     'x': array([23424.76683, 18363.32494]),\n",
       "     'xaxis': 'x',\n",
       "     'y': array([77.56, 76.33]),\n",
       "     'yaxis': 'y',\n",
       "     'type': 'scatter'}],\n",
       "   'name': '1992'},\n",
       "  {'data': [{'hovertemplate': '<b>%{hovertext}</b><br><br>continent=Asia<br>year=1997<br>gdpPercap=%{x}<br>lifeExp=%{y}<br>pop=%{marker.size}<extra></extra>',\n",
       "     'hovertext': array(['Afghanistan', 'Bahrain', 'Bangladesh', 'Cambodia', 'China',\n",
       "            'Hong Kong, China', 'India', 'Indonesia', 'Iran', 'Iraq', 'Israel',\n",
       "            'Japan', 'Jordan', 'Korea, Dem. Rep.', 'Korea, Rep.', 'Kuwait',\n",
       "            'Lebanon', 'Malaysia', 'Mongolia', 'Myanmar', 'Nepal', 'Oman',\n",
       "            'Pakistan', 'Philippines', 'Saudi Arabia', 'Singapore',\n",
       "            'Sri Lanka', 'Syria', 'Taiwan', 'Thailand', 'Vietnam',\n",
       "            'West Bank and Gaza', 'Yemen, Rep.'], dtype=object),\n",
       "     'ids': array(['Afghanistan', 'Bahrain', 'Bangladesh', 'Cambodia', 'China',\n",
       "            'Hong Kong, China', 'India', 'Indonesia', 'Iran', 'Iraq', 'Israel',\n",
       "            'Japan', 'Jordan', 'Korea, Dem. Rep.', 'Korea, Rep.', 'Kuwait',\n",
       "            'Lebanon', 'Malaysia', 'Mongolia', 'Myanmar', 'Nepal', 'Oman',\n",
       "            'Pakistan', 'Philippines', 'Saudi Arabia', 'Singapore',\n",
       "            'Sri Lanka', 'Syria', 'Taiwan', 'Thailand', 'Vietnam',\n",
       "            'West Bank and Gaza', 'Yemen, Rep.'], dtype=object),\n",
       "     'legendgroup': 'Asia',\n",
       "     'marker': {'color': '#636efa',\n",
       "      'size': array([  22227415,     598561,  123315288,   11782962, 1230075000,\n",
       "                6495918,  959000000,  199278000,   63327987,   20775703,\n",
       "                5531387,  125956499,    4526235,   21585105,   46173816,\n",
       "                1765345,    3430388,   20476091,    2494803,   43247867,\n",
       "               23001113,    2283635,  135564834,   75012988,   21229759,\n",
       "                3802309,   18698655,   15081016,   21628605,   60216677,\n",
       "               76048996,    2826046,   15826497], dtype=int64),\n",
       "      'sizemode': 'area',\n",
       "      'sizeref': 435928.2961983471,\n",
       "      'symbol': 'circle'},\n",
       "     'mode': 'markers',\n",
       "     'name': 'Asia',\n",
       "     'orientation': 'v',\n",
       "     'showlegend': True,\n",
       "     'x': array([  635.341351 , 20292.01679  ,   972.7700352,   734.28517  ,\n",
       "             2289.234136 , 28377.63219  ,  1458.817442 ,  3119.335603 ,\n",
       "             8263.590301 ,  3076.239795 , 20896.60924  , 28816.58499  ,\n",
       "             3645.379572 ,  1690.756814 , 15993.52796  , 40300.61996  ,\n",
       "             8754.96385  , 10132.90964  ,  1902.2521   ,   415.       ,\n",
       "             1010.892138 , 19702.05581  ,  2049.350521 ,  2536.534925 ,\n",
       "            20586.69019  , 33519.4766   ,  2664.477257 ,  4014.238972 ,\n",
       "            20206.82098  ,  5852.625497 ,  1385.896769 ,  7110.667619 ,\n",
       "             2117.484526 ]),\n",
       "     'xaxis': 'x',\n",
       "     'y': array([41.763, 73.925, 59.412, 56.534, 70.426, 80.   , 61.765, 66.041,\n",
       "            68.042, 58.811, 78.269, 80.69 , 69.772, 67.727, 74.647, 76.156,\n",
       "            70.265, 71.938, 63.625, 60.328, 59.426, 72.499, 61.818, 68.564,\n",
       "            70.533, 77.158, 70.457, 71.527, 75.25 , 67.521, 70.672, 71.096,\n",
       "            58.02 ]),\n",
       "     'yaxis': 'y',\n",
       "     'type': 'scatter'},\n",
       "    {'hovertemplate': '<b>%{hovertext}</b><br><br>continent=Europe<br>year=1997<br>gdpPercap=%{x}<br>lifeExp=%{y}<br>pop=%{marker.size}<extra></extra>',\n",
       "     'hovertext': array(['Albania', 'Austria', 'Belgium', 'Bosnia and Herzegovina',\n",
       "            'Bulgaria', 'Croatia', 'Czech Republic', 'Denmark', 'Finland',\n",
       "            'France', 'Germany', 'Greece', 'Hungary', 'Iceland', 'Ireland',\n",
       "            'Italy', 'Montenegro', 'Netherlands', 'Norway', 'Poland',\n",
       "            'Portugal', 'Romania', 'Serbia', 'Slovak Republic', 'Slovenia',\n",
       "            'Spain', 'Sweden', 'Switzerland', 'Turkey', 'United Kingdom'],\n",
       "           dtype=object),\n",
       "     'ids': array(['Albania', 'Austria', 'Belgium', 'Bosnia and Herzegovina',\n",
       "            'Bulgaria', 'Croatia', 'Czech Republic', 'Denmark', 'Finland',\n",
       "            'France', 'Germany', 'Greece', 'Hungary', 'Iceland', 'Ireland',\n",
       "            'Italy', 'Montenegro', 'Netherlands', 'Norway', 'Poland',\n",
       "            'Portugal', 'Romania', 'Serbia', 'Slovak Republic', 'Slovenia',\n",
       "            'Spain', 'Sweden', 'Switzerland', 'Turkey', 'United Kingdom'],\n",
       "           dtype=object),\n",
       "     'legendgroup': 'Europe',\n",
       "     'marker': {'color': '#EF553B',\n",
       "      'size': array([ 3428038,  8069876, 10199787,  3607000,  8066057,  4444595,\n",
       "             10300707,  5283663,  5134406, 58623428, 82011073, 10502372,\n",
       "             10244684,   271192,  3667233, 57479469,   692651, 15604464,\n",
       "              4405672, 38654957, 10156415, 22562458, 10336594,  5383010,\n",
       "              2011612, 39855442,  8897619,  7193761, 63047647, 58808266],\n",
       "            dtype=int64),\n",
       "      'sizemode': 'area',\n",
       "      'sizeref': 435928.2961983471,\n",
       "      'symbol': 'circle'},\n",
       "     'mode': 'markers',\n",
       "     'name': 'Europe',\n",
       "     'orientation': 'v',\n",
       "     'showlegend': True,\n",
       "     'x': array([ 3193.054604, 29095.92066 , 27561.19663 ,  4766.355904,\n",
       "             5970.38876 ,  9875.604515, 16048.51424 , 29804.34567 ,\n",
       "            23723.9502  , 25889.78487 , 27788.88416 , 18747.69814 ,\n",
       "            11712.7768  , 28061.09966 , 24521.94713 , 24675.02446 ,\n",
       "             6465.613349, 30246.13063 , 41283.16433 , 10159.58368 ,\n",
       "            17641.03156 ,  7346.547557,  7914.320304, 12126.23065 ,\n",
       "            17161.10735 , 20445.29896 , 25266.59499 , 32135.32301 ,\n",
       "             6601.429915, 26074.53136 ]),\n",
       "     'xaxis': 'x',\n",
       "     'y': array([72.95 , 77.51 , 77.53 , 73.244, 70.32 , 73.68 , 74.01 , 76.11 ,\n",
       "            77.13 , 78.64 , 77.34 , 77.869, 71.04 , 78.95 , 76.122, 78.82 ,\n",
       "            75.445, 78.03 , 78.32 , 72.75 , 75.97 , 69.72 , 72.232, 72.71 ,\n",
       "            75.13 , 78.77 , 79.39 , 79.37 , 68.835, 77.218]),\n",
       "     'yaxis': 'y',\n",
       "     'type': 'scatter'},\n",
       "    {'hovertemplate': '<b>%{hovertext}</b><br><br>continent=Africa<br>year=1997<br>gdpPercap=%{x}<br>lifeExp=%{y}<br>pop=%{marker.size}<extra></extra>',\n",
       "     'hovertext': array(['Algeria', 'Angola', 'Benin', 'Botswana', 'Burkina Faso',\n",
       "            'Burundi', 'Cameroon', 'Central African Republic', 'Chad',\n",
       "            'Comoros', 'Congo, Dem. Rep.', 'Congo, Rep.', \"Cote d'Ivoire\",\n",
       "            'Djibouti', 'Egypt', 'Equatorial Guinea', 'Eritrea', 'Ethiopia',\n",
       "            'Gabon', 'Gambia', 'Ghana', 'Guinea', 'Guinea-Bissau', 'Kenya',\n",
       "            'Lesotho', 'Liberia', 'Libya', 'Madagascar', 'Malawi', 'Mali',\n",
       "            'Mauritania', 'Mauritius', 'Morocco', 'Mozambique', 'Namibia',\n",
       "            'Niger', 'Nigeria', 'Reunion', 'Rwanda', 'Sao Tome and Principe',\n",
       "            'Senegal', 'Sierra Leone', 'Somalia', 'South Africa', 'Sudan',\n",
       "            'Swaziland', 'Tanzania', 'Togo', 'Tunisia', 'Uganda', 'Zambia',\n",
       "            'Zimbabwe'], dtype=object),\n",
       "     'ids': array(['Algeria', 'Angola', 'Benin', 'Botswana', 'Burkina Faso',\n",
       "            'Burundi', 'Cameroon', 'Central African Republic', 'Chad',\n",
       "            'Comoros', 'Congo, Dem. Rep.', 'Congo, Rep.', \"Cote d'Ivoire\",\n",
       "            'Djibouti', 'Egypt', 'Equatorial Guinea', 'Eritrea', 'Ethiopia',\n",
       "            'Gabon', 'Gambia', 'Ghana', 'Guinea', 'Guinea-Bissau', 'Kenya',\n",
       "            'Lesotho', 'Liberia', 'Libya', 'Madagascar', 'Malawi', 'Mali',\n",
       "            'Mauritania', 'Mauritius', 'Morocco', 'Mozambique', 'Namibia',\n",
       "            'Niger', 'Nigeria', 'Reunion', 'Rwanda', 'Sao Tome and Principe',\n",
       "            'Senegal', 'Sierra Leone', 'Somalia', 'South Africa', 'Sudan',\n",
       "            'Swaziland', 'Tanzania', 'Togo', 'Tunisia', 'Uganda', 'Zambia',\n",
       "            'Zimbabwe'], dtype=object),\n",
       "     'legendgroup': 'Africa',\n",
       "     'marker': {'color': '#00cc96',\n",
       "      'size': array([ 29072015,   9875024,   6066080,   1536536,  10352843,   6121610,\n",
       "              14195809,   3696513,   7562011,    527982,  47798986,   2800947,\n",
       "              14625967,    417908,  66134291,    439971,   4058319,  59861301,\n",
       "               1126189,   1235767,  18418288,   8048834,   1193708,  28263827,\n",
       "               1982823,   2200725,   4759670,  14165114,  10419991,   9384984,\n",
       "               2444741,   1149818,  28529501,  16603334,   1774766,   9666252,\n",
       "             106207839,    684810,   7212583,    145608,   9535314,   4578212,\n",
       "               6633514,  42835005,  32160729,   1054486,  30686889,   4320890,\n",
       "               9231669,  21210254,   9417789,  11404948], dtype=int64),\n",
       "      'sizemode': 'area',\n",
       "      'sizeref': 435928.2961983471,\n",
       "      'symbol': 'circle'},\n",
       "     'mode': 'markers',\n",
       "     'name': 'Africa',\n",
       "     'orientation': 'v',\n",
       "     'showlegend': True,\n",
       "     'x': array([ 4797.295051 ,  2277.140884 ,  1232.975292 ,  8647.142313 ,\n",
       "              946.2949618,   463.1151478,  1694.337469 ,   740.5063317,\n",
       "             1004.961353 ,  1173.618235 ,   312.188423 ,  3484.164376 ,\n",
       "             1786.265407 ,  1895.016984 ,  4173.181797 ,  2814.480755 ,\n",
       "              913.47079  ,   515.8894013, 14722.84188  ,   653.7301704,\n",
       "             1005.245812 ,   869.4497668,   796.6644681,  1360.485021 ,\n",
       "             1186.147994 ,   609.1739508,  9467.446056 ,   986.2958956,\n",
       "              692.2758103,   790.2579846,  1483.136136 ,  7425.705295 ,\n",
       "             2982.101858 ,   472.3460771,  3899.52426  ,   580.3052092,\n",
       "             1624.941275 ,  6071.941411 ,   589.9445051,  1339.076036 ,\n",
       "             1392.368347 ,   574.6481576,   930.5964284,  7479.188244 ,\n",
       "             1632.210764 ,  3876.76846  ,   789.1862231,   982.2869243,\n",
       "             4876.798614 ,   816.559081 ,  1071.353818 ,   792.4499603]),\n",
       "     'xaxis': 'x',\n",
       "     'y': array([69.152, 40.963, 54.777, 52.556, 50.324, 45.326, 52.199, 46.066,\n",
       "            51.573, 60.66 , 42.587, 52.962, 47.991, 53.157, 67.217, 48.245,\n",
       "            53.378, 49.402, 60.461, 55.861, 58.556, 51.455, 44.873, 54.407,\n",
       "            55.558, 42.221, 71.555, 54.978, 47.495, 49.903, 60.43 , 70.736,\n",
       "            67.66 , 46.344, 58.909, 51.313, 47.464, 74.772, 36.087, 63.306,\n",
       "            60.187, 39.897, 43.795, 60.236, 55.373, 54.289, 48.466, 58.39 ,\n",
       "            71.973, 44.578, 40.238, 46.809]),\n",
       "     'yaxis': 'y',\n",
       "     'type': 'scatter'},\n",
       "    {'hovertemplate': '<b>%{hovertext}</b><br><br>continent=Americas<br>year=1997<br>gdpPercap=%{x}<br>lifeExp=%{y}<br>pop=%{marker.size}<extra></extra>',\n",
       "     'hovertext': array(['Argentina', 'Bolivia', 'Brazil', 'Canada', 'Chile', 'Colombia',\n",
       "            'Costa Rica', 'Cuba', 'Dominican Republic', 'Ecuador',\n",
       "            'El Salvador', 'Guatemala', 'Haiti', 'Honduras', 'Jamaica',\n",
       "            'Mexico', 'Nicaragua', 'Panama', 'Paraguay', 'Peru', 'Puerto Rico',\n",
       "            'Trinidad and Tobago', 'United States', 'Uruguay', 'Venezuela'],\n",
       "           dtype=object),\n",
       "     'ids': array(['Argentina', 'Bolivia', 'Brazil', 'Canada', 'Chile', 'Colombia',\n",
       "            'Costa Rica', 'Cuba', 'Dominican Republic', 'Ecuador',\n",
       "            'El Salvador', 'Guatemala', 'Haiti', 'Honduras', 'Jamaica',\n",
       "            'Mexico', 'Nicaragua', 'Panama', 'Paraguay', 'Peru', 'Puerto Rico',\n",
       "            'Trinidad and Tobago', 'United States', 'Uruguay', 'Venezuela'],\n",
       "           dtype=object),\n",
       "     'legendgroup': 'Americas',\n",
       "     'marker': {'color': '#ab63fa',\n",
       "      'size': array([ 36203463,   7693188, 168546719,  30305843,  14599929,  37657830,\n",
       "               3518107,  10983007,   7992357,  11911819,   5783439,   9803875,\n",
       "               6913545,   5867957,   2531311,  95895146,   4609572,   2734531,\n",
       "               5154123,  24748122,   3759430,   1138101, 272911760,   3262838,\n",
       "              22374398], dtype=int64),\n",
       "      'sizemode': 'area',\n",
       "      'sizeref': 435928.2961983471,\n",
       "      'symbol': 'circle'},\n",
       "     'mode': 'markers',\n",
       "     'name': 'Americas',\n",
       "     'orientation': 'v',\n",
       "     'showlegend': True,\n",
       "     'x': array([10967.28195 ,  3326.143191,  7957.980824, 28954.92589 ,\n",
       "            10118.05318 ,  6117.361746,  6677.045314,  5431.990415,\n",
       "             3614.101285,  7429.455877,  5154.825496,  4684.313807,\n",
       "             1341.726931,  3160.454906,  7121.924704,  9767.29753 ,\n",
       "             2253.023004,  7113.692252,  4247.400261,  5838.347657,\n",
       "            16999.4333  ,  8792.573126, 35767.43303 ,  9230.240708,\n",
       "            10165.49518 ]),\n",
       "     'xaxis': 'x',\n",
       "     'y': array([73.275, 62.05 , 69.388, 78.61 , 75.816, 70.313, 77.26 , 76.151,\n",
       "            69.957, 72.312, 69.535, 66.322, 56.671, 67.659, 72.262, 73.67 ,\n",
       "            68.426, 73.738, 69.4  , 68.386, 74.917, 69.465, 76.81 , 74.223,\n",
       "            72.146]),\n",
       "     'yaxis': 'y',\n",
       "     'type': 'scatter'},\n",
       "    {'hovertemplate': '<b>%{hovertext}</b><br><br>continent=Oceania<br>year=1997<br>gdpPercap=%{x}<br>lifeExp=%{y}<br>pop=%{marker.size}<extra></extra>',\n",
       "     'hovertext': array(['Australia', 'New Zealand'], dtype=object),\n",
       "     'ids': array(['Australia', 'New Zealand'], dtype=object),\n",
       "     'legendgroup': 'Oceania',\n",
       "     'marker': {'color': '#FFA15A',\n",
       "      'size': array([18565243,  3676187], dtype=int64),\n",
       "      'sizemode': 'area',\n",
       "      'sizeref': 435928.2961983471,\n",
       "      'symbol': 'circle'},\n",
       "     'mode': 'markers',\n",
       "     'name': 'Oceania',\n",
       "     'orientation': 'v',\n",
       "     'showlegend': True,\n",
       "     'x': array([26997.93657, 21050.41377]),\n",
       "     'xaxis': 'x',\n",
       "     'y': array([78.83, 77.55]),\n",
       "     'yaxis': 'y',\n",
       "     'type': 'scatter'}],\n",
       "   'name': '1997'},\n",
       "  {'data': [{'hovertemplate': '<b>%{hovertext}</b><br><br>continent=Asia<br>year=2002<br>gdpPercap=%{x}<br>lifeExp=%{y}<br>pop=%{marker.size}<extra></extra>',\n",
       "     'hovertext': array(['Afghanistan', 'Bahrain', 'Bangladesh', 'Cambodia', 'China',\n",
       "            'Hong Kong, China', 'India', 'Indonesia', 'Iran', 'Iraq', 'Israel',\n",
       "            'Japan', 'Jordan', 'Korea, Dem. Rep.', 'Korea, Rep.', 'Kuwait',\n",
       "            'Lebanon', 'Malaysia', 'Mongolia', 'Myanmar', 'Nepal', 'Oman',\n",
       "            'Pakistan', 'Philippines', 'Saudi Arabia', 'Singapore',\n",
       "            'Sri Lanka', 'Syria', 'Taiwan', 'Thailand', 'Vietnam',\n",
       "            'West Bank and Gaza', 'Yemen, Rep.'], dtype=object),\n",
       "     'ids': array(['Afghanistan', 'Bahrain', 'Bangladesh', 'Cambodia', 'China',\n",
       "            'Hong Kong, China', 'India', 'Indonesia', 'Iran', 'Iraq', 'Israel',\n",
       "            'Japan', 'Jordan', 'Korea, Dem. Rep.', 'Korea, Rep.', 'Kuwait',\n",
       "            'Lebanon', 'Malaysia', 'Mongolia', 'Myanmar', 'Nepal', 'Oman',\n",
       "            'Pakistan', 'Philippines', 'Saudi Arabia', 'Singapore',\n",
       "            'Sri Lanka', 'Syria', 'Taiwan', 'Thailand', 'Vietnam',\n",
       "            'West Bank and Gaza', 'Yemen, Rep.'], dtype=object),\n",
       "     'legendgroup': 'Asia',\n",
       "     'marker': {'color': '#636efa',\n",
       "      'size': array([  25268405,     656397,  135656790,   12926707, 1280400000,\n",
       "                6762476, 1034172547,  211060000,   66907826,   24001816,\n",
       "                6029529,  127065841,    5307470,   22215365,   47969150,\n",
       "                2111561,    3677780,   22662365,    2674234,   45598081,\n",
       "               25873917,    2713462,  153403524,   82995088,   24501530,\n",
       "                4197776,   19576783,   17155814,   22454239,   62806748,\n",
       "               80908147,    3389578,   18701257], dtype=int64),\n",
       "      'sizemode': 'area',\n",
       "      'sizeref': 435928.2961983471,\n",
       "      'symbol': 'circle'},\n",
       "     'mode': 'markers',\n",
       "     'name': 'Asia',\n",
       "     'orientation': 'v',\n",
       "     'showlegend': True,\n",
       "     'x': array([  726.7340548, 23403.55927  ,  1136.39043  ,   896.2260153,\n",
       "             3119.280896 , 30209.01516  ,  1746.769454 ,  2873.91287  ,\n",
       "             9240.761975 ,  4390.717312 , 21905.59514  , 28604.5919   ,\n",
       "             3844.917194 ,  1646.758151 , 19233.98818  , 35110.10566  ,\n",
       "             9313.93883  , 10206.97794  ,  2140.739323 ,   611.       ,\n",
       "             1057.206311 , 19774.83687  ,  2092.712441 ,  2650.921068 ,\n",
       "            19014.54118  , 36023.1054   ,  3015.378833 ,  4090.925331 ,\n",
       "            23235.42329  ,  5913.187529 ,  1764.456677 ,  4515.487575 ,\n",
       "             2234.820827 ]),\n",
       "     'xaxis': 'x',\n",
       "     'y': array([42.129, 74.795, 62.013, 56.752, 72.028, 81.495, 62.879, 68.588,\n",
       "            69.451, 57.046, 79.696, 82.   , 71.263, 66.662, 77.045, 76.904,\n",
       "            71.028, 73.044, 65.033, 59.908, 61.34 , 74.193, 63.61 , 70.303,\n",
       "            71.626, 78.77 , 70.815, 73.053, 76.99 , 68.564, 73.017, 72.37 ,\n",
       "            60.308]),\n",
       "     'yaxis': 'y',\n",
       "     'type': 'scatter'},\n",
       "    {'hovertemplate': '<b>%{hovertext}</b><br><br>continent=Europe<br>year=2002<br>gdpPercap=%{x}<br>lifeExp=%{y}<br>pop=%{marker.size}<extra></extra>',\n",
       "     'hovertext': array(['Albania', 'Austria', 'Belgium', 'Bosnia and Herzegovina',\n",
       "            'Bulgaria', 'Croatia', 'Czech Republic', 'Denmark', 'Finland',\n",
       "            'France', 'Germany', 'Greece', 'Hungary', 'Iceland', 'Ireland',\n",
       "            'Italy', 'Montenegro', 'Netherlands', 'Norway', 'Poland',\n",
       "            'Portugal', 'Romania', 'Serbia', 'Slovak Republic', 'Slovenia',\n",
       "            'Spain', 'Sweden', 'Switzerland', 'Turkey', 'United Kingdom'],\n",
       "           dtype=object),\n",
       "     'ids': array(['Albania', 'Austria', 'Belgium', 'Bosnia and Herzegovina',\n",
       "            'Bulgaria', 'Croatia', 'Czech Republic', 'Denmark', 'Finland',\n",
       "            'France', 'Germany', 'Greece', 'Hungary', 'Iceland', 'Ireland',\n",
       "            'Italy', 'Montenegro', 'Netherlands', 'Norway', 'Poland',\n",
       "            'Portugal', 'Romania', 'Serbia', 'Slovak Republic', 'Slovenia',\n",
       "            'Spain', 'Sweden', 'Switzerland', 'Turkey', 'United Kingdom'],\n",
       "           dtype=object),\n",
       "     'legendgroup': 'Europe',\n",
       "     'marker': {'color': '#EF553B',\n",
       "      'size': array([ 3508512,  8148312, 10311970,  4165416,  7661799,  4481020,\n",
       "             10256295,  5374693,  5193039, 59925035, 82350671, 10603863,\n",
       "             10083313,   288030,  3879155, 57926999,   720230, 16122830,\n",
       "              4535591, 38625976, 10433867, 22404337, 10111559,  5410052,\n",
       "              2011497, 40152517,  8954175,  7361757, 67308928, 59912431],\n",
       "            dtype=int64),\n",
       "      'sizemode': 'area',\n",
       "      'sizeref': 435928.2961983471,\n",
       "      'symbol': 'circle'},\n",
       "     'mode': 'markers',\n",
       "     'name': 'Europe',\n",
       "     'orientation': 'v',\n",
       "     'showlegend': True,\n",
       "     'x': array([ 4604.211737, 32417.60769 , 30485.88375 ,  6018.975239,\n",
       "             7696.777725, 11628.38895 , 17596.21022 , 32166.50006 ,\n",
       "            28204.59057 , 28926.03234 , 30035.80198 , 22514.2548  ,\n",
       "            14843.93556 , 31163.20196 , 34077.04939 , 27968.09817 ,\n",
       "             6557.194282, 33724.75778 , 44683.97525 , 12002.23908 ,\n",
       "            19970.90787 ,  7885.360081,  7236.075251, 13638.77837 ,\n",
       "            20660.01936 , 24835.47166 , 29341.63093 , 34480.95771 ,\n",
       "             6508.085718, 29478.99919 ]),\n",
       "     'xaxis': 'x',\n",
       "     'y': array([75.651, 78.98 , 78.32 , 74.09 , 72.14 , 74.876, 75.51 , 77.18 ,\n",
       "            78.37 , 79.59 , 78.67 , 78.256, 72.59 , 80.5  , 77.783, 80.24 ,\n",
       "            73.981, 78.53 , 79.05 , 74.67 , 77.29 , 71.322, 73.213, 73.8  ,\n",
       "            76.66 , 79.78 , 80.04 , 80.62 , 70.845, 78.471]),\n",
       "     'yaxis': 'y',\n",
       "     'type': 'scatter'},\n",
       "    {'hovertemplate': '<b>%{hovertext}</b><br><br>continent=Africa<br>year=2002<br>gdpPercap=%{x}<br>lifeExp=%{y}<br>pop=%{marker.size}<extra></extra>',\n",
       "     'hovertext': array(['Algeria', 'Angola', 'Benin', 'Botswana', 'Burkina Faso',\n",
       "            'Burundi', 'Cameroon', 'Central African Republic', 'Chad',\n",
       "            'Comoros', 'Congo, Dem. Rep.', 'Congo, Rep.', \"Cote d'Ivoire\",\n",
       "            'Djibouti', 'Egypt', 'Equatorial Guinea', 'Eritrea', 'Ethiopia',\n",
       "            'Gabon', 'Gambia', 'Ghana', 'Guinea', 'Guinea-Bissau', 'Kenya',\n",
       "            'Lesotho', 'Liberia', 'Libya', 'Madagascar', 'Malawi', 'Mali',\n",
       "            'Mauritania', 'Mauritius', 'Morocco', 'Mozambique', 'Namibia',\n",
       "            'Niger', 'Nigeria', 'Reunion', 'Rwanda', 'Sao Tome and Principe',\n",
       "            'Senegal', 'Sierra Leone', 'Somalia', 'South Africa', 'Sudan',\n",
       "            'Swaziland', 'Tanzania', 'Togo', 'Tunisia', 'Uganda', 'Zambia',\n",
       "            'Zimbabwe'], dtype=object),\n",
       "     'ids': array(['Algeria', 'Angola', 'Benin', 'Botswana', 'Burkina Faso',\n",
       "            'Burundi', 'Cameroon', 'Central African Republic', 'Chad',\n",
       "            'Comoros', 'Congo, Dem. Rep.', 'Congo, Rep.', \"Cote d'Ivoire\",\n",
       "            'Djibouti', 'Egypt', 'Equatorial Guinea', 'Eritrea', 'Ethiopia',\n",
       "            'Gabon', 'Gambia', 'Ghana', 'Guinea', 'Guinea-Bissau', 'Kenya',\n",
       "            'Lesotho', 'Liberia', 'Libya', 'Madagascar', 'Malawi', 'Mali',\n",
       "            'Mauritania', 'Mauritius', 'Morocco', 'Mozambique', 'Namibia',\n",
       "            'Niger', 'Nigeria', 'Reunion', 'Rwanda', 'Sao Tome and Principe',\n",
       "            'Senegal', 'Sierra Leone', 'Somalia', 'South Africa', 'Sudan',\n",
       "            'Swaziland', 'Tanzania', 'Togo', 'Tunisia', 'Uganda', 'Zambia',\n",
       "            'Zimbabwe'], dtype=object),\n",
       "     'legendgroup': 'Africa',\n",
       "     'marker': {'color': '#00cc96',\n",
       "      'size': array([ 31287142,  10866106,   7026113,   1630347,  12251209,   7021078,\n",
       "              15929988,   4048013,   8835739,    614382,  55379852,   3328795,\n",
       "              16252726,    447416,  73312559,    495627,   4414865,  67946797,\n",
       "               1299304,   1457766,  20550751,   8807818,   1332459,  31386842,\n",
       "               2046772,   2814651,   5368585,  16473477,  11824495,  10580176,\n",
       "               2828858,   1200206,  31167783,  18473780,   1972153,  11140655,\n",
       "             119901274,    743981,   7852401,    170372,  10870037,   5359092,\n",
       "               7753310,  44433622,  37090298,   1130269,  34593779,   4977378,\n",
       "               9770575,  24739869,  10595811,  11926563], dtype=int64),\n",
       "      'sizemode': 'area',\n",
       "      'sizeref': 435928.2961983471,\n",
       "      'symbol': 'circle'},\n",
       "     'mode': 'markers',\n",
       "     'name': 'Africa',\n",
       "     'orientation': 'v',\n",
       "     'showlegend': True,\n",
       "     'x': array([ 5288.040382 ,  2773.287312 ,  1372.877931 , 11003.60508  ,\n",
       "             1037.645221 ,   446.4035126,  1934.011449 ,   738.6906068,\n",
       "             1156.18186  ,  1075.811558 ,   241.1658765,  3484.06197  ,\n",
       "             1648.800823 ,  1908.260867 ,  4754.604414 ,  7703.4959   ,\n",
       "              765.3500015,   530.0535319, 12521.71392  ,   660.5855997,\n",
       "             1111.984578 ,   945.5835837,   575.7047176,  1287.514732 ,\n",
       "             1275.184575 ,   531.4823679,  9534.677467 ,   894.6370822,\n",
       "              665.4231186,   951.4097518,  1579.019543 ,  9021.815894 ,\n",
       "             3258.495584 ,   633.6179466,  4072.324751 ,   601.0745012,\n",
       "             1615.286395 ,  6316.1652   ,   785.6537648,  1353.09239  ,\n",
       "             1519.635262 ,   699.489713 ,   882.0818218,  7710.946444 ,\n",
       "             1993.398314 ,  4128.116943 ,   899.0742111,   886.2205765,\n",
       "             5722.895655 ,   927.7210018,  1071.613938 ,   672.0386227]),\n",
       "     'xaxis': 'x',\n",
       "     'y': array([70.994, 41.003, 54.406, 46.634, 50.65 , 47.36 , 49.856, 43.308,\n",
       "            50.525, 62.974, 44.966, 52.97 , 46.832, 53.373, 69.806, 49.348,\n",
       "            55.24 , 50.725, 56.761, 58.041, 58.453, 53.676, 45.504, 50.992,\n",
       "            44.593, 43.753, 72.737, 57.286, 45.009, 51.818, 62.247, 71.954,\n",
       "            69.615, 44.026, 51.479, 54.496, 46.608, 75.744, 43.413, 64.337,\n",
       "            61.6  , 41.012, 45.936, 53.365, 56.369, 43.869, 49.651, 57.561,\n",
       "            73.042, 47.813, 39.193, 39.989]),\n",
       "     'yaxis': 'y',\n",
       "     'type': 'scatter'},\n",
       "    {'hovertemplate': '<b>%{hovertext}</b><br><br>continent=Americas<br>year=2002<br>gdpPercap=%{x}<br>lifeExp=%{y}<br>pop=%{marker.size}<extra></extra>',\n",
       "     'hovertext': array(['Argentina', 'Bolivia', 'Brazil', 'Canada', 'Chile', 'Colombia',\n",
       "            'Costa Rica', 'Cuba', 'Dominican Republic', 'Ecuador',\n",
       "            'El Salvador', 'Guatemala', 'Haiti', 'Honduras', 'Jamaica',\n",
       "            'Mexico', 'Nicaragua', 'Panama', 'Paraguay', 'Peru', 'Puerto Rico',\n",
       "            'Trinidad and Tobago', 'United States', 'Uruguay', 'Venezuela'],\n",
       "           dtype=object),\n",
       "     'ids': array(['Argentina', 'Bolivia', 'Brazil', 'Canada', 'Chile', 'Colombia',\n",
       "            'Costa Rica', 'Cuba', 'Dominican Republic', 'Ecuador',\n",
       "            'El Salvador', 'Guatemala', 'Haiti', 'Honduras', 'Jamaica',\n",
       "            'Mexico', 'Nicaragua', 'Panama', 'Paraguay', 'Peru', 'Puerto Rico',\n",
       "            'Trinidad and Tobago', 'United States', 'Uruguay', 'Venezuela'],\n",
       "           dtype=object),\n",
       "     'legendgroup': 'Americas',\n",
       "     'marker': {'color': '#ab63fa',\n",
       "      'size': array([ 38331121,   8445134, 179914212,  31902268,  15497046,  41008227,\n",
       "               3834934,  11226999,   8650322,  12921234,   6353681,  11178650,\n",
       "               7607651,   6677328,   2664659, 102479927,   5146848,   2990875,\n",
       "               5884491,  26769436,   3859606,   1101832, 287675526,   3363085,\n",
       "              24287670], dtype=int64),\n",
       "      'sizemode': 'area',\n",
       "      'sizeref': 435928.2961983471,\n",
       "      'symbol': 'circle'},\n",
       "     'mode': 'markers',\n",
       "     'name': 'Americas',\n",
       "     'orientation': 'v',\n",
       "     'showlegend': True,\n",
       "     'x': array([ 8797.640716,  3413.26269 ,  8131.212843, 33328.96507 ,\n",
       "            10778.78385 ,  5755.259962,  7723.447195,  6340.646683,\n",
       "             4563.808154,  5773.044512,  5351.568666,  4858.347495,\n",
       "             1270.364932,  3099.72866 ,  6994.774861, 10742.44053 ,\n",
       "             2474.548819,  7356.031934,  3783.674243,  5909.020073,\n",
       "            18855.60618 , 11460.60023 , 39097.09955 ,  7727.002004,\n",
       "             8605.047831]),\n",
       "     'xaxis': 'x',\n",
       "     'y': array([74.34 , 63.883, 71.006, 79.77 , 77.86 , 71.682, 78.123, 77.158,\n",
       "            70.847, 74.173, 70.734, 68.978, 58.137, 68.565, 72.047, 74.902,\n",
       "            70.836, 74.712, 70.755, 69.906, 77.778, 68.976, 77.31 , 75.307,\n",
       "            72.766]),\n",
       "     'yaxis': 'y',\n",
       "     'type': 'scatter'},\n",
       "    {'hovertemplate': '<b>%{hovertext}</b><br><br>continent=Oceania<br>year=2002<br>gdpPercap=%{x}<br>lifeExp=%{y}<br>pop=%{marker.size}<extra></extra>',\n",
       "     'hovertext': array(['Australia', 'New Zealand'], dtype=object),\n",
       "     'ids': array(['Australia', 'New Zealand'], dtype=object),\n",
       "     'legendgroup': 'Oceania',\n",
       "     'marker': {'color': '#FFA15A',\n",
       "      'size': array([19546792,  3908037], dtype=int64),\n",
       "      'sizemode': 'area',\n",
       "      'sizeref': 435928.2961983471,\n",
       "      'symbol': 'circle'},\n",
       "     'mode': 'markers',\n",
       "     'name': 'Oceania',\n",
       "     'orientation': 'v',\n",
       "     'showlegend': True,\n",
       "     'x': array([30687.75473, 23189.80135]),\n",
       "     'xaxis': 'x',\n",
       "     'y': array([80.37, 79.11]),\n",
       "     'yaxis': 'y',\n",
       "     'type': 'scatter'}],\n",
       "   'name': '2002'},\n",
       "  {'data': [{'hovertemplate': '<b>%{hovertext}</b><br><br>continent=Asia<br>year=2007<br>gdpPercap=%{x}<br>lifeExp=%{y}<br>pop=%{marker.size}<extra></extra>',\n",
       "     'hovertext': array(['Afghanistan', 'Bahrain', 'Bangladesh', 'Cambodia', 'China',\n",
       "            'Hong Kong, China', 'India', 'Indonesia', 'Iran', 'Iraq', 'Israel',\n",
       "            'Japan', 'Jordan', 'Korea, Dem. Rep.', 'Korea, Rep.', 'Kuwait',\n",
       "            'Lebanon', 'Malaysia', 'Mongolia', 'Myanmar', 'Nepal', 'Oman',\n",
       "            'Pakistan', 'Philippines', 'Saudi Arabia', 'Singapore',\n",
       "            'Sri Lanka', 'Syria', 'Taiwan', 'Thailand', 'Vietnam',\n",
       "            'West Bank and Gaza', 'Yemen, Rep.'], dtype=object),\n",
       "     'ids': array(['Afghanistan', 'Bahrain', 'Bangladesh', 'Cambodia', 'China',\n",
       "            'Hong Kong, China', 'India', 'Indonesia', 'Iran', 'Iraq', 'Israel',\n",
       "            'Japan', 'Jordan', 'Korea, Dem. Rep.', 'Korea, Rep.', 'Kuwait',\n",
       "            'Lebanon', 'Malaysia', 'Mongolia', 'Myanmar', 'Nepal', 'Oman',\n",
       "            'Pakistan', 'Philippines', 'Saudi Arabia', 'Singapore',\n",
       "            'Sri Lanka', 'Syria', 'Taiwan', 'Thailand', 'Vietnam',\n",
       "            'West Bank and Gaza', 'Yemen, Rep.'], dtype=object),\n",
       "     'legendgroup': 'Asia',\n",
       "     'marker': {'color': '#636efa',\n",
       "      'size': array([  31889923,     708573,  150448339,   14131858, 1318683096,\n",
       "                6980412, 1110396331,  223547000,   69453570,   27499638,\n",
       "                6426679,  127467972,    6053193,   23301725,   49044790,\n",
       "                2505559,    3921278,   24821286,    2874127,   47761980,\n",
       "               28901790,    3204897,  169270617,   91077287,   27601038,\n",
       "                4553009,   20378239,   19314747,   23174294,   65068149,\n",
       "               85262356,    4018332,   22211743], dtype=int64),\n",
       "      'sizemode': 'area',\n",
       "      'sizeref': 435928.2961983471,\n",
       "      'symbol': 'circle'},\n",
       "     'mode': 'markers',\n",
       "     'name': 'Asia',\n",
       "     'orientation': 'v',\n",
       "     'showlegend': True,\n",
       "     'x': array([  974.5803384, 29796.04834  ,  1391.253792 ,  1713.778686 ,\n",
       "             4959.114854 , 39724.97867  ,  2452.210407 ,  3540.651564 ,\n",
       "            11605.71449  ,  4471.061906 , 25523.2771   , 31656.06806  ,\n",
       "             4519.461171 ,  1593.06548  , 23348.13973  , 47306.98978  ,\n",
       "            10461.05868  , 12451.6558   ,  3095.772271 ,   944.       ,\n",
       "             1091.359778 , 22316.19287  ,  2605.94758  ,  3190.481016 ,\n",
       "            21654.83194  , 47143.17964  ,  3970.095407 ,  4184.548089 ,\n",
       "            28718.27684  ,  7458.396327 ,  2441.576404 ,  3025.349798 ,\n",
       "             2280.769906 ]),\n",
       "     'xaxis': 'x',\n",
       "     'y': array([43.828, 75.635, 64.062, 59.723, 72.961, 82.208, 64.698, 70.65 ,\n",
       "            70.964, 59.545, 80.745, 82.603, 72.535, 67.297, 78.623, 77.588,\n",
       "            71.993, 74.241, 66.803, 62.069, 63.785, 75.64 , 65.483, 71.688,\n",
       "            72.777, 79.972, 72.396, 74.143, 78.4  , 70.616, 74.249, 73.422,\n",
       "            62.698]),\n",
       "     'yaxis': 'y',\n",
       "     'type': 'scatter'},\n",
       "    {'hovertemplate': '<b>%{hovertext}</b><br><br>continent=Europe<br>year=2007<br>gdpPercap=%{x}<br>lifeExp=%{y}<br>pop=%{marker.size}<extra></extra>',\n",
       "     'hovertext': array(['Albania', 'Austria', 'Belgium', 'Bosnia and Herzegovina',\n",
       "            'Bulgaria', 'Croatia', 'Czech Republic', 'Denmark', 'Finland',\n",
       "            'France', 'Germany', 'Greece', 'Hungary', 'Iceland', 'Ireland',\n",
       "            'Italy', 'Montenegro', 'Netherlands', 'Norway', 'Poland',\n",
       "            'Portugal', 'Romania', 'Serbia', 'Slovak Republic', 'Slovenia',\n",
       "            'Spain', 'Sweden', 'Switzerland', 'Turkey', 'United Kingdom'],\n",
       "           dtype=object),\n",
       "     'ids': array(['Albania', 'Austria', 'Belgium', 'Bosnia and Herzegovina',\n",
       "            'Bulgaria', 'Croatia', 'Czech Republic', 'Denmark', 'Finland',\n",
       "            'France', 'Germany', 'Greece', 'Hungary', 'Iceland', 'Ireland',\n",
       "            'Italy', 'Montenegro', 'Netherlands', 'Norway', 'Poland',\n",
       "            'Portugal', 'Romania', 'Serbia', 'Slovak Republic', 'Slovenia',\n",
       "            'Spain', 'Sweden', 'Switzerland', 'Turkey', 'United Kingdom'],\n",
       "           dtype=object),\n",
       "     'legendgroup': 'Europe',\n",
       "     'marker': {'color': '#EF553B',\n",
       "      'size': array([ 3600523,  8199783, 10392226,  4552198,  7322858,  4493312,\n",
       "             10228744,  5468120,  5238460, 61083916, 82400996, 10706290,\n",
       "              9956108,   301931,  4109086, 58147733,   684736, 16570613,\n",
       "              4627926, 38518241, 10642836, 22276056, 10150265,  5447502,\n",
       "              2009245, 40448191,  9031088,  7554661, 71158647, 60776238],\n",
       "            dtype=int64),\n",
       "      'sizemode': 'area',\n",
       "      'sizeref': 435928.2961983471,\n",
       "      'symbol': 'circle'},\n",
       "     'mode': 'markers',\n",
       "     'name': 'Europe',\n",
       "     'orientation': 'v',\n",
       "     'showlegend': True,\n",
       "     'x': array([ 5937.029526, 36126.4927  , 33692.60508 ,  7446.298803,\n",
       "            10680.79282 , 14619.22272 , 22833.30851 , 35278.41874 ,\n",
       "            33207.0844  , 30470.0167  , 32170.37442 , 27538.41188 ,\n",
       "            18008.94444 , 36180.78919 , 40675.99635 , 28569.7197  ,\n",
       "             9253.896111, 36797.93332 , 49357.19017 , 15389.92468 ,\n",
       "            20509.64777 , 10808.47561 ,  9786.534714, 18678.31435 ,\n",
       "            25768.25759 , 28821.0637  , 33859.74835 , 37506.41907 ,\n",
       "             8458.276384, 33203.26128 ]),\n",
       "     'xaxis': 'x',\n",
       "     'y': array([76.423, 79.829, 79.441, 74.852, 73.005, 75.748, 76.486, 78.332,\n",
       "            79.313, 80.657, 79.406, 79.483, 73.338, 81.757, 78.885, 80.546,\n",
       "            74.543, 79.762, 80.196, 75.563, 78.098, 72.476, 74.002, 74.663,\n",
       "            77.926, 80.941, 80.884, 81.701, 71.777, 79.425]),\n",
       "     'yaxis': 'y',\n",
       "     'type': 'scatter'},\n",
       "    {'hovertemplate': '<b>%{hovertext}</b><br><br>continent=Africa<br>year=2007<br>gdpPercap=%{x}<br>lifeExp=%{y}<br>pop=%{marker.size}<extra></extra>',\n",
       "     'hovertext': array(['Algeria', 'Angola', 'Benin', 'Botswana', 'Burkina Faso',\n",
       "            'Burundi', 'Cameroon', 'Central African Republic', 'Chad',\n",
       "            'Comoros', 'Congo, Dem. Rep.', 'Congo, Rep.', \"Cote d'Ivoire\",\n",
       "            'Djibouti', 'Egypt', 'Equatorial Guinea', 'Eritrea', 'Ethiopia',\n",
       "            'Gabon', 'Gambia', 'Ghana', 'Guinea', 'Guinea-Bissau', 'Kenya',\n",
       "            'Lesotho', 'Liberia', 'Libya', 'Madagascar', 'Malawi', 'Mali',\n",
       "            'Mauritania', 'Mauritius', 'Morocco', 'Mozambique', 'Namibia',\n",
       "            'Niger', 'Nigeria', 'Reunion', 'Rwanda', 'Sao Tome and Principe',\n",
       "            'Senegal', 'Sierra Leone', 'Somalia', 'South Africa', 'Sudan',\n",
       "            'Swaziland', 'Tanzania', 'Togo', 'Tunisia', 'Uganda', 'Zambia',\n",
       "            'Zimbabwe'], dtype=object),\n",
       "     'ids': array(['Algeria', 'Angola', 'Benin', 'Botswana', 'Burkina Faso',\n",
       "            'Burundi', 'Cameroon', 'Central African Republic', 'Chad',\n",
       "            'Comoros', 'Congo, Dem. Rep.', 'Congo, Rep.', \"Cote d'Ivoire\",\n",
       "            'Djibouti', 'Egypt', 'Equatorial Guinea', 'Eritrea', 'Ethiopia',\n",
       "            'Gabon', 'Gambia', 'Ghana', 'Guinea', 'Guinea-Bissau', 'Kenya',\n",
       "            'Lesotho', 'Liberia', 'Libya', 'Madagascar', 'Malawi', 'Mali',\n",
       "            'Mauritania', 'Mauritius', 'Morocco', 'Mozambique', 'Namibia',\n",
       "            'Niger', 'Nigeria', 'Reunion', 'Rwanda', 'Sao Tome and Principe',\n",
       "            'Senegal', 'Sierra Leone', 'Somalia', 'South Africa', 'Sudan',\n",
       "            'Swaziland', 'Tanzania', 'Togo', 'Tunisia', 'Uganda', 'Zambia',\n",
       "            'Zimbabwe'], dtype=object),\n",
       "     'legendgroup': 'Africa',\n",
       "     'marker': {'color': '#00cc96',\n",
       "      'size': array([ 33333216,  12420476,   8078314,   1639131,  14326203,   8390505,\n",
       "              17696293,   4369038,  10238807,    710960,  64606759,   3800610,\n",
       "              18013409,    496374,  80264543,    551201,   4906585,  76511887,\n",
       "               1454867,   1688359,  22873338,   9947814,   1472041,  35610177,\n",
       "               2012649,   3193942,   6036914,  19167654,  13327079,  12031795,\n",
       "               3270065,   1250882,  33757175,  19951656,   2055080,  12894865,\n",
       "             135031164,    798094,   8860588,    199579,  12267493,   6144562,\n",
       "               9118773,  43997828,  42292929,   1133066,  38139640,   5701579,\n",
       "              10276158,  29170398,  11746035,  12311143], dtype=int64),\n",
       "      'sizemode': 'area',\n",
       "      'sizeref': 435928.2961983471,\n",
       "      'symbol': 'circle'},\n",
       "     'mode': 'markers',\n",
       "     'name': 'Africa',\n",
       "     'orientation': 'v',\n",
       "     'showlegend': True,\n",
       "     'x': array([ 6223.367465 ,  4797.231267 ,  1441.284873 , 12569.85177  ,\n",
       "             1217.032994 ,   430.0706916,  2042.09524  ,   706.016537 ,\n",
       "             1704.063724 ,   986.1478792,   277.5518587,  3632.557798 ,\n",
       "             1544.750112 ,  2082.481567 ,  5581.180998 , 12154.08975  ,\n",
       "              641.3695236,   690.8055759, 13206.48452  ,   752.7497265,\n",
       "             1327.60891  ,   942.6542111,   579.231743 ,  1463.249282 ,\n",
       "             1569.331442 ,   414.5073415, 12057.49928  ,  1044.770126 ,\n",
       "              759.3499101,  1042.581557 ,  1803.151496 , 10956.99112  ,\n",
       "             3820.17523  ,   823.6856205,  4811.060429 ,   619.6768924,\n",
       "             2013.977305 ,  7670.122558 ,   863.0884639,  1598.435089 ,\n",
       "             1712.472136 ,   862.5407561,   926.1410683,  9269.657808 ,\n",
       "             2602.394995 ,  4513.480643 ,  1107.482182 ,   882.9699438,\n",
       "             7092.923025 ,  1056.380121 ,  1271.211593 ,   469.7092981]),\n",
       "     'xaxis': 'x',\n",
       "     'y': array([72.301, 42.731, 56.728, 50.728, 52.295, 49.58 , 50.43 , 44.741,\n",
       "            50.651, 65.152, 46.462, 55.322, 48.328, 54.791, 71.338, 51.579,\n",
       "            58.04 , 52.947, 56.735, 59.448, 60.022, 56.007, 46.388, 54.11 ,\n",
       "            42.592, 45.678, 73.952, 59.443, 48.303, 54.467, 64.164, 72.801,\n",
       "            71.164, 42.082, 52.906, 56.867, 46.859, 76.442, 46.242, 65.528,\n",
       "            63.062, 42.568, 48.159, 49.339, 58.556, 39.613, 52.517, 58.42 ,\n",
       "            73.923, 51.542, 42.384, 43.487]),\n",
       "     'yaxis': 'y',\n",
       "     'type': 'scatter'},\n",
       "    {'hovertemplate': '<b>%{hovertext}</b><br><br>continent=Americas<br>year=2007<br>gdpPercap=%{x}<br>lifeExp=%{y}<br>pop=%{marker.size}<extra></extra>',\n",
       "     'hovertext': array(['Argentina', 'Bolivia', 'Brazil', 'Canada', 'Chile', 'Colombia',\n",
       "            'Costa Rica', 'Cuba', 'Dominican Republic', 'Ecuador',\n",
       "            'El Salvador', 'Guatemala', 'Haiti', 'Honduras', 'Jamaica',\n",
       "            'Mexico', 'Nicaragua', 'Panama', 'Paraguay', 'Peru', 'Puerto Rico',\n",
       "            'Trinidad and Tobago', 'United States', 'Uruguay', 'Venezuela'],\n",
       "           dtype=object),\n",
       "     'ids': array(['Argentina', 'Bolivia', 'Brazil', 'Canada', 'Chile', 'Colombia',\n",
       "            'Costa Rica', 'Cuba', 'Dominican Republic', 'Ecuador',\n",
       "            'El Salvador', 'Guatemala', 'Haiti', 'Honduras', 'Jamaica',\n",
       "            'Mexico', 'Nicaragua', 'Panama', 'Paraguay', 'Peru', 'Puerto Rico',\n",
       "            'Trinidad and Tobago', 'United States', 'Uruguay', 'Venezuela'],\n",
       "           dtype=object),\n",
       "     'legendgroup': 'Americas',\n",
       "     'marker': {'color': '#ab63fa',\n",
       "      'size': array([ 40301927,   9119152, 190010647,  33390141,  16284741,  44227550,\n",
       "               4133884,  11416987,   9319622,  13755680,   6939688,  12572928,\n",
       "               8502814,   7483763,   2780132, 108700891,   5675356,   3242173,\n",
       "               6667147,  28674757,   3942491,   1056608, 301139947,   3447496,\n",
       "              26084662], dtype=int64),\n",
       "      'sizemode': 'area',\n",
       "      'sizeref': 435928.2961983471,\n",
       "      'symbol': 'circle'},\n",
       "     'mode': 'markers',\n",
       "     'name': 'Americas',\n",
       "     'orientation': 'v',\n",
       "     'showlegend': True,\n",
       "     'x': array([12779.37964 ,  3822.137084,  9065.800825, 36319.23501 ,\n",
       "            13171.63885 ,  7006.580419,  9645.06142 ,  8948.102923,\n",
       "             6025.374752,  6873.262326,  5728.353514,  5186.050003,\n",
       "             1201.637154,  3548.330846,  7320.880262, 11977.57496 ,\n",
       "             2749.320965,  9809.185636,  4172.838464,  7408.905561,\n",
       "            19328.70901 , 18008.50924 , 42951.65309 , 10611.46299 ,\n",
       "            11415.80569 ]),\n",
       "     'xaxis': 'x',\n",
       "     'y': array([75.32 , 65.554, 72.39 , 80.653, 78.553, 72.889, 78.782, 78.273,\n",
       "            72.235, 74.994, 71.878, 70.259, 60.916, 70.198, 72.567, 76.195,\n",
       "            72.899, 75.537, 71.752, 71.421, 78.746, 69.819, 78.242, 76.384,\n",
       "            73.747]),\n",
       "     'yaxis': 'y',\n",
       "     'type': 'scatter'},\n",
       "    {'hovertemplate': '<b>%{hovertext}</b><br><br>continent=Oceania<br>year=2007<br>gdpPercap=%{x}<br>lifeExp=%{y}<br>pop=%{marker.size}<extra></extra>',\n",
       "     'hovertext': array(['Australia', 'New Zealand'], dtype=object),\n",
       "     'ids': array(['Australia', 'New Zealand'], dtype=object),\n",
       "     'legendgroup': 'Oceania',\n",
       "     'marker': {'color': '#FFA15A',\n",
       "      'size': array([20434176,  4115771], dtype=int64),\n",
       "      'sizemode': 'area',\n",
       "      'sizeref': 435928.2961983471,\n",
       "      'symbol': 'circle'},\n",
       "     'mode': 'markers',\n",
       "     'name': 'Oceania',\n",
       "     'orientation': 'v',\n",
       "     'showlegend': True,\n",
       "     'x': array([34435.36744, 25185.00911]),\n",
       "     'xaxis': 'x',\n",
       "     'y': array([81.235, 80.204]),\n",
       "     'yaxis': 'y',\n",
       "     'type': 'scatter'}],\n",
       "   'name': '2007'}]}"
      ]
     },
     "execution_count": 7,
     "metadata": {},
     "output_type": "execute_result"
    }
   ],
   "source": [
    "fig.to_dict()"
   ]
  },
  {
   "cell_type": "code",
   "execution_count": null,
   "metadata": {},
   "outputs": [],
   "source": []
  }
 ],
 "metadata": {
  "kernelspec": {
   "display_name": "base",
   "language": "python",
   "name": "python3"
  },
  "language_info": {
   "codemirror_mode": {
    "name": "ipython",
    "version": 3
   },
   "file_extension": ".py",
   "mimetype": "text/x-python",
   "name": "python",
   "nbconvert_exporter": "python",
   "pygments_lexer": "ipython3",
   "version": "3.10.8"
  },
  "orig_nbformat": 4
 },
 "nbformat": 4,
 "nbformat_minor": 2
}
