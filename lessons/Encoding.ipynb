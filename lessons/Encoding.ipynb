{
 "cells": [
  {
   "cell_type": "markdown",
   "id": "4fb3dfcd",
   "metadata": {},
   "source": [
    "# Encoding\n",
    "# In This Lesson\n",
    "* Different types of encoding\n",
    "* Reading different encodings\n",
    "* Why this is an issue\n",
    "* Hexadecimal\n",
    "* Base 64"
   ]
  },
  {
   "cell_type": "markdown",
   "id": "2a020a12",
   "metadata": {},
   "source": [
    "# Question\n",
    "What do we mean by encoding, specifically character encoding?"
   ]
  },
  {
   "cell_type": "code",
   "execution_count": null,
   "id": "4d6d3767",
   "metadata": {},
   "outputs": [],
   "source": [
    "\n",
    "\n",
    "\n",
    "\n",
    "\n",
    "\n",
    "\n",
    "\n",
    "\n",
    "\n",
    "\n",
    "\n",
    "\n"
   ]
  },
  {
   "cell_type": "markdown",
   "id": "4800f341",
   "metadata": {},
   "source": [
    "# Answer\n",
    "Encoding is an agreed standard we use to save text (characters) as binary files."
   ]
  },
  {
   "cell_type": "markdown",
   "id": "9d26f984",
   "metadata": {},
   "source": [
    "# ASCII\n",
    "We can't talk about encoding without discussing ASCII, [American Standard Code for Information Interchange](https://en.wikipedia.org/wiki/ASCII).\n",
    "\n",
    "ASCII is the base encoding the vast majority of modern encoding standards are built upon. It arrived in 1963 and covers 128 characters by using 7 bits. Although, only 95 ASCII characters are printable, so in practice it is extremely limited.\n",
    "\n",
    "\n",
    "<p>\n",
    "<a href=\"https://en.wikipedia.org/wiki/ASCII#Character_set\" target=\"_blank\">\n",
    "    <img align=\"center\" width=\"85%\" src=\"https://upload.wikimedia.org/wikipedia/commons/thumb/1/1b/ASCII-Table-wide.svg/800px-ASCII-Table-wide.svg.png\" alt=\"ASCII Table\">\n",
    "</a>\n",
    "</p>"
   ]
  },
  {
   "cell_type": "markdown",
   "id": "f59dfa14",
   "metadata": {},
   "source": [
    "# Question\n",
    "Why does 7 bits limit us to 128 different characters?"
   ]
  },
  {
   "cell_type": "markdown",
   "id": "71ec3009",
   "metadata": {},
   "source": [
    "# Fun ASCII Stuff in Python\n",
    "In python, we can use integer values 1-128 to translate directly to ASCII characters, this can be useful for example when wanting to loop through letters alphabetically."
   ]
  },
  {
   "cell_type": "code",
   "execution_count": 2,
   "id": "4f114be8",
   "metadata": {},
   "outputs": [
    {
     "name": "stdout",
     "output_type": "stream",
     "text": [
      "['A', 'B', 'C', 'D', 'E', 'F', 'G', 'H', 'I', 'J', 'K', 'L', 'M', 'N', 'O', 'P', 'Q', 'R', 'S', 'T', 'U', 'V', 'W', 'X', 'Y', 'Z']\n"
     ]
    }
   ],
   "source": [
    "11\n",
    "\n",
    "letters = []\n",
    "\n",
    "for ascii_number in range(65, 91):\n",
    "    letter = chr(ascii_number)\n",
    "    letters.append(letter)\n",
    "\n",
    "print(letters)\n"
   ]
  },
  {
   "cell_type": "markdown",
   "id": "4da98e78",
   "metadata": {},
   "source": [
    "We can do this backwards too, if we need to convert letters to numbers:"
   ]
  },
  {
   "cell_type": "code",
   "execution_count": 6,
   "id": "83285b54",
   "metadata": {},
   "outputs": [
    {
     "name": "stdout",
     "output_type": "stream",
     "text": [
      "65\n"
     ]
    }
   ],
   "source": [
    "print(ord(\"A\"))"
   ]
  },
  {
   "cell_type": "markdown",
   "id": "9ceee112",
   "metadata": {},
   "source": [
    "# Limitations of ASCII\n",
    "\n",
    "ASCII is simple and gets us off the bat, but its limited pool of characters and inextensibility causes us problems, for example if I want to write about having visited my favorite café.\n",
    "\n",
    "# Other Encodings\n",
    "\n",
    "The limitations of ASCII have been addressed by numerous other encodings in the years following 1963. Conveniently, with ASCII being 7 bits and modern computers operate using bytes (8 bits), that leaves one extra bit which can be used to flag extensions to ASCII so most modern encodings are actually extensions of ASCII and therefore (somewhat) backwards compatible.\n",
    "\n",
    "Key encodings to be aware of:\n",
    "\n",
    "* [ASCII](https://en.wikipedia.org/wiki/ASCII)\n",
    "* [Latin 1](https://en.wikipedia.org/wiki/ISO/IEC_8859-1)\n",
    "* [Windows-1252](https://en.wikipedia.org/wiki/Windows-1252)\n",
    "* [UTF-8](https://en.wikipedia.org/wiki/UTF-8)"
   ]
  },
  {
   "cell_type": "markdown",
   "id": "59802a6c",
   "metadata": {},
   "source": [
    "# Q: How do we use other encodings in Python?\n",
    "\n",
    "A: You probably already are!\n",
    "\n",
    "## System Default Encoding\n",
    "\n",
    "By default, when you are reading and writing files in python, you'll use the system default setting. On Windows machines, this is often going to be Windows-1252, also referred to as CP-1252. Checking this encoding is simple:"
   ]
  },
  {
   "cell_type": "code",
   "execution_count": 7,
   "id": "50dae1e8",
   "metadata": {},
   "outputs": [
    {
     "name": "stdout",
     "output_type": "stream",
     "text": [
      "cp1252\n"
     ]
    }
   ],
   "source": [
    "import locale\n",
    "print(locale.getpreferredencoding())"
   ]
  },
  {
   "cell_type": "markdown",
   "id": "2fbd3dbb",
   "metadata": {},
   "source": [
    "My \"preferred\" encoding is `cp1252`, meaning any files I read or write in Python without specifying otherwise will assume the Windows-1252 encoding. If I want to specify a different encoding, there is an optional parameter on the open function..."
   ]
  },
  {
   "cell_type": "code",
   "execution_count": 8,
   "id": "7aaf38e4",
   "metadata": {},
   "outputs": [
    {
     "name": "stdout",
     "output_type": "stream",
     "text": [
      "['The quick brown fox jumped over the lazy dog.']\n"
     ]
    }
   ],
   "source": [
    "\n",
    "with open(\"../data/text_files/ascii.txt\", \"r\", encoding=\"ascii\") as f:\n",
    "    print(f.readlines())\n"
   ]
  },
  {
   "cell_type": "markdown",
   "id": "d64de172",
   "metadata": {},
   "source": [
    "N.B. For any files I read or write in this notebook I will specify the encoding to ensure compatibility over different machines. Remember, this parameter is optional, and its default value will depend on your localisation settings.\n",
    "\n",
    "# ASCII Compatability\n",
    "A great thing about ASCII is reading with any other encoding still works because they are based on it. Meaning (so long as your text is written with the Latin alphabet), you will not lose too much information if you mess up encodings. "
   ]
  },
  {
   "cell_type": "code",
   "execution_count": 9,
   "id": "e885faf3",
   "metadata": {},
   "outputs": [
    {
     "name": "stdout",
     "output_type": "stream",
     "text": [
      "['The quick brown fox jumped over the lazy dog.']\n",
      "['The quick brown fox jumped over the lazy dog.']\n",
      "['The quick brown fox jumped over the lazy dog.']\n"
     ]
    }
   ],
   "source": [
    "\n",
    "with open(\"../data/text_files/ascii.txt\", \"r\", encoding=\"latin1\") as f:\n",
    "    print(f.readlines())\n",
    "with open(\"../data/text_files/ascii.txt\", \"r\", encoding=\"cp1252\") as f:\n",
    "    print(f.readlines())\n",
    "with open(\"../data/text_files/ascii.txt\", \"r\", encoding=\"utf8\") as f:\n",
    "    print(f.readlines())\n",
    "    "
   ]
  },
  {
   "cell_type": "markdown",
   "id": "602ee088",
   "metadata": {},
   "source": [
    "What you will not be able to do is read text written in other encodings using ASCII..."
   ]
  },
  {
   "cell_type": "code",
   "execution_count": 43,
   "id": "23f0ebd1",
   "metadata": {},
   "outputs": [
    {
     "ename": "UnicodeDecodeError",
     "evalue": "'ascii' codec can't decode byte 0xc2 in position 18: ordinal not in range(128)",
     "output_type": "error",
     "traceback": [
      "\u001b[1;31m---------------------------------------------------------------------------\u001b[0m",
      "\u001b[1;31mUnicodeDecodeError\u001b[0m                        Traceback (most recent call last)",
      "Cell \u001b[1;32mIn[43], line 2\u001b[0m\n\u001b[0;32m      1\u001b[0m \u001b[38;5;28;01mwith\u001b[39;00m \u001b[38;5;28mopen\u001b[39m(\u001b[38;5;124m\"\u001b[39m\u001b[38;5;124m../data/text_files/utf8.txt\u001b[39m\u001b[38;5;124m\"\u001b[39m, \u001b[38;5;124m\"\u001b[39m\u001b[38;5;124mr\u001b[39m\u001b[38;5;124m\"\u001b[39m, encoding\u001b[38;5;241m=\u001b[39m\u001b[38;5;124m\"\u001b[39m\u001b[38;5;124mascii\u001b[39m\u001b[38;5;124m\"\u001b[39m) \u001b[38;5;28;01mas\u001b[39;00m f:\n\u001b[1;32m----> 2\u001b[0m     \u001b[38;5;28mprint\u001b[39m(f\u001b[38;5;241m.\u001b[39mreadlines())\n",
      "File \u001b[1;32m~\\AppData\\Local\\anaconda3\\Lib\\encodings\\ascii.py:26\u001b[0m, in \u001b[0;36mIncrementalDecoder.decode\u001b[1;34m(self, input, final)\u001b[0m\n\u001b[0;32m     25\u001b[0m \u001b[38;5;28;01mdef\u001b[39;00m \u001b[38;5;21mdecode\u001b[39m(\u001b[38;5;28mself\u001b[39m, \u001b[38;5;28minput\u001b[39m, final\u001b[38;5;241m=\u001b[39m\u001b[38;5;28;01mFalse\u001b[39;00m):\n\u001b[1;32m---> 26\u001b[0m     \u001b[38;5;28;01mreturn\u001b[39;00m codecs\u001b[38;5;241m.\u001b[39mascii_decode(\u001b[38;5;28minput\u001b[39m, \u001b[38;5;28mself\u001b[39m\u001b[38;5;241m.\u001b[39merrors)[\u001b[38;5;241m0\u001b[39m]\n",
      "\u001b[1;31mUnicodeDecodeError\u001b[0m: 'ascii' codec can't decode byte 0xc2 in position 18: ordinal not in range(128)"
     ]
    }
   ],
   "source": [
    "\n",
    "with open(\"../data/text_files/utf8.txt\", \"r\", encoding=\"ascii\") as f:\n",
    "    print(f.readlines())\n",
    "    "
   ]
  },
  {
   "cell_type": "markdown",
   "id": "ef9031d0",
   "metadata": {},
   "source": [
    "This means, you'll typically have to choose one, this is where the problems start to appear!\n",
    "\n",
    "For an example, let's take some text saved using the Latin 1 encoding and read it using CP-1252 and UTF-8."
   ]
  },
  {
   "cell_type": "code",
   "execution_count": 11,
   "id": "a9174dbe",
   "metadata": {},
   "outputs": [
    {
     "name": "stdout",
     "output_type": "stream",
     "text": [
      "['A croissant costs £1.10 at the pâtisserie café.']\n"
     ]
    },
    {
     "ename": "UnicodeDecodeError",
     "evalue": "'utf-8' codec can't decode byte 0xa3 in position 18: invalid start byte",
     "output_type": "error",
     "traceback": [
      "\u001b[1;31m---------------------------------------------------------------------------\u001b[0m",
      "\u001b[1;31mUnicodeDecodeError\u001b[0m                        Traceback (most recent call last)",
      "Cell \u001b[1;32mIn[11], line 4\u001b[0m\n\u001b[0;32m      2\u001b[0m     \u001b[38;5;28mprint\u001b[39m(f\u001b[38;5;241m.\u001b[39mreadlines())\n\u001b[0;32m      3\u001b[0m \u001b[38;5;28;01mwith\u001b[39;00m \u001b[38;5;28mopen\u001b[39m(\u001b[38;5;124m\"\u001b[39m\u001b[38;5;124m../data/text_files/latin1.txt\u001b[39m\u001b[38;5;124m\"\u001b[39m, \u001b[38;5;124m\"\u001b[39m\u001b[38;5;124mr\u001b[39m\u001b[38;5;124m\"\u001b[39m, encoding\u001b[38;5;241m=\u001b[39m\u001b[38;5;124m\"\u001b[39m\u001b[38;5;124mutf8\u001b[39m\u001b[38;5;124m\"\u001b[39m) \u001b[38;5;28;01mas\u001b[39;00m f:\n\u001b[1;32m----> 4\u001b[0m     \u001b[38;5;28mprint\u001b[39m(f\u001b[38;5;241m.\u001b[39mreadlines())\n",
      "File \u001b[1;32m<frozen codecs>:322\u001b[0m, in \u001b[0;36mdecode\u001b[1;34m(self, input, final)\u001b[0m\n",
      "\u001b[1;31mUnicodeDecodeError\u001b[0m: 'utf-8' codec can't decode byte 0xa3 in position 18: invalid start byte"
     ]
    }
   ],
   "source": [
    "\n",
    "with open(\"../data/text_files/latin1.txt\", \"r\", encoding=\"cp1252\") as f:\n",
    "    print(f.readlines())\n",
    "with open(\"../data/text_files/latin1.txt\", \"r\", encoding=\"utf8\") as f:\n",
    "    print(f.readlines())\n",
    "    "
   ]
  },
  {
   "cell_type": "markdown",
   "id": "7dc9cb9f",
   "metadata": {},
   "source": [
    "Note, CP-1252 has no problem reading Latin 1, this is because CP-1252 is a variant of Latin 1, so they are very similar. In practice, I would recommend choose CP-1252 over Latin 1 as Windows machines will default to CP-1252 meaning it's very popular.\n",
    "\n",
    "UTF-8 Can't read the Latin 1 file, while this isn't great, it's at least helpful we know something has gone wrong.\n",
    "\n",
    "N.B. Although python errors when we read this file with UTF-8, it is possible to ignore errors and force it to read what it can.\n"
   ]
  },
  {
   "cell_type": "code",
   "execution_count": 44,
   "id": "e66b4a7c",
   "metadata": {},
   "outputs": [
    {
     "name": "stdout",
     "output_type": "stream",
     "text": [
      "['A croissant costs 1.10 at the ptisserie caf.']\n"
     ]
    }
   ],
   "source": [
    "\n",
    "with open(\"../data/text_files/latin1.txt\", \"r\", encoding=\"utf8\", errors='ignore') as f:\n",
    "    print(f.readlines())\n"
   ]
  },
  {
   "cell_type": "markdown",
   "id": "b87e720d",
   "metadata": {},
   "source": [
    "\n",
    "Here we can see the ASCII characters have been read fine, we have just skipped all the special characters.\n",
    "\n",
    "But what happens if we get CP-1252 to read a UTF-8 file?\n"
   ]
  },
  {
   "cell_type": "code",
   "execution_count": 12,
   "id": "674db9df",
   "metadata": {},
   "outputs": [
    {
     "name": "stdout",
     "output_type": "stream",
     "text": [
      "['A croissant costs Â£1.10 at the Unicode cafÃ©.']\n"
     ]
    }
   ],
   "source": [
    "\n",
    "with open(\"../data/text_files/utf8.txt\", \"r\", encoding=\"cp1252\") as f:\n",
    "    print(f.readlines())\n"
   ]
  },
  {
   "cell_type": "markdown",
   "id": "1137599e",
   "metadata": {},
   "source": [
    "To any data engineer familiar with this problem, `Ã` will fill them with dread.\n",
    "\n",
    "Occasionally, when passing strings between systems, where the same encodings are not always used, certain characters, such as `é` and `£` can be read wrong. These kinds of issues can happen silently and become infamously hard to debug or fix.\n"
   ]
  },
  {
   "cell_type": "markdown",
   "id": "cb96ed93",
   "metadata": {},
   "source": [
    "# Question: Why are we getting the Ã?"
   ]
  },
  {
   "cell_type": "code",
   "execution_count": null,
   "id": "b5c74d3d",
   "metadata": {},
   "outputs": [],
   "source": [
    "\n",
    "\n",
    "\n",
    "\n",
    "\n",
    "\n",
    "\n",
    "\n",
    "\n",
    "\n",
    "\n",
    "\n",
    "\n"
   ]
  },
  {
   "cell_type": "markdown",
   "id": "7a35d89f",
   "metadata": {},
   "source": [
    "# Answer\n",
    "While CP-1252 and UTF-8 do agree on what an ASCII character looks like, they do not agree on how to extend for the `é` and `£` characters.\n",
    "\n",
    "We can visualise the differences by encoding a string using the different standards and then comparing it using [Hexadecimal](https://en.wikipedia.org/wiki/Hexadecimal)."
   ]
  },
  {
   "cell_type": "code",
   "execution_count": 13,
   "id": "4086f6e3",
   "metadata": {},
   "outputs": [
    {
     "name": "stdout",
     "output_type": "stream",
     "text": [
      "63 61 66 c3 a9\n",
      "63 61 66 e9\n"
     ]
    }
   ],
   "source": [
    "\n",
    "# Define a string for the text\n",
    "test_string = \"café\"\n",
    "\n",
    "# Encode to UTF-8\n",
    "utf8_binary = test_string.encode(\"utf8\")\n",
    "\n",
    "# Convert to hexadecimal, format and print\n",
    "hex_data = utf8_binary.hex()\n",
    "formatted_hex = ' '.join(hex_data[i:i + 2] for i in range(0, len(hex_data), 2))\n",
    "print(formatted_hex)\n",
    "\n",
    "# The same for CP-1252\n",
    "windows_binary = test_string.encode(\"cp1252\")\n",
    "hex_data = windows_binary.hex()\n",
    "formatted_hex = ' '.join(hex_data[i:i + 2] for i in range(0, len(hex_data), 2))\n",
    "print(formatted_hex)\n"
   ]
  },
  {
   "cell_type": "markdown",
   "id": "6a5844f7",
   "metadata": {},
   "source": [
    "\n",
    "Here we can see, the first 3 characters, `caf` are expressed as one byte each (two hex characters are a single byte), `63`, `61` and `66`.\n",
    "\n",
    "UTF-8 uses two bytes to represent `é`, while CP-1252 only uses one.\n",
    "\n",
    "We can also view the `é` character in binary for both encodings.\n"
   ]
  },
  {
   "cell_type": "code",
   "execution_count": 14,
   "id": "2d799865",
   "metadata": {},
   "outputs": [
    {
     "name": "stdout",
     "output_type": "stream",
     "text": [
      "11000011 10101001\n",
      "11101001\n"
     ]
    }
   ],
   "source": [
    "test_character = \"é\"\n",
    "\n",
    "print(' '.join(f'{byte:08b}' for byte in test_character.encode(\"utf8\")))\n",
    "print(' '.join(f'{byte:08b}' for byte in test_character.encode(\"cp1252\")))\n"
   ]
  },
  {
   "cell_type": "markdown",
   "id": "12ba507f",
   "metadata": {},
   "source": [
    "# Exercise\n",
    "\n",
    "Consider the table [here](https://en.wikipedia.org/wiki/UTF-8#Encoding) and we should be able to satisfactorily describe why UTF-8 fails to read the Windows `é`, but CP-1252 reads the UTF-8 `é` as `Ã©`. "
   ]
  },
  {
   "cell_type": "code",
   "execution_count": null,
   "id": "378f34e1",
   "metadata": {},
   "outputs": [],
   "source": [
    "\n",
    "\n",
    "\n",
    "\n",
    "\n",
    "\n",
    "\n",
    "\n",
    "\n",
    "\n",
    "\n",
    "\n",
    "\n",
    "\n"
   ]
  },
  {
   "cell_type": "markdown",
   "id": "5a0831bd",
   "metadata": {},
   "source": [
    "# Jack, Which Encoding Should I Use?\n",
    "**UTF-8**\n",
    "\n",
    "## But why?"
   ]
  },
  {
   "cell_type": "markdown",
   "id": "2ec44695",
   "metadata": {},
   "source": [
    "Unicode (UTF-8) is the most popular encoding on websites, and is becoming a \"lingua franca\" (caveat, my opinions are my own, others may disagree).\n",
    "\n",
    "UTF-8 also supports emojis and foreign language character sets. Emoji support alone should justify the number one spot, right? "
   ]
  },
  {
   "cell_type": "code",
   "execution_count": 19,
   "id": "f42556e8",
   "metadata": {},
   "outputs": [
    {
     "name": "stdout",
     "output_type": "stream",
     "text": [
      "['I love UTF8 😀']\n",
      "['この文章は日本語で書かれています']\n"
     ]
    }
   ],
   "source": [
    "\n",
    "with open(\"../data/text_files/emoji_utf8.txt\", encoding=\"utf8\") as f:\n",
    "    print(f.readlines())\n",
    "with open(\"../data/text_files/japanese_utf8.txt\", encoding=\"utf8\") as f:\n",
    "    print(f.readlines())\n"
   ]
  },
  {
   "cell_type": "markdown",
   "id": "71f3d3af",
   "metadata": {},
   "source": [
    "For completion, we can also demonstrate CP-1252 doesn't play nicely with these files:"
   ]
  },
  {
   "cell_type": "code",
   "execution_count": 18,
   "id": "2b078766",
   "metadata": {},
   "outputs": [
    {
     "name": "stdout",
     "output_type": "stream",
     "text": [
      "['I love UTF8 ðŸ˜€']\n"
     ]
    },
    {
     "ename": "UnicodeDecodeError",
     "evalue": "'charmap' codec can't decode byte 0x81 in position 1: character maps to <undefined>",
     "output_type": "error",
     "traceback": [
      "\u001b[1;31m---------------------------------------------------------------------------\u001b[0m",
      "\u001b[1;31mUnicodeDecodeError\u001b[0m                        Traceback (most recent call last)",
      "Cell \u001b[1;32mIn[18], line 4\u001b[0m\n\u001b[0;32m      2\u001b[0m     \u001b[38;5;28mprint\u001b[39m(f\u001b[38;5;241m.\u001b[39mreadlines())\n\u001b[0;32m      3\u001b[0m \u001b[38;5;28;01mwith\u001b[39;00m \u001b[38;5;28mopen\u001b[39m(\u001b[38;5;124m\"\u001b[39m\u001b[38;5;124m../data/text_files/japanese_utf8.txt\u001b[39m\u001b[38;5;124m\"\u001b[39m, encoding\u001b[38;5;241m=\u001b[39m\u001b[38;5;124m\"\u001b[39m\u001b[38;5;124mcp1252\u001b[39m\u001b[38;5;124m\"\u001b[39m) \u001b[38;5;28;01mas\u001b[39;00m f:\n\u001b[1;32m----> 4\u001b[0m     \u001b[38;5;28mprint\u001b[39m(f\u001b[38;5;241m.\u001b[39mreadlines())\n",
      "File \u001b[1;32m~\\AppData\\Local\\anaconda3\\Lib\\encodings\\cp1252.py:23\u001b[0m, in \u001b[0;36mIncrementalDecoder.decode\u001b[1;34m(self, input, final)\u001b[0m\n\u001b[0;32m     22\u001b[0m \u001b[38;5;28;01mdef\u001b[39;00m \u001b[38;5;21mdecode\u001b[39m(\u001b[38;5;28mself\u001b[39m, \u001b[38;5;28minput\u001b[39m, final\u001b[38;5;241m=\u001b[39m\u001b[38;5;28;01mFalse\u001b[39;00m):\n\u001b[1;32m---> 23\u001b[0m     \u001b[38;5;28;01mreturn\u001b[39;00m codecs\u001b[38;5;241m.\u001b[39mcharmap_decode(\u001b[38;5;28minput\u001b[39m,\u001b[38;5;28mself\u001b[39m\u001b[38;5;241m.\u001b[39merrors,decoding_table)[\u001b[38;5;241m0\u001b[39m]\n",
      "\u001b[1;31mUnicodeDecodeError\u001b[0m: 'charmap' codec can't decode byte 0x81 in position 1: character maps to <undefined>"
     ]
    }
   ],
   "source": [
    "\n",
    "with open(\"../data/text_files/emoji_utf8.txt\", encoding=\"cp1252\") as f:\n",
    "    print(f.readlines())\n",
    "with open(\"../data/text_files/japanese_utf8.txt\", encoding=\"cp1252\") as f:\n",
    "    print(f.readlines())\n",
    "    "
   ]
  },
  {
   "cell_type": "markdown",
   "id": "117cc66f",
   "metadata": {},
   "source": [
    "# While we are here....\n",
    "Last session I ran, we talked about encodings and someone mentioned base 64. It's slightly different, but let's cover that here!"
   ]
  },
  {
   "cell_type": "markdown",
   "id": "ae6b1c6e",
   "metadata": {},
   "source": [
    "# Q: What is Base 64?"
   ]
  },
  {
   "cell_type": "code",
   "execution_count": null,
   "id": "32ba3003",
   "metadata": {},
   "outputs": [],
   "source": [
    "\n",
    "\n",
    "\n",
    "\n",
    "\n",
    "\n",
    "\n",
    "\n",
    "\n",
    "\n",
    "\n",
    "\n",
    "\n",
    "\n"
   ]
  },
  {
   "cell_type": "markdown",
   "id": "c978e062",
   "metadata": {},
   "source": [
    "# Answer\n",
    "Base 64 is a number system, like binary, decimal or hexadecimal.\n",
    "\n",
    "In binary, we have 2 digits:\n",
    "`0` and `1`\n",
    "\n",
    "In decimal we have 10 digits:\n",
    "`0`, `1`, `2`, `3`, `4`, `5`, `6`, `7`, `8` and `9`\n",
    "\n",
    "In hexadecimal we have 16 digits\n",
    "`0`, `1`, `2`, `3`, `4`, `5`, `6`, `7`, `8`, `9`, `A`, `B`, `C`, `D`, `E` and `F`\n",
    "\n",
    "In base 64, we have 64 digits!"
   ]
  },
  {
   "cell_type": "markdown",
   "id": "a90af8ef",
   "metadata": {},
   "source": [
    "# Q: Why is Base 64 Useful?\n"
   ]
  },
  {
   "cell_type": "code",
   "execution_count": null,
   "id": "6d3d19b6",
   "metadata": {},
   "outputs": [],
   "source": [
    "\n",
    "\n",
    "\n",
    "\n",
    "\n",
    "\n",
    "\n",
    "\n",
    "\n",
    "\n",
    "\n",
    "\n",
    "\n",
    "\n",
    "\n",
    "\n",
    "\n",
    "\n"
   ]
  },
  {
   "cell_type": "markdown",
   "id": "57afa253",
   "metadata": {},
   "source": [
    "# Answer\n",
    "\n",
    "64, like 16 is a power of 2, so it is convenient for expressing binary data, just like hexadecimal is. However, it is a much higher base, so binary objects expressed in it use much fewer characters.\n",
    "\n",
    "As an example, let's take a string and encode to hexadecimal like we did before.\n"
   ]
  },
  {
   "cell_type": "code",
   "execution_count": 22,
   "id": "4acb03df",
   "metadata": {},
   "outputs": [
    {
     "name": "stdout",
     "output_type": "stream",
     "text": [
      "48656c6c6f20576f726c6421\n"
     ]
    }
   ],
   "source": [
    "\n",
    "example_string = \"Hello World!\"\n",
    "example_binary = example_string.encode(\"utf8\")\n",
    "\n",
    "example_hex = example_binary.hex()\n",
    "print(example_hex)\n"
   ]
  },
  {
   "cell_type": "markdown",
   "id": "d5fb9da2",
   "metadata": {},
   "source": [
    "Now, lets try the same, but with base 64"
   ]
  },
  {
   "cell_type": "code",
   "execution_count": 29,
   "id": "d6a8ff66",
   "metadata": {},
   "outputs": [
    {
     "name": "stdout",
     "output_type": "stream",
     "text": [
      "SGVsbG8gV29ybGQh\n"
     ]
    }
   ],
   "source": [
    "import base64\n",
    "\n",
    "example_b64 = base64.b64encode(example_binary).decode(\"utf8\")\n",
    "print(example_b64)"
   ]
  },
  {
   "cell_type": "markdown",
   "id": "58470cf6",
   "metadata": {},
   "source": [
    "We're now using less characters! Note, not as few as the string itself, but this format is convenient if we want to send binary objects other than strings over the internet - for example images!\n",
    "\n",
    "Let's take this image of the Aiimi logo...\n",
    "\n",
    "<img align=\"center\" width=\"30%\" src=\"../images/Aiimi Logo_BlackPink.png\">\n",
    "\n",
    "...and convert it to a base 64 string..."
   ]
  },
  {
   "cell_type": "code",
   "execution_count": 35,
   "id": "64f00f65",
   "metadata": {},
   "outputs": [
    {
     "name": "stdout",
     "output_type": "stream",
     "text": [
      "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\n"
     ]
    }
   ],
   "source": [
    "\n",
    "# Open with \"rb\" to read in binary\n",
    "with open(\"../images/Aiimi Logo_BlackPink.png\", \"rb\") as f:\n",
    "    image_binary = f.read()\n",
    "\n",
    "# Convert to a base 64 string\n",
    "import base64\n",
    "base64_image = base64.b64encode(image_binary).decode(\"utf8\")\n",
    "print(base64_image)\n"
   ]
  },
  {
   "cell_type": "markdown",
   "id": "ddbf7896",
   "metadata": {},
   "source": [
    "\n",
    "That's the exact same image saved as a base64 string, which you can see contains all sorts of characters.\n",
    "\n",
    "This can be convenient as we can use it as a HTTP parameter or nest it inside a JSON object, the possibilities are endless!\n",
    "\n",
    "Let's prove the string really is our image by transforming it back and displaying it!\n"
   ]
  },
  {
   "cell_type": "code",
   "execution_count": 40,
   "id": "1c8e61bd",
   "metadata": {},
   "outputs": [
    {
     "data": {
      "image/png": "[encoded data removed]",
      "text/plain": [
       "<IPython.core.display.Image object>"
      ]
     },
     "metadata": {},
     "output_type": "display_data"
    }
   ],
   "source": [
    "\n",
    "import base64\n",
    "from IPython.display import display, Image as IPythonImage\n",
    "\n",
    "\n",
    "# Decode the Base64 string to binary data\n",
    "image_data = base64.b64decode(base64_image)\n",
    "\n",
    "display(IPythonImage(data=image_data))\n"
   ]
  },
  {
   "cell_type": "markdown",
   "id": "aa36808d",
   "metadata": {},
   "source": [
    "Magic!"
   ]
  },
  {
   "cell_type": "markdown",
   "id": "c573b473",
   "metadata": {},
   "source": [
    "# Recap\n",
    "\n",
    "* What is an encoding?\n",
    "* What different types of encoding are there?\n",
    "* What are their relative merits?\n",
    "* What is Hexadecimal and how is it relevant to encodings?\n",
    "* What is Base 64 and when might we use it?"
   ]
  },
  {
   "cell_type": "markdown",
   "id": "4bc5c935",
   "metadata": {},
   "source": [
    "# Homework\n",
    "\n",
    "Can you create a script which will take a text file and tell you what encoding was used?\n"
   ]
  },
  {
   "cell_type": "code",
   "execution_count": null,
   "id": "d29c7f77",
   "metadata": {},
   "outputs": [],
   "source": []
  }
 ],
 "metadata": {
  "kernelspec": {
   "display_name": "Python 3 (ipykernel)",
   "language": "python",
   "name": "python3"
  },
  "language_info": {
   "codemirror_mode": {
    "name": "ipython",
    "version": 3
   },
   "file_extension": ".py",
   "mimetype": "text/x-python",
   "name": "python",
   "nbconvert_exporter": "python",
   "pygments_lexer": "ipython3",
   "version": "3.11.5"
  }
 },
 "nbformat": 4,
 "nbformat_minor": 5
}
