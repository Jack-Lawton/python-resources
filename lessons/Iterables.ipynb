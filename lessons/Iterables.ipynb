{
 "cells": [
  {
   "cell_type": "markdown",
   "metadata": {},
   "source": [
    "# Iterables\n",
    "## In This Lesson\n",
    "* Lists\n",
    "* Dictionaries\n",
    "* Tuples\n",
    "* Sets\n",
    "* Comprehensions\n",
    "* Unpacking Iterables\n",
    "* Generators"
   ]
  },
  {
   "cell_type": "markdown",
   "metadata": {},
   "source": [
    "# What is an Iterable?\n",
    "\n",
    "An [iterable](https://www.pythonlikeyoumeanit.com/Module2_EssentialsOfPython/Iterables.html) is any Python object capable of returning its members one at a time, permitting it to be iterated over in a for-loop.\n",
    "\n",
    "As an example, let's use one of the most common Python Iterables, a List:"
   ]
  },
  {
   "cell_type": "code",
   "execution_count": 1,
   "metadata": {},
   "outputs": [
    {
     "name": "stdout",
     "output_type": "stream",
     "text": [
      "A\n",
      "B\n",
      "C\n"
     ]
    }
   ],
   "source": [
    "\n",
    "my_list = [\"A\", \"B\", \"C\"]\n",
    "\n",
    "for member in my_list:\n",
    "    print(member)\n"
   ]
  },
  {
   "cell_type": "markdown",
   "metadata": {},
   "source": [
    "# Lists\n",
    "Lists are ordered collections of values, defined using square brackets.\n",
    "\n",
    "Below is an example of how we define a list."
   ]
  },
  {
   "cell_type": "code",
   "execution_count": 2,
   "metadata": {},
   "outputs": [],
   "source": [
    "\n",
    "my_list = [\"A\", \"B\", \"C\", \"D\", \"E\"]\n"
   ]
  },
  {
   "cell_type": "markdown",
   "metadata": {},
   "source": [
    "## Exercise\n",
    "Write code to print the third value in the above list"
   ]
  },
  {
   "cell_type": "code",
   "execution_count": null,
   "metadata": {},
   "outputs": [],
   "source": [
    "\n",
    "\n",
    "\n",
    "\n",
    "\n",
    "\n",
    "\n",
    "\n",
    "\n"
   ]
  },
  {
   "cell_type": "markdown",
   "metadata": {},
   "source": [
    "## Solution"
   ]
  },
  {
   "cell_type": "code",
   "execution_count": 3,
   "metadata": {},
   "outputs": [
    {
     "name": "stdout",
     "output_type": "stream",
     "text": [
      "C\n"
     ]
    }
   ],
   "source": [
    "\n",
    "print(my_list[2])\n"
   ]
  },
  {
   "cell_type": "markdown",
   "metadata": {},
   "source": [
    "Note, list indices start at `0`, so the third index is `2`.\n",
    "\n",
    "Why do indices start at `0`?"
   ]
  },
  {
   "cell_type": "markdown",
   "metadata": {},
   "source": [
    "## Exercise\n",
    "Write code to append `\"F\"` to `my_list`."
   ]
  },
  {
   "cell_type": "code",
   "execution_count": null,
   "metadata": {},
   "outputs": [],
   "source": [
    "\n",
    "\n",
    "\n",
    "\n",
    "\n",
    "\n",
    "\n",
    "\n",
    "\n"
   ]
  },
  {
   "cell_type": "markdown",
   "metadata": {},
   "source": [
    "## Solution"
   ]
  },
  {
   "cell_type": "code",
   "execution_count": 4,
   "metadata": {},
   "outputs": [
    {
     "name": "stdout",
     "output_type": "stream",
     "text": [
      "['A', 'B', 'C', 'D', 'E', 'F']\n"
     ]
    }
   ],
   "source": [
    "\n",
    "my_list.append(\"F\")\n",
    "\n",
    "print(my_list)\n"
   ]
  },
  {
   "cell_type": "markdown",
   "metadata": {},
   "source": [
    "Note, unlike you may be familiar with data frames, the append method for a list alters it in-place.\n",
    "\n",
    "To create a new, unique list with an extra value, we must use the `+` operator, which can combine two lists."
   ]
  },
  {
   "cell_type": "code",
   "execution_count": 5,
   "metadata": {},
   "outputs": [
    {
     "name": "stdout",
     "output_type": "stream",
     "text": [
      "['A', 'B', 'C', 'D', 'E', 'F']\n",
      "['A', 'B', 'C', 'D', 'E', 'F', 'G']\n"
     ]
    }
   ],
   "source": [
    "\n",
    "new_list = my_list + [\"G\"]\n",
    "\n",
    "print(my_list)\n",
    "print(new_list)\n"
   ]
  },
  {
   "cell_type": "markdown",
   "metadata": {},
   "source": [
    "## Question?\n",
    "\n",
    "What data types can we use in a list? Can we mix and match?"
   ]
  },
  {
   "cell_type": "code",
   "execution_count": null,
   "metadata": {},
   "outputs": [],
   "source": [
    "\n",
    "\n",
    "\n",
    "\n",
    "\n",
    "\n",
    "\n"
   ]
  },
  {
   "cell_type": "markdown",
   "metadata": {},
   "source": [
    "## Answer\n",
    "\n",
    "Lists can contain any type of python variable, these can be freely mixed and swapped"
   ]
  },
  {
   "cell_type": "code",
   "execution_count": 6,
   "metadata": {},
   "outputs": [
    {
     "name": "stdout",
     "output_type": "stream",
     "text": [
      "[1, 'B', 63, 'G']\n",
      "['A', 'B', 63, 'G']\n"
     ]
    }
   ],
   "source": [
    "\n",
    "mixed_list = [1, \"B\", 63, \"G\"]\n",
    "\n",
    "print(mixed_list)\n",
    "\n",
    "mixed_list[0] = \"A\"\n",
    "\n",
    "print(mixed_list)\n"
   ]
  },
  {
   "cell_type": "markdown",
   "metadata": {},
   "source": [
    "## List Slicing\n",
    "Slicing is a way of selecting a paricular range of a list.\n",
    "\n",
    "For example, values 2 - 4 as below\n"
   ]
  },
  {
   "cell_type": "code",
   "execution_count": 7,
   "metadata": {},
   "outputs": [
    {
     "name": "stdout",
     "output_type": "stream",
     "text": [
      "[3, 4]\n"
     ]
    }
   ],
   "source": [
    "\n",
    "number_list = [1, 2, 3, 4, 5, 6, 7, 8, 9]\n",
    "\n",
    "# Slice to get values 2 to 4\n",
    "print(number_list[2:4])\n"
   ]
  },
  {
   "cell_type": "markdown",
   "metadata": {},
   "source": [
    "Or values from 2 onwards"
   ]
  },
  {
   "cell_type": "code",
   "execution_count": 8,
   "metadata": {},
   "outputs": [
    {
     "name": "stdout",
     "output_type": "stream",
     "text": [
      "[3, 4, 5, 6, 7, 8, 9]\n"
     ]
    }
   ],
   "source": [
    "\n",
    "# Slice to get values 2 onwards\n",
    "print(number_list[2:])\n"
   ]
  },
  {
   "cell_type": "markdown",
   "metadata": {},
   "source": [
    "## Question\n",
    "What do you expect the output of the following code to be?"
   ]
  },
  {
   "cell_type": "code",
   "execution_count": null,
   "metadata": {},
   "outputs": [],
   "source": [
    "\n",
    "print(number_list[:-1])\n"
   ]
  },
  {
   "cell_type": "markdown",
   "metadata": {},
   "source": [
    "Were you right?\n",
    "\n",
    "Discuss why this is the result."
   ]
  },
  {
   "cell_type": "markdown",
   "metadata": {},
   "source": [
    "## List Functions\n",
    "\n",
    "There are a number of functions we can use to get more information out of lists, such as:\n",
    "\n",
    "* Length: `len()`\n",
    "* Max Value: `max()`\n",
    "* Min Value: `min()`\n"
   ]
  },
  {
   "cell_type": "code",
   "execution_count": 11,
   "metadata": {},
   "outputs": [
    {
     "name": "stdout",
     "output_type": "stream",
     "text": [
      "6\n",
      "7\n",
      "0\n"
     ]
    }
   ],
   "source": [
    "\n",
    "example_list = [7, 2, 3, 4, 0, 6]\n",
    "\n",
    "# Length\n",
    "print(len(example_list))\n",
    "\n",
    "# Max value\n",
    "print(max(example_list))\n",
    "\n",
    "# Min value\n",
    "print(min(example_list))\n"
   ]
  },
  {
   "cell_type": "markdown",
   "metadata": {},
   "source": [
    "There are also functions to modify lists, such as:\n",
    "* Reverse: `reversed()`\n",
    "* Sort: `sorted()`"
   ]
  },
  {
   "cell_type": "code",
   "execution_count": 20,
   "metadata": {},
   "outputs": [
    {
     "name": "stdout",
     "output_type": "stream",
     "text": [
      "[6, 0, 4, 3, 2, 7]\n",
      "[0, 2, 3, 4, 6, 7]\n"
     ]
    }
   ],
   "source": [
    "\n",
    "example_list = [7, 2, 3, 4, 0, 6]\n",
    "\n",
    "# Reverse the list\n",
    "print(list(reversed(example_list)))\n",
    "\n",
    "# Sort the list\n",
    "print(sorted(example_list))\n"
   ]
  },
  {
   "cell_type": "markdown",
   "metadata": {},
   "source": [
    "## In Operator\n",
    "\n",
    "The `in` operator allows us to check if an item is in a list. E.g."
   ]
  },
  {
   "cell_type": "code",
   "execution_count": 21,
   "metadata": {},
   "outputs": [
    {
     "name": "stdout",
     "output_type": "stream",
     "text": [
      "Item found!\n"
     ]
    }
   ],
   "source": [
    "\n",
    "shopping_basket = [\"mouse\",  \"keyboard\", \"chair\"]\n",
    "\n",
    "search_item = \"keyboard\"\n",
    "\n",
    "if search_item in shopping_basket:\n",
    "    print(\"Item found!\")\n",
    "else:\n",
    "    print(\"Item missing!\")\n"
   ]
  },
  {
   "cell_type": "markdown",
   "metadata": {},
   "source": [
    "## Exercise\n",
    "\n",
    "Try changing `shopping_basket` and `search_item` in the above code to see the result."
   ]
  },
  {
   "cell_type": "markdown",
   "metadata": {},
   "source": [
    "## List Comprehensions"
   ]
  },
  {
   "cell_type": "markdown",
   "metadata": {},
   "source": [
    "### Exercise\n",
    "\n",
    "Write a for loop to populate a list of the first ten square numbers."
   ]
  },
  {
   "cell_type": "code",
   "execution_count": null,
   "metadata": {},
   "outputs": [],
   "source": [
    "\n",
    "\n",
    "\n",
    "\n",
    "\n",
    "\n",
    "\n",
    "\n",
    "\n",
    "\n",
    "\n",
    "\n",
    "\n",
    "\n",
    "\n",
    "\n",
    "\n",
    "\n",
    "\n",
    "\n",
    "\n",
    "\n",
    "\n",
    "\n"
   ]
  },
  {
   "cell_type": "markdown",
   "metadata": {},
   "source": [
    "## Solution"
   ]
  },
  {
   "cell_type": "code",
   "execution_count": 18,
   "metadata": {},
   "outputs": [
    {
     "name": "stdout",
     "output_type": "stream",
     "text": [
      "[1, 4, 9, 16, 25, 36, 49, 64, 81, 100]\n"
     ]
    }
   ],
   "source": [
    "\n",
    "# Define square numbers as an empty list\n",
    "square_numbers = []\n",
    "\n",
    "# Loop the numbers 1 to 10, calculate their squares and append to our list\n",
    "for i in range(1, 11):\n",
    "    square = i ** 2\n",
    "    square_numbers.append(square)\n",
    "    \n",
    "# Done\n",
    "print(square_numbers)\n"
   ]
  },
  {
   "cell_type": "markdown",
   "metadata": {},
   "source": [
    "### The quicker way\n",
    "\n",
    "Generating lists using loops like this is a fairly common task, and Python provides a quicker and easier way of doing this: with list comprehensions.\n",
    "\n",
    "A list comprehension is a way of defining a new list from a for loop all on one line.\n",
    "\n",
    "Our code above to generate square numbers simply becomes:\n"
   ]
  },
  {
   "cell_type": "code",
   "execution_count": 19,
   "metadata": {},
   "outputs": [
    {
     "name": "stdout",
     "output_type": "stream",
     "text": [
      "[1, 4, 9, 16, 25, 36, 49, 64, 81, 100]\n"
     ]
    }
   ],
   "source": [
    "\n",
    "square_numbers = [i ** 2 for i in range(1, 11)]\n",
    "\n",
    "print(square_numbers)\n"
   ]
  },
  {
   "cell_type": "markdown",
   "metadata": {},
   "source": [
    "# Dictionaries\n",
    "\n",
    "Python dictionaries are collections of key-value pairs, defined using curly braces and colons, e.g.\n"
   ]
  },
  {
   "cell_type": "code",
   "execution_count": 22,
   "metadata": {},
   "outputs": [],
   "source": [
    "\n",
    "my_dict = {\"name\": \"Stilton\", \"colour\": \"Blue\"}\n"
   ]
  },
  {
   "cell_type": "markdown",
   "metadata": {},
   "source": [
    "It's common to define dictionaries over multiple lines to make code easier to read."
   ]
  },
  {
   "cell_type": "code",
   "execution_count": 23,
   "metadata": {},
   "outputs": [],
   "source": [
    "\n",
    "my_dict = {\n",
    "    \"name\": \"Stilton\", \n",
    "    \"colour\": \"Blue\",\n",
    "    \"score\": 10\n",
    "}\n"
   ]
  },
  {
   "cell_type": "markdown",
   "metadata": {},
   "source": [
    "Dictionary values are accessed using their keys"
   ]
  },
  {
   "cell_type": "code",
   "execution_count": 24,
   "metadata": {},
   "outputs": [
    {
     "name": "stdout",
     "output_type": "stream",
     "text": [
      "Stilton\n"
     ]
    }
   ],
   "source": [
    "\n",
    "print(my_dict[\"name\"])\n"
   ]
  },
  {
   "cell_type": "markdown",
   "metadata": {},
   "source": [
    "We can iterate over dictionaries a few ways:\n",
    "\n",
    "By key"
   ]
  },
  {
   "cell_type": "code",
   "execution_count": 25,
   "metadata": {},
   "outputs": [
    {
     "name": "stdout",
     "output_type": "stream",
     "text": [
      "name\n",
      "colour\n",
      "score\n"
     ]
    }
   ],
   "source": [
    "\n",
    "for key in my_dict.keys():\n",
    "    print(key)\n"
   ]
  },
  {
   "cell_type": "markdown",
   "metadata": {},
   "source": [
    "By value"
   ]
  },
  {
   "cell_type": "code",
   "execution_count": 26,
   "metadata": {},
   "outputs": [
    {
     "name": "stdout",
     "output_type": "stream",
     "text": [
      "Stilton\n",
      "Blue\n",
      "10\n"
     ]
    }
   ],
   "source": [
    "\n",
    "for value in my_dict.values():\n",
    "    print(value)\n"
   ]
  },
  {
   "cell_type": "markdown",
   "metadata": {},
   "source": [
    "Or (more usefully), by both"
   ]
  },
  {
   "cell_type": "code",
   "execution_count": 28,
   "metadata": {},
   "outputs": [
    {
     "name": "stdout",
     "output_type": "stream",
     "text": [
      "name: Stilton\n",
      "colour: Blue\n",
      "score: 10\n"
     ]
    }
   ],
   "source": [
    "\n",
    "for key, value in my_dict.items():\n",
    "    print(\"{}: {}\".format(key, value))\n"
   ]
  },
  {
   "cell_type": "markdown",
   "metadata": {},
   "source": [
    "Much like lists, the keys and values of dictionaries can be (just about) any python variable - including other lists and dictionaries!"
   ]
  },
  {
   "cell_type": "code",
   "execution_count": 31,
   "metadata": {},
   "outputs": [
    {
     "name": "stdout",
     "output_type": "stream",
     "text": [
      "{'name': 'Stilton', 'colour': 'Blue', 'score': 10, 'dairies': ['Colston Bassett', 'Cropwell Bishop', 'Hartington']}\n"
     ]
    }
   ],
   "source": [
    "\n",
    "my_dict[\"dairies\"] = [\"Colston Bassett\", \"Cropwell Bishop\", \"Hartington\"]\n",
    "\n",
    "print(my_dict)\n"
   ]
  },
  {
   "cell_type": "markdown",
   "metadata": {},
   "source": [
    "Note that the combination of lists and dictionaries allows us to write in a syntax very similar to [JSON](https://en.wikipedia.org/wiki/JSON), making JSON a very convenient format for Python."
   ]
  },
  {
   "cell_type": "markdown",
   "metadata": {},
   "source": [
    "## Excercise\n",
    "\n",
    "Create a list of dictionaries and loop through it to print certain values for each dictionary.\n"
   ]
  },
  {
   "cell_type": "code",
   "execution_count": null,
   "metadata": {},
   "outputs": [],
   "source": [
    "\n",
    "\n",
    "\n",
    "\n",
    "\n",
    "\n",
    "\n",
    "\n",
    "\n",
    "\n",
    "\n",
    "\n",
    "\n",
    "\n",
    "\n",
    "\n",
    "\n",
    "\n",
    "\n",
    "\n",
    "\n",
    "\n",
    "\n",
    "\n"
   ]
  },
  {
   "cell_type": "markdown",
   "metadata": {},
   "source": [
    "## Solution"
   ]
  },
  {
   "cell_type": "code",
   "execution_count": 32,
   "metadata": {},
   "outputs": [
    {
     "name": "stdout",
     "output_type": "stream",
     "text": [
      "Stilton: 10\n",
      "Cheddar: 7\n",
      "Wensleydale: 9\n",
      "Brie: 8\n"
     ]
    }
   ],
   "source": [
    "\n",
    "cheeses = [\n",
    "    {\n",
    "        \"name\": \"Stilton\",\n",
    "        \"colour\": \"Blue\",\n",
    "        \"score\": 10\n",
    "    },\n",
    "    {\n",
    "        \"name\": \"Cheddar\",\n",
    "        \"colour\": \"Yellow\",\n",
    "        \"score\": 7\n",
    "    },\n",
    "    {\n",
    "        \"name\": \"Wensleydale\",\n",
    "        \"colour\": \"White\",\n",
    "        \"score\": 9\n",
    "    },\n",
    "    {\n",
    "        \"name\": \"Brie\",\n",
    "        \"colour\": \"White\",\n",
    "        \"score\": 8\n",
    "    }\n",
    "]\n",
    "\n",
    "for cheese in cheeses:\n",
    "    print(\"{}: {}\".format(cheese[\"name\"], cheese[\"score\"]))\n",
    "\n"
   ]
  },
  {
   "cell_type": "markdown",
   "metadata": {},
   "source": [
    "## Dictionary Comprehensions\n",
    "\n",
    "Like lists, we can write one-line dictionary comprehensions."
   ]
  },
  {
   "cell_type": "code",
   "execution_count": 30,
   "metadata": {},
   "outputs": [
    {
     "name": "stdout",
     "output_type": "stream",
     "text": [
      "{0: '0', 1: '1', 2: '2', 3: '3', 4: '4', 5: '5', 6: '6', 7: '7', 8: '8', 9: '9', 10: '10', 11: '11', 12: '12', 13: '13', 14: '14', 15: '15', 16: '16', 17: '17', 18: '18', 19: '19'}\n"
     ]
    }
   ],
   "source": [
    "\n",
    "# Dictionary comprehension example\n",
    "number_to_string = {i: str(i) for i in range(20)}\n",
    "\n",
    "print(number_to_string)\n"
   ]
  },
  {
   "cell_type": "markdown",
   "metadata": {},
   "source": [
    "# Tuples\n",
    "\n",
    "In Python, tuples are similar to lists, but with three key differences:\n",
    "* They are defined with round brackets `()`\n",
    "* They are of fixed length\n",
    "* They are of fixed type(s)"
   ]
  },
  {
   "cell_type": "markdown",
   "metadata": {},
   "source": [
    "## Why do we use Tuples?\n",
    "\n",
    "* They are more performant than lists (if we do not need to use a list)\n",
    "* They are hashable"
   ]
  },
  {
   "cell_type": "markdown",
   "metadata": {},
   "source": [
    "## Question\n",
    "\n",
    "What do we mean by hashable?"
   ]
  },
  {
   "cell_type": "code",
   "execution_count": null,
   "metadata": {},
   "outputs": [],
   "source": [
    "\n",
    "\n",
    "\n",
    "\n",
    "\n",
    "\n",
    "\n",
    "\n",
    "\n",
    "\n",
    "\n"
   ]
  },
  {
   "cell_type": "markdown",
   "metadata": {},
   "source": [
    "## Answer\n",
    "\n",
    "A hash operation is a non-reversable operation, it used by computers to (among other things) help quickly find values. In python, dictionary keys must be hashable.\n",
    "\n",
    "Most data types are hashable, but lists are not as their size is not fixed.\n",
    "\n",
    "Hence, if we want to have a 'composite' key for a dictionary, we must use a tuple and not a list."
   ]
  },
  {
   "cell_type": "code",
   "execution_count": 36,
   "metadata": {},
   "outputs": [
    {
     "ename": "TypeError",
     "evalue": "unhashable type: 'list'",
     "output_type": "error",
     "traceback": [
      "\u001b[1;31m---------------------------------------------------------------------------\u001b[0m",
      "\u001b[1;31mTypeError\u001b[0m                                 Traceback (most recent call last)",
      "\u001b[1;32m<ipython-input-36-5fd41a66228d>\u001b[0m in \u001b[0;36m<module>\u001b[1;34m\u001b[0m\n\u001b[1;32m----> 1\u001b[1;33m example_dict = {\n\u001b[0m\u001b[0;32m      2\u001b[0m     \u001b[1;33m[\u001b[0m\u001b[1;34m\"Best Picture\"\u001b[0m\u001b[1;33m,\u001b[0m \u001b[1;36m2018\u001b[0m\u001b[1;33m]\u001b[0m\u001b[1;33m:\u001b[0m \u001b[1;34m\"Green Book\"\u001b[0m\u001b[1;33m,\u001b[0m\u001b[1;33m\u001b[0m\u001b[1;33m\u001b[0m\u001b[0m\n\u001b[0;32m      3\u001b[0m     \u001b[1;33m[\u001b[0m\u001b[1;34m\"Best Picture\"\u001b[0m\u001b[1;33m,\u001b[0m \u001b[1;36m2019\u001b[0m\u001b[1;33m]\u001b[0m\u001b[1;33m:\u001b[0m \u001b[1;34m\"Parasite\"\u001b[0m\u001b[1;33m,\u001b[0m\u001b[1;33m\u001b[0m\u001b[1;33m\u001b[0m\u001b[0m\n\u001b[0;32m      4\u001b[0m     \u001b[1;33m[\u001b[0m\u001b[1;34m\"Best Picture\"\u001b[0m\u001b[1;33m,\u001b[0m \u001b[1;36m2020\u001b[0m\u001b[1;33m]\u001b[0m\u001b[1;33m:\u001b[0m \u001b[1;34m\"Nomadland\"\u001b[0m\u001b[1;33m,\u001b[0m\u001b[1;33m\u001b[0m\u001b[1;33m\u001b[0m\u001b[0m\n\u001b[0;32m      5\u001b[0m     \u001b[1;33m[\u001b[0m\u001b[1;34m\"Best Score\"\u001b[0m\u001b[1;33m,\u001b[0m \u001b[1;36m2018\u001b[0m\u001b[1;33m]\u001b[0m\u001b[1;33m:\u001b[0m \u001b[1;34m\"Black Panther\"\u001b[0m\u001b[1;33m,\u001b[0m\u001b[1;33m\u001b[0m\u001b[1;33m\u001b[0m\u001b[0m\n",
      "\u001b[1;31mTypeError\u001b[0m: unhashable type: 'list'"
     ]
    }
   ],
   "source": [
    "\n",
    "example_dict = {\n",
    "    [\"Best Picture\", 2018]: \"Green Book\",\n",
    "    [\"Best Picture\", 2019]: \"Parasite\",\n",
    "    [\"Best Picture\", 2020]: \"Nomadland\",\n",
    "    [\"Best Score\", 2018]: \"Black Panther\",\n",
    "    [\"Best Score\", 2019]: \"Joker\",\n",
    "    [\"Best Score\", 2020]: \"Soul\",\n",
    "}\n"
   ]
  },
  {
   "cell_type": "code",
   "execution_count": 37,
   "metadata": {},
   "outputs": [
    {
     "name": "stdout",
     "output_type": "stream",
     "text": [
      "Soul\n"
     ]
    }
   ],
   "source": [
    "\n",
    "example_dict = {\n",
    "    (\"Best Picture\", 2018): \"Green Book\",\n",
    "    (\"Best Picture\", 2019): \"Parasite\",\n",
    "    (\"Best Picture\", 2020): \"Nomadland\",\n",
    "    (\"Best Score\", 2018): \"Black Panther\",\n",
    "    (\"Best Score\", 2019): \"Joker\",\n",
    "    (\"Best Score\", 2020): \"Soul\",\n",
    "}\n",
    "\n",
    "print(example_dict[\"Best Score\", 2020])\n"
   ]
  },
  {
   "cell_type": "markdown",
   "metadata": {},
   "source": [
    "# Unpacking Iterables\n",
    "\n",
    "Iterables can be unpacked into multiple variables, we've actually done this earlier when we looped dictionary values."
   ]
  },
  {
   "cell_type": "code",
   "execution_count": 38,
   "metadata": {},
   "outputs": [
    {
     "name": "stdout",
     "output_type": "stream",
     "text": [
      "name: Stilton\n",
      "colour: Blue\n",
      "score: 10\n",
      "dairies: ['Colston Bassett', 'Cropwell Bishop', 'Hartington']\n"
     ]
    }
   ],
   "source": [
    "\n",
    "for key, value in my_dict.items():\n",
    "    print(\"{}: {}\".format(key, value))\n"
   ]
  },
  {
   "cell_type": "markdown",
   "metadata": {},
   "source": [
    "Is the same principle as:"
   ]
  },
  {
   "cell_type": "code",
   "execution_count": 39,
   "metadata": {},
   "outputs": [
    {
     "name": "stdout",
     "output_type": "stream",
     "text": [
      "A = 1\n",
      "B = 2\n",
      "C = 3\n"
     ]
    }
   ],
   "source": [
    "\n",
    "list_of_tuples = [(\"A\", 1), (\"B\", 2), (\"C\", 3)]\n",
    "\n",
    "for letter, number in list_of_tuples:\n",
    "    print(\"{} = {}\".format(letter, number))\n"
   ]
  },
  {
   "cell_type": "markdown",
   "metadata": {},
   "source": [
    "Or, we can unpack direct to variables"
   ]
  },
  {
   "cell_type": "code",
   "execution_count": 40,
   "metadata": {},
   "outputs": [
    {
     "name": "stdout",
     "output_type": "stream",
     "text": [
      "A = 1\n",
      "B = 2\n",
      "C = 3\n"
     ]
    }
   ],
   "source": [
    "\n",
    "for my_tuple in list_of_tuples:\n",
    "    letter, number = my_tuple\n",
    "    print(\"{} = {}\".format(letter, number))\n",
    "    "
   ]
  },
  {
   "cell_type": "markdown",
   "metadata": {},
   "source": [
    "Or using `*`, directly into functions"
   ]
  },
  {
   "cell_type": "code",
   "execution_count": 42,
   "metadata": {},
   "outputs": [
    {
     "name": "stdout",
     "output_type": "stream",
     "text": [
      "A = 1\n",
      "B = 2\n",
      "C = 3\n"
     ]
    }
   ],
   "source": [
    "for my_tuple in list_of_tuples:\n",
    "    print(\"{} = {}\".format(*my_tuple))"
   ]
  },
  {
   "cell_type": "markdown",
   "metadata": {},
   "source": [
    "Dictionaries can be unpacked into functions too, as named parameters!"
   ]
  },
  {
   "cell_type": "code",
   "execution_count": 43,
   "metadata": {},
   "outputs": [
    {
     "name": "stdout",
     "output_type": "stream",
     "text": [
      "1\n",
      "2\n",
      "crackle\n",
      "4\n",
      "pop\n",
      "crackle\n",
      "7\n",
      "8\n",
      "crackle\n",
      "pop\n",
      "11\n",
      "crackle\n",
      "13\n",
      "14\n",
      "cracklepop\n"
     ]
    }
   ],
   "source": [
    "\n",
    "def fizzbuzz(number, fizz_at=3, buzz_at=5, fizz=\"fizz\", buzz=\"buzz\"):\n",
    "    output = \"\"\n",
    "    \n",
    "    if number % fizz_at == 0:\n",
    "        output += fizz\n",
    "    if number % buzz_at == 0:\n",
    "        output += buzz\n",
    "    \n",
    "    if output == \"\":\n",
    "        print(number)\n",
    "    else:\n",
    "        print(output)\n",
    "\n",
    "\n",
    "config_dict = {\n",
    "    \"fizz\": \"crackle\",\n",
    "    \"buzz\": \"pop\"\n",
    "}\n",
    "        \n",
    "    \n",
    "for i in range(1, 16):\n",
    "    fizzbuzz(i, **config_dict)\n",
    "    "
   ]
  },
  {
   "cell_type": "markdown",
   "metadata": {},
   "source": [
    "## \\*args and **kwargs\n",
    "\n",
    "This unpacking of lists/tuples and dictionaries for functions works in reverse too! It is convention to use variables named `args` and `kwards` to manage this as demonstrated below:\n"
   ]
  },
  {
   "cell_type": "code",
   "execution_count": 45,
   "metadata": {},
   "outputs": [
    {
     "name": "stdout",
     "output_type": "stream",
     "text": [
      "(1, 2, 3, 4)\n"
     ]
    }
   ],
   "source": [
    "\n",
    "def args_to_tuple(*args):\n",
    "    return args\n",
    "\n",
    "\n",
    "print(args_to_tuple(1, 2, 3, 4))\n"
   ]
  },
  {
   "cell_type": "code",
   "execution_count": 46,
   "metadata": {},
   "outputs": [
    {
     "name": "stdout",
     "output_type": "stream",
     "text": [
      "{'a': 1, 'b': 2, 'c': 3}\n"
     ]
    }
   ],
   "source": [
    "\n",
    "def args_to_dict(**kwargs):\n",
    "    return kwargs\n",
    "\n",
    "print(args_to_dict(a=1, b=2, c=3))\n"
   ]
  },
  {
   "cell_type": "markdown",
   "metadata": {},
   "source": [
    "\n",
    "# Sets\n",
    "\n",
    "Sets are collections of unique values. Sets are defined in-line using curly braces, e.g.\n"
   ]
  },
  {
   "cell_type": "code",
   "execution_count": 47,
   "metadata": {},
   "outputs": [],
   "source": [
    "\n",
    "my_set = {1, 2, 3, 4}\n"
   ]
  },
  {
   "cell_type": "markdown",
   "metadata": {},
   "source": [
    "However, it is also common to use the `set` function to create a set from another iterable. e.g."
   ]
  },
  {
   "cell_type": "code",
   "execution_count": 49,
   "metadata": {},
   "outputs": [
    {
     "name": "stdout",
     "output_type": "stream",
     "text": [
      "{1, 2, 3, 4, 5}\n"
     ]
    }
   ],
   "source": [
    "\n",
    "list_with_duplicates = [1, 3, 3, 4, 2, 3, 3, 4, 5, 1]\n",
    "\n",
    "unique_values = set(list_with_duplicates)\n",
    "\n",
    "print(unique_values)\n"
   ]
  },
  {
   "cell_type": "markdown",
   "metadata": {},
   "source": [
    "## Set Operations\n",
    "\n",
    "There are some useful operations unique to sets in python achieved using bitwise operators. ([source](https://www.programiz.com/python-programming/set))\n"
   ]
  },
  {
   "cell_type": "markdown",
   "metadata": {},
   "source": [
    "### Union\n",
    "\n",
    "All unique elements over two sets\n",
    "\n",
    "<img align=\"left\" src=\"https://cdn.programiz.com/sites/tutorial2program/files/set-union.jpg\">"
   ]
  },
  {
   "cell_type": "code",
   "execution_count": 51,
   "metadata": {},
   "outputs": [
    {
     "name": "stdout",
     "output_type": "stream",
     "text": [
      "{1, 2, 3, 4, 5, 6, 7, 8}\n"
     ]
    }
   ],
   "source": [
    "\n",
    "a = {1, 2, 3, 4, 5}\n",
    "b = {4, 5, 6, 7, 8}\n",
    "\n",
    "# Union using the bitwise or operator\n",
    "print(a | b)\n"
   ]
  },
  {
   "cell_type": "markdown",
   "metadata": {},
   "source": [
    "### Intersection\n",
    "\n",
    "Elements common to both sets\n",
    "\n",
    "<img align=\"left\" src=\"https://cdn.programiz.com/sites/tutorial2program/files/set-intersection.jpg\">\n",
    "\n"
   ]
  },
  {
   "cell_type": "code",
   "execution_count": 52,
   "metadata": {},
   "outputs": [
    {
     "name": "stdout",
     "output_type": "stream",
     "text": [
      "{4, 5}\n"
     ]
    }
   ],
   "source": [
    "\n",
    "a = {1, 2, 3, 4, 5}\n",
    "b = {4, 5, 6, 7, 8}\n",
    "\n",
    "# Intersection using the bitwise and operator\n",
    "print(a & b)\n"
   ]
  },
  {
   "cell_type": "markdown",
   "metadata": {},
   "source": [
    "### Difference\n",
    "\n",
    "Elements unique to one set only\n",
    "\n",
    "<img align=\"left\" src=\"https://cdn.programiz.com/sites/tutorial2program/files/set-difference.jpg\">\n"
   ]
  },
  {
   "cell_type": "code",
   "execution_count": 53,
   "metadata": {},
   "outputs": [
    {
     "name": "stdout",
     "output_type": "stream",
     "text": [
      "{1, 2, 3}\n"
     ]
    }
   ],
   "source": [
    "\n",
    "a = {1, 2, 3, 4, 5}\n",
    "b = {4, 5, 6, 7, 8}\n",
    "\n",
    "# Difference using the minus operator\n",
    "print(a - b)\n"
   ]
  },
  {
   "cell_type": "markdown",
   "metadata": {},
   "source": [
    "### Set Symmetric Difference\n",
    "\n",
    "Elements which appear in one set only\n",
    "\n",
    "<img align=\"left\" src=\"https://cdn.programiz.com/sites/tutorial2program/files/set-symmetric-difference.jpg\">\n"
   ]
  },
  {
   "cell_type": "code",
   "execution_count": 54,
   "metadata": {},
   "outputs": [
    {
     "name": "stdout",
     "output_type": "stream",
     "text": [
      "{1, 2, 3, 6, 7, 8}\n"
     ]
    }
   ],
   "source": [
    "\n",
    "a = {1, 2, 3, 4, 5}\n",
    "b = {4, 5, 6, 7, 8}\n",
    "\n",
    "# Symmetric difference using the bitwise xor operator\n",
    "print(a ^ b)\n"
   ]
  },
  {
   "cell_type": "markdown",
   "metadata": {},
   "source": [
    "# Generators\n",
    "\n",
    "Generators allow us to create our own iterable functions.\n",
    "\n",
    "Where normally functions return values using the `return` command, generators use the `yield` command.\n",
    "\n",
    "For example"
   ]
  },
  {
   "cell_type": "code",
   "execution_count": 55,
   "metadata": {},
   "outputs": [
    {
     "name": "stdout",
     "output_type": "stream",
     "text": [
      "1\n",
      "2\n",
      "3\n",
      "5\n",
      "8\n",
      "13\n",
      "21\n",
      "34\n",
      "55\n",
      "89\n",
      "144\n"
     ]
    }
   ],
   "source": [
    "\n",
    "def fibonacci(limit=100):\n",
    "    prev = 0\n",
    "    curr = 1\n",
    "    while curr < limit:\n",
    "        new = prev + curr\n",
    "        yield new\n",
    "        prev = curr\n",
    "        curr = new\n",
    "        \n",
    "for i in fibonacci():\n",
    "    print(i)\n"
   ]
  },
  {
   "cell_type": "markdown",
   "metadata": {},
   "source": [
    "\n",
    "The benefit of using a generator is that we don't need to pre-calculate each value to iterate over, rather we generate them as we go.\n",
    "\n",
    "We can also define our own generator classes, [read more here](https://wiki.python.org/moin/Generators).\n"
   ]
  },
  {
   "cell_type": "markdown",
   "metadata": {},
   "source": [
    "# Exercise\n",
    "\n",
    "Calculate, which numbers less than one billion are both factorials and on the fibonacci sequence."
   ]
  },
  {
   "cell_type": "code",
   "execution_count": null,
   "metadata": {},
   "outputs": [],
   "source": [
    "\n",
    "\n",
    "\n",
    "\n",
    "\n",
    "\n",
    "\n",
    "\n",
    "\n",
    "\n",
    "\n",
    "\n",
    "\n",
    "\n",
    "\n",
    "\n",
    "\n",
    "\n",
    "\n",
    "\n",
    "\n",
    "\n",
    "\n",
    "\n",
    "\n",
    "\n",
    "\n",
    "\n",
    "\n",
    "\n",
    "\n",
    "\n",
    "\n",
    "\n",
    "\n"
   ]
  },
  {
   "cell_type": "markdown",
   "metadata": {},
   "source": [
    "# Solution"
   ]
  },
  {
   "cell_type": "code",
   "execution_count": 73,
   "metadata": {},
   "outputs": [
    {
     "name": "stdout",
     "output_type": "stream",
     "text": [
      "{1, 2}\n"
     ]
    }
   ],
   "source": [
    "\n",
    "# Our function from earlier for fibonacci numbers\n",
    "def fibonacci(limit=100):\n",
    "    prev = 0\n",
    "    curr = 1\n",
    "    while curr < limit:\n",
    "        new = prev + curr\n",
    "        yield new\n",
    "        prev = curr\n",
    "        curr = new\n",
    "        \n",
    "# Create a function for factorials\n",
    "def factorials(limit=100):\n",
    "    n = 1\n",
    "    f = 1\n",
    "    while f < limit:\n",
    "        f *= n\n",
    "        n += 1\n",
    "        yield f\n",
    "\n",
    "# A limit variable of one billion\n",
    "test_limit = 1_000_000_000\n",
    "\n",
    "# Use list comprehensions to create lists of fibonacci and factorial numbers\n",
    "a = [i for i in fibonacci(test_limit)]\n",
    "b = [i for i in factorials(test_limit)]\n",
    "\n",
    "# A set intersection to find numbers common to both lists\n",
    "print(set(a) & set(b))\n"
   ]
  },
  {
   "cell_type": "markdown",
   "metadata": {},
   "source": [
    "# Recap\n",
    "\n",
    "Today we have learnt about lists, dictionaries, tuples and sets. And how to use them."
   ]
  },
  {
   "cell_type": "markdown",
   "metadata": {},
   "source": [
    "# Homework\n",
    "\n",
    "For a series of integers, produce a list of dictionaries detailing various properties, such as: are they odd or even, what series do they appear on (fibonacci, factorials, squares) etc.\n"
   ]
  },
  {
   "cell_type": "code",
   "execution_count": null,
   "metadata": {},
   "outputs": [],
   "source": []
  }
 ],
 "metadata": {
  "kernelspec": {
   "display_name": "Python 3",
   "language": "python",
   "name": "python3"
  },
  "language_info": {
   "codemirror_mode": {
    "name": "ipython",
    "version": 3
   },
   "file_extension": ".py",
   "mimetype": "text/x-python",
   "name": "python",
   "nbconvert_exporter": "python",
   "pygments_lexer": "ipython3",
   "version": "3.8.5"
  }
 },
 "nbformat": 4,
 "nbformat_minor": 4
}
